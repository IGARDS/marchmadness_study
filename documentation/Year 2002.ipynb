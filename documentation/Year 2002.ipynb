{
 "cells": [
  {
   "cell_type": "code",
   "execution_count": 1,
   "metadata": {},
   "outputs": [],
   "source": [
    "%load_ext autoreload\n",
    "%autoreload 2\n",
    "%matplotlib inline"
   ]
  },
  {
   "cell_type": "code",
   "execution_count": 2,
   "metadata": {},
   "outputs": [],
   "source": [
    "import copy\n",
    "import os\n",
    "import itertools"
   ]
  },
  {
   "cell_type": "code",
   "execution_count": 3,
   "metadata": {},
   "outputs": [],
   "source": [
    "import pandas as pd\n",
    "import numpy as np\n",
    "import networkx as nx\n",
    "from scipy.stats import pearsonr\n",
    "from scipy.stats import skew\n",
    "from tqdm import tqdm\n",
    "import matplotlib.pyplot as plt\n",
    "from joblib import Parallel, delayed\n",
    "from IPython.display import display, Markdown, Latex\n",
    "import joblib"
   ]
  },
  {
   "cell_type": "code",
   "execution_count": 5,
   "metadata": {},
   "outputs": [],
   "source": [
    "from pathlib import Path\n",
    "home = str(Path.home())"
   ]
  },
  {
   "cell_type": "code",
   "execution_count": 6,
   "metadata": {},
   "outputs": [],
   "source": [
    "import sys\n",
    "sys.path.insert(0,\"%s/rankability_toolbox_dev\"%home)\n",
    "import pyrankability"
   ]
  },
  {
   "cell_type": "code",
   "execution_count": 8,
   "metadata": {},
   "outputs": [],
   "source": [
    "sys.path.insert(0,\"%s/marchmadness_study\"%home)\n",
    "import base"
   ]
  },
  {
   "cell_type": "code",
   "execution_count": 10,
   "metadata": {},
   "outputs": [
    {
     "name": "stdout",
     "output_type": "stream",
     "text": [
      "2018\n"
     ]
    },
    {
     "data": {
      "text/html": [
       "<div>\n",
       "<style scoped>\n",
       "    .dataframe tbody tr th:only-of-type {\n",
       "        vertical-align: middle;\n",
       "    }\n",
       "\n",
       "    .dataframe tbody tr th {\n",
       "        vertical-align: top;\n",
       "    }\n",
       "\n",
       "    .dataframe thead th {\n",
       "        text-align: right;\n",
       "    }\n",
       "</style>\n",
       "<table border=\"1\" class=\"dataframe\">\n",
       "  <thead>\n",
       "    <tr style=\"text-align: right;\">\n",
       "      <th></th>\n",
       "      <th>team2</th>\n",
       "      <th>team1</th>\n",
       "      <th>notsure1</th>\n",
       "      <th>date</th>\n",
       "      <th>H_A_N1</th>\n",
       "      <th>points1</th>\n",
       "      <th>H_A_N2</th>\n",
       "      <th>points2</th>\n",
       "      <th>team1_name</th>\n",
       "      <th>team2_name</th>\n",
       "      <th>team1_madness</th>\n",
       "      <th>team2_madness</th>\n",
       "    </tr>\n",
       "  </thead>\n",
       "  <tbody>\n",
       "    <tr>\n",
       "      <th>0</th>\n",
       "      <td>1</td>\n",
       "      <td>16</td>\n",
       "      <td>737011</td>\n",
       "      <td>2017-11-13</td>\n",
       "      <td>1</td>\n",
       "      <td>83</td>\n",
       "      <td>-1</td>\n",
       "      <td>69</td>\n",
       "      <td>Arkansas_St</td>\n",
       "      <td>Abilene_Chr</td>\n",
       "      <td>0</td>\n",
       "      <td>0</td>\n",
       "    </tr>\n",
       "    <tr>\n",
       "      <th>1</th>\n",
       "      <td>1</td>\n",
       "      <td>41</td>\n",
       "      <td>737114</td>\n",
       "      <td>2018-02-24</td>\n",
       "      <td>-1</td>\n",
       "      <td>74</td>\n",
       "      <td>1</td>\n",
       "      <td>72</td>\n",
       "      <td>Cent_Arkansas</td>\n",
       "      <td>Abilene_Chr</td>\n",
       "      <td>0</td>\n",
       "      <td>0</td>\n",
       "    </tr>\n",
       "    <tr>\n",
       "      <th>3</th>\n",
       "      <td>1</td>\n",
       "      <td>143</td>\n",
       "      <td>737018</td>\n",
       "      <td>2017-11-20</td>\n",
       "      <td>-1</td>\n",
       "      <td>75</td>\n",
       "      <td>1</td>\n",
       "      <td>67</td>\n",
       "      <td>Lipscomb</td>\n",
       "      <td>Abilene_Chr</td>\n",
       "      <td>1</td>\n",
       "      <td>0</td>\n",
       "    </tr>\n",
       "    <tr>\n",
       "      <th>4</th>\n",
       "      <td>1</td>\n",
       "      <td>143</td>\n",
       "      <td>737045</td>\n",
       "      <td>2017-12-17</td>\n",
       "      <td>1</td>\n",
       "      <td>67</td>\n",
       "      <td>-1</td>\n",
       "      <td>65</td>\n",
       "      <td>Lipscomb</td>\n",
       "      <td>Abilene_Chr</td>\n",
       "      <td>1</td>\n",
       "      <td>0</td>\n",
       "    </tr>\n",
       "    <tr>\n",
       "      <th>5</th>\n",
       "      <td>1</td>\n",
       "      <td>199</td>\n",
       "      <td>737056</td>\n",
       "      <td>2017-12-28</td>\n",
       "      <td>1</td>\n",
       "      <td>77</td>\n",
       "      <td>-1</td>\n",
       "      <td>74</td>\n",
       "      <td>New_Orleans</td>\n",
       "      <td>Abilene_Chr</td>\n",
       "      <td>0</td>\n",
       "      <td>0</td>\n",
       "    </tr>\n",
       "    <tr>\n",
       "      <th>...</th>\n",
       "      <td>...</td>\n",
       "      <td>...</td>\n",
       "      <td>...</td>\n",
       "      <td>...</td>\n",
       "      <td>...</td>\n",
       "      <td>...</td>\n",
       "      <td>...</td>\n",
       "      <td>...</td>\n",
       "      <td>...</td>\n",
       "      <td>...</td>\n",
       "      <td>...</td>\n",
       "      <td>...</td>\n",
       "    </tr>\n",
       "    <tr>\n",
       "      <th>5535</th>\n",
       "      <td>351</td>\n",
       "      <td>318</td>\n",
       "      <td>737048</td>\n",
       "      <td>2017-12-20</td>\n",
       "      <td>1</td>\n",
       "      <td>91</td>\n",
       "      <td>-1</td>\n",
       "      <td>74</td>\n",
       "      <td>Utah_St</td>\n",
       "      <td>Youngstown_St</td>\n",
       "      <td>0</td>\n",
       "      <td>0</td>\n",
       "    </tr>\n",
       "    <tr>\n",
       "      <th>5536</th>\n",
       "      <td>351</td>\n",
       "      <td>339</td>\n",
       "      <td>737086</td>\n",
       "      <td>2018-01-27</td>\n",
       "      <td>1</td>\n",
       "      <td>85</td>\n",
       "      <td>-1</td>\n",
       "      <td>67</td>\n",
       "      <td>WI_Green_Bay</td>\n",
       "      <td>Youngstown_St</td>\n",
       "      <td>0</td>\n",
       "      <td>0</td>\n",
       "    </tr>\n",
       "    <tr>\n",
       "      <th>5537</th>\n",
       "      <td>351</td>\n",
       "      <td>340</td>\n",
       "      <td>737084</td>\n",
       "      <td>2018-01-25</td>\n",
       "      <td>1</td>\n",
       "      <td>66</td>\n",
       "      <td>-1</td>\n",
       "      <td>55</td>\n",
       "      <td>WI_Milwaukee</td>\n",
       "      <td>Youngstown_St</td>\n",
       "      <td>0</td>\n",
       "      <td>0</td>\n",
       "    </tr>\n",
       "    <tr>\n",
       "      <th>5538</th>\n",
       "      <td>351</td>\n",
       "      <td>347</td>\n",
       "      <td>737074</td>\n",
       "      <td>2018-01-15</td>\n",
       "      <td>1</td>\n",
       "      <td>77</td>\n",
       "      <td>-1</td>\n",
       "      <td>67</td>\n",
       "      <td>Wright_St</td>\n",
       "      <td>Youngstown_St</td>\n",
       "      <td>1</td>\n",
       "      <td>0</td>\n",
       "    </tr>\n",
       "    <tr>\n",
       "      <th>5539</th>\n",
       "      <td>351</td>\n",
       "      <td>347</td>\n",
       "      <td>737093</td>\n",
       "      <td>2018-02-03</td>\n",
       "      <td>-1</td>\n",
       "      <td>83</td>\n",
       "      <td>1</td>\n",
       "      <td>57</td>\n",
       "      <td>Wright_St</td>\n",
       "      <td>Youngstown_St</td>\n",
       "      <td>1</td>\n",
       "      <td>0</td>\n",
       "    </tr>\n",
       "  </tbody>\n",
       "</table>\n",
       "<p>5210 rows × 12 columns</p>\n",
       "</div>"
      ],
      "text/plain": [
       "      team2  team1  notsure1       date  H_A_N1  points1  H_A_N2  points2  \\\n",
       "0         1     16    737011 2017-11-13       1       83      -1       69   \n",
       "1         1     41    737114 2018-02-24      -1       74       1       72   \n",
       "3         1    143    737018 2017-11-20      -1       75       1       67   \n",
       "4         1    143    737045 2017-12-17       1       67      -1       65   \n",
       "5         1    199    737056 2017-12-28       1       77      -1       74   \n",
       "...     ...    ...       ...        ...     ...      ...     ...      ...   \n",
       "5535    351    318    737048 2017-12-20       1       91      -1       74   \n",
       "5536    351    339    737086 2018-01-27       1       85      -1       67   \n",
       "5537    351    340    737084 2018-01-25       1       66      -1       55   \n",
       "5538    351    347    737074 2018-01-15       1       77      -1       67   \n",
       "5539    351    347    737093 2018-02-03      -1       83       1       57   \n",
       "\n",
       "         team1_name     team2_name  team1_madness  team2_madness  \n",
       "0       Arkansas_St    Abilene_Chr              0              0  \n",
       "1     Cent_Arkansas    Abilene_Chr              0              0  \n",
       "3          Lipscomb    Abilene_Chr              1              0  \n",
       "4          Lipscomb    Abilene_Chr              1              0  \n",
       "5       New_Orleans    Abilene_Chr              0              0  \n",
       "...             ...            ...            ...            ...  \n",
       "5535        Utah_St  Youngstown_St              0              0  \n",
       "5536   WI_Green_Bay  Youngstown_St              0              0  \n",
       "5537   WI_Milwaukee  Youngstown_St              0              0  \n",
       "5538      Wright_St  Youngstown_St              1              0  \n",
       "5539      Wright_St  Youngstown_St              1              0  \n",
       "\n",
       "[5210 rows x 12 columns]"
      ]
     },
     "execution_count": 10,
     "metadata": {},
     "output_type": "execute_result"
    }
   ],
   "source": [
    "games={}\n",
    "remaining_games={}\n",
    "madness_teams={}\n",
    "all_teams={}\n",
    "years = [\"2002\",\"2003\",\"2004\",\"2005\",\"2006\",\"2007\",\"2008\",\"2009\",\"2010\",\"2011\",\"2012\",\"2013\",\"2014\",\"2015\",\"2016\",\"2017\",\"2018\"]\n",
    "for year in years:\n",
    "    games[year],remaining_games[year] = base.read_data('../data/%steams.txt'%year,'../data/%sgames.txt'%year,'../data/%sMadnessTeams.txt'%year)\n",
    "    madness_teams[year] = list(np.unique(list(games[year].team1_name.loc[games[year].team1_madness == 1]) + list(games[year].team2_name.loc[games[year].team2_madness == 1])))\n",
    "    all_teams[year] = list(np.unique(list(games[year].team1_name) + list(games[year].team2_name)))\n",
    "print(year)\n",
    "games[year]"
   ]
  },
  {
   "cell_type": "code",
   "execution_count": 11,
   "metadata": {},
   "outputs": [],
   "source": [
    "year = '2002'"
   ]
  },
  {
   "cell_type": "markdown",
   "metadata": {},
   "source": [
    "## Run Colley without weighting or ties or subsets"
   ]
  },
  {
   "cell_type": "code",
   "execution_count": 62,
   "metadata": {},
   "outputs": [],
   "source": [
    "game_df = pd.DataFrame({\"team1_name\":games[year]['team1_name'],\n",
    "                        \"team1_score\":games[year]['points1'],\n",
    "                        \"team1_H_A_N\": games[year]['H_A_N1'],\n",
    "                        \"team2_name\":games[year]['team2_name'],\n",
    "                        \"team2_score\":games[year]['points2'],\n",
    "                        \"team2_H_A_N\": games[year]['H_A_N1'],\n",
    "                        \"date\": games[year]['date']\n",
    "                       }).sort_values(by='date').drop('date',axis=1)\n",
    "\n",
    "map_func = lambda linked: pyrankability.construct.colley_matrices(linked,direct_thres=0,weight_indirect=0)\n",
    "colley_matrix,colley_b = pyrankability.construct.map_vectorized(game_df,map_func)\n",
    "colley_ranking,colley_r,colley_perm = pyrankability.rank.ranking_from_matrices(colley_matrix.fillna(0),colley_b.fillna(0))"
   ]
  },
  {
   "cell_type": "code",
   "execution_count": 63,
   "metadata": {},
   "outputs": [
    {
     "data": {
      "text/plain": [
       "team2\n",
       "Kansas              1\n",
       "Maryland            2\n",
       "Duke                3\n",
       "Cincinnati          4\n",
       "Oklahoma            5\n",
       "                 ... \n",
       "Chicago_St        323\n",
       "Ark_Pine_Bluff    324\n",
       "Liberty           325\n",
       "Mt_St_Mary's      326\n",
       "Morgan_St         327\n",
       "Length: 327, dtype: int64"
      ]
     },
     "execution_count": 63,
     "metadata": {},
     "output_type": "execute_result"
    }
   ],
   "source": [
    "colley_ranking.sort_values()"
   ]
  },
  {
   "cell_type": "code",
   "execution_count": 65,
   "metadata": {},
   "outputs": [
    {
     "data": {
      "text/plain": [
       "team2\n",
       "Kansas            0.548560\n",
       "Maryland          0.528899\n",
       "Duke              0.527267\n",
       "Cincinnati        0.498952\n",
       "Oklahoma          0.471128\n",
       "                    ...   \n",
       "Chicago_St       -0.471356\n",
       "Ark_Pine_Bluff   -0.478928\n",
       "Liberty          -0.479375\n",
       "Mt_St_Mary's     -0.484756\n",
       "Morgan_St        -0.492434\n",
       "Length: 327, dtype: float64"
      ]
     },
     "execution_count": 65,
     "metadata": {},
     "output_type": "execute_result"
    }
   ],
   "source": [
    "colley_r.sort_values(ascending=False)"
   ]
  },
  {
   "cell_type": "code",
   "execution_count": 66,
   "metadata": {},
   "outputs": [
    {
     "data": {
      "text/plain": [
       "Index(['Kansas', 'Maryland', 'Duke', 'Cincinnati', 'Oklahoma', 'Alabama',\n",
       "       'Illinois', 'Arizona', 'Kentucky', 'Florida',\n",
       "       ...\n",
       "       'Loyola_MD', 'Coppin_St', 'Nicholls_St', 'F_Dickinson', 'Savannah_St',\n",
       "       'Chicago_St', 'Ark_Pine_Bluff', 'Liberty', 'Mt_St_Mary's', 'Morgan_St'],\n",
       "      dtype='object', name='team2', length=327)"
      ]
     },
     "execution_count": 66,
     "metadata": {},
     "output_type": "execute_result"
    }
   ],
   "source": [
    "colley_matrix.columns[colley_perm]"
   ]
  },
  {
   "cell_type": "markdown",
   "metadata": {},
   "source": [
    "## Run Massey without weighting or ties or subsets"
   ]
  },
  {
   "cell_type": "code",
   "execution_count": 70,
   "metadata": {},
   "outputs": [],
   "source": [
    "game_df = pd.DataFrame({\"team1_name\":games[year]['team1_name'],\n",
    "                        \"team1_score\":games[year]['points1'],\n",
    "                        \"team1_H_A_N\": games[year]['H_A_N1'],\n",
    "                        \"team2_name\":games[year]['team2_name'],\n",
    "                        \"team2_score\":games[year]['points2'],\n",
    "                        \"team2_H_A_N\": games[year]['H_A_N1'],\n",
    "                        \"date\": games[year]['date']\n",
    "                       }).sort_values(by='date').drop('date',axis=1)\n",
    "\n",
    "map_func = lambda linked: pyrankability.construct.massey_matrices(linked,direct_thres=0,weight_indirect=0)\n",
    "massey_matrix,massey_b = pyrankability.construct.map_vectorized(game_df,map_func)\n",
    "massey_ranking,massey_r,massey_perm = pyrankability.rank.ranking_from_matrices(massey_matrix.fillna(0),massey_b.fillna(0))"
   ]
  },
  {
   "cell_type": "code",
   "execution_count": 71,
   "metadata": {},
   "outputs": [
    {
     "data": {
      "text/plain": [
       "team2\n",
       "Duke                1\n",
       "Cincinnati          2\n",
       "Florida             3\n",
       "Kansas              4\n",
       "Maryland            5\n",
       "                 ... \n",
       "Mt_St_Mary's      323\n",
       "Nicholls_St       324\n",
       "Morris_Brown      325\n",
       "Ark_Pine_Bluff    326\n",
       "Savannah_St       327\n",
       "Length: 327, dtype: int64"
      ]
     },
     "execution_count": 71,
     "metadata": {},
     "output_type": "execute_result"
    }
   ],
   "source": [
    "massey_ranking.sort_values()"
   ]
  },
  {
   "cell_type": "code",
   "execution_count": 74,
   "metadata": {},
   "outputs": [
    {
     "data": {
      "text/plain": [
       "team2\n",
       "Duke              29.711781\n",
       "Cincinnati        24.998968\n",
       "Florida           24.484710\n",
       "Kansas            23.884695\n",
       "Maryland          23.487082\n",
       "                    ...    \n",
       "Mt_St_Mary's     -23.105544\n",
       "Nicholls_St      -23.345540\n",
       "Morris_Brown     -25.058776\n",
       "Ark_Pine_Bluff   -26.374816\n",
       "Savannah_St      -26.851603\n",
       "Length: 327, dtype: float64"
      ]
     },
     "execution_count": 74,
     "metadata": {},
     "output_type": "execute_result"
    }
   ],
   "source": [
    "massey_r.sort_values(ascending=False)"
   ]
  },
  {
   "cell_type": "code",
   "execution_count": 76,
   "metadata": {},
   "outputs": [
    {
     "data": {
      "text/plain": [
       "Index(['Duke', 'Cincinnati', 'Florida', 'Kansas', 'Maryland', 'Oregon',\n",
       "       'Oklahoma', 'Kentucky', 'Stanford', 'Indiana',\n",
       "       ...\n",
       "       'Chicago_St', 'Liberty', 'Southern_Univ', 'Prairie_View', 'Long_Island',\n",
       "       'Mt_St_Mary's', 'Nicholls_St', 'Morris_Brown', 'Ark_Pine_Bluff',\n",
       "       'Savannah_St'],\n",
       "      dtype='object', name='team2', length=327)"
      ]
     },
     "execution_count": 76,
     "metadata": {},
     "output_type": "execute_result"
    }
   ],
   "source": [
    "massey_matrix.columns[massey_perm]"
   ]
  },
  {
   "cell_type": "code",
   "execution_count": null,
   "metadata": {},
   "outputs": [],
   "source": []
  }
 ],
 "metadata": {
  "kernelspec": {
   "display_name": "Python 3",
   "language": "python",
   "name": "python3"
  },
  "language_info": {
   "codemirror_mode": {
    "name": "ipython",
    "version": 3
   },
   "file_extension": ".py",
   "mimetype": "text/x-python",
   "name": "python",
   "nbconvert_exporter": "python",
   "pygments_lexer": "ipython3",
   "version": "3.7.3"
  }
 },
 "nbformat": 4,
 "nbformat_minor": 4
}
