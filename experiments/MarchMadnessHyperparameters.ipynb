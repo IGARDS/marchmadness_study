{
 "cells": [
  {
   "cell_type": "markdown",
   "metadata": {},
   "source": [
    "# Rankability\n",
    "## March Madness Dataset"
   ]
  },
  {
   "cell_type": "code",
   "execution_count": 79,
   "metadata": {},
   "outputs": [
    {
     "name": "stdout",
     "output_type": "stream",
     "text": [
      "The autoreload extension is already loaded. To reload it, use:\n",
      "  %reload_ext autoreload\n"
     ]
    }
   ],
   "source": [
    "%load_ext autoreload\n",
    "%autoreload 2\n",
    "%matplotlib inline"
   ]
  },
  {
   "cell_type": "code",
   "execution_count": 381,
   "metadata": {},
   "outputs": [],
   "source": [
    "import copy\n",
    "import os\n",
    "import pandas as pd\n",
    "import numpy as np\n",
    "import networkx as nx\n",
    "from scipy.stats import pearsonr\n",
    "from scipy.stats import skew\n",
    "from tqdm import tqdm\n",
    "import matplotlib.pyplot as plt\n",
    "from joblib import Parallel, delayed\n",
    "from IPython.display import display, Markdown, Latex\n",
    "\n",
    "import itertools\n",
    "import joblib"
   ]
  },
  {
   "cell_type": "code",
   "execution_count": 81,
   "metadata": {},
   "outputs": [
    {
     "data": {
      "text/plain": [
       "'/disk/home/amy'"
      ]
     },
     "execution_count": 81,
     "metadata": {},
     "output_type": "execute_result"
    }
   ],
   "source": [
    "from pathlib import Path\n",
    "home = str(Path.home())\n",
    "home"
   ]
  },
  {
   "cell_type": "code",
   "execution_count": 82,
   "metadata": {},
   "outputs": [],
   "source": [
    "import sys\n",
    "sys.path.insert(0,\"%s/rankability_toolbox_dev\"%home)\n",
    "import pyrankability"
   ]
  },
  {
   "cell_type": "code",
   "execution_count": 83,
   "metadata": {},
   "outputs": [],
   "source": [
    "sys.path.insert(0,\"%s/sensitivity_study/src\"%home)\n",
    "from sensitivity_tests import *\n",
    "from utilities import *\n",
    "from base import *"
   ]
  },
  {
   "cell_type": "code",
   "execution_count": 84,
   "metadata": {},
   "outputs": [
    {
     "name": "stdout",
     "output_type": "stream",
     "text": [
      "2018\n"
     ]
    },
    {
     "data": {
      "text/html": [
       "<div>\n",
       "<style scoped>\n",
       "    .dataframe tbody tr th:only-of-type {\n",
       "        vertical-align: middle;\n",
       "    }\n",
       "\n",
       "    .dataframe tbody tr th {\n",
       "        vertical-align: top;\n",
       "    }\n",
       "\n",
       "    .dataframe thead th {\n",
       "        text-align: right;\n",
       "    }\n",
       "</style>\n",
       "<table border=\"1\" class=\"dataframe\">\n",
       "  <thead>\n",
       "    <tr style=\"text-align: right;\">\n",
       "      <th></th>\n",
       "      <th>team2</th>\n",
       "      <th>team1</th>\n",
       "      <th>notsure1</th>\n",
       "      <th>date</th>\n",
       "      <th>H_A_N1</th>\n",
       "      <th>points1</th>\n",
       "      <th>H_A_N2</th>\n",
       "      <th>points2</th>\n",
       "      <th>team1_name</th>\n",
       "      <th>team2_name</th>\n",
       "      <th>team1_madness</th>\n",
       "      <th>team2_madness</th>\n",
       "    </tr>\n",
       "  </thead>\n",
       "  <tbody>\n",
       "    <tr>\n",
       "      <th>0</th>\n",
       "      <td>1</td>\n",
       "      <td>16</td>\n",
       "      <td>737011</td>\n",
       "      <td>2017-11-13</td>\n",
       "      <td>1</td>\n",
       "      <td>83</td>\n",
       "      <td>-1</td>\n",
       "      <td>69</td>\n",
       "      <td>Arkansas_St</td>\n",
       "      <td>Abilene_Chr</td>\n",
       "      <td>0</td>\n",
       "      <td>0</td>\n",
       "    </tr>\n",
       "    <tr>\n",
       "      <th>1</th>\n",
       "      <td>1</td>\n",
       "      <td>41</td>\n",
       "      <td>737114</td>\n",
       "      <td>2018-02-24</td>\n",
       "      <td>-1</td>\n",
       "      <td>74</td>\n",
       "      <td>1</td>\n",
       "      <td>72</td>\n",
       "      <td>Cent_Arkansas</td>\n",
       "      <td>Abilene_Chr</td>\n",
       "      <td>0</td>\n",
       "      <td>0</td>\n",
       "    </tr>\n",
       "    <tr>\n",
       "      <th>3</th>\n",
       "      <td>1</td>\n",
       "      <td>143</td>\n",
       "      <td>737018</td>\n",
       "      <td>2017-11-20</td>\n",
       "      <td>-1</td>\n",
       "      <td>75</td>\n",
       "      <td>1</td>\n",
       "      <td>67</td>\n",
       "      <td>Lipscomb</td>\n",
       "      <td>Abilene_Chr</td>\n",
       "      <td>1</td>\n",
       "      <td>0</td>\n",
       "    </tr>\n",
       "    <tr>\n",
       "      <th>4</th>\n",
       "      <td>1</td>\n",
       "      <td>143</td>\n",
       "      <td>737045</td>\n",
       "      <td>2017-12-17</td>\n",
       "      <td>1</td>\n",
       "      <td>67</td>\n",
       "      <td>-1</td>\n",
       "      <td>65</td>\n",
       "      <td>Lipscomb</td>\n",
       "      <td>Abilene_Chr</td>\n",
       "      <td>1</td>\n",
       "      <td>0</td>\n",
       "    </tr>\n",
       "    <tr>\n",
       "      <th>5</th>\n",
       "      <td>1</td>\n",
       "      <td>199</td>\n",
       "      <td>737056</td>\n",
       "      <td>2017-12-28</td>\n",
       "      <td>1</td>\n",
       "      <td>77</td>\n",
       "      <td>-1</td>\n",
       "      <td>74</td>\n",
       "      <td>New_Orleans</td>\n",
       "      <td>Abilene_Chr</td>\n",
       "      <td>0</td>\n",
       "      <td>0</td>\n",
       "    </tr>\n",
       "    <tr>\n",
       "      <th>...</th>\n",
       "      <td>...</td>\n",
       "      <td>...</td>\n",
       "      <td>...</td>\n",
       "      <td>...</td>\n",
       "      <td>...</td>\n",
       "      <td>...</td>\n",
       "      <td>...</td>\n",
       "      <td>...</td>\n",
       "      <td>...</td>\n",
       "      <td>...</td>\n",
       "      <td>...</td>\n",
       "      <td>...</td>\n",
       "    </tr>\n",
       "    <tr>\n",
       "      <th>5535</th>\n",
       "      <td>351</td>\n",
       "      <td>318</td>\n",
       "      <td>737048</td>\n",
       "      <td>2017-12-20</td>\n",
       "      <td>1</td>\n",
       "      <td>91</td>\n",
       "      <td>-1</td>\n",
       "      <td>74</td>\n",
       "      <td>Utah_St</td>\n",
       "      <td>Youngstown_St</td>\n",
       "      <td>0</td>\n",
       "      <td>0</td>\n",
       "    </tr>\n",
       "    <tr>\n",
       "      <th>5536</th>\n",
       "      <td>351</td>\n",
       "      <td>339</td>\n",
       "      <td>737086</td>\n",
       "      <td>2018-01-27</td>\n",
       "      <td>1</td>\n",
       "      <td>85</td>\n",
       "      <td>-1</td>\n",
       "      <td>67</td>\n",
       "      <td>WI_Green_Bay</td>\n",
       "      <td>Youngstown_St</td>\n",
       "      <td>0</td>\n",
       "      <td>0</td>\n",
       "    </tr>\n",
       "    <tr>\n",
       "      <th>5537</th>\n",
       "      <td>351</td>\n",
       "      <td>340</td>\n",
       "      <td>737084</td>\n",
       "      <td>2018-01-25</td>\n",
       "      <td>1</td>\n",
       "      <td>66</td>\n",
       "      <td>-1</td>\n",
       "      <td>55</td>\n",
       "      <td>WI_Milwaukee</td>\n",
       "      <td>Youngstown_St</td>\n",
       "      <td>0</td>\n",
       "      <td>0</td>\n",
       "    </tr>\n",
       "    <tr>\n",
       "      <th>5538</th>\n",
       "      <td>351</td>\n",
       "      <td>347</td>\n",
       "      <td>737074</td>\n",
       "      <td>2018-01-15</td>\n",
       "      <td>1</td>\n",
       "      <td>77</td>\n",
       "      <td>-1</td>\n",
       "      <td>67</td>\n",
       "      <td>Wright_St</td>\n",
       "      <td>Youngstown_St</td>\n",
       "      <td>1</td>\n",
       "      <td>0</td>\n",
       "    </tr>\n",
       "    <tr>\n",
       "      <th>5539</th>\n",
       "      <td>351</td>\n",
       "      <td>347</td>\n",
       "      <td>737093</td>\n",
       "      <td>2018-02-03</td>\n",
       "      <td>-1</td>\n",
       "      <td>83</td>\n",
       "      <td>1</td>\n",
       "      <td>57</td>\n",
       "      <td>Wright_St</td>\n",
       "      <td>Youngstown_St</td>\n",
       "      <td>1</td>\n",
       "      <td>0</td>\n",
       "    </tr>\n",
       "  </tbody>\n",
       "</table>\n",
       "<p>5210 rows × 12 columns</p>\n",
       "</div>"
      ],
      "text/plain": [
       "      team2  team1  notsure1       date  H_A_N1  points1  H_A_N2  points2  \\\n",
       "0         1     16    737011 2017-11-13       1       83      -1       69   \n",
       "1         1     41    737114 2018-02-24      -1       74       1       72   \n",
       "3         1    143    737018 2017-11-20      -1       75       1       67   \n",
       "4         1    143    737045 2017-12-17       1       67      -1       65   \n",
       "5         1    199    737056 2017-12-28       1       77      -1       74   \n",
       "...     ...    ...       ...        ...     ...      ...     ...      ...   \n",
       "5535    351    318    737048 2017-12-20       1       91      -1       74   \n",
       "5536    351    339    737086 2018-01-27       1       85      -1       67   \n",
       "5537    351    340    737084 2018-01-25       1       66      -1       55   \n",
       "5538    351    347    737074 2018-01-15       1       77      -1       67   \n",
       "5539    351    347    737093 2018-02-03      -1       83       1       57   \n",
       "\n",
       "         team1_name     team2_name  team1_madness  team2_madness  \n",
       "0       Arkansas_St    Abilene_Chr              0              0  \n",
       "1     Cent_Arkansas    Abilene_Chr              0              0  \n",
       "3          Lipscomb    Abilene_Chr              1              0  \n",
       "4          Lipscomb    Abilene_Chr              1              0  \n",
       "5       New_Orleans    Abilene_Chr              0              0  \n",
       "...             ...            ...            ...            ...  \n",
       "5535        Utah_St  Youngstown_St              0              0  \n",
       "5536   WI_Green_Bay  Youngstown_St              0              0  \n",
       "5537   WI_Milwaukee  Youngstown_St              0              0  \n",
       "5538      Wright_St  Youngstown_St              1              0  \n",
       "5539      Wright_St  Youngstown_St              1              0  \n",
       "\n",
       "[5210 rows x 12 columns]"
      ]
     },
     "execution_count": 84,
     "metadata": {},
     "output_type": "execute_result"
    }
   ],
   "source": [
    "games={}\n",
    "remaining_games={}\n",
    "madness_teams={}\n",
    "all_teams={}\n",
    "years = [\"2002\",\"2003\",\"2004\",\"2005\",\"2006\",\"2007\",\"2008\",\"2009\",\"2010\",\"2011\",\"2012\",\"2013\",\"2014\",\"2015\",\"2016\",\"2017\",\"2018\"]\n",
    "for year in years:\n",
    "    games[year],remaining_games[year] = read_data('../data/%steams.txt'%year,'../data/%sgames.txt'%year,'../data/%sMadnessTeams.txt'%year)\n",
    "    madness_teams[year] = list(np.unique(list(games[year].team1_name.loc[games[year].team1_madness == 1]) + list(games[year].team2_name.loc[games[year].team2_madness == 1])))\n",
    "    all_teams[year] = list(np.unique(list(games[year].team1_name) + list(games[year].team2_name)))\n",
    "print(year)\n",
    "games[year]"
   ]
  },
  {
   "cell_type": "code",
   "execution_count": 85,
   "metadata": {},
   "outputs": [
    {
     "data": {
      "text/html": [
       "<div>\n",
       "<style scoped>\n",
       "    .dataframe tbody tr th:only-of-type {\n",
       "        vertical-align: middle;\n",
       "    }\n",
       "\n",
       "    .dataframe tbody tr th {\n",
       "        vertical-align: top;\n",
       "    }\n",
       "\n",
       "    .dataframe thead th {\n",
       "        text-align: right;\n",
       "    }\n",
       "</style>\n",
       "<table border=\"1\" class=\"dataframe\">\n",
       "  <thead>\n",
       "    <tr style=\"text-align: right;\">\n",
       "      <th></th>\n",
       "      <th>team2</th>\n",
       "      <th>team1</th>\n",
       "      <th>notsure1</th>\n",
       "      <th>date</th>\n",
       "      <th>H_A_N1</th>\n",
       "      <th>points1</th>\n",
       "      <th>H_A_N2</th>\n",
       "      <th>points2</th>\n",
       "      <th>team1_name</th>\n",
       "      <th>team2_name</th>\n",
       "      <th>team1_madness</th>\n",
       "      <th>team2_madness</th>\n",
       "    </tr>\n",
       "  </thead>\n",
       "  <tbody>\n",
       "    <tr>\n",
       "      <th>2</th>\n",
       "      <td>1</td>\n",
       "      <td>73</td>\n",
       "      <td>737130</td>\n",
       "      <td>2018-03-12</td>\n",
       "      <td>1</td>\n",
       "      <td>80</td>\n",
       "      <td>-1</td>\n",
       "      <td>73</td>\n",
       "      <td>Drake</td>\n",
       "      <td>Abilene_Chr</td>\n",
       "      <td>0</td>\n",
       "      <td>0</td>\n",
       "    </tr>\n",
       "    <tr>\n",
       "      <th>32</th>\n",
       "      <td>2</td>\n",
       "      <td>313</td>\n",
       "      <td>737125</td>\n",
       "      <td>2018-03-07</td>\n",
       "      <td>1</td>\n",
       "      <td>97</td>\n",
       "      <td>-1</td>\n",
       "      <td>90</td>\n",
       "      <td>UNLV</td>\n",
       "      <td>Air_Force</td>\n",
       "      <td>0</td>\n",
       "      <td>0</td>\n",
       "    </tr>\n",
       "    <tr>\n",
       "      <th>42</th>\n",
       "      <td>3</td>\n",
       "      <td>79</td>\n",
       "      <td>737126</td>\n",
       "      <td>2018-03-08</td>\n",
       "      <td>0</td>\n",
       "      <td>67</td>\n",
       "      <td>0</td>\n",
       "      <td>58</td>\n",
       "      <td>E_Michigan</td>\n",
       "      <td>Akron</td>\n",
       "      <td>0</td>\n",
       "      <td>0</td>\n",
       "    </tr>\n",
       "    <tr>\n",
       "      <th>59</th>\n",
       "      <td>4</td>\n",
       "      <td>137</td>\n",
       "      <td>737128</td>\n",
       "      <td>2018-03-10</td>\n",
       "      <td>0</td>\n",
       "      <td>86</td>\n",
       "      <td>0</td>\n",
       "      <td>63</td>\n",
       "      <td>Kentucky</td>\n",
       "      <td>Alabama</td>\n",
       "      <td>1</td>\n",
       "      <td>1</td>\n",
       "    </tr>\n",
       "    <tr>\n",
       "      <th>68</th>\n",
       "      <td>4</td>\n",
       "      <td>326</td>\n",
       "      <td>737135</td>\n",
       "      <td>2018-03-17</td>\n",
       "      <td>0</td>\n",
       "      <td>81</td>\n",
       "      <td>0</td>\n",
       "      <td>58</td>\n",
       "      <td>Villanova</td>\n",
       "      <td>Alabama</td>\n",
       "      <td>1</td>\n",
       "      <td>1</td>\n",
       "    </tr>\n",
       "    <tr>\n",
       "      <th>...</th>\n",
       "      <td>...</td>\n",
       "      <td>...</td>\n",
       "      <td>...</td>\n",
       "      <td>...</td>\n",
       "      <td>...</td>\n",
       "      <td>...</td>\n",
       "      <td>...</td>\n",
       "      <td>...</td>\n",
       "      <td>...</td>\n",
       "      <td>...</td>\n",
       "      <td>...</td>\n",
       "      <td>...</td>\n",
       "    </tr>\n",
       "    <tr>\n",
       "      <th>5478</th>\n",
       "      <td>347</td>\n",
       "      <td>287</td>\n",
       "      <td>737133</td>\n",
       "      <td>2018-03-15</td>\n",
       "      <td>0</td>\n",
       "      <td>73</td>\n",
       "      <td>0</td>\n",
       "      <td>47</td>\n",
       "      <td>Tennessee</td>\n",
       "      <td>Wright_St</td>\n",
       "      <td>1</td>\n",
       "      <td>1</td>\n",
       "    </tr>\n",
       "    <tr>\n",
       "      <th>5491</th>\n",
       "      <td>348</td>\n",
       "      <td>197</td>\n",
       "      <td>737126</td>\n",
       "      <td>2018-03-08</td>\n",
       "      <td>0</td>\n",
       "      <td>85</td>\n",
       "      <td>0</td>\n",
       "      <td>75</td>\n",
       "      <td>New_Mexico</td>\n",
       "      <td>Wyoming</td>\n",
       "      <td>0</td>\n",
       "      <td>0</td>\n",
       "    </tr>\n",
       "    <tr>\n",
       "      <th>5496</th>\n",
       "      <td>349</td>\n",
       "      <td>92</td>\n",
       "      <td>737136</td>\n",
       "      <td>2018-03-18</td>\n",
       "      <td>0</td>\n",
       "      <td>75</td>\n",
       "      <td>0</td>\n",
       "      <td>70</td>\n",
       "      <td>Florida_St</td>\n",
       "      <td>Xavier</td>\n",
       "      <td>1</td>\n",
       "      <td>1</td>\n",
       "    </tr>\n",
       "    <tr>\n",
       "      <th>5498</th>\n",
       "      <td>349</td>\n",
       "      <td>234</td>\n",
       "      <td>737127</td>\n",
       "      <td>2018-03-09</td>\n",
       "      <td>0</td>\n",
       "      <td>75</td>\n",
       "      <td>0</td>\n",
       "      <td>72</td>\n",
       "      <td>Providence</td>\n",
       "      <td>Xavier</td>\n",
       "      <td>1</td>\n",
       "      <td>1</td>\n",
       "    </tr>\n",
       "    <tr>\n",
       "      <th>5510</th>\n",
       "      <td>350</td>\n",
       "      <td>224</td>\n",
       "      <td>737128</td>\n",
       "      <td>2018-03-10</td>\n",
       "      <td>1</td>\n",
       "      <td>80</td>\n",
       "      <td>-1</td>\n",
       "      <td>57</td>\n",
       "      <td>Penn</td>\n",
       "      <td>Yale</td>\n",
       "      <td>1</td>\n",
       "      <td>0</td>\n",
       "    </tr>\n",
       "  </tbody>\n",
       "</table>\n",
       "<p>330 rows × 12 columns</p>\n",
       "</div>"
      ],
      "text/plain": [
       "      team2  team1  notsure1       date  H_A_N1  points1  H_A_N2  points2  \\\n",
       "2         1     73    737130 2018-03-12       1       80      -1       73   \n",
       "32        2    313    737125 2018-03-07       1       97      -1       90   \n",
       "42        3     79    737126 2018-03-08       0       67       0       58   \n",
       "59        4    137    737128 2018-03-10       0       86       0       63   \n",
       "68        4    326    737135 2018-03-17       0       81       0       58   \n",
       "...     ...    ...       ...        ...     ...      ...     ...      ...   \n",
       "5478    347    287    737133 2018-03-15       0       73       0       47   \n",
       "5491    348    197    737126 2018-03-08       0       85       0       75   \n",
       "5496    349     92    737136 2018-03-18       0       75       0       70   \n",
       "5498    349    234    737127 2018-03-09       0       75       0       72   \n",
       "5510    350    224    737128 2018-03-10       1       80      -1       57   \n",
       "\n",
       "      team1_name   team2_name  team1_madness  team2_madness  \n",
       "2          Drake  Abilene_Chr              0              0  \n",
       "32          UNLV    Air_Force              0              0  \n",
       "42    E_Michigan        Akron              0              0  \n",
       "59      Kentucky      Alabama              1              1  \n",
       "68     Villanova      Alabama              1              1  \n",
       "...          ...          ...            ...            ...  \n",
       "5478   Tennessee    Wright_St              1              1  \n",
       "5491  New_Mexico      Wyoming              0              0  \n",
       "5496  Florida_St       Xavier              1              1  \n",
       "5498  Providence       Xavier              1              1  \n",
       "5510        Penn         Yale              1              0  \n",
       "\n",
       "[330 rows x 12 columns]"
      ]
     },
     "execution_count": 85,
     "metadata": {},
     "output_type": "execute_result"
    }
   ],
   "source": [
    "remaining_games[year]"
   ]
  },
  {
   "cell_type": "code",
   "execution_count": 197,
   "metadata": {},
   "outputs": [],
   "source": [
    "# Parameters to search\n",
    "direct_thress = [0,1,2]\n",
    "spread_thress = [0,3,6]\n",
    "weight_indirects = [0.25,0.5]\n",
    "domains_ranges = [('all','madness'),('madness','madness')]\n",
    "\n",
    "years_train = ['2002','2003','2004','2005','2006']\n",
    "years_test = copy.copy(years)\n",
    "for year in years_train:\n",
    "    years_test.remove(year)\n",
    "# fracs represent how much of the data to include\n",
    "frac = 1."
   ]
  },
  {
   "cell_type": "code",
   "execution_count": 184,
   "metadata": {},
   "outputs": [],
   "source": [
    "def compute(game_df,team_range,frac,direct_thres,spread_thres,weight_indirect):\n",
    "    columns = [\"frac\",\"direct_thres\",\"spread_thres\",\"weight_indirect\"]+team_range\n",
    "    hillside_columns = [\"frac\",\"direct_thres\",\"spread_thres\",\"weight_indirect\",\"details\"]\n",
    "\n",
    "    upper = int(len(game_df)*frac)\n",
    "    game_df_sample = game_df.iloc[:upper,:]\n",
    "\n",
    "    map_func = lambda linked: pyrankability.construct.colley_matrices(linked,direct_thres=direct_thres,spread_thres=spread_thres,weight_indirect=weight_indirect)\n",
    "    colley_matrix,colley_b = pyrankability.construct.map_vectorized(game_df_sample,map_func)\n",
    "    colley_matrix = colley_matrix.reindex(index=team_range,columns=team_range)\n",
    "    colley_b = colley_b.reindex(team_range)\n",
    "    mask = colley_b.isna()\n",
    "    colley_b = colley_b.loc[~mask]\n",
    "    colley_matrix = colley_matrix.loc[~mask,~mask]\n",
    "    inxs = list(np.where(mask)[0])\n",
    "    ranking1,r1 = pyrankability.construct.ranking_from_matrices(colley_matrix.fillna(0),colley_b,inxs)\n",
    "\n",
    "    map_func = lambda linked: pyrankability.construct.massey_matrices(linked,direct_thres=direct_thres,spread_thres=spread_thres,weight_indirect=weight_indirect)\n",
    "    massey_matrix,massey_b = pyrankability.construct.map_vectorized(game_df_sample,map_func)\n",
    "    massey_matrix = massey_matrix.reindex(index=team_range,columns=team_range)\n",
    "    massey_b = massey_b.reindex(team_range)\n",
    "    mask = massey_b.isna()\n",
    "    massey_b = massey_b.loc[~mask]\n",
    "    massey_matrix = massey_matrix.loc[~mask,~mask]    \n",
    "    inxs = list(np.where(mask)[0])    \n",
    "    ranking2,r2 = pyrankability.construct.ranking_from_matrices(massey_matrix.fillna(0),massey_b,inxs)\n",
    "    ranking_values1 = [frac,direct_thres,spread_thres,weight_indirect]+list(ranking1)\n",
    "    ranking_values2 = [frac,direct_thres,spread_thres,weight_indirect]+list(ranking2)\n",
    "    r_values1 = [frac,direct_thres,spread_thres,weight_indirect]+list(r1)\n",
    "    r_values2 = [frac,direct_thres,spread_thres,weight_indirect]+list(r2)\n",
    "\n",
    "    map_func = lambda linked: pyrankability.construct.support_map_vectorized_direct_indirect_weighted(linked,direct_thres=direct_thres,spread_thres=spread_thres,weight_indirect=weight_indirect)\n",
    "    D = pyrankability.construct.V_count_vectorized(game_df_sample,map_func).reindex(index=team_range,columns=team_range)\n",
    "    k,details = pyrankability.rank.solve(D,method='hillside',lazy=False,cont=True)\n",
    "    x = pd.DataFrame(details['x'],columns=D.columns,index=D.index)\n",
    "    c = pd.DataFrame(pyrankability.construct.C_count(D),columns=D.columns,index=D.index)\n",
    "    P = details['P']\n",
    "    simple_details = {'k':k,'x':x,'c':c,'P':P,'D':D}\n",
    "    hillside_ret = pd.Series([frac,direct_thres,spread_thres,weight_indirect,simple_details],index=hillside_columns)\n",
    "    return pd.Series(ranking_values1,index=columns),pd.Series(ranking_values2,index=columns),pd.Series(r_values1,index=columns),pd.Series(r_values2,index=columns),hillside_ret\n"
   ]
  },
  {
   "cell_type": "code",
   "execution_count": 185,
   "metadata": {},
   "outputs": [],
   "source": [
    "def get_game_df(domain_range,year_games):\n",
    "    # set the team_domain\n",
    "    team_domain = None\n",
    "    if domain_range[0] == 'madness':\n",
    "        team_domain = madness_teams[year]\n",
    "    elif domain_range[0] == 'all':\n",
    "        team_domain = all_teams[year]\n",
    "\n",
    "    game_df = pd.DataFrame({\"team1_name\":year_games['team1_name'],\n",
    "                            \"team1_score\":year_games['points1'],\n",
    "                            \"team1_H_A_N\": year_games['H_A_N1'],\n",
    "                            \"team2_name\":year_games['team2_name'],\n",
    "                            \"team2_score\":year_games['points2'],\n",
    "                            \"team2_H_A_N\": year_games['H_A_N1'],\n",
    "                            \"date\": year_games['date']\n",
    "                           }).sort_values(by='date').drop('date',axis=1)\n",
    "    mask = game_df.team1_name.isin(team_domain) & game_df.team2_name.isin(team_domain)\n",
    "    game_df = game_df.loc[mask]\n",
    "    \n",
    "    return game_df"
   ]
  },
  {
   "cell_type": "code",
   "execution_count": 195,
   "metadata": {},
   "outputs": [],
   "source": [
    "def calc_predictability(games,r):\n",
    "    numberCorrectPredictions = 0\n",
    "    numGames = 0\n",
    "    for i in games.index:\n",
    "        team1ID = games.loc[i, \"team1_name\"]\n",
    "        team1Score = games.loc[i, \"points1\"]\n",
    "        team2ID = games.loc[i, \"team2_name\"]\n",
    "        team2Score = games.loc[i, \"points2\"]\n",
    "        \n",
    "        if team1ID in r.index and team2ID in r.index:\n",
    "            if team1Score > team2Score and r.loc[team1ID] > r.loc[team2ID]:\n",
    "                numberCorrectPredictions += 1\n",
    "            elif team2Score > team1Score and r.loc[team2ID] > r.loc[team1ID]:\n",
    "                numberCorrectPredictions += 1\n",
    "            elif team1Score == team2Score and r.loc[team1ID] == r.loc[team2ID]:\n",
    "                numberCorrectPredictions += 1\n",
    "\n",
    "            numGames += 1\n",
    "           \n",
    "    predictability = numberCorrectPredictions/numGames*100\n",
    "    return predictability,numGames"
   ]
  },
  {
   "cell_type": "code",
   "execution_count": 204,
   "metadata": {},
   "outputs": [],
   "source": [
    "results = pd.DataFrame(columns=[\"Year\",\"Score\",\"Method\",\"Parameters\"])\n",
    "columns = results.columns\n",
    "results.set_index('Parameters',inplace=True)\n",
    "outer_keys = list(itertools.product(direct_thress,spread_thress,weight_indirects,domains_ranges))\n",
    "\n",
    "def calc_score(direct_thres,spread_thres,weight_indirect,domain_range):\n",
    "    parameter_string = f\"{domain_range},frac={frac},dt={direct_thres},st={spread_thres},iw={weight_indirect}\"\n",
    "    predictability = pd.DataFrame(columns=columns)\n",
    "    c=0\n",
    "    for year in years_train:\n",
    "        # set the team_range\n",
    "        team_range = None\n",
    "        if domain_range[1] == 'madness':\n",
    "            team_range = madness_teams[year]\n",
    "        elif domain_range[1] == 'all':\n",
    "            team_range = all_teams[year]\n",
    "        elif \"top\" in domain_range:\n",
    "            team_range = all_teams[year]\n",
    "        \n",
    "        colley_rankings, colley_rs, massey_rankings, massey_rs, hillside_details = compute(get_game_df(domain_range,games[year]),team_range,frac,direct_thres,spread_thres,weight_indirect)\n",
    "        \n",
    "        score,numGames = calc_predictability(remaining_games[year],massey_rs)\n",
    "        predictability=predictability.append(pd.Series([year,score,'Massey',parameter_string],index=predictability.columns,name=c)); c+=1\n",
    "        score,numGames = calc_predictability(remaining_games[year],colley_rs)    \n",
    "        predictability=predictability.append(pd.Series([year,score,'Colley',parameter_string],index=predictability.columns,name=c)); c+=1\n",
    "        # hillside\n",
    "        #perm = pd.Series(hillside_details['details']['P'][0],index=hillside_details['details']['D'].columns)\n",
    "        #r = -perm.argsort()\n",
    "        #score,numGames = calc_predictability(remaining_games[year],r)    \n",
    "        #predictability=predictability.append(pd.Series([year,score,'Hillside',parameter_string],index=predictability.columns,name=c)); c+=1\n",
    "    return predictability\n",
    "\n",
    "job_results = Parallel(n_jobs=-1)(delayed(calc_score)(direct_thres,spread_thres,weight_indirect,domain_range) for direct_thres,spread_thres,weight_indirect,domain_range in outer_keys)"
   ]
  },
  {
   "cell_type": "code",
   "execution_count": 205,
   "metadata": {},
   "outputs": [],
   "source": [
    "for predictability in job_results:\n",
    "    predictability = predictability.set_index('Parameters')\n",
    "    results = results.append(predictability)"
   ]
  },
  {
   "cell_type": "code",
   "execution_count": 232,
   "metadata": {},
   "outputs": [
    {
     "data": {
      "text/html": [
       "<div>\n",
       "<style scoped>\n",
       "    .dataframe tbody tr th:only-of-type {\n",
       "        vertical-align: middle;\n",
       "    }\n",
       "\n",
       "    .dataframe tbody tr th {\n",
       "        vertical-align: top;\n",
       "    }\n",
       "\n",
       "    .dataframe thead th {\n",
       "        text-align: right;\n",
       "    }\n",
       "</style>\n",
       "<table border=\"1\" class=\"dataframe\">\n",
       "  <thead>\n",
       "    <tr style=\"text-align: right;\">\n",
       "      <th></th>\n",
       "      <th>Parameters</th>\n",
       "    </tr>\n",
       "    <tr>\n",
       "      <th>Method</th>\n",
       "      <th></th>\n",
       "    </tr>\n",
       "  </thead>\n",
       "  <tbody>\n",
       "    <tr>\n",
       "      <th>Colley</th>\n",
       "      <td>('all', 'madness'),frac=1.0,dt=0,st=0,iw=0.25</td>\n",
       "    </tr>\n",
       "    <tr>\n",
       "      <th>Massey</th>\n",
       "      <td>('all', 'madness'),frac=1.0,dt=2,st=0,iw=0.25</td>\n",
       "    </tr>\n",
       "  </tbody>\n",
       "</table>\n",
       "</div>"
      ],
      "text/plain": [
       "                                           Parameters\n",
       "Method                                               \n",
       "Colley  ('all', 'madness'),frac=1.0,dt=0,st=0,iw=0.25\n",
       "Massey  ('all', 'madness'),frac=1.0,dt=2,st=0,iw=0.25"
      ]
     },
     "execution_count": 232,
     "metadata": {},
     "output_type": "execute_result"
    }
   ],
   "source": [
    "# Average over all years\n",
    "avg_results = results.reset_index().groupby(['Method','Parameters']).apply(lambda df: df['Score'].mean()).to_frame()\n",
    "avg_results.columns=['Avg Score']\n",
    "best_parameters = avg_results.reset_index().set_index('Parameters').groupby('Method').idxmax()\n",
    "best_parameters.columns=['Parameters']\n",
    "best_parameters"
   ]
  },
  {
   "cell_type": "markdown",
   "metadata": {},
   "source": [
    "## Here are the scores"
   ]
  },
  {
   "cell_type": "code",
   "execution_count": 233,
   "metadata": {},
   "outputs": [
    {
     "data": {
      "text/html": [
       "<div>\n",
       "<style scoped>\n",
       "    .dataframe tbody tr th:only-of-type {\n",
       "        vertical-align: middle;\n",
       "    }\n",
       "\n",
       "    .dataframe tbody tr th {\n",
       "        vertical-align: top;\n",
       "    }\n",
       "\n",
       "    .dataframe thead th {\n",
       "        text-align: right;\n",
       "    }\n",
       "</style>\n",
       "<table border=\"1\" class=\"dataframe\">\n",
       "  <thead>\n",
       "    <tr style=\"text-align: right;\">\n",
       "      <th></th>\n",
       "      <th>Avg Score</th>\n",
       "    </tr>\n",
       "    <tr>\n",
       "      <th>Method</th>\n",
       "      <th></th>\n",
       "    </tr>\n",
       "  </thead>\n",
       "  <tbody>\n",
       "    <tr>\n",
       "      <th>Colley</th>\n",
       "      <td>52.318668</td>\n",
       "    </tr>\n",
       "    <tr>\n",
       "      <th>Massey</th>\n",
       "      <td>64.565562</td>\n",
       "    </tr>\n",
       "  </tbody>\n",
       "</table>\n",
       "</div>"
      ],
      "text/plain": [
       "        Avg Score\n",
       "Method           \n",
       "Colley  52.318668\n",
       "Massey  64.565562"
      ]
     },
     "execution_count": 233,
     "metadata": {},
     "output_type": "execute_result"
    }
   ],
   "source": [
    "avg_results.reset_index().set_index('Parameters').groupby('Method').max()"
   ]
  },
  {
   "cell_type": "markdown",
   "metadata": {},
   "source": [
    "## Now run through the training data"
   ]
  },
  {
   "cell_type": "code",
   "execution_count": 253,
   "metadata": {},
   "outputs": [],
   "source": [
    "def parameter_string_to_parameters(parameter_string):\n",
    "    exec(\"domain_range=\"+parameter_string.split(')')[0]+\")\")\n",
    "    exec(parameter_string.split(\"),\")[1].replace(\",\",\";\"))\n",
    "    return domain_range,frac,dt,st,iw"
   ]
  },
  {
   "cell_type": "code",
   "execution_count": 254,
   "metadata": {},
   "outputs": [
    {
     "data": {
      "text/plain": [
       "(('all', 'madness'), 1.0, 0, 0, 0.25)"
      ]
     },
     "execution_count": 254,
     "metadata": {},
     "output_type": "execute_result"
    }
   ],
   "source": [
    "parameter_string_to_parameters(best_parameters.loc['Colley']['Parameters'])"
   ]
  },
  {
   "cell_type": "code",
   "execution_count": 271,
   "metadata": {},
   "outputs": [],
   "source": [
    "def compute_method(game_df,year,method,best_parameters):\n",
    "    parameter_string = best_parameters.loc[method]['Parameters']\n",
    "    domain_range,frac,direct_thres,spread_thres,weight_indirect = parameter_string_to_parameters(parameter_string)\n",
    "    # set the team_range\n",
    "    team_range = None\n",
    "    if domain_range[1] == 'madness':\n",
    "        team_range = madness_teams[year]\n",
    "    elif domain_range[1] == 'all':\n",
    "        team_range = all_teams[year]\n",
    "    elif \"top\" in domain_range:\n",
    "        team_range = all_teams[year]    \n",
    "    \n",
    "    columns = [\"frac\",\"direct_thres\",\"spread_thres\",\"weight_indirect\"]+team_range\n",
    "    hillside_columns = [\"frac\",\"direct_thres\",\"spread_thres\",\"weight_indirect\",\"details\"]\n",
    "\n",
    "    upper = int(len(game_df)*frac)\n",
    "    game_df_sample = game_df.iloc[:upper,:]\n",
    "\n",
    "    if method == 'Colley':\n",
    "        map_func = lambda linked: pyrankability.construct.colley_matrices(linked,direct_thres=direct_thres,spread_thres=spread_thres,weight_indirect=weight_indirect)\n",
    "        colley_matrix,colley_b = pyrankability.construct.map_vectorized(game_df_sample,map_func)\n",
    "        colley_matrix = colley_matrix.reindex(index=team_range,columns=team_range)\n",
    "        colley_b = colley_b.reindex(team_range)\n",
    "        mask = colley_b.isna()\n",
    "        colley_b = colley_b.loc[~mask]\n",
    "        colley_matrix = colley_matrix.loc[~mask,~mask]\n",
    "        inxs = list(np.where(mask)[0])\n",
    "        ranking,r = pyrankability.construct.ranking_from_matrices(colley_matrix.fillna(0),colley_b,inxs)\n",
    "\n",
    "    if method == 'Massey':\n",
    "        map_func = lambda linked: pyrankability.construct.massey_matrices(linked,direct_thres=direct_thres,spread_thres=spread_thres,weight_indirect=weight_indirect)\n",
    "        massey_matrix,massey_b = pyrankability.construct.map_vectorized(game_df_sample,map_func)\n",
    "        massey_matrix = massey_matrix.reindex(index=team_range,columns=team_range)\n",
    "        massey_b = massey_b.reindex(team_range)\n",
    "        mask = massey_b.isna()\n",
    "        massey_b = massey_b.loc[~mask]\n",
    "        massey_matrix = massey_matrix.loc[~mask,~mask]    \n",
    "        inxs = list(np.where(mask)[0])    \n",
    "        ranking,r = pyrankability.construct.ranking_from_matrices(massey_matrix.fillna(0),massey_b,inxs)\n",
    "    \n",
    "    ranking_values = [frac,direct_thres,spread_thres,weight_indirect]+list(ranking)\n",
    "    r_values = [frac,direct_thres,spread_thres,weight_indirect]+list(r)\n",
    "\n",
    "    map_func = lambda linked: pyrankability.construct.support_map_vectorized_direct_indirect_weighted(linked,direct_thres=direct_thres,spread_thres=spread_thres,weight_indirect=weight_indirect)\n",
    "    D = pyrankability.construct.V_count_vectorized(game_df_sample,map_func).reindex(index=team_range,columns=team_range)\n",
    "    k,details = pyrankability.rank.solve(D,method='hillside',lazy=False,cont=True)\n",
    "    x = pd.DataFrame(details['x'],columns=D.columns,index=D.index)\n",
    "    c = pd.DataFrame(pyrankability.construct.C_count(D),columns=D.columns,index=D.index)\n",
    "    P = details['P']\n",
    "    simple_details = {'k':k,'x':x,'c':c,'P':P,'D':D}\n",
    "    hillside_ret = pd.Series([frac,direct_thres,spread_thres,weight_indirect,simple_details],index=hillside_columns)\n",
    "    return pd.Series(ranking_values,index=columns),pd.Series(r_values,index=columns),hillside_ret\n"
   ]
  },
  {
   "cell_type": "code",
   "execution_count": 272,
   "metadata": {},
   "outputs": [
    {
     "name": "stderr",
     "output_type": "stream",
     "text": [
      "\n",
      "\n",
      "\n",
      "\n",
      "\n",
      "\n",
      "\n",
      "\n",
      "\n",
      "\n",
      "\n",
      "\n",
      "\n",
      "\n",
      "\n",
      "\n",
      "  0%|          | 0/17 [00:00<?, ?it/s]\u001b[A\u001b[A\u001b[A\u001b[A\u001b[A\u001b[A\u001b[A\u001b[A\u001b[A\u001b[A\u001b[A\u001b[A\u001b[A\u001b[A\u001b[A\u001b[A/disk/home/amy/rankability_toolbox_dev/pyrankability/construct.py:52: SettingWithCopyWarning: \n",
      "A value is trying to be set on a copy of a slice from a DataFrame.\n",
      "Try using .loc[row_indexer,col_indexer] = value instead\n",
      "\n",
      "See the caveats in the documentation: https://pandas.pydata.org/pandas-docs/stable/user_guide/indexing.html#returning-a-view-versus-a-copy\n",
      "  game_df[\"game\"] = list(game_df.index)\n",
      "/disk/home/amy/rankability_toolbox_dev/pyrankability/construct.py:36: SettingWithCopyWarning: \n",
      "A value is trying to be set on a copy of a slice from a DataFrame.\n",
      "Try using .loc[row_indexer,col_indexer] = value instead\n",
      "\n",
      "See the caveats in the documentation: https://pandas.pydata.org/pandas-docs/stable/user_guide/indexing.html#returning-a-view-versus-a-copy\n",
      "  game_df[\"game\"] = list(game_df.index)\n",
      "/disk/home/amy/rankability_toolbox_dev/pyrankability/construct.py:78: RuntimeWarning: invalid value encountered in greater\n",
      "  mask1 = np.abs(S[:,j]-S[:,i])>threshold # smooth things out and don't worry about warnings here\n",
      "/disk/home/amy/rankability_toolbox_dev/pyrankability/construct.py:79: RuntimeWarning: invalid value encountered in greater\n",
      "  mask2 = np.abs(S[j,:]-S[i,:])>threshold # smooth things out and don't worry about warnings here\n",
      "\n",
      "\n",
      "\n",
      "\n",
      "\n",
      "\n",
      "\n",
      "\n",
      "\n",
      "\n",
      "\n",
      "\n",
      "\n",
      "\n",
      "\n",
      "\n",
      "  6%|▌         | 1/17 [00:14<03:48, 14.25s/it]\u001b[A\u001b[A\u001b[A\u001b[A\u001b[A\u001b[A\u001b[A\u001b[A\u001b[A\u001b[A\u001b[A\u001b[A\u001b[A\u001b[A\u001b[A\u001b[A\n",
      "\n",
      "\n",
      "\n",
      "\n",
      "\n",
      "\n",
      "\n",
      "\n",
      "\n",
      "\n",
      "\n",
      "\n",
      "\n",
      "\n",
      "\n",
      " 12%|█▏        | 2/17 [00:27<03:30, 14.03s/it]\u001b[A\u001b[A\u001b[A\u001b[A\u001b[A\u001b[A\u001b[A\u001b[A\u001b[A\u001b[A\u001b[A\u001b[A\u001b[A\u001b[A\u001b[A\u001b[A\n",
      "\n",
      "\n",
      "\n",
      "\n",
      "\n",
      "\n",
      "\n",
      "\n",
      "\n",
      "\n",
      "\n",
      "\n",
      "\n",
      "\n",
      "\n",
      " 18%|█▊        | 3/17 [00:41<03:16, 14.03s/it]\u001b[A\u001b[A\u001b[A\u001b[A\u001b[A\u001b[A\u001b[A\u001b[A\u001b[A\u001b[A\u001b[A\u001b[A\u001b[A\u001b[A\u001b[A\u001b[A\n",
      "\n",
      "\n",
      "\n",
      "\n",
      "\n",
      "\n",
      "\n",
      "\n",
      "\n",
      "\n",
      "\n",
      "\n",
      "\n",
      "\n",
      "\n",
      " 24%|██▎       | 4/17 [00:56<03:03, 14.14s/it]\u001b[A\u001b[A\u001b[A\u001b[A\u001b[A\u001b[A\u001b[A\u001b[A\u001b[A\u001b[A\u001b[A\u001b[A\u001b[A\u001b[A\u001b[A\u001b[A\n",
      "\n",
      "\n",
      "\n",
      "\n",
      "\n",
      "\n",
      "\n",
      "\n",
      "\n",
      "\n",
      "\n",
      "\n",
      "\n",
      "\n",
      "\n",
      " 29%|██▉       | 5/17 [01:10<02:50, 14.21s/it]\u001b[A\u001b[A\u001b[A\u001b[A\u001b[A\u001b[A\u001b[A\u001b[A\u001b[A\u001b[A\u001b[A\u001b[A\u001b[A\u001b[A\u001b[A\u001b[A\n",
      "\n",
      "\n",
      "\n",
      "\n",
      "\n",
      "\n",
      "\n",
      "\n",
      "\n",
      "\n",
      "\n",
      "\n",
      "\n",
      "\n",
      "\n",
      " 35%|███▌      | 6/17 [01:25<02:40, 14.58s/it]\u001b[A\u001b[A\u001b[A\u001b[A\u001b[A\u001b[A\u001b[A\u001b[A\u001b[A\u001b[A\u001b[A\u001b[A\u001b[A\u001b[A\u001b[A\u001b[A\n",
      "\n",
      "\n",
      "\n",
      "\n",
      "\n",
      "\n",
      "\n",
      "\n",
      "\n",
      "\n",
      "\n",
      "\n",
      "\n",
      "\n",
      "\n",
      " 41%|████      | 7/17 [01:40<02:26, 14.67s/it]\u001b[A\u001b[A\u001b[A\u001b[A\u001b[A\u001b[A\u001b[A\u001b[A\u001b[A\u001b[A\u001b[A\u001b[A\u001b[A\u001b[A\u001b[A\u001b[A\n",
      "\n",
      "\n",
      "\n",
      "\n",
      "\n",
      "\n",
      "\n",
      "\n",
      "\n",
      "\n",
      "\n",
      "\n",
      "\n",
      "\n",
      "\n",
      " 47%|████▋     | 8/17 [01:55<02:12, 14.73s/it]\u001b[A\u001b[A\u001b[A\u001b[A\u001b[A\u001b[A\u001b[A\u001b[A\u001b[A\u001b[A\u001b[A\u001b[A\u001b[A\u001b[A\u001b[A\u001b[A\n",
      "\n",
      "\n",
      "\n",
      "\n",
      "\n",
      "\n",
      "\n",
      "\n",
      "\n",
      "\n",
      "\n",
      "\n",
      "\n",
      "\n",
      "\n",
      " 53%|█████▎    | 9/17 [02:11<02:00, 15.02s/it]\u001b[A\u001b[A\u001b[A\u001b[A\u001b[A\u001b[A\u001b[A\u001b[A\u001b[A\u001b[A\u001b[A\u001b[A\u001b[A\u001b[A\u001b[A\u001b[A\n",
      "\n",
      "\n",
      "\n",
      "\n",
      "\n",
      "\n",
      "\n",
      "\n",
      "\n",
      "\n",
      "\n",
      "\n",
      "\n",
      "\n",
      "\n",
      " 59%|█████▉    | 10/17 [02:28<01:49, 15.59s/it]\u001b[A\u001b[A\u001b[A\u001b[A\u001b[A\u001b[A\u001b[A\u001b[A\u001b[A\u001b[A\u001b[A\u001b[A\u001b[A\u001b[A\u001b[A\u001b[A\n",
      "\n",
      "\n",
      "\n",
      "\n",
      "\n",
      "\n",
      "\n",
      "\n",
      "\n",
      "\n",
      "\n",
      "\n",
      "\n",
      "\n",
      "\n",
      " 65%|██████▍   | 11/17 [02:44<01:34, 15.81s/it]\u001b[A\u001b[A\u001b[A\u001b[A\u001b[A\u001b[A\u001b[A\u001b[A\u001b[A\u001b[A\u001b[A\u001b[A\u001b[A\u001b[A\u001b[A\u001b[A\n",
      "\n",
      "\n",
      "\n",
      "\n",
      "\n",
      "\n",
      "\n",
      "\n",
      "\n",
      "\n",
      "\n",
      "\n",
      "\n",
      "\n",
      "\n",
      " 71%|███████   | 12/17 [03:01<01:20, 16.03s/it]\u001b[A\u001b[A\u001b[A\u001b[A\u001b[A\u001b[A\u001b[A\u001b[A\u001b[A\u001b[A\u001b[A\u001b[A\u001b[A\u001b[A\u001b[A\u001b[A\n",
      "\n",
      "\n",
      "\n",
      "\n",
      "\n",
      "\n",
      "\n",
      "\n",
      "\n",
      "\n",
      "\n",
      "\n",
      "\n",
      "\n",
      "\n",
      " 76%|███████▋  | 13/17 [03:17<01:04, 16.24s/it]\u001b[A\u001b[A\u001b[A\u001b[A\u001b[A\u001b[A\u001b[A\u001b[A\u001b[A\u001b[A\u001b[A\u001b[A\u001b[A\u001b[A\u001b[A\u001b[A\n",
      "\n",
      "\n",
      "\n",
      "\n",
      "\n",
      "\n",
      "\n",
      "\n",
      "\n",
      "\n",
      "\n",
      "\n",
      "\n",
      "\n",
      "\n",
      " 82%|████████▏ | 14/17 [03:34<00:49, 16.41s/it]\u001b[A\u001b[A\u001b[A\u001b[A\u001b[A\u001b[A\u001b[A\u001b[A\u001b[A\u001b[A\u001b[A\u001b[A\u001b[A\u001b[A\u001b[A\u001b[A\n",
      "\n",
      "\n",
      "\n",
      "\n",
      "\n",
      "\n",
      "\n",
      "\n",
      "\n",
      "\n",
      "\n",
      "\n",
      "\n",
      "\n",
      "\n",
      " 88%|████████▊ | 15/17 [03:52<00:33, 16.75s/it]\u001b[A\u001b[A\u001b[A\u001b[A\u001b[A\u001b[A\u001b[A\u001b[A\u001b[A\u001b[A\u001b[A\u001b[A\u001b[A\u001b[A\u001b[A\u001b[A\n",
      "\n",
      "\n",
      "\n",
      "\n",
      "\n",
      "\n",
      "\n",
      "\n",
      "\n",
      "\n",
      "\n",
      "\n",
      "\n",
      "\n",
      "\n",
      " 94%|█████████▍| 16/17 [04:07<00:16, 16.22s/it]\u001b[A\u001b[A\u001b[A\u001b[A\u001b[A\u001b[A\u001b[A\u001b[A\u001b[A\u001b[A\u001b[A\u001b[A\u001b[A\u001b[A\u001b[A\u001b[A\n",
      "\n",
      "\n",
      "\n",
      "\n",
      "\n",
      "\n",
      "\n",
      "\n",
      "\n",
      "\n",
      "\n",
      "\n",
      "\n",
      "\n",
      "\n",
      "100%|██████████| 17/17 [04:22<00:00, 15.45s/it]\u001b[A\u001b[A\u001b[A\u001b[A\u001b[A\u001b[A\u001b[A\u001b[A\u001b[A\u001b[A\u001b[A\u001b[A\u001b[A\u001b[A\u001b[A\u001b[A\n"
     ]
    }
   ],
   "source": [
    "colley_rankings = {}\n",
    "colley_rs = {}\n",
    "massey_rankings = {}\n",
    "massey_rs = {}\n",
    "massey_hillside_details = {}\n",
    "colley_hillside_details = {}\n",
    "for year in tqdm(years):\n",
    "    colley_rankings[year], colley_rs[year], colley_hillside_details[year] = compute_method(get_game_df(domain_range,games[year]),year,'Colley',best_parameters)\n",
    "    massey_rankings[year], massey_rs[year], massey_hillside_details[year] = compute_method(get_game_df(domain_range,games[year]),year,'Massey',best_parameters)"
   ]
  },
  {
   "cell_type": "markdown",
   "metadata": {},
   "source": [
    "## Calculate the predictability"
   ]
  },
  {
   "cell_type": "code",
   "execution_count": 273,
   "metadata": {},
   "outputs": [
    {
     "name": "stderr",
     "output_type": "stream",
     "text": [
      "\n",
      "\n",
      "\n",
      "\n",
      "\n",
      "\n",
      "\n",
      "\n",
      "\n",
      "\n",
      "\n",
      "\n",
      "\n",
      "\n",
      "\n",
      "\n",
      "  0%|          | 0/17 [00:00<?, ?it/s]\u001b[A\u001b[A\u001b[A\u001b[A\u001b[A\u001b[A\u001b[A\u001b[A\u001b[A\u001b[A\u001b[A\u001b[A\u001b[A\u001b[A\u001b[A\u001b[A\n",
      "\n",
      "\n",
      "\n",
      "\n",
      "\n",
      "\n",
      "\n",
      "\n",
      "\n",
      "\n",
      "\n",
      "\n",
      "\n",
      "\n",
      "\n",
      " 12%|█▏        | 2/17 [00:00<00:01, 10.92it/s]\u001b[A\u001b[A\u001b[A\u001b[A\u001b[A\u001b[A\u001b[A\u001b[A\u001b[A\u001b[A\u001b[A\u001b[A\u001b[A\u001b[A\u001b[A\u001b[A\n",
      "\n",
      "\n",
      "\n",
      "\n",
      "\n",
      "\n",
      "\n",
      "\n",
      "\n",
      "\n",
      "\n",
      "\n",
      "\n",
      "\n",
      "\n",
      " 24%|██▎       | 4/17 [00:00<00:01, 10.71it/s]\u001b[A\u001b[A\u001b[A\u001b[A\u001b[A\u001b[A\u001b[A\u001b[A\u001b[A\u001b[A\u001b[A\u001b[A\u001b[A\u001b[A\u001b[A\u001b[A\n",
      "\n",
      "\n",
      "\n",
      "\n",
      "\n",
      "\n",
      "\n",
      "\n",
      "\n",
      "\n",
      "\n",
      "\n",
      "\n",
      "\n",
      "\n",
      " 35%|███▌      | 6/17 [00:00<00:01, 10.77it/s]\u001b[A\u001b[A\u001b[A\u001b[A\u001b[A\u001b[A\u001b[A\u001b[A\u001b[A\u001b[A\u001b[A\u001b[A\u001b[A\u001b[A\u001b[A\u001b[A\n",
      "\n",
      "\n",
      "\n",
      "\n",
      "\n",
      "\n",
      "\n",
      "\n",
      "\n",
      "\n",
      "\n",
      "\n",
      "\n",
      "\n",
      "\n",
      " 47%|████▋     | 8/17 [00:00<00:00, 10.61it/s]\u001b[A\u001b[A\u001b[A\u001b[A\u001b[A\u001b[A\u001b[A\u001b[A\u001b[A\u001b[A\u001b[A\u001b[A\u001b[A\u001b[A\u001b[A\u001b[A\n",
      "\n",
      "\n",
      "\n",
      "\n",
      "\n",
      "\n",
      "\n",
      "\n",
      "\n",
      "\n",
      "\n",
      "\n",
      "\n",
      "\n",
      "\n",
      " 53%|█████▎    | 9/17 [00:00<00:00, 10.42it/s]\u001b[A\u001b[A\u001b[A\u001b[A\u001b[A\u001b[A\u001b[A\u001b[A\u001b[A\u001b[A\u001b[A\u001b[A\u001b[A\u001b[A\u001b[A\u001b[A\n",
      "\n",
      "\n",
      "\n",
      "\n",
      "\n",
      "\n",
      "\n",
      "\n",
      "\n",
      "\n",
      "\n",
      "\n",
      "\n",
      "\n",
      "\n",
      " 59%|█████▉    | 10/17 [00:00<00:00, 10.11it/s]\u001b[A\u001b[A\u001b[A\u001b[A\u001b[A\u001b[A\u001b[A\u001b[A\u001b[A\u001b[A\u001b[A\u001b[A\u001b[A\u001b[A\u001b[A\u001b[A\n",
      "\n",
      "\n",
      "\n",
      "\n",
      "\n",
      "\n",
      "\n",
      "\n",
      "\n",
      "\n",
      "\n",
      "\n",
      "\n",
      "\n",
      "\n",
      " 65%|██████▍   | 11/17 [00:01<00:00,  9.88it/s]\u001b[A\u001b[A\u001b[A\u001b[A\u001b[A\u001b[A\u001b[A\u001b[A\u001b[A\u001b[A\u001b[A\u001b[A\u001b[A\u001b[A\u001b[A\u001b[A\n",
      "\n",
      "\n",
      "\n",
      "\n",
      "\n",
      "\n",
      "\n",
      "\n",
      "\n",
      "\n",
      "\n",
      "\n",
      "\n",
      "\n",
      "\n",
      " 71%|███████   | 12/17 [00:01<00:00,  9.70it/s]\u001b[A\u001b[A\u001b[A\u001b[A\u001b[A\u001b[A\u001b[A\u001b[A\u001b[A\u001b[A\u001b[A\u001b[A\u001b[A\u001b[A\u001b[A\u001b[A\n",
      "\n",
      "\n",
      "\n",
      "\n",
      "\n",
      "\n",
      "\n",
      "\n",
      "\n",
      "\n",
      "\n",
      "\n",
      "\n",
      "\n",
      "\n",
      " 76%|███████▋  | 13/17 [00:01<00:00,  9.46it/s]\u001b[A\u001b[A\u001b[A\u001b[A\u001b[A\u001b[A\u001b[A\u001b[A\u001b[A\u001b[A\u001b[A\u001b[A\u001b[A\u001b[A\u001b[A\u001b[A\n",
      "\n",
      "\n",
      "\n",
      "\n",
      "\n",
      "\n",
      "\n",
      "\n",
      "\n",
      "\n",
      "\n",
      "\n",
      "\n",
      "\n",
      "\n",
      " 82%|████████▏ | 14/17 [00:01<00:00,  9.35it/s]\u001b[A\u001b[A\u001b[A\u001b[A\u001b[A\u001b[A\u001b[A\u001b[A\u001b[A\u001b[A\u001b[A\u001b[A\u001b[A\u001b[A\u001b[A\u001b[A\n",
      "\n",
      "\n",
      "\n",
      "\n",
      "\n",
      "\n",
      "\n",
      "\n",
      "\n",
      "\n",
      "\n",
      "\n",
      "\n",
      "\n",
      "\n",
      " 88%|████████▊ | 15/17 [00:01<00:00,  9.34it/s]\u001b[A\u001b[A\u001b[A\u001b[A\u001b[A\u001b[A\u001b[A\u001b[A\u001b[A\u001b[A\u001b[A\u001b[A\u001b[A\u001b[A\u001b[A\u001b[A\n",
      "\n",
      "\n",
      "\n",
      "\n",
      "\n",
      "\n",
      "\n",
      "\n",
      "\n",
      "\n",
      "\n",
      "\n",
      "\n",
      "\n",
      "\n",
      "100%|██████████| 17/17 [00:01<00:00, 10.13it/s]\u001b[A\u001b[A\u001b[A\u001b[A\u001b[A\u001b[A\u001b[A\u001b[A\u001b[A\u001b[A\u001b[A\u001b[A\u001b[A\u001b[A\u001b[A\u001b[A\n"
     ]
    }
   ],
   "source": [
    "predictability = pd.DataFrame(columns=[\"Year\",\"Score\",\"Method\",\"Parameters\"])\n",
    "c = 0\n",
    "for year in tqdm(years):\n",
    "    score,numGames = calc_predictability(remaining_games[year],massey_rs[year])\n",
    "    predictability=predictability.append(pd.Series([year,score,'Massey',parameter_string],index=predictability.columns,name=c)); c+=1\n",
    "    score,numGames = calc_predictability(remaining_games[year],colley_rs[year])    \n",
    "    predictability=predictability.append(pd.Series([year,score,'Colley',parameter_string],index=predictability.columns,name=c)); c+=1\n",
    "    # massey hillside\n",
    "    perm = pd.Series(massey_hillside_details[year]['details']['P'][0],index=massey_hillside_details[year]['details']['D'].columns)\n",
    "    r = -perm.argsort()\n",
    "    score,numGames = calc_predictability(remaining_games[year],r)    \n",
    "    predictability=predictability.append(pd.Series([year,score,'Hillside(Massey Params)',parameter_string],index=predictability.columns,name=c)); c+=1\n",
    "    # massey hillside\n",
    "    perm = pd.Series(colley_hillside_details[year]['details']['P'][0],index=colley_hillside_details[year]['details']['D'].columns)\n",
    "    r = -perm.argsort()\n",
    "    score,numGames = calc_predictability(remaining_games[year],r)    \n",
    "    predictability=predictability.append(pd.Series([year,score,'Hillside(Colley Params)',parameter_string],index=predictability.columns,name=c)); c+=1\n",
    "    "
   ]
  },
  {
   "cell_type": "code",
   "execution_count": 274,
   "metadata": {},
   "outputs": [
    {
     "data": {
      "text/html": [
       "<div>\n",
       "<style scoped>\n",
       "    .dataframe tbody tr th:only-of-type {\n",
       "        vertical-align: middle;\n",
       "    }\n",
       "\n",
       "    .dataframe tbody tr th {\n",
       "        vertical-align: top;\n",
       "    }\n",
       "\n",
       "    .dataframe thead th {\n",
       "        text-align: right;\n",
       "    }\n",
       "</style>\n",
       "<table border=\"1\" class=\"dataframe\">\n",
       "  <thead>\n",
       "    <tr style=\"text-align: right;\">\n",
       "      <th></th>\n",
       "      <th>Year</th>\n",
       "      <th>Score</th>\n",
       "      <th>Method</th>\n",
       "      <th>Parameters</th>\n",
       "    </tr>\n",
       "  </thead>\n",
       "  <tbody>\n",
       "    <tr>\n",
       "      <th>0</th>\n",
       "      <td>2002</td>\n",
       "      <td>60.674157</td>\n",
       "      <td>Massey</td>\n",
       "      <td>('all', 'madness'),frac=1.0,dt=2,st=3,iw=0.5</td>\n",
       "    </tr>\n",
       "    <tr>\n",
       "      <th>1</th>\n",
       "      <td>2002</td>\n",
       "      <td>58.426966</td>\n",
       "      <td>Colley</td>\n",
       "      <td>('all', 'madness'),frac=1.0,dt=2,st=3,iw=0.5</td>\n",
       "    </tr>\n",
       "    <tr>\n",
       "      <th>2</th>\n",
       "      <td>2002</td>\n",
       "      <td>57.303371</td>\n",
       "      <td>Hillside(Massey Params)</td>\n",
       "      <td>('all', 'madness'),frac=1.0,dt=2,st=3,iw=0.5</td>\n",
       "    </tr>\n",
       "    <tr>\n",
       "      <th>3</th>\n",
       "      <td>2002</td>\n",
       "      <td>57.303371</td>\n",
       "      <td>Hillside(Colley Params)</td>\n",
       "      <td>('all', 'madness'),frac=1.0,dt=2,st=3,iw=0.5</td>\n",
       "    </tr>\n",
       "    <tr>\n",
       "      <th>4</th>\n",
       "      <td>2003</td>\n",
       "      <td>63.095238</td>\n",
       "      <td>Massey</td>\n",
       "      <td>('all', 'madness'),frac=1.0,dt=2,st=3,iw=0.5</td>\n",
       "    </tr>\n",
       "    <tr>\n",
       "      <th>...</th>\n",
       "      <td>...</td>\n",
       "      <td>...</td>\n",
       "      <td>...</td>\n",
       "      <td>...</td>\n",
       "    </tr>\n",
       "    <tr>\n",
       "      <th>63</th>\n",
       "      <td>2017</td>\n",
       "      <td>61.290323</td>\n",
       "      <td>Hillside(Colley Params)</td>\n",
       "      <td>('all', 'madness'),frac=1.0,dt=2,st=3,iw=0.5</td>\n",
       "    </tr>\n",
       "    <tr>\n",
       "      <th>64</th>\n",
       "      <td>2018</td>\n",
       "      <td>64.044944</td>\n",
       "      <td>Massey</td>\n",
       "      <td>('all', 'madness'),frac=1.0,dt=2,st=3,iw=0.5</td>\n",
       "    </tr>\n",
       "    <tr>\n",
       "      <th>65</th>\n",
       "      <td>2018</td>\n",
       "      <td>60.674157</td>\n",
       "      <td>Colley</td>\n",
       "      <td>('all', 'madness'),frac=1.0,dt=2,st=3,iw=0.5</td>\n",
       "    </tr>\n",
       "    <tr>\n",
       "      <th>66</th>\n",
       "      <td>2018</td>\n",
       "      <td>67.415730</td>\n",
       "      <td>Hillside(Massey Params)</td>\n",
       "      <td>('all', 'madness'),frac=1.0,dt=2,st=3,iw=0.5</td>\n",
       "    </tr>\n",
       "    <tr>\n",
       "      <th>67</th>\n",
       "      <td>2018</td>\n",
       "      <td>67.415730</td>\n",
       "      <td>Hillside(Colley Params)</td>\n",
       "      <td>('all', 'madness'),frac=1.0,dt=2,st=3,iw=0.5</td>\n",
       "    </tr>\n",
       "  </tbody>\n",
       "</table>\n",
       "<p>68 rows × 4 columns</p>\n",
       "</div>"
      ],
      "text/plain": [
       "    Year      Score                   Method  \\\n",
       "0   2002  60.674157                   Massey   \n",
       "1   2002  58.426966                   Colley   \n",
       "2   2002  57.303371  Hillside(Massey Params)   \n",
       "3   2002  57.303371  Hillside(Colley Params)   \n",
       "4   2003  63.095238                   Massey   \n",
       "..   ...        ...                      ...   \n",
       "63  2017  61.290323  Hillside(Colley Params)   \n",
       "64  2018  64.044944                   Massey   \n",
       "65  2018  60.674157                   Colley   \n",
       "66  2018  67.415730  Hillside(Massey Params)   \n",
       "67  2018  67.415730  Hillside(Colley Params)   \n",
       "\n",
       "                                      Parameters  \n",
       "0   ('all', 'madness'),frac=1.0,dt=2,st=3,iw=0.5  \n",
       "1   ('all', 'madness'),frac=1.0,dt=2,st=3,iw=0.5  \n",
       "2   ('all', 'madness'),frac=1.0,dt=2,st=3,iw=0.5  \n",
       "3   ('all', 'madness'),frac=1.0,dt=2,st=3,iw=0.5  \n",
       "4   ('all', 'madness'),frac=1.0,dt=2,st=3,iw=0.5  \n",
       "..                                           ...  \n",
       "63  ('all', 'madness'),frac=1.0,dt=2,st=3,iw=0.5  \n",
       "64  ('all', 'madness'),frac=1.0,dt=2,st=3,iw=0.5  \n",
       "65  ('all', 'madness'),frac=1.0,dt=2,st=3,iw=0.5  \n",
       "66  ('all', 'madness'),frac=1.0,dt=2,st=3,iw=0.5  \n",
       "67  ('all', 'madness'),frac=1.0,dt=2,st=3,iw=0.5  \n",
       "\n",
       "[68 rows x 4 columns]"
      ]
     },
     "execution_count": 274,
     "metadata": {},
     "output_type": "execute_result"
    }
   ],
   "source": [
    "predictability"
   ]
  },
  {
   "cell_type": "code",
   "execution_count": 276,
   "metadata": {},
   "outputs": [
    {
     "data": {
      "text/html": [
       "\n",
       "<div id=\"altair-viz-51c7ea778fb2474ba2ddd3cbde9dee11\"></div>\n",
       "<script type=\"text/javascript\">\n",
       "  (function(spec, embedOpt){\n",
       "    let outputDiv = document.currentScript.previousElementSibling;\n",
       "    if (outputDiv.id !== \"altair-viz-51c7ea778fb2474ba2ddd3cbde9dee11\") {\n",
       "      outputDiv = document.getElementById(\"altair-viz-51c7ea778fb2474ba2ddd3cbde9dee11\");\n",
       "    }\n",
       "    const paths = {\n",
       "      \"vega\": \"https://cdn.jsdelivr.net/npm//vega@5?noext\",\n",
       "      \"vega-lib\": \"https://cdn.jsdelivr.net/npm//vega-lib?noext\",\n",
       "      \"vega-lite\": \"https://cdn.jsdelivr.net/npm//vega-lite@4.8.1?noext\",\n",
       "      \"vega-embed\": \"https://cdn.jsdelivr.net/npm//vega-embed@6?noext\",\n",
       "    };\n",
       "\n",
       "    function loadScript(lib) {\n",
       "      return new Promise(function(resolve, reject) {\n",
       "        var s = document.createElement('script');\n",
       "        s.src = paths[lib];\n",
       "        s.async = true;\n",
       "        s.onload = () => resolve(paths[lib]);\n",
       "        s.onerror = () => reject(`Error loading script: ${paths[lib]}`);\n",
       "        document.getElementsByTagName(\"head\")[0].appendChild(s);\n",
       "      });\n",
       "    }\n",
       "\n",
       "    function showError(err) {\n",
       "      outputDiv.innerHTML = `<div class=\"error\" style=\"color:red;\">${err}</div>`;\n",
       "      throw err;\n",
       "    }\n",
       "\n",
       "    function displayChart(vegaEmbed) {\n",
       "      vegaEmbed(outputDiv, spec, embedOpt)\n",
       "        .catch(err => showError(`Javascript Error: ${err.message}<br>This usually means there's a typo in your chart specification. See the javascript console for the full traceback.`));\n",
       "    }\n",
       "\n",
       "    if(typeof define === \"function\" && define.amd) {\n",
       "      requirejs.config({paths});\n",
       "      require([\"vega-embed\"], displayChart, err => showError(`Error loading script: ${err.message}`));\n",
       "    } else if (typeof vegaEmbed === \"function\") {\n",
       "      displayChart(vegaEmbed);\n",
       "    } else {\n",
       "      loadScript(\"vega\")\n",
       "        .then(() => loadScript(\"vega-lite\"))\n",
       "        .then(() => loadScript(\"vega-embed\"))\n",
       "        .catch(showError)\n",
       "        .then(() => displayChart(vegaEmbed));\n",
       "    }\n",
       "  })({\"config\": {\"view\": {\"continuousWidth\": 400, \"continuousHeight\": 300}}, \"data\": {\"name\": \"data-ffcdc1edfd1b0b4e28919e5677e9f244\"}, \"mark\": \"line\", \"encoding\": {\"color\": {\"type\": \"nominal\", \"field\": \"Method\"}, \"x\": {\"type\": \"nominal\", \"field\": \"Year\"}, \"y\": {\"type\": \"quantitative\", \"field\": \"Score\"}}, \"$schema\": \"https://vega.github.io/schema/vega-lite/v4.8.1.json\", \"datasets\": {\"data-ffcdc1edfd1b0b4e28919e5677e9f244\": [{\"Year\": \"2002\", \"Score\": 60.67415730337079, \"Method\": \"Massey\", \"Parameters\": \"('all', 'madness'),frac=1.0,dt=2,st=3,iw=0.5\"}, {\"Year\": \"2002\", \"Score\": 58.42696629213483, \"Method\": \"Colley\", \"Parameters\": \"('all', 'madness'),frac=1.0,dt=2,st=3,iw=0.5\"}, {\"Year\": \"2002\", \"Score\": 57.30337078651685, \"Method\": \"Hillside(Massey Params)\", \"Parameters\": \"('all', 'madness'),frac=1.0,dt=2,st=3,iw=0.5\"}, {\"Year\": \"2002\", \"Score\": 57.30337078651685, \"Method\": \"Hillside(Colley Params)\", \"Parameters\": \"('all', 'madness'),frac=1.0,dt=2,st=3,iw=0.5\"}, {\"Year\": \"2003\", \"Score\": 63.095238095238095, \"Method\": \"Massey\", \"Parameters\": \"('all', 'madness'),frac=1.0,dt=2,st=3,iw=0.5\"}, {\"Year\": \"2003\", \"Score\": 55.952380952380956, \"Method\": \"Colley\", \"Parameters\": \"('all', 'madness'),frac=1.0,dt=2,st=3,iw=0.5\"}, {\"Year\": \"2003\", \"Score\": 63.095238095238095, \"Method\": \"Hillside(Massey Params)\", \"Parameters\": \"('all', 'madness'),frac=1.0,dt=2,st=3,iw=0.5\"}, {\"Year\": \"2003\", \"Score\": 63.095238095238095, \"Method\": \"Hillside(Colley Params)\", \"Parameters\": \"('all', 'madness'),frac=1.0,dt=2,st=3,iw=0.5\"}, {\"Year\": \"2004\", \"Score\": 60.215053763440864, \"Method\": \"Massey\", \"Parameters\": \"('all', 'madness'),frac=1.0,dt=2,st=3,iw=0.5\"}, {\"Year\": \"2004\", \"Score\": 60.215053763440864, \"Method\": \"Colley\", \"Parameters\": \"('all', 'madness'),frac=1.0,dt=2,st=3,iw=0.5\"}, {\"Year\": \"2004\", \"Score\": 63.44086021505376, \"Method\": \"Hillside(Massey Params)\", \"Parameters\": \"('all', 'madness'),frac=1.0,dt=2,st=3,iw=0.5\"}, {\"Year\": \"2004\", \"Score\": 63.44086021505376, \"Method\": \"Hillside(Colley Params)\", \"Parameters\": \"('all', 'madness'),frac=1.0,dt=2,st=3,iw=0.5\"}, {\"Year\": \"2005\", \"Score\": 73.62637362637363, \"Method\": \"Massey\", \"Parameters\": \"('all', 'madness'),frac=1.0,dt=2,st=3,iw=0.5\"}, {\"Year\": \"2005\", \"Score\": 68.13186813186813, \"Method\": \"Colley\", \"Parameters\": \"('all', 'madness'),frac=1.0,dt=2,st=3,iw=0.5\"}, {\"Year\": \"2005\", \"Score\": 65.93406593406593, \"Method\": \"Hillside(Massey Params)\", \"Parameters\": \"('all', 'madness'),frac=1.0,dt=2,st=3,iw=0.5\"}, {\"Year\": \"2005\", \"Score\": 65.93406593406593, \"Method\": \"Hillside(Colley Params)\", \"Parameters\": \"('all', 'madness'),frac=1.0,dt=2,st=3,iw=0.5\"}, {\"Year\": \"2006\", \"Score\": 63.95348837209303, \"Method\": \"Massey\", \"Parameters\": \"('all', 'madness'),frac=1.0,dt=2,st=3,iw=0.5\"}, {\"Year\": \"2006\", \"Score\": 63.95348837209303, \"Method\": \"Colley\", \"Parameters\": \"('all', 'madness'),frac=1.0,dt=2,st=3,iw=0.5\"}, {\"Year\": \"2006\", \"Score\": 62.7906976744186, \"Method\": \"Hillside(Massey Params)\", \"Parameters\": \"('all', 'madness'),frac=1.0,dt=2,st=3,iw=0.5\"}, {\"Year\": \"2006\", \"Score\": 62.7906976744186, \"Method\": \"Hillside(Colley Params)\", \"Parameters\": \"('all', 'madness'),frac=1.0,dt=2,st=3,iw=0.5\"}, {\"Year\": \"2007\", \"Score\": 69.04761904761905, \"Method\": \"Massey\", \"Parameters\": \"('all', 'madness'),frac=1.0,dt=2,st=3,iw=0.5\"}, {\"Year\": \"2007\", \"Score\": 72.61904761904762, \"Method\": \"Colley\", \"Parameters\": \"('all', 'madness'),frac=1.0,dt=2,st=3,iw=0.5\"}, {\"Year\": \"2007\", \"Score\": 70.23809523809523, \"Method\": \"Hillside(Massey Params)\", \"Parameters\": \"('all', 'madness'),frac=1.0,dt=2,st=3,iw=0.5\"}, {\"Year\": \"2007\", \"Score\": 70.23809523809523, \"Method\": \"Hillside(Colley Params)\", \"Parameters\": \"('all', 'madness'),frac=1.0,dt=2,st=3,iw=0.5\"}, {\"Year\": \"2008\", \"Score\": 70.78651685393258, \"Method\": \"Massey\", \"Parameters\": \"('all', 'madness'),frac=1.0,dt=2,st=3,iw=0.5\"}, {\"Year\": \"2008\", \"Score\": 64.04494382022472, \"Method\": \"Colley\", \"Parameters\": \"('all', 'madness'),frac=1.0,dt=2,st=3,iw=0.5\"}, {\"Year\": \"2008\", \"Score\": 65.1685393258427, \"Method\": \"Hillside(Massey Params)\", \"Parameters\": \"('all', 'madness'),frac=1.0,dt=2,st=3,iw=0.5\"}, {\"Year\": \"2008\", \"Score\": 65.1685393258427, \"Method\": \"Hillside(Colley Params)\", \"Parameters\": \"('all', 'madness'),frac=1.0,dt=2,st=3,iw=0.5\"}, {\"Year\": \"2009\", \"Score\": 63.33333333333333, \"Method\": \"Massey\", \"Parameters\": \"('all', 'madness'),frac=1.0,dt=2,st=3,iw=0.5\"}, {\"Year\": \"2009\", \"Score\": 62.22222222222222, \"Method\": \"Colley\", \"Parameters\": \"('all', 'madness'),frac=1.0,dt=2,st=3,iw=0.5\"}, {\"Year\": \"2009\", \"Score\": 63.33333333333333, \"Method\": \"Hillside(Massey Params)\", \"Parameters\": \"('all', 'madness'),frac=1.0,dt=2,st=3,iw=0.5\"}, {\"Year\": \"2009\", \"Score\": 63.33333333333333, \"Method\": \"Hillside(Colley Params)\", \"Parameters\": \"('all', 'madness'),frac=1.0,dt=2,st=3,iw=0.5\"}, {\"Year\": \"2010\", \"Score\": 64.44444444444444, \"Method\": \"Massey\", \"Parameters\": \"('all', 'madness'),frac=1.0,dt=2,st=3,iw=0.5\"}, {\"Year\": \"2010\", \"Score\": 66.66666666666666, \"Method\": \"Colley\", \"Parameters\": \"('all', 'madness'),frac=1.0,dt=2,st=3,iw=0.5\"}, {\"Year\": \"2010\", \"Score\": 58.88888888888889, \"Method\": \"Hillside(Massey Params)\", \"Parameters\": \"('all', 'madness'),frac=1.0,dt=2,st=3,iw=0.5\"}, {\"Year\": \"2010\", \"Score\": 58.88888888888889, \"Method\": \"Hillside(Colley Params)\", \"Parameters\": \"('all', 'madness'),frac=1.0,dt=2,st=3,iw=0.5\"}, {\"Year\": \"2011\", \"Score\": 61.458333333333336, \"Method\": \"Massey\", \"Parameters\": \"('all', 'madness'),frac=1.0,dt=2,st=3,iw=0.5\"}, {\"Year\": \"2011\", \"Score\": 59.375, \"Method\": \"Colley\", \"Parameters\": \"('all', 'madness'),frac=1.0,dt=2,st=3,iw=0.5\"}, {\"Year\": \"2011\", \"Score\": 61.458333333333336, \"Method\": \"Hillside(Massey Params)\", \"Parameters\": \"('all', 'madness'),frac=1.0,dt=2,st=3,iw=0.5\"}, {\"Year\": \"2011\", \"Score\": 61.458333333333336, \"Method\": \"Hillside(Colley Params)\", \"Parameters\": \"('all', 'madness'),frac=1.0,dt=2,st=3,iw=0.5\"}, {\"Year\": \"2012\", \"Score\": 63.91752577319587, \"Method\": \"Massey\", \"Parameters\": \"('all', 'madness'),frac=1.0,dt=2,st=3,iw=0.5\"}, {\"Year\": \"2012\", \"Score\": 57.73195876288659, \"Method\": \"Colley\", \"Parameters\": \"('all', 'madness'),frac=1.0,dt=2,st=3,iw=0.5\"}, {\"Year\": \"2012\", \"Score\": 63.91752577319587, \"Method\": \"Hillside(Massey Params)\", \"Parameters\": \"('all', 'madness'),frac=1.0,dt=2,st=3,iw=0.5\"}, {\"Year\": \"2012\", \"Score\": 63.91752577319587, \"Method\": \"Hillside(Colley Params)\", \"Parameters\": \"('all', 'madness'),frac=1.0,dt=2,st=3,iw=0.5\"}, {\"Year\": \"2013\", \"Score\": 60.204081632653065, \"Method\": \"Massey\", \"Parameters\": \"('all', 'madness'),frac=1.0,dt=2,st=3,iw=0.5\"}, {\"Year\": \"2013\", \"Score\": 69.38775510204081, \"Method\": \"Colley\", \"Parameters\": \"('all', 'madness'),frac=1.0,dt=2,st=3,iw=0.5\"}, {\"Year\": \"2013\", \"Score\": 64.28571428571429, \"Method\": \"Hillside(Massey Params)\", \"Parameters\": \"('all', 'madness'),frac=1.0,dt=2,st=3,iw=0.5\"}, {\"Year\": \"2013\", \"Score\": 64.28571428571429, \"Method\": \"Hillside(Colley Params)\", \"Parameters\": \"('all', 'madness'),frac=1.0,dt=2,st=3,iw=0.5\"}, {\"Year\": \"2014\", \"Score\": 61.0, \"Method\": \"Massey\", \"Parameters\": \"('all', 'madness'),frac=1.0,dt=2,st=3,iw=0.5\"}, {\"Year\": \"2014\", \"Score\": 61.0, \"Method\": \"Colley\", \"Parameters\": \"('all', 'madness'),frac=1.0,dt=2,st=3,iw=0.5\"}, {\"Year\": \"2014\", \"Score\": 55.00000000000001, \"Method\": \"Hillside(Massey Params)\", \"Parameters\": \"('all', 'madness'),frac=1.0,dt=2,st=3,iw=0.5\"}, {\"Year\": \"2014\", \"Score\": 55.00000000000001, \"Method\": \"Hillside(Colley Params)\", \"Parameters\": \"('all', 'madness'),frac=1.0,dt=2,st=3,iw=0.5\"}, {\"Year\": \"2015\", \"Score\": 66.3265306122449, \"Method\": \"Massey\", \"Parameters\": \"('all', 'madness'),frac=1.0,dt=2,st=3,iw=0.5\"}, {\"Year\": \"2015\", \"Score\": 60.204081632653065, \"Method\": \"Colley\", \"Parameters\": \"('all', 'madness'),frac=1.0,dt=2,st=3,iw=0.5\"}, {\"Year\": \"2015\", \"Score\": 64.28571428571429, \"Method\": \"Hillside(Massey Params)\", \"Parameters\": \"('all', 'madness'),frac=1.0,dt=2,st=3,iw=0.5\"}, {\"Year\": \"2015\", \"Score\": 64.28571428571429, \"Method\": \"Hillside(Colley Params)\", \"Parameters\": \"('all', 'madness'),frac=1.0,dt=2,st=3,iw=0.5\"}, {\"Year\": \"2016\", \"Score\": 67.85714285714286, \"Method\": \"Massey\", \"Parameters\": \"('all', 'madness'),frac=1.0,dt=2,st=3,iw=0.5\"}, {\"Year\": \"2016\", \"Score\": 70.23809523809523, \"Method\": \"Colley\", \"Parameters\": \"('all', 'madness'),frac=1.0,dt=2,st=3,iw=0.5\"}, {\"Year\": \"2016\", \"Score\": 70.23809523809523, \"Method\": \"Hillside(Massey Params)\", \"Parameters\": \"('all', 'madness'),frac=1.0,dt=2,st=3,iw=0.5\"}, {\"Year\": \"2016\", \"Score\": 70.23809523809523, \"Method\": \"Hillside(Colley Params)\", \"Parameters\": \"('all', 'madness'),frac=1.0,dt=2,st=3,iw=0.5\"}, {\"Year\": \"2017\", \"Score\": 58.06451612903226, \"Method\": \"Massey\", \"Parameters\": \"('all', 'madness'),frac=1.0,dt=2,st=3,iw=0.5\"}, {\"Year\": \"2017\", \"Score\": 58.06451612903226, \"Method\": \"Colley\", \"Parameters\": \"('all', 'madness'),frac=1.0,dt=2,st=3,iw=0.5\"}, {\"Year\": \"2017\", \"Score\": 61.29032258064516, \"Method\": \"Hillside(Massey Params)\", \"Parameters\": \"('all', 'madness'),frac=1.0,dt=2,st=3,iw=0.5\"}, {\"Year\": \"2017\", \"Score\": 61.29032258064516, \"Method\": \"Hillside(Colley Params)\", \"Parameters\": \"('all', 'madness'),frac=1.0,dt=2,st=3,iw=0.5\"}, {\"Year\": \"2018\", \"Score\": 64.04494382022472, \"Method\": \"Massey\", \"Parameters\": \"('all', 'madness'),frac=1.0,dt=2,st=3,iw=0.5\"}, {\"Year\": \"2018\", \"Score\": 60.67415730337079, \"Method\": \"Colley\", \"Parameters\": \"('all', 'madness'),frac=1.0,dt=2,st=3,iw=0.5\"}, {\"Year\": \"2018\", \"Score\": 67.41573033707866, \"Method\": \"Hillside(Massey Params)\", \"Parameters\": \"('all', 'madness'),frac=1.0,dt=2,st=3,iw=0.5\"}, {\"Year\": \"2018\", \"Score\": 67.41573033707866, \"Method\": \"Hillside(Colley Params)\", \"Parameters\": \"('all', 'madness'),frac=1.0,dt=2,st=3,iw=0.5\"}]}}, {\"mode\": \"vega-lite\"});\n",
       "</script>"
      ],
      "text/plain": [
       "alt.Chart(...)"
      ]
     },
     "execution_count": 276,
     "metadata": {},
     "output_type": "execute_result"
    }
   ],
   "source": [
    "import altair as alt\n",
    "alt.Chart(predictability).mark_line().encode(\n",
    "    x='Year',\n",
    "    y='Score',\n",
    "    color='Method'\n",
    ")"
   ]
  },
  {
   "cell_type": "code",
   "execution_count": 278,
   "metadata": {},
   "outputs": [],
   "source": [
    "# TODO: you would have to pick a hillside here\n",
    "hillside_details = colley_hillside_details\n",
    "D_fig = None\n",
    "for year in years:\n",
    "    perm = np.array(hillside_details[year]['details']['P'][0])\n",
    "    c_reordered = hillside_details[year]['details']['c'].iloc[perm,:].iloc[:,perm]\n",
    "    x_reordered = hillside_details[year]['details']['x'].iloc[perm,:].iloc[:,perm]\n",
    "    D_reordered = hillside_details[year]['details']['D'].iloc[perm,:].iloc[:,perm]\n",
    "    \n",
    "    fig_year = pyrankability.plot.show_hillside(hillside_details[year]['details']['D'],perm)\n",
    "    if D_fig is None:\n",
    "        D_fig = fig_year\n",
    "    else:\n",
    "        D_fig &= fig_year\n",
    "hillside_D_fig = D_fig"
   ]
  },
  {
   "cell_type": "code",
   "execution_count": 280,
   "metadata": {},
   "outputs": [],
   "source": [
    "hillside_details = colley_hillside_details\n",
    "C_fig = None\n",
    "for year in years:\n",
    "    perm = np.array(hillside_details[year]['details']['P'][0])\n",
    "    \n",
    "    fig_year = pyrankability.plot.show_hillside(hillside_details[year]['details']['c'],perm)\n",
    "    if C_fig is None:\n",
    "        C_fig = fig_year\n",
    "    else:\n",
    "        C_fig &= fig_year\n",
    "hillside_C_fig = C_fig"
   ]
  },
  {
   "cell_type": "code",
   "execution_count": 394,
   "metadata": {},
   "outputs": [],
   "source": [
    "top_ns = list(range(2,30,1))\n",
    "graph_df = pd.DataFrame(columns=[\"Method\",\"Year\",\"k\",\"k_orig\",\"sum_c\",\"k_worst\",\"top_n\"])\n",
    "name=0\n",
    "for year in years:\n",
    "    hillside_details = colley_hillside_details\n",
    "    method = 'Colley'\n",
    "    def add_results(graph_df,method,hillside_details,name):\n",
    "        perm = np.array(hillside_details[year]['details']['P'][0])\n",
    "        c = hillside_details[year]['details']['c']\n",
    "        c_reordered = c.iloc[perm,:].iloc[:,perm]\n",
    "        x_reordered = hillside_details[year]['details']['x'].iloc[perm,:].iloc[:,perm]\n",
    "        D_reordered = hillside_details[year]['details']['D'].iloc[perm,:].iloc[:,perm]\n",
    "        k_worst = np.sum(np.triu(c.iloc[perm[::-1],:].iloc[:,perm[::-1]]))\n",
    "        k_orig = np.sum(np.triu(c.iloc[perm,:].iloc[:,perm]))\n",
    "        for top_n in top_ns:\n",
    "            k = np.sum(np.triu(c.iloc[perm[:top_n],:].iloc[:,perm[:top_n]]))\n",
    "            sum_c = np.sum(np.sum(c.iloc[perm[:top_n],:].iloc[:,perm[:top_n]]))\n",
    "            #c = c_reordered.iloc[:top_n,:].iloc[:,:top_n]\n",
    "            #x = np.round(pyrankability.common.threshold_x(x_reordered.iloc[:top_n,:].iloc[:,:top_n].values))\n",
    "            #k2 = np.sum(np.sum(x*c))\n",
    "            graph_df = graph_df.append(pd.Series([method,year,k,k_orig,sum_c,k_worst,top_n],name=name,index=graph_df.columns)); name+=1\n",
    "        return graph_df,name\n",
    "    \n",
    "    graph_df,name = add_results(graph_df,'Hillside(Colley Params)',colley_hillside_details,name)\n",
    "    graph_df,name = add_results(graph_df,'Hillside(Massey Params)',massey_hillside_details,name)"
   ]
  },
  {
   "cell_type": "code",
   "execution_count": 395,
   "metadata": {},
   "outputs": [
    {
     "data": {
      "text/html": [
       "<div>\n",
       "<style scoped>\n",
       "    .dataframe tbody tr th:only-of-type {\n",
       "        vertical-align: middle;\n",
       "    }\n",
       "\n",
       "    .dataframe tbody tr th {\n",
       "        vertical-align: top;\n",
       "    }\n",
       "\n",
       "    .dataframe thead th {\n",
       "        text-align: right;\n",
       "    }\n",
       "</style>\n",
       "<table border=\"1\" class=\"dataframe\">\n",
       "  <thead>\n",
       "    <tr style=\"text-align: right;\">\n",
       "      <th></th>\n",
       "      <th>Method</th>\n",
       "      <th>Year</th>\n",
       "      <th>k</th>\n",
       "      <th>k_orig</th>\n",
       "      <th>sum_c</th>\n",
       "      <th>k_worst</th>\n",
       "      <th>top_n</th>\n",
       "    </tr>\n",
       "  </thead>\n",
       "  <tbody>\n",
       "    <tr>\n",
       "      <th>0</th>\n",
       "      <td>Hillside(Colley Params)</td>\n",
       "      <td>2002</td>\n",
       "      <td>14.0</td>\n",
       "      <td>26752.0</td>\n",
       "      <td>44.0</td>\n",
       "      <td>47643.0</td>\n",
       "      <td>2</td>\n",
       "    </tr>\n",
       "    <tr>\n",
       "      <th>1</th>\n",
       "      <td>Hillside(Colley Params)</td>\n",
       "      <td>2002</td>\n",
       "      <td>58.0</td>\n",
       "      <td>26752.0</td>\n",
       "      <td>137.0</td>\n",
       "      <td>47643.0</td>\n",
       "      <td>3</td>\n",
       "    </tr>\n",
       "    <tr>\n",
       "      <th>2</th>\n",
       "      <td>Hillside(Colley Params)</td>\n",
       "      <td>2002</td>\n",
       "      <td>106.0</td>\n",
       "      <td>26752.0</td>\n",
       "      <td>248.0</td>\n",
       "      <td>47643.0</td>\n",
       "      <td>4</td>\n",
       "    </tr>\n",
       "    <tr>\n",
       "      <th>3</th>\n",
       "      <td>Hillside(Colley Params)</td>\n",
       "      <td>2002</td>\n",
       "      <td>176.0</td>\n",
       "      <td>26752.0</td>\n",
       "      <td>415.0</td>\n",
       "      <td>47643.0</td>\n",
       "      <td>5</td>\n",
       "    </tr>\n",
       "    <tr>\n",
       "      <th>4</th>\n",
       "      <td>Hillside(Colley Params)</td>\n",
       "      <td>2002</td>\n",
       "      <td>271.0</td>\n",
       "      <td>26752.0</td>\n",
       "      <td>623.0</td>\n",
       "      <td>47643.0</td>\n",
       "      <td>6</td>\n",
       "    </tr>\n",
       "    <tr>\n",
       "      <th>...</th>\n",
       "      <td>...</td>\n",
       "      <td>...</td>\n",
       "      <td>...</td>\n",
       "      <td>...</td>\n",
       "      <td>...</td>\n",
       "      <td>...</td>\n",
       "      <td>...</td>\n",
       "    </tr>\n",
       "    <tr>\n",
       "      <th>947</th>\n",
       "      <td>Hillside(Massey Params)</td>\n",
       "      <td>2018</td>\n",
       "      <td>6368.0</td>\n",
       "      <td>30196.0</td>\n",
       "      <td>14454.0</td>\n",
       "      <td>52517.0</td>\n",
       "      <td>25</td>\n",
       "    </tr>\n",
       "    <tr>\n",
       "      <th>948</th>\n",
       "      <td>Hillside(Massey Params)</td>\n",
       "      <td>2018</td>\n",
       "      <td>6996.0</td>\n",
       "      <td>30196.0</td>\n",
       "      <td>15864.0</td>\n",
       "      <td>52517.0</td>\n",
       "      <td>26</td>\n",
       "    </tr>\n",
       "    <tr>\n",
       "      <th>949</th>\n",
       "      <td>Hillside(Massey Params)</td>\n",
       "      <td>2018</td>\n",
       "      <td>7556.0</td>\n",
       "      <td>30196.0</td>\n",
       "      <td>17122.0</td>\n",
       "      <td>52517.0</td>\n",
       "      <td>27</td>\n",
       "    </tr>\n",
       "    <tr>\n",
       "      <th>950</th>\n",
       "      <td>Hillside(Massey Params)</td>\n",
       "      <td>2018</td>\n",
       "      <td>8165.0</td>\n",
       "      <td>30196.0</td>\n",
       "      <td>18646.0</td>\n",
       "      <td>52517.0</td>\n",
       "      <td>28</td>\n",
       "    </tr>\n",
       "    <tr>\n",
       "      <th>951</th>\n",
       "      <td>Hillside(Massey Params)</td>\n",
       "      <td>2018</td>\n",
       "      <td>8726.0</td>\n",
       "      <td>30196.0</td>\n",
       "      <td>19891.0</td>\n",
       "      <td>52517.0</td>\n",
       "      <td>29</td>\n",
       "    </tr>\n",
       "  </tbody>\n",
       "</table>\n",
       "<p>952 rows × 7 columns</p>\n",
       "</div>"
      ],
      "text/plain": [
       "                      Method  Year       k   k_orig    sum_c  k_worst top_n\n",
       "0    Hillside(Colley Params)  2002    14.0  26752.0     44.0  47643.0     2\n",
       "1    Hillside(Colley Params)  2002    58.0  26752.0    137.0  47643.0     3\n",
       "2    Hillside(Colley Params)  2002   106.0  26752.0    248.0  47643.0     4\n",
       "3    Hillside(Colley Params)  2002   176.0  26752.0    415.0  47643.0     5\n",
       "4    Hillside(Colley Params)  2002   271.0  26752.0    623.0  47643.0     6\n",
       "..                       ...   ...     ...      ...      ...      ...   ...\n",
       "947  Hillside(Massey Params)  2018  6368.0  30196.0  14454.0  52517.0    25\n",
       "948  Hillside(Massey Params)  2018  6996.0  30196.0  15864.0  52517.0    26\n",
       "949  Hillside(Massey Params)  2018  7556.0  30196.0  17122.0  52517.0    27\n",
       "950  Hillside(Massey Params)  2018  8165.0  30196.0  18646.0  52517.0    28\n",
       "951  Hillside(Massey Params)  2018  8726.0  30196.0  19891.0  52517.0    29\n",
       "\n",
       "[952 rows x 7 columns]"
      ]
     },
     "execution_count": 395,
     "metadata": {},
     "output_type": "execute_result"
    }
   ],
   "source": [
    "graph_df"
   ]
  },
  {
   "cell_type": "code",
   "execution_count": 423,
   "metadata": {},
   "outputs": [],
   "source": [
    "graph_df['k/k_orig'] = graph_df['k']/graph_df['k_orig']\n",
    "graph_df['k/(k_worst-k_orig)'] = graph_df['k']/(graph_df['k_worst']-graph_df['k_orig'])\n",
    "graph_df['k/k_worst'] = graph_df['k']/graph_df['k_worst']\n",
    "graph_df['k/sum_c'] = graph_df['k']/graph_df['sum_c']"
   ]
  },
  {
   "cell_type": "code",
   "execution_count": 424,
   "metadata": {},
   "outputs": [
    {
     "data": {
      "text/html": [
       "<div>\n",
       "<style scoped>\n",
       "    .dataframe tbody tr th:only-of-type {\n",
       "        vertical-align: middle;\n",
       "    }\n",
       "\n",
       "    .dataframe tbody tr th {\n",
       "        vertical-align: top;\n",
       "    }\n",
       "\n",
       "    .dataframe thead th {\n",
       "        text-align: right;\n",
       "    }\n",
       "</style>\n",
       "<table border=\"1\" class=\"dataframe\">\n",
       "  <thead>\n",
       "    <tr style=\"text-align: right;\">\n",
       "      <th></th>\n",
       "      <th>Method</th>\n",
       "      <th>Year</th>\n",
       "      <th>k</th>\n",
       "      <th>k_orig</th>\n",
       "      <th>sum_c</th>\n",
       "      <th>k_worst</th>\n",
       "      <th>top_n</th>\n",
       "      <th>k/k_orig</th>\n",
       "      <th>k/k_worst</th>\n",
       "      <th>k/sum_c</th>\n",
       "      <th>k*k_orig/k_worst</th>\n",
       "      <th>k/(k_worst-k_orig)</th>\n",
       "    </tr>\n",
       "  </thead>\n",
       "  <tbody>\n",
       "    <tr>\n",
       "      <th>0</th>\n",
       "      <td>Hillside(Colley Params)</td>\n",
       "      <td>2002</td>\n",
       "      <td>14.0</td>\n",
       "      <td>26752.0</td>\n",
       "      <td>44.0</td>\n",
       "      <td>47643.0</td>\n",
       "      <td>2</td>\n",
       "      <td>0.000523</td>\n",
       "      <td>0.000294</td>\n",
       "      <td>0.318182</td>\n",
       "      <td>7.861134</td>\n",
       "      <td>0.000670</td>\n",
       "    </tr>\n",
       "    <tr>\n",
       "      <th>1</th>\n",
       "      <td>Hillside(Colley Params)</td>\n",
       "      <td>2002</td>\n",
       "      <td>58.0</td>\n",
       "      <td>26752.0</td>\n",
       "      <td>137.0</td>\n",
       "      <td>47643.0</td>\n",
       "      <td>3</td>\n",
       "      <td>0.002168</td>\n",
       "      <td>0.001217</td>\n",
       "      <td>0.423358</td>\n",
       "      <td>32.567555</td>\n",
       "      <td>0.002776</td>\n",
       "    </tr>\n",
       "    <tr>\n",
       "      <th>2</th>\n",
       "      <td>Hillside(Colley Params)</td>\n",
       "      <td>2002</td>\n",
       "      <td>106.0</td>\n",
       "      <td>26752.0</td>\n",
       "      <td>248.0</td>\n",
       "      <td>47643.0</td>\n",
       "      <td>4</td>\n",
       "      <td>0.003962</td>\n",
       "      <td>0.002225</td>\n",
       "      <td>0.427419</td>\n",
       "      <td>59.520013</td>\n",
       "      <td>0.005074</td>\n",
       "    </tr>\n",
       "    <tr>\n",
       "      <th>3</th>\n",
       "      <td>Hillside(Colley Params)</td>\n",
       "      <td>2002</td>\n",
       "      <td>176.0</td>\n",
       "      <td>26752.0</td>\n",
       "      <td>415.0</td>\n",
       "      <td>47643.0</td>\n",
       "      <td>5</td>\n",
       "      <td>0.006579</td>\n",
       "      <td>0.003694</td>\n",
       "      <td>0.424096</td>\n",
       "      <td>98.825683</td>\n",
       "      <td>0.008425</td>\n",
       "    </tr>\n",
       "    <tr>\n",
       "      <th>4</th>\n",
       "      <td>Hillside(Colley Params)</td>\n",
       "      <td>2002</td>\n",
       "      <td>271.0</td>\n",
       "      <td>26752.0</td>\n",
       "      <td>623.0</td>\n",
       "      <td>47643.0</td>\n",
       "      <td>6</td>\n",
       "      <td>0.010130</td>\n",
       "      <td>0.005688</td>\n",
       "      <td>0.434992</td>\n",
       "      <td>152.169091</td>\n",
       "      <td>0.012972</td>\n",
       "    </tr>\n",
       "    <tr>\n",
       "      <th>...</th>\n",
       "      <td>...</td>\n",
       "      <td>...</td>\n",
       "      <td>...</td>\n",
       "      <td>...</td>\n",
       "      <td>...</td>\n",
       "      <td>...</td>\n",
       "      <td>...</td>\n",
       "      <td>...</td>\n",
       "      <td>...</td>\n",
       "      <td>...</td>\n",
       "      <td>...</td>\n",
       "      <td>...</td>\n",
       "    </tr>\n",
       "    <tr>\n",
       "      <th>947</th>\n",
       "      <td>Hillside(Massey Params)</td>\n",
       "      <td>2018</td>\n",
       "      <td>6368.0</td>\n",
       "      <td>30196.0</td>\n",
       "      <td>14454.0</td>\n",
       "      <td>52517.0</td>\n",
       "      <td>25</td>\n",
       "      <td>0.210889</td>\n",
       "      <td>0.121256</td>\n",
       "      <td>0.440570</td>\n",
       "      <td>3661.445399</td>\n",
       "      <td>0.285292</td>\n",
       "    </tr>\n",
       "    <tr>\n",
       "      <th>948</th>\n",
       "      <td>Hillside(Massey Params)</td>\n",
       "      <td>2018</td>\n",
       "      <td>6996.0</td>\n",
       "      <td>30196.0</td>\n",
       "      <td>15864.0</td>\n",
       "      <td>52517.0</td>\n",
       "      <td>26</td>\n",
       "      <td>0.231686</td>\n",
       "      <td>0.133214</td>\n",
       "      <td>0.440998</td>\n",
       "      <td>4022.530152</td>\n",
       "      <td>0.313427</td>\n",
       "    </tr>\n",
       "    <tr>\n",
       "      <th>949</th>\n",
       "      <td>Hillside(Massey Params)</td>\n",
       "      <td>2018</td>\n",
       "      <td>7556.0</td>\n",
       "      <td>30196.0</td>\n",
       "      <td>17122.0</td>\n",
       "      <td>52517.0</td>\n",
       "      <td>27</td>\n",
       "      <td>0.250232</td>\n",
       "      <td>0.143877</td>\n",
       "      <td>0.441304</td>\n",
       "      <td>4344.516557</td>\n",
       "      <td>0.338515</td>\n",
       "    </tr>\n",
       "    <tr>\n",
       "      <th>950</th>\n",
       "      <td>Hillside(Massey Params)</td>\n",
       "      <td>2018</td>\n",
       "      <td>8165.0</td>\n",
       "      <td>30196.0</td>\n",
       "      <td>18646.0</td>\n",
       "      <td>52517.0</td>\n",
       "      <td>28</td>\n",
       "      <td>0.270400</td>\n",
       "      <td>0.155473</td>\n",
       "      <td>0.437896</td>\n",
       "      <td>4694.676771</td>\n",
       "      <td>0.365799</td>\n",
       "    </tr>\n",
       "    <tr>\n",
       "      <th>951</th>\n",
       "      <td>Hillside(Massey Params)</td>\n",
       "      <td>2018</td>\n",
       "      <td>8726.0</td>\n",
       "      <td>30196.0</td>\n",
       "      <td>19891.0</td>\n",
       "      <td>52517.0</td>\n",
       "      <td>29</td>\n",
       "      <td>0.288979</td>\n",
       "      <td>0.166156</td>\n",
       "      <td>0.438691</td>\n",
       "      <td>5017.238151</td>\n",
       "      <td>0.390932</td>\n",
       "    </tr>\n",
       "  </tbody>\n",
       "</table>\n",
       "<p>952 rows × 12 columns</p>\n",
       "</div>"
      ],
      "text/plain": [
       "                      Method  Year       k   k_orig    sum_c  k_worst top_n  \\\n",
       "0    Hillside(Colley Params)  2002    14.0  26752.0     44.0  47643.0     2   \n",
       "1    Hillside(Colley Params)  2002    58.0  26752.0    137.0  47643.0     3   \n",
       "2    Hillside(Colley Params)  2002   106.0  26752.0    248.0  47643.0     4   \n",
       "3    Hillside(Colley Params)  2002   176.0  26752.0    415.0  47643.0     5   \n",
       "4    Hillside(Colley Params)  2002   271.0  26752.0    623.0  47643.0     6   \n",
       "..                       ...   ...     ...      ...      ...      ...   ...   \n",
       "947  Hillside(Massey Params)  2018  6368.0  30196.0  14454.0  52517.0    25   \n",
       "948  Hillside(Massey Params)  2018  6996.0  30196.0  15864.0  52517.0    26   \n",
       "949  Hillside(Massey Params)  2018  7556.0  30196.0  17122.0  52517.0    27   \n",
       "950  Hillside(Massey Params)  2018  8165.0  30196.0  18646.0  52517.0    28   \n",
       "951  Hillside(Massey Params)  2018  8726.0  30196.0  19891.0  52517.0    29   \n",
       "\n",
       "     k/k_orig  k/k_worst   k/sum_c  k*k_orig/k_worst  k/(k_worst-k_orig)  \n",
       "0    0.000523   0.000294  0.318182          7.861134            0.000670  \n",
       "1    0.002168   0.001217  0.423358         32.567555            0.002776  \n",
       "2    0.003962   0.002225  0.427419         59.520013            0.005074  \n",
       "3    0.006579   0.003694  0.424096         98.825683            0.008425  \n",
       "4    0.010130   0.005688  0.434992        152.169091            0.012972  \n",
       "..        ...        ...       ...               ...                 ...  \n",
       "947  0.210889   0.121256  0.440570       3661.445399            0.285292  \n",
       "948  0.231686   0.133214  0.440998       4022.530152            0.313427  \n",
       "949  0.250232   0.143877  0.441304       4344.516557            0.338515  \n",
       "950  0.270400   0.155473  0.437896       4694.676771            0.365799  \n",
       "951  0.288979   0.166156  0.438691       5017.238151            0.390932  \n",
       "\n",
       "[952 rows x 12 columns]"
      ]
     },
     "execution_count": 424,
     "metadata": {},
     "output_type": "execute_result"
    }
   ],
   "source": [
    "graph_df"
   ]
  },
  {
   "cell_type": "code",
   "execution_count": 456,
   "metadata": {},
   "outputs": [],
   "source": [
    "top_n = graph_df.set_index(['Method','Year'])['top_n']\n",
    "pct_change = graph_df[['Method','Year']+['k']].groupby(['Method','Year']).pct_change()*100\n",
    "pct_change.columns = ['pct_change k']\n",
    "pct_change_labels = graph_df[['Method','Year']+['k']+['k/k_worst','top_n']].groupby(['Method','Year']).apply(lambda df: df)\n",
    "#pct_change[\"top_n\"]=top_n\n",
    "pct_change=pct_change_labels.join(pct_change)\n",
    "#.join(graph_df.set_index(['Method','Year'])[['top_n']])"
   ]
  },
  {
   "cell_type": "code",
   "execution_count": 457,
   "metadata": {},
   "outputs": [
    {
     "data": {
      "text/html": [
       "<div>\n",
       "<style scoped>\n",
       "    .dataframe tbody tr th:only-of-type {\n",
       "        vertical-align: middle;\n",
       "    }\n",
       "\n",
       "    .dataframe tbody tr th {\n",
       "        vertical-align: top;\n",
       "    }\n",
       "\n",
       "    .dataframe thead th {\n",
       "        text-align: right;\n",
       "    }\n",
       "</style>\n",
       "<table border=\"1\" class=\"dataframe\">\n",
       "  <thead>\n",
       "    <tr style=\"text-align: right;\">\n",
       "      <th></th>\n",
       "      <th>Year</th>\n",
       "      <th>index</th>\n",
       "      <th>Method</th>\n",
       "      <th>k</th>\n",
       "      <th>k/k_worst</th>\n",
       "      <th>top_n</th>\n",
       "      <th>pct_change k</th>\n",
       "    </tr>\n",
       "  </thead>\n",
       "  <tbody>\n",
       "    <tr>\n",
       "      <th>0</th>\n",
       "      <td>2009</td>\n",
       "      <td>392</td>\n",
       "      <td>Hillside(Colley Params)</td>\n",
       "      <td>22.0</td>\n",
       "      <td>0.000440</td>\n",
       "      <td>2</td>\n",
       "      <td>NaN</td>\n",
       "    </tr>\n",
       "    <tr>\n",
       "      <th>1</th>\n",
       "      <td>2009</td>\n",
       "      <td>393</td>\n",
       "      <td>Hillside(Colley Params)</td>\n",
       "      <td>73.0</td>\n",
       "      <td>0.001459</td>\n",
       "      <td>3</td>\n",
       "      <td>231.818182</td>\n",
       "    </tr>\n",
       "    <tr>\n",
       "      <th>2</th>\n",
       "      <td>2009</td>\n",
       "      <td>394</td>\n",
       "      <td>Hillside(Colley Params)</td>\n",
       "      <td>132.0</td>\n",
       "      <td>0.002638</td>\n",
       "      <td>4</td>\n",
       "      <td>80.821918</td>\n",
       "    </tr>\n",
       "    <tr>\n",
       "      <th>3</th>\n",
       "      <td>2009</td>\n",
       "      <td>395</td>\n",
       "      <td>Hillside(Colley Params)</td>\n",
       "      <td>218.0</td>\n",
       "      <td>0.004357</td>\n",
       "      <td>5</td>\n",
       "      <td>65.151515</td>\n",
       "    </tr>\n",
       "    <tr>\n",
       "      <th>4</th>\n",
       "      <td>2009</td>\n",
       "      <td>396</td>\n",
       "      <td>Hillside(Colley Params)</td>\n",
       "      <td>327.0</td>\n",
       "      <td>0.006535</td>\n",
       "      <td>6</td>\n",
       "      <td>50.000000</td>\n",
       "    </tr>\n",
       "    <tr>\n",
       "      <th>...</th>\n",
       "      <td>...</td>\n",
       "      <td>...</td>\n",
       "      <td>...</td>\n",
       "      <td>...</td>\n",
       "      <td>...</td>\n",
       "      <td>...</td>\n",
       "      <td>...</td>\n",
       "    </tr>\n",
       "    <tr>\n",
       "      <th>107</th>\n",
       "      <td>2014</td>\n",
       "      <td>723</td>\n",
       "      <td>Hillside(Massey Params)</td>\n",
       "      <td>6592.0</td>\n",
       "      <td>0.107416</td>\n",
       "      <td>25</td>\n",
       "      <td>9.793471</td>\n",
       "    </tr>\n",
       "    <tr>\n",
       "      <th>108</th>\n",
       "      <td>2014</td>\n",
       "      <td>724</td>\n",
       "      <td>Hillside(Massey Params)</td>\n",
       "      <td>7156.0</td>\n",
       "      <td>0.116606</td>\n",
       "      <td>26</td>\n",
       "      <td>8.555825</td>\n",
       "    </tr>\n",
       "    <tr>\n",
       "      <th>109</th>\n",
       "      <td>2014</td>\n",
       "      <td>725</td>\n",
       "      <td>Hillside(Massey Params)</td>\n",
       "      <td>7647.0</td>\n",
       "      <td>0.124607</td>\n",
       "      <td>27</td>\n",
       "      <td>6.861375</td>\n",
       "    </tr>\n",
       "    <tr>\n",
       "      <th>110</th>\n",
       "      <td>2014</td>\n",
       "      <td>726</td>\n",
       "      <td>Hillside(Massey Params)</td>\n",
       "      <td>8161.0</td>\n",
       "      <td>0.132982</td>\n",
       "      <td>28</td>\n",
       "      <td>6.721590</td>\n",
       "    </tr>\n",
       "    <tr>\n",
       "      <th>111</th>\n",
       "      <td>2014</td>\n",
       "      <td>727</td>\n",
       "      <td>Hillside(Massey Params)</td>\n",
       "      <td>8710.0</td>\n",
       "      <td>0.141928</td>\n",
       "      <td>29</td>\n",
       "      <td>6.727117</td>\n",
       "    </tr>\n",
       "  </tbody>\n",
       "</table>\n",
       "<p>112 rows × 7 columns</p>\n",
       "</div>"
      ],
      "text/plain": [
       "     Year  index                   Method       k  k/k_worst top_n  \\\n",
       "0    2009    392  Hillside(Colley Params)    22.0   0.000440     2   \n",
       "1    2009    393  Hillside(Colley Params)    73.0   0.001459     3   \n",
       "2    2009    394  Hillside(Colley Params)   132.0   0.002638     4   \n",
       "3    2009    395  Hillside(Colley Params)   218.0   0.004357     5   \n",
       "4    2009    396  Hillside(Colley Params)   327.0   0.006535     6   \n",
       "..    ...    ...                      ...     ...        ...   ...   \n",
       "107  2014    723  Hillside(Massey Params)  6592.0   0.107416    25   \n",
       "108  2014    724  Hillside(Massey Params)  7156.0   0.116606    26   \n",
       "109  2014    725  Hillside(Massey Params)  7647.0   0.124607    27   \n",
       "110  2014    726  Hillside(Massey Params)  8161.0   0.132982    28   \n",
       "111  2014    727  Hillside(Massey Params)  8710.0   0.141928    29   \n",
       "\n",
       "     pct_change k  \n",
       "0             NaN  \n",
       "1      231.818182  \n",
       "2       80.821918  \n",
       "3       65.151515  \n",
       "4       50.000000  \n",
       "..            ...  \n",
       "107      9.793471  \n",
       "108      8.555825  \n",
       "109      6.861375  \n",
       "110      6.721590  \n",
       "111      6.727117  \n",
       "\n",
       "[112 rows x 7 columns]"
      ]
     },
     "execution_count": 457,
     "metadata": {},
     "output_type": "execute_result"
    }
   ],
   "source": [
    "pct_change.reset_index().set_index('Year').loc[['2009','2014']].reset_index()"
   ]
  },
  {
   "cell_type": "code",
   "execution_count": 458,
   "metadata": {},
   "outputs": [
    {
     "data": {
      "text/html": [
       "\n",
       "<div id=\"altair-viz-d7359037d93f45fda4953d841d0921ca\"></div>\n",
       "<script type=\"text/javascript\">\n",
       "  (function(spec, embedOpt){\n",
       "    let outputDiv = document.currentScript.previousElementSibling;\n",
       "    if (outputDiv.id !== \"altair-viz-d7359037d93f45fda4953d841d0921ca\") {\n",
       "      outputDiv = document.getElementById(\"altair-viz-d7359037d93f45fda4953d841d0921ca\");\n",
       "    }\n",
       "    const paths = {\n",
       "      \"vega\": \"https://cdn.jsdelivr.net/npm//vega@5?noext\",\n",
       "      \"vega-lib\": \"https://cdn.jsdelivr.net/npm//vega-lib?noext\",\n",
       "      \"vega-lite\": \"https://cdn.jsdelivr.net/npm//vega-lite@4.8.1?noext\",\n",
       "      \"vega-embed\": \"https://cdn.jsdelivr.net/npm//vega-embed@6?noext\",\n",
       "    };\n",
       "\n",
       "    function loadScript(lib) {\n",
       "      return new Promise(function(resolve, reject) {\n",
       "        var s = document.createElement('script');\n",
       "        s.src = paths[lib];\n",
       "        s.async = true;\n",
       "        s.onload = () => resolve(paths[lib]);\n",
       "        s.onerror = () => reject(`Error loading script: ${paths[lib]}`);\n",
       "        document.getElementsByTagName(\"head\")[0].appendChild(s);\n",
       "      });\n",
       "    }\n",
       "\n",
       "    function showError(err) {\n",
       "      outputDiv.innerHTML = `<div class=\"error\" style=\"color:red;\">${err}</div>`;\n",
       "      throw err;\n",
       "    }\n",
       "\n",
       "    function displayChart(vegaEmbed) {\n",
       "      vegaEmbed(outputDiv, spec, embedOpt)\n",
       "        .catch(err => showError(`Javascript Error: ${err.message}<br>This usually means there's a typo in your chart specification. See the javascript console for the full traceback.`));\n",
       "    }\n",
       "\n",
       "    if(typeof define === \"function\" && define.amd) {\n",
       "      requirejs.config({paths});\n",
       "      require([\"vega-embed\"], displayChart, err => showError(`Error loading script: ${err.message}`));\n",
       "    } else if (typeof vegaEmbed === \"function\") {\n",
       "      displayChart(vegaEmbed);\n",
       "    } else {\n",
       "      loadScript(\"vega\")\n",
       "        .then(() => loadScript(\"vega-lite\"))\n",
       "        .then(() => loadScript(\"vega-embed\"))\n",
       "        .catch(showError)\n",
       "        .then(() => displayChart(vegaEmbed));\n",
       "    }\n",
       "  })({\"config\": {\"view\": {\"continuousWidth\": 400, \"continuousHeight\": 300}}, \"data\": {\"name\": \"data-f4c088efa12a657d389617dce33045b8\"}, \"facet\": {\"row\": {\"type\": \"nominal\", \"field\": \"Method\"}}, \"spec\": {\"mark\": \"line\", \"encoding\": {\"color\": {\"type\": \"nominal\", \"field\": \"Year\"}, \"x\": {\"type\": \"quantitative\", \"field\": \"top_n\"}, \"y\": {\"type\": \"quantitative\", \"field\": \"pct_change k\"}}}, \"$schema\": \"https://vega.github.io/schema/vega-lite/v4.8.1.json\", \"datasets\": {\"data-f4c088efa12a657d389617dce33045b8\": [{\"Year\": \"2014\", \"index\": 672, \"Method\": \"Hillside(Colley Params)\", \"k\": 22.0, \"k/k_worst\": 0.000358487184083169, \"top_n\": 2, \"pct_change k\": null}, {\"Year\": \"2014\", \"index\": 673, \"Method\": \"Hillside(Colley Params)\", \"k\": 79.0, \"k/k_worst\": 0.0012872948882986523, \"top_n\": 3, \"pct_change k\": 259.09090909090907}, {\"Year\": \"2014\", \"index\": 674, \"Method\": \"Hillside(Colley Params)\", \"k\": 127.0, \"k/k_worst\": 0.0020694487444801123, \"top_n\": 4, \"pct_change k\": 60.759493670886066}, {\"Year\": \"2014\", \"index\": 675, \"Method\": \"Hillside(Colley Params)\", \"k\": 204.0, \"k/k_worst\": 0.0033241538887712036, \"top_n\": 5, \"pct_change k\": 60.629921259842526}, {\"Year\": \"2014\", \"index\": 676, \"Method\": \"Hillside(Colley Params)\", \"k\": 282.0, \"k/k_worst\": 0.004595153905066075, \"top_n\": 6, \"pct_change k\": 38.23529411764706}, {\"Year\": \"2014\", \"index\": 677, \"Method\": \"Hillside(Colley Params)\", \"k\": 420.0, \"k/k_worst\": 0.006843846241587772, \"top_n\": 7, \"pct_change k\": 48.93617021276595}, {\"Year\": \"2014\", \"index\": 678, \"Method\": \"Hillside(Colley Params)\", \"k\": 612.0, \"k/k_worst\": 0.00997246166631361, \"top_n\": 8, \"pct_change k\": 45.71428571428571}, {\"Year\": \"2014\", \"index\": 679, \"Method\": \"Hillside(Colley Params)\", \"k\": 807.0, \"k/k_worst\": 0.013149961707050791, \"top_n\": 9, \"pct_change k\": 31.862745098039213}, {\"Year\": \"2014\", \"index\": 680, \"Method\": \"Hillside(Colley Params)\", \"k\": 958.0, \"k/k_worst\": 0.015610487379621634, \"top_n\": 10, \"pct_change k\": 18.711276332094172}, {\"Year\": \"2014\", \"index\": 681, \"Method\": \"Hillside(Colley Params)\", \"k\": 1170.0, \"k/k_worst\": 0.01906500024442308, \"top_n\": 11, \"pct_change k\": 22.129436325678498}, {\"Year\": \"2014\", \"index\": 682, \"Method\": \"Hillside(Colley Params)\", \"k\": 1404.0, \"k/k_worst\": 0.022878000293307697, \"top_n\": 12, \"pct_change k\": 19.999999999999996}, {\"Year\": \"2014\", \"index\": 683, \"Method\": \"Hillside(Colley Params)\", \"k\": 1687.0, \"k/k_worst\": 0.027489449070377554, \"top_n\": 13, \"pct_change k\": 20.156695156695157}, {\"Year\": \"2014\", \"index\": 684, \"Method\": \"Hillside(Colley Params)\", \"k\": 1939.0, \"k/k_worst\": 0.031595756815330216, \"top_n\": 14, \"pct_change k\": 14.937759336099576}, {\"Year\": \"2014\", \"index\": 685, \"Method\": \"Hillside(Colley Params)\", \"k\": 2238.0, \"k/k_worst\": 0.03646792354446056, \"top_n\": 15, \"pct_change k\": 15.420319752449707}, {\"Year\": \"2014\", \"index\": 686, \"Method\": \"Hillside(Colley Params)\", \"k\": 2514.0, \"k/k_worst\": 0.04096530821750395, \"top_n\": 16, \"pct_change k\": 12.33243967828419}, {\"Year\": \"2014\", \"index\": 687, \"Method\": \"Hillside(Colley Params)\", \"k\": 2860.0, \"k/k_worst\": 0.04660333393081197, \"top_n\": 17, \"pct_change k\": 13.762927605409715}, {\"Year\": \"2014\", \"index\": 688, \"Method\": \"Hillside(Colley Params)\", \"k\": 3258.0, \"k/k_worst\": 0.053088692988316574, \"top_n\": 18, \"pct_change k\": 13.91608391608392}, {\"Year\": \"2014\", \"index\": 689, \"Method\": \"Hillside(Colley Params)\", \"k\": 3657.0, \"k/k_worst\": 0.05959034691782496, \"top_n\": 19, \"pct_change k\": 12.246777163904232}, {\"Year\": \"2014\", \"index\": 690, \"Method\": \"Hillside(Colley Params)\", \"k\": 4016.0, \"k/k_worst\": 0.06544020596718213, \"top_n\": 20, \"pct_change k\": 9.816789718348362}, {\"Year\": \"2014\", \"index\": 691, \"Method\": \"Hillside(Colley Params)\", \"k\": 4498.0, \"k/k_worst\": 0.07329433427300429, \"top_n\": 21, \"pct_change k\": 12.001992031872511}, {\"Year\": \"2014\", \"index\": 692, \"Method\": \"Hillside(Colley Params)\", \"k\": 4941.0, \"k/k_worst\": 0.08051296257067901, \"top_n\": 22, \"pct_change k\": 9.848821698532673}, {\"Year\": \"2014\", \"index\": 693, \"Method\": \"Hillside(Colley Params)\", \"k\": 5444.0, \"k/k_worst\": 0.08870928318858055, \"top_n\": 23, \"pct_change k\": 10.180125480671931}, {\"Year\": \"2014\", \"index\": 694, \"Method\": \"Hillside(Colley Params)\", \"k\": 6004.0, \"k/k_worst\": 0.09783441151069758, \"top_n\": 24, \"pct_change k\": 10.286554004408522}, {\"Year\": \"2014\", \"index\": 695, \"Method\": \"Hillside(Colley Params)\", \"k\": 6592.0, \"k/k_worst\": 0.10741579624892046, \"top_n\": 25, \"pct_change k\": 9.793471019320442}, {\"Year\": \"2014\", \"index\": 696, \"Method\": \"Hillside(Colley Params)\", \"k\": 7156.0, \"k/k_worst\": 0.11660610405905261, \"top_n\": 26, \"pct_change k\": 8.555825242718452}, {\"Year\": \"2014\", \"index\": 697, \"Method\": \"Hillside(Colley Params)\", \"k\": 7647.0, \"k/k_worst\": 0.1246068862129088, \"top_n\": 27, \"pct_change k\": 6.861375069871434}, {\"Year\": \"2014\", \"index\": 698, \"Method\": \"Hillside(Colley Params)\", \"k\": 8161.0, \"k/k_worst\": 0.13298245042285192, \"top_n\": 28, \"pct_change k\": 6.721590166078206}, {\"Year\": \"2014\", \"index\": 699, \"Method\": \"Hillside(Colley Params)\", \"k\": 8710.0, \"k/k_worst\": 0.14192833515292738, \"top_n\": 29, \"pct_change k\": 6.727116774905029}, {\"Year\": \"2014\", \"index\": 700, \"Method\": \"Hillside(Massey Params)\", \"k\": 22.0, \"k/k_worst\": 0.000358487184083169, \"top_n\": 2, \"pct_change k\": null}, {\"Year\": \"2014\", \"index\": 701, \"Method\": \"Hillside(Massey Params)\", \"k\": 79.0, \"k/k_worst\": 0.0012872948882986523, \"top_n\": 3, \"pct_change k\": 259.09090909090907}, {\"Year\": \"2014\", \"index\": 702, \"Method\": \"Hillside(Massey Params)\", \"k\": 127.0, \"k/k_worst\": 0.0020694487444801123, \"top_n\": 4, \"pct_change k\": 60.759493670886066}, {\"Year\": \"2014\", \"index\": 703, \"Method\": \"Hillside(Massey Params)\", \"k\": 204.0, \"k/k_worst\": 0.0033241538887712036, \"top_n\": 5, \"pct_change k\": 60.629921259842526}, {\"Year\": \"2014\", \"index\": 704, \"Method\": \"Hillside(Massey Params)\", \"k\": 282.0, \"k/k_worst\": 0.004595153905066075, \"top_n\": 6, \"pct_change k\": 38.23529411764706}, {\"Year\": \"2014\", \"index\": 705, \"Method\": \"Hillside(Massey Params)\", \"k\": 420.0, \"k/k_worst\": 0.006843846241587772, \"top_n\": 7, \"pct_change k\": 48.93617021276595}, {\"Year\": \"2014\", \"index\": 706, \"Method\": \"Hillside(Massey Params)\", \"k\": 612.0, \"k/k_worst\": 0.00997246166631361, \"top_n\": 8, \"pct_change k\": 45.71428571428571}, {\"Year\": \"2014\", \"index\": 707, \"Method\": \"Hillside(Massey Params)\", \"k\": 807.0, \"k/k_worst\": 0.013149961707050791, \"top_n\": 9, \"pct_change k\": 31.862745098039213}, {\"Year\": \"2014\", \"index\": 708, \"Method\": \"Hillside(Massey Params)\", \"k\": 958.0, \"k/k_worst\": 0.015610487379621634, \"top_n\": 10, \"pct_change k\": 18.711276332094172}, {\"Year\": \"2014\", \"index\": 709, \"Method\": \"Hillside(Massey Params)\", \"k\": 1170.0, \"k/k_worst\": 0.01906500024442308, \"top_n\": 11, \"pct_change k\": 22.129436325678498}, {\"Year\": \"2014\", \"index\": 710, \"Method\": \"Hillside(Massey Params)\", \"k\": 1404.0, \"k/k_worst\": 0.022878000293307697, \"top_n\": 12, \"pct_change k\": 19.999999999999996}, {\"Year\": \"2014\", \"index\": 711, \"Method\": \"Hillside(Massey Params)\", \"k\": 1687.0, \"k/k_worst\": 0.027489449070377554, \"top_n\": 13, \"pct_change k\": 20.156695156695157}, {\"Year\": \"2014\", \"index\": 712, \"Method\": \"Hillside(Massey Params)\", \"k\": 1939.0, \"k/k_worst\": 0.031595756815330216, \"top_n\": 14, \"pct_change k\": 14.937759336099576}, {\"Year\": \"2014\", \"index\": 713, \"Method\": \"Hillside(Massey Params)\", \"k\": 2238.0, \"k/k_worst\": 0.03646792354446056, \"top_n\": 15, \"pct_change k\": 15.420319752449707}, {\"Year\": \"2014\", \"index\": 714, \"Method\": \"Hillside(Massey Params)\", \"k\": 2514.0, \"k/k_worst\": 0.04096530821750395, \"top_n\": 16, \"pct_change k\": 12.33243967828419}, {\"Year\": \"2014\", \"index\": 715, \"Method\": \"Hillside(Massey Params)\", \"k\": 2860.0, \"k/k_worst\": 0.04660333393081197, \"top_n\": 17, \"pct_change k\": 13.762927605409715}, {\"Year\": \"2014\", \"index\": 716, \"Method\": \"Hillside(Massey Params)\", \"k\": 3258.0, \"k/k_worst\": 0.053088692988316574, \"top_n\": 18, \"pct_change k\": 13.91608391608392}, {\"Year\": \"2014\", \"index\": 717, \"Method\": \"Hillside(Massey Params)\", \"k\": 3657.0, \"k/k_worst\": 0.05959034691782496, \"top_n\": 19, \"pct_change k\": 12.246777163904232}, {\"Year\": \"2014\", \"index\": 718, \"Method\": \"Hillside(Massey Params)\", \"k\": 4016.0, \"k/k_worst\": 0.06544020596718213, \"top_n\": 20, \"pct_change k\": 9.816789718348362}, {\"Year\": \"2014\", \"index\": 719, \"Method\": \"Hillside(Massey Params)\", \"k\": 4498.0, \"k/k_worst\": 0.07329433427300429, \"top_n\": 21, \"pct_change k\": 12.001992031872511}, {\"Year\": \"2014\", \"index\": 720, \"Method\": \"Hillside(Massey Params)\", \"k\": 4941.0, \"k/k_worst\": 0.08051296257067901, \"top_n\": 22, \"pct_change k\": 9.848821698532673}, {\"Year\": \"2014\", \"index\": 721, \"Method\": \"Hillside(Massey Params)\", \"k\": 5444.0, \"k/k_worst\": 0.08870928318858055, \"top_n\": 23, \"pct_change k\": 10.180125480671931}, {\"Year\": \"2014\", \"index\": 722, \"Method\": \"Hillside(Massey Params)\", \"k\": 6004.0, \"k/k_worst\": 0.09783441151069758, \"top_n\": 24, \"pct_change k\": 10.286554004408522}, {\"Year\": \"2014\", \"index\": 723, \"Method\": \"Hillside(Massey Params)\", \"k\": 6592.0, \"k/k_worst\": 0.10741579624892046, \"top_n\": 25, \"pct_change k\": 9.793471019320442}, {\"Year\": \"2014\", \"index\": 724, \"Method\": \"Hillside(Massey Params)\", \"k\": 7156.0, \"k/k_worst\": 0.11660610405905261, \"top_n\": 26, \"pct_change k\": 8.555825242718452}, {\"Year\": \"2014\", \"index\": 725, \"Method\": \"Hillside(Massey Params)\", \"k\": 7647.0, \"k/k_worst\": 0.1246068862129088, \"top_n\": 27, \"pct_change k\": 6.861375069871434}, {\"Year\": \"2014\", \"index\": 726, \"Method\": \"Hillside(Massey Params)\", \"k\": 8161.0, \"k/k_worst\": 0.13298245042285192, \"top_n\": 28, \"pct_change k\": 6.721590166078206}, {\"Year\": \"2014\", \"index\": 727, \"Method\": \"Hillside(Massey Params)\", \"k\": 8710.0, \"k/k_worst\": 0.14192833515292738, \"top_n\": 29, \"pct_change k\": 6.727116774905029}, {\"Year\": \"2017\", \"index\": 840, \"Method\": \"Hillside(Colley Params)\", \"k\": 19.0, \"k/k_worst\": 0.000348879911861917, \"top_n\": 2, \"pct_change k\": null}, {\"Year\": \"2017\", \"index\": 841, \"Method\": \"Hillside(Colley Params)\", \"k\": 45.0, \"k/k_worst\": 0.0008262945280940139, \"top_n\": 3, \"pct_change k\": 136.84210526315786}, {\"Year\": \"2017\", \"index\": 842, \"Method\": \"Hillside(Colley Params)\", \"k\": 92.0, \"k/k_worst\": 0.0016893132574366508, \"top_n\": 4, \"pct_change k\": 104.44444444444443}, {\"Year\": \"2017\", \"index\": 843, \"Method\": \"Hillside(Colley Params)\", \"k\": 165.0, \"k/k_worst\": 0.0030297466030113846, \"top_n\": 5, \"pct_change k\": 79.34782608695652}, {\"Year\": \"2017\", \"index\": 844, \"Method\": \"Hillside(Colley Params)\", \"k\": 267.0, \"k/k_worst\": 0.00490268086669115, \"top_n\": 6, \"pct_change k\": 61.81818181818181}, {\"Year\": \"2017\", \"index\": 845, \"Method\": \"Hillside(Colley Params)\", \"k\": 393.0, \"k/k_worst\": 0.0072163055453543885, \"top_n\": 7, \"pct_change k\": 47.19101123595506}, {\"Year\": \"2017\", \"index\": 846, \"Method\": \"Hillside(Colley Params)\", \"k\": 509.0, \"k/k_worst\": 0.009346309217774514, \"top_n\": 8, \"pct_change k\": 29.51653944020356}, {\"Year\": \"2017\", \"index\": 847, \"Method\": \"Hillside(Colley Params)\", \"k\": 692.0, \"k/k_worst\": 0.012706573632023503, \"top_n\": 9, \"pct_change k\": 35.95284872298625}, {\"Year\": \"2017\", \"index\": 848, \"Method\": \"Hillside(Colley Params)\", \"k\": 862.0, \"k/k_worst\": 0.015828130738156445, \"top_n\": 10, \"pct_change k\": 24.5664739884393}, {\"Year\": \"2017\", \"index\": 849, \"Method\": \"Hillside(Colley Params)\", \"k\": 1040.0, \"k/k_worst\": 0.019096584649283876, \"top_n\": 11, \"pct_change k\": 20.649651972157777}, {\"Year\": \"2017\", \"index\": 850, \"Method\": \"Hillside(Colley Params)\", \"k\": 1239.0, \"k/k_worst\": 0.02275064267352185, \"top_n\": 12, \"pct_change k\": 19.134615384615383}, {\"Year\": \"2017\", \"index\": 851, \"Method\": \"Hillside(Colley Params)\", \"k\": 1518.0, \"k/k_worst\": 0.02787366874770474, \"top_n\": 13, \"pct_change k\": 22.51815980629539}, {\"Year\": \"2017\", \"index\": 852, \"Method\": \"Hillside(Colley Params)\", \"k\": 1820.0, \"k/k_worst\": 0.033419023136246784, \"top_n\": 14, \"pct_change k\": 19.894598155467726}, {\"Year\": \"2017\", \"index\": 853, \"Method\": \"Hillside(Colley Params)\", \"k\": 2164.0, \"k/k_worst\": 0.03973558575100992, \"top_n\": 15, \"pct_change k\": 18.9010989010989}, {\"Year\": \"2017\", \"index\": 854, \"Method\": \"Hillside(Colley Params)\", \"k\": 2527.0, \"k/k_worst\": 0.04640102827763496, \"top_n\": 16, \"pct_change k\": 16.774491682070234}, {\"Year\": \"2017\", \"index\": 855, \"Method\": \"Hillside(Colley Params)\", \"k\": 2923.0, \"k/k_worst\": 0.053672420124862286, \"top_n\": 17, \"pct_change k\": 15.670755836960826}, {\"Year\": \"2017\", \"index\": 856, \"Method\": \"Hillside(Colley Params)\", \"k\": 3306.0, \"k/k_worst\": 0.06070510466397356, \"top_n\": 18, \"pct_change k\": 13.10297639411564}, {\"Year\": \"2017\", \"index\": 857, \"Method\": \"Hillside(Colley Params)\", \"k\": 3728.0, \"k/k_worst\": 0.06845391112743297, \"top_n\": 19, \"pct_change k\": 12.764670296430737}, {\"Year\": \"2017\", \"index\": 858, \"Method\": \"Hillside(Colley Params)\", \"k\": 4161.0, \"k/k_worst\": 0.07640470069775983, \"top_n\": 20, \"pct_change k\": 11.614806866952797}, {\"Year\": \"2017\", \"index\": 859, \"Method\": \"Hillside(Colley Params)\", \"k\": 4380.0, \"k/k_worst\": 0.08042600073448403, \"top_n\": 21, \"pct_change k\": 5.263157894736836}, {\"Year\": \"2017\", \"index\": 860, \"Method\": \"Hillside(Colley Params)\", \"k\": 4841.0, \"k/k_worst\": 0.08889092912229159, \"top_n\": 22, \"pct_change k\": 10.525114155251147}, {\"Year\": \"2017\", \"index\": 861, \"Method\": \"Hillside(Colley Params)\", \"k\": 5214.0, \"k/k_worst\": 0.09573999265515976, \"top_n\": 23, \"pct_change k\": 7.705019624044618}, {\"Year\": \"2017\", \"index\": 862, \"Method\": \"Hillside(Colley Params)\", \"k\": 5627.0, \"k/k_worst\": 0.10332354021300037, \"top_n\": 24, \"pct_change k\": 7.920981971614882}, {\"Year\": \"2017\", \"index\": 863, \"Method\": \"Hillside(Colley Params)\", \"k\": 6191.0, \"k/k_worst\": 0.113679764965112, \"top_n\": 25, \"pct_change k\": 10.023102896747815}, {\"Year\": \"2017\", \"index\": 864, \"Method\": \"Hillside(Colley Params)\", \"k\": 6563.0, \"k/k_worst\": 0.12051046639735585, \"top_n\": 26, \"pct_change k\": 6.008722338879013}, {\"Year\": \"2017\", \"index\": 865, \"Method\": \"Hillside(Colley Params)\", \"k\": 6806.0, \"k/k_worst\": 0.12497245684906354, \"top_n\": 27, \"pct_change k\": 3.702575041901568}, {\"Year\": \"2017\", \"index\": 866, \"Method\": \"Hillside(Colley Params)\", \"k\": 7255.0, \"k/k_worst\": 0.13321704002937937, \"top_n\": 28, \"pct_change k\": 6.59712018806935}, {\"Year\": \"2017\", \"index\": 867, \"Method\": \"Hillside(Colley Params)\", \"k\": 7826.0, \"k/k_worst\": 0.14370179948586118, \"top_n\": 29, \"pct_change k\": 7.8704341833218505}, {\"Year\": \"2017\", \"index\": 868, \"Method\": \"Hillside(Massey Params)\", \"k\": 19.0, \"k/k_worst\": 0.000348879911861917, \"top_n\": 2, \"pct_change k\": null}, {\"Year\": \"2017\", \"index\": 869, \"Method\": \"Hillside(Massey Params)\", \"k\": 45.0, \"k/k_worst\": 0.0008262945280940139, \"top_n\": 3, \"pct_change k\": 136.84210526315786}, {\"Year\": \"2017\", \"index\": 870, \"Method\": \"Hillside(Massey Params)\", \"k\": 92.0, \"k/k_worst\": 0.0016893132574366508, \"top_n\": 4, \"pct_change k\": 104.44444444444443}, {\"Year\": \"2017\", \"index\": 871, \"Method\": \"Hillside(Massey Params)\", \"k\": 165.0, \"k/k_worst\": 0.0030297466030113846, \"top_n\": 5, \"pct_change k\": 79.34782608695652}, {\"Year\": \"2017\", \"index\": 872, \"Method\": \"Hillside(Massey Params)\", \"k\": 267.0, \"k/k_worst\": 0.00490268086669115, \"top_n\": 6, \"pct_change k\": 61.81818181818181}, {\"Year\": \"2017\", \"index\": 873, \"Method\": \"Hillside(Massey Params)\", \"k\": 393.0, \"k/k_worst\": 0.0072163055453543885, \"top_n\": 7, \"pct_change k\": 47.19101123595506}, {\"Year\": \"2017\", \"index\": 874, \"Method\": \"Hillside(Massey Params)\", \"k\": 509.0, \"k/k_worst\": 0.009346309217774514, \"top_n\": 8, \"pct_change k\": 29.51653944020356}, {\"Year\": \"2017\", \"index\": 875, \"Method\": \"Hillside(Massey Params)\", \"k\": 692.0, \"k/k_worst\": 0.012706573632023503, \"top_n\": 9, \"pct_change k\": 35.95284872298625}, {\"Year\": \"2017\", \"index\": 876, \"Method\": \"Hillside(Massey Params)\", \"k\": 862.0, \"k/k_worst\": 0.015828130738156445, \"top_n\": 10, \"pct_change k\": 24.5664739884393}, {\"Year\": \"2017\", \"index\": 877, \"Method\": \"Hillside(Massey Params)\", \"k\": 1040.0, \"k/k_worst\": 0.019096584649283876, \"top_n\": 11, \"pct_change k\": 20.649651972157777}, {\"Year\": \"2017\", \"index\": 878, \"Method\": \"Hillside(Massey Params)\", \"k\": 1239.0, \"k/k_worst\": 0.02275064267352185, \"top_n\": 12, \"pct_change k\": 19.134615384615383}, {\"Year\": \"2017\", \"index\": 879, \"Method\": \"Hillside(Massey Params)\", \"k\": 1518.0, \"k/k_worst\": 0.02787366874770474, \"top_n\": 13, \"pct_change k\": 22.51815980629539}, {\"Year\": \"2017\", \"index\": 880, \"Method\": \"Hillside(Massey Params)\", \"k\": 1820.0, \"k/k_worst\": 0.033419023136246784, \"top_n\": 14, \"pct_change k\": 19.894598155467726}, {\"Year\": \"2017\", \"index\": 881, \"Method\": \"Hillside(Massey Params)\", \"k\": 2164.0, \"k/k_worst\": 0.03973558575100992, \"top_n\": 15, \"pct_change k\": 18.9010989010989}, {\"Year\": \"2017\", \"index\": 882, \"Method\": \"Hillside(Massey Params)\", \"k\": 2527.0, \"k/k_worst\": 0.04640102827763496, \"top_n\": 16, \"pct_change k\": 16.774491682070234}, {\"Year\": \"2017\", \"index\": 883, \"Method\": \"Hillside(Massey Params)\", \"k\": 2923.0, \"k/k_worst\": 0.053672420124862286, \"top_n\": 17, \"pct_change k\": 15.670755836960826}, {\"Year\": \"2017\", \"index\": 884, \"Method\": \"Hillside(Massey Params)\", \"k\": 3306.0, \"k/k_worst\": 0.06070510466397356, \"top_n\": 18, \"pct_change k\": 13.10297639411564}, {\"Year\": \"2017\", \"index\": 885, \"Method\": \"Hillside(Massey Params)\", \"k\": 3728.0, \"k/k_worst\": 0.06845391112743297, \"top_n\": 19, \"pct_change k\": 12.764670296430737}, {\"Year\": \"2017\", \"index\": 886, \"Method\": \"Hillside(Massey Params)\", \"k\": 4161.0, \"k/k_worst\": 0.07640470069775983, \"top_n\": 20, \"pct_change k\": 11.614806866952797}, {\"Year\": \"2017\", \"index\": 887, \"Method\": \"Hillside(Massey Params)\", \"k\": 4380.0, \"k/k_worst\": 0.08042600073448403, \"top_n\": 21, \"pct_change k\": 5.263157894736836}, {\"Year\": \"2017\", \"index\": 888, \"Method\": \"Hillside(Massey Params)\", \"k\": 4841.0, \"k/k_worst\": 0.08889092912229159, \"top_n\": 22, \"pct_change k\": 10.525114155251147}, {\"Year\": \"2017\", \"index\": 889, \"Method\": \"Hillside(Massey Params)\", \"k\": 5214.0, \"k/k_worst\": 0.09573999265515976, \"top_n\": 23, \"pct_change k\": 7.705019624044618}, {\"Year\": \"2017\", \"index\": 890, \"Method\": \"Hillside(Massey Params)\", \"k\": 5627.0, \"k/k_worst\": 0.10332354021300037, \"top_n\": 24, \"pct_change k\": 7.920981971614882}, {\"Year\": \"2017\", \"index\": 891, \"Method\": \"Hillside(Massey Params)\", \"k\": 6191.0, \"k/k_worst\": 0.113679764965112, \"top_n\": 25, \"pct_change k\": 10.023102896747815}, {\"Year\": \"2017\", \"index\": 892, \"Method\": \"Hillside(Massey Params)\", \"k\": 6563.0, \"k/k_worst\": 0.12051046639735585, \"top_n\": 26, \"pct_change k\": 6.008722338879013}, {\"Year\": \"2017\", \"index\": 893, \"Method\": \"Hillside(Massey Params)\", \"k\": 6806.0, \"k/k_worst\": 0.12497245684906354, \"top_n\": 27, \"pct_change k\": 3.702575041901568}, {\"Year\": \"2017\", \"index\": 894, \"Method\": \"Hillside(Massey Params)\", \"k\": 7255.0, \"k/k_worst\": 0.13321704002937937, \"top_n\": 28, \"pct_change k\": 6.59712018806935}, {\"Year\": \"2017\", \"index\": 895, \"Method\": \"Hillside(Massey Params)\", \"k\": 7826.0, \"k/k_worst\": 0.14370179948586118, \"top_n\": 29, \"pct_change k\": 7.8704341833218505}]}}, {\"mode\": \"vega-lite\"});\n",
       "</script>"
      ],
      "text/plain": [
       "alt.FacetChart(...)"
      ]
     },
     "execution_count": 458,
     "metadata": {},
     "output_type": "execute_result"
    }
   ],
   "source": [
    "import altair as alt\n",
    "alt.Chart(pct_change.reset_index().set_index('Year').loc[['2014','2017']].reset_index()).mark_line().encode(\n",
    "    x='top_n',\n",
    "    y='pct_change k',\n",
    "    color='Year'\n",
    ").facet(row='Method')"
   ]
  },
  {
   "cell_type": "code",
   "execution_count": 427,
   "metadata": {},
   "outputs": [
    {
     "data": {
      "text/html": [
       "<div>\n",
       "<style scoped>\n",
       "    .dataframe tbody tr th:only-of-type {\n",
       "        vertical-align: middle;\n",
       "    }\n",
       "\n",
       "    .dataframe tbody tr th {\n",
       "        vertical-align: top;\n",
       "    }\n",
       "\n",
       "    .dataframe thead th {\n",
       "        text-align: right;\n",
       "    }\n",
       "</style>\n",
       "<table border=\"1\" class=\"dataframe\">\n",
       "  <thead>\n",
       "    <tr style=\"text-align: right;\">\n",
       "      <th></th>\n",
       "      <th></th>\n",
       "      <th>k</th>\n",
       "      <th>k/k_worst</th>\n",
       "      <th>top_n</th>\n",
       "    </tr>\n",
       "    <tr>\n",
       "      <th>Method</th>\n",
       "      <th>Year</th>\n",
       "      <th></th>\n",
       "      <th></th>\n",
       "      <th></th>\n",
       "    </tr>\n",
       "  </thead>\n",
       "  <tbody>\n",
       "    <tr>\n",
       "      <th rowspan=\"5\" valign=\"top\">Hillside(Colley Params)</th>\n",
       "      <th>2002</th>\n",
       "      <td>NaN</td>\n",
       "      <td>NaN</td>\n",
       "      <td>2</td>\n",
       "    </tr>\n",
       "    <tr>\n",
       "      <th>2002</th>\n",
       "      <td>3.142857</td>\n",
       "      <td>3.142857</td>\n",
       "      <td>3</td>\n",
       "    </tr>\n",
       "    <tr>\n",
       "      <th>2002</th>\n",
       "      <td>3.970443</td>\n",
       "      <td>3.970443</td>\n",
       "      <td>4</td>\n",
       "    </tr>\n",
       "    <tr>\n",
       "      <th>2002</th>\n",
       "      <td>4.630821</td>\n",
       "      <td>4.630821</td>\n",
       "      <td>5</td>\n",
       "    </tr>\n",
       "    <tr>\n",
       "      <th>2002</th>\n",
       "      <td>5.170593</td>\n",
       "      <td>5.170593</td>\n",
       "      <td>6</td>\n",
       "    </tr>\n",
       "    <tr>\n",
       "      <th>...</th>\n",
       "      <th>...</th>\n",
       "      <td>...</td>\n",
       "      <td>...</td>\n",
       "      <td>...</td>\n",
       "    </tr>\n",
       "    <tr>\n",
       "      <th rowspan=\"5\" valign=\"top\">Hillside(Massey Params)</th>\n",
       "      <th>2018</th>\n",
       "      <td>6.592044</td>\n",
       "      <td>6.592044</td>\n",
       "      <td>25</td>\n",
       "    </tr>\n",
       "    <tr>\n",
       "      <th>2018</th>\n",
       "      <td>6.690662</td>\n",
       "      <td>6.690662</td>\n",
       "      <td>26</td>\n",
       "    </tr>\n",
       "    <tr>\n",
       "      <th>2018</th>\n",
       "      <td>6.770708</td>\n",
       "      <td>6.770708</td>\n",
       "      <td>27</td>\n",
       "    </tr>\n",
       "    <tr>\n",
       "      <th>2018</th>\n",
       "      <td>6.851306</td>\n",
       "      <td>6.851306</td>\n",
       "      <td>28</td>\n",
       "    </tr>\n",
       "    <tr>\n",
       "      <th>2018</th>\n",
       "      <td>6.920014</td>\n",
       "      <td>6.920014</td>\n",
       "      <td>29</td>\n",
       "    </tr>\n",
       "  </tbody>\n",
       "</table>\n",
       "<p>952 rows × 3 columns</p>\n",
       "</div>"
      ],
      "text/plain": [
       "                                     k  k/k_worst top_n\n",
       "Method                  Year                           \n",
       "Hillside(Colley Params) 2002       NaN        NaN     2\n",
       "                        2002  3.142857   3.142857     3\n",
       "                        2002  3.970443   3.970443     4\n",
       "                        2002  4.630821   4.630821     5\n",
       "                        2002  5.170593   5.170593     6\n",
       "...                                ...        ...   ...\n",
       "Hillside(Massey Params) 2018  6.592044   6.592044    25\n",
       "                        2018  6.690662   6.690662    26\n",
       "                        2018  6.770708   6.770708    27\n",
       "                        2018  6.851306   6.851306    28\n",
       "                        2018  6.920014   6.920014    29\n",
       "\n",
       "[952 rows x 3 columns]"
      ]
     },
     "execution_count": 427,
     "metadata": {},
     "output_type": "execute_result"
    }
   ],
   "source": [
    "top_n = graph_df.set_index(['Method','Year'])['top_n']\n",
    "cumsum_pct_change = graph_df[['Method','Year']+['k','k/k_worst']].set_index(['Method','Year']).pct_change()\n",
    "#cumsum_pct_change[\"top_n\"]=top_n\n",
    "cumsum_pct_change=cumsum_pct_change.reset_index().groupby(['Method','Year']).cumsum()\n",
    "cumsum_pct_change.index=top_n.index\n",
    "cumsum_pct_change[\"top_n\"]=top_n\n",
    "cumsum_pct_change\n",
    "#.join(graph_df.set_index(['Method','Year'])[['top_n']])"
   ]
  },
  {
   "cell_type": "code",
   "execution_count": 428,
   "metadata": {},
   "outputs": [
    {
     "data": {
      "text/html": [
       "\n",
       "<div id=\"altair-viz-845aefea4e7b4233ba7e0a26f641d040\"></div>\n",
       "<script type=\"text/javascript\">\n",
       "  (function(spec, embedOpt){\n",
       "    let outputDiv = document.currentScript.previousElementSibling;\n",
       "    if (outputDiv.id !== \"altair-viz-845aefea4e7b4233ba7e0a26f641d040\") {\n",
       "      outputDiv = document.getElementById(\"altair-viz-845aefea4e7b4233ba7e0a26f641d040\");\n",
       "    }\n",
       "    const paths = {\n",
       "      \"vega\": \"https://cdn.jsdelivr.net/npm//vega@5?noext\",\n",
       "      \"vega-lib\": \"https://cdn.jsdelivr.net/npm//vega-lib?noext\",\n",
       "      \"vega-lite\": \"https://cdn.jsdelivr.net/npm//vega-lite@4.8.1?noext\",\n",
       "      \"vega-embed\": \"https://cdn.jsdelivr.net/npm//vega-embed@6?noext\",\n",
       "    };\n",
       "\n",
       "    function loadScript(lib) {\n",
       "      return new Promise(function(resolve, reject) {\n",
       "        var s = document.createElement('script');\n",
       "        s.src = paths[lib];\n",
       "        s.async = true;\n",
       "        s.onload = () => resolve(paths[lib]);\n",
       "        s.onerror = () => reject(`Error loading script: ${paths[lib]}`);\n",
       "        document.getElementsByTagName(\"head\")[0].appendChild(s);\n",
       "      });\n",
       "    }\n",
       "\n",
       "    function showError(err) {\n",
       "      outputDiv.innerHTML = `<div class=\"error\" style=\"color:red;\">${err}</div>`;\n",
       "      throw err;\n",
       "    }\n",
       "\n",
       "    function displayChart(vegaEmbed) {\n",
       "      vegaEmbed(outputDiv, spec, embedOpt)\n",
       "        .catch(err => showError(`Javascript Error: ${err.message}<br>This usually means there's a typo in your chart specification. See the javascript console for the full traceback.`));\n",
       "    }\n",
       "\n",
       "    if(typeof define === \"function\" && define.amd) {\n",
       "      requirejs.config({paths});\n",
       "      require([\"vega-embed\"], displayChart, err => showError(`Error loading script: ${err.message}`));\n",
       "    } else if (typeof vegaEmbed === \"function\") {\n",
       "      displayChart(vegaEmbed);\n",
       "    } else {\n",
       "      loadScript(\"vega\")\n",
       "        .then(() => loadScript(\"vega-lite\"))\n",
       "        .then(() => loadScript(\"vega-embed\"))\n",
       "        .catch(showError)\n",
       "        .then(() => displayChart(vegaEmbed));\n",
       "    }\n",
       "  })({\"config\": {\"view\": {\"continuousWidth\": 400, \"continuousHeight\": 300}}, \"data\": {\"name\": \"data-5625952243f05ec4e0f28edd69b0c150\"}, \"facet\": {\"row\": {\"type\": \"nominal\", \"field\": \"Method\"}}, \"spec\": {\"mark\": \"line\", \"encoding\": {\"color\": {\"type\": \"nominal\", \"field\": \"Year\"}, \"x\": {\"type\": \"quantitative\", \"field\": \"top_n\"}, \"y\": {\"type\": \"quantitative\", \"field\": \"k\"}}}, \"$schema\": \"https://vega.github.io/schema/vega-lite/v4.8.1.json\", \"datasets\": {\"data-5625952243f05ec4e0f28edd69b0c150\": [{\"Method\": \"Hillside(Colley Params)\", \"Year\": \"2002\", \"k\": null, \"k/k_worst\": null, \"top_n\": 2}, {\"Method\": \"Hillside(Colley Params)\", \"Year\": \"2002\", \"k\": 3.1428571428571432, \"k/k_worst\": 3.1428571428571423, \"top_n\": 3}, {\"Method\": \"Hillside(Colley Params)\", \"Year\": \"2002\", \"k\": 3.970443349753695, \"k/k_worst\": 3.970443349753694, \"top_n\": 4}, {\"Method\": \"Hillside(Colley Params)\", \"Year\": \"2002\", \"k\": 4.630820708244261, \"k/k_worst\": 4.63082070824426, \"top_n\": 5}, {\"Method\": \"Hillside(Colley Params)\", \"Year\": \"2002\", \"k\": 5.170593435516989, \"k/k_worst\": 5.170593435516987, \"top_n\": 6}, {\"Method\": \"Hillside(Colley Params)\", \"Year\": \"2002\", \"k\": 5.561737346956104, \"k/k_worst\": 5.561737346956101, \"top_n\": 7}, {\"Method\": \"Hillside(Colley Params)\", \"Year\": \"2002\", \"k\": 5.933090132101992, \"k/k_worst\": 5.93309013210199, \"top_n\": 8}, {\"Method\": \"Hillside(Colley Params)\", \"Year\": \"2002\", \"k\": 6.200014696898897, \"k/k_worst\": 6.200014696898895, \"top_n\": 9}, {\"Method\": \"Hillside(Colley Params)\", \"Year\": \"2002\", \"k\": 6.480930727433249, \"k/k_worst\": 6.480930727433247, \"top_n\": 10}, {\"Method\": \"Hillside(Colley Params)\", \"Year\": \"2002\", \"k\": 6.721693540305716, \"k/k_worst\": 6.721693540305714, \"top_n\": 11}, {\"Method\": \"Hillside(Colley Params)\", \"Year\": \"2002\", \"k\": 6.916698343379683, \"k/k_worst\": 6.916698343379681, \"top_n\": 12}, {\"Method\": \"Hillside(Colley Params)\", \"Year\": \"2002\", \"k\": 7.119270690646564, \"k/k_worst\": 7.119270690646562, \"top_n\": 13}, {\"Method\": \"Hillside(Colley Params)\", \"Year\": \"2002\", \"k\": 7.3004204232668855, \"k/k_worst\": 7.300420423266884, \"top_n\": 14}, {\"Method\": \"Hillside(Colley Params)\", \"Year\": \"2002\", \"k\": 7.460578883934684, \"k/k_worst\": 7.460578883934682, \"top_n\": 15}, {\"Method\": \"Hillside(Colley Params)\", \"Year\": \"2002\", \"k\": 7.601554493690781, \"k/k_worst\": 7.601554493690779, \"top_n\": 16}, {\"Method\": \"Hillside(Colley Params)\", \"Year\": \"2002\", \"k\": 7.765727217076844, \"k/k_worst\": 7.765727217076842, \"top_n\": 17}, {\"Method\": \"Hillside(Colley Params)\", \"Year\": \"2002\", \"k\": 7.915194716158739, \"k/k_worst\": 7.915194716158737, \"top_n\": 18}, {\"Method\": \"Hillside(Colley Params)\", \"Year\": \"2002\", \"k\": 8.058325706574074, \"k/k_worst\": 8.058325706574072, \"top_n\": 19}, {\"Method\": \"Hillside(Colley Params)\", \"Year\": \"2002\", \"k\": 8.150276517082737, \"k/k_worst\": 8.150276517082736, \"top_n\": 20}, {\"Method\": \"Hillside(Colley Params)\", \"Year\": \"2002\", \"k\": 8.251633056627146, \"k/k_worst\": 8.251633056627142, \"top_n\": 21}, {\"Method\": \"Hillside(Colley Params)\", \"Year\": \"2002\", \"k\": 8.339478745681294, \"k/k_worst\": 8.33947874568129, \"top_n\": 22}, {\"Method\": \"Hillside(Colley Params)\", \"Year\": \"2002\", \"k\": 8.414889982596483, \"k/k_worst\": 8.41488998259648, \"top_n\": 23}, {\"Method\": \"Hillside(Colley Params)\", \"Year\": \"2002\", \"k\": 8.518584857447497, \"k/k_worst\": 8.518584857447493, \"top_n\": 24}, {\"Method\": \"Hillside(Colley Params)\", \"Year\": \"2002\", \"k\": 8.59633863714512, \"k/k_worst\": 8.596338637145118, \"top_n\": 25}, {\"Method\": \"Hillside(Colley Params)\", \"Year\": \"2002\", \"k\": 8.680506973818467, \"k/k_worst\": 8.680506973818465, \"top_n\": 26}, {\"Method\": \"Hillside(Colley Params)\", \"Year\": \"2002\", \"k\": 8.770309808076014, \"k/k_worst\": 8.770309808076012, \"top_n\": 27}, {\"Method\": \"Hillside(Colley Params)\", \"Year\": \"2002\", \"k\": 8.844656097828665, \"k/k_worst\": 8.844656097828663, \"top_n\": 28}, {\"Method\": \"Hillside(Colley Params)\", \"Year\": \"2002\", \"k\": 8.921356531982065, \"k/k_worst\": 8.921356531982063, \"top_n\": 29}, {\"Method\": \"Hillside(Massey Params)\", \"Year\": \"2002\", \"k\": -0.9982893450635386, \"k/k_worst\": -0.9982893450635386, \"top_n\": 2}, {\"Method\": \"Hillside(Massey Params)\", \"Year\": \"2002\", \"k\": 2.144567797793605, \"k/k_worst\": 2.144567797793604, \"top_n\": 3}, {\"Method\": \"Hillside(Massey Params)\", \"Year\": \"2002\", \"k\": 2.9721540046901564, \"k/k_worst\": 2.9721540046901556, \"top_n\": 4}, {\"Method\": \"Hillside(Massey Params)\", \"Year\": \"2002\", \"k\": 3.6325313631807226, \"k/k_worst\": 3.6325313631807217, \"top_n\": 5}, {\"Method\": \"Hillside(Massey Params)\", \"Year\": \"2002\", \"k\": 4.17230409045345, \"k/k_worst\": 4.172304090453449, \"top_n\": 6}, {\"Method\": \"Hillside(Massey Params)\", \"Year\": \"2002\", \"k\": 4.563448001892564, \"k/k_worst\": 4.563448001892563, \"top_n\": 7}, {\"Method\": \"Hillside(Massey Params)\", \"Year\": \"2002\", \"k\": 4.934800787038452, \"k/k_worst\": 4.934800787038451, \"top_n\": 8}, {\"Method\": \"Hillside(Massey Params)\", \"Year\": \"2002\", \"k\": 5.201725351835357, \"k/k_worst\": 5.201725351835357, \"top_n\": 9}, {\"Method\": \"Hillside(Massey Params)\", \"Year\": \"2002\", \"k\": 5.482641382369708, \"k/k_worst\": 5.482641382369708, \"top_n\": 10}, {\"Method\": \"Hillside(Massey Params)\", \"Year\": \"2002\", \"k\": 5.723404195242176, \"k/k_worst\": 5.723404195242176, \"top_n\": 11}, {\"Method\": \"Hillside(Massey Params)\", \"Year\": \"2002\", \"k\": 5.918408998316143, \"k/k_worst\": 5.918408998316143, \"top_n\": 12}, {\"Method\": \"Hillside(Massey Params)\", \"Year\": \"2002\", \"k\": 6.120981345583024, \"k/k_worst\": 6.120981345583024, \"top_n\": 13}, {\"Method\": \"Hillside(Massey Params)\", \"Year\": \"2002\", \"k\": 6.302131078203345, \"k/k_worst\": 6.302131078203345, \"top_n\": 14}, {\"Method\": \"Hillside(Massey Params)\", \"Year\": \"2002\", \"k\": 6.462289538871143, \"k/k_worst\": 6.462289538871143, \"top_n\": 15}, {\"Method\": \"Hillside(Massey Params)\", \"Year\": \"2002\", \"k\": 6.603265148627241, \"k/k_worst\": 6.603265148627241, \"top_n\": 16}, {\"Method\": \"Hillside(Massey Params)\", \"Year\": \"2002\", \"k\": 6.7674378720133035, \"k/k_worst\": 6.7674378720133035, \"top_n\": 17}, {\"Method\": \"Hillside(Massey Params)\", \"Year\": \"2002\", \"k\": 6.916905371095199, \"k/k_worst\": 6.916905371095199, \"top_n\": 18}, {\"Method\": \"Hillside(Massey Params)\", \"Year\": \"2002\", \"k\": 7.060036361510535, \"k/k_worst\": 7.060036361510535, \"top_n\": 19}, {\"Method\": \"Hillside(Massey Params)\", \"Year\": \"2002\", \"k\": 7.151987172019199, \"k/k_worst\": 7.151987172019199, \"top_n\": 20}, {\"Method\": \"Hillside(Massey Params)\", \"Year\": \"2002\", \"k\": 7.253343711563606, \"k/k_worst\": 7.253343711563606, \"top_n\": 21}, {\"Method\": \"Hillside(Massey Params)\", \"Year\": \"2002\", \"k\": 7.341189400617755, \"k/k_worst\": 7.341189400617755, \"top_n\": 22}, {\"Method\": \"Hillside(Massey Params)\", \"Year\": \"2002\", \"k\": 7.4166006375329445, \"k/k_worst\": 7.4166006375329445, \"top_n\": 23}, {\"Method\": \"Hillside(Massey Params)\", \"Year\": \"2002\", \"k\": 7.520295512383957, \"k/k_worst\": 7.520295512383957, \"top_n\": 24}, {\"Method\": \"Hillside(Massey Params)\", \"Year\": \"2002\", \"k\": 7.598049292081582, \"k/k_worst\": 7.598049292081582, \"top_n\": 25}, {\"Method\": \"Hillside(Massey Params)\", \"Year\": \"2002\", \"k\": 7.682217628754929, \"k/k_worst\": 7.682217628754929, \"top_n\": 26}, {\"Method\": \"Hillside(Massey Params)\", \"Year\": \"2002\", \"k\": 7.772020463012476, \"k/k_worst\": 7.772020463012477, \"top_n\": 27}, {\"Method\": \"Hillside(Massey Params)\", \"Year\": \"2002\", \"k\": 7.846366752765126, \"k/k_worst\": 7.846366752765127, \"top_n\": 28}, {\"Method\": \"Hillside(Massey Params)\", \"Year\": \"2002\", \"k\": 7.923067186918527, \"k/k_worst\": 7.923067186918528, \"top_n\": 29}, {\"Method\": \"Hillside(Colley Params)\", \"Year\": \"2003\", \"k\": -0.998900293255132, \"k/k_worst\": -0.9987155664620689, \"top_n\": 2}, {\"Method\": \"Hillside(Colley Params)\", \"Year\": \"2003\", \"k\": 1.4455441511893126, \"k/k_worst\": 1.4457288779823751, \"top_n\": 3}, {\"Method\": \"Hillside(Colley Params)\", \"Year\": \"2003\", \"k\": 3.3487699576409256, \"k/k_worst\": 3.3489546844339877, \"top_n\": 4}, {\"Method\": \"Hillside(Colley Params)\", \"Year\": \"2003\", \"k\": 4.0154366243075925, \"k/k_worst\": 4.015621351100655, \"top_n\": 5}, {\"Method\": \"Hillside(Colley Params)\", \"Year\": \"2003\", \"k\": 4.6421032909742594, \"k/k_worst\": 4.642288017767321, \"top_n\": 6}, {\"Method\": \"Hillside(Colley Params)\", \"Year\": \"2003\", \"k\": 5.05193935654803, \"k/k_worst\": 5.052124083341091, \"top_n\": 7}, {\"Method\": \"Hillside(Colley Params)\", \"Year\": \"2003\", \"k\": 5.281590519338728, \"k/k_worst\": 5.281775246131789, \"top_n\": 8}, {\"Method\": \"Hillside(Colley Params)\", \"Year\": \"2003\", \"k\": 5.6338363822228885, \"k/k_worst\": 5.63402110901595, \"top_n\": 9}, {\"Method\": \"Hillside(Colley Params)\", \"Year\": \"2003\", \"k\": 5.899570647957154, \"k/k_worst\": 5.899755374750216, \"top_n\": 10}, {\"Method\": \"Hillside(Colley Params)\", \"Year\": \"2003\", \"k\": 6.148189432487541, \"k/k_worst\": 6.1483741592806025, \"top_n\": 11}, {\"Method\": \"Hillside(Colley Params)\", \"Year\": \"2003\", \"k\": 6.362791202399046, \"k/k_worst\": 6.362975929192107, \"top_n\": 12}, {\"Method\": \"Hillside(Colley Params)\", \"Year\": \"2003\", \"k\": 6.558601767062069, \"k/k_worst\": 6.558786493855131, \"top_n\": 13}, {\"Method\": \"Hillside(Colley Params)\", \"Year\": \"2003\", \"k\": 6.747482193566258, \"k/k_worst\": 6.747666920359319, \"top_n\": 14}, {\"Method\": \"Hillside(Colley Params)\", \"Year\": \"2003\", \"k\": 6.9166045510294225, \"k/k_worst\": 6.916789277822484, \"top_n\": 15}, {\"Method\": \"Hillside(Colley Params)\", \"Year\": \"2003\", \"k\": 7.083179893495176, \"k/k_worst\": 7.083364620288237, \"top_n\": 16}, {\"Method\": \"Hillside(Colley Params)\", \"Year\": \"2003\", \"k\": 7.19356035380518, \"k/k_worst\": 7.193745080598242, \"top_n\": 17}, {\"Method\": \"Hillside(Colley Params)\", \"Year\": \"2003\", \"k\": 7.325117037392321, \"k/k_worst\": 7.325301764185382, \"top_n\": 18}, {\"Method\": \"Hillside(Colley Params)\", \"Year\": \"2003\", \"k\": 7.462313299074564, \"k/k_worst\": 7.4624980258676255, \"top_n\": 19}, {\"Method\": \"Hillside(Colley Params)\", \"Year\": \"2003\", \"k\": 7.5550154686998106, \"k/k_worst\": 7.555200195492872, \"top_n\": 20}, {\"Method\": \"Hillside(Colley Params)\", \"Year\": \"2003\", \"k\": 7.6236075264615435, \"k/k_worst\": 7.623792253254605, \"top_n\": 21}, {\"Method\": \"Hillside(Colley Params)\", \"Year\": \"2003\", \"k\": 7.721298967902985, \"k/k_worst\": 7.721483694696046, \"top_n\": 22}, {\"Method\": \"Hillside(Colley Params)\", \"Year\": \"2003\", \"k\": 7.813117382881185, \"k/k_worst\": 7.813302109674245, \"top_n\": 23}, {\"Method\": \"Hillside(Colley Params)\", \"Year\": \"2003\", \"k\": 7.898623607922294, \"k/k_worst\": 7.898808334715354, \"top_n\": 24}, {\"Method\": \"Hillside(Colley Params)\", \"Year\": \"2003\", \"k\": 7.985834168407037, \"k/k_worst\": 7.986018895200098, \"top_n\": 25}, {\"Method\": \"Hillside(Colley Params)\", \"Year\": \"2003\", \"k\": 8.063660601528056, \"k/k_worst\": 8.063845328321117, \"top_n\": 26}, {\"Method\": \"Hillside(Colley Params)\", \"Year\": \"2003\", \"k\": 8.137344812054373, \"k/k_worst\": 8.137529538847433, \"top_n\": 27}, {\"Method\": \"Hillside(Colley Params)\", \"Year\": \"2003\", \"k\": 8.210444227259051, \"k/k_worst\": 8.210628954052112, \"top_n\": 28}, {\"Method\": \"Hillside(Colley Params)\", \"Year\": \"2003\", \"k\": 8.29266894275833, \"k/k_worst\": 8.292853669551391, \"top_n\": 29}, {\"Method\": \"Hillside(Massey Params)\", \"Year\": \"2003\", \"k\": -0.9986670616113744, \"k/k_worst\": -0.9986670616113744, \"top_n\": 2}, {\"Method\": \"Hillside(Massey Params)\", \"Year\": \"2003\", \"k\": 1.4457773828330702, \"k/k_worst\": 1.4457773828330698, \"top_n\": 3}, {\"Method\": \"Hillside(Massey Params)\", \"Year\": \"2003\", \"k\": 3.349003189284683, \"k/k_worst\": 3.3490031892846823, \"top_n\": 4}, {\"Method\": \"Hillside(Massey Params)\", \"Year\": \"2003\", \"k\": 4.01566985595135, \"k/k_worst\": 4.01566985595135, \"top_n\": 5}, {\"Method\": \"Hillside(Massey Params)\", \"Year\": \"2003\", \"k\": 4.642336522618017, \"k/k_worst\": 4.642336522618017, \"top_n\": 6}, {\"Method\": \"Hillside(Massey Params)\", \"Year\": \"2003\", \"k\": 5.052172588191787, \"k/k_worst\": 5.052172588191787, \"top_n\": 7}, {\"Method\": \"Hillside(Massey Params)\", \"Year\": \"2003\", \"k\": 5.281823750982485, \"k/k_worst\": 5.281823750982485, \"top_n\": 8}, {\"Method\": \"Hillside(Massey Params)\", \"Year\": \"2003\", \"k\": 5.634069613866646, \"k/k_worst\": 5.634069613866646, \"top_n\": 9}, {\"Method\": \"Hillside(Massey Params)\", \"Year\": \"2003\", \"k\": 5.899803879600912, \"k/k_worst\": 5.899803879600912, \"top_n\": 10}, {\"Method\": \"Hillside(Massey Params)\", \"Year\": \"2003\", \"k\": 6.1484226641312985, \"k/k_worst\": 6.1484226641312985, \"top_n\": 11}, {\"Method\": \"Hillside(Massey Params)\", \"Year\": \"2003\", \"k\": 6.363024434042803, \"k/k_worst\": 6.363024434042803, \"top_n\": 12}, {\"Method\": \"Hillside(Massey Params)\", \"Year\": \"2003\", \"k\": 6.5588349987058265, \"k/k_worst\": 6.5588349987058265, \"top_n\": 13}, {\"Method\": \"Hillside(Massey Params)\", \"Year\": \"2003\", \"k\": 6.747715425210015, \"k/k_worst\": 6.747715425210015, \"top_n\": 14}, {\"Method\": \"Hillside(Massey Params)\", \"Year\": \"2003\", \"k\": 6.91683778267318, \"k/k_worst\": 6.91683778267318, \"top_n\": 15}, {\"Method\": \"Hillside(Massey Params)\", \"Year\": \"2003\", \"k\": 7.083413125138933, \"k/k_worst\": 7.083413125138933, \"top_n\": 16}, {\"Method\": \"Hillside(Massey Params)\", \"Year\": \"2003\", \"k\": 7.193793585448938, \"k/k_worst\": 7.193793585448938, \"top_n\": 17}, {\"Method\": \"Hillside(Massey Params)\", \"Year\": \"2003\", \"k\": 7.325350269036078, \"k/k_worst\": 7.325350269036078, \"top_n\": 18}, {\"Method\": \"Hillside(Massey Params)\", \"Year\": \"2003\", \"k\": 7.462546530718321, \"k/k_worst\": 7.462546530718321, \"top_n\": 19}, {\"Method\": \"Hillside(Massey Params)\", \"Year\": \"2003\", \"k\": 7.555248700343568, \"k/k_worst\": 7.555248700343568, \"top_n\": 20}, {\"Method\": \"Hillside(Massey Params)\", \"Year\": \"2003\", \"k\": 7.623840758105301, \"k/k_worst\": 7.623840758105301, \"top_n\": 21}, {\"Method\": \"Hillside(Massey Params)\", \"Year\": \"2003\", \"k\": 7.721532199546742, \"k/k_worst\": 7.721532199546742, \"top_n\": 22}, {\"Method\": \"Hillside(Massey Params)\", \"Year\": \"2003\", \"k\": 7.813350614524941, \"k/k_worst\": 7.813350614524941, \"top_n\": 23}, {\"Method\": \"Hillside(Massey Params)\", \"Year\": \"2003\", \"k\": 7.89885683956605, \"k/k_worst\": 7.89885683956605, \"top_n\": 24}, {\"Method\": \"Hillside(Massey Params)\", \"Year\": \"2003\", \"k\": 7.986067400050794, \"k/k_worst\": 7.986067400050794, \"top_n\": 25}, {\"Method\": \"Hillside(Massey Params)\", \"Year\": \"2003\", \"k\": 8.063893833171813, \"k/k_worst\": 8.063893833171813, \"top_n\": 26}, {\"Method\": \"Hillside(Massey Params)\", \"Year\": \"2003\", \"k\": 8.137578043698129, \"k/k_worst\": 8.137578043698129, \"top_n\": 27}, {\"Method\": \"Hillside(Massey Params)\", \"Year\": \"2003\", \"k\": 8.210677458902808, \"k/k_worst\": 8.210677458902808, \"top_n\": 28}, {\"Method\": \"Hillside(Massey Params)\", \"Year\": \"2003\", \"k\": 8.292902174402087, \"k/k_worst\": 8.292902174402087, \"top_n\": 29}, {\"Method\": \"Hillside(Colley Params)\", \"Year\": \"2004\", \"k\": -0.9977784360189573, \"k/k_worst\": -0.9979547291319496, \"top_n\": 2}, {\"Method\": \"Hillside(Colley Params)\", \"Year\": \"2004\", \"k\": 1.2688882306477094, \"k/k_worst\": 1.2687119375347171, \"top_n\": 3}, {\"Method\": \"Hillside(Colley Params)\", \"Year\": \"2004\", \"k\": 1.9627657816681177, \"k/k_worst\": 1.9625894885551254, \"top_n\": 4}, {\"Method\": \"Hillside(Colley Params)\", \"Year\": \"2004\", \"k\": 2.589271805764503, \"k/k_worst\": 2.589095512651511, \"top_n\": 5}, {\"Method\": \"Hillside(Colley Params)\", \"Year\": \"2004\", \"k\": 2.967049583542281, \"k/k_worst\": 2.9668732904292887, \"top_n\": 6}, {\"Method\": \"Hillside(Colley Params)\", \"Year\": \"2004\", \"k\": 3.553071088918625, \"k/k_worst\": 3.5528947958056327, \"top_n\": 7}, {\"Method\": \"Hillside(Colley Params)\", \"Year\": \"2004\", \"k\": 3.922562614342354, \"k/k_worst\": 3.9223863212293617, \"top_n\": 8}, {\"Method\": \"Hillside(Colley Params)\", \"Year\": \"2004\", \"k\": 4.259196277708691, \"k/k_worst\": 4.259019984595698, \"top_n\": 9}, {\"Method\": \"Hillside(Colley Params)\", \"Year\": \"2004\", \"k\": 4.553640722153135, \"k/k_worst\": 4.553464429040142, \"top_n\": 10}, {\"Method\": \"Hillside(Colley Params)\", \"Year\": \"2004\", \"k\": 4.789692224299058, \"k/k_worst\": 4.789515931186065, \"top_n\": 11}, {\"Method\": \"Hillside(Colley Params)\", \"Year\": \"2004\", \"k\": 5.026960742817577, \"k/k_worst\": 5.026784449704583, \"top_n\": 12}, {\"Method\": \"Hillside(Colley Params)\", \"Year\": \"2004\", \"k\": 5.216857842911122, \"k/k_worst\": 5.216681549798128, \"top_n\": 13}, {\"Method\": \"Hillside(Colley Params)\", \"Year\": \"2004\", \"k\": 5.359153440395399, \"k/k_worst\": 5.358977147282404, \"top_n\": 14}, {\"Method\": \"Hillside(Colley Params)\", \"Year\": \"2004\", \"k\": 5.494046764552316, \"k/k_worst\": 5.493870471439321, \"top_n\": 15}, {\"Method\": \"Hillside(Colley Params)\", \"Year\": \"2004\", \"k\": 5.620790245449829, \"k/k_worst\": 5.620613952336834, \"top_n\": 16}, {\"Method\": \"Hillside(Colley Params)\", \"Year\": \"2004\", \"k\": 5.793018447817967, \"k/k_worst\": 5.792842154704972, \"top_n\": 17}, {\"Method\": \"Hillside(Colley Params)\", \"Year\": \"2004\", \"k\": 5.948665830738077, \"k/k_worst\": 5.948489537625083, \"top_n\": 18}, {\"Method\": \"Hillside(Colley Params)\", \"Year\": \"2004\", \"k\": 6.067060745318927, \"k/k_worst\": 6.066884452205933, \"top_n\": 19}, {\"Method\": \"Hillside(Colley Params)\", \"Year\": \"2004\", \"k\": 6.117860034839353, \"k/k_worst\": 6.11768374172636, \"top_n\": 20}, {\"Method\": \"Hillside(Colley Params)\", \"Year\": \"2004\", \"k\": 6.239901955055716, \"k/k_worst\": 6.239725661942722, \"top_n\": 21}, {\"Method\": \"Hillside(Colley Params)\", \"Year\": \"2004\", \"k\": 6.333604877622754, \"k/k_worst\": 6.33342858450976, \"top_n\": 22}, {\"Method\": \"Hillside(Colley Params)\", \"Year\": \"2004\", \"k\": 6.438839037402369, \"k/k_worst\": 6.438662744289374, \"top_n\": 23}, {\"Method\": \"Hillside(Colley Params)\", \"Year\": \"2004\", \"k\": 6.533305637601771, \"k/k_worst\": 6.533129344488776, \"top_n\": 24}, {\"Method\": \"Hillside(Colley Params)\", \"Year\": \"2004\", \"k\": 6.620301766046317, \"k/k_worst\": 6.620125472933322, \"top_n\": 25}, {\"Method\": \"Hillside(Colley Params)\", \"Year\": \"2004\", \"k\": 6.713744045535107, \"k/k_worst\": 6.713567752422113, \"top_n\": 26}, {\"Method\": \"Hillside(Colley Params)\", \"Year\": \"2004\", \"k\": 6.8018835358589245, \"k/k_worst\": 6.80170724274593, \"top_n\": 27}, {\"Method\": \"Hillside(Colley Params)\", \"Year\": \"2004\", \"k\": 6.867388026086077, \"k/k_worst\": 6.867211732973083, \"top_n\": 28}, {\"Method\": \"Hillside(Colley Params)\", \"Year\": \"2004\", \"k\": 6.943573780506834, \"k/k_worst\": 6.94339748739384, \"top_n\": 29}, {\"Method\": \"Hillside(Massey Params)\", \"Year\": \"2004\", \"k\": -0.9976965601965602, \"k/k_worst\": -0.9976965601965602, \"top_n\": 2}, {\"Method\": \"Hillside(Massey Params)\", \"Year\": \"2004\", \"k\": 1.2689701064701064, \"k/k_worst\": 1.2689701064701064, \"top_n\": 3}, {\"Method\": \"Hillside(Massey Params)\", \"Year\": \"2004\", \"k\": 1.9628476574905147, \"k/k_worst\": 1.9628476574905147, \"top_n\": 4}, {\"Method\": \"Hillside(Massey Params)\", \"Year\": \"2004\", \"k\": 2.5893536815869003, \"k/k_worst\": 2.5893536815869003, \"top_n\": 5}, {\"Method\": \"Hillside(Massey Params)\", \"Year\": \"2004\", \"k\": 2.967131459364678, \"k/k_worst\": 2.967131459364678, \"top_n\": 6}, {\"Method\": \"Hillside(Massey Params)\", \"Year\": \"2004\", \"k\": 3.553152964741022, \"k/k_worst\": 3.553152964741022, \"top_n\": 7}, {\"Method\": \"Hillside(Massey Params)\", \"Year\": \"2004\", \"k\": 3.9226444901647506, \"k/k_worst\": 3.922644490164751, \"top_n\": 8}, {\"Method\": \"Hillside(Massey Params)\", \"Year\": \"2004\", \"k\": 4.2592781535310875, \"k/k_worst\": 4.2592781535310875, \"top_n\": 9}, {\"Method\": \"Hillside(Massey Params)\", \"Year\": \"2004\", \"k\": 4.553722597975532, \"k/k_worst\": 4.553722597975532, \"top_n\": 10}, {\"Method\": \"Hillside(Massey Params)\", \"Year\": \"2004\", \"k\": 4.789774100121455, \"k/k_worst\": 4.789774100121455, \"top_n\": 11}, {\"Method\": \"Hillside(Massey Params)\", \"Year\": \"2004\", \"k\": 5.027042618639973, \"k/k_worst\": 5.027042618639973, \"top_n\": 12}, {\"Method\": \"Hillside(Massey Params)\", \"Year\": \"2004\", \"k\": 5.216939718733518, \"k/k_worst\": 5.216939718733518, \"top_n\": 13}, {\"Method\": \"Hillside(Massey Params)\", \"Year\": \"2004\", \"k\": 5.359235316217795, \"k/k_worst\": 5.359235316217795, \"top_n\": 14}, {\"Method\": \"Hillside(Massey Params)\", \"Year\": \"2004\", \"k\": 5.494128640374711, \"k/k_worst\": 5.494128640374711, \"top_n\": 15}, {\"Method\": \"Hillside(Massey Params)\", \"Year\": \"2004\", \"k\": 5.620872121272225, \"k/k_worst\": 5.620872121272225, \"top_n\": 16}, {\"Method\": \"Hillside(Massey Params)\", \"Year\": \"2004\", \"k\": 5.793100323640362, \"k/k_worst\": 5.793100323640362, \"top_n\": 17}, {\"Method\": \"Hillside(Massey Params)\", \"Year\": \"2004\", \"k\": 5.948747706560472, \"k/k_worst\": 5.948747706560473, \"top_n\": 18}, {\"Method\": \"Hillside(Massey Params)\", \"Year\": \"2004\", \"k\": 6.067142621141323, \"k/k_worst\": 6.067142621141324, \"top_n\": 19}, {\"Method\": \"Hillside(Massey Params)\", \"Year\": \"2004\", \"k\": 6.117941910661749, \"k/k_worst\": 6.1179419106617505, \"top_n\": 20}, {\"Method\": \"Hillside(Massey Params)\", \"Year\": \"2004\", \"k\": 6.239983830878112, \"k/k_worst\": 6.239983830878113, \"top_n\": 21}, {\"Method\": \"Hillside(Massey Params)\", \"Year\": \"2004\", \"k\": 6.33368675344515, \"k/k_worst\": 6.333686753445151, \"top_n\": 22}, {\"Method\": \"Hillside(Massey Params)\", \"Year\": \"2004\", \"k\": 6.438920913224765, \"k/k_worst\": 6.438920913224765, \"top_n\": 23}, {\"Method\": \"Hillside(Massey Params)\", \"Year\": \"2004\", \"k\": 6.533387513424167, \"k/k_worst\": 6.533387513424167, \"top_n\": 24}, {\"Method\": \"Hillside(Massey Params)\", \"Year\": \"2004\", \"k\": 6.620383641868712, \"k/k_worst\": 6.620383641868712, \"top_n\": 25}, {\"Method\": \"Hillside(Massey Params)\", \"Year\": \"2004\", \"k\": 6.713825921357503, \"k/k_worst\": 6.713825921357504, \"top_n\": 26}, {\"Method\": \"Hillside(Massey Params)\", \"Year\": \"2004\", \"k\": 6.80196541168132, \"k/k_worst\": 6.801965411681321, \"top_n\": 27}, {\"Method\": \"Hillside(Massey Params)\", \"Year\": \"2004\", \"k\": 6.867469901908473, \"k/k_worst\": 6.867469901908474, \"top_n\": 28}, {\"Method\": \"Hillside(Massey Params)\", \"Year\": \"2004\", \"k\": 6.94365565632923, \"k/k_worst\": 6.943655656329231, \"top_n\": 29}, {\"Method\": \"Hillside(Colley Params)\", \"Year\": \"2005\", \"k\": -0.9976965601965602, \"k/k_worst\": -0.997714306345412, \"top_n\": 2}, {\"Method\": \"Hillside(Colley Params)\", \"Year\": \"2005\", \"k\": 1.1356367731367731, \"k/k_worst\": 1.1356190269879214, \"top_n\": 3}, {\"Method\": \"Hillside(Colley Params)\", \"Year\": \"2005\", \"k\": 2.4122325178176243, \"k/k_worst\": 2.4122147716687725, \"top_n\": 4}, {\"Method\": \"Hillside(Colley Params)\", \"Year\": \"2005\", \"k\": 3.09447550847183, \"k/k_worst\": 3.0944577623229783, \"top_n\": 5}, {\"Method\": \"Hillside(Colley Params)\", \"Year\": \"2005\", \"k\": 3.572253286249608, \"k/k_worst\": 3.572235540100756, \"top_n\": 6}, {\"Method\": \"Hillside(Colley Params)\", \"Year\": \"2005\", \"k\": 3.9669901283548707, \"k/k_worst\": 3.966972382206019, \"top_n\": 7}, {\"Method\": \"Hillside(Colley Params)\", \"Year\": \"2005\", \"k\": 4.333566947761879, \"k/k_worst\": 4.333549201613027, \"top_n\": 8}, {\"Method\": \"Hillside(Colley Params)\", \"Year\": \"2005\", \"k\": 4.601811523698762, \"k/k_worst\": 4.601793777549911, \"top_n\": 9}, {\"Method\": \"Hillside(Colley Params)\", \"Year\": \"2005\", \"k\": 4.811764867400162, \"k/k_worst\": 4.811747121251311, \"top_n\": 10}, {\"Method\": \"Hillside(Colley Params)\", \"Year\": \"2005\", \"k\": 5.022561782567257, \"k/k_worst\": 5.022544036418406, \"top_n\": 11}, {\"Method\": \"Hillside(Colley Params)\", \"Year\": \"2005\", \"k\": 5.205152016112905, \"k/k_worst\": 5.205134269964054, \"top_n\": 12}, {\"Method\": \"Hillside(Colley Params)\", \"Year\": \"2005\", \"k\": 5.3712202387340895, \"k/k_worst\": 5.371202492585239, \"top_n\": 13}, {\"Method\": \"Hillside(Colley Params)\", \"Year\": \"2005\", \"k\": 5.525184826878816, \"k/k_worst\": 5.525167080729965, \"top_n\": 14}, {\"Method\": \"Hillside(Colley Params)\", \"Year\": \"2005\", \"k\": 5.659274219807435, \"k/k_worst\": 5.6592564736585835, \"top_n\": 15}, {\"Method\": \"Hillside(Colley Params)\", \"Year\": \"2005\", \"k\": 5.786921278630965, \"k/k_worst\": 5.786903532482112, \"top_n\": 16}, {\"Method\": \"Hillside(Colley Params)\", \"Year\": \"2005\", \"k\": 5.908987006330495, \"k/k_worst\": 5.908969260181642, \"top_n\": 17}, {\"Method\": \"Hillside(Colley Params)\", \"Year\": \"2005\", \"k\": 6.041018619533657, \"k/k_worst\": 6.041000873384804, \"top_n\": 18}, {\"Method\": \"Hillside(Colley Params)\", \"Year\": \"2005\", \"k\": 6.160115128773903, \"k/k_worst\": 6.16009738262505, \"top_n\": 19}, {\"Method\": \"Hillside(Colley Params)\", \"Year\": \"2005\", \"k\": 6.292225220517022, \"k/k_worst\": 6.292207474368169, \"top_n\": 20}, {\"Method\": \"Hillside(Colley Params)\", \"Year\": \"2005\", \"k\": 6.406649855849275, \"k/k_worst\": 6.406632109700422, \"top_n\": 21}, {\"Method\": \"Hillside(Colley Params)\", \"Year\": \"2005\", \"k\": 6.452025073999362, \"k/k_worst\": 6.4520073278505095, \"top_n\": 22}, {\"Method\": \"Hillside(Colley Params)\", \"Year\": \"2005\", \"k\": 6.556643883125684, \"k/k_worst\": 6.556626136976831, \"top_n\": 23}, {\"Method\": \"Hillside(Colley Params)\", \"Year\": \"2005\", \"k\": 6.652865545594198, \"k/k_worst\": 6.652847799445345, \"top_n\": 24}, {\"Method\": \"Hillside(Colley Params)\", \"Year\": \"2005\", \"k\": 6.740181722064786, \"k/k_worst\": 6.740163975915934, \"top_n\": 25}, {\"Method\": \"Hillside(Colley Params)\", \"Year\": \"2005\", \"k\": 6.838026185293865, \"k/k_worst\": 6.838008439145012, \"top_n\": 26}, {\"Method\": \"Hillside(Colley Params)\", \"Year\": \"2005\", \"k\": 6.899238889817445, \"k/k_worst\": 6.899221143668592, \"top_n\": 27}, {\"Method\": \"Hillside(Colley Params)\", \"Year\": \"2005\", \"k\": 6.971976056514343, \"k/k_worst\": 6.9719583103654905, \"top_n\": 28}, {\"Method\": \"Hillside(Colley Params)\", \"Year\": \"2005\", \"k\": 7.029128575959727, \"k/k_worst\": 7.029110829810874, \"top_n\": 29}, {\"Method\": \"Hillside(Massey Params)\", \"Year\": \"2005\", \"k\": -0.9976007677543186, \"k/k_worst\": -0.9976007677543186, \"top_n\": 2}, {\"Method\": \"Hillside(Massey Params)\", \"Year\": \"2005\", \"k\": 1.1357325655790147, \"k/k_worst\": 1.1357325655790147, \"top_n\": 3}, {\"Method\": \"Hillside(Massey Params)\", \"Year\": \"2005\", \"k\": 2.412328310259866, \"k/k_worst\": 2.412328310259866, \"top_n\": 4}, {\"Method\": \"Hillside(Massey Params)\", \"Year\": \"2005\", \"k\": 3.0945713009140716, \"k/k_worst\": 3.0945713009140716, \"top_n\": 5}, {\"Method\": \"Hillside(Massey Params)\", \"Year\": \"2005\", \"k\": 3.5723490786918495, \"k/k_worst\": 3.5723490786918495, \"top_n\": 6}, {\"Method\": \"Hillside(Massey Params)\", \"Year\": \"2005\", \"k\": 3.9670859207971123, \"k/k_worst\": 3.9670859207971123, \"top_n\": 7}, {\"Method\": \"Hillside(Massey Params)\", \"Year\": \"2005\", \"k\": 4.333662740204121, \"k/k_worst\": 4.333662740204121, \"top_n\": 8}, {\"Method\": \"Hillside(Massey Params)\", \"Year\": \"2005\", \"k\": 4.601907316141004, \"k/k_worst\": 4.601907316141004, \"top_n\": 9}, {\"Method\": \"Hillside(Massey Params)\", \"Year\": \"2005\", \"k\": 4.811860659842403, \"k/k_worst\": 4.811860659842403, \"top_n\": 10}, {\"Method\": \"Hillside(Massey Params)\", \"Year\": \"2005\", \"k\": 5.022657575009498, \"k/k_worst\": 5.022657575009498, \"top_n\": 11}, {\"Method\": \"Hillside(Massey Params)\", \"Year\": \"2005\", \"k\": 5.205247808555146, \"k/k_worst\": 5.205247808555146, \"top_n\": 12}, {\"Method\": \"Hillside(Massey Params)\", \"Year\": \"2005\", \"k\": 5.371316031176331, \"k/k_worst\": 5.371316031176331, \"top_n\": 13}, {\"Method\": \"Hillside(Massey Params)\", \"Year\": \"2005\", \"k\": 5.525280619321058, \"k/k_worst\": 5.525280619321057, \"top_n\": 14}, {\"Method\": \"Hillside(Massey Params)\", \"Year\": \"2005\", \"k\": 5.659370012249677, \"k/k_worst\": 5.659370012249676, \"top_n\": 15}, {\"Method\": \"Hillside(Massey Params)\", \"Year\": \"2005\", \"k\": 5.7870170710732065, \"k/k_worst\": 5.787017071073205, \"top_n\": 16}, {\"Method\": \"Hillside(Massey Params)\", \"Year\": \"2005\", \"k\": 5.909082798772737, \"k/k_worst\": 5.909082798772735, \"top_n\": 17}, {\"Method\": \"Hillside(Massey Params)\", \"Year\": \"2005\", \"k\": 6.041114411975898, \"k/k_worst\": 6.041114411975896, \"top_n\": 18}, {\"Method\": \"Hillside(Massey Params)\", \"Year\": \"2005\", \"k\": 6.160210921216144, \"k/k_worst\": 6.160210921216143, \"top_n\": 19}, {\"Method\": \"Hillside(Massey Params)\", \"Year\": \"2005\", \"k\": 6.292321012959263, \"k/k_worst\": 6.2923210129592615, \"top_n\": 20}, {\"Method\": \"Hillside(Massey Params)\", \"Year\": \"2005\", \"k\": 6.406745648291516, \"k/k_worst\": 6.406745648291515, \"top_n\": 21}, {\"Method\": \"Hillside(Massey Params)\", \"Year\": \"2005\", \"k\": 6.452120866441604, \"k/k_worst\": 6.452120866441602, \"top_n\": 22}, {\"Method\": \"Hillside(Massey Params)\", \"Year\": \"2005\", \"k\": 6.5567396755679255, \"k/k_worst\": 6.556739675567924, \"top_n\": 23}, {\"Method\": \"Hillside(Massey Params)\", \"Year\": \"2005\", \"k\": 6.652961338036439, \"k/k_worst\": 6.652961338036437, \"top_n\": 24}, {\"Method\": \"Hillside(Massey Params)\", \"Year\": \"2005\", \"k\": 6.740277514507028, \"k/k_worst\": 6.740277514507026, \"top_n\": 25}, {\"Method\": \"Hillside(Massey Params)\", \"Year\": \"2005\", \"k\": 6.838121977736106, \"k/k_worst\": 6.838121977736105, \"top_n\": 26}, {\"Method\": \"Hillside(Massey Params)\", \"Year\": \"2005\", \"k\": 6.899334682259687, \"k/k_worst\": 6.899334682259685, \"top_n\": 27}, {\"Method\": \"Hillside(Massey Params)\", \"Year\": \"2005\", \"k\": 6.972071848956585, \"k/k_worst\": 6.972071848956583, \"top_n\": 28}, {\"Method\": \"Hillside(Massey Params)\", \"Year\": \"2005\", \"k\": 7.029224368401969, \"k/k_worst\": 7.029224368401967, \"top_n\": 29}, {\"Method\": \"Hillside(Colley Params)\", \"Year\": \"2006\", \"k\": -0.9964811260396673, \"k/k_worst\": -0.9967256857999663, \"top_n\": 2}, {\"Method\": \"Hillside(Colley Params)\", \"Year\": \"2006\", \"k\": 0.7307916012330598, \"k/k_worst\": 0.7305470414727612, \"top_n\": 3}, {\"Method\": \"Hillside(Colley Params)\", \"Year\": \"2006\", \"k\": 1.764124934566393, \"k/k_worst\": 1.7638803748060945, \"top_n\": 4}, {\"Method\": \"Hillside(Colley Params)\", \"Year\": \"2006\", \"k\": 2.1903544427631143, \"k/k_worst\": 2.1901098830028154, \"top_n\": 5}, {\"Method\": \"Hillside(Colley Params)\", \"Year\": \"2006\", \"k\": 2.7190900749470224, \"k/k_worst\": 2.7188455151867235, \"top_n\": 6}, {\"Method\": \"Hillside(Colley Params)\", \"Year\": \"2006\", \"k\": 3.1852554884808573, \"k/k_worst\": 3.1850109287205584, \"top_n\": 7}, {\"Method\": \"Hillside(Colley Params)\", \"Year\": \"2006\", \"k\": 3.618588821814191, \"k/k_worst\": 3.6183442620538915, \"top_n\": 8}, {\"Method\": \"Hillside(Colley Params)\", \"Year\": \"2006\", \"k\": 3.8905029541934395, \"k/k_worst\": 3.89025839443314, \"top_n\": 9}, {\"Method\": \"Hillside(Colley Params)\", \"Year\": \"2006\", \"k\": 4.147886920438165, \"k/k_worst\": 4.147642360677866, \"top_n\": 10}, {\"Method\": \"Hillside(Colley Params)\", \"Year\": \"2006\", \"k\": 4.35929631641132, \"k/k_worst\": 4.35905175665102, \"top_n\": 11}, {\"Method\": \"Hillside(Colley Params)\", \"Year\": \"2006\", \"k\": 4.5485853284150135, \"k/k_worst\": 4.548340768654714, \"top_n\": 12}, {\"Method\": \"Hillside(Colley Params)\", \"Year\": \"2006\", \"k\": 4.729485949533026, \"k/k_worst\": 4.729241389772726, \"top_n\": 13}, {\"Method\": \"Hillside(Colley Params)\", \"Year\": \"2006\", \"k\": 4.830735127705281, \"k/k_worst\": 4.830490567944981, \"top_n\": 14}, {\"Method\": \"Hillside(Colley Params)\", \"Year\": \"2006\", \"k\": 4.9793918441231915, \"k/k_worst\": 4.979147284362892, \"top_n\": 15}, {\"Method\": \"Hillside(Colley Params)\", \"Year\": \"2006\", \"k\": 5.125961490692838, \"k/k_worst\": 5.125716930932539, \"top_n\": 16}, {\"Method\": \"Hillside(Colley Params)\", \"Year\": \"2006\", \"k\": 5.216623322061832, \"k/k_worst\": 5.216378762301533, \"top_n\": 17}, {\"Method\": \"Hillside(Colley Params)\", \"Year\": \"2006\", \"k\": 5.314711435112538, \"k/k_worst\": 5.314466875352239, \"top_n\": 18}, {\"Method\": \"Hillside(Colley Params)\", \"Year\": \"2006\", \"k\": 5.3991171883297975, \"k/k_worst\": 5.398872628569499, \"top_n\": 19}, {\"Method\": \"Hillside(Colley Params)\", \"Year\": \"2006\", \"k\": 5.509064832308855, \"k/k_worst\": 5.508820272548556, \"top_n\": 20}, {\"Method\": \"Hillside(Colley Params)\", \"Year\": \"2006\", \"k\": 5.60812143608244, \"k/k_worst\": 5.607876876322141, \"top_n\": 21}, {\"Method\": \"Hillside(Colley Params)\", \"Year\": \"2006\", \"k\": 5.7065477594014675, \"k/k_worst\": 5.706303199641169, \"top_n\": 22}, {\"Method\": \"Hillside(Colley Params)\", \"Year\": \"2006\", \"k\": 5.802145571331658, \"k/k_worst\": 5.801901011571358, \"top_n\": 23}, {\"Method\": \"Hillside(Colley Params)\", \"Year\": \"2006\", \"k\": 5.905569251788148, \"k/k_worst\": 5.905324692027849, \"top_n\": 24}, {\"Method\": \"Hillside(Colley Params)\", \"Year\": \"2006\", \"k\": 6.004685821492954, \"k/k_worst\": 6.004441261732653, \"top_n\": 25}, {\"Method\": \"Hillside(Colley Params)\", \"Year\": \"2006\", \"k\": 6.109763257289856, \"k/k_worst\": 6.1095186975295555, \"top_n\": 26}, {\"Method\": \"Hillside(Colley Params)\", \"Year\": \"2006\", \"k\": 6.182851779553472, \"k/k_worst\": 6.182607219793171, \"top_n\": 27}, {\"Method\": \"Hillside(Colley Params)\", \"Year\": \"2006\", \"k\": 6.269642984711349, \"k/k_worst\": 6.269398424951048, \"top_n\": 28}, {\"Method\": \"Hillside(Colley Params)\", \"Year\": \"2006\", \"k\": 6.3526974416629765, \"k/k_worst\": 6.352452881902676, \"top_n\": 29}, {\"Method\": \"Hillside(Massey Params)\", \"Year\": \"2006\", \"k\": -0.9969101123595505, \"k/k_worst\": -0.9969101123595505, \"top_n\": 2}, {\"Method\": \"Hillside(Massey Params)\", \"Year\": \"2006\", \"k\": 0.7303626149131766, \"k/k_worst\": 0.730362614913177, \"top_n\": 3}, {\"Method\": \"Hillside(Massey Params)\", \"Year\": \"2006\", \"k\": 1.7636959482465098, \"k/k_worst\": 1.7636959482465102, \"top_n\": 4}, {\"Method\": \"Hillside(Massey Params)\", \"Year\": \"2006\", \"k\": 2.1899254564432313, \"k/k_worst\": 2.1899254564432313, \"top_n\": 5}, {\"Method\": \"Hillside(Massey Params)\", \"Year\": \"2006\", \"k\": 2.7186610886271394, \"k/k_worst\": 2.7186610886271394, \"top_n\": 6}, {\"Method\": \"Hillside(Massey Params)\", \"Year\": \"2006\", \"k\": 3.1848265021609743, \"k/k_worst\": 3.1848265021609743, \"top_n\": 7}, {\"Method\": \"Hillside(Massey Params)\", \"Year\": \"2006\", \"k\": 3.618159835494308, \"k/k_worst\": 3.6181598354943074, \"top_n\": 8}, {\"Method\": \"Hillside(Massey Params)\", \"Year\": \"2006\", \"k\": 3.8900739678735565, \"k/k_worst\": 3.890073967873556, \"top_n\": 9}, {\"Method\": \"Hillside(Massey Params)\", \"Year\": \"2006\", \"k\": 4.1474579341182825, \"k/k_worst\": 4.147457934118282, \"top_n\": 10}, {\"Method\": \"Hillside(Massey Params)\", \"Year\": \"2006\", \"k\": 4.358867330091437, \"k/k_worst\": 4.358867330091436, \"top_n\": 11}, {\"Method\": \"Hillside(Massey Params)\", \"Year\": \"2006\", \"k\": 4.5481563420951305, \"k/k_worst\": 4.54815634209513, \"top_n\": 12}, {\"Method\": \"Hillside(Massey Params)\", \"Year\": \"2006\", \"k\": 4.729056963213143, \"k/k_worst\": 4.729056963213142, \"top_n\": 13}, {\"Method\": \"Hillside(Massey Params)\", \"Year\": \"2006\", \"k\": 4.830306141385398, \"k/k_worst\": 4.830306141385397, \"top_n\": 14}, {\"Method\": \"Hillside(Massey Params)\", \"Year\": \"2006\", \"k\": 4.9789628578033085, \"k/k_worst\": 4.978962857803307, \"top_n\": 15}, {\"Method\": \"Hillside(Massey Params)\", \"Year\": \"2006\", \"k\": 5.125532504372956, \"k/k_worst\": 5.125532504372954, \"top_n\": 16}, {\"Method\": \"Hillside(Massey Params)\", \"Year\": \"2006\", \"k\": 5.21619433574195, \"k/k_worst\": 5.216194335741948, \"top_n\": 17}, {\"Method\": \"Hillside(Massey Params)\", \"Year\": \"2006\", \"k\": 5.314282448792656, \"k/k_worst\": 5.314282448792654, \"top_n\": 18}, {\"Method\": \"Hillside(Massey Params)\", \"Year\": \"2006\", \"k\": 5.398688202009915, \"k/k_worst\": 5.398688202009914, \"top_n\": 19}, {\"Method\": \"Hillside(Massey Params)\", \"Year\": \"2006\", \"k\": 5.508635845988973, \"k/k_worst\": 5.508635845988971, \"top_n\": 20}, {\"Method\": \"Hillside(Massey Params)\", \"Year\": \"2006\", \"k\": 5.607692449762558, \"k/k_worst\": 5.607692449762556, \"top_n\": 21}, {\"Method\": \"Hillside(Massey Params)\", \"Year\": \"2006\", \"k\": 5.706118773081585, \"k/k_worst\": 5.706118773081584, \"top_n\": 22}, {\"Method\": \"Hillside(Massey Params)\", \"Year\": \"2006\", \"k\": 5.801716585011776, \"k/k_worst\": 5.801716585011773, \"top_n\": 23}, {\"Method\": \"Hillside(Massey Params)\", \"Year\": \"2006\", \"k\": 5.905140265468266, \"k/k_worst\": 5.905140265468264, \"top_n\": 24}, {\"Method\": \"Hillside(Massey Params)\", \"Year\": \"2006\", \"k\": 6.004256835173072, \"k/k_worst\": 6.004256835173068, \"top_n\": 25}, {\"Method\": \"Hillside(Massey Params)\", \"Year\": \"2006\", \"k\": 6.109334270969974, \"k/k_worst\": 6.1093342709699705, \"top_n\": 26}, {\"Method\": \"Hillside(Massey Params)\", \"Year\": \"2006\", \"k\": 6.18242279323359, \"k/k_worst\": 6.182422793233586, \"top_n\": 27}, {\"Method\": \"Hillside(Massey Params)\", \"Year\": \"2006\", \"k\": 6.269213998391467, \"k/k_worst\": 6.269213998391463, \"top_n\": 28}, {\"Method\": \"Hillside(Massey Params)\", \"Year\": \"2006\", \"k\": 6.352268455343094, \"k/k_worst\": 6.352268455343091, \"top_n\": 29}, {\"Method\": \"Hillside(Colley Params)\", \"Year\": \"2007\", \"k\": -0.9964887640449438, \"k/k_worst\": -0.9969534920525924, \"top_n\": 2}, {\"Method\": \"Hillside(Colley Params)\", \"Year\": \"2007\", \"k\": 1.1635112359550563, \"k/k_worst\": 1.1630465079474073, \"top_n\": 3}, {\"Method\": \"Hillside(Colley Params)\", \"Year\": \"2007\", \"k\": 1.9609795903854361, \"k/k_worst\": 1.960514862377787, \"top_n\": 4}, {\"Method\": \"Hillside(Colley Params)\", \"Year\": \"2007\", \"k\": 2.6511204354558586, \"k/k_worst\": 2.6506557074482098, \"top_n\": 5}, {\"Method\": \"Hillside(Colley Params)\", \"Year\": \"2007\", \"k\": 3.134453768789192, \"k/k_worst\": 3.133989040781543, \"top_n\": 6}, {\"Method\": \"Hillside(Colley Params)\", \"Year\": \"2007\", \"k\": 3.471532420474585, \"k/k_worst\": 3.4710676924669364, \"top_n\": 7}, {\"Method\": \"Hillside(Colley Params)\", \"Year\": \"2007\", \"k\": 3.696322336440972, \"k/k_worst\": 3.6958576084333226, \"top_n\": 8}, {\"Method\": \"Hillside(Colley Params)\", \"Year\": \"2007\", \"k\": 3.860987859597061, \"k/k_worst\": 3.860523131589412, \"top_n\": 9}, {\"Method\": \"Hillside(Colley Params)\", \"Year\": \"2007\", \"k\": 4.081900967108107, \"k/k_worst\": 4.081436239100458, \"top_n\": 10}, {\"Method\": \"Hillside(Colley Params)\", \"Year\": \"2007\", \"k\": 4.330393126336093, \"k/k_worst\": 4.329928398328443, \"top_n\": 11}, {\"Method\": \"Hillside(Colley Params)\", \"Year\": \"2007\", \"k\": 4.536190227785368, \"k/k_worst\": 4.535725499777718, \"top_n\": 12}, {\"Method\": \"Hillside(Colley Params)\", \"Year\": \"2007\", \"k\": 4.706062022657163, \"k/k_worst\": 4.705597294649513, \"top_n\": 13}, {\"Method\": \"Hillside(Colley Params)\", \"Year\": \"2007\", \"k\": 4.884144214437985, \"k/k_worst\": 4.883679486430335, \"top_n\": 14}, {\"Method\": \"Hillside(Colley Params)\", \"Year\": \"2007\", \"k\": 5.063795377228683, \"k/k_worst\": 5.063330649221033, \"top_n\": 15}, {\"Method\": \"Hillside(Colley Params)\", \"Year\": \"2007\", \"k\": 5.2067229277461795, \"k/k_worst\": 5.20625819973853, \"top_n\": 16}, {\"Method\": \"Hillside(Colley Params)\", \"Year\": \"2007\", \"k\": 5.349025644434407, \"k/k_worst\": 5.348560916426758, \"top_n\": 17}, {\"Method\": \"Hillside(Colley Params)\", \"Year\": \"2007\", \"k\": 5.514748558741693, \"k/k_worst\": 5.514283830734043, \"top_n\": 18}, {\"Method\": \"Hillside(Colley Params)\", \"Year\": \"2007\", \"k\": 5.622909180503351, \"k/k_worst\": 5.622444452495701, \"top_n\": 19}, {\"Method\": \"Hillside(Colley Params)\", \"Year\": \"2007\", \"k\": 5.743891062443737, \"k/k_worst\": 5.743426334436087, \"top_n\": 20}, {\"Method\": \"Hillside(Colley Params)\", \"Year\": \"2007\", \"k\": 5.868500030118398, \"k/k_worst\": 5.868035302110748, \"top_n\": 21}, {\"Method\": \"Hillside(Colley Params)\", \"Year\": \"2007\", \"k\": 5.961453205825398, \"k/k_worst\": 5.960988477817748, \"top_n\": 22}, {\"Method\": \"Hillside(Colley Params)\", \"Year\": \"2007\", \"k\": 6.048621816641941, \"k/k_worst\": 6.048157088634292, \"top_n\": 23}, {\"Method\": \"Hillside(Colley Params)\", \"Year\": \"2007\", \"k\": 6.141871914183884, \"k/k_worst\": 6.1414071861762345, \"top_n\": 24}, {\"Method\": \"Hillside(Colley Params)\", \"Year\": \"2007\", \"k\": 6.246618523748481, \"k/k_worst\": 6.246153795740831, \"top_n\": 25}, {\"Method\": \"Hillside(Colley Params)\", \"Year\": \"2007\", \"k\": 6.33303428856838, \"k/k_worst\": 6.332569560560731, \"top_n\": 26}, {\"Method\": \"Hillside(Colley Params)\", \"Year\": \"2007\", \"k\": 6.41688799062012, \"k/k_worst\": 6.41642326261247, \"top_n\": 27}, {\"Method\": \"Hillside(Colley Params)\", \"Year\": \"2007\", \"k\": 6.503170569495292, \"k/k_worst\": 6.502705841487642, \"top_n\": 28}, {\"Method\": \"Hillside(Colley Params)\", \"Year\": \"2007\", \"k\": 6.575401911836496, \"k/k_worst\": 6.574937183828847, \"top_n\": 29}, {\"Method\": \"Hillside(Massey Params)\", \"Year\": \"2007\", \"k\": -0.9970557060416912, \"k/k_worst\": -0.9970557060416912, \"top_n\": 2}, {\"Method\": \"Hillside(Massey Params)\", \"Year\": \"2007\", \"k\": 1.1629442939583088, \"k/k_worst\": 1.1629442939583083, \"top_n\": 3}, {\"Method\": \"Hillside(Massey Params)\", \"Year\": \"2007\", \"k\": 1.9604126483886886, \"k/k_worst\": 1.9604126483886881, \"top_n\": 4}, {\"Method\": \"Hillside(Massey Params)\", \"Year\": \"2007\", \"k\": 2.6505534934591113, \"k/k_worst\": 2.650553493459111, \"top_n\": 5}, {\"Method\": \"Hillside(Massey Params)\", \"Year\": \"2007\", \"k\": 3.1338868267924447, \"k/k_worst\": 3.1338868267924442, \"top_n\": 6}, {\"Method\": \"Hillside(Massey Params)\", \"Year\": \"2007\", \"k\": 3.470965478477838, \"k/k_worst\": 3.4709654784778374, \"top_n\": 7}, {\"Method\": \"Hillside(Massey Params)\", \"Year\": \"2007\", \"k\": 3.6957553944442245, \"k/k_worst\": 3.695755394444224, \"top_n\": 8}, {\"Method\": \"Hillside(Massey Params)\", \"Year\": \"2007\", \"k\": 3.8604209176003135, \"k/k_worst\": 3.8604209176003135, \"top_n\": 9}, {\"Method\": \"Hillside(Massey Params)\", \"Year\": \"2007\", \"k\": 4.081334025111359, \"k/k_worst\": 4.081334025111359, \"top_n\": 10}, {\"Method\": \"Hillside(Massey Params)\", \"Year\": \"2007\", \"k\": 4.329826184339344, \"k/k_worst\": 4.329826184339344, \"top_n\": 11}, {\"Method\": \"Hillside(Massey Params)\", \"Year\": \"2007\", \"k\": 4.53562328578862, \"k/k_worst\": 4.53562328578862, \"top_n\": 12}, {\"Method\": \"Hillside(Massey Params)\", \"Year\": \"2007\", \"k\": 4.705495080660414, \"k/k_worst\": 4.705495080660414, \"top_n\": 13}, {\"Method\": \"Hillside(Massey Params)\", \"Year\": \"2007\", \"k\": 4.8835772724412365, \"k/k_worst\": 4.8835772724412365, \"top_n\": 14}, {\"Method\": \"Hillside(Massey Params)\", \"Year\": \"2007\", \"k\": 5.0632284352319346, \"k/k_worst\": 5.0632284352319346, \"top_n\": 15}, {\"Method\": \"Hillside(Massey Params)\", \"Year\": \"2007\", \"k\": 5.206155985749431, \"k/k_worst\": 5.206155985749431, \"top_n\": 16}, {\"Method\": \"Hillside(Massey Params)\", \"Year\": \"2007\", \"k\": 5.348458702437659, \"k/k_worst\": 5.348458702437659, \"top_n\": 17}, {\"Method\": \"Hillside(Massey Params)\", \"Year\": \"2007\", \"k\": 5.514181616744945, \"k/k_worst\": 5.514181616744945, \"top_n\": 18}, {\"Method\": \"Hillside(Massey Params)\", \"Year\": \"2007\", \"k\": 5.622342238506603, \"k/k_worst\": 5.622342238506603, \"top_n\": 19}, {\"Method\": \"Hillside(Massey Params)\", \"Year\": \"2007\", \"k\": 5.743324120446989, \"k/k_worst\": 5.743324120446989, \"top_n\": 20}, {\"Method\": \"Hillside(Massey Params)\", \"Year\": \"2007\", \"k\": 5.867933088121649, \"k/k_worst\": 5.867933088121649, \"top_n\": 21}, {\"Method\": \"Hillside(Massey Params)\", \"Year\": \"2007\", \"k\": 5.96088626382865, \"k/k_worst\": 5.96088626382865, \"top_n\": 22}, {\"Method\": \"Hillside(Massey Params)\", \"Year\": \"2007\", \"k\": 6.048054874645193, \"k/k_worst\": 6.048054874645193, \"top_n\": 23}, {\"Method\": \"Hillside(Massey Params)\", \"Year\": \"2007\", \"k\": 6.141304972187136, \"k/k_worst\": 6.141304972187136, \"top_n\": 24}, {\"Method\": \"Hillside(Massey Params)\", \"Year\": \"2007\", \"k\": 6.246051581751733, \"k/k_worst\": 6.246051581751733, \"top_n\": 25}, {\"Method\": \"Hillside(Massey Params)\", \"Year\": \"2007\", \"k\": 6.332467346571632, \"k/k_worst\": 6.332467346571632, \"top_n\": 26}, {\"Method\": \"Hillside(Massey Params)\", \"Year\": \"2007\", \"k\": 6.416321048623372, \"k/k_worst\": 6.416321048623372, \"top_n\": 27}, {\"Method\": \"Hillside(Massey Params)\", \"Year\": \"2007\", \"k\": 6.5026036274985435, \"k/k_worst\": 6.5026036274985435, \"top_n\": 28}, {\"Method\": \"Hillside(Massey Params)\", \"Year\": \"2007\", \"k\": 6.574834969839748, \"k/k_worst\": 6.574834969839748, \"top_n\": 29}, {\"Method\": \"Hillside(Colley Params)\", \"Year\": \"2008\", \"k\": -0.9981156518666824, \"k/k_worst\": -0.9978410275763654, \"top_n\": 2}, {\"Method\": \"Hillside(Colley Params)\", \"Year\": \"2008\", \"k\": 1.3768843481333177, \"k/k_worst\": 1.3771589724236346, \"top_n\": 3}, {\"Method\": \"Hillside(Colley Params)\", \"Year\": \"2008\", \"k\": 2.2472547185036884, \"k/k_worst\": 2.247529342794005, \"top_n\": 4}, {\"Method\": \"Hillside(Colley Params)\", \"Year\": \"2008\", \"k\": 2.7621062036522033, \"k/k_worst\": 2.7623808279425193, \"top_n\": 5}, {\"Method\": \"Hillside(Colley Params)\", \"Year\": \"2008\", \"k\": 3.4026290794691967, \"k/k_worst\": 3.4029037037595127, \"top_n\": 6}, {\"Method\": \"Hillside(Colley Params)\", \"Year\": \"2008\", \"k\": 3.7532266890309494, \"k/k_worst\": 3.753501313321266, \"top_n\": 7}, {\"Method\": \"Hillside(Colley Params)\", \"Year\": \"2008\", \"k\": 4.071810759827409, \"k/k_worst\": 4.072085384117726, \"top_n\": 8}, {\"Method\": \"Hillside(Colley Params)\", \"Year\": \"2008\", \"k\": 4.420804048418013, \"k/k_worst\": 4.4210786727083295, \"top_n\": 9}, {\"Method\": \"Hillside(Colley Params)\", \"Year\": \"2008\", \"k\": 4.599908526029953, \"k/k_worst\": 4.6001831503202695, \"top_n\": 10}, {\"Method\": \"Hillside(Colley Params)\", \"Year\": \"2008\", \"k\": 4.8741701294054804, \"k/k_worst\": 4.874444753695797, \"top_n\": 11}, {\"Method\": \"Hillside(Colley Params)\", \"Year\": \"2008\", \"k\": 5.091609423003714, \"k/k_worst\": 5.09188404729403, \"top_n\": 12}, {\"Method\": \"Hillside(Colley Params)\", \"Year\": \"2008\", \"k\": 5.301038253466089, \"k/k_worst\": 5.301312877756406, \"top_n\": 13}, {\"Method\": \"Hillside(Colley Params)\", \"Year\": \"2008\", \"k\": 5.446465539822911, \"k/k_worst\": 5.446740164113227, \"top_n\": 14}, {\"Method\": \"Hillside(Colley Params)\", \"Year\": \"2008\", \"k\": 5.601570251864795, \"k/k_worst\": 5.601844876155112, \"top_n\": 15}, {\"Method\": \"Hillside(Colley Params)\", \"Year\": \"2008\", \"k\": 5.748312461496523, \"k/k_worst\": 5.7485870857868395, \"top_n\": 16}, {\"Method\": \"Hillside(Colley Params)\", \"Year\": \"2008\", \"k\": 5.883193884421424, \"k/k_worst\": 5.883468508711741, \"top_n\": 17}, {\"Method\": \"Hillside(Colley Params)\", \"Year\": \"2008\", \"k\": 6.0481917076691385, \"k/k_worst\": 6.048466331959455, \"top_n\": 18}, {\"Method\": \"Hillside(Colley Params)\", \"Year\": \"2008\", \"k\": 6.167773172542083, \"k/k_worst\": 6.1680477968324, \"top_n\": 19}, {\"Method\": \"Hillside(Colley Params)\", \"Year\": \"2008\", \"k\": 6.284261824077464, \"k/k_worst\": 6.28453644836778, \"top_n\": 20}, {\"Method\": \"Hillside(Colley Params)\", \"Year\": \"2008\", \"k\": 6.401750613315132, \"k/k_worst\": 6.402025237605448, \"top_n\": 21}, {\"Method\": \"Hillside(Colley Params)\", \"Year\": \"2008\", \"k\": 6.5277538235880055, \"k/k_worst\": 6.528028447878322, \"top_n\": 22}, {\"Method\": \"Hillside(Colley Params)\", \"Year\": \"2008\", \"k\": 6.61803655107672, \"k/k_worst\": 6.618311175367037, \"top_n\": 23}, {\"Method\": \"Hillside(Colley Params)\", \"Year\": \"2008\", \"k\": 6.715443393526056, \"k/k_worst\": 6.715718017816372, \"top_n\": 24}, {\"Method\": \"Hillside(Colley Params)\", \"Year\": \"2008\", \"k\": 6.8022186119533785, \"k/k_worst\": 6.802493236243695, \"top_n\": 25}, {\"Method\": \"Hillside(Colley Params)\", \"Year\": \"2008\", \"k\": 6.886450294759883, \"k/k_worst\": 6.8867249190502, \"top_n\": 26}, {\"Method\": \"Hillside(Colley Params)\", \"Year\": \"2008\", \"k\": 6.9589140628758255, \"k/k_worst\": 6.959188687166142, \"top_n\": 27}, {\"Method\": \"Hillside(Colley Params)\", \"Year\": \"2008\", \"k\": 7.009354037734405, \"k/k_worst\": 7.0096286620247215, \"top_n\": 28}, {\"Method\": \"Hillside(Colley Params)\", \"Year\": \"2008\", \"k\": 7.057371988370157, \"k/k_worst\": 7.0576466126604736, \"top_n\": 29}, {\"Method\": \"Hillside(Massey Params)\", \"Year\": \"2008\", \"k\": -0.9977162432200971, \"k/k_worst\": -0.9977162432200971, \"top_n\": 2}, {\"Method\": \"Hillside(Massey Params)\", \"Year\": \"2008\", \"k\": 1.377283756779903, \"k/k_worst\": 1.377283756779903, \"top_n\": 3}, {\"Method\": \"Hillside(Massey Params)\", \"Year\": \"2008\", \"k\": 2.2476541271502732, \"k/k_worst\": 2.2476541271502732, \"top_n\": 4}, {\"Method\": \"Hillside(Massey Params)\", \"Year\": \"2008\", \"k\": 2.762505612298788, \"k/k_worst\": 2.7625056122987877, \"top_n\": 5}, {\"Method\": \"Hillside(Massey Params)\", \"Year\": \"2008\", \"k\": 3.4030284881157815, \"k/k_worst\": 3.403028488115781, \"top_n\": 6}, {\"Method\": \"Hillside(Massey Params)\", \"Year\": \"2008\", \"k\": 3.753626097677534, \"k/k_worst\": 3.753626097677534, \"top_n\": 7}, {\"Method\": \"Hillside(Massey Params)\", \"Year\": \"2008\", \"k\": 4.072210168473994, \"k/k_worst\": 4.072210168473994, \"top_n\": 8}, {\"Method\": \"Hillside(Massey Params)\", \"Year\": \"2008\", \"k\": 4.421203457064598, \"k/k_worst\": 4.421203457064598, \"top_n\": 9}, {\"Method\": \"Hillside(Massey Params)\", \"Year\": \"2008\", \"k\": 4.600307934676538, \"k/k_worst\": 4.600307934676538, \"top_n\": 10}, {\"Method\": \"Hillside(Massey Params)\", \"Year\": \"2008\", \"k\": 4.874569538052065, \"k/k_worst\": 4.874569538052065, \"top_n\": 11}, {\"Method\": \"Hillside(Massey Params)\", \"Year\": \"2008\", \"k\": 5.092008831650299, \"k/k_worst\": 5.092008831650299, \"top_n\": 12}, {\"Method\": \"Hillside(Massey Params)\", \"Year\": \"2008\", \"k\": 5.301437662112674, \"k/k_worst\": 5.301437662112674, \"top_n\": 13}, {\"Method\": \"Hillside(Massey Params)\", \"Year\": \"2008\", \"k\": 5.4468649484694955, \"k/k_worst\": 5.4468649484694955, \"top_n\": 14}, {\"Method\": \"Hillside(Massey Params)\", \"Year\": \"2008\", \"k\": 5.60196966051138, \"k/k_worst\": 5.60196966051138, \"top_n\": 15}, {\"Method\": \"Hillside(Massey Params)\", \"Year\": \"2008\", \"k\": 5.748711870143108, \"k/k_worst\": 5.748711870143108, \"top_n\": 16}, {\"Method\": \"Hillside(Massey Params)\", \"Year\": \"2008\", \"k\": 5.883593293068009, \"k/k_worst\": 5.883593293068009, \"top_n\": 17}, {\"Method\": \"Hillside(Massey Params)\", \"Year\": \"2008\", \"k\": 6.048591116315723, \"k/k_worst\": 6.048591116315723, \"top_n\": 18}, {\"Method\": \"Hillside(Massey Params)\", \"Year\": \"2008\", \"k\": 6.168172581188668, \"k/k_worst\": 6.168172581188668, \"top_n\": 19}, {\"Method\": \"Hillside(Massey Params)\", \"Year\": \"2008\", \"k\": 6.284661232724049, \"k/k_worst\": 6.284661232724049, \"top_n\": 20}, {\"Method\": \"Hillside(Massey Params)\", \"Year\": \"2008\", \"k\": 6.402150021961717, \"k/k_worst\": 6.402150021961717, \"top_n\": 21}, {\"Method\": \"Hillside(Massey Params)\", \"Year\": \"2008\", \"k\": 6.52815323223459, \"k/k_worst\": 6.52815323223459, \"top_n\": 22}, {\"Method\": \"Hillside(Massey Params)\", \"Year\": \"2008\", \"k\": 6.618435959723305, \"k/k_worst\": 6.618435959723305, \"top_n\": 23}, {\"Method\": \"Hillside(Massey Params)\", \"Year\": \"2008\", \"k\": 6.715842802172641, \"k/k_worst\": 6.715842802172641, \"top_n\": 24}, {\"Method\": \"Hillside(Massey Params)\", \"Year\": \"2008\", \"k\": 6.802618020599963, \"k/k_worst\": 6.802618020599963, \"top_n\": 25}, {\"Method\": \"Hillside(Massey Params)\", \"Year\": \"2008\", \"k\": 6.886849703406468, \"k/k_worst\": 6.886849703406468, \"top_n\": 26}, {\"Method\": \"Hillside(Massey Params)\", \"Year\": \"2008\", \"k\": 6.95931347152241, \"k/k_worst\": 6.95931347152241, \"top_n\": 27}, {\"Method\": \"Hillside(Massey Params)\", \"Year\": \"2008\", \"k\": 7.00975344638099, \"k/k_worst\": 7.00975344638099, \"top_n\": 28}, {\"Method\": \"Hillside(Massey Params)\", \"Year\": \"2008\", \"k\": 7.057771397016742, \"k/k_worst\": 7.057771397016742, \"top_n\": 29}, {\"Method\": \"Hillside(Colley Params)\", \"Year\": \"2009\", \"k\": -0.9968598344276335, \"k/k_worst\": -0.996970844677384, \"top_n\": 2}, {\"Method\": \"Hillside(Colley Params)\", \"Year\": \"2009\", \"k\": 1.321321983754185, \"k/k_worst\": 1.3212109735044344, \"top_n\": 3}, {\"Method\": \"Hillside(Colley Params)\", \"Year\": \"2009\", \"k\": 2.129541161836377, \"k/k_worst\": 2.129430151586626, \"top_n\": 4}, {\"Method\": \"Hillside(Colley Params)\", \"Year\": \"2009\", \"k\": 2.7810563133515283, \"k/k_worst\": 2.7809453031017775, \"top_n\": 5}, {\"Method\": \"Hillside(Colley Params)\", \"Year\": \"2009\", \"k\": 3.2810563133515283, \"k/k_worst\": 3.2809453031017775, \"top_n\": 6}, {\"Method\": \"Hillside(Colley Params)\", \"Year\": \"2009\", \"k\": 3.638854478489143, \"k/k_worst\": 3.638743468239392, \"top_n\": 7}, {\"Method\": \"Hillside(Colley Params)\", \"Year\": \"2009\", \"k\": 3.9226382622729266, \"k/k_worst\": 3.9225272520231758, \"top_n\": 8}, {\"Method\": \"Hillside(Colley Params)\", \"Year\": \"2009\", \"k\": 4.201585630693979, \"k/k_worst\": 4.201474620444229, \"top_n\": 9}, {\"Method\": \"Hillside(Colley Params)\", \"Year\": \"2009\", \"k\": 4.384027331654199, \"k/k_worst\": 4.383916321404448, \"top_n\": 10}, {\"Method\": \"Hillside(Colley Params)\", \"Year\": \"2009\", \"k\": 4.647368398939582, \"k/k_worst\": 4.647257388689831, \"top_n\": 11}, {\"Method\": \"Hillside(Colley Params)\", \"Year\": \"2009\", \"k\": 4.8916291886549175, \"k/k_worst\": 4.891518178405167, \"top_n\": 12}, {\"Method\": \"Hillside(Colley Params)\", \"Year\": \"2009\", \"k\": 5.066536937732408, \"k/k_worst\": 5.0664259274826575, \"top_n\": 13}, {\"Method\": \"Hillside(Colley Params)\", \"Year\": \"2009\", \"k\": 5.251838445270097, \"k/k_worst\": 5.251727435020346, \"top_n\": 14}, {\"Method\": \"Hillside(Colley Params)\", \"Year\": \"2009\", \"k\": 5.380614279928285, \"k/k_worst\": 5.380503269678533, \"top_n\": 15}, {\"Method\": \"Hillside(Colley Params)\", \"Year\": \"2009\", \"k\": 5.52145935035082, \"k/k_worst\": 5.521348340101068, \"top_n\": 16}, {\"Method\": \"Hillside(Colley Params)\", \"Year\": \"2009\", \"k\": 5.6506774573467045, \"k/k_worst\": 5.650566447096953, \"top_n\": 17}, {\"Method\": \"Hillside(Colley Params)\", \"Year\": \"2009\", \"k\": 5.757091451515801, \"k/k_worst\": 5.756980441266049, \"top_n\": 18}, {\"Method\": \"Hillside(Colley Params)\", \"Year\": \"2009\", \"k\": 5.851294350066525, \"k/k_worst\": 5.851183339816774, \"top_n\": 19}, {\"Method\": \"Hillside(Colley Params)\", \"Year\": \"2009\", \"k\": 5.966586342841962, \"k/k_worst\": 5.96647533259221, \"top_n\": 20}, {\"Method\": \"Hillside(Colley Params)\", \"Year\": \"2009\", \"k\": 6.06564167347624, \"k/k_worst\": 6.065530663226488, \"top_n\": 21}, {\"Method\": \"Hillside(Colley Params)\", \"Year\": \"2009\", \"k\": 6.165346977994904, \"k/k_worst\": 6.165235967745152, \"top_n\": 22}, {\"Method\": \"Hillside(Colley Params)\", \"Year\": \"2009\", \"k\": 6.260702047222238, \"k/k_worst\": 6.260591036972485, \"top_n\": 23}, {\"Method\": \"Hillside(Colley Params)\", \"Year\": \"2009\", \"k\": 6.350610304102972, \"k/k_worst\": 6.350499293853219, \"top_n\": 24}, {\"Method\": \"Hillside(Colley Params)\", \"Year\": \"2009\", \"k\": 6.442267617982508, \"k/k_worst\": 6.4421566077327554, \"top_n\": 25}, {\"Method\": \"Hillside(Colley Params)\", \"Year\": \"2009\", \"k\": 6.533254595364276, \"k/k_worst\": 6.533143585114524, \"top_n\": 26}, {\"Method\": \"Hillside(Colley Params)\", \"Year\": \"2009\", \"k\": 6.609428617666774, \"k/k_worst\": 6.6093176074170215, \"top_n\": 27}, {\"Method\": \"Hillside(Colley Params)\", \"Year\": \"2009\", \"k\": 6.698599662617154, \"k/k_worst\": 6.698488652367401, \"top_n\": 28}, {\"Method\": \"Hillside(Colley Params)\", \"Year\": \"2009\", \"k\": 6.776718381630955, \"k/k_worst\": 6.7766073713812025, \"top_n\": 29}, {\"Method\": \"Hillside(Massey Params)\", \"Year\": \"2009\", \"k\": -0.9972657220979368, \"k/k_worst\": -0.9972657220979368, \"top_n\": 2}, {\"Method\": \"Hillside(Massey Params)\", \"Year\": \"2009\", \"k\": 1.3209160960838815, \"k/k_worst\": 1.3209160960838815, \"top_n\": 3}, {\"Method\": \"Hillside(Massey Params)\", \"Year\": \"2009\", \"k\": 2.129135274166073, \"k/k_worst\": 2.1291352741660736, \"top_n\": 4}, {\"Method\": \"Hillside(Massey Params)\", \"Year\": \"2009\", \"k\": 2.780650425681225, \"k/k_worst\": 2.780650425681225, \"top_n\": 5}, {\"Method\": \"Hillside(Massey Params)\", \"Year\": \"2009\", \"k\": 3.280650425681225, \"k/k_worst\": 3.280650425681225, \"top_n\": 6}, {\"Method\": \"Hillside(Massey Params)\", \"Year\": \"2009\", \"k\": 3.6384485908188395, \"k/k_worst\": 3.6384485908188395, \"top_n\": 7}, {\"Method\": \"Hillside(Massey Params)\", \"Year\": \"2009\", \"k\": 3.9222323746026233, \"k/k_worst\": 3.9222323746026233, \"top_n\": 8}, {\"Method\": \"Hillside(Massey Params)\", \"Year\": \"2009\", \"k\": 4.201179743023676, \"k/k_worst\": 4.201179743023676, \"top_n\": 9}, {\"Method\": \"Hillside(Massey Params)\", \"Year\": \"2009\", \"k\": 4.383621443983896, \"k/k_worst\": 4.383621443983896, \"top_n\": 10}, {\"Method\": \"Hillside(Massey Params)\", \"Year\": \"2009\", \"k\": 4.646962511269279, \"k/k_worst\": 4.646962511269279, \"top_n\": 11}, {\"Method\": \"Hillside(Massey Params)\", \"Year\": \"2009\", \"k\": 4.891223300984614, \"k/k_worst\": 4.891223300984614, \"top_n\": 12}, {\"Method\": \"Hillside(Massey Params)\", \"Year\": \"2009\", \"k\": 5.066131050062105, \"k/k_worst\": 5.066131050062105, \"top_n\": 13}, {\"Method\": \"Hillside(Massey Params)\", \"Year\": \"2009\", \"k\": 5.251432557599793, \"k/k_worst\": 5.251432557599793, \"top_n\": 14}, {\"Method\": \"Hillside(Massey Params)\", \"Year\": \"2009\", \"k\": 5.38020839225798, \"k/k_worst\": 5.38020839225798, \"top_n\": 15}, {\"Method\": \"Hillside(Massey Params)\", \"Year\": \"2009\", \"k\": 5.5210534626805154, \"k/k_worst\": 5.5210534626805154, \"top_n\": 16}, {\"Method\": \"Hillside(Massey Params)\", \"Year\": \"2009\", \"k\": 5.6502715696764, \"k/k_worst\": 5.6502715696764, \"top_n\": 17}, {\"Method\": \"Hillside(Massey Params)\", \"Year\": \"2009\", \"k\": 5.756685563845497, \"k/k_worst\": 5.756685563845497, \"top_n\": 18}, {\"Method\": \"Hillside(Massey Params)\", \"Year\": \"2009\", \"k\": 5.850888462396221, \"k/k_worst\": 5.850888462396221, \"top_n\": 19}, {\"Method\": \"Hillside(Massey Params)\", \"Year\": \"2009\", \"k\": 5.966180455171658, \"k/k_worst\": 5.966180455171657, \"top_n\": 20}, {\"Method\": \"Hillside(Massey Params)\", \"Year\": \"2009\", \"k\": 6.065235785805936, \"k/k_worst\": 6.065235785805935, \"top_n\": 21}, {\"Method\": \"Hillside(Massey Params)\", \"Year\": \"2009\", \"k\": 6.1649410903246, \"k/k_worst\": 6.164941090324599, \"top_n\": 22}, {\"Method\": \"Hillside(Massey Params)\", \"Year\": \"2009\", \"k\": 6.260296159551934, \"k/k_worst\": 6.260296159551933, \"top_n\": 23}, {\"Method\": \"Hillside(Massey Params)\", \"Year\": \"2009\", \"k\": 6.350204416432668, \"k/k_worst\": 6.350204416432667, \"top_n\": 24}, {\"Method\": \"Hillside(Massey Params)\", \"Year\": \"2009\", \"k\": 6.441861730312204, \"k/k_worst\": 6.441861730312203, \"top_n\": 25}, {\"Method\": \"Hillside(Massey Params)\", \"Year\": \"2009\", \"k\": 6.532848707693972, \"k/k_worst\": 6.532848707693971, \"top_n\": 26}, {\"Method\": \"Hillside(Massey Params)\", \"Year\": \"2009\", \"k\": 6.60902272999647, \"k/k_worst\": 6.609022729996469, \"top_n\": 27}, {\"Method\": \"Hillside(Massey Params)\", \"Year\": \"2009\", \"k\": 6.69819377494685, \"k/k_worst\": 6.698193774946849, \"top_n\": 28}, {\"Method\": \"Hillside(Massey Params)\", \"Year\": \"2009\", \"k\": 6.776312493960651, \"k/k_worst\": 6.77631249396065, \"top_n\": 29}, {\"Method\": \"Hillside(Colley Params)\", \"Year\": \"2010\", \"k\": -0.9970171513795675, \"k/k_worst\": -0.9970211398613679, \"top_n\": 2}, {\"Method\": \"Hillside(Colley Params)\", \"Year\": \"2010\", \"k\": 0.836316181953766, \"k/k_worst\": 0.8363121934719656, \"top_n\": 3}, {\"Method\": \"Hillside(Colley Params)\", \"Year\": \"2010\", \"k\": 1.8657279466596481, \"k/k_worst\": 1.8657239581778478, \"top_n\": 4}, {\"Method\": \"Hillside(Colley Params)\", \"Year\": \"2010\", \"k\": 2.5179018597031266, \"k/k_worst\": 2.517897871221326, \"top_n\": 5}, {\"Method\": \"Hillside(Colley Params)\", \"Year\": \"2010\", \"k\": 2.8249194035627756, \"k/k_worst\": 2.8249154150809748, \"top_n\": 6}, {\"Method\": \"Hillside(Colley Params)\", \"Year\": \"2010\", \"k\": 3.2510939002070707, \"k/k_worst\": 3.25108991172527, \"top_n\": 7}, {\"Method\": \"Hillside(Colley Params)\", \"Year\": \"2010\", \"k\": 3.575799782560012, \"k/k_worst\": 3.575795794078211, \"top_n\": 8}, {\"Method\": \"Hillside(Colley Params)\", \"Year\": \"2010\", \"k\": 3.732105288776708, \"k/k_worst\": 3.7321013002949073, \"top_n\": 9}, {\"Method\": \"Hillside(Colley Params)\", \"Year\": \"2010\", \"k\": 3.9963141981469077, \"k/k_worst\": 3.996310209665107, \"top_n\": 10}, {\"Method\": \"Hillside(Colley Params)\", \"Year\": \"2010\", \"k\": 4.240542630710698, \"k/k_worst\": 4.240538642228898, \"top_n\": 11}, {\"Method\": \"Hillside(Colley Params)\", \"Year\": \"2010\", \"k\": 4.460269193210698, \"k/k_worst\": 4.460265204728898, \"top_n\": 12}, {\"Method\": \"Hillside(Colley Params)\", \"Year\": \"2010\", \"k\": 4.706866471032956, \"k/k_worst\": 4.7068624825511565, \"top_n\": 13}, {\"Method\": \"Hillside(Colley Params)\", \"Year\": \"2010\", \"k\": 4.8584400098897325, \"k/k_worst\": 4.8584360214079325, \"top_n\": 14}, {\"Method\": \"Hillside(Colley Params)\", \"Year\": \"2010\", \"k\": 5.006236998177519, \"k/k_worst\": 5.006233009695718, \"top_n\": 15}, {\"Method\": \"Hillside(Colley Params)\", \"Year\": \"2010\", \"k\": 5.14520687184127, \"k/k_worst\": 5.145202883359469, \"top_n\": 16}, {\"Method\": \"Hillside(Colley Params)\", \"Year\": \"2010\", \"k\": 5.288124960578472, \"k/k_worst\": 5.288120972096671, \"top_n\": 17}, {\"Method\": \"Hillside(Colley Params)\", \"Year\": \"2010\", \"k\": 5.403466505931215, \"k/k_worst\": 5.403462517449414, \"top_n\": 18}, {\"Method\": \"Hillside(Colley Params)\", \"Year\": \"2010\", \"k\": 5.5299725300276, \"k/k_worst\": 5.5299685415457995, \"top_n\": 19}, {\"Method\": \"Hillside(Colley Params)\", \"Year\": \"2010\", \"k\": 5.6541555365635485, \"k/k_worst\": 5.654151548081748, \"top_n\": 20}, {\"Method\": \"Hillside(Colley Params)\", \"Year\": \"2010\", \"k\": 5.770170335717882, \"k/k_worst\": 5.770166347236081, \"top_n\": 21}, {\"Method\": \"Hillside(Colley Params)\", \"Year\": \"2010\", \"k\": 5.855891387103153, \"k/k_worst\": 5.855887398621352, \"top_n\": 22}, {\"Method\": \"Hillside(Colley Params)\", \"Year\": \"2010\", \"k\": 5.953819413275454, \"k/k_worst\": 5.953815424793653, \"top_n\": 23}, {\"Method\": \"Hillside(Colley Params)\", \"Year\": \"2010\", \"k\": 6.047780478035088, \"k/k_worst\": 6.0477764895532875, \"top_n\": 24}, {\"Method\": \"Hillside(Colley Params)\", \"Year\": \"2010\", \"k\": 6.126044505636323, \"k/k_worst\": 6.1260405171545225, \"top_n\": 25}, {\"Method\": \"Hillside(Colley Params)\", \"Year\": \"2010\", \"k\": 6.211426789233494, \"k/k_worst\": 6.211422800751693, \"top_n\": 26}, {\"Method\": \"Hillside(Colley Params)\", \"Year\": \"2010\", \"k\": 6.262318953702074, \"k/k_worst\": 6.262314965220273, \"top_n\": 27}, {\"Method\": \"Hillside(Colley Params)\", \"Year\": \"2010\", \"k\": 6.3234440090689725, \"k/k_worst\": 6.323440020587172, \"top_n\": 28}, {\"Method\": \"Hillside(Colley Params)\", \"Year\": \"2010\", \"k\": 6.402753874103062, \"k/k_worst\": 6.402749885621261, \"top_n\": 29}, {\"Method\": \"Hillside(Massey Params)\", \"Year\": \"2010\", \"k\": -0.9969060203686992, \"k/k_worst\": -0.9969060203686992, \"top_n\": 2}, {\"Method\": \"Hillside(Massey Params)\", \"Year\": \"2010\", \"k\": 0.8364273129646342, \"k/k_worst\": 0.8364273129646342, \"top_n\": 3}, {\"Method\": \"Hillside(Massey Params)\", \"Year\": \"2010\", \"k\": 1.8658390776705165, \"k/k_worst\": 1.8658390776705165, \"top_n\": 4}, {\"Method\": \"Hillside(Massey Params)\", \"Year\": \"2010\", \"k\": 2.518012990713995, \"k/k_worst\": 2.518012990713995, \"top_n\": 5}, {\"Method\": \"Hillside(Massey Params)\", \"Year\": \"2010\", \"k\": 2.825030534573644, \"k/k_worst\": 2.825030534573644, \"top_n\": 6}, {\"Method\": \"Hillside(Massey Params)\", \"Year\": \"2010\", \"k\": 3.251205031217939, \"k/k_worst\": 3.251205031217939, \"top_n\": 7}, {\"Method\": \"Hillside(Massey Params)\", \"Year\": \"2010\", \"k\": 3.57591091357088, \"k/k_worst\": 3.57591091357088, \"top_n\": 8}, {\"Method\": \"Hillside(Massey Params)\", \"Year\": \"2010\", \"k\": 3.7322164197875765, \"k/k_worst\": 3.7322164197875765, \"top_n\": 9}, {\"Method\": \"Hillside(Massey Params)\", \"Year\": \"2010\", \"k\": 3.996425329157776, \"k/k_worst\": 3.996425329157776, \"top_n\": 10}, {\"Method\": \"Hillside(Massey Params)\", \"Year\": \"2010\", \"k\": 4.240653761721567, \"k/k_worst\": 4.240653761721568, \"top_n\": 11}, {\"Method\": \"Hillside(Massey Params)\", \"Year\": \"2010\", \"k\": 4.460380324221567, \"k/k_worst\": 4.460380324221568, \"top_n\": 12}, {\"Method\": \"Hillside(Massey Params)\", \"Year\": \"2010\", \"k\": 4.706977602043825, \"k/k_worst\": 4.706977602043826, \"top_n\": 13}, {\"Method\": \"Hillside(Massey Params)\", \"Year\": \"2010\", \"k\": 4.858551140900601, \"k/k_worst\": 4.858551140900602, \"top_n\": 14}, {\"Method\": \"Hillside(Massey Params)\", \"Year\": \"2010\", \"k\": 5.006348129188387, \"k/k_worst\": 5.006348129188387, \"top_n\": 15}, {\"Method\": \"Hillside(Massey Params)\", \"Year\": \"2010\", \"k\": 5.145318002852139, \"k/k_worst\": 5.145318002852139, \"top_n\": 16}, {\"Method\": \"Hillside(Massey Params)\", \"Year\": \"2010\", \"k\": 5.28823609158934, \"k/k_worst\": 5.28823609158934, \"top_n\": 17}, {\"Method\": \"Hillside(Massey Params)\", \"Year\": \"2010\", \"k\": 5.403577636942083, \"k/k_worst\": 5.403577636942083, \"top_n\": 18}, {\"Method\": \"Hillside(Massey Params)\", \"Year\": \"2010\", \"k\": 5.530083661038469, \"k/k_worst\": 5.530083661038469, \"top_n\": 19}, {\"Method\": \"Hillside(Massey Params)\", \"Year\": \"2010\", \"k\": 5.654266667574417, \"k/k_worst\": 5.654266667574417, \"top_n\": 20}, {\"Method\": \"Hillside(Massey Params)\", \"Year\": \"2010\", \"k\": 5.7702814667287505, \"k/k_worst\": 5.7702814667287505, \"top_n\": 21}, {\"Method\": \"Hillside(Massey Params)\", \"Year\": \"2010\", \"k\": 5.856002518114021, \"k/k_worst\": 5.856002518114021, \"top_n\": 22}, {\"Method\": \"Hillside(Massey Params)\", \"Year\": \"2010\", \"k\": 5.953930544286322, \"k/k_worst\": 5.953930544286322, \"top_n\": 23}, {\"Method\": \"Hillside(Massey Params)\", \"Year\": \"2010\", \"k\": 6.047891609045957, \"k/k_worst\": 6.047891609045957, \"top_n\": 24}, {\"Method\": \"Hillside(Massey Params)\", \"Year\": \"2010\", \"k\": 6.126155636647192, \"k/k_worst\": 6.126155636647192, \"top_n\": 25}, {\"Method\": \"Hillside(Massey Params)\", \"Year\": \"2010\", \"k\": 6.211537920244362, \"k/k_worst\": 6.211537920244362, \"top_n\": 26}, {\"Method\": \"Hillside(Massey Params)\", \"Year\": \"2010\", \"k\": 6.262430084712943, \"k/k_worst\": 6.262430084712943, \"top_n\": 27}, {\"Method\": \"Hillside(Massey Params)\", \"Year\": \"2010\", \"k\": 6.323555140079841, \"k/k_worst\": 6.323555140079841, \"top_n\": 28}, {\"Method\": \"Hillside(Massey Params)\", \"Year\": \"2010\", \"k\": 6.40286500511393, \"k/k_worst\": 6.40286500511393, \"top_n\": 29}, {\"Method\": \"Hillside(Colley Params)\", \"Year\": \"2011\", \"k\": -0.9979373469124662, \"k/k_worst\": -0.9984570901642573, \"top_n\": 2}, {\"Method\": \"Hillside(Colley Params)\", \"Year\": \"2011\", \"k\": 1.8145626530875338, \"k/k_worst\": 1.8140429098357427, \"top_n\": 3}, {\"Method\": \"Hillside(Colley Params)\", \"Year\": \"2011\", \"k\": 3.060464292431796, \"k/k_worst\": 3.0599445491800052, \"top_n\": 4}, {\"Method\": \"Hillside(Colley Params)\", \"Year\": \"2011\", \"k\": 3.753894949366103, \"k/k_worst\": 3.7533752061143115, \"top_n\": 5}, {\"Method\": \"Hillside(Colley Params)\", \"Year\": \"2011\", \"k\": 4.1935501217798965, \"k/k_worst\": 4.193030378528105, \"top_n\": 6}, {\"Method\": \"Hillside(Colley Params)\", \"Year\": \"2011\", \"k\": 4.58875970261822, \"k/k_worst\": 4.588239959366428, \"top_n\": 7}, {\"Method\": \"Hillside(Colley Params)\", \"Year\": \"2011\", \"k\": 4.822665282017361, \"k/k_worst\": 4.82214553876557, \"top_n\": 8}, {\"Method\": \"Hillside(Colley Params)\", \"Year\": \"2011\", \"k\": 5.133969629843448, \"k/k_worst\": 5.133449886591657, \"top_n\": 9}, {\"Method\": \"Hillside(Colley Params)\", \"Year\": \"2011\", \"k\": 5.470839656368647, \"k/k_worst\": 5.470319913116856, \"top_n\": 10}, {\"Method\": \"Hillside(Colley Params)\", \"Year\": \"2011\", \"k\": 5.716871402400393, \"k/k_worst\": 5.716351659148602, \"top_n\": 11}, {\"Method\": \"Hillside(Colley Params)\", \"Year\": \"2011\", \"k\": 5.950947835521412, \"k/k_worst\": 5.950428092269621, \"top_n\": 12}, {\"Method\": \"Hillside(Colley Params)\", \"Year\": \"2011\", \"k\": 6.09030267423109, \"k/k_worst\": 6.089782930979299, \"top_n\": 13}, {\"Method\": \"Hillside(Colley Params)\", \"Year\": \"2011\", \"k\": 6.261876853166537, \"k/k_worst\": 6.261357109914746, \"top_n\": 14}, {\"Method\": \"Hillside(Colley Params)\", \"Year\": \"2011\", \"k\": 6.4025245090389395, \"k/k_worst\": 6.402004765787148, \"top_n\": 15}, {\"Method\": \"Hillside(Colley Params)\", \"Year\": \"2011\", \"k\": 6.547439763276228, \"k/k_worst\": 6.546920020024436, \"top_n\": 16}, {\"Method\": \"Hillside(Colley Params)\", \"Year\": \"2011\", \"k\": 6.705840947584148, \"k/k_worst\": 6.705321204332357, \"top_n\": 17}, {\"Method\": \"Hillside(Colley Params)\", \"Year\": \"2011\", \"k\": 6.837470340555394, \"k/k_worst\": 6.836950597303603, \"top_n\": 18}, {\"Method\": \"Hillside(Colley Params)\", \"Year\": \"2011\", \"k\": 6.970728386856919, \"k/k_worst\": 6.970208643605128, \"top_n\": 19}, {\"Method\": \"Hillside(Colley Params)\", \"Year\": \"2011\", \"k\": 7.082337754071668, \"k/k_worst\": 7.081818010819877, \"top_n\": 20}, {\"Method\": \"Hillside(Colley Params)\", \"Year\": \"2011\", \"k\": 7.165260210369293, \"k/k_worst\": 7.164740467117501, \"top_n\": 21}, {\"Method\": \"Hillside(Colley Params)\", \"Year\": \"2011\", \"k\": 7.247213852753399, \"k/k_worst\": 7.2466941095016075, \"top_n\": 22}, {\"Method\": \"Hillside(Colley Params)\", \"Year\": \"2011\", \"k\": 7.357007272799306, \"k/k_worst\": 7.356487529547515, \"top_n\": 23}, {\"Method\": \"Hillside(Colley Params)\", \"Year\": \"2011\", \"k\": 7.450940399307407, \"k/k_worst\": 7.450420656055615, \"top_n\": 24}, {\"Method\": \"Hillside(Colley Params)\", \"Year\": \"2011\", \"k\": 7.547836570726975, \"k/k_worst\": 7.547316827475184, \"top_n\": 25}, {\"Method\": \"Hillside(Colley Params)\", \"Year\": \"2011\", \"k\": 7.636747803131456, \"k/k_worst\": 7.636228059879665, \"top_n\": 26}, {\"Method\": \"Hillside(Colley Params)\", \"Year\": \"2011\", \"k\": 7.716420669507924, \"k/k_worst\": 7.715900926256133, \"top_n\": 27}, {\"Method\": \"Hillside(Colley Params)\", \"Year\": \"2011\", \"k\": 7.7831280610778695, \"k/k_worst\": 7.782608317826078, \"top_n\": 28}, {\"Method\": \"Hillside(Colley Params)\", \"Year\": \"2011\", \"k\": 7.851963246050953, \"k/k_worst\": 7.851443502799162, \"top_n\": 29}, {\"Method\": \"Hillside(Massey Params)\", \"Year\": \"2011\", \"k\": -0.9982854693527646, \"k/k_worst\": -0.9982854693527646, \"top_n\": 2}, {\"Method\": \"Hillside(Massey Params)\", \"Year\": \"2011\", \"k\": 1.8142145306472353, \"k/k_worst\": 1.8142145306472353, \"top_n\": 3}, {\"Method\": \"Hillside(Massey Params)\", \"Year\": \"2011\", \"k\": 3.0601161699914976, \"k/k_worst\": 3.0601161699914976, \"top_n\": 4}, {\"Method\": \"Hillside(Massey Params)\", \"Year\": \"2011\", \"k\": 3.7535468269258043, \"k/k_worst\": 3.7535468269258043, \"top_n\": 5}, {\"Method\": \"Hillside(Massey Params)\", \"Year\": \"2011\", \"k\": 4.193201999339598, \"k/k_worst\": 4.193201999339598, \"top_n\": 6}, {\"Method\": \"Hillside(Massey Params)\", \"Year\": \"2011\", \"k\": 4.5884115801779215, \"k/k_worst\": 4.588411580177921, \"top_n\": 7}, {\"Method\": \"Hillside(Massey Params)\", \"Year\": \"2011\", \"k\": 4.822317159577063, \"k/k_worst\": 4.822317159577063, \"top_n\": 8}, {\"Method\": \"Hillside(Massey Params)\", \"Year\": \"2011\", \"k\": 5.1336215074031495, \"k/k_worst\": 5.1336215074031495, \"top_n\": 9}, {\"Method\": \"Hillside(Massey Params)\", \"Year\": \"2011\", \"k\": 5.470491533928349, \"k/k_worst\": 5.470491533928349, \"top_n\": 10}, {\"Method\": \"Hillside(Massey Params)\", \"Year\": \"2011\", \"k\": 5.716523279960095, \"k/k_worst\": 5.716523279960095, \"top_n\": 11}, {\"Method\": \"Hillside(Massey Params)\", \"Year\": \"2011\", \"k\": 5.950599713081114, \"k/k_worst\": 5.950599713081114, \"top_n\": 12}, {\"Method\": \"Hillside(Massey Params)\", \"Year\": \"2011\", \"k\": 6.089954551790791, \"k/k_worst\": 6.089954551790791, \"top_n\": 13}, {\"Method\": \"Hillside(Massey Params)\", \"Year\": \"2011\", \"k\": 6.261528730726239, \"k/k_worst\": 6.261528730726239, \"top_n\": 14}, {\"Method\": \"Hillside(Massey Params)\", \"Year\": \"2011\", \"k\": 6.402176386598641, \"k/k_worst\": 6.402176386598641, \"top_n\": 15}, {\"Method\": \"Hillside(Massey Params)\", \"Year\": \"2011\", \"k\": 6.547091640835929, \"k/k_worst\": 6.547091640835929, \"top_n\": 16}, {\"Method\": \"Hillside(Massey Params)\", \"Year\": \"2011\", \"k\": 6.70549282514385, \"k/k_worst\": 6.70549282514385, \"top_n\": 17}, {\"Method\": \"Hillside(Massey Params)\", \"Year\": \"2011\", \"k\": 6.837122218115096, \"k/k_worst\": 6.837122218115096, \"top_n\": 18}, {\"Method\": \"Hillside(Massey Params)\", \"Year\": \"2011\", \"k\": 6.970380264416621, \"k/k_worst\": 6.970380264416621, \"top_n\": 19}, {\"Method\": \"Hillside(Massey Params)\", \"Year\": \"2011\", \"k\": 7.0819896316313695, \"k/k_worst\": 7.0819896316313695, \"top_n\": 20}, {\"Method\": \"Hillside(Massey Params)\", \"Year\": \"2011\", \"k\": 7.164912087928994, \"k/k_worst\": 7.164912087928994, \"top_n\": 21}, {\"Method\": \"Hillside(Massey Params)\", \"Year\": \"2011\", \"k\": 7.2468657303131, \"k/k_worst\": 7.2468657303131, \"top_n\": 22}, {\"Method\": \"Hillside(Massey Params)\", \"Year\": \"2011\", \"k\": 7.3566591503590075, \"k/k_worst\": 7.3566591503590075, \"top_n\": 23}, {\"Method\": \"Hillside(Massey Params)\", \"Year\": \"2011\", \"k\": 7.450592276867108, \"k/k_worst\": 7.450592276867108, \"top_n\": 24}, {\"Method\": \"Hillside(Massey Params)\", \"Year\": \"2011\", \"k\": 7.547488448286677, \"k/k_worst\": 7.547488448286677, \"top_n\": 25}, {\"Method\": \"Hillside(Massey Params)\", \"Year\": \"2011\", \"k\": 7.636399680691158, \"k/k_worst\": 7.636399680691158, \"top_n\": 26}, {\"Method\": \"Hillside(Massey Params)\", \"Year\": \"2011\", \"k\": 7.7160725470676255, \"k/k_worst\": 7.7160725470676255, \"top_n\": 27}, {\"Method\": \"Hillside(Massey Params)\", \"Year\": \"2011\", \"k\": 7.782779938637571, \"k/k_worst\": 7.782779938637571, \"top_n\": 28}, {\"Method\": \"Hillside(Massey Params)\", \"Year\": \"2011\", \"k\": 7.851615123610655, \"k/k_worst\": 7.851615123610655, \"top_n\": 29}, {\"Method\": \"Hillside(Colley Params)\", \"Year\": \"2012\", \"k\": -0.9975353621945993, \"k/k_worst\": -0.997240670075669, \"top_n\": 2}, {\"Method\": \"Hillside(Colley Params)\", \"Year\": \"2012\", \"k\": 0.43724724650105307, \"k/k_worst\": 0.43754193861998336, \"top_n\": 3}, {\"Method\": \"Hillside(Colley Params)\", \"Year\": \"2012\", \"k\": 1.812247246501053, \"k/k_worst\": 1.8125419386199835, \"top_n\": 4}, {\"Method\": \"Hillside(Colley Params)\", \"Year\": \"2012\", \"k\": 2.54157055477173, \"k/k_worst\": 2.5418652468906604, \"top_n\": 5}, {\"Method\": \"Hillside(Colley Params)\", \"Year\": \"2012\", \"k\": 3.024179250423904, \"k/k_worst\": 3.0244739425428344, \"top_n\": 6}, {\"Method\": \"Hillside(Colley Params)\", \"Year\": \"2012\", \"k\": 3.3907481653799154, \"k/k_worst\": 3.391042857498846, \"top_n\": 7}, {\"Method\": \"Hillside(Colley Params)\", \"Year\": \"2012\", \"k\": 3.7040528864099582, \"k/k_worst\": 3.704347578528889, \"top_n\": 8}, {\"Method\": \"Hillside(Colley Params)\", \"Year\": \"2012\", \"k\": 4.0455561543838146, \"k/k_worst\": 4.045850846502745, \"top_n\": 9}, {\"Method\": \"Hillside(Colley Params)\", \"Year\": \"2012\", \"k\": 4.301341781667615, \"k/k_worst\": 4.301636473786545, \"top_n\": 10}, {\"Method\": \"Hillside(Colley Params)\", \"Year\": \"2012\", \"k\": 4.496298134722901, \"k/k_worst\": 4.496592826841831, \"top_n\": 11}, {\"Method\": \"Hillside(Colley Params)\", \"Year\": \"2012\", \"k\": 4.598570861995628, \"k/k_worst\": 4.598865554114559, \"top_n\": 12}, {\"Method\": \"Hillside(Colley Params)\", \"Year\": \"2012\", \"k\": 4.792238019580312, \"k/k_worst\": 4.792532711699242, \"top_n\": 13}, {\"Method\": \"Hillside(Colley Params)\", \"Year\": \"2012\", \"k\": 4.9668216099566225, \"k/k_worst\": 4.967116302075553, \"top_n\": 14}, {\"Method\": \"Hillside(Colley Params)\", \"Year\": \"2012\", \"k\": 5.114930853654101, \"k/k_worst\": 5.115225545773032, \"top_n\": 15}, {\"Method\": \"Hillside(Colley Params)\", \"Year\": \"2012\", \"k\": 5.234327011019152, \"k/k_worst\": 5.234621703138082, \"top_n\": 16}, {\"Method\": \"Hillside(Colley Params)\", \"Year\": \"2012\", \"k\": 5.357334775628878, \"k/k_worst\": 5.357629467747808, \"top_n\": 17}, {\"Method\": \"Hillside(Colley Params)\", \"Year\": \"2012\", \"k\": 5.45194904054882, \"k/k_worst\": 5.45224373266775, \"top_n\": 18}, {\"Method\": \"Hillside(Colley Params)\", \"Year\": \"2012\", \"k\": 5.554342657570097, \"k/k_worst\": 5.554637349689026, \"top_n\": 19}, {\"Method\": \"Hillside(Colley Params)\", \"Year\": \"2012\", \"k\": 5.667430715471182, \"k/k_worst\": 5.667725407590112, \"top_n\": 20}, {\"Method\": \"Hillside(Colley Params)\", \"Year\": \"2012\", \"k\": 5.774718713303748, \"k/k_worst\": 5.775013405422677, \"top_n\": 21}, {\"Method\": \"Hillside(Colley Params)\", \"Year\": \"2012\", \"k\": 5.86182416962868, \"k/k_worst\": 5.86211886174761, \"top_n\": 22}, {\"Method\": \"Hillside(Colley Params)\", \"Year\": \"2012\", \"k\": 5.969184061593569, \"k/k_worst\": 5.969478753712498, \"top_n\": 23}, {\"Method\": \"Hillside(Colley Params)\", \"Year\": \"2012\", \"k\": 6.052314142894382, \"k/k_worst\": 6.052608835013311, \"top_n\": 24}, {\"Method\": \"Hillside(Colley Params)\", \"Year\": \"2012\", \"k\": 6.136570100860229, \"k/k_worst\": 6.136864792979159, \"top_n\": 25}, {\"Method\": \"Hillside(Colley Params)\", \"Year\": \"2012\", \"k\": 6.226393569188371, \"k/k_worst\": 6.2266882613073005, \"top_n\": 26}, {\"Method\": \"Hillside(Colley Params)\", \"Year\": \"2012\", \"k\": 6.3173892814322965, \"k/k_worst\": 6.317683973551226, \"top_n\": 27}, {\"Method\": \"Hillside(Colley Params)\", \"Year\": \"2012\", \"k\": 6.3977386264104625, \"k/k_worst\": 6.398033318529392, \"top_n\": 28}, {\"Method\": \"Hillside(Colley Params)\", \"Year\": \"2012\", \"k\": 6.476423616979043, \"k/k_worst\": 6.476718309097972, \"top_n\": 29}, {\"Method\": \"Hillside(Massey Params)\", \"Year\": \"2012\", \"k\": -0.9971271546340245, \"k/k_worst\": -0.9971271546340245, \"top_n\": 2}, {\"Method\": \"Hillside(Massey Params)\", \"Year\": \"2012\", \"k\": 0.43765545406162787, \"k/k_worst\": 0.43765545406162787, \"top_n\": 3}, {\"Method\": \"Hillside(Massey Params)\", \"Year\": \"2012\", \"k\": 1.8126554540616278, \"k/k_worst\": 1.8126554540616278, \"top_n\": 4}, {\"Method\": \"Hillside(Massey Params)\", \"Year\": \"2012\", \"k\": 2.5419787623323042, \"k/k_worst\": 2.5419787623323042, \"top_n\": 5}, {\"Method\": \"Hillside(Massey Params)\", \"Year\": \"2012\", \"k\": 3.0245874579844783, \"k/k_worst\": 3.0245874579844783, \"top_n\": 6}, {\"Method\": \"Hillside(Massey Params)\", \"Year\": \"2012\", \"k\": 3.3911563729404897, \"k/k_worst\": 3.3911563729404897, \"top_n\": 7}, {\"Method\": \"Hillside(Massey Params)\", \"Year\": \"2012\", \"k\": 3.7044610939705325, \"k/k_worst\": 3.704461093970533, \"top_n\": 8}, {\"Method\": \"Hillside(Massey Params)\", \"Year\": \"2012\", \"k\": 4.045964361944389, \"k/k_worst\": 4.045964361944389, \"top_n\": 9}, {\"Method\": \"Hillside(Massey Params)\", \"Year\": \"2012\", \"k\": 4.301749989228189, \"k/k_worst\": 4.301749989228189, \"top_n\": 10}, {\"Method\": \"Hillside(Massey Params)\", \"Year\": \"2012\", \"k\": 4.496706342283475, \"k/k_worst\": 4.496706342283475, \"top_n\": 11}, {\"Method\": \"Hillside(Massey Params)\", \"Year\": \"2012\", \"k\": 4.5989790695562025, \"k/k_worst\": 4.5989790695562025, \"top_n\": 12}, {\"Method\": \"Hillside(Massey Params)\", \"Year\": \"2012\", \"k\": 4.792646227140886, \"k/k_worst\": 4.792646227140886, \"top_n\": 13}, {\"Method\": \"Hillside(Massey Params)\", \"Year\": \"2012\", \"k\": 4.967229817517197, \"k/k_worst\": 4.967229817517197, \"top_n\": 14}, {\"Method\": \"Hillside(Massey Params)\", \"Year\": \"2012\", \"k\": 5.115339061214676, \"k/k_worst\": 5.115339061214676, \"top_n\": 15}, {\"Method\": \"Hillside(Massey Params)\", \"Year\": \"2012\", \"k\": 5.234735218579726, \"k/k_worst\": 5.234735218579726, \"top_n\": 16}, {\"Method\": \"Hillside(Massey Params)\", \"Year\": \"2012\", \"k\": 5.357742983189452, \"k/k_worst\": 5.357742983189452, \"top_n\": 17}, {\"Method\": \"Hillside(Massey Params)\", \"Year\": \"2012\", \"k\": 5.452357248109394, \"k/k_worst\": 5.452357248109394, \"top_n\": 18}, {\"Method\": \"Hillside(Massey Params)\", \"Year\": \"2012\", \"k\": 5.5547508651306705, \"k/k_worst\": 5.55475086513067, \"top_n\": 19}, {\"Method\": \"Hillside(Massey Params)\", \"Year\": \"2012\", \"k\": 5.667838923031756, \"k/k_worst\": 5.667838923031756, \"top_n\": 20}, {\"Method\": \"Hillside(Massey Params)\", \"Year\": \"2012\", \"k\": 5.775126920864321, \"k/k_worst\": 5.775126920864321, \"top_n\": 21}, {\"Method\": \"Hillside(Massey Params)\", \"Year\": \"2012\", \"k\": 5.862232377189254, \"k/k_worst\": 5.862232377189254, \"top_n\": 22}, {\"Method\": \"Hillside(Massey Params)\", \"Year\": \"2012\", \"k\": 5.969592269154142, \"k/k_worst\": 5.969592269154142, \"top_n\": 23}, {\"Method\": \"Hillside(Massey Params)\", \"Year\": \"2012\", \"k\": 6.052722350454955, \"k/k_worst\": 6.052722350454955, \"top_n\": 24}, {\"Method\": \"Hillside(Massey Params)\", \"Year\": \"2012\", \"k\": 6.136978308420803, \"k/k_worst\": 6.136978308420803, \"top_n\": 25}, {\"Method\": \"Hillside(Massey Params)\", \"Year\": \"2012\", \"k\": 6.226801776748944, \"k/k_worst\": 6.226801776748944, \"top_n\": 26}, {\"Method\": \"Hillside(Massey Params)\", \"Year\": \"2012\", \"k\": 6.31779748899287, \"k/k_worst\": 6.31779748899287, \"top_n\": 27}, {\"Method\": \"Hillside(Massey Params)\", \"Year\": \"2012\", \"k\": 6.398146833971036, \"k/k_worst\": 6.398146833971036, \"top_n\": 28}, {\"Method\": \"Hillside(Massey Params)\", \"Year\": \"2012\", \"k\": 6.476831824539616, \"k/k_worst\": 6.476831824539616, \"top_n\": 29}, {\"Method\": \"Hillside(Colley Params)\", \"Year\": \"2013\", \"k\": -0.9980014988758431, \"k/k_worst\": -0.9979256775217182, \"top_n\": 2}, {\"Method\": \"Hillside(Colley Params)\", \"Year\": \"2013\", \"k\": 1.3144985011241568, \"k/k_worst\": 1.3145743224782818, \"top_n\": 3}, {\"Method\": \"Hillside(Colley Params)\", \"Year\": \"2013\", \"k\": 2.314498501124157, \"k/k_worst\": 2.3145743224782818, \"top_n\": 4}, {\"Method\": \"Hillside(Colley Params)\", \"Year\": \"2013\", \"k\": 2.918272086029817, \"k/k_worst\": 2.918347907383942, \"top_n\": 5}, {\"Method\": \"Hillside(Colley Params)\", \"Year\": \"2013\", \"k\": 3.4770956154415815, \"k/k_worst\": 3.4771714367957065, \"top_n\": 6}, {\"Method\": \"Hillside(Colley Params)\", \"Year\": \"2013\", \"k\": 3.997850332422714, \"k/k_worst\": 3.9979261537768385, \"top_n\": 7}, {\"Method\": \"Hillside(Colley Params)\", \"Year\": \"2013\", \"k\": 4.377502937881771, \"k/k_worst\": 4.377578759235895, \"top_n\": 8}, {\"Method\": \"Hillside(Colley Params)\", \"Year\": \"2013\", \"k\": 4.728222362342203, \"k/k_worst\": 4.728298183696327, \"top_n\": 9}, {\"Method\": \"Hillside(Colley Params)\", \"Year\": \"2013\", \"k\": 5.005186410278288, \"k/k_worst\": 5.005262231632413, \"top_n\": 10}, {\"Method\": \"Hillside(Colley Params)\", \"Year\": \"2013\", \"k\": 5.261703615700602, \"k/k_worst\": 5.261779437054727, \"top_n\": 11}, {\"Method\": \"Hillside(Colley Params)\", \"Year\": \"2013\", \"k\": 5.445935980845831, \"k/k_worst\": 5.446011802199956, \"top_n\": 12}, {\"Method\": \"Hillside(Colley Params)\", \"Year\": \"2013\", \"k\": 5.631640255548003, \"k/k_worst\": 5.631716076902128, \"top_n\": 13}, {\"Method\": \"Hillside(Colley Params)\", \"Year\": \"2013\", \"k\": 5.777621343018453, \"k/k_worst\": 5.777697164372578, \"top_n\": 14}, {\"Method\": \"Hillside(Colley Params)\", \"Year\": \"2013\", \"k\": 5.926151513209272, \"k/k_worst\": 5.926227334563397, \"top_n\": 15}, {\"Method\": \"Hillside(Colley Params)\", \"Year\": \"2013\", \"k\": 6.059514782180983, \"k/k_worst\": 6.059590603535108, \"top_n\": 16}, {\"Method\": \"Hillside(Colley Params)\", \"Year\": \"2013\", \"k\": 6.1859014699781305, \"k/k_worst\": 6.1859772913322555, \"top_n\": 17}, {\"Method\": \"Hillside(Colley Params)\", \"Year\": \"2013\", \"k\": 6.336798409830399, \"k/k_worst\": 6.336874231184524, \"top_n\": 18}, {\"Method\": \"Hillside(Colley Params)\", \"Year\": \"2013\", \"k\": 6.459964668999103, \"k/k_worst\": 6.460040490353228, \"top_n\": 19}, {\"Method\": \"Hillside(Colley Params)\", \"Year\": \"2013\", \"k\": 6.574522492128354, \"k/k_worst\": 6.574598313482479, \"top_n\": 20}, {\"Method\": \"Hillside(Colley Params)\", \"Year\": \"2013\", \"k\": 6.679258820253354, \"k/k_worst\": 6.679334641607479, \"top_n\": 21}, {\"Method\": \"Hillside(Colley Params)\", \"Year\": \"2013\", \"k\": 6.7844521904191, \"k/k_worst\": 6.784528011773225, \"top_n\": 22}, {\"Method\": \"Hillside(Colley Params)\", \"Year\": \"2013\", \"k\": 6.867035673722439, \"k/k_worst\": 6.867111495076564, \"top_n\": 23}, {\"Method\": \"Hillside(Colley Params)\", \"Year\": \"2013\", \"k\": 6.970840623851734, \"k/k_worst\": 6.970916445205859, \"top_n\": 24}, {\"Method\": \"Hillside(Colley Params)\", \"Year\": \"2013\", \"k\": 7.056516661335, \"k/k_worst\": 7.056592482689125, \"top_n\": 25}, {\"Method\": \"Hillside(Colley Params)\", \"Year\": \"2013\", \"k\": 7.134969189078527, \"k/k_worst\": 7.135045010432652, \"top_n\": 26}, {\"Method\": \"Hillside(Colley Params)\", \"Year\": \"2013\", \"k\": 7.21500348949299, \"k/k_worst\": 7.215079310847115, \"top_n\": 27}, {\"Method\": \"Hillside(Colley Params)\", \"Year\": \"2013\", \"k\": 7.288974642066763, \"k/k_worst\": 7.289050463420888, \"top_n\": 28}, {\"Method\": \"Hillside(Colley Params)\", \"Year\": \"2013\", \"k\": 7.367461581445768, \"k/k_worst\": 7.3675374027998926, \"top_n\": 29}, {\"Method\": \"Hillside(Massey Params)\", \"Year\": \"2013\", \"k\": -0.9981720552953273, \"k/k_worst\": -0.9981720552953273, \"top_n\": 2}, {\"Method\": \"Hillside(Massey Params)\", \"Year\": \"2013\", \"k\": 1.3143279447046727, \"k/k_worst\": 1.3143279447046727, \"top_n\": 3}, {\"Method\": \"Hillside(Massey Params)\", \"Year\": \"2013\", \"k\": 2.3143279447046727, \"k/k_worst\": 2.3143279447046727, \"top_n\": 4}, {\"Method\": \"Hillside(Massey Params)\", \"Year\": \"2013\", \"k\": 2.9181015296103334, \"k/k_worst\": 2.9181015296103334, \"top_n\": 5}, {\"Method\": \"Hillside(Massey Params)\", \"Year\": \"2013\", \"k\": 3.476925059022098, \"k/k_worst\": 3.476925059022098, \"top_n\": 6}, {\"Method\": \"Hillside(Massey Params)\", \"Year\": \"2013\", \"k\": 3.9976797760032303, \"k/k_worst\": 3.99767977600323, \"top_n\": 7}, {\"Method\": \"Hillside(Massey Params)\", \"Year\": \"2013\", \"k\": 4.3773323814622875, \"k/k_worst\": 4.377332381462287, \"top_n\": 8}, {\"Method\": \"Hillside(Massey Params)\", \"Year\": \"2013\", \"k\": 4.7280518059227195, \"k/k_worst\": 4.728051805922719, \"top_n\": 9}, {\"Method\": \"Hillside(Massey Params)\", \"Year\": \"2013\", \"k\": 5.005015853858804, \"k/k_worst\": 5.005015853858804, \"top_n\": 10}, {\"Method\": \"Hillside(Massey Params)\", \"Year\": \"2013\", \"k\": 5.261533059281119, \"k/k_worst\": 5.261533059281119, \"top_n\": 11}, {\"Method\": \"Hillside(Massey Params)\", \"Year\": \"2013\", \"k\": 5.445765424426347, \"k/k_worst\": 5.445765424426347, \"top_n\": 12}, {\"Method\": \"Hillside(Massey Params)\", \"Year\": \"2013\", \"k\": 5.63146969912852, \"k/k_worst\": 5.63146969912852, \"top_n\": 13}, {\"Method\": \"Hillside(Massey Params)\", \"Year\": \"2013\", \"k\": 5.777450786598969, \"k/k_worst\": 5.777450786598969, \"top_n\": 14}, {\"Method\": \"Hillside(Massey Params)\", \"Year\": \"2013\", \"k\": 5.925980956789789, \"k/k_worst\": 5.925980956789789, \"top_n\": 15}, {\"Method\": \"Hillside(Massey Params)\", \"Year\": \"2013\", \"k\": 6.0593442257615, \"k/k_worst\": 6.0593442257615, \"top_n\": 16}, {\"Method\": \"Hillside(Massey Params)\", \"Year\": \"2013\", \"k\": 6.185730913558647, \"k/k_worst\": 6.185730913558647, \"top_n\": 17}, {\"Method\": \"Hillside(Massey Params)\", \"Year\": \"2013\", \"k\": 6.336627853410915, \"k/k_worst\": 6.336627853410915, \"top_n\": 18}, {\"Method\": \"Hillside(Massey Params)\", \"Year\": \"2013\", \"k\": 6.459794112579619, \"k/k_worst\": 6.459794112579619, \"top_n\": 19}, {\"Method\": \"Hillside(Massey Params)\", \"Year\": \"2013\", \"k\": 6.57435193570887, \"k/k_worst\": 6.57435193570887, \"top_n\": 20}, {\"Method\": \"Hillside(Massey Params)\", \"Year\": \"2013\", \"k\": 6.67908826383387, \"k/k_worst\": 6.67908826383387, \"top_n\": 21}, {\"Method\": \"Hillside(Massey Params)\", \"Year\": \"2013\", \"k\": 6.784281633999616, \"k/k_worst\": 6.784281633999616, \"top_n\": 22}, {\"Method\": \"Hillside(Massey Params)\", \"Year\": \"2013\", \"k\": 6.866865117302956, \"k/k_worst\": 6.866865117302956, \"top_n\": 23}, {\"Method\": \"Hillside(Massey Params)\", \"Year\": \"2013\", \"k\": 6.97067006743225, \"k/k_worst\": 6.97067006743225, \"top_n\": 24}, {\"Method\": \"Hillside(Massey Params)\", \"Year\": \"2013\", \"k\": 7.056346104915517, \"k/k_worst\": 7.056346104915517, \"top_n\": 25}, {\"Method\": \"Hillside(Massey Params)\", \"Year\": \"2013\", \"k\": 7.134798632659043, \"k/k_worst\": 7.134798632659043, \"top_n\": 26}, {\"Method\": \"Hillside(Massey Params)\", \"Year\": \"2013\", \"k\": 7.214832933073507, \"k/k_worst\": 7.214832933073507, \"top_n\": 27}, {\"Method\": \"Hillside(Massey Params)\", \"Year\": \"2013\", \"k\": 7.288804085647279, \"k/k_worst\": 7.288804085647279, \"top_n\": 28}, {\"Method\": \"Hillside(Massey Params)\", \"Year\": \"2013\", \"k\": 7.367291025026284, \"k/k_worst\": 7.367291025026284, \"top_n\": 29}, {\"Method\": \"Hillside(Colley Params)\", \"Year\": \"2014\", \"k\": -0.997486576031075, \"k/k_worst\": -0.9976390958840998, \"top_n\": 2}, {\"Method\": \"Hillside(Colley Params)\", \"Year\": \"2014\", \"k\": 1.5934225148780157, \"k/k_worst\": 1.5932699950249911, \"top_n\": 3}, {\"Method\": \"Hillside(Colley Params)\", \"Year\": \"2014\", \"k\": 2.2010174515868766, \"k/k_worst\": 2.200864931733852, \"top_n\": 4}, {\"Method\": \"Hillside(Colley Params)\", \"Year\": \"2014\", \"k\": 2.8073166641853016, \"k/k_worst\": 2.807164144332277, \"top_n\": 5}, {\"Method\": \"Hillside(Colley Params)\", \"Year\": \"2014\", \"k\": 3.189669605361772, \"k/k_worst\": 3.1895170855087476, \"top_n\": 6}, {\"Method\": \"Hillside(Colley Params)\", \"Year\": \"2014\", \"k\": 3.6790313074894314, \"k/k_worst\": 3.6788787876364073, \"top_n\": 7}, {\"Method\": \"Hillside(Colley Params)\", \"Year\": \"2014\", \"k\": 4.136174164632289, \"k/k_worst\": 4.136021644779264, \"top_n\": 8}, {\"Method\": \"Hillside(Colley Params)\", \"Year\": \"2014\", \"k\": 4.454801615612681, \"k/k_worst\": 4.454649095759656, \"top_n\": 9}, {\"Method\": \"Hillside(Colley Params)\", \"Year\": \"2014\", \"k\": 4.641914378933622, \"k/k_worst\": 4.641761859080598, \"top_n\": 10}, {\"Method\": \"Hillside(Colley Params)\", \"Year\": \"2014\", \"k\": 4.863208742190407, \"k/k_worst\": 4.8630562223373826, \"top_n\": 11}, {\"Method\": \"Hillside(Colley Params)\", \"Year\": \"2014\", \"k\": 5.063208742190407, \"k/k_worst\": 5.063056222337383, \"top_n\": 12}, {\"Method\": \"Hillside(Colley Params)\", \"Year\": \"2014\", \"k\": 5.264775693757359, \"k/k_worst\": 5.264623173904335, \"top_n\": 13}, {\"Method\": \"Hillside(Colley Params)\", \"Year\": \"2014\", \"k\": 5.414153287118355, \"k/k_worst\": 5.41400076726533, \"top_n\": 14}, {\"Method\": \"Hillside(Colley Params)\", \"Year\": \"2014\", \"k\": 5.568356484642852, \"k/k_worst\": 5.568203964789827, \"top_n\": 15}, {\"Method\": \"Hillside(Colley Params)\", \"Year\": \"2014\", \"k\": 5.691680881425693, \"k/k_worst\": 5.691528361572669, \"top_n\": 16}, {\"Method\": \"Hillside(Colley Params)\", \"Year\": \"2014\", \"k\": 5.8293101574797905, \"k/k_worst\": 5.829157637626766, \"top_n\": 17}, {\"Method\": \"Hillside(Colley Params)\", \"Year\": \"2014\", \"k\": 5.9684709966406295, \"k/k_worst\": 5.968318476787605, \"top_n\": 18}, {\"Method\": \"Hillside(Colley Params)\", \"Year\": \"2014\", \"k\": 6.090938768279672, \"k/k_worst\": 6.090786248426648, \"top_n\": 19}, {\"Method\": \"Hillside(Colley Params)\", \"Year\": \"2014\", \"k\": 6.1891066654631555, \"k/k_worst\": 6.188954145610132, \"top_n\": 20}, {\"Method\": \"Hillside(Colley Params)\", \"Year\": \"2014\", \"k\": 6.309126585781881, \"k/k_worst\": 6.308974065928857, \"top_n\": 21}, {\"Method\": \"Hillside(Colley Params)\", \"Year\": \"2014\", \"k\": 6.407614802767208, \"k/k_worst\": 6.407462282914183, \"top_n\": 22}, {\"Method\": \"Hillside(Colley Params)\", \"Year\": \"2014\", \"k\": 6.509416057573928, \"k/k_worst\": 6.509263537720903, \"top_n\": 23}, {\"Method\": \"Hillside(Colley Params)\", \"Year\": \"2014\", \"k\": 6.612281597618013, \"k/k_worst\": 6.612129077764989, \"top_n\": 24}, {\"Method\": \"Hillside(Colley Params)\", \"Year\": \"2014\", \"k\": 6.710216307811217, \"k/k_worst\": 6.710063787958193, \"top_n\": 25}, {\"Method\": \"Hillside(Colley Params)\", \"Year\": \"2014\", \"k\": 6.795774560238402, \"k/k_worst\": 6.7956220403853775, \"top_n\": 26}, {\"Method\": \"Hillside(Colley Params)\", \"Year\": \"2014\", \"k\": 6.864388310937116, \"k/k_worst\": 6.864235791084091, \"top_n\": 27}, {\"Method\": \"Hillside(Colley Params)\", \"Year\": \"2014\", \"k\": 6.9316042125978985, \"k/k_worst\": 6.931451692744873, \"top_n\": 28}, {\"Method\": \"Hillside(Colley Params)\", \"Year\": \"2014\", \"k\": 6.998875380346949, \"k/k_worst\": 6.998722860493924, \"top_n\": 29}, {\"Method\": \"Hillside(Massey Params)\", \"Year\": \"2014\", \"k\": -0.9974741676234213, \"k/k_worst\": -0.9974741676234213, \"top_n\": 2}, {\"Method\": \"Hillside(Massey Params)\", \"Year\": \"2014\", \"k\": 1.5934349232856695, \"k/k_worst\": 1.5934349232856695, \"top_n\": 3}, {\"Method\": \"Hillside(Massey Params)\", \"Year\": \"2014\", \"k\": 2.20102985999453, \"k/k_worst\": 2.201029859994531, \"top_n\": 4}, {\"Method\": \"Hillside(Massey Params)\", \"Year\": \"2014\", \"k\": 2.807329072592955, \"k/k_worst\": 2.807329072592956, \"top_n\": 5}, {\"Method\": \"Hillside(Massey Params)\", \"Year\": \"2014\", \"k\": 3.1896820137694255, \"k/k_worst\": 3.1896820137694264, \"top_n\": 6}, {\"Method\": \"Hillside(Massey Params)\", \"Year\": \"2014\", \"k\": 3.679043715897085, \"k/k_worst\": 3.679043715897086, \"top_n\": 7}, {\"Method\": \"Hillside(Massey Params)\", \"Year\": \"2014\", \"k\": 4.136186573039942, \"k/k_worst\": 4.136186573039943, \"top_n\": 8}, {\"Method\": \"Hillside(Massey Params)\", \"Year\": \"2014\", \"k\": 4.454814024020334, \"k/k_worst\": 4.454814024020335, \"top_n\": 9}, {\"Method\": \"Hillside(Massey Params)\", \"Year\": \"2014\", \"k\": 4.6419267873412755, \"k/k_worst\": 4.641926787341276, \"top_n\": 10}, {\"Method\": \"Hillside(Massey Params)\", \"Year\": \"2014\", \"k\": 4.8632211505980605, \"k/k_worst\": 4.863221150598061, \"top_n\": 11}, {\"Method\": \"Hillside(Massey Params)\", \"Year\": \"2014\", \"k\": 5.063221150598061, \"k/k_worst\": 5.0632211505980615, \"top_n\": 12}, {\"Method\": \"Hillside(Massey Params)\", \"Year\": \"2014\", \"k\": 5.264788102165012, \"k/k_worst\": 5.264788102165014, \"top_n\": 13}, {\"Method\": \"Hillside(Massey Params)\", \"Year\": \"2014\", \"k\": 5.414165695526007, \"k/k_worst\": 5.414165695526009, \"top_n\": 14}, {\"Method\": \"Hillside(Massey Params)\", \"Year\": \"2014\", \"k\": 5.568368893050504, \"k/k_worst\": 5.568368893050506, \"top_n\": 15}, {\"Method\": \"Hillside(Massey Params)\", \"Year\": \"2014\", \"k\": 5.691693289833346, \"k/k_worst\": 5.691693289833347, \"top_n\": 16}, {\"Method\": \"Hillside(Massey Params)\", \"Year\": \"2014\", \"k\": 5.829322565887443, \"k/k_worst\": 5.829322565887445, \"top_n\": 17}, {\"Method\": \"Hillside(Massey Params)\", \"Year\": \"2014\", \"k\": 5.968483405048282, \"k/k_worst\": 5.968483405048284, \"top_n\": 18}, {\"Method\": \"Hillside(Massey Params)\", \"Year\": \"2014\", \"k\": 6.090951176687325, \"k/k_worst\": 6.0909511766873266, \"top_n\": 19}, {\"Method\": \"Hillside(Massey Params)\", \"Year\": \"2014\", \"k\": 6.189119073870808, \"k/k_worst\": 6.189119073870811, \"top_n\": 20}, {\"Method\": \"Hillside(Massey Params)\", \"Year\": \"2014\", \"k\": 6.309138994189533, \"k/k_worst\": 6.309138994189536, \"top_n\": 21}, {\"Method\": \"Hillside(Massey Params)\", \"Year\": \"2014\", \"k\": 6.4076272111748604, \"k/k_worst\": 6.407627211174862, \"top_n\": 22}, {\"Method\": \"Hillside(Massey Params)\", \"Year\": \"2014\", \"k\": 6.50942846598158, \"k/k_worst\": 6.509428465981582, \"top_n\": 23}, {\"Method\": \"Hillside(Massey Params)\", \"Year\": \"2014\", \"k\": 6.612294006025666, \"k/k_worst\": 6.612294006025667, \"top_n\": 24}, {\"Method\": \"Hillside(Massey Params)\", \"Year\": \"2014\", \"k\": 6.71022871621887, \"k/k_worst\": 6.710228716218872, \"top_n\": 25}, {\"Method\": \"Hillside(Massey Params)\", \"Year\": \"2014\", \"k\": 6.795786968646055, \"k/k_worst\": 6.795786968646056, \"top_n\": 26}, {\"Method\": \"Hillside(Massey Params)\", \"Year\": \"2014\", \"k\": 6.8644007193447685, \"k/k_worst\": 6.86440071934477, \"top_n\": 27}, {\"Method\": \"Hillside(Massey Params)\", \"Year\": \"2014\", \"k\": 6.931616621005551, \"k/k_worst\": 6.931616621005552, \"top_n\": 28}, {\"Method\": \"Hillside(Massey Params)\", \"Year\": \"2014\", \"k\": 6.998887788754601, \"k/k_worst\": 6.998887788754603, \"top_n\": 29}, {\"Method\": \"Hillside(Colley Params)\", \"Year\": \"2015\", \"k\": -0.9980482204362802, \"k/k_worst\": -0.9979136254999839, \"top_n\": 2}, {\"Method\": \"Hillside(Colley Params)\", \"Year\": \"2015\", \"k\": 0.9431282501519553, \"k/k_worst\": 0.9432628450882516, \"top_n\": 3}, {\"Method\": \"Hillside(Colley Params)\", \"Year\": \"2015\", \"k\": 2.1431282501519555, \"k/k_worst\": 2.1432628450882514, \"top_n\": 4}, {\"Method\": \"Hillside(Colley Params)\", \"Year\": \"2015\", \"k\": 2.7613100683337737, \"k/k_worst\": 2.7614446632700695, \"top_n\": 5}, {\"Method\": \"Hillside(Colley Params)\", \"Year\": \"2015\", \"k\": 3.0927707424910773, \"k/k_worst\": 3.092905337427373, \"top_n\": 6}, {\"Method\": \"Hillside(Colley Params)\", \"Year\": \"2015\", \"k\": 3.51893108004382, \"k/k_worst\": 3.5190656749801157, \"top_n\": 7}, {\"Method\": \"Hillside(Colley Params)\", \"Year\": \"2015\", \"k\": 3.8710020859609795, \"k/k_worst\": 3.8711366808972754, \"top_n\": 8}, {\"Method\": \"Hillside(Colley Params)\", \"Year\": \"2015\", \"k\": 4.258310619877829, \"k/k_worst\": 4.258445214814124, \"top_n\": 9}, {\"Method\": \"Hillside(Colley Params)\", \"Year\": \"2015\", \"k\": 4.488594531549753, \"k/k_worst\": 4.488729126486048, \"top_n\": 10}, {\"Method\": \"Hillside(Colley Params)\", \"Year\": \"2015\", \"k\": 4.693722736677958, \"k/k_worst\": 4.693857331614253, \"top_n\": 11}, {\"Method\": \"Hillside(Colley Params)\", \"Year\": \"2015\", \"k\": 4.877765289869448, \"k/k_worst\": 4.877899884805742, \"top_n\": 12}, {\"Method\": \"Hillside(Colley Params)\", \"Year\": \"2015\", \"k\": 5.018825487533419, \"k/k_worst\": 5.018960082469713, \"top_n\": 13}, {\"Method\": \"Hillside(Colley Params)\", \"Year\": \"2015\", \"k\": 5.179455408793261, \"k/k_worst\": 5.1795900037295555, \"top_n\": 14}, {\"Method\": \"Hillside(Colley Params)\", \"Year\": \"2015\", \"k\": 5.3782342419004525, \"k/k_worst\": 5.378368836836747, \"top_n\": 15}, {\"Method\": \"Hillside(Colley Params)\", \"Year\": \"2015\", \"k\": 5.514057671442048, \"k/k_worst\": 5.514192266378342, \"top_n\": 16}, {\"Method\": \"Hillside(Colley Params)\", \"Year\": \"2015\", \"k\": 5.636130416833179, \"k/k_worst\": 5.636265011769473, \"top_n\": 17}, {\"Method\": \"Hillside(Colley Params)\", \"Year\": \"2015\", \"k\": 5.751583347561421, \"k/k_worst\": 5.751717942497715, \"top_n\": 18}, {\"Method\": \"Hillside(Colley Params)\", \"Year\": \"2015\", \"k\": 5.888127933548682, \"k/k_worst\": 5.888262528484976, \"top_n\": 19}, {\"Method\": \"Hillside(Colley Params)\", \"Year\": \"2015\", \"k\": 6.010019352112605, \"k/k_worst\": 6.010153947048899, \"top_n\": 20}, {\"Method\": \"Hillside(Colley Params)\", \"Year\": \"2015\", \"k\": 6.122726189452599, \"k/k_worst\": 6.122860784388893, \"top_n\": 21}, {\"Method\": \"Hillside(Colley Params)\", \"Year\": \"2015\", \"k\": 6.224297457690533, \"k/k_worst\": 6.2244320526268275, \"top_n\": 22}, {\"Method\": \"Hillside(Colley Params)\", \"Year\": \"2015\", \"k\": 6.329493586065469, \"k/k_worst\": 6.329628181001764, \"top_n\": 23}, {\"Method\": \"Hillside(Colley Params)\", \"Year\": \"2015\", \"k\": 6.399325344535162, \"k/k_worst\": 6.399459939471457, \"top_n\": 24}, {\"Method\": \"Hillside(Colley Params)\", \"Year\": \"2015\", \"k\": 6.491526981760496, \"k/k_worst\": 6.491661576696791, \"top_n\": 25}, {\"Method\": \"Hillside(Colley Params)\", \"Year\": \"2015\", \"k\": 6.592710413713159, \"k/k_worst\": 6.592845008649454, \"top_n\": 26}, {\"Method\": \"Hillside(Colley Params)\", \"Year\": \"2015\", \"k\": 6.676536313766894, \"k/k_worst\": 6.676670908703189, \"top_n\": 27}, {\"Method\": \"Hillside(Colley Params)\", \"Year\": \"2015\", \"k\": 6.735534826409433, \"k/k_worst\": 6.735669421345727, \"top_n\": 28}, {\"Method\": \"Hillside(Colley Params)\", \"Year\": \"2015\", \"k\": 6.798737073600444, \"k/k_worst\": 6.798871668536738, \"top_n\": 29}, {\"Method\": \"Hillside(Massey Params)\", \"Year\": \"2015\", \"k\": -0.9975047702920886, \"k/k_worst\": -0.9975047702920886, \"top_n\": 2}, {\"Method\": \"Hillside(Massey Params)\", \"Year\": \"2015\", \"k\": 0.9436717002961469, \"k/k_worst\": 0.9436717002961469, \"top_n\": 3}, {\"Method\": \"Hillside(Massey Params)\", \"Year\": \"2015\", \"k\": 2.143671700296147, \"k/k_worst\": 2.1436717002961467, \"top_n\": 4}, {\"Method\": \"Hillside(Massey Params)\", \"Year\": \"2015\", \"k\": 2.7618535184779653, \"k/k_worst\": 2.761853518477965, \"top_n\": 5}, {\"Method\": \"Hillside(Massey Params)\", \"Year\": \"2015\", \"k\": 3.093314192635269, \"k/k_worst\": 3.093314192635268, \"top_n\": 6}, {\"Method\": \"Hillside(Massey Params)\", \"Year\": \"2015\", \"k\": 3.5194745301880115, \"k/k_worst\": 3.5194745301880106, \"top_n\": 7}, {\"Method\": \"Hillside(Massey Params)\", \"Year\": \"2015\", \"k\": 3.871545536105171, \"k/k_worst\": 3.8715455361051703, \"top_n\": 8}, {\"Method\": \"Hillside(Massey Params)\", \"Year\": \"2015\", \"k\": 4.25885407002202, \"k/k_worst\": 4.25885407002202, \"top_n\": 9}, {\"Method\": \"Hillside(Massey Params)\", \"Year\": \"2015\", \"k\": 4.489137981693943, \"k/k_worst\": 4.489137981693943, \"top_n\": 10}, {\"Method\": \"Hillside(Massey Params)\", \"Year\": \"2015\", \"k\": 4.694266186822149, \"k/k_worst\": 4.694266186822149, \"top_n\": 11}, {\"Method\": \"Hillside(Massey Params)\", \"Year\": \"2015\", \"k\": 4.8783087400136385, \"k/k_worst\": 4.878308740013638, \"top_n\": 12}, {\"Method\": \"Hillside(Massey Params)\", \"Year\": \"2015\", \"k\": 5.019368937677609, \"k/k_worst\": 5.0193689376776085, \"top_n\": 13}, {\"Method\": \"Hillside(Massey Params)\", \"Year\": \"2015\", \"k\": 5.179998858937452, \"k/k_worst\": 5.179998858937451, \"top_n\": 14}, {\"Method\": \"Hillside(Massey Params)\", \"Year\": \"2015\", \"k\": 5.378777692044643, \"k/k_worst\": 5.378777692044642, \"top_n\": 15}, {\"Method\": \"Hillside(Massey Params)\", \"Year\": \"2015\", \"k\": 5.514601121586239, \"k/k_worst\": 5.514601121586238, \"top_n\": 16}, {\"Method\": \"Hillside(Massey Params)\", \"Year\": \"2015\", \"k\": 5.63667386697737, \"k/k_worst\": 5.636673866977369, \"top_n\": 17}, {\"Method\": \"Hillside(Massey Params)\", \"Year\": \"2015\", \"k\": 5.752126797705611, \"k/k_worst\": 5.7521267977056105, \"top_n\": 18}, {\"Method\": \"Hillside(Massey Params)\", \"Year\": \"2015\", \"k\": 5.888671383692873, \"k/k_worst\": 5.888671383692872, \"top_n\": 19}, {\"Method\": \"Hillside(Massey Params)\", \"Year\": \"2015\", \"k\": 6.010562802256795, \"k/k_worst\": 6.0105628022567945, \"top_n\": 20}, {\"Method\": \"Hillside(Massey Params)\", \"Year\": \"2015\", \"k\": 6.123269639596789, \"k/k_worst\": 6.1232696395967885, \"top_n\": 21}, {\"Method\": \"Hillside(Massey Params)\", \"Year\": \"2015\", \"k\": 6.224840907834724, \"k/k_worst\": 6.224840907834723, \"top_n\": 22}, {\"Method\": \"Hillside(Massey Params)\", \"Year\": \"2015\", \"k\": 6.33003703620966, \"k/k_worst\": 6.33003703620966, \"top_n\": 23}, {\"Method\": \"Hillside(Massey Params)\", \"Year\": \"2015\", \"k\": 6.399868794679353, \"k/k_worst\": 6.399868794679353, \"top_n\": 24}, {\"Method\": \"Hillside(Massey Params)\", \"Year\": \"2015\", \"k\": 6.492070431904687, \"k/k_worst\": 6.492070431904687, \"top_n\": 25}, {\"Method\": \"Hillside(Massey Params)\", \"Year\": \"2015\", \"k\": 6.59325386385735, \"k/k_worst\": 6.59325386385735, \"top_n\": 26}, {\"Method\": \"Hillside(Massey Params)\", \"Year\": \"2015\", \"k\": 6.677079763911085, \"k/k_worst\": 6.677079763911085, \"top_n\": 27}, {\"Method\": \"Hillside(Massey Params)\", \"Year\": \"2015\", \"k\": 6.736078276553624, \"k/k_worst\": 6.736078276553623, \"top_n\": 28}, {\"Method\": \"Hillside(Massey Params)\", \"Year\": \"2015\", \"k\": 6.799280523744635, \"k/k_worst\": 6.799280523744634, \"top_n\": 29}, {\"Method\": \"Hillside(Colley Params)\", \"Year\": \"2016\", \"k\": -0.9958902098928519, \"k/k_worst\": -0.9961553381992313, \"top_n\": 2}, {\"Method\": \"Hillside(Colley Params)\", \"Year\": \"2016\", \"k\": 1.004109790107148, \"k/k_worst\": 1.0038446618007688, \"top_n\": 3}, {\"Method\": \"Hillside(Colley Params)\", \"Year\": \"2016\", \"k\": 1.8255383615357195, \"k/k_worst\": 1.8252732332293402, \"top_n\": 4}, {\"Method\": \"Hillside(Colley Params)\", \"Year\": \"2016\", \"k\": 2.420309603365785, \"k/k_worst\": 2.420044475059406, \"top_n\": 5}, {\"Method\": \"Hillside(Colley Params)\", \"Year\": \"2016\", \"k\": 2.8998178000870967, \"k/k_worst\": 2.899552671780717, \"top_n\": 6}, {\"Method\": \"Hillside(Colley Params)\", \"Year\": \"2016\", \"k\": 3.320870431666044, \"k/k_worst\": 3.3206053033596645, \"top_n\": 7}, {\"Method\": \"Hillside(Colley Params)\", \"Year\": \"2016\", \"k\": 3.6775955778648743, \"k/k_worst\": 3.677330449558495, \"top_n\": 8}, {\"Method\": \"Hillside(Colley Params)\", \"Year\": \"2016\", \"k\": 3.9678254629223453, \"k/k_worst\": 3.9675603346159662, \"top_n\": 9}, {\"Method\": \"Hillside(Colley Params)\", \"Year\": \"2016\", \"k\": 4.227290941764216, \"k/k_worst\": 4.227025813457837, \"top_n\": 10}, {\"Method\": \"Hillside(Colley Params)\", \"Year\": \"2016\", \"k\": 4.407662294549362, \"k/k_worst\": 4.407397166242983, \"top_n\": 11}, {\"Method\": \"Hillside(Colley Params)\", \"Year\": \"2016\", \"k\": 4.5911828938002985, \"k/k_worst\": 4.59091776549392, \"top_n\": 12}, {\"Method\": \"Hillside(Colley Params)\", \"Year\": \"2016\", \"k\": 4.780423400129412, \"k/k_worst\": 4.7801582718230335, \"top_n\": 13}, {\"Method\": \"Hillside(Colley Params)\", \"Year\": \"2016\", \"k\": 4.920391468250753, \"k/k_worst\": 4.920126339944375, \"top_n\": 14}, {\"Method\": \"Hillside(Colley Params)\", \"Year\": \"2016\", \"k\": 5.073519386084554, \"k/k_worst\": 5.073254257778174, \"top_n\": 15}, {\"Method\": \"Hillside(Colley Params)\", \"Year\": \"2016\", \"k\": 5.186879709971193, \"k/k_worst\": 5.186614581664815, \"top_n\": 16}, {\"Method\": \"Hillside(Colley Params)\", \"Year\": \"2016\", \"k\": 5.269788800880284, \"k/k_worst\": 5.269523672573905, \"top_n\": 17}, {\"Method\": \"Hillside(Colley Params)\", \"Year\": \"2016\", \"k\": 5.395040647757383, \"k/k_worst\": 5.394775519451004, \"top_n\": 18}, {\"Method\": \"Hillside(Colley Params)\", \"Year\": \"2016\", \"k\": 5.513811164021185, \"k/k_worst\": 5.513546035714806, \"top_n\": 19}, {\"Method\": \"Hillside(Colley Params)\", \"Year\": \"2016\", \"k\": 5.553555095736309, \"k/k_worst\": 5.55328996742993, \"top_n\": 20}, {\"Method\": \"Hillside(Colley Params)\", \"Year\": \"2016\", \"k\": 5.669768538527483, \"k/k_worst\": 5.669503410221106, \"top_n\": 21}, {\"Method\": \"Hillside(Colley Params)\", \"Year\": \"2016\", \"k\": 5.766298071968071, \"k/k_worst\": 5.766032943661694, \"top_n\": 22}, {\"Method\": \"Hillside(Colley Params)\", \"Year\": \"2016\", \"k\": 5.850976336482848, \"k/k_worst\": 5.85071120817647, \"top_n\": 23}, {\"Method\": \"Hillside(Colley Params)\", \"Year\": \"2016\", \"k\": 5.949720297835505, \"k/k_worst\": 5.949455169529127, \"top_n\": 24}, {\"Method\": \"Hillside(Colley Params)\", \"Year\": \"2016\", \"k\": 6.023937673846761, \"k/k_worst\": 6.023672545540383, \"top_n\": 25}, {\"Method\": \"Hillside(Colley Params)\", \"Year\": \"2016\", \"k\": 6.1044877720785875, \"k/k_worst\": 6.10422264377221, \"top_n\": 26}, {\"Method\": \"Hillside(Colley Params)\", \"Year\": \"2016\", \"k\": 6.176002923593739, \"k/k_worst\": 6.175737795287361, \"top_n\": 27}, {\"Method\": \"Hillside(Colley Params)\", \"Year\": \"2016\", \"k\": 6.247552697349395, \"k/k_worst\": 6.247287569043017, \"top_n\": 28}, {\"Method\": \"Hillside(Colley Params)\", \"Year\": \"2016\", \"k\": 6.331083972092071, \"k/k_worst\": 6.330818843785693, \"top_n\": 29}, {\"Method\": \"Hillside(Massey Params)\", \"Year\": \"2016\", \"k\": -0.9965899403239556, \"k/k_worst\": -0.9965899403239556, \"top_n\": 2}, {\"Method\": \"Hillside(Massey Params)\", \"Year\": \"2016\", \"k\": 1.0034100596760442, \"k/k_worst\": 1.0034100596760442, \"top_n\": 3}, {\"Method\": \"Hillside(Massey Params)\", \"Year\": \"2016\", \"k\": 1.8248386311046156, \"k/k_worst\": 1.8248386311046156, \"top_n\": 4}, {\"Method\": \"Hillside(Massey Params)\", \"Year\": \"2016\", \"k\": 2.4196098729346813, \"k/k_worst\": 2.4196098729346813, \"top_n\": 5}, {\"Method\": \"Hillside(Massey Params)\", \"Year\": \"2016\", \"k\": 2.8991180696559926, \"k/k_worst\": 2.8991180696559926, \"top_n\": 6}, {\"Method\": \"Hillside(Massey Params)\", \"Year\": \"2016\", \"k\": 3.32017070123494, \"k/k_worst\": 3.32017070123494, \"top_n\": 7}, {\"Method\": \"Hillside(Massey Params)\", \"Year\": \"2016\", \"k\": 3.6768958474337703, \"k/k_worst\": 3.6768958474337703, \"top_n\": 8}, {\"Method\": \"Hillside(Massey Params)\", \"Year\": \"2016\", \"k\": 3.9671257324912412, \"k/k_worst\": 3.9671257324912417, \"top_n\": 9}, {\"Method\": \"Hillside(Massey Params)\", \"Year\": \"2016\", \"k\": 4.226591211333112, \"k/k_worst\": 4.226591211333112, \"top_n\": 10}, {\"Method\": \"Hillside(Massey Params)\", \"Year\": \"2016\", \"k\": 4.406962564118258, \"k/k_worst\": 4.406962564118258, \"top_n\": 11}, {\"Method\": \"Hillside(Massey Params)\", \"Year\": \"2016\", \"k\": 4.5904831633691945, \"k/k_worst\": 4.5904831633691945, \"top_n\": 12}, {\"Method\": \"Hillside(Massey Params)\", \"Year\": \"2016\", \"k\": 4.779723669698308, \"k/k_worst\": 4.779723669698308, \"top_n\": 13}, {\"Method\": \"Hillside(Massey Params)\", \"Year\": \"2016\", \"k\": 4.919691737819649, \"k/k_worst\": 4.919691737819649, \"top_n\": 14}, {\"Method\": \"Hillside(Massey Params)\", \"Year\": \"2016\", \"k\": 5.072819655653449, \"k/k_worst\": 5.072819655653449, \"top_n\": 15}, {\"Method\": \"Hillside(Massey Params)\", \"Year\": \"2016\", \"k\": 5.186179979540088, \"k/k_worst\": 5.186179979540089, \"top_n\": 16}, {\"Method\": \"Hillside(Massey Params)\", \"Year\": \"2016\", \"k\": 5.269089070449179, \"k/k_worst\": 5.26908907044918, \"top_n\": 17}, {\"Method\": \"Hillside(Massey Params)\", \"Year\": \"2016\", \"k\": 5.394340917326278, \"k/k_worst\": 5.394340917326279, \"top_n\": 18}, {\"Method\": \"Hillside(Massey Params)\", \"Year\": \"2016\", \"k\": 5.51311143359008, \"k/k_worst\": 5.513111433590081, \"top_n\": 19}, {\"Method\": \"Hillside(Massey Params)\", \"Year\": \"2016\", \"k\": 5.552855365305204, \"k/k_worst\": 5.552855365305205, \"top_n\": 20}, {\"Method\": \"Hillside(Massey Params)\", \"Year\": \"2016\", \"k\": 5.6690688080963785, \"k/k_worst\": 5.66906880809638, \"top_n\": 21}, {\"Method\": \"Hillside(Massey Params)\", \"Year\": \"2016\", \"k\": 5.7655983415369665, \"k/k_worst\": 5.765598341536968, \"top_n\": 22}, {\"Method\": \"Hillside(Massey Params)\", \"Year\": \"2016\", \"k\": 5.850276606051743, \"k/k_worst\": 5.850276606051745, \"top_n\": 23}, {\"Method\": \"Hillside(Massey Params)\", \"Year\": \"2016\", \"k\": 5.9490205674044, \"k/k_worst\": 5.949020567404402, \"top_n\": 24}, {\"Method\": \"Hillside(Massey Params)\", \"Year\": \"2016\", \"k\": 6.023237943415656, \"k/k_worst\": 6.0232379434156575, \"top_n\": 25}, {\"Method\": \"Hillside(Massey Params)\", \"Year\": \"2016\", \"k\": 6.103788041647483, \"k/k_worst\": 6.103788041647484, \"top_n\": 26}, {\"Method\": \"Hillside(Massey Params)\", \"Year\": \"2016\", \"k\": 6.175303193162634, \"k/k_worst\": 6.175303193162636, \"top_n\": 27}, {\"Method\": \"Hillside(Massey Params)\", \"Year\": \"2016\", \"k\": 6.24685296691829, \"k/k_worst\": 6.246852966918292, \"top_n\": 28}, {\"Method\": \"Hillside(Massey Params)\", \"Year\": \"2016\", \"k\": 6.330384241660966, \"k/k_worst\": 6.330384241660967, \"top_n\": 29}, {\"Method\": \"Hillside(Colley Params)\", \"Year\": \"2017\", \"k\": -0.9976860309341128, \"k/k_worst\": -0.9973924721335947, \"top_n\": 2}, {\"Method\": \"Hillside(Colley Params)\", \"Year\": \"2017\", \"k\": 0.37073502169746597, \"k/k_worst\": 0.37102858049798404, \"top_n\": 3}, {\"Method\": \"Hillside(Colley Params)\", \"Year\": \"2017\", \"k\": 1.4151794661419101, \"k/k_worst\": 1.4154730249424288, \"top_n\": 4}, {\"Method\": \"Hillside(Colley Params)\", \"Year\": \"2017\", \"k\": 2.2086577270114756, \"k/k_worst\": 2.208951285811994, \"top_n\": 5}, {\"Method\": \"Hillside(Colley Params)\", \"Year\": \"2017\", \"k\": 2.8268395451932937, \"k/k_worst\": 2.827133103993812, \"top_n\": 6}, {\"Method\": \"Hillside(Colley Params)\", \"Year\": \"2017\", \"k\": 3.298749657552844, \"k/k_worst\": 3.2990432163533625, \"top_n\": 7}, {\"Method\": \"Hillside(Colley Params)\", \"Year\": \"2017\", \"k\": 3.5939150519548795, \"k/k_worst\": 3.5942086107553983, \"top_n\": 8}, {\"Method\": \"Hillside(Colley Params)\", \"Year\": \"2017\", \"k\": 3.9534435391847422, \"k/k_worst\": 3.9537370979852606, \"top_n\": 9}, {\"Method\": \"Hillside(Colley Params)\", \"Year\": \"2017\", \"k\": 4.199108279069135, \"k/k_worst\": 4.199401837869654, \"top_n\": 10}, {\"Method\": \"Hillside(Colley Params)\", \"Year\": \"2017\", \"k\": 4.405604798790712, \"k/k_worst\": 4.405898357591231, \"top_n\": 11}, {\"Method\": \"Hillside(Colley Params)\", \"Year\": \"2017\", \"k\": 4.596950952636866, \"k/k_worst\": 4.597244511437385, \"top_n\": 12}, {\"Method\": \"Hillside(Colley Params)\", \"Year\": \"2017\", \"k\": 4.82213255069982, \"k/k_worst\": 4.822426109500339, \"top_n\": 13}, {\"Method\": \"Hillside(Colley Params)\", \"Year\": \"2017\", \"k\": 5.0210785322544975, \"k/k_worst\": 5.0213720910550155, \"top_n\": 14}, {\"Method\": \"Hillside(Colley Params)\", \"Year\": \"2017\", \"k\": 5.210089521265487, \"k/k_worst\": 5.210383080066005, \"top_n\": 15}, {\"Method\": \"Hillside(Colley Params)\", \"Year\": \"2017\", \"k\": 5.3778344380861896, \"k/k_worst\": 5.3781279968867075, \"top_n\": 16}, {\"Method\": \"Hillside(Colley Params)\", \"Year\": \"2017\", \"k\": 5.534541996455798, \"k/k_worst\": 5.534835555256316, \"top_n\": 17}, {\"Method\": \"Hillside(Colley Params)\", \"Year\": \"2017\", \"k\": 5.665571760396954, \"k/k_worst\": 5.665865319197472, \"top_n\": 18}, {\"Method\": \"Hillside(Colley Params)\", \"Year\": \"2017\", \"k\": 5.793218463361262, \"k/k_worst\": 5.79351202216178, \"top_n\": 19}, {\"Method\": \"Hillside(Colley Params)\", \"Year\": \"2017\", \"k\": 5.9093665320307895, \"k/k_worst\": 5.9096600908313075, \"top_n\": 20}, {\"Method\": \"Hillside(Colley Params)\", \"Year\": \"2017\", \"k\": 5.961998110978158, \"k/k_worst\": 5.962291669778676, \"top_n\": 21}, {\"Method\": \"Hillside(Colley Params)\", \"Year\": \"2017\", \"k\": 6.067249252530669, \"k/k_worst\": 6.067542811331187, \"top_n\": 22}, {\"Method\": \"Hillside(Colley Params)\", \"Year\": \"2017\", \"k\": 6.144299448771115, \"k/k_worst\": 6.144593007571633, \"top_n\": 23}, {\"Method\": \"Hillside(Colley Params)\", \"Year\": \"2017\", \"k\": 6.2235092684872635, \"k/k_worst\": 6.2238028272877814, \"top_n\": 24}, {\"Method\": \"Hillside(Colley Params)\", \"Year\": \"2017\", \"k\": 6.323740297454742, \"k/k_worst\": 6.32403385625526, \"top_n\": 25}, {\"Method\": \"Hillside(Colley Params)\", \"Year\": \"2017\", \"k\": 6.383827520843532, \"k/k_worst\": 6.38412107964405, \"top_n\": 26}, {\"Method\": \"Hillside(Colley Params)\", \"Year\": \"2017\", \"k\": 6.420853271262548, \"k/k_worst\": 6.421146830063066, \"top_n\": 27}, {\"Method\": \"Hillside(Colley Params)\", \"Year\": \"2017\", \"k\": 6.486824473143241, \"k/k_worst\": 6.487118031943759, \"top_n\": 28}, {\"Method\": \"Hillside(Colley Params)\", \"Year\": \"2017\", \"k\": 6.56552881497646, \"k/k_worst\": 6.565822373776978, \"top_n\": 29}, {\"Method\": \"Hillside(Massey Params)\", \"Year\": \"2017\", \"k\": -0.9975721952466139, \"k/k_worst\": -0.9975721952466139, \"top_n\": 2}, {\"Method\": \"Hillside(Massey Params)\", \"Year\": \"2017\", \"k\": 0.37084885738496487, \"k/k_worst\": 0.37084885738496487, \"top_n\": 3}, {\"Method\": \"Hillside(Massey Params)\", \"Year\": \"2017\", \"k\": 1.4152933018294092, \"k/k_worst\": 1.4152933018294096, \"top_n\": 4}, {\"Method\": \"Hillside(Massey Params)\", \"Year\": \"2017\", \"k\": 2.208771562698974, \"k/k_worst\": 2.208771562698975, \"top_n\": 5}, {\"Method\": \"Hillside(Massey Params)\", \"Year\": \"2017\", \"k\": 2.8269533808807923, \"k/k_worst\": 2.826953380880793, \"top_n\": 6}, {\"Method\": \"Hillside(Massey Params)\", \"Year\": \"2017\", \"k\": 3.2988634932403427, \"k/k_worst\": 3.2988634932403436, \"top_n\": 7}, {\"Method\": \"Hillside(Massey Params)\", \"Year\": \"2017\", \"k\": 3.594028887642378, \"k/k_worst\": 3.5940288876423794, \"top_n\": 8}, {\"Method\": \"Hillside(Massey Params)\", \"Year\": \"2017\", \"k\": 3.953557374872241, \"k/k_worst\": 3.9535573748722417, \"top_n\": 9}, {\"Method\": \"Hillside(Massey Params)\", \"Year\": \"2017\", \"k\": 4.199222114756633, \"k/k_worst\": 4.199222114756635, \"top_n\": 10}, {\"Method\": \"Hillside(Massey Params)\", \"Year\": \"2017\", \"k\": 4.405718634478211, \"k/k_worst\": 4.405718634478212, \"top_n\": 11}, {\"Method\": \"Hillside(Massey Params)\", \"Year\": \"2017\", \"k\": 4.5970647883243645, \"k/k_worst\": 4.597064788324366, \"top_n\": 12}, {\"Method\": \"Hillside(Massey Params)\", \"Year\": \"2017\", \"k\": 4.822246386387318, \"k/k_worst\": 4.82224638638732, \"top_n\": 13}, {\"Method\": \"Hillside(Massey Params)\", \"Year\": \"2017\", \"k\": 5.021192367941996, \"k/k_worst\": 5.021192367941997, \"top_n\": 14}, {\"Method\": \"Hillside(Massey Params)\", \"Year\": \"2017\", \"k\": 5.210203356952985, \"k/k_worst\": 5.210203356952986, \"top_n\": 15}, {\"Method\": \"Hillside(Massey Params)\", \"Year\": \"2017\", \"k\": 5.377948273773688, \"k/k_worst\": 5.377948273773688, \"top_n\": 16}, {\"Method\": \"Hillside(Massey Params)\", \"Year\": \"2017\", \"k\": 5.534655832143296, \"k/k_worst\": 5.534655832143296, \"top_n\": 17}, {\"Method\": \"Hillside(Massey Params)\", \"Year\": \"2017\", \"k\": 5.665685596084453, \"k/k_worst\": 5.665685596084453, \"top_n\": 18}, {\"Method\": \"Hillside(Massey Params)\", \"Year\": \"2017\", \"k\": 5.79333229904876, \"k/k_worst\": 5.79333229904876, \"top_n\": 19}, {\"Method\": \"Hillside(Massey Params)\", \"Year\": \"2017\", \"k\": 5.909480367718288, \"k/k_worst\": 5.909480367718288, \"top_n\": 20}, {\"Method\": \"Hillside(Massey Params)\", \"Year\": \"2017\", \"k\": 5.962111946665656, \"k/k_worst\": 5.962111946665656, \"top_n\": 21}, {\"Method\": \"Hillside(Massey Params)\", \"Year\": \"2017\", \"k\": 6.067363088218167, \"k/k_worst\": 6.067363088218167, \"top_n\": 22}, {\"Method\": \"Hillside(Massey Params)\", \"Year\": \"2017\", \"k\": 6.144413284458613, \"k/k_worst\": 6.144413284458613, \"top_n\": 23}, {\"Method\": \"Hillside(Massey Params)\", \"Year\": \"2017\", \"k\": 6.223623104174762, \"k/k_worst\": 6.223623104174762, \"top_n\": 24}, {\"Method\": \"Hillside(Massey Params)\", \"Year\": \"2017\", \"k\": 6.32385413314224, \"k/k_worst\": 6.32385413314224, \"top_n\": 25}, {\"Method\": \"Hillside(Massey Params)\", \"Year\": \"2017\", \"k\": 6.383941356531031, \"k/k_worst\": 6.383941356531031, \"top_n\": 26}, {\"Method\": \"Hillside(Massey Params)\", \"Year\": \"2017\", \"k\": 6.420967106950046, \"k/k_worst\": 6.420967106950046, \"top_n\": 27}, {\"Method\": \"Hillside(Massey Params)\", \"Year\": \"2017\", \"k\": 6.48693830883074, \"k/k_worst\": 6.48693830883074, \"top_n\": 28}, {\"Method\": \"Hillside(Massey Params)\", \"Year\": \"2017\", \"k\": 6.565642650663959, \"k/k_worst\": 6.565642650663959, \"top_n\": 29}, {\"Method\": \"Hillside(Colley Params)\", \"Year\": \"2018\", \"k\": -0.9973166368515206, \"k/k_worst\": -0.9972173590062992, \"top_n\": 2}, {\"Method\": \"Hillside(Colley Params)\", \"Year\": \"2018\", \"k\": 1.050302410767527, \"k/k_worst\": 1.0504016886127483, \"top_n\": 3}, {\"Method\": \"Hillside(Colley Params)\", \"Year\": \"2018\", \"k\": 2.237802410767527, \"k/k_worst\": 2.237901688612748, \"top_n\": 4}, {\"Method\": \"Hillside(Colley Params)\", \"Year\": \"2018\", \"k\": 2.7663738393389554, \"k/k_worst\": 2.7664731171841765, \"top_n\": 5}, {\"Method\": \"Hillside(Colley Params)\", \"Year\": \"2018\", \"k\": 3.3878691664417593, \"k/k_worst\": 3.3879684442869804, \"top_n\": 6}, {\"Method\": \"Hillside(Colley Params)\", \"Year\": \"2018\", \"k\": 3.785563690937437, \"k/k_worst\": 3.7856629687826575, \"top_n\": 7}, {\"Method\": \"Hillside(Colley Params)\", \"Year\": \"2018\", \"k\": 4.115460598153931, \"k/k_worst\": 4.1155598759991525, \"top_n\": 8}, {\"Method\": \"Hillside(Colley Params)\", \"Year\": \"2018\", \"k\": 4.256545869471761, \"k/k_worst\": 4.256645147316982, \"top_n\": 9}, {\"Method\": \"Hillside(Colley Params)\", \"Year\": \"2018\", \"k\": 4.5758393477326305, \"k/k_worst\": 4.575938625577852, \"top_n\": 10}, {\"Method\": \"Hillside(Colley Params)\", \"Year\": \"2018\", \"k\": 4.794170964622435, \"k/k_worst\": 4.794270242467656, \"top_n\": 11}, {\"Method\": \"Hillside(Colley Params)\", \"Year\": \"2018\", \"k\": 4.996199705112714, \"k/k_worst\": 4.996298982957935, \"top_n\": 12}, {\"Method\": \"Hillside(Colley Params)\", \"Year\": \"2018\", \"k\": 5.1741181298665815, \"k/k_worst\": 5.174217407711803, \"top_n\": 13}, {\"Method\": \"Hillside(Colley Params)\", \"Year\": \"2018\", \"k\": 5.354416637329268, \"k/k_worst\": 5.354515915174489, \"top_n\": 14}, {\"Method\": \"Hillside(Colley Params)\", \"Year\": \"2018\", \"k\": 5.499586085988853, \"k/k_worst\": 5.499685363834074, \"top_n\": 15}, {\"Method\": \"Hillside(Colley Params)\", \"Year\": \"2018\", \"k\": 5.648879372207935, \"k/k_worst\": 5.648978650053156, \"top_n\": 16}, {\"Method\": \"Hillside(Colley Params)\", \"Year\": \"2018\", \"k\": 5.8037602330841835, \"k/k_worst\": 5.803859510929405, \"top_n\": 17}, {\"Method\": \"Hillside(Colley Params)\", \"Year\": \"2018\", \"k\": 5.921231114947744, \"k/k_worst\": 5.9213303927929655, \"top_n\": 18}, {\"Method\": \"Hillside(Colley Params)\", \"Year\": \"2018\", \"k\": 6.043625397258644, \"k/k_worst\": 6.043724675103865, \"top_n\": 19}, {\"Method\": \"Hillside(Colley Params)\", \"Year\": \"2018\", \"k\": 6.108629377094145, \"k/k_worst\": 6.108728654939365, \"top_n\": 20}, {\"Method\": \"Hillside(Colley Params)\", \"Year\": \"2018\", \"k\": 6.217498335738888, \"k/k_worst\": 6.2175976135841085, \"top_n\": 21}, {\"Method\": \"Hillside(Colley Params)\", \"Year\": \"2018\", \"k\": 6.3228679156085805, \"k/k_worst\": 6.322967193453801, \"top_n\": 22}, {\"Method\": \"Hillside(Colley Params)\", \"Year\": \"2018\", \"k\": 6.421241899348418, \"k/k_worst\": 6.421341177193638, \"top_n\": 23}, {\"Method\": \"Hillside(Colley Params)\", \"Year\": \"2018\", \"k\": 6.50987994524035, \"k/k_worst\": 6.50997922308557, \"top_n\": 24}, {\"Method\": \"Hillside(Colley Params)\", \"Year\": \"2018\", \"k\": 6.592320876737885, \"k/k_worst\": 6.592420154583105, \"top_n\": 25}, {\"Method\": \"Hillside(Colley Params)\", \"Year\": \"2018\", \"k\": 6.690938967190146, \"k/k_worst\": 6.691038245035367, \"top_n\": 26}, {\"Method\": \"Hillside(Colley Params)\", \"Year\": \"2018\", \"k\": 6.770984707613245, \"k/k_worst\": 6.771083985458466, \"top_n\": 27}, {\"Method\": \"Hillside(Colley Params)\", \"Year\": \"2018\", \"k\": 6.851582907719121, \"k/k_worst\": 6.851682185564342, \"top_n\": 28}, {\"Method\": \"Hillside(Colley Params)\", \"Year\": \"2018\", \"k\": 6.920290807290462, \"k/k_worst\": 6.920390085135683, \"top_n\": 29}, {\"Method\": \"Hillside(Massey Params)\", \"Year\": \"2018\", \"k\": -0.9975933990373597, \"k/k_worst\": -0.9975933990373597, \"top_n\": 2}, {\"Method\": \"Hillside(Massey Params)\", \"Year\": \"2018\", \"k\": 1.0500256485816877, \"k/k_worst\": 1.0500256485816877, \"top_n\": 3}, {\"Method\": \"Hillside(Massey Params)\", \"Year\": \"2018\", \"k\": 2.2375256485816877, \"k/k_worst\": 2.2375256485816872, \"top_n\": 4}, {\"Method\": \"Hillside(Massey Params)\", \"Year\": \"2018\", \"k\": 2.766097077153116, \"k/k_worst\": 2.766097077153116, \"top_n\": 5}, {\"Method\": \"Hillside(Massey Params)\", \"Year\": \"2018\", \"k\": 3.38759240425592, \"k/k_worst\": 3.38759240425592, \"top_n\": 6}, {\"Method\": \"Hillside(Massey Params)\", \"Year\": \"2018\", \"k\": 3.7852869287515976, \"k/k_worst\": 3.785286928751597, \"top_n\": 7}, {\"Method\": \"Hillside(Massey Params)\", \"Year\": \"2018\", \"k\": 4.115183835968092, \"k/k_worst\": 4.115183835968092, \"top_n\": 8}, {\"Method\": \"Hillside(Massey Params)\", \"Year\": \"2018\", \"k\": 4.256269107285922, \"k/k_worst\": 4.256269107285922, \"top_n\": 9}, {\"Method\": \"Hillside(Massey Params)\", \"Year\": \"2018\", \"k\": 4.575562585546791, \"k/k_worst\": 4.575562585546791, \"top_n\": 10}, {\"Method\": \"Hillside(Massey Params)\", \"Year\": \"2018\", \"k\": 4.793894202436595, \"k/k_worst\": 4.793894202436595, \"top_n\": 11}, {\"Method\": \"Hillside(Massey Params)\", \"Year\": \"2018\", \"k\": 4.9959229429268746, \"k/k_worst\": 4.9959229429268746, \"top_n\": 12}, {\"Method\": \"Hillside(Massey Params)\", \"Year\": \"2018\", \"k\": 5.173841367680742, \"k/k_worst\": 5.173841367680742, \"top_n\": 13}, {\"Method\": \"Hillside(Massey Params)\", \"Year\": \"2018\", \"k\": 5.354139875143429, \"k/k_worst\": 5.354139875143429, \"top_n\": 14}, {\"Method\": \"Hillside(Massey Params)\", \"Year\": \"2018\", \"k\": 5.499309323803014, \"k/k_worst\": 5.499309323803014, \"top_n\": 15}, {\"Method\": \"Hillside(Massey Params)\", \"Year\": \"2018\", \"k\": 5.648602610022095, \"k/k_worst\": 5.648602610022095, \"top_n\": 16}, {\"Method\": \"Hillside(Massey Params)\", \"Year\": \"2018\", \"k\": 5.803483470898344, \"k/k_worst\": 5.803483470898344, \"top_n\": 17}, {\"Method\": \"Hillside(Massey Params)\", \"Year\": \"2018\", \"k\": 5.920954352761905, \"k/k_worst\": 5.920954352761905, \"top_n\": 18}, {\"Method\": \"Hillside(Massey Params)\", \"Year\": \"2018\", \"k\": 6.043348635072805, \"k/k_worst\": 6.043348635072805, \"top_n\": 19}, {\"Method\": \"Hillside(Massey Params)\", \"Year\": \"2018\", \"k\": 6.108352614908306, \"k/k_worst\": 6.108352614908305, \"top_n\": 20}, {\"Method\": \"Hillside(Massey Params)\", \"Year\": \"2018\", \"k\": 6.217221573553049, \"k/k_worst\": 6.217221573553048, \"top_n\": 21}, {\"Method\": \"Hillside(Massey Params)\", \"Year\": \"2018\", \"k\": 6.322591153422741, \"k/k_worst\": 6.32259115342274, \"top_n\": 22}, {\"Method\": \"Hillside(Massey Params)\", \"Year\": \"2018\", \"k\": 6.420965137162579, \"k/k_worst\": 6.420965137162578, \"top_n\": 23}, {\"Method\": \"Hillside(Massey Params)\", \"Year\": \"2018\", \"k\": 6.5096031830545105, \"k/k_worst\": 6.50960318305451, \"top_n\": 24}, {\"Method\": \"Hillside(Massey Params)\", \"Year\": \"2018\", \"k\": 6.592044114552046, \"k/k_worst\": 6.592044114552045, \"top_n\": 25}, {\"Method\": \"Hillside(Massey Params)\", \"Year\": \"2018\", \"k\": 6.6906622050043065, \"k/k_worst\": 6.6906622050043065, \"top_n\": 26}, {\"Method\": \"Hillside(Massey Params)\", \"Year\": \"2018\", \"k\": 6.7707079454274055, \"k/k_worst\": 6.7707079454274055, \"top_n\": 27}, {\"Method\": \"Hillside(Massey Params)\", \"Year\": \"2018\", \"k\": 6.8513061455332815, \"k/k_worst\": 6.8513061455332815, \"top_n\": 28}, {\"Method\": \"Hillside(Massey Params)\", \"Year\": \"2018\", \"k\": 6.920014045104622, \"k/k_worst\": 6.920014045104622, \"top_n\": 29}]}}, {\"mode\": \"vega-lite\"});\n",
       "</script>"
      ],
      "text/plain": [
       "alt.FacetChart(...)"
      ]
     },
     "execution_count": 428,
     "metadata": {},
     "output_type": "execute_result"
    }
   ],
   "source": [
    "import altair as alt\n",
    "alt.Chart(cumsum_pct_change.reset_index()).mark_line().encode(\n",
    "    x='top_n',\n",
    "    y='k',\n",
    "    color='Year'\n",
    ").facet(row='Method')"
   ]
  },
  {
   "cell_type": "code",
   "execution_count": 429,
   "metadata": {},
   "outputs": [
    {
     "data": {
      "text/html": [
       "\n",
       "<div id=\"altair-viz-cea85f43ed264f92962bda73e4fc5fb0\"></div>\n",
       "<script type=\"text/javascript\">\n",
       "  (function(spec, embedOpt){\n",
       "    let outputDiv = document.currentScript.previousElementSibling;\n",
       "    if (outputDiv.id !== \"altair-viz-cea85f43ed264f92962bda73e4fc5fb0\") {\n",
       "      outputDiv = document.getElementById(\"altair-viz-cea85f43ed264f92962bda73e4fc5fb0\");\n",
       "    }\n",
       "    const paths = {\n",
       "      \"vega\": \"https://cdn.jsdelivr.net/npm//vega@5?noext\",\n",
       "      \"vega-lib\": \"https://cdn.jsdelivr.net/npm//vega-lib?noext\",\n",
       "      \"vega-lite\": \"https://cdn.jsdelivr.net/npm//vega-lite@4.8.1?noext\",\n",
       "      \"vega-embed\": \"https://cdn.jsdelivr.net/npm//vega-embed@6?noext\",\n",
       "    };\n",
       "\n",
       "    function loadScript(lib) {\n",
       "      return new Promise(function(resolve, reject) {\n",
       "        var s = document.createElement('script');\n",
       "        s.src = paths[lib];\n",
       "        s.async = true;\n",
       "        s.onload = () => resolve(paths[lib]);\n",
       "        s.onerror = () => reject(`Error loading script: ${paths[lib]}`);\n",
       "        document.getElementsByTagName(\"head\")[0].appendChild(s);\n",
       "      });\n",
       "    }\n",
       "\n",
       "    function showError(err) {\n",
       "      outputDiv.innerHTML = `<div class=\"error\" style=\"color:red;\">${err}</div>`;\n",
       "      throw err;\n",
       "    }\n",
       "\n",
       "    function displayChart(vegaEmbed) {\n",
       "      vegaEmbed(outputDiv, spec, embedOpt)\n",
       "        .catch(err => showError(`Javascript Error: ${err.message}<br>This usually means there's a typo in your chart specification. See the javascript console for the full traceback.`));\n",
       "    }\n",
       "\n",
       "    if(typeof define === \"function\" && define.amd) {\n",
       "      requirejs.config({paths});\n",
       "      require([\"vega-embed\"], displayChart, err => showError(`Error loading script: ${err.message}`));\n",
       "    } else if (typeof vegaEmbed === \"function\") {\n",
       "      displayChart(vegaEmbed);\n",
       "    } else {\n",
       "      loadScript(\"vega\")\n",
       "        .then(() => loadScript(\"vega-lite\"))\n",
       "        .then(() => loadScript(\"vega-embed\"))\n",
       "        .catch(showError)\n",
       "        .then(() => displayChart(vegaEmbed));\n",
       "    }\n",
       "  })({\"config\": {\"view\": {\"continuousWidth\": 400, \"continuousHeight\": 300}}, \"data\": {\"name\": \"data-3a7c83531ca142ef94b8619adddd28ff\"}, \"facet\": {\"row\": {\"type\": \"nominal\", \"field\": \"Method\"}}, \"spec\": {\"mark\": \"line\", \"encoding\": {\"color\": {\"type\": \"nominal\", \"field\": \"Year\"}, \"x\": {\"type\": \"quantitative\", \"field\": \"top_n\"}, \"y\": {\"type\": \"quantitative\", \"field\": \"k\"}}}, \"$schema\": \"https://vega.github.io/schema/vega-lite/v4.8.1.json\", \"datasets\": {\"data-3a7c83531ca142ef94b8619adddd28ff\": [{\"Method\": \"Hillside(Colley Params)\", \"Year\": \"2002\", \"k\": 14.0, \"k_orig\": 26752.0, \"sum_c\": 44.0, \"k_worst\": 47643.0, \"top_n\": 2, \"k/k_orig\": 0.0005233253588516747, \"k/k_worst\": 0.00029385219234724934, \"k/sum_c\": 0.3181818181818182, \"k*k_orig/k_worst\": 7.861133849673614, \"k/(k_worst-k_orig)\": 0.0006701450385333397}, {\"Method\": \"Hillside(Colley Params)\", \"Year\": \"2002\", \"k\": 58.0, \"k_orig\": 26752.0, \"sum_c\": 137.0, \"k_worst\": 47643.0, \"top_n\": 3, \"k/k_orig\": 0.002168062200956938, \"k/k_worst\": 0.0012173876540100329, \"k/sum_c\": 0.4233576642335766, \"k*k_orig/k_worst\": 32.5675545200764, \"k/(k_worst-k_orig)\": 0.002776315159638122}, {\"Method\": \"Hillside(Colley Params)\", \"Year\": \"2002\", \"k\": 106.0, \"k_orig\": 26752.0, \"sum_c\": 248.0, \"k_worst\": 47643.0, \"top_n\": 4, \"k/k_orig\": 0.003962320574162679, \"k/k_worst\": 0.0022248808849148877, \"k/sum_c\": 0.4274193548387097, \"k*k_orig/k_worst\": 59.52001343324308, \"k/(k_worst-k_orig)\": 0.005073955291752429}, {\"Method\": \"Hillside(Colley Params)\", \"Year\": \"2002\", \"k\": 176.0, \"k_orig\": 26752.0, \"sum_c\": 415.0, \"k_worst\": 47643.0, \"top_n\": 5, \"k/k_orig\": 0.006578947368421052, \"k/k_worst\": 0.0036941418466511344, \"k/sum_c\": 0.42409638554216866, \"k*k_orig/k_worst\": 98.82568268161116, \"k/(k_worst-k_orig)\": 0.008424680484419128}, {\"Method\": \"Hillside(Colley Params)\", \"Year\": \"2002\", \"k\": 271.0, \"k_orig\": 26752.0, \"sum_c\": 623.0, \"k_worst\": 47643.0, \"top_n\": 6, \"k/k_orig\": 0.010130083732057416, \"k/k_worst\": 0.0056881388661503265, \"k/sum_c\": 0.434991974317817, \"k*k_orig/k_worst\": 152.16909094725352, \"k/(k_worst-k_orig)\": 0.012972093245895362}, {\"Method\": \"Hillside(Colley Params)\", \"Year\": \"2002\", \"k\": 377.0, \"k_orig\": 26752.0, \"sum_c\": 870.0, \"k_worst\": 47643.0, \"top_n\": 7, \"k/k_orig\": 0.014092404306220096, \"k/k_worst\": 0.007913019751065214, \"k/sum_c\": 0.43333333333333335, \"k*k_orig/k_worst\": 211.68910438049662, \"k/(k_worst-k_orig)\": 0.01804604853764779}, {\"Method\": \"Hillside(Colley Params)\", \"Year\": \"2002\", \"k\": 517.0, \"k_orig\": 26752.0, \"sum_c\": 1188.0, \"k_worst\": 47643.0, \"top_n\": 8, \"k/k_orig\": 0.019325657894736843, \"k/k_worst\": 0.010851541674537708, \"k/sum_c\": 0.4351851851851852, \"k*k_orig/k_worst\": 290.30044287723274, \"k/(k_worst-k_orig)\": 0.024747498922981188}, {\"Method\": \"Hillside(Colley Params)\", \"Year\": \"2002\", \"k\": 655.0, \"k_orig\": 26752.0, \"sum_c\": 1509.0, \"k_worst\": 47643.0, \"top_n\": 9, \"k/k_orig\": 0.024484150717703348, \"k/k_worst\": 0.013748084713389164, \"k/sum_c\": 0.4340622929092114, \"k*k_orig/k_worst\": 367.78876225258693, \"k/(k_worst-k_orig)\": 0.03135321430280982}, {\"Method\": \"Hillside(Colley Params)\", \"Year\": \"2002\", \"k\": 839.0, \"k_orig\": 26752.0, \"sum_c\": 1930.0, \"k_worst\": 47643.0, \"top_n\": 10, \"k/k_orig\": 0.03136214114832536, \"k/k_worst\": 0.01761014209852444, \"k/sum_c\": 0.4347150259067358, \"k*k_orig/k_worst\": 471.1065214197259, \"k/(k_worst-k_orig)\": 0.040160834809248}, {\"Method\": \"Hillside(Colley Params)\", \"Year\": \"2002\", \"k\": 1041.0, \"k_orig\": 26752.0, \"sum_c\": 2409.0, \"k_worst\": 47643.0, \"top_n\": 11, \"k/k_orig\": 0.038912978468899524, \"k/k_worst\": 0.02185000944524904, \"k/sum_c\": 0.43212951432129515, \"k*k_orig/k_worst\": 584.5314526793023, \"k/(k_worst-k_orig)\": 0.049830070365229046}, {\"Method\": \"Hillside(Colley Params)\", \"Year\": \"2002\", \"k\": 1244.0, \"k_orig\": 26752.0, \"sum_c\": 2889.0, \"k_worst\": 47643.0, \"top_n\": 12, \"k/k_orig\": 0.04650119617224881, \"k/k_worst\": 0.026110866234284155, \"k/sum_c\": 0.4305988231221876, \"k*k_orig/k_worst\": 698.5178934995697, \"k/(k_worst-k_orig)\": 0.05954717342396247}, {\"Method\": \"Hillside(Colley Params)\", \"Year\": \"2002\", \"k\": 1496.0, \"k_orig\": 26752.0, \"sum_c\": 3487.0, \"k_worst\": 47643.0, \"top_n\": 13, \"k/k_orig\": 0.05592105263157895, \"k/k_worst\": 0.03140020569653464, \"k/sum_c\": 0.42902208201892744, \"k*k_orig/k_worst\": 840.0183027936947, \"k/(k_worst-k_orig)\": 0.07160978411756258}, {\"Method\": \"Hillside(Colley Params)\", \"Year\": \"2002\", \"k\": 1767.0, \"k_orig\": 26752.0, \"sum_c\": 4082.0, \"k_worst\": 47643.0, \"top_n\": 14, \"k/k_orig\": 0.06605113636363637, \"k/k_worst\": 0.03708834456268497, \"k/sum_c\": 0.4328760411562959, \"k*k_orig/k_worst\": 992.1873937409483, \"k/(k_worst-k_orig)\": 0.08458187736345794}, {\"Method\": \"Hillside(Colley Params)\", \"Year\": \"2002\", \"k\": 2050.0, \"k_orig\": 26752.0, \"sum_c\": 4740.0, \"k_worst\": 47643.0, \"top_n\": 15, \"k/k_orig\": 0.07662978468899521, \"k/k_worst\": 0.04302835673656151, \"k/sum_c\": 0.43248945147679324, \"k*k_orig/k_worst\": 1151.0945994164936, \"k/(k_worst-k_orig)\": 0.09812838064238188}, {\"Method\": \"Hillside(Colley Params)\", \"Year\": \"2002\", \"k\": 2339.0, \"k_orig\": 26752.0, \"sum_c\": 5424.0, \"k_worst\": 47643.0, \"top_n\": 16, \"k/k_orig\": 0.08743271531100479, \"k/k_worst\": 0.04909430556430116, \"k/sum_c\": 0.4312315634218289, \"k*k_orig/k_worst\": 1313.3708624561846, \"k/(k_worst-k_orig)\": 0.11196208893782011}, {\"Method\": \"Hillside(Colley Params)\", \"Year\": \"2002\", \"k\": 2723.0, \"k_orig\": 26752.0, \"sum_c\": 6279.0, \"k_worst\": 47643.0, \"top_n\": 17, \"k/k_orig\": 0.10178678229665072, \"k/k_worst\": 0.05715425141153999, \"k/sum_c\": 0.4336677814938685, \"k*k_orig/k_worst\": 1528.990533761518, \"k/(k_worst-k_orig)\": 0.1303432099947346}, {\"Method\": \"Hillside(Colley Params)\", \"Year\": \"2002\", \"k\": 3130.0, \"k_orig\": 26752.0, \"sum_c\": 7273.0, \"k_worst\": 47643.0, \"top_n\": 18, \"k/k_orig\": 0.1170005980861244, \"k/k_worst\": 0.06569695443192074, \"k/sum_c\": 0.43035886154269215, \"k*k_orig/k_worst\": 1757.5249249627439, \"k/(k_worst-k_orig)\": 0.1498252836149538}, {\"Method\": \"Hillside(Colley Params)\", \"Year\": \"2002\", \"k\": 3578.0, \"k_orig\": 26752.0, \"sum_c\": 8302.0, \"k_worst\": 47643.0, \"top_n\": 19, \"k/k_orig\": 0.133747009569378, \"k/k_worst\": 0.07510022458703272, \"k/sum_c\": 0.43098048662972777, \"k*k_orig/k_worst\": 2009.0812081522995, \"k/(k_worst-k_orig)\": 0.17126992484802067}, {\"Method\": \"Hillside(Colley Params)\", \"Year\": \"2002\", \"k\": 3907.0, \"k_orig\": 26752.0, \"sum_c\": 9038.0, \"k_worst\": 47643.0, \"top_n\": 20, \"k/k_orig\": 0.14604515550239233, \"k/k_worst\": 0.08200575110719308, \"k/sum_c\": 0.4322859039610533, \"k*k_orig/k_worst\": 2193.817853619629, \"k/(k_worst-k_orig)\": 0.18701833325355416}, {\"Method\": \"Hillside(Colley Params)\", \"Year\": \"2002\", \"k\": 4303.0, \"k_orig\": 26752.0, \"sum_c\": 9912.0, \"k_worst\": 47643.0, \"top_n\": 21, \"k/k_orig\": 0.1608477870813397, \"k/k_worst\": 0.09031757026215813, \"k/sum_c\": 0.43412025827280065, \"k*k_orig/k_worst\": 2416.1756396532546, \"k/(k_worst-k_orig)\": 0.2059738643434972}, {\"Method\": \"Hillside(Colley Params)\", \"Year\": \"2002\", \"k\": 4681.0, \"k_orig\": 26752.0, \"sum_c\": 10745.0, \"k_worst\": 47643.0, \"top_n\": 22, \"k/k_orig\": 0.17497757177033493, \"k/k_worst\": 0.09825157945553387, \"k/sum_c\": 0.43564448580735227, \"k*k_orig/k_worst\": 2628.426253594442, \"k/(k_worst-k_orig)\": 0.22406778038389738}, {\"Method\": \"Hillside(Colley Params)\", \"Year\": \"2002\", \"k\": 5034.0, \"k_orig\": 26752.0, \"sum_c\": 11532.0, \"k_worst\": 47643.0, \"top_n\": 23, \"k/k_orig\": 0.18817284688995214, \"k/k_worst\": 0.10566085259114666, \"k/sum_c\": 0.43652445369406867, \"k*k_orig/k_worst\": 2826.6391285183554, \"k/(k_worst-k_orig)\": 0.24096500885548802}, {\"Method\": \"Hillside(Colley Params)\", \"Year\": \"2002\", \"k\": 5556.0, \"k_orig\": 26752.0, \"sum_c\": 12676.0, \"k_worst\": 47643.0, \"top_n\": 24, \"k/k_orig\": 0.20768540669856458, \"k/k_worst\": 0.11661734147723694, \"k/sum_c\": 0.43830861470495425, \"k*k_orig/k_worst\": 3119.747119199043, \"k/(k_worst-k_orig)\": 0.2659518452922311}, {\"Method\": \"Hillside(Colley Params)\", \"Year\": \"2002\", \"k\": 5988.0, \"k_orig\": 26752.0, \"sum_c\": 13671.0, \"k_worst\": 47643.0, \"top_n\": 25, \"k/k_orig\": 0.22383373205741627, \"k/k_worst\": 0.12568478055538065, \"k/sum_c\": 0.4380074610489357, \"k*k_orig/k_worst\": 3362.319249417543, \"k/(k_worst-k_orig)\": 0.2866306064812599}, {\"Method\": \"Hillside(Colley Params)\", \"Year\": \"2002\", \"k\": 6492.0, \"k_orig\": 26752.0, \"sum_c\": 14779.0, \"k_worst\": 47643.0, \"top_n\": 26, \"k/k_orig\": 0.24267344497607657, \"k/k_worst\": 0.1362634594798816, \"k/sum_c\": 0.4392719399147439, \"k*k_orig/k_worst\": 3645.320068005793, \"k/(k_worst-k_orig)\": 0.3107558278684601}, {\"Method\": \"Hillside(Colley Params)\", \"Year\": \"2002\", \"k\": 7075.0, \"k_orig\": 26752.0, \"sum_c\": 16051.0, \"k_worst\": 47643.0, \"top_n\": 27, \"k/k_orig\": 0.2644662081339713, \"k/k_worst\": 0.1485003043469135, \"k/sum_c\": 0.4407825057628808, \"k*k_orig/k_worst\": 3972.68014188863, \"k/(k_worst-k_orig)\": 0.33866258197309845}, {\"Method\": \"Hillside(Colley Params)\", \"Year\": \"2002\", \"k\": 7601.0, \"k_orig\": 26752.0, \"sum_c\": 17341.0, \"k_worst\": 47643.0, \"top_n\": 28, \"k/k_orig\": 0.28412828947368424, \"k/k_worst\": 0.15954075100224588, \"k/sum_c\": 0.43832535609249756, \"k*k_orig/k_worst\": 4268.034170812081, \"k/(k_worst-k_orig)\": 0.3638408884208511}, {\"Method\": \"Hillside(Colley Params)\", \"Year\": \"2002\", \"k\": 8184.0, \"k_orig\": 26752.0, \"sum_c\": 18796.0, \"k_worst\": 47643.0, \"top_n\": 29, \"k/k_orig\": 0.3059210526315789, \"k/k_worst\": 0.17177759586927777, \"k/sum_c\": 0.4354117897424984, \"k*k_orig/k_worst\": 4595.394244694919, \"k/(k_worst-k_orig)\": 0.39174764252548944}, {\"Method\": \"Hillside(Massey Params)\", \"Year\": \"2002\", \"k\": 14.0, \"k_orig\": 26752.0, \"sum_c\": 44.0, \"k_worst\": 47643.0, \"top_n\": 2, \"k/k_orig\": 0.0005233253588516747, \"k/k_worst\": 0.00029385219234724934, \"k/sum_c\": 0.3181818181818182, \"k*k_orig/k_worst\": 7.861133849673614, \"k/(k_worst-k_orig)\": 0.0006701450385333397}, {\"Method\": \"Hillside(Massey Params)\", \"Year\": \"2002\", \"k\": 58.0, \"k_orig\": 26752.0, \"sum_c\": 137.0, \"k_worst\": 47643.0, \"top_n\": 3, \"k/k_orig\": 0.002168062200956938, \"k/k_worst\": 0.0012173876540100329, \"k/sum_c\": 0.4233576642335766, \"k*k_orig/k_worst\": 32.5675545200764, \"k/(k_worst-k_orig)\": 0.002776315159638122}, {\"Method\": \"Hillside(Massey Params)\", \"Year\": \"2002\", \"k\": 106.0, \"k_orig\": 26752.0, \"sum_c\": 248.0, \"k_worst\": 47643.0, \"top_n\": 4, \"k/k_orig\": 0.003962320574162679, \"k/k_worst\": 0.0022248808849148877, \"k/sum_c\": 0.4274193548387097, \"k*k_orig/k_worst\": 59.52001343324308, \"k/(k_worst-k_orig)\": 0.005073955291752429}, {\"Method\": \"Hillside(Massey Params)\", \"Year\": \"2002\", \"k\": 176.0, \"k_orig\": 26752.0, \"sum_c\": 415.0, \"k_worst\": 47643.0, \"top_n\": 5, \"k/k_orig\": 0.006578947368421052, \"k/k_worst\": 0.0036941418466511344, \"k/sum_c\": 0.42409638554216866, \"k*k_orig/k_worst\": 98.82568268161116, \"k/(k_worst-k_orig)\": 0.008424680484419128}, {\"Method\": \"Hillside(Massey Params)\", \"Year\": \"2002\", \"k\": 271.0, \"k_orig\": 26752.0, \"sum_c\": 623.0, \"k_worst\": 47643.0, \"top_n\": 6, \"k/k_orig\": 0.010130083732057416, \"k/k_worst\": 0.0056881388661503265, \"k/sum_c\": 0.434991974317817, \"k*k_orig/k_worst\": 152.16909094725352, \"k/(k_worst-k_orig)\": 0.012972093245895362}, {\"Method\": \"Hillside(Massey Params)\", \"Year\": \"2002\", \"k\": 377.0, \"k_orig\": 26752.0, \"sum_c\": 870.0, \"k_worst\": 47643.0, \"top_n\": 7, \"k/k_orig\": 0.014092404306220096, \"k/k_worst\": 0.007913019751065214, \"k/sum_c\": 0.43333333333333335, \"k*k_orig/k_worst\": 211.68910438049662, \"k/(k_worst-k_orig)\": 0.01804604853764779}, {\"Method\": \"Hillside(Massey Params)\", \"Year\": \"2002\", \"k\": 517.0, \"k_orig\": 26752.0, \"sum_c\": 1188.0, \"k_worst\": 47643.0, \"top_n\": 8, \"k/k_orig\": 0.019325657894736843, \"k/k_worst\": 0.010851541674537708, \"k/sum_c\": 0.4351851851851852, \"k*k_orig/k_worst\": 290.30044287723274, \"k/(k_worst-k_orig)\": 0.024747498922981188}, {\"Method\": \"Hillside(Massey Params)\", \"Year\": \"2002\", \"k\": 655.0, \"k_orig\": 26752.0, \"sum_c\": 1509.0, \"k_worst\": 47643.0, \"top_n\": 9, \"k/k_orig\": 0.024484150717703348, \"k/k_worst\": 0.013748084713389164, \"k/sum_c\": 0.4340622929092114, \"k*k_orig/k_worst\": 367.78876225258693, \"k/(k_worst-k_orig)\": 0.03135321430280982}, {\"Method\": \"Hillside(Massey Params)\", \"Year\": \"2002\", \"k\": 839.0, \"k_orig\": 26752.0, \"sum_c\": 1930.0, \"k_worst\": 47643.0, \"top_n\": 10, \"k/k_orig\": 0.03136214114832536, \"k/k_worst\": 0.01761014209852444, \"k/sum_c\": 0.4347150259067358, \"k*k_orig/k_worst\": 471.1065214197259, \"k/(k_worst-k_orig)\": 0.040160834809248}, {\"Method\": \"Hillside(Massey Params)\", \"Year\": \"2002\", \"k\": 1041.0, \"k_orig\": 26752.0, \"sum_c\": 2409.0, \"k_worst\": 47643.0, \"top_n\": 11, \"k/k_orig\": 0.038912978468899524, \"k/k_worst\": 0.02185000944524904, \"k/sum_c\": 0.43212951432129515, \"k*k_orig/k_worst\": 584.5314526793023, \"k/(k_worst-k_orig)\": 0.049830070365229046}, {\"Method\": \"Hillside(Massey Params)\", \"Year\": \"2002\", \"k\": 1244.0, \"k_orig\": 26752.0, \"sum_c\": 2889.0, \"k_worst\": 47643.0, \"top_n\": 12, \"k/k_orig\": 0.04650119617224881, \"k/k_worst\": 0.026110866234284155, \"k/sum_c\": 0.4305988231221876, \"k*k_orig/k_worst\": 698.5178934995697, \"k/(k_worst-k_orig)\": 0.05954717342396247}, {\"Method\": \"Hillside(Massey Params)\", \"Year\": \"2002\", \"k\": 1496.0, \"k_orig\": 26752.0, \"sum_c\": 3487.0, \"k_worst\": 47643.0, \"top_n\": 13, \"k/k_orig\": 0.05592105263157895, \"k/k_worst\": 0.03140020569653464, \"k/sum_c\": 0.42902208201892744, \"k*k_orig/k_worst\": 840.0183027936947, \"k/(k_worst-k_orig)\": 0.07160978411756258}, {\"Method\": \"Hillside(Massey Params)\", \"Year\": \"2002\", \"k\": 1767.0, \"k_orig\": 26752.0, \"sum_c\": 4082.0, \"k_worst\": 47643.0, \"top_n\": 14, \"k/k_orig\": 0.06605113636363637, \"k/k_worst\": 0.03708834456268497, \"k/sum_c\": 0.4328760411562959, \"k*k_orig/k_worst\": 992.1873937409483, \"k/(k_worst-k_orig)\": 0.08458187736345794}, {\"Method\": \"Hillside(Massey Params)\", \"Year\": \"2002\", \"k\": 2050.0, \"k_orig\": 26752.0, \"sum_c\": 4740.0, \"k_worst\": 47643.0, \"top_n\": 15, \"k/k_orig\": 0.07662978468899521, \"k/k_worst\": 0.04302835673656151, \"k/sum_c\": 0.43248945147679324, \"k*k_orig/k_worst\": 1151.0945994164936, \"k/(k_worst-k_orig)\": 0.09812838064238188}, {\"Method\": \"Hillside(Massey Params)\", \"Year\": \"2002\", \"k\": 2339.0, \"k_orig\": 26752.0, \"sum_c\": 5424.0, \"k_worst\": 47643.0, \"top_n\": 16, \"k/k_orig\": 0.08743271531100479, \"k/k_worst\": 0.04909430556430116, \"k/sum_c\": 0.4312315634218289, \"k*k_orig/k_worst\": 1313.3708624561846, \"k/(k_worst-k_orig)\": 0.11196208893782011}, {\"Method\": \"Hillside(Massey Params)\", \"Year\": \"2002\", \"k\": 2723.0, \"k_orig\": 26752.0, \"sum_c\": 6279.0, \"k_worst\": 47643.0, \"top_n\": 17, \"k/k_orig\": 0.10178678229665072, \"k/k_worst\": 0.05715425141153999, \"k/sum_c\": 0.4336677814938685, \"k*k_orig/k_worst\": 1528.990533761518, \"k/(k_worst-k_orig)\": 0.1303432099947346}, {\"Method\": \"Hillside(Massey Params)\", \"Year\": \"2002\", \"k\": 3130.0, \"k_orig\": 26752.0, \"sum_c\": 7273.0, \"k_worst\": 47643.0, \"top_n\": 18, \"k/k_orig\": 0.1170005980861244, \"k/k_worst\": 0.06569695443192074, \"k/sum_c\": 0.43035886154269215, \"k*k_orig/k_worst\": 1757.5249249627439, \"k/(k_worst-k_orig)\": 0.1498252836149538}, {\"Method\": \"Hillside(Massey Params)\", \"Year\": \"2002\", \"k\": 3578.0, \"k_orig\": 26752.0, \"sum_c\": 8302.0, \"k_worst\": 47643.0, \"top_n\": 19, \"k/k_orig\": 0.133747009569378, \"k/k_worst\": 0.07510022458703272, \"k/sum_c\": 0.43098048662972777, \"k*k_orig/k_worst\": 2009.0812081522995, \"k/(k_worst-k_orig)\": 0.17126992484802067}, {\"Method\": \"Hillside(Massey Params)\", \"Year\": \"2002\", \"k\": 3907.0, \"k_orig\": 26752.0, \"sum_c\": 9038.0, \"k_worst\": 47643.0, \"top_n\": 20, \"k/k_orig\": 0.14604515550239233, \"k/k_worst\": 0.08200575110719308, \"k/sum_c\": 0.4322859039610533, \"k*k_orig/k_worst\": 2193.817853619629, \"k/(k_worst-k_orig)\": 0.18701833325355416}, {\"Method\": \"Hillside(Massey Params)\", \"Year\": \"2002\", \"k\": 4303.0, \"k_orig\": 26752.0, \"sum_c\": 9912.0, \"k_worst\": 47643.0, \"top_n\": 21, \"k/k_orig\": 0.1608477870813397, \"k/k_worst\": 0.09031757026215813, \"k/sum_c\": 0.43412025827280065, \"k*k_orig/k_worst\": 2416.1756396532546, \"k/(k_worst-k_orig)\": 0.2059738643434972}, {\"Method\": \"Hillside(Massey Params)\", \"Year\": \"2002\", \"k\": 4681.0, \"k_orig\": 26752.0, \"sum_c\": 10745.0, \"k_worst\": 47643.0, \"top_n\": 22, \"k/k_orig\": 0.17497757177033493, \"k/k_worst\": 0.09825157945553387, \"k/sum_c\": 0.43564448580735227, \"k*k_orig/k_worst\": 2628.426253594442, \"k/(k_worst-k_orig)\": 0.22406778038389738}, {\"Method\": \"Hillside(Massey Params)\", \"Year\": \"2002\", \"k\": 5034.0, \"k_orig\": 26752.0, \"sum_c\": 11532.0, \"k_worst\": 47643.0, \"top_n\": 23, \"k/k_orig\": 0.18817284688995214, \"k/k_worst\": 0.10566085259114666, \"k/sum_c\": 0.43652445369406867, \"k*k_orig/k_worst\": 2826.6391285183554, \"k/(k_worst-k_orig)\": 0.24096500885548802}, {\"Method\": \"Hillside(Massey Params)\", \"Year\": \"2002\", \"k\": 5556.0, \"k_orig\": 26752.0, \"sum_c\": 12676.0, \"k_worst\": 47643.0, \"top_n\": 24, \"k/k_orig\": 0.20768540669856458, \"k/k_worst\": 0.11661734147723694, \"k/sum_c\": 0.43830861470495425, \"k*k_orig/k_worst\": 3119.747119199043, \"k/(k_worst-k_orig)\": 0.2659518452922311}, {\"Method\": \"Hillside(Massey Params)\", \"Year\": \"2002\", \"k\": 5988.0, \"k_orig\": 26752.0, \"sum_c\": 13671.0, \"k_worst\": 47643.0, \"top_n\": 25, \"k/k_orig\": 0.22383373205741627, \"k/k_worst\": 0.12568478055538065, \"k/sum_c\": 0.4380074610489357, \"k*k_orig/k_worst\": 3362.319249417543, \"k/(k_worst-k_orig)\": 0.2866306064812599}, {\"Method\": \"Hillside(Massey Params)\", \"Year\": \"2002\", \"k\": 6492.0, \"k_orig\": 26752.0, \"sum_c\": 14779.0, \"k_worst\": 47643.0, \"top_n\": 26, \"k/k_orig\": 0.24267344497607657, \"k/k_worst\": 0.1362634594798816, \"k/sum_c\": 0.4392719399147439, \"k*k_orig/k_worst\": 3645.320068005793, \"k/(k_worst-k_orig)\": 0.3107558278684601}, {\"Method\": \"Hillside(Massey Params)\", \"Year\": \"2002\", \"k\": 7075.0, \"k_orig\": 26752.0, \"sum_c\": 16051.0, \"k_worst\": 47643.0, \"top_n\": 27, \"k/k_orig\": 0.2644662081339713, \"k/k_worst\": 0.1485003043469135, \"k/sum_c\": 0.4407825057628808, \"k*k_orig/k_worst\": 3972.68014188863, \"k/(k_worst-k_orig)\": 0.33866258197309845}, {\"Method\": \"Hillside(Massey Params)\", \"Year\": \"2002\", \"k\": 7601.0, \"k_orig\": 26752.0, \"sum_c\": 17341.0, \"k_worst\": 47643.0, \"top_n\": 28, \"k/k_orig\": 0.28412828947368424, \"k/k_worst\": 0.15954075100224588, \"k/sum_c\": 0.43832535609249756, \"k*k_orig/k_worst\": 4268.034170812081, \"k/(k_worst-k_orig)\": 0.3638408884208511}, {\"Method\": \"Hillside(Massey Params)\", \"Year\": \"2002\", \"k\": 8184.0, \"k_orig\": 26752.0, \"sum_c\": 18796.0, \"k_worst\": 47643.0, \"top_n\": 29, \"k/k_orig\": 0.3059210526315789, \"k/k_worst\": 0.17177759586927777, \"k/sum_c\": 0.4354117897424984, \"k*k_orig/k_worst\": 4595.394244694919, \"k/(k_worst-k_orig)\": 0.39174764252548944}, {\"Method\": \"Hillside(Colley Params)\", \"Year\": \"2003\", \"k\": 9.0, \"k_orig\": 22805.0, \"sum_c\": 23.0, \"k_worst\": 40791.0, \"top_n\": 2, \"k/k_orig\": 0.000394650295987722, \"k/k_worst\": 0.0002206369051996764, \"k/sum_c\": 0.391304347826087, \"k*k_orig/k_worst\": 5.031624623078621, \"k/(k_worst-k_orig)\": 0.0005003891915934615}, {\"Method\": \"Hillside(Colley Params)\", \"Year\": \"2003\", \"k\": 31.0, \"k_orig\": 22805.0, \"sum_c\": 72.0, \"k_worst\": 40791.0, \"top_n\": 3, \"k/k_orig\": 0.0013593510195132647, \"k/k_worst\": 0.0007599715623544409, \"k/sum_c\": 0.4305555555555556, \"k*k_orig/k_worst\": 17.331151479493027, \"k/(k_worst-k_orig)\": 0.0017235627710441455}, {\"Method\": \"Hillside(Colley Params)\", \"Year\": \"2003\", \"k\": 90.0, \"k_orig\": 22805.0, \"sum_c\": 200.0, \"k_worst\": 40791.0, \"top_n\": 4, \"k/k_orig\": 0.0039465029598772195, \"k/k_worst\": 0.002206369051996764, \"k/sum_c\": 0.45, \"k*k_orig/k_worst\": 50.316246230786206, \"k/(k_worst-k_orig)\": 0.005003891915934616}, {\"Method\": \"Hillside(Colley Params)\", \"Year\": \"2003\", \"k\": 150.0, \"k_orig\": 22805.0, \"sum_c\": 346.0, \"k_worst\": 40791.0, \"top_n\": 5, \"k/k_orig\": 0.0065775049331287, \"k/k_worst\": 0.00367728175332794, \"k/sum_c\": 0.43352601156069365, \"k*k_orig/k_worst\": 83.86041038464367, \"k/(k_worst-k_orig)\": 0.008339819859891026}, {\"Method\": \"Hillside(Colley Params)\", \"Year\": \"2003\", \"k\": 244.0, \"k_orig\": 22805.0, \"sum_c\": 539.0, \"k_worst\": 40791.0, \"top_n\": 6, \"k/k_orig\": 0.01069940802455602, \"k/k_worst\": 0.005981711652080115, \"k/sum_c\": 0.45269016697588127, \"k*k_orig/k_worst\": 136.41293422568705, \"k/(k_worst-k_orig)\": 0.013566106972089403}, {\"Method\": \"Hillside(Colley Params)\", \"Year\": \"2003\", \"k\": 344.0, \"k_orig\": 22805.0, \"sum_c\": 784.0, \"k_worst\": 40791.0, \"top_n\": 7, \"k/k_orig\": 0.015084411313308486, \"k/k_worst\": 0.008433232820965409, \"k/sum_c\": 0.4387755102040816, \"k*k_orig/k_worst\": 192.31987448211615, \"k/(k_worst-k_orig)\": 0.01912598687868342}, {\"Method\": \"Hillside(Colley Params)\", \"Year\": \"2003\", \"k\": 423.0, \"k_orig\": 22805.0, \"sum_c\": 989.0, \"k_worst\": 40791.0, \"top_n\": 8, \"k/k_orig\": 0.018548563911422934, \"k/k_worst\": 0.010369934544384792, \"k/sum_c\": 0.4277047522750253, \"k*k_orig/k_worst\": 236.48635728469515, \"k/(k_worst-k_orig)\": 0.023518292004892694}, {\"Method\": \"Hillside(Colley Params)\", \"Year\": \"2003\", \"k\": 572.0, \"k_orig\": 22805.0, \"sum_c\": 1311.0, \"k_worst\": 40791.0, \"top_n\": 9, \"k/k_orig\": 0.025082218811664107, \"k/k_worst\": 0.014022701086023878, \"k/sum_c\": 0.43630816170861936, \"k*k_orig/k_worst\": 319.78769826677456, \"k/(k_worst-k_orig)\": 0.03180251306571778}, {\"Method\": \"Hillside(Colley Params)\", \"Year\": \"2003\", \"k\": 724.0, \"k_orig\": 22805.0, \"sum_c\": 1682.0, \"k_worst\": 40791.0, \"top_n\": 10, \"k/k_orig\": 0.03174742381056786, \"k/k_worst\": 0.017749013262729523, \"k/sum_c\": 0.4304399524375743, \"k*k_orig/k_worst\": 404.7662474565468, \"k/(k_worst-k_orig)\": 0.040253530523740685}, {\"Method\": \"Hillside(Colley Params)\", \"Year\": \"2003\", \"k\": 904.0, \"k_orig\": 22805.0, \"sum_c\": 2081.0, \"k_worst\": 40791.0, \"top_n\": 11, \"k/k_orig\": 0.0396404297303223, \"k/k_worst\": 0.02216175136672305, \"k/sum_c\": 0.4344065353195579, \"k*k_orig/k_worst\": 505.3987399181192, \"k/(k_worst-k_orig)\": 0.05026131435560992}, {\"Method\": \"Hillside(Colley Params)\", \"Year\": \"2003\", \"k\": 1098.0, \"k_orig\": 22805.0, \"sum_c\": 2546.0, \"k_worst\": 40791.0, \"top_n\": 12, \"k/k_orig\": 0.048147336110502086, \"k/k_worst\": 0.02691770243436052, \"k/sum_c\": 0.4312647289866457, \"k*k_orig/k_worst\": 613.8582040155917, \"k/(k_worst-k_orig)\": 0.061047481374402315}, {\"Method\": \"Hillside(Colley Params)\", \"Year\": \"2003\", \"k\": 1313.0, \"k_orig\": 22805.0, \"sum_c\": 3055.0, \"k_worst\": 40791.0, \"top_n\": 13, \"k/k_orig\": 0.057575093181319884, \"k/k_worst\": 0.0321884729474639, \"k/sum_c\": 0.4297872340425532, \"k*k_orig/k_worst\": 734.0581255669142, \"k/(k_worst-k_orig)\": 0.07300122317357945}, {\"Method\": \"Hillside(Colley Params)\", \"Year\": \"2003\", \"k\": 1561.0, \"k_orig\": 22805.0, \"sum_c\": 3618.0, \"k_worst\": 40791.0, \"top_n\": 14, \"k/k_orig\": 0.068449901337426, \"k/k_worst\": 0.03826824544629943, \"k/sum_c\": 0.4314538419016031, \"k*k_orig/k_worst\": 872.7073374028585, \"k/(k_worst-k_orig)\": 0.08678972534193262}, {\"Method\": \"Hillside(Colley Params)\", \"Year\": \"2003\", \"k\": 1825.0, \"k_orig\": 22805.0, \"sum_c\": 4184.0, \"k_worst\": 40791.0, \"top_n\": 15, \"k/k_orig\": 0.08002631001973251, \"k/k_worst\": 0.044740261332156604, \"k/sum_c\": 0.43618546845124284, \"k*k_orig/k_worst\": 1020.3016596798313, \"k/(k_worst-k_orig)\": 0.10146780829534081}, {\"Method\": \"Hillside(Colley Params)\", \"Year\": \"2003\", \"k\": 2129.0, \"k_orig\": 22805.0, \"sum_c\": 4829.0, \"k_worst\": 40791.0, \"top_n\": 16, \"k/k_orig\": 0.09335672001754002, \"k/k_worst\": 0.052192885685567895, \"k/sum_c\": 0.4408780285773452, \"k*k_orig/k_worst\": 1190.2587580593759, \"k/(k_worst-k_orig)\": 0.11836984321138663}, {\"Method\": \"Hillside(Colley Params)\", \"Year\": \"2003\", \"k\": 2364.0, \"k_orig\": 22805.0, \"sum_c\": 5406.0, \"k_worst\": 40791.0, \"top_n\": 17, \"k/k_orig\": 0.10366147774610832, \"k/k_worst\": 0.05795396043244833, \"k/sum_c\": 0.43729189789123196, \"k*k_orig/k_worst\": 1321.6400676619842, \"k/(k_worst-k_orig)\": 0.13143556099188258}, {\"Method\": \"Hillside(Colley Params)\", \"Year\": \"2003\", \"k\": 2675.0, \"k_orig\": 22805.0, \"sum_c\": 6141.0, \"k_worst\": 40791.0, \"top_n\": 18, \"k/k_orig\": 0.11729883797412848, \"k/k_worst\": 0.0655781912676816, \"k/sum_c\": 0.43559680833740433, \"k*k_orig/k_worst\": 1495.510651859479, \"k/(k_worst-k_orig)\": 0.14872678750138996}, {\"Method\": \"Hillside(Colley Params)\", \"Year\": \"2003\", \"k\": 3042.0, \"k_orig\": 22805.0, \"sum_c\": 6943.0, \"k_worst\": 40791.0, \"top_n\": 19, \"k/k_orig\": 0.13339180004385004, \"k/k_worst\": 0.07457527395749063, \"k/sum_c\": 0.43813913293965145, \"k*k_orig/k_worst\": 1700.6891226005737, \"k/(k_worst-k_orig)\": 0.16913154675859002}, {\"Method\": \"Hillside(Colley Params)\", \"Year\": \"2003\", \"k\": 3324.0, \"k_orig\": 22805.0, \"sum_c\": 7598.0, \"k_worst\": 40791.0, \"top_n\": 20, \"k/k_orig\": 0.145757509318132, \"k/k_worst\": 0.08148856365374715, \"k/sum_c\": 0.4374835483021848, \"k*k_orig/k_worst\": 1858.3466941237039, \"k/(k_worst-k_orig)\": 0.18481040809518515}, {\"Method\": \"Hillside(Colley Params)\", \"Year\": \"2003\", \"k\": 3552.0, \"k_orig\": 22805.0, \"sum_c\": 8135.0, \"k_worst\": 40791.0, \"top_n\": 21, \"k/k_orig\": 0.1557553168164876, \"k/k_worst\": 0.08707803191880562, \"k/sum_c\": 0.4366318377381684, \"k*k_orig/k_worst\": 1985.8145179083622, \"k/(k_worst-k_orig)\": 0.1974869342822195}, {\"Method\": \"Hillside(Colley Params)\", \"Year\": \"2003\", \"k\": 3899.0, \"k_orig\": 22805.0, \"sum_c\": 8903.0, \"k_worst\": 40791.0, \"top_n\": 22, \"k/k_orig\": 0.17097127822845867, \"k/k_worst\": 0.09558481037483758, \"k/sum_c\": 0.43794226665169045, \"k*k_orig/k_worst\": 2179.811600598171, \"k/(k_worst-k_orig)\": 0.21677971755810074}, {\"Method\": \"Hillside(Colley Params)\", \"Year\": \"2003\", \"k\": 4257.0, \"k_orig\": 22805.0, \"sum_c\": 9789.0, \"k_worst\": 40791.0, \"top_n\": 23, \"k/k_orig\": 0.1866695900021925, \"k/k_worst\": 0.10436125615944694, \"k/sum_c\": 0.43487588109102054, \"k*k_orig/k_worst\": 2379.9584467161876, \"k/(k_worst-k_orig)\": 0.23668408762370732}, {\"Method\": \"Hillside(Colley Params)\", \"Year\": \"2003\", \"k\": 4621.0, \"k_orig\": 22805.0, \"sum_c\": 10679.0, \"k_worst\": 40791.0, \"top_n\": 24, \"k/k_orig\": 0.20263100197325148, \"k/k_worst\": 0.11328479321418941, \"k/sum_c\": 0.4327184193276524, \"k*k_orig/k_worst\": 2583.459709249589, \"k/(k_worst-k_orig)\": 0.25692205048370953}, {\"Method\": \"Hillside(Colley Params)\", \"Year\": \"2003\", \"k\": 5024.0, \"k_orig\": 22805.0, \"sum_c\": 11635.0, \"k_worst\": 40791.0, \"top_n\": 25, \"k/k_orig\": 0.22030256522692393, \"k/k_worst\": 0.12316442352479713, \"k/sum_c\": 0.4318006016330039, \"k*k_orig/k_worst\": 2808.7646784829985, \"k/(k_worst-k_orig)\": 0.27932836650728343}, {\"Method\": \"Hillside(Colley Params)\", \"Year\": \"2003\", \"k\": 5415.0, \"k_orig\": 22805.0, \"sum_c\": 12550.0, \"k_worst\": 40791.0, \"top_n\": 26, \"k/k_orig\": 0.23744792808594606, \"k/k_worst\": 0.13274987129513863, \"k/sum_c\": 0.43147410358565735, \"k*k_orig/k_worst\": 3027.3608148856365, \"k/(k_worst-k_orig)\": 0.301067496942066}, {\"Method\": \"Hillside(Colley Params)\", \"Year\": \"2003\", \"k\": 5814.0, \"k_orig\": 22805.0, \"sum_c\": 13490.0, \"k_worst\": 40791.0, \"top_n\": 27, \"k/k_orig\": 0.2549440912080684, \"k/k_worst\": 0.14253144075899096, \"k/sum_c\": 0.4309859154929577, \"k*k_orig/k_worst\": 3250.4295065087886, \"k/(k_worst-k_orig)\": 0.32325141776937616}, {\"Method\": \"Hillside(Colley Params)\", \"Year\": \"2003\", \"k\": 6239.0, \"k_orig\": 22805.0, \"sum_c\": 14577.0, \"k_worst\": 40791.0, \"top_n\": 28, \"k/k_orig\": 0.2735803551852664, \"k/k_worst\": 0.15295040572675345, \"k/sum_c\": 0.42800301845372846, \"k*k_orig/k_worst\": 3488.0340025986125, \"k/(k_worst-k_orig)\": 0.34688090737240074}, {\"Method\": \"Hillside(Colley Params)\", \"Year\": \"2003\", \"k\": 6752.0, \"k_orig\": 22805.0, \"sum_c\": 15844.0, \"k_worst\": 40791.0, \"top_n\": 29, \"k/k_orig\": 0.29607542205656656, \"k/k_worst\": 0.165526709323135, \"k/sum_c\": 0.4261550113607675, \"k*k_orig/k_worst\": 3774.8366061140937, \"k/(k_worst-k_orig)\": 0.3754030912932281}, {\"Method\": \"Hillside(Massey Params)\", \"Year\": \"2003\", \"k\": 9.0, \"k_orig\": 22805.0, \"sum_c\": 23.0, \"k_worst\": 40791.0, \"top_n\": 2, \"k/k_orig\": 0.000394650295987722, \"k/k_worst\": 0.0002206369051996764, \"k/sum_c\": 0.391304347826087, \"k*k_orig/k_worst\": 5.031624623078621, \"k/(k_worst-k_orig)\": 0.0005003891915934615}, {\"Method\": \"Hillside(Massey Params)\", \"Year\": \"2003\", \"k\": 31.0, \"k_orig\": 22805.0, \"sum_c\": 72.0, \"k_worst\": 40791.0, \"top_n\": 3, \"k/k_orig\": 0.0013593510195132647, \"k/k_worst\": 0.0007599715623544409, \"k/sum_c\": 0.4305555555555556, \"k*k_orig/k_worst\": 17.331151479493027, \"k/(k_worst-k_orig)\": 0.0017235627710441455}, {\"Method\": \"Hillside(Massey Params)\", \"Year\": \"2003\", \"k\": 90.0, \"k_orig\": 22805.0, \"sum_c\": 200.0, \"k_worst\": 40791.0, \"top_n\": 4, \"k/k_orig\": 0.0039465029598772195, \"k/k_worst\": 0.002206369051996764, \"k/sum_c\": 0.45, \"k*k_orig/k_worst\": 50.316246230786206, \"k/(k_worst-k_orig)\": 0.005003891915934616}, {\"Method\": \"Hillside(Massey Params)\", \"Year\": \"2003\", \"k\": 150.0, \"k_orig\": 22805.0, \"sum_c\": 346.0, \"k_worst\": 40791.0, \"top_n\": 5, \"k/k_orig\": 0.0065775049331287, \"k/k_worst\": 0.00367728175332794, \"k/sum_c\": 0.43352601156069365, \"k*k_orig/k_worst\": 83.86041038464367, \"k/(k_worst-k_orig)\": 0.008339819859891026}, {\"Method\": \"Hillside(Massey Params)\", \"Year\": \"2003\", \"k\": 244.0, \"k_orig\": 22805.0, \"sum_c\": 539.0, \"k_worst\": 40791.0, \"top_n\": 6, \"k/k_orig\": 0.01069940802455602, \"k/k_worst\": 0.005981711652080115, \"k/sum_c\": 0.45269016697588127, \"k*k_orig/k_worst\": 136.41293422568705, \"k/(k_worst-k_orig)\": 0.013566106972089403}, {\"Method\": \"Hillside(Massey Params)\", \"Year\": \"2003\", \"k\": 344.0, \"k_orig\": 22805.0, \"sum_c\": 784.0, \"k_worst\": 40791.0, \"top_n\": 7, \"k/k_orig\": 0.015084411313308486, \"k/k_worst\": 0.008433232820965409, \"k/sum_c\": 0.4387755102040816, \"k*k_orig/k_worst\": 192.31987448211615, \"k/(k_worst-k_orig)\": 0.01912598687868342}, {\"Method\": \"Hillside(Massey Params)\", \"Year\": \"2003\", \"k\": 423.0, \"k_orig\": 22805.0, \"sum_c\": 989.0, \"k_worst\": 40791.0, \"top_n\": 8, \"k/k_orig\": 0.018548563911422934, \"k/k_worst\": 0.010369934544384792, \"k/sum_c\": 0.4277047522750253, \"k*k_orig/k_worst\": 236.48635728469515, \"k/(k_worst-k_orig)\": 0.023518292004892694}, {\"Method\": \"Hillside(Massey Params)\", \"Year\": \"2003\", \"k\": 572.0, \"k_orig\": 22805.0, \"sum_c\": 1311.0, \"k_worst\": 40791.0, \"top_n\": 9, \"k/k_orig\": 0.025082218811664107, \"k/k_worst\": 0.014022701086023878, \"k/sum_c\": 0.43630816170861936, \"k*k_orig/k_worst\": 319.78769826677456, \"k/(k_worst-k_orig)\": 0.03180251306571778}, {\"Method\": \"Hillside(Massey Params)\", \"Year\": \"2003\", \"k\": 724.0, \"k_orig\": 22805.0, \"sum_c\": 1682.0, \"k_worst\": 40791.0, \"top_n\": 10, \"k/k_orig\": 0.03174742381056786, \"k/k_worst\": 0.017749013262729523, \"k/sum_c\": 0.4304399524375743, \"k*k_orig/k_worst\": 404.7662474565468, \"k/(k_worst-k_orig)\": 0.040253530523740685}, {\"Method\": \"Hillside(Massey Params)\", \"Year\": \"2003\", \"k\": 904.0, \"k_orig\": 22805.0, \"sum_c\": 2081.0, \"k_worst\": 40791.0, \"top_n\": 11, \"k/k_orig\": 0.0396404297303223, \"k/k_worst\": 0.02216175136672305, \"k/sum_c\": 0.4344065353195579, \"k*k_orig/k_worst\": 505.3987399181192, \"k/(k_worst-k_orig)\": 0.05026131435560992}, {\"Method\": \"Hillside(Massey Params)\", \"Year\": \"2003\", \"k\": 1098.0, \"k_orig\": 22805.0, \"sum_c\": 2546.0, \"k_worst\": 40791.0, \"top_n\": 12, \"k/k_orig\": 0.048147336110502086, \"k/k_worst\": 0.02691770243436052, \"k/sum_c\": 0.4312647289866457, \"k*k_orig/k_worst\": 613.8582040155917, \"k/(k_worst-k_orig)\": 0.061047481374402315}, {\"Method\": \"Hillside(Massey Params)\", \"Year\": \"2003\", \"k\": 1313.0, \"k_orig\": 22805.0, \"sum_c\": 3055.0, \"k_worst\": 40791.0, \"top_n\": 13, \"k/k_orig\": 0.057575093181319884, \"k/k_worst\": 0.0321884729474639, \"k/sum_c\": 0.4297872340425532, \"k*k_orig/k_worst\": 734.0581255669142, \"k/(k_worst-k_orig)\": 0.07300122317357945}, {\"Method\": \"Hillside(Massey Params)\", \"Year\": \"2003\", \"k\": 1561.0, \"k_orig\": 22805.0, \"sum_c\": 3618.0, \"k_worst\": 40791.0, \"top_n\": 14, \"k/k_orig\": 0.068449901337426, \"k/k_worst\": 0.03826824544629943, \"k/sum_c\": 0.4314538419016031, \"k*k_orig/k_worst\": 872.7073374028585, \"k/(k_worst-k_orig)\": 0.08678972534193262}, {\"Method\": \"Hillside(Massey Params)\", \"Year\": \"2003\", \"k\": 1825.0, \"k_orig\": 22805.0, \"sum_c\": 4184.0, \"k_worst\": 40791.0, \"top_n\": 15, \"k/k_orig\": 0.08002631001973251, \"k/k_worst\": 0.044740261332156604, \"k/sum_c\": 0.43618546845124284, \"k*k_orig/k_worst\": 1020.3016596798313, \"k/(k_worst-k_orig)\": 0.10146780829534081}, {\"Method\": \"Hillside(Massey Params)\", \"Year\": \"2003\", \"k\": 2129.0, \"k_orig\": 22805.0, \"sum_c\": 4829.0, \"k_worst\": 40791.0, \"top_n\": 16, \"k/k_orig\": 0.09335672001754002, \"k/k_worst\": 0.052192885685567895, \"k/sum_c\": 0.4408780285773452, \"k*k_orig/k_worst\": 1190.2587580593759, \"k/(k_worst-k_orig)\": 0.11836984321138663}, {\"Method\": \"Hillside(Massey Params)\", \"Year\": \"2003\", \"k\": 2364.0, \"k_orig\": 22805.0, \"sum_c\": 5406.0, \"k_worst\": 40791.0, \"top_n\": 17, \"k/k_orig\": 0.10366147774610832, \"k/k_worst\": 0.05795396043244833, \"k/sum_c\": 0.43729189789123196, \"k*k_orig/k_worst\": 1321.6400676619842, \"k/(k_worst-k_orig)\": 0.13143556099188258}, {\"Method\": \"Hillside(Massey Params)\", \"Year\": \"2003\", \"k\": 2675.0, \"k_orig\": 22805.0, \"sum_c\": 6141.0, \"k_worst\": 40791.0, \"top_n\": 18, \"k/k_orig\": 0.11729883797412848, \"k/k_worst\": 0.0655781912676816, \"k/sum_c\": 0.43559680833740433, \"k*k_orig/k_worst\": 1495.510651859479, \"k/(k_worst-k_orig)\": 0.14872678750138996}, {\"Method\": \"Hillside(Massey Params)\", \"Year\": \"2003\", \"k\": 3042.0, \"k_orig\": 22805.0, \"sum_c\": 6943.0, \"k_worst\": 40791.0, \"top_n\": 19, \"k/k_orig\": 0.13339180004385004, \"k/k_worst\": 0.07457527395749063, \"k/sum_c\": 0.43813913293965145, \"k*k_orig/k_worst\": 1700.6891226005737, \"k/(k_worst-k_orig)\": 0.16913154675859002}, {\"Method\": \"Hillside(Massey Params)\", \"Year\": \"2003\", \"k\": 3324.0, \"k_orig\": 22805.0, \"sum_c\": 7598.0, \"k_worst\": 40791.0, \"top_n\": 20, \"k/k_orig\": 0.145757509318132, \"k/k_worst\": 0.08148856365374715, \"k/sum_c\": 0.4374835483021848, \"k*k_orig/k_worst\": 1858.3466941237039, \"k/(k_worst-k_orig)\": 0.18481040809518515}, {\"Method\": \"Hillside(Massey Params)\", \"Year\": \"2003\", \"k\": 3552.0, \"k_orig\": 22805.0, \"sum_c\": 8135.0, \"k_worst\": 40791.0, \"top_n\": 21, \"k/k_orig\": 0.1557553168164876, \"k/k_worst\": 0.08707803191880562, \"k/sum_c\": 0.4366318377381684, \"k*k_orig/k_worst\": 1985.8145179083622, \"k/(k_worst-k_orig)\": 0.1974869342822195}, {\"Method\": \"Hillside(Massey Params)\", \"Year\": \"2003\", \"k\": 3899.0, \"k_orig\": 22805.0, \"sum_c\": 8903.0, \"k_worst\": 40791.0, \"top_n\": 22, \"k/k_orig\": 0.17097127822845867, \"k/k_worst\": 0.09558481037483758, \"k/sum_c\": 0.43794226665169045, \"k*k_orig/k_worst\": 2179.811600598171, \"k/(k_worst-k_orig)\": 0.21677971755810074}, {\"Method\": \"Hillside(Massey Params)\", \"Year\": \"2003\", \"k\": 4257.0, \"k_orig\": 22805.0, \"sum_c\": 9789.0, \"k_worst\": 40791.0, \"top_n\": 23, \"k/k_orig\": 0.1866695900021925, \"k/k_worst\": 0.10436125615944694, \"k/sum_c\": 0.43487588109102054, \"k*k_orig/k_worst\": 2379.9584467161876, \"k/(k_worst-k_orig)\": 0.23668408762370732}, {\"Method\": \"Hillside(Massey Params)\", \"Year\": \"2003\", \"k\": 4621.0, \"k_orig\": 22805.0, \"sum_c\": 10679.0, \"k_worst\": 40791.0, \"top_n\": 24, \"k/k_orig\": 0.20263100197325148, \"k/k_worst\": 0.11328479321418941, \"k/sum_c\": 0.4327184193276524, \"k*k_orig/k_worst\": 2583.459709249589, \"k/(k_worst-k_orig)\": 0.25692205048370953}, {\"Method\": \"Hillside(Massey Params)\", \"Year\": \"2003\", \"k\": 5024.0, \"k_orig\": 22805.0, \"sum_c\": 11635.0, \"k_worst\": 40791.0, \"top_n\": 25, \"k/k_orig\": 0.22030256522692393, \"k/k_worst\": 0.12316442352479713, \"k/sum_c\": 0.4318006016330039, \"k*k_orig/k_worst\": 2808.7646784829985, \"k/(k_worst-k_orig)\": 0.27932836650728343}, {\"Method\": \"Hillside(Massey Params)\", \"Year\": \"2003\", \"k\": 5415.0, \"k_orig\": 22805.0, \"sum_c\": 12550.0, \"k_worst\": 40791.0, \"top_n\": 26, \"k/k_orig\": 0.23744792808594606, \"k/k_worst\": 0.13274987129513863, \"k/sum_c\": 0.43147410358565735, \"k*k_orig/k_worst\": 3027.3608148856365, \"k/(k_worst-k_orig)\": 0.301067496942066}, {\"Method\": \"Hillside(Massey Params)\", \"Year\": \"2003\", \"k\": 5814.0, \"k_orig\": 22805.0, \"sum_c\": 13490.0, \"k_worst\": 40791.0, \"top_n\": 27, \"k/k_orig\": 0.2549440912080684, \"k/k_worst\": 0.14253144075899096, \"k/sum_c\": 0.4309859154929577, \"k*k_orig/k_worst\": 3250.4295065087886, \"k/(k_worst-k_orig)\": 0.32325141776937616}, {\"Method\": \"Hillside(Massey Params)\", \"Year\": \"2003\", \"k\": 6239.0, \"k_orig\": 22805.0, \"sum_c\": 14577.0, \"k_worst\": 40791.0, \"top_n\": 28, \"k/k_orig\": 0.2735803551852664, \"k/k_worst\": 0.15295040572675345, \"k/sum_c\": 0.42800301845372846, \"k*k_orig/k_worst\": 3488.0340025986125, \"k/(k_worst-k_orig)\": 0.34688090737240074}, {\"Method\": \"Hillside(Massey Params)\", \"Year\": \"2003\", \"k\": 6752.0, \"k_orig\": 22805.0, \"sum_c\": 15844.0, \"k_worst\": 40791.0, \"top_n\": 29, \"k/k_orig\": 0.29607542205656656, \"k/k_worst\": 0.165526709323135, \"k/sum_c\": 0.4261550113607675, \"k*k_orig/k_worst\": 3774.8366061140937, \"k/(k_worst-k_orig)\": 0.3754030912932281}, {\"Method\": \"Hillside(Colley Params)\", \"Year\": \"2004\", \"k\": 15.0, \"k_orig\": 21683.0, \"sum_c\": 38.0, \"k_worst\": 44307.0, \"top_n\": 2, \"k/k_orig\": 0.0006917861919476087, \"k/k_worst\": 0.0003385469564628614, \"k/sum_c\": 0.39473684210526316, \"k*k_orig/k_worst\": 7.3407136569842235, \"k/(k_worst-k_orig)\": 0.000663012729844413}, {\"Method\": \"Hillside(Colley Params)\", \"Year\": \"2004\", \"k\": 49.0, \"k_orig\": 21683.0, \"sum_c\": 112.0, \"k_worst\": 44307.0, \"top_n\": 3, \"k/k_orig\": 0.0022598348936955217, \"k/k_worst\": 0.0011059200577786805, \"k/sum_c\": 0.4375, \"k*k_orig/k_worst\": 23.97966461281513, \"k/(k_worst-k_orig)\": 0.002165841584158416}, {\"Method\": \"Hillside(Colley Params)\", \"Year\": \"2004\", \"k\": 83.0, \"k_orig\": 21683.0, \"sum_c\": 190.0, \"k_worst\": 44307.0, \"top_n\": 4, \"k/k_orig\": 0.003827883595443435, \"k/k_worst\": 0.0018732931590944998, \"k/sum_c\": 0.4368421052631579, \"k*k_orig/k_worst\": 40.618615568646035, \"k/(k_worst-k_orig)\": 0.0036686704384724187}, {\"Method\": \"Hillside(Colley Params)\", \"Year\": \"2004\", \"k\": 135.0, \"k_orig\": 21683.0, \"sum_c\": 308.0, \"k_worst\": 44307.0, \"top_n\": 5, \"k/k_orig\": 0.006226075727528479, \"k/k_worst\": 0.0030469226081657527, \"k/sum_c\": 0.4383116883116883, \"k*k_orig/k_worst\": 66.06642291285802, \"k/(k_worst-k_orig)\": 0.005967114568599717}, {\"Method\": \"Hillside(Colley Params)\", \"Year\": \"2004\", \"k\": 186.0, \"k_orig\": 21683.0, \"sum_c\": 418.0, \"k_worst\": 44307.0, \"top_n\": 6, \"k/k_orig\": 0.008578148780150348, \"k/k_worst\": 0.004197982260139481, \"k/sum_c\": 0.4449760765550239, \"k*k_orig/k_worst\": 91.02484934660437, \"k/(k_worst-k_orig)\": 0.00822135785007072}, {\"Method\": \"Hillside(Colley Params)\", \"Year\": \"2004\", \"k\": 295.0, \"k_orig\": 21683.0, \"sum_c\": 680.0, \"k_worst\": 44307.0, \"top_n\": 7, \"k/k_orig\": 0.013605128441636305, \"k/k_worst\": 0.0066580901437696075, \"k/sum_c\": 0.4338235294117647, \"k*k_orig/k_worst\": 144.3673685873564, \"k/(k_worst-k_orig)\": 0.013039250353606788}, {\"Method\": \"Hillside(Colley Params)\", \"Year\": \"2004\", \"k\": 404.0, \"k_orig\": 21683.0, \"sum_c\": 942.0, \"k_worst\": 44307.0, \"top_n\": 8, \"k/k_orig\": 0.018632108103122262, \"k/k_worst\": 0.009118198027399734, \"k/sum_c\": 0.4288747346072187, \"k*k_orig/k_worst\": 197.70988782810844, \"k/(k_worst-k_orig)\": 0.017857142857142856}, {\"Method\": \"Hillside(Colley Params)\", \"Year\": \"2004\", \"k\": 540.0, \"k_orig\": 21683.0, \"sum_c\": 1254.0, \"k_worst\": 44307.0, \"top_n\": 9, \"k/k_orig\": 0.024904302910113914, \"k/k_worst\": 0.01218769043266301, \"k/sum_c\": 0.430622009569378, \"k*k_orig/k_worst\": 264.26569165143206, \"k/(k_worst-k_orig)\": 0.023868458274398867}, {\"Method\": \"Hillside(Colley Params)\", \"Year\": \"2004\", \"k\": 699.0, \"k_orig\": 21683.0, \"sum_c\": 1610.0, \"k_worst\": 44307.0, \"top_n\": 10, \"k/k_orig\": 0.03223723654475857, \"k/k_worst\": 0.015776288171169342, \"k/sum_c\": 0.4341614906832298, \"k*k_orig/k_worst\": 342.07725641546483, \"k/(k_worst-k_orig)\": 0.030896393210749648}, {\"Method\": \"Hillside(Colley Params)\", \"Year\": \"2004\", \"k\": 864.0, \"k_orig\": 21683.0, \"sum_c\": 1993.0, \"k_worst\": 44307.0, \"top_n\": 11, \"k/k_orig\": 0.03984688465618226, \"k/k_worst\": 0.019500304692260818, \"k/sum_c\": 0.43351731058705467, \"k*k_orig/k_worst\": 422.8251066422913, \"k/(k_worst-k_orig)\": 0.03818953323903819}, {\"Method\": \"Hillside(Colley Params)\", \"Year\": \"2004\", \"k\": 1069.0, \"k_orig\": 21683.0, \"sum_c\": 2423.0, \"k_worst\": 44307.0, \"top_n\": 12, \"k/k_orig\": 0.04930129594613292, \"k/k_worst\": 0.024127113097253256, \"k/sum_c\": 0.4411886091621956, \"k*k_orig/k_worst\": 523.1481932877423, \"k/(k_worst-k_orig)\": 0.0472507072135785}, {\"Method\": \"Hillside(Colley Params)\", \"Year\": \"2004\", \"k\": 1272.0, \"k_orig\": 21683.0, \"sum_c\": 2911.0, \"k_worst\": 44307.0, \"top_n\": 13, \"k/k_orig\": 0.05866346907715722, \"k/k_worst\": 0.028708781908050648, \"k/sum_c\": 0.43696324287186533, \"k*k_orig/k_worst\": 622.4925181122621, \"k/(k_worst-k_orig)\": 0.05622347949080622}, {\"Method\": \"Hillside(Colley Params)\", \"Year\": \"2004\", \"k\": 1453.0, \"k_orig\": 21683.0, \"sum_c\": 3375.0, \"k_worst\": 44307.0, \"top_n\": 14, \"k/k_orig\": 0.0670110224599917, \"k/k_worst\": 0.032793915182702506, \"k/sum_c\": 0.4305185185185185, \"k*k_orig/k_worst\": 711.0704629065385, \"k/(k_worst-k_orig)\": 0.06422383309759547}, {\"Method\": \"Hillside(Colley Params)\", \"Year\": \"2004\", \"k\": 1649.0, \"k_orig\": 21683.0, \"sum_c\": 3888.0, \"k_worst\": 44307.0, \"top_n\": 15, \"k/k_orig\": 0.07605036203477379, \"k/k_worst\": 0.03721759541381723, \"k/sum_c\": 0.42412551440329216, \"k*k_orig/k_worst\": 806.989121357799, \"k/(k_worst-k_orig)\": 0.07288719943422914}, {\"Method\": \"Hillside(Colley Params)\", \"Year\": \"2004\", \"k\": 1858.0, \"k_orig\": 21683.0, \"sum_c\": 4396.0, \"k_worst\": 44307.0, \"top_n\": 16, \"k/k_orig\": 0.08568924964257714, \"k/k_worst\": 0.04193468300719976, \"k/sum_c\": 0.4226569608735214, \"k*k_orig/k_worst\": 909.2697316451125, \"k/(k_worst-k_orig)\": 0.08212517680339462}, {\"Method\": \"Hillside(Colley Params)\", \"Year\": \"2004\", \"k\": 2178.0, \"k_orig\": 21683.0, \"sum_c\": 5147.0, \"k_worst\": 44307.0, \"top_n\": 17, \"k/k_orig\": 0.10044735507079279, \"k/k_worst\": 0.04915701807840747, \"k/sum_c\": 0.42315912181853504, \"k*k_orig/k_worst\": 1065.8716229941092, \"k/(k_worst-k_orig)\": 0.09626944837340877}, {\"Method\": \"Hillside(Colley Params)\", \"Year\": \"2004\", \"k\": 2517.0, \"k_orig\": 21683.0, \"sum_c\": 5930.0, \"k_worst\": 44307.0, \"top_n\": 18, \"k/k_orig\": 0.11608172300880874, \"k/k_worst\": 0.056808179294468145, \"k/sum_c\": 0.4244519392917369, \"k*k_orig/k_worst\": 1231.7717516419527, \"k/(k_worst-k_orig)\": 0.1112535360678925}, {\"Method\": \"Hillside(Colley Params)\", \"Year\": \"2004\", \"k\": 2815.0, \"k_orig\": 21683.0, \"sum_c\": 6700.0, \"k_worst\": 44307.0, \"top_n\": 19, \"k/k_orig\": 0.12982520868883457, \"k/k_worst\": 0.06353397882953032, \"k/sum_c\": 0.42014925373134326, \"k*k_orig/k_worst\": 1377.607262960706, \"k/(k_worst-k_orig)\": 0.12442538896746817}, {\"Method\": \"Hillside(Colley Params)\", \"Year\": \"2004\", \"k\": 2958.0, \"k_orig\": 21683.0, \"sum_c\": 7082.0, \"k_worst\": 44307.0, \"top_n\": 20, \"k/k_orig\": 0.13642023705206843, \"k/k_worst\": 0.06676145981447627, \"k/sum_c\": 0.4176786218582321, \"k*k_orig/k_worst\": 1447.588733157289, \"k/(k_worst-k_orig)\": 0.13074611032531824}, {\"Method\": \"Hillside(Colley Params)\", \"Year\": \"2004\", \"k\": 3319.0, \"k_orig\": 21683.0, \"sum_c\": 7928.0, \"k_worst\": 44307.0, \"top_n\": 21, \"k/k_orig\": 0.15306922473827422, \"k/k_worst\": 0.07490915656668247, \"k/sum_c\": 0.41864278506559033, \"k*k_orig/k_worst\": 1624.255241835376, \"k/(k_worst-k_orig)\": 0.14670261669024046}, {\"Method\": \"Hillside(Colley Params)\", \"Year\": \"2004\", \"k\": 3630.0, \"k_orig\": 21683.0, \"sum_c\": 8669.0, \"k_worst\": 44307.0, \"top_n\": 22, \"k/k_orig\": 0.16741225845132132, \"k/k_worst\": 0.08192836346401246, \"k/sum_c\": 0.41873341792594304, \"k*k_orig/k_worst\": 1776.4527049901822, \"k/(k_worst-k_orig)\": 0.16044908062234794}, {\"Method\": \"Hillside(Colley Params)\", \"Year\": \"2004\", \"k\": 4012.0, \"k_orig\": 21683.0, \"sum_c\": 9601.0, \"k_worst\": 44307.0, \"top_n\": 23, \"k/k_orig\": 0.18502974680625375, \"k/k_worst\": 0.09055002595526666, \"k/sum_c\": 0.4178731382147693, \"k*k_orig/k_worst\": 1963.396212788047, \"k/(k_worst-k_orig)\": 0.17733380480905234}, {\"Method\": \"Hillside(Colley Params)\", \"Year\": \"2004\", \"k\": 4391.0, \"k_orig\": 21683.0, \"sum_c\": 10498.0, \"k_worst\": 44307.0, \"top_n\": 24, \"k/k_orig\": 0.20250887792279665, \"k/k_worst\": 0.09910397905522829, \"k/sum_c\": 0.4182701466946085, \"k*k_orig/k_worst\": 2148.871577854515, \"k/(k_worst-k_orig)\": 0.19408592644978784}, {\"Method\": \"Hillside(Colley Params)\", \"Year\": \"2004\", \"k\": 4773.0, \"k_orig\": 21683.0, \"sum_c\": 11482.0, \"k_worst\": 44307.0, \"top_n\": 25, \"k/k_orig\": 0.2201263662777291, \"k/k_worst\": 0.1077256415464825, \"k/sum_c\": 0.4156941299425187, \"k*k_orig/k_worst\": 2335.81508565238, \"k/(k_worst-k_orig)\": 0.21097065063649223}, {\"Method\": \"Hillside(Colley Params)\", \"Year\": \"2004\", \"k\": 5219.0, \"k_orig\": 21683.0, \"sum_c\": 12592.0, \"k_worst\": 44307.0, \"top_n\": 26, \"k/k_orig\": 0.24069547571830466, \"k/k_worst\": 0.11779177105197824, \"k/sum_c\": 0.4144695044472681, \"k*k_orig/k_worst\": 2554.078971720044, \"k/(k_worst-k_orig)\": 0.23068422913719944}, {\"Method\": \"Hillside(Colley Params)\", \"Year\": \"2004\", \"k\": 5679.0, \"k_orig\": 21683.0, \"sum_c\": 13677.0, \"k_worst\": 44307.0, \"top_n\": 27, \"k/k_orig\": 0.26191025227136466, \"k/k_worst\": 0.12817387771683933, \"k/sum_c\": 0.41522263654310154, \"k*k_orig/k_worst\": 2779.194190534227, \"k/(k_worst-k_orig)\": 0.25101661951909476}, {\"Method\": \"Hillside(Colley Params)\", \"Year\": \"2004\", \"k\": 6051.0, \"k_orig\": 21683.0, \"sum_c\": 14610.0, \"k_worst\": 44307.0, \"top_n\": 28, \"k/k_orig\": 0.27906654983166534, \"k/k_worst\": 0.1365698422371183, \"k/sum_c\": 0.41416837782340865, \"k*k_orig/k_worst\": 2961.243889227436, \"k/(k_worst-k_orig)\": 0.2674593352192362}, {\"Method\": \"Hillside(Colley Params)\", \"Year\": \"2004\", \"k\": 6512.0, \"k_orig\": 21683.0, \"sum_c\": 15899.0, \"k_worst\": 44307.0, \"top_n\": 29, \"k/k_orig\": 0.30032744546418855, \"k/k_worst\": 0.1469745186990769, \"k/sum_c\": 0.4095855085225486, \"k*k_orig/k_worst\": 3186.848488952084, \"k/(k_worst-k_orig)\": 0.28783592644978784}, {\"Method\": \"Hillside(Massey Params)\", \"Year\": \"2004\", \"k\": 15.0, \"k_orig\": 21683.0, \"sum_c\": 38.0, \"k_worst\": 44307.0, \"top_n\": 2, \"k/k_orig\": 0.0006917861919476087, \"k/k_worst\": 0.0003385469564628614, \"k/sum_c\": 0.39473684210526316, \"k*k_orig/k_worst\": 7.3407136569842235, \"k/(k_worst-k_orig)\": 0.000663012729844413}, {\"Method\": \"Hillside(Massey Params)\", \"Year\": \"2004\", \"k\": 49.0, \"k_orig\": 21683.0, \"sum_c\": 112.0, \"k_worst\": 44307.0, \"top_n\": 3, \"k/k_orig\": 0.0022598348936955217, \"k/k_worst\": 0.0011059200577786805, \"k/sum_c\": 0.4375, \"k*k_orig/k_worst\": 23.97966461281513, \"k/(k_worst-k_orig)\": 0.002165841584158416}, {\"Method\": \"Hillside(Massey Params)\", \"Year\": \"2004\", \"k\": 83.0, \"k_orig\": 21683.0, \"sum_c\": 190.0, \"k_worst\": 44307.0, \"top_n\": 4, \"k/k_orig\": 0.003827883595443435, \"k/k_worst\": 0.0018732931590944998, \"k/sum_c\": 0.4368421052631579, \"k*k_orig/k_worst\": 40.618615568646035, \"k/(k_worst-k_orig)\": 0.0036686704384724187}, {\"Method\": \"Hillside(Massey Params)\", \"Year\": \"2004\", \"k\": 135.0, \"k_orig\": 21683.0, \"sum_c\": 308.0, \"k_worst\": 44307.0, \"top_n\": 5, \"k/k_orig\": 0.006226075727528479, \"k/k_worst\": 0.0030469226081657527, \"k/sum_c\": 0.4383116883116883, \"k*k_orig/k_worst\": 66.06642291285802, \"k/(k_worst-k_orig)\": 0.005967114568599717}, {\"Method\": \"Hillside(Massey Params)\", \"Year\": \"2004\", \"k\": 186.0, \"k_orig\": 21683.0, \"sum_c\": 418.0, \"k_worst\": 44307.0, \"top_n\": 6, \"k/k_orig\": 0.008578148780150348, \"k/k_worst\": 0.004197982260139481, \"k/sum_c\": 0.4449760765550239, \"k*k_orig/k_worst\": 91.02484934660437, \"k/(k_worst-k_orig)\": 0.00822135785007072}, {\"Method\": \"Hillside(Massey Params)\", \"Year\": \"2004\", \"k\": 295.0, \"k_orig\": 21683.0, \"sum_c\": 680.0, \"k_worst\": 44307.0, \"top_n\": 7, \"k/k_orig\": 0.013605128441636305, \"k/k_worst\": 0.0066580901437696075, \"k/sum_c\": 0.4338235294117647, \"k*k_orig/k_worst\": 144.3673685873564, \"k/(k_worst-k_orig)\": 0.013039250353606788}, {\"Method\": \"Hillside(Massey Params)\", \"Year\": \"2004\", \"k\": 404.0, \"k_orig\": 21683.0, \"sum_c\": 942.0, \"k_worst\": 44307.0, \"top_n\": 8, \"k/k_orig\": 0.018632108103122262, \"k/k_worst\": 0.009118198027399734, \"k/sum_c\": 0.4288747346072187, \"k*k_orig/k_worst\": 197.70988782810844, \"k/(k_worst-k_orig)\": 0.017857142857142856}, {\"Method\": \"Hillside(Massey Params)\", \"Year\": \"2004\", \"k\": 540.0, \"k_orig\": 21683.0, \"sum_c\": 1254.0, \"k_worst\": 44307.0, \"top_n\": 9, \"k/k_orig\": 0.024904302910113914, \"k/k_worst\": 0.01218769043266301, \"k/sum_c\": 0.430622009569378, \"k*k_orig/k_worst\": 264.26569165143206, \"k/(k_worst-k_orig)\": 0.023868458274398867}, {\"Method\": \"Hillside(Massey Params)\", \"Year\": \"2004\", \"k\": 699.0, \"k_orig\": 21683.0, \"sum_c\": 1610.0, \"k_worst\": 44307.0, \"top_n\": 10, \"k/k_orig\": 0.03223723654475857, \"k/k_worst\": 0.015776288171169342, \"k/sum_c\": 0.4341614906832298, \"k*k_orig/k_worst\": 342.07725641546483, \"k/(k_worst-k_orig)\": 0.030896393210749648}, {\"Method\": \"Hillside(Massey Params)\", \"Year\": \"2004\", \"k\": 864.0, \"k_orig\": 21683.0, \"sum_c\": 1993.0, \"k_worst\": 44307.0, \"top_n\": 11, \"k/k_orig\": 0.03984688465618226, \"k/k_worst\": 0.019500304692260818, \"k/sum_c\": 0.43351731058705467, \"k*k_orig/k_worst\": 422.8251066422913, \"k/(k_worst-k_orig)\": 0.03818953323903819}, {\"Method\": \"Hillside(Massey Params)\", \"Year\": \"2004\", \"k\": 1069.0, \"k_orig\": 21683.0, \"sum_c\": 2423.0, \"k_worst\": 44307.0, \"top_n\": 12, \"k/k_orig\": 0.04930129594613292, \"k/k_worst\": 0.024127113097253256, \"k/sum_c\": 0.4411886091621956, \"k*k_orig/k_worst\": 523.1481932877423, \"k/(k_worst-k_orig)\": 0.0472507072135785}, {\"Method\": \"Hillside(Massey Params)\", \"Year\": \"2004\", \"k\": 1272.0, \"k_orig\": 21683.0, \"sum_c\": 2911.0, \"k_worst\": 44307.0, \"top_n\": 13, \"k/k_orig\": 0.05866346907715722, \"k/k_worst\": 0.028708781908050648, \"k/sum_c\": 0.43696324287186533, \"k*k_orig/k_worst\": 622.4925181122621, \"k/(k_worst-k_orig)\": 0.05622347949080622}, {\"Method\": \"Hillside(Massey Params)\", \"Year\": \"2004\", \"k\": 1453.0, \"k_orig\": 21683.0, \"sum_c\": 3375.0, \"k_worst\": 44307.0, \"top_n\": 14, \"k/k_orig\": 0.0670110224599917, \"k/k_worst\": 0.032793915182702506, \"k/sum_c\": 0.4305185185185185, \"k*k_orig/k_worst\": 711.0704629065385, \"k/(k_worst-k_orig)\": 0.06422383309759547}, {\"Method\": \"Hillside(Massey Params)\", \"Year\": \"2004\", \"k\": 1649.0, \"k_orig\": 21683.0, \"sum_c\": 3888.0, \"k_worst\": 44307.0, \"top_n\": 15, \"k/k_orig\": 0.07605036203477379, \"k/k_worst\": 0.03721759541381723, \"k/sum_c\": 0.42412551440329216, \"k*k_orig/k_worst\": 806.989121357799, \"k/(k_worst-k_orig)\": 0.07288719943422914}, {\"Method\": \"Hillside(Massey Params)\", \"Year\": \"2004\", \"k\": 1858.0, \"k_orig\": 21683.0, \"sum_c\": 4396.0, \"k_worst\": 44307.0, \"top_n\": 16, \"k/k_orig\": 0.08568924964257714, \"k/k_worst\": 0.04193468300719976, \"k/sum_c\": 0.4226569608735214, \"k*k_orig/k_worst\": 909.2697316451125, \"k/(k_worst-k_orig)\": 0.08212517680339462}, {\"Method\": \"Hillside(Massey Params)\", \"Year\": \"2004\", \"k\": 2178.0, \"k_orig\": 21683.0, \"sum_c\": 5147.0, \"k_worst\": 44307.0, \"top_n\": 17, \"k/k_orig\": 0.10044735507079279, \"k/k_worst\": 0.04915701807840747, \"k/sum_c\": 0.42315912181853504, \"k*k_orig/k_worst\": 1065.8716229941092, \"k/(k_worst-k_orig)\": 0.09626944837340877}, {\"Method\": \"Hillside(Massey Params)\", \"Year\": \"2004\", \"k\": 2517.0, \"k_orig\": 21683.0, \"sum_c\": 5930.0, \"k_worst\": 44307.0, \"top_n\": 18, \"k/k_orig\": 0.11608172300880874, \"k/k_worst\": 0.056808179294468145, \"k/sum_c\": 0.4244519392917369, \"k*k_orig/k_worst\": 1231.7717516419527, \"k/(k_worst-k_orig)\": 0.1112535360678925}, {\"Method\": \"Hillside(Massey Params)\", \"Year\": \"2004\", \"k\": 2815.0, \"k_orig\": 21683.0, \"sum_c\": 6700.0, \"k_worst\": 44307.0, \"top_n\": 19, \"k/k_orig\": 0.12982520868883457, \"k/k_worst\": 0.06353397882953032, \"k/sum_c\": 0.42014925373134326, \"k*k_orig/k_worst\": 1377.607262960706, \"k/(k_worst-k_orig)\": 0.12442538896746817}, {\"Method\": \"Hillside(Massey Params)\", \"Year\": \"2004\", \"k\": 2958.0, \"k_orig\": 21683.0, \"sum_c\": 7082.0, \"k_worst\": 44307.0, \"top_n\": 20, \"k/k_orig\": 0.13642023705206843, \"k/k_worst\": 0.06676145981447627, \"k/sum_c\": 0.4176786218582321, \"k*k_orig/k_worst\": 1447.588733157289, \"k/(k_worst-k_orig)\": 0.13074611032531824}, {\"Method\": \"Hillside(Massey Params)\", \"Year\": \"2004\", \"k\": 3319.0, \"k_orig\": 21683.0, \"sum_c\": 7928.0, \"k_worst\": 44307.0, \"top_n\": 21, \"k/k_orig\": 0.15306922473827422, \"k/k_worst\": 0.07490915656668247, \"k/sum_c\": 0.41864278506559033, \"k*k_orig/k_worst\": 1624.255241835376, \"k/(k_worst-k_orig)\": 0.14670261669024046}, {\"Method\": \"Hillside(Massey Params)\", \"Year\": \"2004\", \"k\": 3630.0, \"k_orig\": 21683.0, \"sum_c\": 8669.0, \"k_worst\": 44307.0, \"top_n\": 22, \"k/k_orig\": 0.16741225845132132, \"k/k_worst\": 0.08192836346401246, \"k/sum_c\": 0.41873341792594304, \"k*k_orig/k_worst\": 1776.4527049901822, \"k/(k_worst-k_orig)\": 0.16044908062234794}, {\"Method\": \"Hillside(Massey Params)\", \"Year\": \"2004\", \"k\": 4012.0, \"k_orig\": 21683.0, \"sum_c\": 9601.0, \"k_worst\": 44307.0, \"top_n\": 23, \"k/k_orig\": 0.18502974680625375, \"k/k_worst\": 0.09055002595526666, \"k/sum_c\": 0.4178731382147693, \"k*k_orig/k_worst\": 1963.396212788047, \"k/(k_worst-k_orig)\": 0.17733380480905234}, {\"Method\": \"Hillside(Massey Params)\", \"Year\": \"2004\", \"k\": 4391.0, \"k_orig\": 21683.0, \"sum_c\": 10498.0, \"k_worst\": 44307.0, \"top_n\": 24, \"k/k_orig\": 0.20250887792279665, \"k/k_worst\": 0.09910397905522829, \"k/sum_c\": 0.4182701466946085, \"k*k_orig/k_worst\": 2148.871577854515, \"k/(k_worst-k_orig)\": 0.19408592644978784}, {\"Method\": \"Hillside(Massey Params)\", \"Year\": \"2004\", \"k\": 4773.0, \"k_orig\": 21683.0, \"sum_c\": 11482.0, \"k_worst\": 44307.0, \"top_n\": 25, \"k/k_orig\": 0.2201263662777291, \"k/k_worst\": 0.1077256415464825, \"k/sum_c\": 0.4156941299425187, \"k*k_orig/k_worst\": 2335.81508565238, \"k/(k_worst-k_orig)\": 0.21097065063649223}, {\"Method\": \"Hillside(Massey Params)\", \"Year\": \"2004\", \"k\": 5219.0, \"k_orig\": 21683.0, \"sum_c\": 12592.0, \"k_worst\": 44307.0, \"top_n\": 26, \"k/k_orig\": 0.24069547571830466, \"k/k_worst\": 0.11779177105197824, \"k/sum_c\": 0.4144695044472681, \"k*k_orig/k_worst\": 2554.078971720044, \"k/(k_worst-k_orig)\": 0.23068422913719944}, {\"Method\": \"Hillside(Massey Params)\", \"Year\": \"2004\", \"k\": 5679.0, \"k_orig\": 21683.0, \"sum_c\": 13677.0, \"k_worst\": 44307.0, \"top_n\": 27, \"k/k_orig\": 0.26191025227136466, \"k/k_worst\": 0.12817387771683933, \"k/sum_c\": 0.41522263654310154, \"k*k_orig/k_worst\": 2779.194190534227, \"k/(k_worst-k_orig)\": 0.25101661951909476}, {\"Method\": \"Hillside(Massey Params)\", \"Year\": \"2004\", \"k\": 6051.0, \"k_orig\": 21683.0, \"sum_c\": 14610.0, \"k_worst\": 44307.0, \"top_n\": 28, \"k/k_orig\": 0.27906654983166534, \"k/k_worst\": 0.1365698422371183, \"k/sum_c\": 0.41416837782340865, \"k*k_orig/k_worst\": 2961.243889227436, \"k/(k_worst-k_orig)\": 0.2674593352192362}, {\"Method\": \"Hillside(Massey Params)\", \"Year\": \"2004\", \"k\": 6512.0, \"k_orig\": 21683.0, \"sum_c\": 15899.0, \"k_worst\": 44307.0, \"top_n\": 29, \"k/k_orig\": 0.30032744546418855, \"k/k_worst\": 0.1469745186990769, \"k/sum_c\": 0.4095855085225486, \"k*k_orig/k_worst\": 3186.848488952084, \"k/(k_worst-k_orig)\": 0.28783592644978784}, {\"Method\": \"Hillside(Colley Params)\", \"Year\": \"2005\", \"k\": 15.0, \"k_orig\": 21787.0, \"sum_c\": 43.0, \"k_worst\": 44651.0, \"top_n\": 2, \"k/k_orig\": 0.0006884839583237711, \"k/k_worst\": 0.00033593872477660075, \"k/sum_c\": 0.3488372093023256, \"k*k_orig/k_worst\": 7.319096996707801, \"k/(k_worst-k_orig)\": 0.0006560531840447865}, {\"Method\": \"Hillside(Colley Params)\", \"Year\": \"2005\", \"k\": 47.0, \"k_orig\": 21787.0, \"sum_c\": 123.0, \"k_worst\": 44651.0, \"top_n\": 3, \"k/k_orig\": 0.002157249736081149, \"k/k_worst\": 0.0010526080043000157, \"k/sum_c\": 0.3821138211382114, \"k*k_orig/k_worst\": 22.93317058968444, \"k/(k_worst-k_orig)\": 0.002055633310006998}, {\"Method\": \"Hillside(Colley Params)\", \"Year\": \"2005\", \"k\": 107.0, \"k_orig\": 21787.0, \"sum_c\": 254.0, \"k_worst\": 44651.0, \"top_n\": 4, \"k/k_orig\": 0.004911185569376234, \"k/k_worst\": 0.0023963629034064187, \"k/sum_c\": 0.421259842519685, \"k*k_orig/k_worst\": 52.20955857651564, \"k/(k_worst-k_orig)\": 0.004679846046186144}, {\"Method\": \"Hillside(Colley Params)\", \"Year\": \"2005\", \"k\": 180.0, \"k_orig\": 21787.0, \"sum_c\": 411.0, \"k_worst\": 44651.0, \"top_n\": 5, \"k/k_orig\": 0.008261807499885252, \"k/k_worst\": 0.004031264697319209, \"k/sum_c\": 0.43795620437956206, \"k*k_orig/k_worst\": 87.8291639604936, \"k/(k_worst-k_orig)\": 0.007872638208537439}, {\"Method\": \"Hillside(Colley Params)\", \"Year\": \"2005\", \"k\": 266.0, \"k_orig\": 21787.0, \"sum_c\": 609.0, \"k_worst\": 44651.0, \"top_n\": 6, \"k/k_orig\": 0.012209115527608207, \"k/k_worst\": 0.005957313386038387, \"k/sum_c\": 0.4367816091954023, \"k*k_orig/k_worst\": 129.79198674161833, \"k/(k_worst-k_orig)\": 0.011634009797060882}, {\"Method\": \"Hillside(Colley Params)\", \"Year\": \"2005\", \"k\": 371.0, \"k_orig\": 21787.0, \"sum_c\": 864.0, \"k_worst\": 44651.0, \"top_n\": 7, \"k/k_orig\": 0.017028503235874605, \"k/k_worst\": 0.008308884459474591, \"k/sum_c\": 0.42939814814814814, \"k*k_orig/k_worst\": 181.02566571857292, \"k/(k_worst-k_orig)\": 0.01622638208537439}, {\"Method\": \"Hillside(Colley Params)\", \"Year\": \"2005\", \"k\": 507.0, \"k_orig\": 21787.0, \"sum_c\": 1183.0, \"k_worst\": 44651.0, \"top_n\": 8, \"k/k_orig\": 0.023270757791343463, \"k/k_worst\": 0.011354728897449106, \"k/sum_c\": 0.42857142857142855, \"k*k_orig/k_worst\": 247.38547848872366, \"k/(k_worst-k_orig)\": 0.022174597620713787}, {\"Method\": \"Hillside(Colley Params)\", \"Year\": \"2005\", \"k\": 643.0, \"k_orig\": 21787.0, \"sum_c\": 1542.0, \"k_worst\": 44651.0, \"top_n\": 9, \"k/k_orig\": 0.02951301234681232, \"k/k_worst\": 0.01440057333542362, \"k/sum_c\": 0.4169909208819715, \"k*k_orig/k_worst\": 313.7452912588744, \"k/(k_worst-k_orig)\": 0.028122813156053184}, {\"Method\": \"Hillside(Colley Params)\", \"Year\": \"2005\", \"k\": 778.0, \"k_orig\": 21787.0, \"sum_c\": 1874.0, \"k_worst\": 44651.0, \"top_n\": 10, \"k/k_orig\": 0.03570936797172626, \"k/k_worst\": 0.017424021858413026, \"k/sum_c\": 0.4151547491995731, \"k*k_orig/k_worst\": 379.61716422924457, \"k/(k_worst-k_orig)\": 0.03402729181245626}, {\"Method\": \"Hillside(Colley Params)\", \"Year\": \"2005\", \"k\": 942.0, \"k_orig\": 21787.0, \"sum_c\": 2317.0, \"k_worst\": 44651.0, \"top_n\": 11, \"k/k_orig\": 0.04323679258273282, \"k/k_worst\": 0.021096951915970528, \"k/sum_c\": 0.40656020716443675, \"k*k_orig/k_worst\": 459.6392913932499, \"k/(k_worst-k_orig)\": 0.0412001399580126}, {\"Method\": \"Hillside(Colley Params)\", \"Year\": \"2005\", \"k\": 1114.0, \"k_orig\": 21787.0, \"sum_c\": 2762.0, \"k_worst\": 44651.0, \"top_n\": 12, \"k/k_orig\": 0.05113140863817873, \"k/k_worst\": 0.02494904929340888, \"k/sum_c\": 0.40333091962346124, \"k*k_orig/k_worst\": 543.5649369554993, \"k/(k_worst-k_orig)\": 0.04872288313505948}, {\"Method\": \"Hillside(Colley Params)\", \"Year\": \"2005\", \"k\": 1299.0, \"k_orig\": 21787.0, \"sum_c\": 3240.0, \"k_worst\": 44651.0, \"top_n\": 13, \"k/k_orig\": 0.05962271079083857, \"k/k_worst\": 0.029092293565653626, \"k/sum_c\": 0.4009259259259259, \"k*k_orig/k_worst\": 633.8337999148955, \"k/(k_worst-k_orig)\": 0.056814205738278514}, {\"Method\": \"Hillside(Colley Params)\", \"Year\": \"2005\", \"k\": 1499.0, \"k_orig\": 21787.0, \"sum_c\": 3730.0, \"k_worst\": 44651.0, \"top_n\": 14, \"k/k_orig\": 0.06880249690182219, \"k/k_worst\": 0.033571476562674965, \"k/sum_c\": 0.40187667560321716, \"k*k_orig/k_worst\": 731.4217598709995, \"k/(k_worst-k_orig)\": 0.06556158152554234}, {\"Method\": \"Hillside(Colley Params)\", \"Year\": \"2005\", \"k\": 1700.0, \"k_orig\": 21787.0, \"sum_c\": 4242.0, \"k_worst\": 44651.0, \"top_n\": 15, \"k/k_orig\": 0.07802818194336072, \"k/k_worst\": 0.03807305547468142, \"k/sum_c\": 0.40075436115040075, \"k*k_orig/k_worst\": 829.497659626884, \"k/(k_worst-k_orig)\": 0.07435269419174248}, {\"Method\": \"Hillside(Colley Params)\", \"Year\": \"2005\", \"k\": 1917.0, \"k_orig\": 21787.0, \"sum_c\": 4788.0, \"k_worst\": 44651.0, \"top_n\": 16, \"k/k_orig\": 0.08798824987377794, \"k/k_worst\": 0.04293296902644957, \"k/sum_c\": 0.40037593984962405, \"k*k_orig/k_worst\": 935.3805961792569, \"k/(k_worst-k_orig)\": 0.08384359692092372}, {\"Method\": \"Hillside(Colley Params)\", \"Year\": \"2005\", \"k\": 2151.0, \"k_orig\": 21787.0, \"sum_c\": 5376.0, \"k_worst\": 44651.0, \"top_n\": 17, \"k/k_orig\": 0.09872859962362877, \"k/k_worst\": 0.048173613132964546, \"k/sum_c\": 0.40011160714285715, \"k*k_orig/k_worst\": 1049.5585093278985, \"k/(k_worst-k_orig)\": 0.0940780265920224}, {\"Method\": \"Hillside(Colley Params)\", \"Year\": \"2005\", \"k\": 2435.0, \"k_orig\": 21787.0, \"sum_c\": 6044.0, \"k_worst\": 44651.0, \"top_n\": 18, \"k/k_orig\": 0.1117638959012255, \"k/k_worst\": 0.05453405298873486, \"k/sum_c\": 0.4028788881535407, \"k*k_orig/k_worst\": 1188.1334124655664, \"k/(k_worst-k_orig)\": 0.10649930020993702}, {\"Method\": \"Hillside(Colley Params)\", \"Year\": \"2005\", \"k\": 2725.0, \"k_orig\": 21787.0, \"sum_c\": 6718.0, \"k_worst\": 44651.0, \"top_n\": 19, \"k/k_orig\": 0.12507458576215175, \"k/k_worst\": 0.0610288683344158, \"k/sum_c\": 0.40562667460553736, \"k*k_orig/k_worst\": 1329.6359544019172, \"k/(k_worst-k_orig)\": 0.11918299510146955}, {\"Method\": \"Hillside(Colley Params)\", \"Year\": \"2005\", \"k\": 3085.0, \"k_orig\": 21787.0, \"sum_c\": 7582.0, \"k_worst\": 44651.0, \"top_n\": 20, \"k/k_orig\": 0.14159820076192225, \"k/k_worst\": 0.06909139772905422, \"k/sum_c\": 0.40688472698496436, \"k*k_orig/k_worst\": 1505.2942823229043, \"k/(k_worst-k_orig)\": 0.13492827151854445}, {\"Method\": \"Hillside(Colley Params)\", \"Year\": \"2005\", \"k\": 3438.0, \"k_orig\": 21787.0, \"sum_c\": 8400.0, \"k_worst\": 44651.0, \"top_n\": 21, \"k/k_orig\": 0.15780052324780833, \"k/k_worst\": 0.0769971557187969, \"k/sum_c\": 0.4092857142857143, \"k*k_orig/k_worst\": 1677.537031645428, \"k/(k_worst-k_orig)\": 0.15036738978306508}, {\"Method\": \"Hillside(Colley Params)\", \"Year\": \"2005\", \"k\": 3594.0, \"k_orig\": 21787.0, \"sum_c\": 8829.0, \"k_worst\": 44651.0, \"top_n\": 22, \"k/k_orig\": 0.16496075641437555, \"k/k_worst\": 0.08049091845647353, \"k/sum_c\": 0.40706761807679237, \"k*k_orig/k_worst\": 1753.655640411189, \"k/(k_worst-k_orig)\": 0.15719034289713085}, {\"Method\": \"Hillside(Colley Params)\", \"Year\": \"2005\", \"k\": 3970.0, \"k_orig\": 21787.0, \"sum_c\": 9715.0, \"k_worst\": 44651.0, \"top_n\": 23, \"k/k_orig\": 0.18221875430302473, \"k/k_worst\": 0.08891178249087367, \"k/sum_c\": 0.40864642305712817, \"k*k_orig/k_worst\": 1937.1210051286646, \"k/(k_worst-k_orig)\": 0.17363540937718686}, {\"Method\": \"Hillside(Colley Params)\", \"Year\": \"2005\", \"k\": 4352.0, \"k_orig\": 21787.0, \"sum_c\": 10718.0, \"k_worst\": 44651.0, \"top_n\": 24, \"k/k_orig\": 0.19975214577500344, \"k/k_worst\": 0.09746702201518442, \"k/sum_c\": 0.4060459040865833, \"k*k_orig/k_worst\": 2123.514008644823, \"k/(k_worst-k_orig)\": 0.19034289713086075}, {\"Method\": \"Hillside(Colley Params)\", \"Year\": \"2005\", \"k\": 4732.0, \"k_orig\": 21787.0, \"sum_c\": 11781.0, \"k_worst\": 44651.0, \"top_n\": 25, \"k/k_orig\": 0.2171937393858723, \"k/k_worst\": 0.10597746970952499, \"k/sum_c\": 0.40166369578134287, \"k*k_orig/k_worst\": 2308.931132561421, \"k/(k_worst-k_orig)\": 0.206962911126662}, {\"Method\": \"Hillside(Colley Params)\", \"Year\": \"2005\", \"k\": 5195.0, \"k_orig\": 21787.0, \"sum_c\": 12867.0, \"k_worst\": 44651.0, \"top_n\": 26, \"k/k_orig\": 0.23844494423279938, \"k/k_worst\": 0.1163467783476294, \"k/sum_c\": 0.40374601694256623, \"k*k_orig/k_worst\": 2534.8472598598014, \"k/(k_worst-k_orig)\": 0.22721308607417776}, {\"Method\": \"Hillside(Colley Params)\", \"Year\": \"2005\", \"k\": 5513.0, \"k_orig\": 21787.0, \"sum_c\": 13635.0, \"k_worst\": 44651.0, \"top_n\": 27, \"k/k_orig\": 0.25304080414926333, \"k/k_worst\": 0.12346867931289333, \"k/sum_c\": 0.4043270993766043, \"k*k_orig/k_worst\": 2690.012116190007, \"k/(k_worst-k_orig)\": 0.24112141357592723}, {\"Method\": \"Hillside(Colley Params)\", \"Year\": \"2005\", \"k\": 5914.0, \"k_orig\": 21787.0, \"sum_c\": 14834.0, \"k_worst\": 44651.0, \"top_n\": 28, \"k/k_orig\": 0.27144627530178544, \"k/k_worst\": 0.13244944122192112, \"k/sum_c\": 0.3986787110691654, \"k*k_orig/k_worst\": 2885.6759759019956, \"k/(k_worst-k_orig)\": 0.2586599020293912}, {\"Method\": \"Hillside(Colley Params)\", \"Year\": \"2005\", \"k\": 6252.0, \"k_orig\": 21787.0, \"sum_c\": 15684.0, \"k_worst\": 44651.0, \"top_n\": 29, \"k/k_orig\": 0.2869601138293478, \"k/k_worst\": 0.1400192604868872, \"k/sum_c\": 0.39862280030604436, \"k*k_orig/k_worst\": 3050.599628227811, \"k/(k_worst-k_orig)\": 0.27344296710986704}, {\"Method\": \"Hillside(Massey Params)\", \"Year\": \"2005\", \"k\": 15.0, \"k_orig\": 21787.0, \"sum_c\": 43.0, \"k_worst\": 44651.0, \"top_n\": 2, \"k/k_orig\": 0.0006884839583237711, \"k/k_worst\": 0.00033593872477660075, \"k/sum_c\": 0.3488372093023256, \"k*k_orig/k_worst\": 7.319096996707801, \"k/(k_worst-k_orig)\": 0.0006560531840447865}, {\"Method\": \"Hillside(Massey Params)\", \"Year\": \"2005\", \"k\": 47.0, \"k_orig\": 21787.0, \"sum_c\": 123.0, \"k_worst\": 44651.0, \"top_n\": 3, \"k/k_orig\": 0.002157249736081149, \"k/k_worst\": 0.0010526080043000157, \"k/sum_c\": 0.3821138211382114, \"k*k_orig/k_worst\": 22.93317058968444, \"k/(k_worst-k_orig)\": 0.002055633310006998}, {\"Method\": \"Hillside(Massey Params)\", \"Year\": \"2005\", \"k\": 107.0, \"k_orig\": 21787.0, \"sum_c\": 254.0, \"k_worst\": 44651.0, \"top_n\": 4, \"k/k_orig\": 0.004911185569376234, \"k/k_worst\": 0.0023963629034064187, \"k/sum_c\": 0.421259842519685, \"k*k_orig/k_worst\": 52.20955857651564, \"k/(k_worst-k_orig)\": 0.004679846046186144}, {\"Method\": \"Hillside(Massey Params)\", \"Year\": \"2005\", \"k\": 180.0, \"k_orig\": 21787.0, \"sum_c\": 411.0, \"k_worst\": 44651.0, \"top_n\": 5, \"k/k_orig\": 0.008261807499885252, \"k/k_worst\": 0.004031264697319209, \"k/sum_c\": 0.43795620437956206, \"k*k_orig/k_worst\": 87.8291639604936, \"k/(k_worst-k_orig)\": 0.007872638208537439}, {\"Method\": \"Hillside(Massey Params)\", \"Year\": \"2005\", \"k\": 266.0, \"k_orig\": 21787.0, \"sum_c\": 609.0, \"k_worst\": 44651.0, \"top_n\": 6, \"k/k_orig\": 0.012209115527608207, \"k/k_worst\": 0.005957313386038387, \"k/sum_c\": 0.4367816091954023, \"k*k_orig/k_worst\": 129.79198674161833, \"k/(k_worst-k_orig)\": 0.011634009797060882}, {\"Method\": \"Hillside(Massey Params)\", \"Year\": \"2005\", \"k\": 371.0, \"k_orig\": 21787.0, \"sum_c\": 864.0, \"k_worst\": 44651.0, \"top_n\": 7, \"k/k_orig\": 0.017028503235874605, \"k/k_worst\": 0.008308884459474591, \"k/sum_c\": 0.42939814814814814, \"k*k_orig/k_worst\": 181.02566571857292, \"k/(k_worst-k_orig)\": 0.01622638208537439}, {\"Method\": \"Hillside(Massey Params)\", \"Year\": \"2005\", \"k\": 507.0, \"k_orig\": 21787.0, \"sum_c\": 1183.0, \"k_worst\": 44651.0, \"top_n\": 8, \"k/k_orig\": 0.023270757791343463, \"k/k_worst\": 0.011354728897449106, \"k/sum_c\": 0.42857142857142855, \"k*k_orig/k_worst\": 247.38547848872366, \"k/(k_worst-k_orig)\": 0.022174597620713787}, {\"Method\": \"Hillside(Massey Params)\", \"Year\": \"2005\", \"k\": 643.0, \"k_orig\": 21787.0, \"sum_c\": 1542.0, \"k_worst\": 44651.0, \"top_n\": 9, \"k/k_orig\": 0.02951301234681232, \"k/k_worst\": 0.01440057333542362, \"k/sum_c\": 0.4169909208819715, \"k*k_orig/k_worst\": 313.7452912588744, \"k/(k_worst-k_orig)\": 0.028122813156053184}, {\"Method\": \"Hillside(Massey Params)\", \"Year\": \"2005\", \"k\": 778.0, \"k_orig\": 21787.0, \"sum_c\": 1874.0, \"k_worst\": 44651.0, \"top_n\": 10, \"k/k_orig\": 0.03570936797172626, \"k/k_worst\": 0.017424021858413026, \"k/sum_c\": 0.4151547491995731, \"k*k_orig/k_worst\": 379.61716422924457, \"k/(k_worst-k_orig)\": 0.03402729181245626}, {\"Method\": \"Hillside(Massey Params)\", \"Year\": \"2005\", \"k\": 942.0, \"k_orig\": 21787.0, \"sum_c\": 2317.0, \"k_worst\": 44651.0, \"top_n\": 11, \"k/k_orig\": 0.04323679258273282, \"k/k_worst\": 0.021096951915970528, \"k/sum_c\": 0.40656020716443675, \"k*k_orig/k_worst\": 459.6392913932499, \"k/(k_worst-k_orig)\": 0.0412001399580126}, {\"Method\": \"Hillside(Massey Params)\", \"Year\": \"2005\", \"k\": 1114.0, \"k_orig\": 21787.0, \"sum_c\": 2762.0, \"k_worst\": 44651.0, \"top_n\": 12, \"k/k_orig\": 0.05113140863817873, \"k/k_worst\": 0.02494904929340888, \"k/sum_c\": 0.40333091962346124, \"k*k_orig/k_worst\": 543.5649369554993, \"k/(k_worst-k_orig)\": 0.04872288313505948}, {\"Method\": \"Hillside(Massey Params)\", \"Year\": \"2005\", \"k\": 1299.0, \"k_orig\": 21787.0, \"sum_c\": 3240.0, \"k_worst\": 44651.0, \"top_n\": 13, \"k/k_orig\": 0.05962271079083857, \"k/k_worst\": 0.029092293565653626, \"k/sum_c\": 0.4009259259259259, \"k*k_orig/k_worst\": 633.8337999148955, \"k/(k_worst-k_orig)\": 0.056814205738278514}, {\"Method\": \"Hillside(Massey Params)\", \"Year\": \"2005\", \"k\": 1499.0, \"k_orig\": 21787.0, \"sum_c\": 3730.0, \"k_worst\": 44651.0, \"top_n\": 14, \"k/k_orig\": 0.06880249690182219, \"k/k_worst\": 0.033571476562674965, \"k/sum_c\": 0.40187667560321716, \"k*k_orig/k_worst\": 731.4217598709995, \"k/(k_worst-k_orig)\": 0.06556158152554234}, {\"Method\": \"Hillside(Massey Params)\", \"Year\": \"2005\", \"k\": 1700.0, \"k_orig\": 21787.0, \"sum_c\": 4242.0, \"k_worst\": 44651.0, \"top_n\": 15, \"k/k_orig\": 0.07802818194336072, \"k/k_worst\": 0.03807305547468142, \"k/sum_c\": 0.40075436115040075, \"k*k_orig/k_worst\": 829.497659626884, \"k/(k_worst-k_orig)\": 0.07435269419174248}, {\"Method\": \"Hillside(Massey Params)\", \"Year\": \"2005\", \"k\": 1917.0, \"k_orig\": 21787.0, \"sum_c\": 4788.0, \"k_worst\": 44651.0, \"top_n\": 16, \"k/k_orig\": 0.08798824987377794, \"k/k_worst\": 0.04293296902644957, \"k/sum_c\": 0.40037593984962405, \"k*k_orig/k_worst\": 935.3805961792569, \"k/(k_worst-k_orig)\": 0.08384359692092372}, {\"Method\": \"Hillside(Massey Params)\", \"Year\": \"2005\", \"k\": 2151.0, \"k_orig\": 21787.0, \"sum_c\": 5376.0, \"k_worst\": 44651.0, \"top_n\": 17, \"k/k_orig\": 0.09872859962362877, \"k/k_worst\": 0.048173613132964546, \"k/sum_c\": 0.40011160714285715, \"k*k_orig/k_worst\": 1049.5585093278985, \"k/(k_worst-k_orig)\": 0.0940780265920224}, {\"Method\": \"Hillside(Massey Params)\", \"Year\": \"2005\", \"k\": 2435.0, \"k_orig\": 21787.0, \"sum_c\": 6044.0, \"k_worst\": 44651.0, \"top_n\": 18, \"k/k_orig\": 0.1117638959012255, \"k/k_worst\": 0.05453405298873486, \"k/sum_c\": 0.4028788881535407, \"k*k_orig/k_worst\": 1188.1334124655664, \"k/(k_worst-k_orig)\": 0.10649930020993702}, {\"Method\": \"Hillside(Massey Params)\", \"Year\": \"2005\", \"k\": 2725.0, \"k_orig\": 21787.0, \"sum_c\": 6718.0, \"k_worst\": 44651.0, \"top_n\": 19, \"k/k_orig\": 0.12507458576215175, \"k/k_worst\": 0.0610288683344158, \"k/sum_c\": 0.40562667460553736, \"k*k_orig/k_worst\": 1329.6359544019172, \"k/(k_worst-k_orig)\": 0.11918299510146955}, {\"Method\": \"Hillside(Massey Params)\", \"Year\": \"2005\", \"k\": 3085.0, \"k_orig\": 21787.0, \"sum_c\": 7582.0, \"k_worst\": 44651.0, \"top_n\": 20, \"k/k_orig\": 0.14159820076192225, \"k/k_worst\": 0.06909139772905422, \"k/sum_c\": 0.40688472698496436, \"k*k_orig/k_worst\": 1505.2942823229043, \"k/(k_worst-k_orig)\": 0.13492827151854445}, {\"Method\": \"Hillside(Massey Params)\", \"Year\": \"2005\", \"k\": 3438.0, \"k_orig\": 21787.0, \"sum_c\": 8400.0, \"k_worst\": 44651.0, \"top_n\": 21, \"k/k_orig\": 0.15780052324780833, \"k/k_worst\": 0.0769971557187969, \"k/sum_c\": 0.4092857142857143, \"k*k_orig/k_worst\": 1677.537031645428, \"k/(k_worst-k_orig)\": 0.15036738978306508}, {\"Method\": \"Hillside(Massey Params)\", \"Year\": \"2005\", \"k\": 3594.0, \"k_orig\": 21787.0, \"sum_c\": 8829.0, \"k_worst\": 44651.0, \"top_n\": 22, \"k/k_orig\": 0.16496075641437555, \"k/k_worst\": 0.08049091845647353, \"k/sum_c\": 0.40706761807679237, \"k*k_orig/k_worst\": 1753.655640411189, \"k/(k_worst-k_orig)\": 0.15719034289713085}, {\"Method\": \"Hillside(Massey Params)\", \"Year\": \"2005\", \"k\": 3970.0, \"k_orig\": 21787.0, \"sum_c\": 9715.0, \"k_worst\": 44651.0, \"top_n\": 23, \"k/k_orig\": 0.18221875430302473, \"k/k_worst\": 0.08891178249087367, \"k/sum_c\": 0.40864642305712817, \"k*k_orig/k_worst\": 1937.1210051286646, \"k/(k_worst-k_orig)\": 0.17363540937718686}, {\"Method\": \"Hillside(Massey Params)\", \"Year\": \"2005\", \"k\": 4352.0, \"k_orig\": 21787.0, \"sum_c\": 10718.0, \"k_worst\": 44651.0, \"top_n\": 24, \"k/k_orig\": 0.19975214577500344, \"k/k_worst\": 0.09746702201518442, \"k/sum_c\": 0.4060459040865833, \"k*k_orig/k_worst\": 2123.514008644823, \"k/(k_worst-k_orig)\": 0.19034289713086075}, {\"Method\": \"Hillside(Massey Params)\", \"Year\": \"2005\", \"k\": 4732.0, \"k_orig\": 21787.0, \"sum_c\": 11781.0, \"k_worst\": 44651.0, \"top_n\": 25, \"k/k_orig\": 0.2171937393858723, \"k/k_worst\": 0.10597746970952499, \"k/sum_c\": 0.40166369578134287, \"k*k_orig/k_worst\": 2308.931132561421, \"k/(k_worst-k_orig)\": 0.206962911126662}, {\"Method\": \"Hillside(Massey Params)\", \"Year\": \"2005\", \"k\": 5195.0, \"k_orig\": 21787.0, \"sum_c\": 12867.0, \"k_worst\": 44651.0, \"top_n\": 26, \"k/k_orig\": 0.23844494423279938, \"k/k_worst\": 0.1163467783476294, \"k/sum_c\": 0.40374601694256623, \"k*k_orig/k_worst\": 2534.8472598598014, \"k/(k_worst-k_orig)\": 0.22721308607417776}, {\"Method\": \"Hillside(Massey Params)\", \"Year\": \"2005\", \"k\": 5513.0, \"k_orig\": 21787.0, \"sum_c\": 13635.0, \"k_worst\": 44651.0, \"top_n\": 27, \"k/k_orig\": 0.25304080414926333, \"k/k_worst\": 0.12346867931289333, \"k/sum_c\": 0.4043270993766043, \"k*k_orig/k_worst\": 2690.012116190007, \"k/(k_worst-k_orig)\": 0.24112141357592723}, {\"Method\": \"Hillside(Massey Params)\", \"Year\": \"2005\", \"k\": 5914.0, \"k_orig\": 21787.0, \"sum_c\": 14834.0, \"k_worst\": 44651.0, \"top_n\": 28, \"k/k_orig\": 0.27144627530178544, \"k/k_worst\": 0.13244944122192112, \"k/sum_c\": 0.3986787110691654, \"k*k_orig/k_worst\": 2885.6759759019956, \"k/(k_worst-k_orig)\": 0.2586599020293912}, {\"Method\": \"Hillside(Massey Params)\", \"Year\": \"2005\", \"k\": 6252.0, \"k_orig\": 21787.0, \"sum_c\": 15684.0, \"k_worst\": 44651.0, \"top_n\": 29, \"k/k_orig\": 0.2869601138293478, \"k/k_worst\": 0.1400192604868872, \"k/sum_c\": 0.39862280030604436, \"k*k_orig/k_worst\": 3050.599628227811, \"k/(k_worst-k_orig)\": 0.27344296710986704}, {\"Method\": \"Hillside(Colley Params)\", \"Year\": \"2006\", \"k\": 22.0, \"k_orig\": 25949.0, \"sum_c\": 46.0, \"k_worst\": 47986.0, \"top_n\": 2, \"k/k_orig\": 0.000847816871555744, \"k/k_worst\": 0.00045846705289042636, \"k/sum_c\": 0.4782608695652174, \"k*k_orig/k_worst\": 11.896761555453674, \"k/(k_worst-k_orig)\": 0.000998321005581522}, {\"Method\": \"Hillside(Colley Params)\", \"Year\": \"2006\", \"k\": 60.0, \"k_orig\": 25949.0, \"sum_c\": 142.0, \"k_worst\": 47986.0, \"top_n\": 3, \"k/k_orig\": 0.0023122278315156654, \"k/k_worst\": 0.0012503646897011628, \"k/sum_c\": 0.4225352112676056, \"k*k_orig/k_worst\": 32.44571333305547, \"k/(k_worst-k_orig)\": 0.002722693651585969}, {\"Method\": \"Hillside(Colley Params)\", \"Year\": \"2006\", \"k\": 122.0, \"k_orig\": 25949.0, \"sum_c\": 287.0, \"k_worst\": 47986.0, \"top_n\": 4, \"k/k_orig\": 0.004701529924081853, \"k/k_worst\": 0.0025424082023923645, \"k/sum_c\": 0.4250871080139373, \"k*k_orig/k_worst\": 65.97295044387947, \"k/(k_worst-k_orig)\": 0.005536143758224804}, {\"Method\": \"Hillside(Colley Params)\", \"Year\": \"2006\", \"k\": 174.0, \"k_orig\": 25949.0, \"sum_c\": 429.0, \"k_worst\": 47986.0, \"top_n\": 5, \"k/k_orig\": 0.0067054607113954294, \"k/k_worst\": 0.003626057600133372, \"k/sum_c\": 0.40559440559440557, \"k*k_orig/k_worst\": 94.09256866586088, \"k/(k_worst-k_orig)\": 0.00789581158959931}, {\"Method\": \"Hillside(Colley Params)\", \"Year\": \"2006\", \"k\": 266.0, \"k_orig\": 25949.0, \"sum_c\": 659.0, \"k_worst\": 47986.0, \"top_n\": 6, \"k/k_orig\": 0.01025087671971945, \"k/k_worst\": 0.005543283457675155, \"k/sum_c\": 0.40364188163884673, \"k*k_orig/k_worst\": 143.84266244321262, \"k/(k_worst-k_orig)\": 0.01207060852203113}, {\"Method\": \"Hillside(Colley Params)\", \"Year\": \"2006\", \"k\": 390.0, \"k_orig\": 25949.0, \"sum_c\": 936.0, \"k_worst\": 47986.0, \"top_n\": 7, \"k/k_orig\": 0.015029480904851825, \"k/k_worst\": 0.00812737048305756, \"k/sum_c\": 0.4166666666666667, \"k*k_orig/k_worst\": 210.8971366648606, \"k/(k_worst-k_orig)\": 0.017697508735308797}, {\"Method\": \"Hillside(Colley Params)\", \"Year\": \"2006\", \"k\": 559.0, \"k_orig\": 25949.0, \"sum_c\": 1324.0, \"k_worst\": 47986.0, \"top_n\": 8, \"k/k_orig\": 0.02154225596362095, \"k/k_worst\": 0.011649231025715833, \"k/sum_c\": 0.42220543806646527, \"k*k_orig/k_worst\": 302.2858958863002, \"k/(k_worst-k_orig)\": 0.025366429187275944}, {\"Method\": \"Hillside(Colley Params)\", \"Year\": \"2006\", \"k\": 711.0, \"k_orig\": 25949.0, \"sum_c\": 1694.0, \"k_worst\": 47986.0, \"top_n\": 9, \"k/k_orig\": 0.027399899803460633, \"k/k_worst\": 0.01481682157295878, \"k/sum_c\": 0.4197166469893743, \"k*k_orig/k_worst\": 384.4817029967074, \"k/(k_worst-k_orig)\": 0.03226391977129373}, {\"Method\": \"Hillside(Colley Params)\", \"Year\": \"2006\", \"k\": 894.0, \"k_orig\": 25949.0, \"sum_c\": 2156.0, \"k_worst\": 47986.0, \"top_n\": 10, \"k/k_orig\": 0.03445219468958342, \"k/k_worst\": 0.018630433876547326, \"k/sum_c\": 0.41465677179962895, \"k*k_orig/k_worst\": 483.4411286625266, \"k/(k_worst-k_orig)\": 0.04056813540863094}, {\"Method\": \"Hillside(Colley Params)\", \"Year\": \"2006\", \"k\": 1083.0, \"k_orig\": 25949.0, \"sum_c\": 2606.0, \"k_worst\": 47986.0, \"top_n\": 11, \"k/k_orig\": 0.04173571235885776, \"k/k_worst\": 0.02256908264910599, \"k/sum_c\": 0.4155794320798158, \"k*k_orig/k_worst\": 585.6451256616513, \"k/(k_worst-k_orig)\": 0.049144620411126744}, {\"Method\": \"Hillside(Colley Params)\", \"Year\": \"2006\", \"k\": 1288.0, \"k_orig\": 25949.0, \"sum_c\": 3098.0, \"k_worst\": 47986.0, \"top_n\": 12, \"k/k_orig\": 0.04963582411653628, \"k/k_worst\": 0.02684116200558496, \"k/sum_c\": 0.4157520981278244, \"k*k_orig/k_worst\": 696.5013128829241, \"k/(k_worst-k_orig)\": 0.05844715705404547}, {\"Method\": \"Hillside(Colley Params)\", \"Year\": \"2006\", \"k\": 1521.0, \"k_orig\": 25949.0, \"sum_c\": 3675.0, \"k_worst\": 47986.0, \"top_n\": 13, \"k/k_orig\": 0.058614975528922114, \"k/k_worst\": 0.03169674488392448, \"k/sum_c\": 0.4138775510204082, \"k*k_orig/k_worst\": 822.4988329929563, \"k/(k_worst-k_orig)\": 0.06902028406770432}, {\"Method\": \"Hillside(Colley Params)\", \"Year\": \"2006\", \"k\": 1675.0, \"k_orig\": 25949.0, \"sum_c\": 4087.0, \"k_worst\": 47986.0, \"top_n\": 14, \"k/k_orig\": 0.06454969362981232, \"k/k_worst\": 0.034906014254157465, \"k/sum_c\": 0.4098360655737705, \"k*k_orig/k_worst\": 905.776163881132, \"k/(k_worst-k_orig)\": 0.07600853110677497}, {\"Method\": \"Hillside(Colley Params)\", \"Year\": \"2006\", \"k\": 1924.0, \"k_orig\": 25949.0, \"sum_c\": 4681.0, \"k_worst\": 47986.0, \"top_n\": 15, \"k/k_orig\": 0.07414543913060234, \"k/k_worst\": 0.040095027716417285, \"k/sum_c\": 0.41102328562273016, \"k*k_orig/k_worst\": 1040.4258742133122, \"k/(k_worst-k_orig)\": 0.08730770976085674}, {\"Method\": \"Hillside(Colley Params)\", \"Year\": \"2006\", \"k\": 2206.0, \"k_orig\": 25949.0, \"sum_c\": 5409.0, \"k_worst\": 47986.0, \"top_n\": 16, \"k/k_orig\": 0.08501290993872596, \"k/k_worst\": 0.04597174175801275, \"k/sum_c\": 0.4078387872065077, \"k*k_orig/k_worst\": 1192.920726878673, \"k/(k_worst-k_orig)\": 0.1001043699233108}, {\"Method\": \"Hillside(Colley Params)\", \"Year\": \"2006\", \"k\": 2406.0, \"k_orig\": 25949.0, \"sum_c\": 5918.0, \"k_worst\": 47986.0, \"top_n\": 17, \"k/k_orig\": 0.09272033604377818, \"k/k_worst\": 0.05013962405701663, \"k/sum_c\": 0.40655626900980063, \"k*k_orig/k_worst\": 1301.0731046555245, \"k/(k_worst-k_orig)\": 0.10918001542859736}, {\"Method\": \"Hillside(Colley Params)\", \"Year\": \"2006\", \"k\": 2642.0, \"k_orig\": 25949.0, \"sum_c\": 6512.0, \"k_worst\": 47986.0, \"top_n\": 18, \"k/k_orig\": 0.1018150988477398, \"k/k_worst\": 0.055057725169841205, \"k/sum_c\": 0.4057125307125307, \"k*k_orig/k_worst\": 1428.6929104322094, \"k/(k_worst-k_orig)\": 0.1198892771248355}, {\"Method\": \"Hillside(Colley Params)\", \"Year\": \"2006\", \"k\": 2865.0, \"k_orig\": 25949.0, \"sum_c\": 7046.0, \"k_worst\": 47986.0, \"top_n\": 19, \"k/k_orig\": 0.11040887895487302, \"k/k_worst\": 0.059704913933230526, \"k/sum_c\": 0.4066136815214306, \"k*k_orig/k_worst\": 1549.282811653399, \"k/(k_worst-k_orig)\": 0.13000862186323003}, {\"Method\": \"Hillside(Colley Params)\", \"Year\": \"2006\", \"k\": 3180.0, \"k_orig\": 25949.0, \"sum_c\": 7890.0, \"k_worst\": 47986.0, \"top_n\": 20, \"k/k_orig\": 0.12254807507033026, \"k/k_worst\": 0.06626932855416164, \"k/sum_c\": 0.40304182509505704, \"k*k_orig/k_worst\": 1719.6228066519402, \"k/(k_worst-k_orig)\": 0.14430276353405636}, {\"Method\": \"Hillside(Colley Params)\", \"Year\": \"2006\", \"k\": 3495.0, \"k_orig\": 25949.0, \"sum_c\": 8741.0, \"k_worst\": 47986.0, \"top_n\": 21, \"k/k_orig\": 0.1346872711857875, \"k/k_worst\": 0.07283374317509274, \"k/sum_c\": 0.39983983525912364, \"k*k_orig/k_worst\": 1889.9628016504814, \"k/(k_worst-k_orig)\": 0.1585969052048827}, {\"Method\": \"Hillside(Colley Params)\", \"Year\": \"2006\", \"k\": 3839.0, \"k_orig\": 25949.0, \"sum_c\": 9644.0, \"k_worst\": 47986.0, \"top_n\": 22, \"k/k_orig\": 0.14794404408647732, \"k/k_worst\": 0.08000250072937941, \"k/sum_c\": 0.3980713396930734, \"k*k_orig/k_worst\": 2075.9848914266663, \"k/(k_worst-k_orig)\": 0.17420701547397557}, {\"Method\": \"Hillside(Colley Params)\", \"Year\": \"2006\", \"k\": 4206.0, \"k_orig\": 25949.0, \"sum_c\": 10588.0, \"k_worst\": 47986.0, \"top_n\": 23, \"k/k_orig\": 0.16208717098924813, \"k/k_worst\": 0.08765056474805151, \"k/sum_c\": 0.3972421609369097, \"k*k_orig/k_worst\": 2274.4445046471888, \"k/(k_worst-k_orig)\": 0.19086082497617643}, {\"Method\": \"Hillside(Colley Params)\", \"Year\": \"2006\", \"k\": 4641.0, \"k_orig\": 25949.0, \"sum_c\": 11613.0, \"k_worst\": 47986.0, \"top_n\": 24, \"k/k_orig\": 0.17885082276773673, \"k/k_worst\": 0.09671570874838495, \"k/sum_c\": 0.3996383363471971, \"k*k_orig/k_worst\": 2509.675926311841, \"k/(k_worst-k_orig)\": 0.2106003539501747}, {\"Method\": \"Hillside(Colley Params)\", \"Year\": \"2006\", \"k\": 5101.0, \"k_orig\": 25949.0, \"sum_c\": 12725.0, \"k_worst\": 47986.0, \"top_n\": 25, \"k/k_orig\": 0.1965779028093568, \"k/k_worst\": 0.10630183803609386, \"k/sum_c\": 0.40086444007858546, \"k*k_orig/k_worst\": 2758.4263951985995, \"k/(k_worst-k_orig)\": 0.2314743386123338}, {\"Method\": \"Hillside(Colley Params)\", \"Year\": \"2006\", \"k\": 5637.0, \"k_orig\": 25949.0, \"sum_c\": 14010.0, \"k_worst\": 47986.0, \"top_n\": 26, \"k/k_orig\": 0.21723380477089677, \"k/k_worst\": 0.11747176259742424, \"k/sum_c\": 0.40235546038543896, \"k*k_orig/k_worst\": 3048.274767640562, \"k/(k_worst-k_orig)\": 0.2557970685665018}, {\"Method\": \"Hillside(Colley Params)\", \"Year\": \"2006\", \"k\": 6049.0, \"k_orig\": 25949.0, \"sum_c\": 15068.0, \"k_worst\": 47986.0, \"top_n\": 27, \"k/k_orig\": 0.23311110254730433, \"k/k_worst\": 0.12605760013337222, \"k/sum_c\": 0.4014467746217149, \"k*k_orig/k_worst\": 3271.068665860876, \"k/(k_worst-k_orig)\": 0.2744928983073921}, {\"Method\": \"Hillside(Colley Params)\", \"Year\": \"2006\", \"k\": 6574.0, \"k_orig\": 25949.0, \"sum_c\": 16364.0, \"k_worst\": 47986.0, \"top_n\": 28, \"k/k_orig\": 0.2533430960730664, \"k/k_worst\": 0.1369982911682574, \"k/sum_c\": 0.40173551698851134, \"k*k_orig/k_worst\": 3554.9686575251117, \"k/(k_worst-k_orig)\": 0.29831646775876935}, {\"Method\": \"Hillside(Colley Params)\", \"Year\": \"2006\", \"k\": 7120.0, \"k_orig\": 25949.0, \"sum_c\": 17734.0, \"k_worst\": 47986.0, \"top_n\": 29, \"k/k_orig\": 0.27438436933985894, \"k/k_worst\": 0.148376609844538, \"k/sum_c\": 0.4014886658396301, \"k*k_orig/k_worst\": 3850.2246488559163, \"k/(k_worst-k_orig)\": 0.32309297998820163}, {\"Method\": \"Hillside(Massey Params)\", \"Year\": \"2006\", \"k\": 22.0, \"k_orig\": 25949.0, \"sum_c\": 46.0, \"k_worst\": 47986.0, \"top_n\": 2, \"k/k_orig\": 0.000847816871555744, \"k/k_worst\": 0.00045846705289042636, \"k/sum_c\": 0.4782608695652174, \"k*k_orig/k_worst\": 11.896761555453674, \"k/(k_worst-k_orig)\": 0.000998321005581522}, {\"Method\": \"Hillside(Massey Params)\", \"Year\": \"2006\", \"k\": 60.0, \"k_orig\": 25949.0, \"sum_c\": 142.0, \"k_worst\": 47986.0, \"top_n\": 3, \"k/k_orig\": 0.0023122278315156654, \"k/k_worst\": 0.0012503646897011628, \"k/sum_c\": 0.4225352112676056, \"k*k_orig/k_worst\": 32.44571333305547, \"k/(k_worst-k_orig)\": 0.002722693651585969}, {\"Method\": \"Hillside(Massey Params)\", \"Year\": \"2006\", \"k\": 122.0, \"k_orig\": 25949.0, \"sum_c\": 287.0, \"k_worst\": 47986.0, \"top_n\": 4, \"k/k_orig\": 0.004701529924081853, \"k/k_worst\": 0.0025424082023923645, \"k/sum_c\": 0.4250871080139373, \"k*k_orig/k_worst\": 65.97295044387947, \"k/(k_worst-k_orig)\": 0.005536143758224804}, {\"Method\": \"Hillside(Massey Params)\", \"Year\": \"2006\", \"k\": 174.0, \"k_orig\": 25949.0, \"sum_c\": 429.0, \"k_worst\": 47986.0, \"top_n\": 5, \"k/k_orig\": 0.0067054607113954294, \"k/k_worst\": 0.003626057600133372, \"k/sum_c\": 0.40559440559440557, \"k*k_orig/k_worst\": 94.09256866586088, \"k/(k_worst-k_orig)\": 0.00789581158959931}, {\"Method\": \"Hillside(Massey Params)\", \"Year\": \"2006\", \"k\": 266.0, \"k_orig\": 25949.0, \"sum_c\": 659.0, \"k_worst\": 47986.0, \"top_n\": 6, \"k/k_orig\": 0.01025087671971945, \"k/k_worst\": 0.005543283457675155, \"k/sum_c\": 0.40364188163884673, \"k*k_orig/k_worst\": 143.84266244321262, \"k/(k_worst-k_orig)\": 0.01207060852203113}, {\"Method\": \"Hillside(Massey Params)\", \"Year\": \"2006\", \"k\": 390.0, \"k_orig\": 25949.0, \"sum_c\": 936.0, \"k_worst\": 47986.0, \"top_n\": 7, \"k/k_orig\": 0.015029480904851825, \"k/k_worst\": 0.00812737048305756, \"k/sum_c\": 0.4166666666666667, \"k*k_orig/k_worst\": 210.8971366648606, \"k/(k_worst-k_orig)\": 0.017697508735308797}, {\"Method\": \"Hillside(Massey Params)\", \"Year\": \"2006\", \"k\": 559.0, \"k_orig\": 25949.0, \"sum_c\": 1324.0, \"k_worst\": 47986.0, \"top_n\": 8, \"k/k_orig\": 0.02154225596362095, \"k/k_worst\": 0.011649231025715833, \"k/sum_c\": 0.42220543806646527, \"k*k_orig/k_worst\": 302.2858958863002, \"k/(k_worst-k_orig)\": 0.025366429187275944}, {\"Method\": \"Hillside(Massey Params)\", \"Year\": \"2006\", \"k\": 711.0, \"k_orig\": 25949.0, \"sum_c\": 1694.0, \"k_worst\": 47986.0, \"top_n\": 9, \"k/k_orig\": 0.027399899803460633, \"k/k_worst\": 0.01481682157295878, \"k/sum_c\": 0.4197166469893743, \"k*k_orig/k_worst\": 384.4817029967074, \"k/(k_worst-k_orig)\": 0.03226391977129373}, {\"Method\": \"Hillside(Massey Params)\", \"Year\": \"2006\", \"k\": 894.0, \"k_orig\": 25949.0, \"sum_c\": 2156.0, \"k_worst\": 47986.0, \"top_n\": 10, \"k/k_orig\": 0.03445219468958342, \"k/k_worst\": 0.018630433876547326, \"k/sum_c\": 0.41465677179962895, \"k*k_orig/k_worst\": 483.4411286625266, \"k/(k_worst-k_orig)\": 0.04056813540863094}, {\"Method\": \"Hillside(Massey Params)\", \"Year\": \"2006\", \"k\": 1083.0, \"k_orig\": 25949.0, \"sum_c\": 2606.0, \"k_worst\": 47986.0, \"top_n\": 11, \"k/k_orig\": 0.04173571235885776, \"k/k_worst\": 0.02256908264910599, \"k/sum_c\": 0.4155794320798158, \"k*k_orig/k_worst\": 585.6451256616513, \"k/(k_worst-k_orig)\": 0.049144620411126744}, {\"Method\": \"Hillside(Massey Params)\", \"Year\": \"2006\", \"k\": 1288.0, \"k_orig\": 25949.0, \"sum_c\": 3098.0, \"k_worst\": 47986.0, \"top_n\": 12, \"k/k_orig\": 0.04963582411653628, \"k/k_worst\": 0.02684116200558496, \"k/sum_c\": 0.4157520981278244, \"k*k_orig/k_worst\": 696.5013128829241, \"k/(k_worst-k_orig)\": 0.05844715705404547}, {\"Method\": \"Hillside(Massey Params)\", \"Year\": \"2006\", \"k\": 1521.0, \"k_orig\": 25949.0, \"sum_c\": 3675.0, \"k_worst\": 47986.0, \"top_n\": 13, \"k/k_orig\": 0.058614975528922114, \"k/k_worst\": 0.03169674488392448, \"k/sum_c\": 0.4138775510204082, \"k*k_orig/k_worst\": 822.4988329929563, \"k/(k_worst-k_orig)\": 0.06902028406770432}, {\"Method\": \"Hillside(Massey Params)\", \"Year\": \"2006\", \"k\": 1675.0, \"k_orig\": 25949.0, \"sum_c\": 4087.0, \"k_worst\": 47986.0, \"top_n\": 14, \"k/k_orig\": 0.06454969362981232, \"k/k_worst\": 0.034906014254157465, \"k/sum_c\": 0.4098360655737705, \"k*k_orig/k_worst\": 905.776163881132, \"k/(k_worst-k_orig)\": 0.07600853110677497}, {\"Method\": \"Hillside(Massey Params)\", \"Year\": \"2006\", \"k\": 1924.0, \"k_orig\": 25949.0, \"sum_c\": 4681.0, \"k_worst\": 47986.0, \"top_n\": 15, \"k/k_orig\": 0.07414543913060234, \"k/k_worst\": 0.040095027716417285, \"k/sum_c\": 0.41102328562273016, \"k*k_orig/k_worst\": 1040.4258742133122, \"k/(k_worst-k_orig)\": 0.08730770976085674}, {\"Method\": \"Hillside(Massey Params)\", \"Year\": \"2006\", \"k\": 2206.0, \"k_orig\": 25949.0, \"sum_c\": 5409.0, \"k_worst\": 47986.0, \"top_n\": 16, \"k/k_orig\": 0.08501290993872596, \"k/k_worst\": 0.04597174175801275, \"k/sum_c\": 0.4078387872065077, \"k*k_orig/k_worst\": 1192.920726878673, \"k/(k_worst-k_orig)\": 0.1001043699233108}, {\"Method\": \"Hillside(Massey Params)\", \"Year\": \"2006\", \"k\": 2406.0, \"k_orig\": 25949.0, \"sum_c\": 5918.0, \"k_worst\": 47986.0, \"top_n\": 17, \"k/k_orig\": 0.09272033604377818, \"k/k_worst\": 0.05013962405701663, \"k/sum_c\": 0.40655626900980063, \"k*k_orig/k_worst\": 1301.0731046555245, \"k/(k_worst-k_orig)\": 0.10918001542859736}, {\"Method\": \"Hillside(Massey Params)\", \"Year\": \"2006\", \"k\": 2642.0, \"k_orig\": 25949.0, \"sum_c\": 6512.0, \"k_worst\": 47986.0, \"top_n\": 18, \"k/k_orig\": 0.1018150988477398, \"k/k_worst\": 0.055057725169841205, \"k/sum_c\": 0.4057125307125307, \"k*k_orig/k_worst\": 1428.6929104322094, \"k/(k_worst-k_orig)\": 0.1198892771248355}, {\"Method\": \"Hillside(Massey Params)\", \"Year\": \"2006\", \"k\": 2865.0, \"k_orig\": 25949.0, \"sum_c\": 7046.0, \"k_worst\": 47986.0, \"top_n\": 19, \"k/k_orig\": 0.11040887895487302, \"k/k_worst\": 0.059704913933230526, \"k/sum_c\": 0.4066136815214306, \"k*k_orig/k_worst\": 1549.282811653399, \"k/(k_worst-k_orig)\": 0.13000862186323003}, {\"Method\": \"Hillside(Massey Params)\", \"Year\": \"2006\", \"k\": 3180.0, \"k_orig\": 25949.0, \"sum_c\": 7890.0, \"k_worst\": 47986.0, \"top_n\": 20, \"k/k_orig\": 0.12254807507033026, \"k/k_worst\": 0.06626932855416164, \"k/sum_c\": 0.40304182509505704, \"k*k_orig/k_worst\": 1719.6228066519402, \"k/(k_worst-k_orig)\": 0.14430276353405636}, {\"Method\": \"Hillside(Massey Params)\", \"Year\": \"2006\", \"k\": 3495.0, \"k_orig\": 25949.0, \"sum_c\": 8741.0, \"k_worst\": 47986.0, \"top_n\": 21, \"k/k_orig\": 0.1346872711857875, \"k/k_worst\": 0.07283374317509274, \"k/sum_c\": 0.39983983525912364, \"k*k_orig/k_worst\": 1889.9628016504814, \"k/(k_worst-k_orig)\": 0.1585969052048827}, {\"Method\": \"Hillside(Massey Params)\", \"Year\": \"2006\", \"k\": 3839.0, \"k_orig\": 25949.0, \"sum_c\": 9644.0, \"k_worst\": 47986.0, \"top_n\": 22, \"k/k_orig\": 0.14794404408647732, \"k/k_worst\": 0.08000250072937941, \"k/sum_c\": 0.3980713396930734, \"k*k_orig/k_worst\": 2075.9848914266663, \"k/(k_worst-k_orig)\": 0.17420701547397557}, {\"Method\": \"Hillside(Massey Params)\", \"Year\": \"2006\", \"k\": 4206.0, \"k_orig\": 25949.0, \"sum_c\": 10588.0, \"k_worst\": 47986.0, \"top_n\": 23, \"k/k_orig\": 0.16208717098924813, \"k/k_worst\": 0.08765056474805151, \"k/sum_c\": 0.3972421609369097, \"k*k_orig/k_worst\": 2274.4445046471888, \"k/(k_worst-k_orig)\": 0.19086082497617643}, {\"Method\": \"Hillside(Massey Params)\", \"Year\": \"2006\", \"k\": 4641.0, \"k_orig\": 25949.0, \"sum_c\": 11613.0, \"k_worst\": 47986.0, \"top_n\": 24, \"k/k_orig\": 0.17885082276773673, \"k/k_worst\": 0.09671570874838495, \"k/sum_c\": 0.3996383363471971, \"k*k_orig/k_worst\": 2509.675926311841, \"k/(k_worst-k_orig)\": 0.2106003539501747}, {\"Method\": \"Hillside(Massey Params)\", \"Year\": \"2006\", \"k\": 5101.0, \"k_orig\": 25949.0, \"sum_c\": 12725.0, \"k_worst\": 47986.0, \"top_n\": 25, \"k/k_orig\": 0.1965779028093568, \"k/k_worst\": 0.10630183803609386, \"k/sum_c\": 0.40086444007858546, \"k*k_orig/k_worst\": 2758.4263951985995, \"k/(k_worst-k_orig)\": 0.2314743386123338}, {\"Method\": \"Hillside(Massey Params)\", \"Year\": \"2006\", \"k\": 5637.0, \"k_orig\": 25949.0, \"sum_c\": 14010.0, \"k_worst\": 47986.0, \"top_n\": 26, \"k/k_orig\": 0.21723380477089677, \"k/k_worst\": 0.11747176259742424, \"k/sum_c\": 0.40235546038543896, \"k*k_orig/k_worst\": 3048.274767640562, \"k/(k_worst-k_orig)\": 0.2557970685665018}, {\"Method\": \"Hillside(Massey Params)\", \"Year\": \"2006\", \"k\": 6049.0, \"k_orig\": 25949.0, \"sum_c\": 15068.0, \"k_worst\": 47986.0, \"top_n\": 27, \"k/k_orig\": 0.23311110254730433, \"k/k_worst\": 0.12605760013337222, \"k/sum_c\": 0.4014467746217149, \"k*k_orig/k_worst\": 3271.068665860876, \"k/(k_worst-k_orig)\": 0.2744928983073921}, {\"Method\": \"Hillside(Massey Params)\", \"Year\": \"2006\", \"k\": 6574.0, \"k_orig\": 25949.0, \"sum_c\": 16364.0, \"k_worst\": 47986.0, \"top_n\": 28, \"k/k_orig\": 0.2533430960730664, \"k/k_worst\": 0.1369982911682574, \"k/sum_c\": 0.40173551698851134, \"k*k_orig/k_worst\": 3554.9686575251117, \"k/(k_worst-k_orig)\": 0.29831646775876935}, {\"Method\": \"Hillside(Massey Params)\", \"Year\": \"2006\", \"k\": 7120.0, \"k_orig\": 25949.0, \"sum_c\": 17734.0, \"k_worst\": 47986.0, \"top_n\": 29, \"k/k_orig\": 0.27438436933985894, \"k/k_worst\": 0.148376609844538, \"k/sum_c\": 0.4014886658396301, \"k*k_orig/k_worst\": 3850.2246488559163, \"k/(k_worst-k_orig)\": 0.32309297998820163}, {\"Method\": \"Hillside(Colley Params)\", \"Year\": \"2007\", \"k\": 25.0, \"k_orig\": 30045.0, \"sum_c\": 56.0, \"k_worst\": 55306.0, \"top_n\": 2, \"k/k_orig\": 0.0008320852055250458, \"k/k_worst\": 0.0004520305211007847, \"k/sum_c\": 0.44642857142857145, \"k*k_orig/k_worst\": 13.581257006473077, \"k/(k_worst-k_orig)\": 0.0009896678674636793}, {\"Method\": \"Hillside(Colley Params)\", \"Year\": \"2007\", \"k\": 79.0, \"k_orig\": 30045.0, \"sum_c\": 169.0, \"k_worst\": 55306.0, \"top_n\": 3, \"k/k_orig\": 0.0026293892494591445, \"k/k_worst\": 0.0014284164466784796, \"k/sum_c\": 0.46745562130177515, \"k*k_orig/k_worst\": 42.916772140454924, \"k/(k_worst-k_orig)\": 0.0031273504611852264}, {\"Method\": \"Hillside(Colley Params)\", \"Year\": \"2007\", \"k\": 142.0, \"k_orig\": 30045.0, \"sum_c\": 311.0, \"k_worst\": 55306.0, \"top_n\": 4, \"k/k_orig\": 0.00472624396738226, \"k/k_worst\": 0.002567533359852457, \"k/sum_c\": 0.4565916398713826, \"k*k_orig/k_worst\": 77.14153979676708, \"k/(k_worst-k_orig)\": 0.005621313487193698}, {\"Method\": \"Hillside(Colley Params)\", \"Year\": \"2007\", \"k\": 240.0, \"k_orig\": 30045.0, \"sum_c\": 521.0, \"k_worst\": 55306.0, \"top_n\": 5, \"k/k_orig\": 0.00798801797304044, \"k/k_worst\": 0.004339493002567534, \"k/sum_c\": 0.46065259117082535, \"k*k_orig/k_worst\": 130.38006726214155, \"k/(k_worst-k_orig)\": 0.00950081152765132}, {\"Method\": \"Hillside(Colley Params)\", \"Year\": \"2007\", \"k\": 356.0, \"k_orig\": 30045.0, \"sum_c\": 785.0, \"k_worst\": 55306.0, \"top_n\": 6, \"k/k_orig\": 0.011848893326676652, \"k/k_worst\": 0.006436914620475175, \"k/sum_c\": 0.4535031847133758, \"k*k_orig/k_worst\": 193.39709977217663, \"k/(k_worst-k_orig)\": 0.014092870432682791}, {\"Method\": \"Hillside(Colley Params)\", \"Year\": \"2007\", \"k\": 476.0, \"k_orig\": 30045.0, \"sum_c\": 1074.0, \"k_worst\": 55306.0, \"top_n\": 7, \"k/k_orig\": 0.01584290231319687, \"k/k_worst\": 0.008606661121758941, \"k/sum_c\": 0.44320297951582865, \"k*k_orig/k_worst\": 258.5871334032474, \"k/(k_worst-k_orig)\": 0.01884327619650845}, {\"Method\": \"Hillside(Colley Params)\", \"Year\": \"2007\", \"k\": 583.0, \"k_orig\": 30045.0, \"sum_c\": 1311.0, \"k_worst\": 55306.0, \"top_n\": 8, \"k/k_orig\": 0.019404226992844067, \"k/k_worst\": 0.0105413517520703, \"k/sum_c\": 0.444698703279939, \"k*k_orig/k_worst\": 316.7149133909522, \"k/(k_worst-k_orig)\": 0.023079054669253}, {\"Method\": \"Hillside(Colley Params)\", \"Year\": \"2007\", \"k\": 679.0, \"k_orig\": 30045.0, \"sum_c\": 1524.0, \"k_worst\": 55306.0, \"top_n\": 9, \"k/k_orig\": 0.022599434182060243, \"k/k_worst\": 0.012277148953097313, \"k/sum_c\": 0.44553805774278216, \"k*k_orig/k_worst\": 368.8669402958088, \"k/(k_worst-k_orig)\": 0.026879379280313528}, {\"Method\": \"Hillside(Colley Params)\", \"Year\": \"2007\", \"k\": 829.0, \"k_orig\": 30045.0, \"sum_c\": 1857.0, \"k_worst\": 55306.0, \"top_n\": 10, \"k/k_orig\": 0.02759194541521052, \"k/k_worst\": 0.014989332079702022, \"k/sum_c\": 0.4464189553042542, \"k*k_orig/k_worst\": 450.35448233464723, \"k/(k_worst-k_orig)\": 0.0328173864850956}, {\"Method\": \"Hillside(Colley Params)\", \"Year\": \"2007\", \"k\": 1035.0, \"k_orig\": 30045.0, \"sum_c\": 2340.0, \"k_worst\": 55306.0, \"top_n\": 11, \"k/k_orig\": 0.034448327508736894, \"k/k_worst\": 0.018714063573572488, \"k/sum_c\": 0.4423076923076923, \"k*k_orig/k_worst\": 562.2640400679854, \"k/(k_worst-k_orig)\": 0.04097224971299632}, {\"Method\": \"Hillside(Colley Params)\", \"Year\": \"2007\", \"k\": 1248.0, \"k_orig\": 30045.0, \"sum_c\": 2863.0, \"k_worst\": 55306.0, \"top_n\": 12, \"k/k_orig\": 0.04153769345981029, \"k/k_worst\": 0.022565363613351173, \"k/sum_c\": 0.43590639189661196, \"k*k_orig/k_worst\": 677.976349763136, \"k/(k_worst-k_orig)\": 0.04940421994378687}, {\"Method\": \"Hillside(Colley Params)\", \"Year\": \"2007\", \"k\": 1460.0, \"k_orig\": 30045.0, \"sum_c\": 3330.0, \"k_worst\": 55306.0, \"top_n\": 13, \"k/k_orig\": 0.048593776002662674, \"k/k_worst\": 0.02639858243228583, \"k/sum_c\": 0.43843843843843844, \"k*k_orig/k_worst\": 793.1454091780276, \"k/(k_worst-k_orig)\": 0.057796603459878866}, {\"Method\": \"Hillside(Colley Params)\", \"Year\": \"2007\", \"k\": 1720.0, \"k_orig\": 30045.0, \"sum_c\": 3961.0, \"k_worst\": 55306.0, \"top_n\": 14, \"k/k_orig\": 0.05724746214012315, \"k/k_worst\": 0.03109969985173399, \"k/sum_c\": 0.4342337793486493, \"k*k_orig/k_worst\": 934.3904820453477, \"k/(k_worst-k_orig)\": 0.06808914928150113}, {\"Method\": \"Hillside(Colley Params)\", \"Year\": \"2007\", \"k\": 2029.0, \"k_orig\": 30045.0, \"sum_c\": 4675.0, \"k_worst\": 55306.0, \"top_n\": 15, \"k/k_orig\": 0.06753203528041271, \"k/k_worst\": 0.03668679709253969, \"k/sum_c\": 0.4340106951871658, \"k*k_orig/k_worst\": 1102.254818645355, \"k/(k_worst-k_orig)\": 0.08032144412335221}, {\"Method\": \"Hillside(Colley Params)\", \"Year\": \"2007\", \"k\": 2319.0, \"k_orig\": 30045.0, \"sum_c\": 5373.0, \"k_worst\": 55306.0, \"top_n\": 16, \"k/k_orig\": 0.07718422366450324, \"k/k_worst\": 0.041930351137308794, \"k/sum_c\": 0.4316024567280849, \"k*k_orig/k_worst\": 1259.7973999204426, \"k/(k_worst-k_orig)\": 0.09180159138593089}, {\"Method\": \"Hillside(Colley Params)\", \"Year\": \"2007\", \"k\": 2649.0, \"k_orig\": 30045.0, \"sum_c\": 6185.0, \"k_worst\": 55306.0, \"top_n\": 17, \"k/k_orig\": 0.08816774837743385, \"k/k_worst\": 0.04789715401583915, \"k/sum_c\": 0.4282942603071948, \"k*k_orig/k_worst\": 1439.0699924058872, \"k/(k_worst-k_orig)\": 0.10486520723645144}, {\"Method\": \"Hillside(Colley Params)\", \"Year\": \"2007\", \"k\": 3088.0, \"k_orig\": 30045.0, \"sum_c\": 7141.0, \"k_worst\": 55306.0, \"top_n\": 18, \"k/k_orig\": 0.10277916458645366, \"k/k_worst\": 0.05583480996636893, \"k/sum_c\": 0.43243243243243246, \"k*k_orig/k_worst\": 1677.5568654395545, \"k/(k_worst-k_orig)\": 0.12224377498911365}, {\"Method\": \"Hillside(Colley Params)\", \"Year\": \"2007\", \"k\": 3422.0, \"k_orig\": 30045.0, \"sum_c\": 7906.0, \"k_worst\": 55306.0, \"top_n\": 19, \"k/k_orig\": 0.11389582293226827, \"k/k_worst\": 0.061873937728275416, \"k/sum_c\": 0.43283582089552236, \"k*k_orig/k_worst\": 1859.0024590460348, \"k/(k_worst-k_orig)\": 0.1354657376984284}, {\"Method\": \"Hillside(Colley Params)\", \"Year\": \"2007\", \"k\": 3836.0, \"k_orig\": 30045.0, \"sum_c\": 8892.0, \"k_worst\": 55306.0, \"top_n\": 20, \"k/k_orig\": 0.127675153935763, \"k/k_worst\": 0.0693595631577044, \"k/sum_c\": 0.4313990103463788, \"k*k_orig/k_worst\": 2083.908075073229, \"k/(k_worst-k_orig)\": 0.15185463758362694}, {\"Method\": \"Hillside(Colley Params)\", \"Year\": \"2007\", \"k\": 4314.0, \"k_orig\": 30045.0, \"sum_c\": 9952.0, \"k_worst\": 55306.0, \"top_n\": 21, \"k/k_orig\": 0.1435846230654019, \"k/k_worst\": 0.07800238672115141, \"k/sum_c\": 0.4334807073954984, \"k*k_orig/k_worst\": 2343.581709036994, \"k/(k_worst-k_orig)\": 0.17077708720953247}, {\"Method\": \"Hillside(Colley Params)\", \"Year\": \"2007\", \"k\": 4715.0, \"k_orig\": 30045.0, \"sum_c\": 10923.0, \"k_worst\": 55306.0, \"top_n\": 22, \"k/k_orig\": 0.15693126976202362, \"k/k_worst\": 0.085252956279608, \"k/sum_c\": 0.4316579694223199, \"k*k_orig/k_worst\": 2561.4250714208224, \"k/(k_worst-k_orig)\": 0.18665135980364989}, {\"Method\": \"Hillside(Colley Params)\", \"Year\": \"2007\", \"k\": 5126.0, \"k_orig\": 30045.0, \"sum_c\": 11878.0, \"k_worst\": 55306.0, \"top_n\": 23, \"k/k_orig\": 0.1706107505408554, \"k/k_worst\": 0.0926843380465049, \"k/sum_c\": 0.4315541336925408, \"k*k_orig/k_worst\": 2784.70093660724, \"k/(k_worst-k_orig)\": 0.20292149954475278}, {\"Method\": \"Hillside(Colley Params)\", \"Year\": \"2007\", \"k\": 5604.0, \"k_orig\": 30045.0, \"sum_c\": 13047.0, \"k_worst\": 55306.0, \"top_n\": 24, \"k/k_orig\": 0.18652021967049426, \"k/k_worst\": 0.10132716160995191, \"k/sum_c\": 0.4295240285123017, \"k*k_orig/k_worst\": 3044.374570571005, \"k/(k_worst-k_orig)\": 0.22184394917065833}, {\"Method\": \"Hillside(Colley Params)\", \"Year\": \"2007\", \"k\": 6191.0, \"k_orig\": 30045.0, \"sum_c\": 14308.0, \"k_worst\": 55306.0, \"top_n\": 25, \"k/k_orig\": 0.20605758029622234, \"k/k_worst\": 0.11194083824539833, \"k/sum_c\": 0.4326949958065418, \"k*k_orig/k_worst\": 3363.262485082993, \"k/(k_worst-k_orig)\": 0.2450813506987055}, {\"Method\": \"Hillside(Colley Params)\", \"Year\": \"2007\", \"k\": 6726.0, \"k_orig\": 30045.0, \"sum_c\": 15569.0, \"k_worst\": 55306.0, \"top_n\": 26, \"k/k_orig\": 0.2238642036944583, \"k/k_worst\": 0.12161429139695512, \"k/sum_c\": 0.4320123321985998, \"k*k_orig/k_worst\": 3653.9013850215165, \"k/(k_worst-k_orig)\": 0.26626024306242824}, {\"Method\": \"Hillside(Colley Params)\", \"Year\": \"2007\", \"k\": 7290.0, \"k_orig\": 30045.0, \"sum_c\": 16840.0, \"k_worst\": 55306.0, \"top_n\": 27, \"k/k_orig\": 0.24263604593110336, \"k/k_worst\": 0.13181209995298881, \"k/sum_c\": 0.4328978622327791, \"k*k_orig/k_worst\": 3960.2945430875493, \"k/(k_worst-k_orig)\": 0.2885871501524089}, {\"Method\": \"Hillside(Colley Params)\", \"Year\": \"2007\", \"k\": 7919.0, \"k_orig\": 30045.0, \"sum_c\": 18284.0, \"k_worst\": 55306.0, \"top_n\": 28, \"k/k_orig\": 0.2635713097021135, \"k/k_worst\": 0.14318518786388457, \"k/sum_c\": 0.4331109166484358, \"k*k_orig/k_worst\": 4301.998969370412, \"k/(k_worst-k_orig)\": 0.31348719369779504}, {\"Method\": \"Hillside(Colley Params)\", \"Year\": \"2007\", \"k\": 8491.0, \"k_orig\": 30045.0, \"sum_c\": 19608.0, \"k_worst\": 55306.0, \"top_n\": 29, \"k/k_orig\": 0.28260941920452654, \"k/k_worst\": 0.15352764618667053, \"k/sum_c\": 0.4330375356997144, \"k*k_orig/k_worst\": 4612.738129678516, \"k/(k_worst-k_orig)\": 0.336130794505364}, {\"Method\": \"Hillside(Massey Params)\", \"Year\": \"2007\", \"k\": 25.0, \"k_orig\": 30045.0, \"sum_c\": 56.0, \"k_worst\": 55306.0, \"top_n\": 2, \"k/k_orig\": 0.0008320852055250458, \"k/k_worst\": 0.0004520305211007847, \"k/sum_c\": 0.44642857142857145, \"k*k_orig/k_worst\": 13.581257006473077, \"k/(k_worst-k_orig)\": 0.0009896678674636793}, {\"Method\": \"Hillside(Massey Params)\", \"Year\": \"2007\", \"k\": 79.0, \"k_orig\": 30045.0, \"sum_c\": 169.0, \"k_worst\": 55306.0, \"top_n\": 3, \"k/k_orig\": 0.0026293892494591445, \"k/k_worst\": 0.0014284164466784796, \"k/sum_c\": 0.46745562130177515, \"k*k_orig/k_worst\": 42.916772140454924, \"k/(k_worst-k_orig)\": 0.0031273504611852264}, {\"Method\": \"Hillside(Massey Params)\", \"Year\": \"2007\", \"k\": 142.0, \"k_orig\": 30045.0, \"sum_c\": 311.0, \"k_worst\": 55306.0, \"top_n\": 4, \"k/k_orig\": 0.00472624396738226, \"k/k_worst\": 0.002567533359852457, \"k/sum_c\": 0.4565916398713826, \"k*k_orig/k_worst\": 77.14153979676708, \"k/(k_worst-k_orig)\": 0.005621313487193698}, {\"Method\": \"Hillside(Massey Params)\", \"Year\": \"2007\", \"k\": 240.0, \"k_orig\": 30045.0, \"sum_c\": 521.0, \"k_worst\": 55306.0, \"top_n\": 5, \"k/k_orig\": 0.00798801797304044, \"k/k_worst\": 0.004339493002567534, \"k/sum_c\": 0.46065259117082535, \"k*k_orig/k_worst\": 130.38006726214155, \"k/(k_worst-k_orig)\": 0.00950081152765132}, {\"Method\": \"Hillside(Massey Params)\", \"Year\": \"2007\", \"k\": 356.0, \"k_orig\": 30045.0, \"sum_c\": 785.0, \"k_worst\": 55306.0, \"top_n\": 6, \"k/k_orig\": 0.011848893326676652, \"k/k_worst\": 0.006436914620475175, \"k/sum_c\": 0.4535031847133758, \"k*k_orig/k_worst\": 193.39709977217663, \"k/(k_worst-k_orig)\": 0.014092870432682791}, {\"Method\": \"Hillside(Massey Params)\", \"Year\": \"2007\", \"k\": 476.0, \"k_orig\": 30045.0, \"sum_c\": 1074.0, \"k_worst\": 55306.0, \"top_n\": 7, \"k/k_orig\": 0.01584290231319687, \"k/k_worst\": 0.008606661121758941, \"k/sum_c\": 0.44320297951582865, \"k*k_orig/k_worst\": 258.5871334032474, \"k/(k_worst-k_orig)\": 0.01884327619650845}, {\"Method\": \"Hillside(Massey Params)\", \"Year\": \"2007\", \"k\": 583.0, \"k_orig\": 30045.0, \"sum_c\": 1311.0, \"k_worst\": 55306.0, \"top_n\": 8, \"k/k_orig\": 0.019404226992844067, \"k/k_worst\": 0.0105413517520703, \"k/sum_c\": 0.444698703279939, \"k*k_orig/k_worst\": 316.7149133909522, \"k/(k_worst-k_orig)\": 0.023079054669253}, {\"Method\": \"Hillside(Massey Params)\", \"Year\": \"2007\", \"k\": 679.0, \"k_orig\": 30045.0, \"sum_c\": 1524.0, \"k_worst\": 55306.0, \"top_n\": 9, \"k/k_orig\": 0.022599434182060243, \"k/k_worst\": 0.012277148953097313, \"k/sum_c\": 0.44553805774278216, \"k*k_orig/k_worst\": 368.8669402958088, \"k/(k_worst-k_orig)\": 0.026879379280313528}, {\"Method\": \"Hillside(Massey Params)\", \"Year\": \"2007\", \"k\": 829.0, \"k_orig\": 30045.0, \"sum_c\": 1857.0, \"k_worst\": 55306.0, \"top_n\": 10, \"k/k_orig\": 0.02759194541521052, \"k/k_worst\": 0.014989332079702022, \"k/sum_c\": 0.4464189553042542, \"k*k_orig/k_worst\": 450.35448233464723, \"k/(k_worst-k_orig)\": 0.0328173864850956}, {\"Method\": \"Hillside(Massey Params)\", \"Year\": \"2007\", \"k\": 1035.0, \"k_orig\": 30045.0, \"sum_c\": 2340.0, \"k_worst\": 55306.0, \"top_n\": 11, \"k/k_orig\": 0.034448327508736894, \"k/k_worst\": 0.018714063573572488, \"k/sum_c\": 0.4423076923076923, \"k*k_orig/k_worst\": 562.2640400679854, \"k/(k_worst-k_orig)\": 0.04097224971299632}, {\"Method\": \"Hillside(Massey Params)\", \"Year\": \"2007\", \"k\": 1248.0, \"k_orig\": 30045.0, \"sum_c\": 2863.0, \"k_worst\": 55306.0, \"top_n\": 12, \"k/k_orig\": 0.04153769345981029, \"k/k_worst\": 0.022565363613351173, \"k/sum_c\": 0.43590639189661196, \"k*k_orig/k_worst\": 677.976349763136, \"k/(k_worst-k_orig)\": 0.04940421994378687}, {\"Method\": \"Hillside(Massey Params)\", \"Year\": \"2007\", \"k\": 1460.0, \"k_orig\": 30045.0, \"sum_c\": 3330.0, \"k_worst\": 55306.0, \"top_n\": 13, \"k/k_orig\": 0.048593776002662674, \"k/k_worst\": 0.02639858243228583, \"k/sum_c\": 0.43843843843843844, \"k*k_orig/k_worst\": 793.1454091780276, \"k/(k_worst-k_orig)\": 0.057796603459878866}, {\"Method\": \"Hillside(Massey Params)\", \"Year\": \"2007\", \"k\": 1720.0, \"k_orig\": 30045.0, \"sum_c\": 3961.0, \"k_worst\": 55306.0, \"top_n\": 14, \"k/k_orig\": 0.05724746214012315, \"k/k_worst\": 0.03109969985173399, \"k/sum_c\": 0.4342337793486493, \"k*k_orig/k_worst\": 934.3904820453477, \"k/(k_worst-k_orig)\": 0.06808914928150113}, {\"Method\": \"Hillside(Massey Params)\", \"Year\": \"2007\", \"k\": 2029.0, \"k_orig\": 30045.0, \"sum_c\": 4675.0, \"k_worst\": 55306.0, \"top_n\": 15, \"k/k_orig\": 0.06753203528041271, \"k/k_worst\": 0.03668679709253969, \"k/sum_c\": 0.4340106951871658, \"k*k_orig/k_worst\": 1102.254818645355, \"k/(k_worst-k_orig)\": 0.08032144412335221}, {\"Method\": \"Hillside(Massey Params)\", \"Year\": \"2007\", \"k\": 2319.0, \"k_orig\": 30045.0, \"sum_c\": 5373.0, \"k_worst\": 55306.0, \"top_n\": 16, \"k/k_orig\": 0.07718422366450324, \"k/k_worst\": 0.041930351137308794, \"k/sum_c\": 0.4316024567280849, \"k*k_orig/k_worst\": 1259.7973999204426, \"k/(k_worst-k_orig)\": 0.09180159138593089}, {\"Method\": \"Hillside(Massey Params)\", \"Year\": \"2007\", \"k\": 2649.0, \"k_orig\": 30045.0, \"sum_c\": 6185.0, \"k_worst\": 55306.0, \"top_n\": 17, \"k/k_orig\": 0.08816774837743385, \"k/k_worst\": 0.04789715401583915, \"k/sum_c\": 0.4282942603071948, \"k*k_orig/k_worst\": 1439.0699924058872, \"k/(k_worst-k_orig)\": 0.10486520723645144}, {\"Method\": \"Hillside(Massey Params)\", \"Year\": \"2007\", \"k\": 3088.0, \"k_orig\": 30045.0, \"sum_c\": 7141.0, \"k_worst\": 55306.0, \"top_n\": 18, \"k/k_orig\": 0.10277916458645366, \"k/k_worst\": 0.05583480996636893, \"k/sum_c\": 0.43243243243243246, \"k*k_orig/k_worst\": 1677.5568654395545, \"k/(k_worst-k_orig)\": 0.12224377498911365}, {\"Method\": \"Hillside(Massey Params)\", \"Year\": \"2007\", \"k\": 3422.0, \"k_orig\": 30045.0, \"sum_c\": 7906.0, \"k_worst\": 55306.0, \"top_n\": 19, \"k/k_orig\": 0.11389582293226827, \"k/k_worst\": 0.061873937728275416, \"k/sum_c\": 0.43283582089552236, \"k*k_orig/k_worst\": 1859.0024590460348, \"k/(k_worst-k_orig)\": 0.1354657376984284}, {\"Method\": \"Hillside(Massey Params)\", \"Year\": \"2007\", \"k\": 3836.0, \"k_orig\": 30045.0, \"sum_c\": 8892.0, \"k_worst\": 55306.0, \"top_n\": 20, \"k/k_orig\": 0.127675153935763, \"k/k_worst\": 0.0693595631577044, \"k/sum_c\": 0.4313990103463788, \"k*k_orig/k_worst\": 2083.908075073229, \"k/(k_worst-k_orig)\": 0.15185463758362694}, {\"Method\": \"Hillside(Massey Params)\", \"Year\": \"2007\", \"k\": 4314.0, \"k_orig\": 30045.0, \"sum_c\": 9952.0, \"k_worst\": 55306.0, \"top_n\": 21, \"k/k_orig\": 0.1435846230654019, \"k/k_worst\": 0.07800238672115141, \"k/sum_c\": 0.4334807073954984, \"k*k_orig/k_worst\": 2343.581709036994, \"k/(k_worst-k_orig)\": 0.17077708720953247}, {\"Method\": \"Hillside(Massey Params)\", \"Year\": \"2007\", \"k\": 4715.0, \"k_orig\": 30045.0, \"sum_c\": 10923.0, \"k_worst\": 55306.0, \"top_n\": 22, \"k/k_orig\": 0.15693126976202362, \"k/k_worst\": 0.085252956279608, \"k/sum_c\": 0.4316579694223199, \"k*k_orig/k_worst\": 2561.4250714208224, \"k/(k_worst-k_orig)\": 0.18665135980364989}, {\"Method\": \"Hillside(Massey Params)\", \"Year\": \"2007\", \"k\": 5126.0, \"k_orig\": 30045.0, \"sum_c\": 11878.0, \"k_worst\": 55306.0, \"top_n\": 23, \"k/k_orig\": 0.1706107505408554, \"k/k_worst\": 0.0926843380465049, \"k/sum_c\": 0.4315541336925408, \"k*k_orig/k_worst\": 2784.70093660724, \"k/(k_worst-k_orig)\": 0.20292149954475278}, {\"Method\": \"Hillside(Massey Params)\", \"Year\": \"2007\", \"k\": 5604.0, \"k_orig\": 30045.0, \"sum_c\": 13047.0, \"k_worst\": 55306.0, \"top_n\": 24, \"k/k_orig\": 0.18652021967049426, \"k/k_worst\": 0.10132716160995191, \"k/sum_c\": 0.4295240285123017, \"k*k_orig/k_worst\": 3044.374570571005, \"k/(k_worst-k_orig)\": 0.22184394917065833}, {\"Method\": \"Hillside(Massey Params)\", \"Year\": \"2007\", \"k\": 6191.0, \"k_orig\": 30045.0, \"sum_c\": 14308.0, \"k_worst\": 55306.0, \"top_n\": 25, \"k/k_orig\": 0.20605758029622234, \"k/k_worst\": 0.11194083824539833, \"k/sum_c\": 0.4326949958065418, \"k*k_orig/k_worst\": 3363.262485082993, \"k/(k_worst-k_orig)\": 0.2450813506987055}, {\"Method\": \"Hillside(Massey Params)\", \"Year\": \"2007\", \"k\": 6726.0, \"k_orig\": 30045.0, \"sum_c\": 15569.0, \"k_worst\": 55306.0, \"top_n\": 26, \"k/k_orig\": 0.2238642036944583, \"k/k_worst\": 0.12161429139695512, \"k/sum_c\": 0.4320123321985998, \"k*k_orig/k_worst\": 3653.9013850215165, \"k/(k_worst-k_orig)\": 0.26626024306242824}, {\"Method\": \"Hillside(Massey Params)\", \"Year\": \"2007\", \"k\": 7290.0, \"k_orig\": 30045.0, \"sum_c\": 16840.0, \"k_worst\": 55306.0, \"top_n\": 27, \"k/k_orig\": 0.24263604593110336, \"k/k_worst\": 0.13181209995298881, \"k/sum_c\": 0.4328978622327791, \"k*k_orig/k_worst\": 3960.2945430875493, \"k/(k_worst-k_orig)\": 0.2885871501524089}, {\"Method\": \"Hillside(Massey Params)\", \"Year\": \"2007\", \"k\": 7919.0, \"k_orig\": 30045.0, \"sum_c\": 18284.0, \"k_worst\": 55306.0, \"top_n\": 28, \"k/k_orig\": 0.2635713097021135, \"k/k_worst\": 0.14318518786388457, \"k/sum_c\": 0.4331109166484358, \"k*k_orig/k_worst\": 4301.998969370412, \"k/(k_worst-k_orig)\": 0.31348719369779504}, {\"Method\": \"Hillside(Massey Params)\", \"Year\": \"2007\", \"k\": 8491.0, \"k_orig\": 30045.0, \"sum_c\": 19608.0, \"k_worst\": 55306.0, \"top_n\": 29, \"k/k_orig\": 0.28260941920452654, \"k/k_worst\": 0.15352764618667053, \"k/sum_c\": 0.4330375356997144, \"k*k_orig/k_worst\": 4612.738129678516, \"k/(k_worst-k_orig)\": 0.336130794505364}, {\"Method\": \"Hillside(Colley Params)\", \"Year\": \"2008\", \"k\": 16.0, \"k_orig\": 25609.0, \"sum_c\": 44.0, \"k_worst\": 48271.0, \"top_n\": 2, \"k/k_orig\": 0.0006247803506579718, \"k/k_worst\": 0.00033146195438254854, \"k/sum_c\": 0.36363636363636365, \"k*k_orig/k_worst\": 8.488409189782685, \"k/(k_worst-k_orig)\": 0.0007060277115876799}, {\"Method\": \"Hillside(Colley Params)\", \"Year\": \"2008\", \"k\": 54.0, \"k_orig\": 25609.0, \"sum_c\": 129.0, \"k_worst\": 48271.0, \"top_n\": 3, \"k/k_orig\": 0.002108633683470655, \"k/k_worst\": 0.0011186840960411013, \"k/sum_c\": 0.4186046511627907, \"k*k_orig/k_worst\": 28.648381015516563, \"k/(k_worst-k_orig)\": 0.0023828435266084196}, {\"Method\": \"Hillside(Colley Params)\", \"Year\": \"2008\", \"k\": 101.0, \"k_orig\": 25609.0, \"sum_c\": 255.0, \"k_worst\": 48271.0, \"top_n\": 4, \"k/k_orig\": 0.003943925963528447, \"k/k_worst\": 0.0020923535870398377, \"k/sum_c\": 0.396078431372549, \"k*k_orig/k_worst\": 53.5830830105032, \"k/(k_worst-k_orig)\": 0.0044567999293972285}, {\"Method\": \"Hillside(Colley Params)\", \"Year\": \"2008\", \"k\": 153.0, \"k_orig\": 25609.0, \"sum_c\": 392.0, \"k_worst\": 48271.0, \"top_n\": 5, \"k/k_orig\": 0.005974462103166855, \"k/k_worst\": 0.00316960493878312, \"k/sum_c\": 0.3903061224489796, \"k*k_orig/k_worst\": 81.17041287729693, \"k/(k_worst-k_orig)\": 0.006751389992057188}, {\"Method\": \"Hillside(Colley Params)\", \"Year\": \"2008\", \"k\": 251.0, \"k_orig\": 25609.0, \"sum_c\": 620.0, \"k_worst\": 48271.0, \"top_n\": 6, \"k/k_orig\": 0.009801241750946934, \"k/k_worst\": 0.00519980940937623, \"k/sum_c\": 0.40483870967741936, \"k*k_orig/k_worst\": 133.16191916471587, \"k/(k_worst-k_orig)\": 0.011075809725531727}, {\"Method\": \"Hillside(Colley Params)\", \"Year\": \"2008\", \"k\": 339.0, \"k_orig\": 25609.0, \"sum_c\": 852.0, \"k_worst\": 48271.0, \"top_n\": 7, \"k/k_orig\": 0.013237533679565778, \"k/k_worst\": 0.007022850158480247, \"k/sum_c\": 0.397887323943662, \"k*k_orig/k_worst\": 179.84816970852066, \"k/(k_worst-k_orig)\": 0.014958962139263966}, {\"Method\": \"Hillside(Colley Params)\", \"Year\": \"2008\", \"k\": 447.0, \"k_orig\": 25609.0, \"sum_c\": 1090.0, \"k_worst\": 48271.0, \"top_n\": 8, \"k/k_orig\": 0.01745480104650709, \"k/k_worst\": 0.00926021835056245, \"k/sum_c\": 0.41009174311926605, \"k*k_orig/k_worst\": 237.14493173955378, \"k/(k_worst-k_orig)\": 0.019724649192480806}, {\"Method\": \"Hillside(Colley Params)\", \"Year\": \"2008\", \"k\": 603.0, \"k_orig\": 25609.0, \"sum_c\": 1446.0, \"k_worst\": 48271.0, \"top_n\": 9, \"k/k_orig\": 0.023546409465422313, \"k/k_worst\": 0.012491972405792298, \"k/sum_c\": 0.4170124481327801, \"k*k_orig/k_worst\": 319.90692133993497, \"k/(k_worst-k_orig)\": 0.02660841938046068}, {\"Method\": \"Hillside(Colley Params)\", \"Year\": \"2008\", \"k\": 711.0, \"k_orig\": 25609.0, \"sum_c\": 1695.0, \"k_worst\": 48271.0, \"top_n\": 10, \"k/k_orig\": 0.027763676832363623, \"k/k_worst\": 0.0147293405978745, \"k/sum_c\": 0.4194690265486726, \"k*k_orig/k_worst\": 377.20368337096806, \"k/(k_worst-k_orig)\": 0.03137410643367752}, {\"Method\": \"Hillside(Colley Params)\", \"Year\": \"2008\", \"k\": 906.0, \"k_orig\": 25609.0, \"sum_c\": 2156.0, \"k_worst\": 48271.0, \"top_n\": 11, \"k/k_orig\": 0.03537818735600765, \"k/k_worst\": 0.01876903316691181, \"k/sum_c\": 0.4202226345083488, \"k*k_orig/k_worst\": 480.65617037144455, \"k/(k_worst-k_orig)\": 0.03997881916865237}, {\"Method\": \"Hillside(Colley Params)\", \"Year\": \"2008\", \"k\": 1103.0, \"k_orig\": 25609.0, \"sum_c\": 2626.0, \"k_worst\": 48271.0, \"top_n\": 12, \"k/k_orig\": 0.04307079542348393, \"k/k_worst\": 0.02285015848024694, \"k/sum_c\": 0.42003046458492005, \"k*k_orig/k_worst\": 585.1697085206439, \"k/(k_worst-k_orig)\": 0.04867178536757568}, {\"Method\": \"Hillside(Colley Params)\", \"Year\": \"2008\", \"k\": 1334.0, \"k_orig\": 25609.0, \"sum_c\": 3195.0, \"k_worst\": 48271.0, \"top_n\": 13, \"k/k_orig\": 0.0520910617361084, \"k/k_worst\": 0.027635640446644984, \"k/sum_c\": 0.41752738654147104, \"k*k_orig/k_worst\": 707.7211161981314, \"k/(k_worst-k_orig)\": 0.0588650604536228}, {\"Method\": \"Hillside(Colley Params)\", \"Year\": \"2008\", \"k\": 1528.0, \"k_orig\": 25609.0, \"sum_c\": 3646.0, \"k_worst\": 48271.0, \"top_n\": 14, \"k/k_orig\": 0.059666523487836305, \"k/k_worst\": 0.03165461664353338, \"k/sum_c\": 0.4190894130554032, \"k*k_orig/k_worst\": 810.6430776242464, \"k/(k_worst-k_orig)\": 0.06742564645662343}, {\"Method\": \"Hillside(Colley Params)\", \"Year\": \"2008\", \"k\": 1765.0, \"k_orig\": 25609.0, \"sum_c\": 4221.0, \"k_worst\": 48271.0, \"top_n\": 15, \"k/k_orig\": 0.06892108243195752, \"k/k_worst\": 0.036564396842824885, \"k/sum_c\": 0.4181473584458659, \"k*k_orig/k_worst\": 936.3776387479024, \"k/(k_worst-k_orig)\": 0.07788368193451593}, {\"Method\": \"Hillside(Colley Params)\", \"Year\": \"2008\", \"k\": 2024.0, \"k_orig\": 25609.0, \"sum_c\": 4881.0, \"k_worst\": 48271.0, \"top_n\": 16, \"k/k_orig\": 0.07903471435823343, \"k/k_worst\": 0.04192993722939239, \"k/sum_c\": 0.4146691251792665, \"k*k_orig/k_worst\": 1073.7837625075097, \"k/(k_worst-k_orig)\": 0.0893125055158415}, {\"Method\": \"Hillside(Colley Params)\", \"Year\": \"2008\", \"k\": 2297.0, \"k_orig\": 25609.0, \"sum_c\": 5614.0, \"k_worst\": 48271.0, \"top_n\": 17, \"k/k_orig\": 0.08969502909133507, \"k/k_worst\": 0.04758550682604462, \"k/sum_c\": 0.4091556822230139, \"k*k_orig/k_worst\": 1218.6172443081769, \"k/(k_worst-k_orig)\": 0.10135910334480629}, {\"Method\": \"Hillside(Colley Params)\", \"Year\": \"2008\", \"k\": 2676.0, \"k_orig\": 25609.0, \"sum_c\": 6461.0, \"k_worst\": 48271.0, \"top_n\": 18, \"k/k_orig\": 0.10449451364754578, \"k/k_worst\": 0.055437011870481244, \"k/sum_c\": 0.4141773719238508, \"k*k_orig/k_worst\": 1419.686436991154, \"k/(k_worst-k_orig)\": 0.11808313476303944}, {\"Method\": \"Hillside(Colley Params)\", \"Year\": \"2008\", \"k\": 2996.0, \"k_orig\": 25609.0, \"sum_c\": 7209.0, \"k_worst\": 48271.0, \"top_n\": 19, \"k/k_orig\": 0.11699012066070522, \"k/k_worst\": 0.06206625095813221, \"k/sum_c\": 0.41559162158413093, \"k*k_orig/k_worst\": 1589.4546207868077, \"k/(k_worst-k_orig)\": 0.13220368899479304}, {\"Method\": \"Hillside(Colley Params)\", \"Year\": \"2008\", \"k\": 3345.0, \"k_orig\": 25609.0, \"sum_c\": 8019.0, \"k_worst\": 48271.0, \"top_n\": 20, \"k/k_orig\": 0.13061814205943223, \"k/k_worst\": 0.06929626483810156, \"k/sum_c\": 0.4171343060231949, \"k*k_orig/k_worst\": 1774.6080462389427, \"k/(k_worst-k_orig)\": 0.1476039184537993}, {\"Method\": \"Hillside(Colley Params)\", \"Year\": \"2008\", \"k\": 3738.0, \"k_orig\": 25609.0, \"sum_c\": 8929.0, \"k_worst\": 48271.0, \"top_n\": 21, \"k/k_orig\": 0.14596430942246866, \"k/k_worst\": 0.0774377990926229, \"k/sum_c\": 0.4186359054765371, \"k*k_orig/k_worst\": 1983.10459696298, \"k/(k_worst-k_orig)\": 0.1649457241196717}, {\"Method\": \"Hillside(Colley Params)\", \"Year\": \"2008\", \"k\": 4209.0, \"k_orig\": 25609.0, \"sum_c\": 10024.0, \"k_worst\": 48271.0, \"top_n\": 22, \"k/k_orig\": 0.16435628099496272, \"k/k_worst\": 0.08719521037475918, \"k/sum_c\": 0.4198922585794094, \"k*k_orig/k_worst\": 2232.9821424872075, \"k/(k_worst-k_orig)\": 0.185729414879534}, {\"Method\": \"Hillside(Colley Params)\", \"Year\": \"2008\", \"k\": 4589.0, \"k_orig\": 25609.0, \"sum_c\": 10903.0, \"k_worst\": 48271.0, \"top_n\": 23, \"k/k_orig\": 0.17919481432308954, \"k/k_worst\": 0.0950674317913447, \"k/sum_c\": 0.42089333211042834, \"k*k_orig/k_worst\": 2434.5818607445462, \"k/(k_worst-k_orig)\": 0.20249757302974142}, {\"Method\": \"Hillside(Colley Params)\", \"Year\": \"2008\", \"k\": 5036.0, \"k_orig\": 25609.0, \"sum_c\": 12000.0, \"k_worst\": 48271.0, \"top_n\": 24, \"k/k_orig\": 0.19664961536959663, \"k/k_worst\": 0.10432765014190715, \"k/sum_c\": 0.4196666666666667, \"k*k_orig/k_worst\": 2671.7267924841003, \"k/(k_worst-k_orig)\": 0.2222222222222222}, {\"Method\": \"Hillside(Colley Params)\", \"Year\": \"2008\", \"k\": 5473.0, \"k_orig\": 25609.0, \"sum_c\": 13128.0, \"k_worst\": 48271.0, \"top_n\": 25, \"k/k_orig\": 0.21371392869694247, \"k/k_worst\": 0.1133807047709805, \"k/sum_c\": 0.4168951858622791, \"k*k_orig/k_worst\": 2903.56646848004, \"k/(k_worst-k_orig)\": 0.24150560409496072}, {\"Method\": \"Hillside(Colley Params)\", \"Year\": \"2008\", \"k\": 5934.0, \"k_orig\": 25609.0, \"sum_c\": 14208.0, \"k_worst\": 48271.0, \"top_n\": 26, \"k/k_orig\": 0.2317154125502753, \"k/k_worst\": 0.12293095233162768, \"k/sum_c\": 0.41765202702702703, \"k*k_orig/k_worst\": 3148.1387582606535, \"k/(k_worst-k_orig)\": 0.26184802753508074}, {\"Method\": \"Hillside(Colley Params)\", \"Year\": \"2008\", \"k\": 6364.0, \"k_orig\": 25609.0, \"sum_c\": 15248.0, \"k_worst\": 48271.0, \"top_n\": 27, \"k/k_orig\": 0.24850638447420828, \"k/k_worst\": 0.13183899235565869, \"k/sum_c\": 0.41736621196222456, \"k*k_orig/k_worst\": 3376.264755236063, \"k/(k_worst-k_orig)\": 0.2808225222839996}, {\"Method\": \"Hillside(Colley Params)\", \"Year\": \"2008\", \"k\": 6685.0, \"k_orig\": 25609.0, \"sum_c\": 16144.0, \"k_worst\": 48271.0, \"top_n\": 28, \"k/k_orig\": 0.2610410402592838, \"k/k_worst\": 0.13848894781545856, \"k/sum_c\": 0.414085728444004, \"k*k_orig/k_worst\": 3546.563464606078, \"k/(k_worst-k_orig)\": 0.2949872032477275}, {\"Method\": \"Hillside(Colley Params)\", \"Year\": \"2008\", \"k\": 7006.0, \"k_orig\": 25609.0, \"sum_c\": 17022.0, \"k_worst\": 48271.0, \"top_n\": 29, \"k/k_orig\": 0.2735756960443594, \"k/k_worst\": 0.14513890327525844, \"k/sum_c\": 0.4115850076371754, \"k*k_orig/k_worst\": 3716.8621739760933, \"k/(k_worst-k_orig)\": 0.3091518842114553}, {\"Method\": \"Hillside(Massey Params)\", \"Year\": \"2008\", \"k\": 16.0, \"k_orig\": 25609.0, \"sum_c\": 44.0, \"k_worst\": 48271.0, \"top_n\": 2, \"k/k_orig\": 0.0006247803506579718, \"k/k_worst\": 0.00033146195438254854, \"k/sum_c\": 0.36363636363636365, \"k*k_orig/k_worst\": 8.488409189782685, \"k/(k_worst-k_orig)\": 0.0007060277115876799}, {\"Method\": \"Hillside(Massey Params)\", \"Year\": \"2008\", \"k\": 54.0, \"k_orig\": 25609.0, \"sum_c\": 129.0, \"k_worst\": 48271.0, \"top_n\": 3, \"k/k_orig\": 0.002108633683470655, \"k/k_worst\": 0.0011186840960411013, \"k/sum_c\": 0.4186046511627907, \"k*k_orig/k_worst\": 28.648381015516563, \"k/(k_worst-k_orig)\": 0.0023828435266084196}, {\"Method\": \"Hillside(Massey Params)\", \"Year\": \"2008\", \"k\": 101.0, \"k_orig\": 25609.0, \"sum_c\": 255.0, \"k_worst\": 48271.0, \"top_n\": 4, \"k/k_orig\": 0.003943925963528447, \"k/k_worst\": 0.0020923535870398377, \"k/sum_c\": 0.396078431372549, \"k*k_orig/k_worst\": 53.5830830105032, \"k/(k_worst-k_orig)\": 0.0044567999293972285}, {\"Method\": \"Hillside(Massey Params)\", \"Year\": \"2008\", \"k\": 153.0, \"k_orig\": 25609.0, \"sum_c\": 392.0, \"k_worst\": 48271.0, \"top_n\": 5, \"k/k_orig\": 0.005974462103166855, \"k/k_worst\": 0.00316960493878312, \"k/sum_c\": 0.3903061224489796, \"k*k_orig/k_worst\": 81.17041287729693, \"k/(k_worst-k_orig)\": 0.006751389992057188}, {\"Method\": \"Hillside(Massey Params)\", \"Year\": \"2008\", \"k\": 251.0, \"k_orig\": 25609.0, \"sum_c\": 620.0, \"k_worst\": 48271.0, \"top_n\": 6, \"k/k_orig\": 0.009801241750946934, \"k/k_worst\": 0.00519980940937623, \"k/sum_c\": 0.40483870967741936, \"k*k_orig/k_worst\": 133.16191916471587, \"k/(k_worst-k_orig)\": 0.011075809725531727}, {\"Method\": \"Hillside(Massey Params)\", \"Year\": \"2008\", \"k\": 339.0, \"k_orig\": 25609.0, \"sum_c\": 852.0, \"k_worst\": 48271.0, \"top_n\": 7, \"k/k_orig\": 0.013237533679565778, \"k/k_worst\": 0.007022850158480247, \"k/sum_c\": 0.397887323943662, \"k*k_orig/k_worst\": 179.84816970852066, \"k/(k_worst-k_orig)\": 0.014958962139263966}, {\"Method\": \"Hillside(Massey Params)\", \"Year\": \"2008\", \"k\": 447.0, \"k_orig\": 25609.0, \"sum_c\": 1090.0, \"k_worst\": 48271.0, \"top_n\": 8, \"k/k_orig\": 0.01745480104650709, \"k/k_worst\": 0.00926021835056245, \"k/sum_c\": 0.41009174311926605, \"k*k_orig/k_worst\": 237.14493173955378, \"k/(k_worst-k_orig)\": 0.019724649192480806}, {\"Method\": \"Hillside(Massey Params)\", \"Year\": \"2008\", \"k\": 603.0, \"k_orig\": 25609.0, \"sum_c\": 1446.0, \"k_worst\": 48271.0, \"top_n\": 9, \"k/k_orig\": 0.023546409465422313, \"k/k_worst\": 0.012491972405792298, \"k/sum_c\": 0.4170124481327801, \"k*k_orig/k_worst\": 319.90692133993497, \"k/(k_worst-k_orig)\": 0.02660841938046068}, {\"Method\": \"Hillside(Massey Params)\", \"Year\": \"2008\", \"k\": 711.0, \"k_orig\": 25609.0, \"sum_c\": 1695.0, \"k_worst\": 48271.0, \"top_n\": 10, \"k/k_orig\": 0.027763676832363623, \"k/k_worst\": 0.0147293405978745, \"k/sum_c\": 0.4194690265486726, \"k*k_orig/k_worst\": 377.20368337096806, \"k/(k_worst-k_orig)\": 0.03137410643367752}, {\"Method\": \"Hillside(Massey Params)\", \"Year\": \"2008\", \"k\": 906.0, \"k_orig\": 25609.0, \"sum_c\": 2156.0, \"k_worst\": 48271.0, \"top_n\": 11, \"k/k_orig\": 0.03537818735600765, \"k/k_worst\": 0.01876903316691181, \"k/sum_c\": 0.4202226345083488, \"k*k_orig/k_worst\": 480.65617037144455, \"k/(k_worst-k_orig)\": 0.03997881916865237}, {\"Method\": \"Hillside(Massey Params)\", \"Year\": \"2008\", \"k\": 1103.0, \"k_orig\": 25609.0, \"sum_c\": 2626.0, \"k_worst\": 48271.0, \"top_n\": 12, \"k/k_orig\": 0.04307079542348393, \"k/k_worst\": 0.02285015848024694, \"k/sum_c\": 0.42003046458492005, \"k*k_orig/k_worst\": 585.1697085206439, \"k/(k_worst-k_orig)\": 0.04867178536757568}, {\"Method\": \"Hillside(Massey Params)\", \"Year\": \"2008\", \"k\": 1334.0, \"k_orig\": 25609.0, \"sum_c\": 3195.0, \"k_worst\": 48271.0, \"top_n\": 13, \"k/k_orig\": 0.0520910617361084, \"k/k_worst\": 0.027635640446644984, \"k/sum_c\": 0.41752738654147104, \"k*k_orig/k_worst\": 707.7211161981314, \"k/(k_worst-k_orig)\": 0.0588650604536228}, {\"Method\": \"Hillside(Massey Params)\", \"Year\": \"2008\", \"k\": 1528.0, \"k_orig\": 25609.0, \"sum_c\": 3646.0, \"k_worst\": 48271.0, \"top_n\": 14, \"k/k_orig\": 0.059666523487836305, \"k/k_worst\": 0.03165461664353338, \"k/sum_c\": 0.4190894130554032, \"k*k_orig/k_worst\": 810.6430776242464, \"k/(k_worst-k_orig)\": 0.06742564645662343}, {\"Method\": \"Hillside(Massey Params)\", \"Year\": \"2008\", \"k\": 1765.0, \"k_orig\": 25609.0, \"sum_c\": 4221.0, \"k_worst\": 48271.0, \"top_n\": 15, \"k/k_orig\": 0.06892108243195752, \"k/k_worst\": 0.036564396842824885, \"k/sum_c\": 0.4181473584458659, \"k*k_orig/k_worst\": 936.3776387479024, \"k/(k_worst-k_orig)\": 0.07788368193451593}, {\"Method\": \"Hillside(Massey Params)\", \"Year\": \"2008\", \"k\": 2024.0, \"k_orig\": 25609.0, \"sum_c\": 4881.0, \"k_worst\": 48271.0, \"top_n\": 16, \"k/k_orig\": 0.07903471435823343, \"k/k_worst\": 0.04192993722939239, \"k/sum_c\": 0.4146691251792665, \"k*k_orig/k_worst\": 1073.7837625075097, \"k/(k_worst-k_orig)\": 0.0893125055158415}, {\"Method\": \"Hillside(Massey Params)\", \"Year\": \"2008\", \"k\": 2297.0, \"k_orig\": 25609.0, \"sum_c\": 5614.0, \"k_worst\": 48271.0, \"top_n\": 17, \"k/k_orig\": 0.08969502909133507, \"k/k_worst\": 0.04758550682604462, \"k/sum_c\": 0.4091556822230139, \"k*k_orig/k_worst\": 1218.6172443081769, \"k/(k_worst-k_orig)\": 0.10135910334480629}, {\"Method\": \"Hillside(Massey Params)\", \"Year\": \"2008\", \"k\": 2676.0, \"k_orig\": 25609.0, \"sum_c\": 6461.0, \"k_worst\": 48271.0, \"top_n\": 18, \"k/k_orig\": 0.10449451364754578, \"k/k_worst\": 0.055437011870481244, \"k/sum_c\": 0.4141773719238508, \"k*k_orig/k_worst\": 1419.686436991154, \"k/(k_worst-k_orig)\": 0.11808313476303944}, {\"Method\": \"Hillside(Massey Params)\", \"Year\": \"2008\", \"k\": 2996.0, \"k_orig\": 25609.0, \"sum_c\": 7209.0, \"k_worst\": 48271.0, \"top_n\": 19, \"k/k_orig\": 0.11699012066070522, \"k/k_worst\": 0.06206625095813221, \"k/sum_c\": 0.41559162158413093, \"k*k_orig/k_worst\": 1589.4546207868077, \"k/(k_worst-k_orig)\": 0.13220368899479304}, {\"Method\": \"Hillside(Massey Params)\", \"Year\": \"2008\", \"k\": 3345.0, \"k_orig\": 25609.0, \"sum_c\": 8019.0, \"k_worst\": 48271.0, \"top_n\": 20, \"k/k_orig\": 0.13061814205943223, \"k/k_worst\": 0.06929626483810156, \"k/sum_c\": 0.4171343060231949, \"k*k_orig/k_worst\": 1774.6080462389427, \"k/(k_worst-k_orig)\": 0.1476039184537993}, {\"Method\": \"Hillside(Massey Params)\", \"Year\": \"2008\", \"k\": 3738.0, \"k_orig\": 25609.0, \"sum_c\": 8929.0, \"k_worst\": 48271.0, \"top_n\": 21, \"k/k_orig\": 0.14596430942246866, \"k/k_worst\": 0.0774377990926229, \"k/sum_c\": 0.4186359054765371, \"k*k_orig/k_worst\": 1983.10459696298, \"k/(k_worst-k_orig)\": 0.1649457241196717}, {\"Method\": \"Hillside(Massey Params)\", \"Year\": \"2008\", \"k\": 4209.0, \"k_orig\": 25609.0, \"sum_c\": 10024.0, \"k_worst\": 48271.0, \"top_n\": 22, \"k/k_orig\": 0.16435628099496272, \"k/k_worst\": 0.08719521037475918, \"k/sum_c\": 0.4198922585794094, \"k*k_orig/k_worst\": 2232.9821424872075, \"k/(k_worst-k_orig)\": 0.185729414879534}, {\"Method\": \"Hillside(Massey Params)\", \"Year\": \"2008\", \"k\": 4589.0, \"k_orig\": 25609.0, \"sum_c\": 10903.0, \"k_worst\": 48271.0, \"top_n\": 23, \"k/k_orig\": 0.17919481432308954, \"k/k_worst\": 0.0950674317913447, \"k/sum_c\": 0.42089333211042834, \"k*k_orig/k_worst\": 2434.5818607445462, \"k/(k_worst-k_orig)\": 0.20249757302974142}, {\"Method\": \"Hillside(Massey Params)\", \"Year\": \"2008\", \"k\": 5036.0, \"k_orig\": 25609.0, \"sum_c\": 12000.0, \"k_worst\": 48271.0, \"top_n\": 24, \"k/k_orig\": 0.19664961536959663, \"k/k_worst\": 0.10432765014190715, \"k/sum_c\": 0.4196666666666667, \"k*k_orig/k_worst\": 2671.7267924841003, \"k/(k_worst-k_orig)\": 0.2222222222222222}, {\"Method\": \"Hillside(Massey Params)\", \"Year\": \"2008\", \"k\": 5473.0, \"k_orig\": 25609.0, \"sum_c\": 13128.0, \"k_worst\": 48271.0, \"top_n\": 25, \"k/k_orig\": 0.21371392869694247, \"k/k_worst\": 0.1133807047709805, \"k/sum_c\": 0.4168951858622791, \"k*k_orig/k_worst\": 2903.56646848004, \"k/(k_worst-k_orig)\": 0.24150560409496072}, {\"Method\": \"Hillside(Massey Params)\", \"Year\": \"2008\", \"k\": 5934.0, \"k_orig\": 25609.0, \"sum_c\": 14208.0, \"k_worst\": 48271.0, \"top_n\": 26, \"k/k_orig\": 0.2317154125502753, \"k/k_worst\": 0.12293095233162768, \"k/sum_c\": 0.41765202702702703, \"k*k_orig/k_worst\": 3148.1387582606535, \"k/(k_worst-k_orig)\": 0.26184802753508074}, {\"Method\": \"Hillside(Massey Params)\", \"Year\": \"2008\", \"k\": 6364.0, \"k_orig\": 25609.0, \"sum_c\": 15248.0, \"k_worst\": 48271.0, \"top_n\": 27, \"k/k_orig\": 0.24850638447420828, \"k/k_worst\": 0.13183899235565869, \"k/sum_c\": 0.41736621196222456, \"k*k_orig/k_worst\": 3376.264755236063, \"k/(k_worst-k_orig)\": 0.2808225222839996}, {\"Method\": \"Hillside(Massey Params)\", \"Year\": \"2008\", \"k\": 6685.0, \"k_orig\": 25609.0, \"sum_c\": 16144.0, \"k_worst\": 48271.0, \"top_n\": 28, \"k/k_orig\": 0.2610410402592838, \"k/k_worst\": 0.13848894781545856, \"k/sum_c\": 0.414085728444004, \"k*k_orig/k_worst\": 3546.563464606078, \"k/(k_worst-k_orig)\": 0.2949872032477275}, {\"Method\": \"Hillside(Massey Params)\", \"Year\": \"2008\", \"k\": 7006.0, \"k_orig\": 25609.0, \"sum_c\": 17022.0, \"k_worst\": 48271.0, \"top_n\": 29, \"k/k_orig\": 0.2735756960443594, \"k/k_worst\": 0.14513890327525844, \"k/sum_c\": 0.4115850076371754, \"k*k_orig/k_worst\": 3716.8621739760933, \"k/(k_worst-k_orig)\": 0.3091518842114553}, {\"Method\": \"Hillside(Colley Params)\", \"Year\": \"2009\", \"k\": 22.0, \"k_orig\": 26927.0, \"sum_c\": 47.0, \"k_worst\": 50040.0, \"top_n\": 2, \"k/k_orig\": 0.000817023805102685, \"k/k_worst\": 0.00043964828137490005, \"k/sum_c\": 0.46808510638297873, \"k*k_orig/k_worst\": 11.838409272581934, \"k/(k_worst-k_orig)\": 0.0009518452818760005}, {\"Method\": \"Hillside(Colley Params)\", \"Year\": \"2009\", \"k\": 73.0, \"k_orig\": 26927.0, \"sum_c\": 153.0, \"k_worst\": 50040.0, \"top_n\": 3, \"k/k_orig\": 0.0027110335351134547, \"k/k_worst\": 0.0014588329336530776, \"k/sum_c\": 0.477124183006536, \"k*k_orig/k_worst\": 39.28199440447642, \"k/(k_worst-k_orig)\": 0.0031583957080430925}, {\"Method\": \"Hillside(Colley Params)\", \"Year\": \"2009\", \"k\": 132.0, \"k_orig\": 26927.0, \"sum_c\": 290.0, \"k_worst\": 50040.0, \"top_n\": 4, \"k/k_orig\": 0.004902142830616111, \"k/k_worst\": 0.0026378896882494006, \"k/sum_c\": 0.45517241379310347, \"k*k_orig/k_worst\": 71.0304556354916, \"k/(k_worst-k_orig)\": 0.005711071691256003}, {\"Method\": \"Hillside(Colley Params)\", \"Year\": \"2009\", \"k\": 218.0, \"k_orig\": 26927.0, \"sum_c\": 486.0, \"k_worst\": 50040.0, \"top_n\": 5, \"k/k_orig\": 0.00809596315965388, \"k/k_worst\": 0.004356514788169464, \"k/sum_c\": 0.448559670781893, \"k*k_orig/k_worst\": 117.30787370103917, \"k/(k_worst-k_orig)\": 0.00943192142949855}, {\"Method\": \"Hillside(Colley Params)\", \"Year\": \"2009\", \"k\": 327.0, \"k_orig\": 26927.0, \"sum_c\": 754.0, \"k_worst\": 50040.0, \"top_n\": 6, \"k/k_orig\": 0.012143944739480819, \"k/k_worst\": 0.006534772182254196, \"k/sum_c\": 0.4336870026525199, \"k*k_orig/k_worst\": 175.96181055155876, \"k/(k_worst-k_orig)\": 0.014147882144247826}, {\"Method\": \"Hillside(Colley Params)\", \"Year\": \"2009\", \"k\": 444.0, \"k_orig\": 26927.0, \"sum_c\": 1032.0, \"k_worst\": 50040.0, \"top_n\": 7, \"k/k_orig\": 0.016489025884799644, \"k/k_worst\": 0.008872901678657074, \"k/sum_c\": 0.43023255813953487, \"k*k_orig/k_worst\": 238.92062350119903, \"k/(k_worst-k_orig)\": 0.01920996841604292}, {\"Method\": \"Hillside(Colley Params)\", \"Year\": \"2009\", \"k\": 570.0, \"k_orig\": 26927.0, \"sum_c\": 1330.0, \"k_worst\": 50040.0, \"top_n\": 8, \"k/k_orig\": 0.02116834404129684, \"k/k_worst\": 0.011390887290167866, \"k/sum_c\": 0.42857142857142855, \"k*k_orig/k_worst\": 306.7224220623501, \"k/(k_worst-k_orig)\": 0.02466144593951456}, {\"Method\": \"Hillside(Colley Params)\", \"Year\": \"2009\", \"k\": 729.0, \"k_orig\": 26927.0, \"sum_c\": 1721.0, \"k_worst\": 50040.0, \"top_n\": 9, \"k/k_orig\": 0.027073197905448064, \"k/k_worst\": 0.014568345323741008, \"k/sum_c\": 0.4235909355026148, \"k*k_orig/k_worst\": 392.2818345323741, \"k/(k_worst-k_orig)\": 0.0315406913858002}, {\"Method\": \"Hillside(Colley Params)\", \"Year\": \"2009\", \"k\": 862.0, \"k_orig\": 26927.0, \"sum_c\": 2054.0, \"k_worst\": 50040.0, \"top_n\": 10, \"k/k_orig\": 0.03201247818175066, \"k/k_worst\": 0.017226219024780175, \"k/sum_c\": 0.4196689386562804, \"k*k_orig/k_worst\": 463.8503996802558, \"k/(k_worst-k_orig)\": 0.03729502877168693}, {\"Method\": \"Hillside(Colley Params)\", \"Year\": \"2009\", \"k\": 1089.0, \"k_orig\": 26927.0, \"sum_c\": 2597.0, \"k_worst\": 50040.0, \"top_n\": 11, \"k/k_orig\": 0.04044267835258291, \"k/k_worst\": 0.021762589928057553, \"k/sum_c\": 0.41932999614940314, \"k*k_orig/k_worst\": 586.0012589928058, \"k/(k_worst-k_orig)\": 0.047116341452862025}, {\"Method\": \"Hillside(Colley Params)\", \"Year\": \"2009\", \"k\": 1355.0, \"k_orig\": 26927.0, \"sum_c\": 3164.0, \"k_worst\": 50040.0, \"top_n\": 12, \"k/k_orig\": 0.0503212389051881, \"k/k_worst\": 0.027078337330135892, \"k/sum_c\": 0.4282553729456384, \"k*k_orig/k_worst\": 729.1383892885691, \"k/(k_worst-k_orig)\": 0.058625016224635486}, {\"Method\": \"Hillside(Colley Params)\", \"Year\": \"2009\", \"k\": 1592.0, \"k_orig\": 26927.0, \"sum_c\": 3725.0, \"k_worst\": 50040.0, \"top_n\": 13, \"k/k_orig\": 0.05912281353288521, \"k/k_worst\": 0.03181454836131095, \"k/sum_c\": 0.4273825503355705, \"k*k_orig/k_worst\": 856.67034372502, \"k/(k_worst-k_orig)\": 0.06887898585211785}, {\"Method\": \"Hillside(Colley Params)\", \"Year\": \"2009\", \"k\": 1887.0, \"k_orig\": 26927.0, \"sum_c\": 4391.0, \"k_worst\": 50040.0, \"top_n\": 14, \"k/k_orig\": 0.07007836001039848, \"k/k_worst\": 0.03770983213429257, \"k/sum_c\": 0.4297426554315646, \"k*k_orig/k_worst\": 1015.412649880096, \"k/(k_worst-k_orig)\": 0.08164236576818241}, {\"Method\": \"Hillside(Colley Params)\", \"Year\": \"2009\", \"k\": 2130.0, \"k_orig\": 26927.0, \"sum_c\": 4932.0, \"k_worst\": 50040.0, \"top_n\": 15, \"k/k_orig\": 0.0791027593122145, \"k/k_worst\": 0.042565947242206234, \"k/sum_c\": 0.4318734793187348, \"k*k_orig/k_worst\": 1146.1732613908873, \"k/(k_worst-k_orig)\": 0.09215592956344915}, {\"Method\": \"Hillside(Colley Params)\", \"Year\": \"2009\", \"k\": 2430.0, \"k_orig\": 26927.0, \"sum_c\": 5631.0, \"k_worst\": 50040.0, \"top_n\": 16, \"k/k_orig\": 0.0902439930181602, \"k/k_worst\": 0.048561151079136694, \"k/sum_c\": 0.43153969099627065, \"k*k_orig/k_worst\": 1307.6061151079136, \"k/(k_worst-k_orig)\": 0.10513563795266732}, {\"Method\": \"Hillside(Colley Params)\", \"Year\": \"2009\", \"k\": 2744.0, \"k_orig\": 26927.0, \"sum_c\": 6360.0, \"k_worst\": 50040.0, \"top_n\": 17, \"k/k_orig\": 0.10190515096371672, \"k/k_worst\": 0.0548361310951239, \"k/sum_c\": 0.43144654088050316, \"k*k_orig/k_worst\": 1476.5725019984013, \"k/(k_worst-k_orig)\": 0.1187210660667157}, {\"Method\": \"Hillside(Colley Params)\", \"Year\": \"2009\", \"k\": 3036.0, \"k_orig\": 26927.0, \"sum_c\": 7029.0, \"k_worst\": 50040.0, \"top_n\": 18, \"k/k_orig\": 0.11274928510417054, \"k/k_worst\": 0.06067146282973621, \"k/sum_c\": 0.431924882629108, \"k*k_orig/k_worst\": 1633.700479616307, \"k/(k_worst-k_orig)\": 0.13135464889888807}, {\"Method\": \"Hillside(Colley Params)\", \"Year\": \"2009\", \"k\": 3322.0, \"k_orig\": 26927.0, \"sum_c\": 7753.0, \"k_worst\": 50040.0, \"top_n\": 19, \"k/k_orig\": 0.12337059457050543, \"k/k_worst\": 0.06638689048760991, \"k/sum_c\": 0.42847929833612797, \"k*k_orig/k_worst\": 1787.599800159872, \"k/(k_worst-k_orig)\": 0.14372863756327608}, {\"Method\": \"Hillside(Colley Params)\", \"Year\": \"2009\", \"k\": 3705.0, \"k_orig\": 26927.0, \"sum_c\": 8689.0, \"k_worst\": 50040.0, \"top_n\": 20, \"k/k_orig\": 0.13759423626842945, \"k/k_worst\": 0.07404076738609112, \"k/sum_c\": 0.4264011969156405, \"k*k_orig/k_worst\": 1993.6957434052758, \"k/(k_worst-k_orig)\": 0.16029939860684464}, {\"Method\": \"Hillside(Colley Params)\", \"Year\": \"2009\", \"k\": 4072.0, \"k_orig\": 26927.0, \"sum_c\": 9547.0, \"k_worst\": 50040.0, \"top_n\": 21, \"k/k_orig\": 0.1512236788353697, \"k/k_worst\": 0.08137490007993606, \"k/sum_c\": 0.4265214203414685, \"k*k_orig/k_worst\": 2191.181934452438, \"k/(k_worst-k_orig)\": 0.17617790853632154}, {\"Method\": \"Hillside(Colley Params)\", \"Year\": \"2009\", \"k\": 4478.0, \"k_orig\": 26927.0, \"sum_c\": 10518.0, \"k_worst\": 50040.0, \"top_n\": 22, \"k/k_orig\": 0.16630148178408288, \"k/k_worst\": 0.08948840927258193, \"k/sum_c\": 0.42574633960829056, \"k*k_orig/k_worst\": 2409.654396482814, \"k/(k_worst-k_orig)\": 0.19374378055639682}, {\"Method\": \"Hillside(Colley Params)\", \"Year\": \"2009\", \"k\": 4905.0, \"k_orig\": 26927.0, \"sum_c\": 11543.0, \"k_worst\": 50040.0, \"top_n\": 23, \"k/k_orig\": 0.18215917109221227, \"k/k_worst\": 0.09802158273381295, \"k/sum_c\": 0.42493285974183487, \"k*k_orig/k_worst\": 2639.4271582733813, \"k/(k_worst-k_orig)\": 0.21221823216371738}, {\"Method\": \"Hillside(Colley Params)\", \"Year\": \"2009\", \"k\": 5346.0, \"k_orig\": 26927.0, \"sum_c\": 12569.0, \"k_worst\": 50040.0, \"top_n\": 24, \"k/k_orig\": 0.19853678463995247, \"k/k_worst\": 0.10683453237410072, \"k/sum_c\": 0.42533216644124433, \"k*k_orig/k_worst\": 2876.7334532374102, \"k/(k_worst-k_orig)\": 0.23129840349586814}, {\"Method\": \"Hillside(Colley Params)\", \"Year\": \"2009\", \"k\": 5836.0, \"k_orig\": 26927.0, \"sum_c\": 13730.0, \"k_worst\": 50040.0, \"top_n\": 25, \"k/k_orig\": 0.21673413302633046, \"k/k_worst\": 0.11662669864108713, \"k/sum_c\": 0.4250546249089585, \"k*k_orig/k_worst\": 3140.407114308553, \"k/(k_worst-k_orig)\": 0.2524985938649245}, {\"Method\": \"Hillside(Colley Params)\", \"Year\": \"2009\", \"k\": 6367.0, \"k_orig\": 26927.0, \"sum_c\": 14974.0, \"k_worst\": 50040.0, \"top_n\": 26, \"k/k_orig\": 0.23645411668585434, \"k/k_worst\": 0.12723820943245404, \"k/sum_c\": 0.4252036863897422, \"k*k_orig/k_worst\": 3426.14326538769, \"k/(k_worst-k_orig)\": 0.2754726777138407}, {\"Method\": \"Hillside(Colley Params)\", \"Year\": \"2009\", \"k\": 6852.0, \"k_orig\": 26927.0, \"sum_c\": 16088.0, \"k_worst\": 50040.0, \"top_n\": 27, \"k/k_orig\": 0.2544657778437999, \"k/k_worst\": 0.1369304556354916, \"k/sum_c\": 0.4259075087021382, \"k*k_orig/k_worst\": 3687.1263788968827, \"k/(k_worst-k_orig)\": 0.29645653960974344}, {\"Method\": \"Hillside(Colley Params)\", \"Year\": \"2009\", \"k\": 7463.0, \"k_orig\": 26927.0, \"sum_c\": 17512.0, \"k_worst\": 50040.0, \"top_n\": 28, \"k/k_orig\": 0.2771567571582427, \"k/k_worst\": 0.14914068745003997, \"k/sum_c\": 0.4261649154865235, \"k*k_orig/k_worst\": 4015.9112909672263, \"k/(k_worst-k_orig)\": 0.3228918790291178}, {\"Method\": \"Hillside(Colley Params)\", \"Year\": \"2009\", \"k\": 8046.0, \"k_orig\": 26927.0, \"sum_c\": 18871.0, \"k_worst\": 50040.0, \"top_n\": 29, \"k/k_orig\": 0.2988078879934638, \"k/k_worst\": 0.16079136690647483, \"k/sum_c\": 0.42636850193418474, \"k*k_orig/k_worst\": 4329.629136690647, \"k/(k_worst-k_orig)\": 0.34811577899883184}, {\"Method\": \"Hillside(Massey Params)\", \"Year\": \"2009\", \"k\": 22.0, \"k_orig\": 26927.0, \"sum_c\": 47.0, \"k_worst\": 50040.0, \"top_n\": 2, \"k/k_orig\": 0.000817023805102685, \"k/k_worst\": 0.00043964828137490005, \"k/sum_c\": 0.46808510638297873, \"k*k_orig/k_worst\": 11.838409272581934, \"k/(k_worst-k_orig)\": 0.0009518452818760005}, {\"Method\": \"Hillside(Massey Params)\", \"Year\": \"2009\", \"k\": 73.0, \"k_orig\": 26927.0, \"sum_c\": 153.0, \"k_worst\": 50040.0, \"top_n\": 3, \"k/k_orig\": 0.0027110335351134547, \"k/k_worst\": 0.0014588329336530776, \"k/sum_c\": 0.477124183006536, \"k*k_orig/k_worst\": 39.28199440447642, \"k/(k_worst-k_orig)\": 0.0031583957080430925}, {\"Method\": \"Hillside(Massey Params)\", \"Year\": \"2009\", \"k\": 132.0, \"k_orig\": 26927.0, \"sum_c\": 290.0, \"k_worst\": 50040.0, \"top_n\": 4, \"k/k_orig\": 0.004902142830616111, \"k/k_worst\": 0.0026378896882494006, \"k/sum_c\": 0.45517241379310347, \"k*k_orig/k_worst\": 71.0304556354916, \"k/(k_worst-k_orig)\": 0.005711071691256003}, {\"Method\": \"Hillside(Massey Params)\", \"Year\": \"2009\", \"k\": 218.0, \"k_orig\": 26927.0, \"sum_c\": 486.0, \"k_worst\": 50040.0, \"top_n\": 5, \"k/k_orig\": 0.00809596315965388, \"k/k_worst\": 0.004356514788169464, \"k/sum_c\": 0.448559670781893, \"k*k_orig/k_worst\": 117.30787370103917, \"k/(k_worst-k_orig)\": 0.00943192142949855}, {\"Method\": \"Hillside(Massey Params)\", \"Year\": \"2009\", \"k\": 327.0, \"k_orig\": 26927.0, \"sum_c\": 754.0, \"k_worst\": 50040.0, \"top_n\": 6, \"k/k_orig\": 0.012143944739480819, \"k/k_worst\": 0.006534772182254196, \"k/sum_c\": 0.4336870026525199, \"k*k_orig/k_worst\": 175.96181055155876, \"k/(k_worst-k_orig)\": 0.014147882144247826}, {\"Method\": \"Hillside(Massey Params)\", \"Year\": \"2009\", \"k\": 444.0, \"k_orig\": 26927.0, \"sum_c\": 1032.0, \"k_worst\": 50040.0, \"top_n\": 7, \"k/k_orig\": 0.016489025884799644, \"k/k_worst\": 0.008872901678657074, \"k/sum_c\": 0.43023255813953487, \"k*k_orig/k_worst\": 238.92062350119903, \"k/(k_worst-k_orig)\": 0.01920996841604292}, {\"Method\": \"Hillside(Massey Params)\", \"Year\": \"2009\", \"k\": 570.0, \"k_orig\": 26927.0, \"sum_c\": 1330.0, \"k_worst\": 50040.0, \"top_n\": 8, \"k/k_orig\": 0.02116834404129684, \"k/k_worst\": 0.011390887290167866, \"k/sum_c\": 0.42857142857142855, \"k*k_orig/k_worst\": 306.7224220623501, \"k/(k_worst-k_orig)\": 0.02466144593951456}, {\"Method\": \"Hillside(Massey Params)\", \"Year\": \"2009\", \"k\": 729.0, \"k_orig\": 26927.0, \"sum_c\": 1721.0, \"k_worst\": 50040.0, \"top_n\": 9, \"k/k_orig\": 0.027073197905448064, \"k/k_worst\": 0.014568345323741008, \"k/sum_c\": 0.4235909355026148, \"k*k_orig/k_worst\": 392.2818345323741, \"k/(k_worst-k_orig)\": 0.0315406913858002}, {\"Method\": \"Hillside(Massey Params)\", \"Year\": \"2009\", \"k\": 862.0, \"k_orig\": 26927.0, \"sum_c\": 2054.0, \"k_worst\": 50040.0, \"top_n\": 10, \"k/k_orig\": 0.03201247818175066, \"k/k_worst\": 0.017226219024780175, \"k/sum_c\": 0.4196689386562804, \"k*k_orig/k_worst\": 463.8503996802558, \"k/(k_worst-k_orig)\": 0.03729502877168693}, {\"Method\": \"Hillside(Massey Params)\", \"Year\": \"2009\", \"k\": 1089.0, \"k_orig\": 26927.0, \"sum_c\": 2597.0, \"k_worst\": 50040.0, \"top_n\": 11, \"k/k_orig\": 0.04044267835258291, \"k/k_worst\": 0.021762589928057553, \"k/sum_c\": 0.41932999614940314, \"k*k_orig/k_worst\": 586.0012589928058, \"k/(k_worst-k_orig)\": 0.047116341452862025}, {\"Method\": \"Hillside(Massey Params)\", \"Year\": \"2009\", \"k\": 1355.0, \"k_orig\": 26927.0, \"sum_c\": 3164.0, \"k_worst\": 50040.0, \"top_n\": 12, \"k/k_orig\": 0.0503212389051881, \"k/k_worst\": 0.027078337330135892, \"k/sum_c\": 0.4282553729456384, \"k*k_orig/k_worst\": 729.1383892885691, \"k/(k_worst-k_orig)\": 0.058625016224635486}, {\"Method\": \"Hillside(Massey Params)\", \"Year\": \"2009\", \"k\": 1592.0, \"k_orig\": 26927.0, \"sum_c\": 3725.0, \"k_worst\": 50040.0, \"top_n\": 13, \"k/k_orig\": 0.05912281353288521, \"k/k_worst\": 0.03181454836131095, \"k/sum_c\": 0.4273825503355705, \"k*k_orig/k_worst\": 856.67034372502, \"k/(k_worst-k_orig)\": 0.06887898585211785}, {\"Method\": \"Hillside(Massey Params)\", \"Year\": \"2009\", \"k\": 1887.0, \"k_orig\": 26927.0, \"sum_c\": 4391.0, \"k_worst\": 50040.0, \"top_n\": 14, \"k/k_orig\": 0.07007836001039848, \"k/k_worst\": 0.03770983213429257, \"k/sum_c\": 0.4297426554315646, \"k*k_orig/k_worst\": 1015.412649880096, \"k/(k_worst-k_orig)\": 0.08164236576818241}, {\"Method\": \"Hillside(Massey Params)\", \"Year\": \"2009\", \"k\": 2130.0, \"k_orig\": 26927.0, \"sum_c\": 4932.0, \"k_worst\": 50040.0, \"top_n\": 15, \"k/k_orig\": 0.0791027593122145, \"k/k_worst\": 0.042565947242206234, \"k/sum_c\": 0.4318734793187348, \"k*k_orig/k_worst\": 1146.1732613908873, \"k/(k_worst-k_orig)\": 0.09215592956344915}, {\"Method\": \"Hillside(Massey Params)\", \"Year\": \"2009\", \"k\": 2430.0, \"k_orig\": 26927.0, \"sum_c\": 5631.0, \"k_worst\": 50040.0, \"top_n\": 16, \"k/k_orig\": 0.0902439930181602, \"k/k_worst\": 0.048561151079136694, \"k/sum_c\": 0.43153969099627065, \"k*k_orig/k_worst\": 1307.6061151079136, \"k/(k_worst-k_orig)\": 0.10513563795266732}, {\"Method\": \"Hillside(Massey Params)\", \"Year\": \"2009\", \"k\": 2744.0, \"k_orig\": 26927.0, \"sum_c\": 6360.0, \"k_worst\": 50040.0, \"top_n\": 17, \"k/k_orig\": 0.10190515096371672, \"k/k_worst\": 0.0548361310951239, \"k/sum_c\": 0.43144654088050316, \"k*k_orig/k_worst\": 1476.5725019984013, \"k/(k_worst-k_orig)\": 0.1187210660667157}, {\"Method\": \"Hillside(Massey Params)\", \"Year\": \"2009\", \"k\": 3036.0, \"k_orig\": 26927.0, \"sum_c\": 7029.0, \"k_worst\": 50040.0, \"top_n\": 18, \"k/k_orig\": 0.11274928510417054, \"k/k_worst\": 0.06067146282973621, \"k/sum_c\": 0.431924882629108, \"k*k_orig/k_worst\": 1633.700479616307, \"k/(k_worst-k_orig)\": 0.13135464889888807}, {\"Method\": \"Hillside(Massey Params)\", \"Year\": \"2009\", \"k\": 3322.0, \"k_orig\": 26927.0, \"sum_c\": 7753.0, \"k_worst\": 50040.0, \"top_n\": 19, \"k/k_orig\": 0.12337059457050543, \"k/k_worst\": 0.06638689048760991, \"k/sum_c\": 0.42847929833612797, \"k*k_orig/k_worst\": 1787.599800159872, \"k/(k_worst-k_orig)\": 0.14372863756327608}, {\"Method\": \"Hillside(Massey Params)\", \"Year\": \"2009\", \"k\": 3705.0, \"k_orig\": 26927.0, \"sum_c\": 8689.0, \"k_worst\": 50040.0, \"top_n\": 20, \"k/k_orig\": 0.13759423626842945, \"k/k_worst\": 0.07404076738609112, \"k/sum_c\": 0.4264011969156405, \"k*k_orig/k_worst\": 1993.6957434052758, \"k/(k_worst-k_orig)\": 0.16029939860684464}, {\"Method\": \"Hillside(Massey Params)\", \"Year\": \"2009\", \"k\": 4072.0, \"k_orig\": 26927.0, \"sum_c\": 9547.0, \"k_worst\": 50040.0, \"top_n\": 21, \"k/k_orig\": 0.1512236788353697, \"k/k_worst\": 0.08137490007993606, \"k/sum_c\": 0.4265214203414685, \"k*k_orig/k_worst\": 2191.181934452438, \"k/(k_worst-k_orig)\": 0.17617790853632154}, {\"Method\": \"Hillside(Massey Params)\", \"Year\": \"2009\", \"k\": 4478.0, \"k_orig\": 26927.0, \"sum_c\": 10518.0, \"k_worst\": 50040.0, \"top_n\": 22, \"k/k_orig\": 0.16630148178408288, \"k/k_worst\": 0.08948840927258193, \"k/sum_c\": 0.42574633960829056, \"k*k_orig/k_worst\": 2409.654396482814, \"k/(k_worst-k_orig)\": 0.19374378055639682}, {\"Method\": \"Hillside(Massey Params)\", \"Year\": \"2009\", \"k\": 4905.0, \"k_orig\": 26927.0, \"sum_c\": 11543.0, \"k_worst\": 50040.0, \"top_n\": 23, \"k/k_orig\": 0.18215917109221227, \"k/k_worst\": 0.09802158273381295, \"k/sum_c\": 0.42493285974183487, \"k*k_orig/k_worst\": 2639.4271582733813, \"k/(k_worst-k_orig)\": 0.21221823216371738}, {\"Method\": \"Hillside(Massey Params)\", \"Year\": \"2009\", \"k\": 5346.0, \"k_orig\": 26927.0, \"sum_c\": 12569.0, \"k_worst\": 50040.0, \"top_n\": 24, \"k/k_orig\": 0.19853678463995247, \"k/k_worst\": 0.10683453237410072, \"k/sum_c\": 0.42533216644124433, \"k*k_orig/k_worst\": 2876.7334532374102, \"k/(k_worst-k_orig)\": 0.23129840349586814}, {\"Method\": \"Hillside(Massey Params)\", \"Year\": \"2009\", \"k\": 5836.0, \"k_orig\": 26927.0, \"sum_c\": 13730.0, \"k_worst\": 50040.0, \"top_n\": 25, \"k/k_orig\": 0.21673413302633046, \"k/k_worst\": 0.11662669864108713, \"k/sum_c\": 0.4250546249089585, \"k*k_orig/k_worst\": 3140.407114308553, \"k/(k_worst-k_orig)\": 0.2524985938649245}, {\"Method\": \"Hillside(Massey Params)\", \"Year\": \"2009\", \"k\": 6367.0, \"k_orig\": 26927.0, \"sum_c\": 14974.0, \"k_worst\": 50040.0, \"top_n\": 26, \"k/k_orig\": 0.23645411668585434, \"k/k_worst\": 0.12723820943245404, \"k/sum_c\": 0.4252036863897422, \"k*k_orig/k_worst\": 3426.14326538769, \"k/(k_worst-k_orig)\": 0.2754726777138407}, {\"Method\": \"Hillside(Massey Params)\", \"Year\": \"2009\", \"k\": 6852.0, \"k_orig\": 26927.0, \"sum_c\": 16088.0, \"k_worst\": 50040.0, \"top_n\": 27, \"k/k_orig\": 0.2544657778437999, \"k/k_worst\": 0.1369304556354916, \"k/sum_c\": 0.4259075087021382, \"k*k_orig/k_worst\": 3687.1263788968827, \"k/(k_worst-k_orig)\": 0.29645653960974344}, {\"Method\": \"Hillside(Massey Params)\", \"Year\": \"2009\", \"k\": 7463.0, \"k_orig\": 26927.0, \"sum_c\": 17512.0, \"k_worst\": 50040.0, \"top_n\": 28, \"k/k_orig\": 0.2771567571582427, \"k/k_worst\": 0.14914068745003997, \"k/sum_c\": 0.4261649154865235, \"k*k_orig/k_worst\": 4015.9112909672263, \"k/(k_worst-k_orig)\": 0.3228918790291178}, {\"Method\": \"Hillside(Massey Params)\", \"Year\": \"2009\", \"k\": 8046.0, \"k_orig\": 26927.0, \"sum_c\": 18871.0, \"k_worst\": 50040.0, \"top_n\": 29, \"k/k_orig\": 0.2988078879934638, \"k/k_worst\": 0.16079136690647483, \"k/sum_c\": 0.42636850193418474, \"k*k_orig/k_worst\": 4329.629136690647, \"k/(k_worst-k_orig)\": 0.34811577899883184}, {\"Method\": \"Hillside(Colley Params)\", \"Year\": \"2010\", \"k\": 24.0, \"k_orig\": 26704.0, \"sum_c\": 50.0, \"k_worst\": 50107.0, \"top_n\": 2, \"k/k_orig\": 0.0008987417615338526, \"k/k_worst\": 0.0004789749935138803, \"k/sum_c\": 0.48, \"k*k_orig/k_worst\": 12.790548226794659, \"k/(k_worst-k_orig)\": 0.001025509550057685}, {\"Method\": \"Hillside(Colley Params)\", \"Year\": \"2010\", \"k\": 68.0, \"k_orig\": 26704.0, \"sum_c\": 147.0, \"k_worst\": 50107.0, \"top_n\": 3, \"k/k_orig\": 0.0025464349910125825, \"k/k_worst\": 0.0013570958149559942, \"k/sum_c\": 0.46258503401360546, \"k*k_orig/k_worst\": 36.23988664258487, \"k/(k_worst-k_orig)\": 0.0029056103918301073}, {\"Method\": \"Hillside(Colley Params)\", \"Year\": \"2010\", \"k\": 138.0, \"k_orig\": 26704.0, \"sum_c\": 304.0, \"k_worst\": 50107.0, \"top_n\": 4, \"k/k_orig\": 0.005167765128819652, \"k/k_worst\": 0.0027541062127048118, \"k/sum_c\": 0.45394736842105265, \"k*k_orig/k_worst\": 73.54565230406929, \"k/(k_worst-k_orig)\": 0.005896679912831688}, {\"Method\": \"Hillside(Colley Params)\", \"Year\": \"2010\", \"k\": 228.0, \"k_orig\": 26704.0, \"sum_c\": 498.0, \"k_worst\": 50107.0, \"top_n\": 5, \"k/k_orig\": 0.0085380467345716, \"k/k_worst\": 0.004550262438381863, \"k/sum_c\": 0.4578313253012048, \"k*k_orig/k_worst\": 121.51020815454926, \"k/(k_worst-k_orig)\": 0.009742340725548007}, {\"Method\": \"Hillside(Colley Params)\", \"Year\": \"2010\", \"k\": 298.0, \"k_orig\": 26704.0, \"sum_c\": 658.0, \"k_worst\": 50107.0, \"top_n\": 6, \"k/k_orig\": 0.01115937687237867, \"k/k_worst\": 0.00594727283613068, \"k/sum_c\": 0.45288753799392095, \"k*k_orig/k_worst\": 158.81597381603368, \"k/(k_worst-k_orig)\": 0.012733410246549587}, {\"Method\": \"Hillside(Colley Params)\", \"Year\": \"2010\", \"k\": 425.0, \"k_orig\": 26704.0, \"sum_c\": 957.0, \"k_worst\": 50107.0, \"top_n\": 7, \"k/k_orig\": 0.01591521869382864, \"k/k_worst\": 0.008481848843474964, \"k/sum_c\": 0.4440961337513062, \"k*k_orig/k_worst\": 226.49929151615544, \"k/(k_worst-k_orig)\": 0.01816006494893817}, {\"Method\": \"Hillside(Colley Params)\", \"Year\": \"2010\", \"k\": 563.0, \"k_orig\": 26704.0, \"sum_c\": 1261.0, \"k_worst\": 50107.0, \"top_n\": 8, \"k/k_orig\": 0.021082983822648293, \"k/k_worst\": 0.011235955056179775, \"k/sum_c\": 0.4464710547184774, \"k*k_orig/k_worst\": 300.0449438202247, \"k/(k_worst-k_orig)\": 0.02405674486176986}, {\"Method\": \"Hillside(Colley Params)\", \"Year\": \"2010\", \"k\": 651.0, \"k_orig\": 26704.0, \"sum_c\": 1457.0, \"k_worst\": 50107.0, \"top_n\": 9, \"k/k_orig\": 0.024378370281605753, \"k/k_worst\": 0.012992196699064004, \"k/sum_c\": 0.44680851063829785, \"k*k_orig/k_worst\": 346.94362065180513, \"k/(k_worst-k_orig)\": 0.027816946545314702}, {\"Method\": \"Hillside(Colley Params)\", \"Year\": \"2010\", \"k\": 823.0, \"k_orig\": 26704.0, \"sum_c\": 1854.0, \"k_worst\": 50107.0, \"top_n\": 10, \"k/k_orig\": 0.030819352905931695, \"k/k_worst\": 0.01642485081924681, \"k/sum_c\": 0.44390507011866237, \"k*k_orig/k_worst\": 438.60921627716687, \"k/(k_worst-k_orig)\": 0.03516643165406144}, {\"Method\": \"Hillside(Colley Params)\", \"Year\": \"2010\", \"k\": 1024.0, \"k_orig\": 26704.0, \"sum_c\": 2296.0, \"k_worst\": 50107.0, \"top_n\": 11, \"k/k_orig\": 0.03834631515877771, \"k/k_worst\": 0.02043626638992556, \"k/sum_c\": 0.445993031358885, \"k*k_orig/k_worst\": 545.7300576765722, \"k/(k_worst-k_orig)\": 0.043755074135794554}, {\"Method\": \"Hillside(Colley Params)\", \"Year\": \"2010\", \"k\": 1249.0, \"k_orig\": 26704.0, \"sum_c\": 2825.0, \"k_worst\": 50107.0, \"top_n\": 12, \"k/k_orig\": 0.04677201917315758, \"k/k_worst\": 0.024926656954118186, \"k/sum_c\": 0.44212389380530975, \"k*k_orig/k_worst\": 665.6414473027721, \"k/(k_worst-k_orig)\": 0.053369226167585354}, {\"Method\": \"Hillside(Colley Params)\", \"Year\": \"2010\", \"k\": 1557.0, \"k_orig\": 26704.0, \"sum_c\": 3531.0, \"k_worst\": 50107.0, \"top_n\": 13, \"k/k_orig\": 0.05830587177950869, \"k/k_worst\": 0.031073502704212986, \"k/sum_c\": 0.4409515717926933, \"k*k_orig/k_worst\": 829.7868162133035, \"k/(k_worst-k_orig)\": 0.0665299320599923}, {\"Method\": \"Hillside(Colley Params)\", \"Year\": \"2010\", \"k\": 1793.0, \"k_orig\": 26704.0, \"sum_c\": 4140.0, \"k_worst\": 50107.0, \"top_n\": 14, \"k/k_orig\": 0.06714349910125823, \"k/k_worst\": 0.03578342347376614, \"k/sum_c\": 0.4330917874396135, \"k*k_orig/k_worst\": 955.560540443451, \"k/(k_worst-k_orig)\": 0.07661410930222622}, {\"Method\": \"Hillside(Colley Params)\", \"Year\": \"2010\", \"k\": 2058.0, \"k_orig\": 26704.0, \"sum_c\": 4781.0, \"k_worst\": 50107.0, \"top_n\": 15, \"k/k_orig\": 0.07706710605152786, \"k/k_worst\": 0.04107210569381523, \"k/sum_c\": 0.43045387994143486, \"k*k_orig/k_worst\": 1096.789510447642, \"k/(k_worst-k_orig)\": 0.08793744391744648}, {\"Method\": \"Hillside(Colley Params)\", \"Year\": \"2010\", \"k\": 2344.0, \"k_orig\": 26704.0, \"sum_c\": 5490.0, \"k_worst\": 50107.0, \"top_n\": 16, \"k/k_orig\": 0.08777711204313961, \"k/k_worst\": 0.046779891033188976, \"k/sum_c\": 0.4269581056466302, \"k*k_orig/k_worst\": 1249.2102101502785, \"k/(k_worst-k_orig)\": 0.10015809938896722}, {\"Method\": \"Hillside(Colley Params)\", \"Year\": \"2010\", \"k\": 2679.0, \"k_orig\": 26704.0, \"sum_c\": 6284.0, \"k_worst\": 50107.0, \"top_n\": 17, \"k/k_orig\": 0.1003220491312163, \"k/k_worst\": 0.053465583650986886, \"k/sum_c\": 0.4263208147676639, \"k*k_orig/k_worst\": 1427.7449458159538, \"k/(k_worst-k_orig)\": 0.11447250352518908}, {\"Method\": \"Hillside(Colley Params)\", \"Year\": \"2010\", \"k\": 2988.0, \"k_orig\": 26704.0, \"sum_c\": 7009.0, \"k_worst\": 50107.0, \"top_n\": 18, \"k/k_orig\": 0.11189334931096465, \"k/k_worst\": 0.0596323866924781, \"k/sum_c\": 0.4263090312455414, \"k*k_orig/k_worst\": 1592.423254235935, \"k/(k_worst-k_orig)\": 0.12767593898218177}, {\"Method\": \"Hillside(Colley Params)\", \"Year\": \"2010\", \"k\": 3366.0, \"k_orig\": 26704.0, \"sum_c\": 7914.0, \"k_worst\": 50107.0, \"top_n\": 19, \"k/k_orig\": 0.12604853205512284, \"k/k_worst\": 0.06717624284032171, \"k/sum_c\": 0.42532221379833207, \"k*k_orig/k_worst\": 1793.874388807951, \"k/(k_worst-k_orig)\": 0.1438277143955903}, {\"Method\": \"Hillside(Colley Params)\", \"Year\": \"2010\", \"k\": 3784.0, \"k_orig\": 26704.0, \"sum_c\": 8875.0, \"k_worst\": 50107.0, \"top_n\": 20, \"k/k_orig\": 0.14170161773517076, \"k/k_worst\": 0.0755183906440218, \"k/sum_c\": 0.4263661971830986, \"k*k_orig/k_worst\": 2016.643103757958, \"k/(k_worst-k_orig)\": 0.16168867239242832}, {\"Method\": \"Hillside(Colley Params)\", \"Year\": \"2010\", \"k\": 4223.0, \"k_orig\": 26704.0, \"sum_c\": 9915.0, \"k_worst\": 50107.0, \"top_n\": 21, \"k/k_orig\": 0.15814110245656082, \"k/k_worst\": 0.08427964156704652, \"k/sum_c\": 0.4259203227433182, \"k*k_orig/k_worst\": 2250.6035484064105, \"k/(k_worst-k_orig)\": 0.1804469512455668}, {\"Method\": \"Hillside(Colley Params)\", \"Year\": \"2010\", \"k\": 4585.0, \"k_orig\": 26704.0, \"sum_c\": 10809.0, \"k_worst\": 50107.0, \"top_n\": 22, \"k/k_orig\": 0.17169712402636308, \"k/k_worst\": 0.09150418105254755, \"k/sum_c\": 0.4241835507447497, \"k*k_orig/k_worst\": 2443.5276508272295, \"k/(k_worst-k_orig)\": 0.19591505362560355}, {\"Method\": \"Hillside(Colley Params)\", \"Year\": \"2010\", \"k\": 5034.0, \"k_orig\": 26704.0, \"sum_c\": 11868.0, \"k_worst\": 50107.0, \"top_n\": 23, \"k/k_orig\": 0.18851108448172557, \"k/k_worst\": 0.10046500488953639, \"k/sum_c\": 0.4241658240647118, \"k*k_orig/k_worst\": 2682.81749057018, \"k/(k_worst-k_orig)\": 0.2151006281245994}, {\"Method\": \"Hillside(Colley Params)\", \"Year\": \"2010\", \"k\": 5507.0, \"k_orig\": 26704.0, \"sum_c\": 13035.0, \"k_worst\": 50107.0, \"top_n\": 24, \"k/k_orig\": 0.20622378669862193, \"k/k_worst\": 0.10990480372003912, \"k/sum_c\": 0.42247794399693134, \"k*k_orig/k_worst\": 2934.8978785399245, \"k/(k_worst-k_orig)\": 0.23531171217365296}, {\"Method\": \"Hillside(Colley Params)\", \"Year\": \"2010\", \"k\": 5938.0, \"k_orig\": 26704.0, \"sum_c\": 14114.0, \"k_worst\": 50107.0, \"top_n\": 25, \"k/k_orig\": 0.22236369083283403, \"k/k_worst\": 0.11850639631189255, \"k/sum_c\": 0.4207170185631288, \"k*k_orig/k_worst\": 3164.5948071127787, \"k/(k_worst-k_orig)\": 0.25372815451010555}, {\"Method\": \"Hillside(Colley Params)\", \"Year\": \"2010\", \"k\": 6445.0, \"k_orig\": 26704.0, \"sum_c\": 15329.0, \"k_worst\": 50107.0, \"top_n\": 26, \"k/k_orig\": 0.24134961054523668, \"k/k_worst\": 0.12862474304987326, \"k/sum_c\": 0.4204449083436623, \"k*k_orig/k_worst\": 3434.795138403816, \"k/(k_worst-k_orig)\": 0.27539204375507415}, {\"Method\": \"Hillside(Colley Params)\", \"Year\": \"2010\", \"k\": 6773.0, \"k_orig\": 26704.0, \"sum_c\": 16145.0, \"k_worst\": 50107.0, \"top_n\": 27, \"k/k_orig\": 0.2536324146195327, \"k/k_worst\": 0.1351707346278963, \"k/sum_c\": 0.4195106844224218, \"k*k_orig/k_worst\": 3609.5992975033428, \"k/(k_worst-k_orig)\": 0.28940734093919585}, {\"Method\": \"Hillside(Colley Params)\", \"Year\": \"2010\", \"k\": 7187.0, \"k_orig\": 26704.0, \"sum_c\": 17126.0, \"k_worst\": 50107.0, \"top_n\": 28, \"k/k_orig\": 0.2691357100059916, \"k/k_worst\": 0.14343305326601075, \"k/sum_c\": 0.41965432675464204, \"k*k_orig/k_worst\": 3830.236254415551, \"k/(k_worst-k_orig)\": 0.3070973806776909}, {\"Method\": \"Hillside(Colley Params)\", \"Year\": \"2010\", \"k\": 7757.0, \"k_orig\": 26704.0, \"sum_c\": 18548.0, \"k_worst\": 50107.0, \"top_n\": 29, \"k/k_orig\": 0.2904808268424206, \"k/k_worst\": 0.1548087093619654, \"k/sum_c\": 0.4182122061677809, \"k*k_orig/k_worst\": 4134.011774801924, \"k/(k_worst-k_orig)\": 0.3314532324915609}, {\"Method\": \"Hillside(Massey Params)\", \"Year\": \"2010\", \"k\": 24.0, \"k_orig\": 26704.0, \"sum_c\": 50.0, \"k_worst\": 50107.0, \"top_n\": 2, \"k/k_orig\": 0.0008987417615338526, \"k/k_worst\": 0.0004789749935138803, \"k/sum_c\": 0.48, \"k*k_orig/k_worst\": 12.790548226794659, \"k/(k_worst-k_orig)\": 0.001025509550057685}, {\"Method\": \"Hillside(Massey Params)\", \"Year\": \"2010\", \"k\": 68.0, \"k_orig\": 26704.0, \"sum_c\": 147.0, \"k_worst\": 50107.0, \"top_n\": 3, \"k/k_orig\": 0.0025464349910125825, \"k/k_worst\": 0.0013570958149559942, \"k/sum_c\": 0.46258503401360546, \"k*k_orig/k_worst\": 36.23988664258487, \"k/(k_worst-k_orig)\": 0.0029056103918301073}, {\"Method\": \"Hillside(Massey Params)\", \"Year\": \"2010\", \"k\": 138.0, \"k_orig\": 26704.0, \"sum_c\": 304.0, \"k_worst\": 50107.0, \"top_n\": 4, \"k/k_orig\": 0.005167765128819652, \"k/k_worst\": 0.0027541062127048118, \"k/sum_c\": 0.45394736842105265, \"k*k_orig/k_worst\": 73.54565230406929, \"k/(k_worst-k_orig)\": 0.005896679912831688}, {\"Method\": \"Hillside(Massey Params)\", \"Year\": \"2010\", \"k\": 228.0, \"k_orig\": 26704.0, \"sum_c\": 498.0, \"k_worst\": 50107.0, \"top_n\": 5, \"k/k_orig\": 0.0085380467345716, \"k/k_worst\": 0.004550262438381863, \"k/sum_c\": 0.4578313253012048, \"k*k_orig/k_worst\": 121.51020815454926, \"k/(k_worst-k_orig)\": 0.009742340725548007}, {\"Method\": \"Hillside(Massey Params)\", \"Year\": \"2010\", \"k\": 298.0, \"k_orig\": 26704.0, \"sum_c\": 658.0, \"k_worst\": 50107.0, \"top_n\": 6, \"k/k_orig\": 0.01115937687237867, \"k/k_worst\": 0.00594727283613068, \"k/sum_c\": 0.45288753799392095, \"k*k_orig/k_worst\": 158.81597381603368, \"k/(k_worst-k_orig)\": 0.012733410246549587}, {\"Method\": \"Hillside(Massey Params)\", \"Year\": \"2010\", \"k\": 425.0, \"k_orig\": 26704.0, \"sum_c\": 957.0, \"k_worst\": 50107.0, \"top_n\": 7, \"k/k_orig\": 0.01591521869382864, \"k/k_worst\": 0.008481848843474964, \"k/sum_c\": 0.4440961337513062, \"k*k_orig/k_worst\": 226.49929151615544, \"k/(k_worst-k_orig)\": 0.01816006494893817}, {\"Method\": \"Hillside(Massey Params)\", \"Year\": \"2010\", \"k\": 563.0, \"k_orig\": 26704.0, \"sum_c\": 1261.0, \"k_worst\": 50107.0, \"top_n\": 8, \"k/k_orig\": 0.021082983822648293, \"k/k_worst\": 0.011235955056179775, \"k/sum_c\": 0.4464710547184774, \"k*k_orig/k_worst\": 300.0449438202247, \"k/(k_worst-k_orig)\": 0.02405674486176986}, {\"Method\": \"Hillside(Massey Params)\", \"Year\": \"2010\", \"k\": 651.0, \"k_orig\": 26704.0, \"sum_c\": 1457.0, \"k_worst\": 50107.0, \"top_n\": 9, \"k/k_orig\": 0.024378370281605753, \"k/k_worst\": 0.012992196699064004, \"k/sum_c\": 0.44680851063829785, \"k*k_orig/k_worst\": 346.94362065180513, \"k/(k_worst-k_orig)\": 0.027816946545314702}, {\"Method\": \"Hillside(Massey Params)\", \"Year\": \"2010\", \"k\": 823.0, \"k_orig\": 26704.0, \"sum_c\": 1854.0, \"k_worst\": 50107.0, \"top_n\": 10, \"k/k_orig\": 0.030819352905931695, \"k/k_worst\": 0.01642485081924681, \"k/sum_c\": 0.44390507011866237, \"k*k_orig/k_worst\": 438.60921627716687, \"k/(k_worst-k_orig)\": 0.03516643165406144}, {\"Method\": \"Hillside(Massey Params)\", \"Year\": \"2010\", \"k\": 1024.0, \"k_orig\": 26704.0, \"sum_c\": 2296.0, \"k_worst\": 50107.0, \"top_n\": 11, \"k/k_orig\": 0.03834631515877771, \"k/k_worst\": 0.02043626638992556, \"k/sum_c\": 0.445993031358885, \"k*k_orig/k_worst\": 545.7300576765722, \"k/(k_worst-k_orig)\": 0.043755074135794554}, {\"Method\": \"Hillside(Massey Params)\", \"Year\": \"2010\", \"k\": 1249.0, \"k_orig\": 26704.0, \"sum_c\": 2825.0, \"k_worst\": 50107.0, \"top_n\": 12, \"k/k_orig\": 0.04677201917315758, \"k/k_worst\": 0.024926656954118186, \"k/sum_c\": 0.44212389380530975, \"k*k_orig/k_worst\": 665.6414473027721, \"k/(k_worst-k_orig)\": 0.053369226167585354}, {\"Method\": \"Hillside(Massey Params)\", \"Year\": \"2010\", \"k\": 1557.0, \"k_orig\": 26704.0, \"sum_c\": 3531.0, \"k_worst\": 50107.0, \"top_n\": 13, \"k/k_orig\": 0.05830587177950869, \"k/k_worst\": 0.031073502704212986, \"k/sum_c\": 0.4409515717926933, \"k*k_orig/k_worst\": 829.7868162133035, \"k/(k_worst-k_orig)\": 0.0665299320599923}, {\"Method\": \"Hillside(Massey Params)\", \"Year\": \"2010\", \"k\": 1793.0, \"k_orig\": 26704.0, \"sum_c\": 4140.0, \"k_worst\": 50107.0, \"top_n\": 14, \"k/k_orig\": 0.06714349910125823, \"k/k_worst\": 0.03578342347376614, \"k/sum_c\": 0.4330917874396135, \"k*k_orig/k_worst\": 955.560540443451, \"k/(k_worst-k_orig)\": 0.07661410930222622}, {\"Method\": \"Hillside(Massey Params)\", \"Year\": \"2010\", \"k\": 2058.0, \"k_orig\": 26704.0, \"sum_c\": 4781.0, \"k_worst\": 50107.0, \"top_n\": 15, \"k/k_orig\": 0.07706710605152786, \"k/k_worst\": 0.04107210569381523, \"k/sum_c\": 0.43045387994143486, \"k*k_orig/k_worst\": 1096.789510447642, \"k/(k_worst-k_orig)\": 0.08793744391744648}, {\"Method\": \"Hillside(Massey Params)\", \"Year\": \"2010\", \"k\": 2344.0, \"k_orig\": 26704.0, \"sum_c\": 5490.0, \"k_worst\": 50107.0, \"top_n\": 16, \"k/k_orig\": 0.08777711204313961, \"k/k_worst\": 0.046779891033188976, \"k/sum_c\": 0.4269581056466302, \"k*k_orig/k_worst\": 1249.2102101502785, \"k/(k_worst-k_orig)\": 0.10015809938896722}, {\"Method\": \"Hillside(Massey Params)\", \"Year\": \"2010\", \"k\": 2679.0, \"k_orig\": 26704.0, \"sum_c\": 6284.0, \"k_worst\": 50107.0, \"top_n\": 17, \"k/k_orig\": 0.1003220491312163, \"k/k_worst\": 0.053465583650986886, \"k/sum_c\": 0.4263208147676639, \"k*k_orig/k_worst\": 1427.7449458159538, \"k/(k_worst-k_orig)\": 0.11447250352518908}, {\"Method\": \"Hillside(Massey Params)\", \"Year\": \"2010\", \"k\": 2988.0, \"k_orig\": 26704.0, \"sum_c\": 7009.0, \"k_worst\": 50107.0, \"top_n\": 18, \"k/k_orig\": 0.11189334931096465, \"k/k_worst\": 0.0596323866924781, \"k/sum_c\": 0.4263090312455414, \"k*k_orig/k_worst\": 1592.423254235935, \"k/(k_worst-k_orig)\": 0.12767593898218177}, {\"Method\": \"Hillside(Massey Params)\", \"Year\": \"2010\", \"k\": 3366.0, \"k_orig\": 26704.0, \"sum_c\": 7914.0, \"k_worst\": 50107.0, \"top_n\": 19, \"k/k_orig\": 0.12604853205512284, \"k/k_worst\": 0.06717624284032171, \"k/sum_c\": 0.42532221379833207, \"k*k_orig/k_worst\": 1793.874388807951, \"k/(k_worst-k_orig)\": 0.1438277143955903}, {\"Method\": \"Hillside(Massey Params)\", \"Year\": \"2010\", \"k\": 3784.0, \"k_orig\": 26704.0, \"sum_c\": 8875.0, \"k_worst\": 50107.0, \"top_n\": 20, \"k/k_orig\": 0.14170161773517076, \"k/k_worst\": 0.0755183906440218, \"k/sum_c\": 0.4263661971830986, \"k*k_orig/k_worst\": 2016.643103757958, \"k/(k_worst-k_orig)\": 0.16168867239242832}, {\"Method\": \"Hillside(Massey Params)\", \"Year\": \"2010\", \"k\": 4223.0, \"k_orig\": 26704.0, \"sum_c\": 9915.0, \"k_worst\": 50107.0, \"top_n\": 21, \"k/k_orig\": 0.15814110245656082, \"k/k_worst\": 0.08427964156704652, \"k/sum_c\": 0.4259203227433182, \"k*k_orig/k_worst\": 2250.6035484064105, \"k/(k_worst-k_orig)\": 0.1804469512455668}, {\"Method\": \"Hillside(Massey Params)\", \"Year\": \"2010\", \"k\": 4585.0, \"k_orig\": 26704.0, \"sum_c\": 10809.0, \"k_worst\": 50107.0, \"top_n\": 22, \"k/k_orig\": 0.17169712402636308, \"k/k_worst\": 0.09150418105254755, \"k/sum_c\": 0.4241835507447497, \"k*k_orig/k_worst\": 2443.5276508272295, \"k/(k_worst-k_orig)\": 0.19591505362560355}, {\"Method\": \"Hillside(Massey Params)\", \"Year\": \"2010\", \"k\": 5034.0, \"k_orig\": 26704.0, \"sum_c\": 11868.0, \"k_worst\": 50107.0, \"top_n\": 23, \"k/k_orig\": 0.18851108448172557, \"k/k_worst\": 0.10046500488953639, \"k/sum_c\": 0.4241658240647118, \"k*k_orig/k_worst\": 2682.81749057018, \"k/(k_worst-k_orig)\": 0.2151006281245994}, {\"Method\": \"Hillside(Massey Params)\", \"Year\": \"2010\", \"k\": 5507.0, \"k_orig\": 26704.0, \"sum_c\": 13035.0, \"k_worst\": 50107.0, \"top_n\": 24, \"k/k_orig\": 0.20622378669862193, \"k/k_worst\": 0.10990480372003912, \"k/sum_c\": 0.42247794399693134, \"k*k_orig/k_worst\": 2934.8978785399245, \"k/(k_worst-k_orig)\": 0.23531171217365296}, {\"Method\": \"Hillside(Massey Params)\", \"Year\": \"2010\", \"k\": 5938.0, \"k_orig\": 26704.0, \"sum_c\": 14114.0, \"k_worst\": 50107.0, \"top_n\": 25, \"k/k_orig\": 0.22236369083283403, \"k/k_worst\": 0.11850639631189255, \"k/sum_c\": 0.4207170185631288, \"k*k_orig/k_worst\": 3164.5948071127787, \"k/(k_worst-k_orig)\": 0.25372815451010555}, {\"Method\": \"Hillside(Massey Params)\", \"Year\": \"2010\", \"k\": 6445.0, \"k_orig\": 26704.0, \"sum_c\": 15329.0, \"k_worst\": 50107.0, \"top_n\": 26, \"k/k_orig\": 0.24134961054523668, \"k/k_worst\": 0.12862474304987326, \"k/sum_c\": 0.4204449083436623, \"k*k_orig/k_worst\": 3434.795138403816, \"k/(k_worst-k_orig)\": 0.27539204375507415}, {\"Method\": \"Hillside(Massey Params)\", \"Year\": \"2010\", \"k\": 6773.0, \"k_orig\": 26704.0, \"sum_c\": 16145.0, \"k_worst\": 50107.0, \"top_n\": 27, \"k/k_orig\": 0.2536324146195327, \"k/k_worst\": 0.1351707346278963, \"k/sum_c\": 0.4195106844224218, \"k*k_orig/k_worst\": 3609.5992975033428, \"k/(k_worst-k_orig)\": 0.28940734093919585}, {\"Method\": \"Hillside(Massey Params)\", \"Year\": \"2010\", \"k\": 7187.0, \"k_orig\": 26704.0, \"sum_c\": 17126.0, \"k_worst\": 50107.0, \"top_n\": 28, \"k/k_orig\": 0.2691357100059916, \"k/k_worst\": 0.14343305326601075, \"k/sum_c\": 0.41965432675464204, \"k*k_orig/k_worst\": 3830.236254415551, \"k/(k_worst-k_orig)\": 0.3070973806776909}, {\"Method\": \"Hillside(Massey Params)\", \"Year\": \"2010\", \"k\": 7757.0, \"k_orig\": 26704.0, \"sum_c\": 18548.0, \"k_worst\": 50107.0, \"top_n\": 29, \"k/k_orig\": 0.2904808268424206, \"k/k_worst\": 0.1548087093619654, \"k/sum_c\": 0.4182122061677809, \"k*k_orig/k_worst\": 4134.011774801924, \"k/(k_worst-k_orig)\": 0.3314532324915609}, {\"Method\": \"Hillside(Colley Params)\", \"Year\": \"2011\", \"k\": 16.0, \"k_orig\": 35820.0, \"sum_c\": 41.0, \"k_worst\": 66986.0, \"top_n\": 2, \"k/k_orig\": 0.00044667783361250696, \"k/k_worst\": 0.00023885588033320396, \"k/sum_c\": 0.3902439024390244, \"k*k_orig/k_worst\": 8.555817633535366, \"k/(k_worst-k_orig)\": 0.0005133799653468524}, {\"Method\": \"Hillside(Colley Params)\", \"Year\": \"2011\", \"k\": 61.0, \"k_orig\": 35820.0, \"sum_c\": 151.0, \"k_worst\": 66986.0, \"top_n\": 3, \"k/k_orig\": 0.0017029592406476828, \"k/k_worst\": 0.0009106380437703401, \"k/sum_c\": 0.40397350993377484, \"k*k_orig/k_worst\": 32.61905472785358, \"k/(k_worst-k_orig)\": 0.0019572611178848747}, {\"Method\": \"Hillside(Colley Params)\", \"Year\": \"2011\", \"k\": 137.0, \"k_orig\": 35820.0, \"sum_c\": 321.0, \"k_worst\": 66986.0, \"top_n\": 4, \"k/k_orig\": 0.003824678950307091, \"k/k_worst\": 0.0020452034753530588, \"k/sum_c\": 0.42679127725856697, \"k*k_orig/k_worst\": 73.25918848714657, \"k/(k_worst-k_orig)\": 0.0043958159532824235}, {\"Method\": \"Hillside(Colley Params)\", \"Year\": \"2011\", \"k\": 232.0, \"k_orig\": 35820.0, \"sum_c\": 546.0, \"k_worst\": 66986.0, \"top_n\": 5, \"k/k_orig\": 0.0064768285873813515, \"k/k_worst\": 0.003463410264831457, \"k/sum_c\": 0.4249084249084249, \"k*k_orig/k_worst\": 124.0593556862628, \"k/(k_worst-k_orig)\": 0.0074440094975293586}, {\"Method\": \"Hillside(Colley Params)\", \"Year\": \"2011\", \"k\": 334.0, \"k_orig\": 35820.0, \"sum_c\": 808.0, \"k_worst\": 66986.0, \"top_n\": 6, \"k/k_orig\": 0.009324399776661083, \"k/k_worst\": 0.004986116501955633, \"k/sum_c\": 0.41336633663366334, \"k*k_orig/k_worst\": 178.60269310005074, \"k/(k_worst-k_orig)\": 0.010716806776615543}, {\"Method\": \"Hillside(Colley Params)\", \"Year\": \"2011\", \"k\": 466.0, \"k_orig\": 35820.0, \"sum_c\": 1130.0, \"k_worst\": 66986.0, \"top_n\": 7, \"k/k_orig\": 0.013009491903964266, \"k/k_worst\": 0.006956677514704565, \"k/sum_c\": 0.41238938053097346, \"k*k_orig/k_worst\": 249.18818857671752, \"k/(k_worst-k_orig)\": 0.014952191490727074}, {\"Method\": \"Hillside(Colley Params)\", \"Year\": \"2011\", \"k\": 575.0, \"k_orig\": 35820.0, \"sum_c\": 1367.0, \"k_worst\": 66986.0, \"top_n\": 8, \"k/k_orig\": 0.01605248464544947, \"k/k_worst\": 0.008583883199474517, \"k/sum_c\": 0.42062911485003657, \"k*k_orig/k_worst\": 307.4746962051772, \"k/(k_worst-k_orig)\": 0.018449592504652505}, {\"Method\": \"Hillside(Colley Params)\", \"Year\": \"2011\", \"k\": 754.0, \"k_orig\": 35820.0, \"sum_c\": 1790.0, \"k_worst\": 66986.0, \"top_n\": 9, \"k/k_orig\": 0.021049692908989392, \"k/k_worst\": 0.011256083360702236, \"k/sum_c\": 0.4212290502793296, \"k*k_orig/k_worst\": 403.1929059803541, \"k/(k_worst-k_orig)\": 0.024193030866970416}, {\"Method\": \"Hillside(Colley Params)\", \"Year\": \"2011\", \"k\": 1008.0, \"k_orig\": 35820.0, \"sum_c\": 2325.0, \"k_worst\": 66986.0, \"top_n\": 10, \"k/k_orig\": 0.02814070351758794, \"k/k_worst\": 0.015047920460991848, \"k/sum_c\": 0.4335483870967742, \"k*k_orig/k_worst\": 539.016510912728, \"k/(k_worst-k_orig)\": 0.0323429378168517}, {\"Method\": \"Hillside(Colley Params)\", \"Year\": \"2011\", \"k\": 1256.0, \"k_orig\": 35820.0, \"sum_c\": 2859.0, \"k_worst\": 66986.0, \"top_n\": 11, \"k/k_orig\": 0.035064209938581795, \"k/k_worst\": 0.01875018660615651, \"k/sum_c\": 0.43931444561035327, \"k*k_orig/k_worst\": 671.6316842325263, \"k/(k_worst-k_orig)\": 0.04030032727972791}, {\"Method\": \"Hillside(Colley Params)\", \"Year\": \"2011\", \"k\": 1550.0, \"k_orig\": 35820.0, \"sum_c\": 3537.0, \"k_worst\": 66986.0, \"top_n\": 12, \"k/k_orig\": 0.04327191513121161, \"k/k_worst\": 0.02313916340727913, \"k/sum_c\": 0.4382244840260107, \"k*k_orig/k_worst\": 828.8448332487385, \"k/(k_worst-k_orig)\": 0.04973368414297632}, {\"Method\": \"Hillside(Colley Params)\", \"Year\": \"2011\", \"k\": 1766.0, \"k_orig\": 35820.0, \"sum_c\": 4031.0, \"k_worst\": 66986.0, \"top_n\": 13, \"k/k_orig\": 0.049302065884980456, \"k/k_worst\": 0.026363717791777385, \"k/sum_c\": 0.43810468866286284, \"k*k_orig/k_worst\": 944.3483713014659, \"k/(k_worst-k_orig)\": 0.056664313675158826}, {\"Method\": \"Hillside(Colley Params)\", \"Year\": \"2011\", \"k\": 2069.0, \"k_orig\": 35820.0, \"sum_c\": 4712.0, \"k_worst\": 66986.0, \"top_n\": 14, \"k/k_orig\": 0.05776102735901731, \"k/k_worst\": 0.030887051025587437, \"k/sum_c\": 0.4390916808149406, \"k*k_orig/k_worst\": 1106.374167736542, \"k/(k_worst-k_orig)\": 0.06638644676891484}, {\"Method\": \"Hillside(Colley Params)\", \"Year\": \"2011\", \"k\": 2360.0, \"k_orig\": 35820.0, \"sum_c\": 5391.0, \"k_worst\": 66986.0, \"top_n\": 15, \"k/k_orig\": 0.06588498045784479, \"k/k_worst\": 0.03523124234914758, \"k/sum_c\": 0.4377666481172324, \"k*k_orig/k_worst\": 1261.9831009464665, \"k/(k_worst-k_orig)\": 0.07572354488866072}, {\"Method\": \"Hillside(Colley Params)\", \"Year\": \"2011\", \"k\": 2702.0, \"k_orig\": 35820.0, \"sum_c\": 6244.0, \"k_worst\": 66986.0, \"top_n\": 16, \"k/k_orig\": 0.07543271915131211, \"k/k_worst\": 0.04033678679126982, \"k/sum_c\": 0.4327354260089686, \"k*k_orig/k_worst\": 1444.863702863285, \"k/(k_worst-k_orig)\": 0.08669704164794968}, {\"Method\": \"Hillside(Colley Params)\", \"Year\": \"2011\", \"k\": 3130.0, \"k_orig\": 35820.0, \"sum_c\": 7253.0, \"k_worst\": 66986.0, \"top_n\": 17, \"k/k_orig\": 0.08738135120044668, \"k/k_worst\": 0.046726181590183026, \"k/sum_c\": 0.4315455673514408, \"k*k_orig/k_worst\": 1673.7318245603558, \"k/(k_worst-k_orig)\": 0.10042995572097799}, {\"Method\": \"Hillside(Colley Params)\", \"Year\": \"2011\", \"k\": 3542.0, \"k_orig\": 35820.0, \"sum_c\": 8198.0, \"k_worst\": 66986.0, \"top_n\": 18, \"k/k_orig\": 0.09888330541596874, \"k/k_worst\": 0.05287672050876303, \"k/sum_c\": 0.4320565991705294, \"k*k_orig/k_worst\": 1894.0441286238915, \"k/(k_worst-k_orig)\": 0.11364948982865944}, {\"Method\": \"Hillside(Colley Params)\", \"Year\": \"2011\", \"k\": 4014.0, \"k_orig\": 35820.0, \"sum_c\": 9295.0, \"k_worst\": 66986.0, \"top_n\": 19, \"k/k_orig\": 0.1120603015075377, \"k/k_worst\": 0.05992296897859254, \"k/sum_c\": 0.43184507799892413, \"k*k_orig/k_worst\": 2146.4407488131847, \"k/(k_worst-k_orig)\": 0.1287941988063916}, {\"Method\": \"Hillside(Colley Params)\", \"Year\": \"2011\", \"k\": 4462.0, \"k_orig\": 35820.0, \"sum_c\": 10413.0, \"k_worst\": 66986.0, \"top_n\": 20, \"k/k_orig\": 0.12456728084868789, \"k/k_worst\": 0.06661093362792225, \"k/sum_c\": 0.42850283299721503, \"k*k_orig/k_worst\": 2386.0036425521753, \"k/(k_worst-k_orig)\": 0.14316883783610346}, {\"Method\": \"Hillside(Colley Params)\", \"Year\": \"2011\", \"k\": 4832.0, \"k_orig\": 35820.0, \"sum_c\": 11293.0, \"k_worst\": 66986.0, \"top_n\": 21, \"k/k_orig\": 0.13489670575097712, \"k/k_worst\": 0.0721344758606276, \"k/sum_c\": 0.4278756751970247, \"k*k_orig/k_worst\": 2583.8569253276805, \"k/(k_worst-k_orig)\": 0.15504074953474942}, {\"Method\": \"Hillside(Colley Params)\", \"Year\": \"2011\", \"k\": 5228.0, \"k_orig\": 35820.0, \"sum_c\": 12302.0, \"k_worst\": 66986.0, \"top_n\": 22, \"k/k_orig\": 0.14595198213288665, \"k/k_worst\": 0.0780461588988744, \"k/sum_c\": 0.4249715493415705, \"k*k_orig/k_worst\": 2795.6134117576808, \"k/(k_worst-k_orig)\": 0.167746903677084}, {\"Method\": \"Hillside(Colley Params)\", \"Year\": \"2011\", \"k\": 5802.0, \"k_orig\": 35820.0, \"sum_c\": 13697.0, \"k_worst\": 66986.0, \"top_n\": 23, \"k/k_orig\": 0.16197654941373535, \"k/k_worst\": 0.08661511360582809, \"k/sum_c\": 0.4235964079725487, \"k*k_orig/k_worst\": 3102.5533693607617, \"k/(k_worst-k_orig)\": 0.18616440993390232}, {\"Method\": \"Hillside(Colley Params)\", \"Year\": \"2011\", \"k\": 6347.0, \"k_orig\": 35820.0, \"sum_c\": 15024.0, \"k_worst\": 66986.0, \"top_n\": 24, \"k/k_orig\": 0.17719151312116135, \"k/k_worst\": 0.09475114202967784, \"k/sum_c\": 0.4224574014909478, \"k*k_orig/k_worst\": 3393.9859075030604, \"k/(k_worst-k_orig)\": 0.20365141500352948}, {\"Method\": \"Hillside(Colley Params)\", \"Year\": \"2011\", \"k\": 6962.0, \"k_orig\": 35820.0, \"sum_c\": 16399.0, \"k_worst\": 66986.0, \"top_n\": 25, \"k/k_orig\": 0.1943606923506421, \"k/k_worst\": 0.10393216492998537, \"k/sum_c\": 0.4245380815903409, \"k*k_orig/k_worst\": 3722.850147792076, \"k/(k_worst-k_orig)\": 0.22338445742154914}, {\"Method\": \"Hillside(Colley Params)\", \"Year\": \"2011\", \"k\": 7581.0, \"k_orig\": 35820.0, \"sum_c\": 17794.0, \"k_worst\": 66986.0, \"top_n\": 26, \"k/k_orig\": 0.21164154103852598, \"k/k_worst\": 0.1131729018003762, \"k/sum_c\": 0.4260424862313139, \"k*k_orig/k_worst\": 4053.8533424894754, \"k/(k_worst-k_orig)\": 0.24324584483090547}, {\"Method\": \"Hillside(Colley Params)\", \"Year\": \"2011\", \"k\": 8185.0, \"k_orig\": 35820.0, \"sum_c\": 19206.0, \"k_worst\": 66986.0, \"top_n\": 27, \"k/k_orig\": 0.2285036292573981, \"k/k_worst\": 0.12218971128295465, \"k/sum_c\": 0.42616890555034886, \"k*k_orig/k_worst\": 4376.835458155436, \"k/(k_worst-k_orig)\": 0.2626259385227491}, {\"Method\": \"Hillside(Colley Params)\", \"Year\": \"2011\", \"k\": 8731.0, \"k_orig\": 35820.0, \"sum_c\": 20459.0, \"k_worst\": 66986.0, \"top_n\": 28, \"k/k_orig\": 0.2437465103294249, \"k/k_worst\": 0.13034066819932524, \"k/sum_c\": 0.42675595092624274, \"k*k_orig/k_worst\": 4668.802734899829, \"k/(k_worst-k_orig)\": 0.2801450298402105}, {\"Method\": \"Hillside(Colley Params)\", \"Year\": \"2011\", \"k\": 9332.0, \"k_orig\": 35820.0, \"sum_c\": 21839.0, \"k_worst\": 66986.0, \"top_n\": 29, \"k/k_orig\": 0.2605248464544947, \"k/k_worst\": 0.1393126922043412, \"k/sum_c\": 0.42730894271715736, \"k*k_orig/k_worst\": 4990.180634759502, \"k/(k_worst-k_orig)\": 0.29942886478855163}, {\"Method\": \"Hillside(Massey Params)\", \"Year\": \"2011\", \"k\": 16.0, \"k_orig\": 35820.0, \"sum_c\": 41.0, \"k_worst\": 66986.0, \"top_n\": 2, \"k/k_orig\": 0.00044667783361250696, \"k/k_worst\": 0.00023885588033320396, \"k/sum_c\": 0.3902439024390244, \"k*k_orig/k_worst\": 8.555817633535366, \"k/(k_worst-k_orig)\": 0.0005133799653468524}, {\"Method\": \"Hillside(Massey Params)\", \"Year\": \"2011\", \"k\": 61.0, \"k_orig\": 35820.0, \"sum_c\": 151.0, \"k_worst\": 66986.0, \"top_n\": 3, \"k/k_orig\": 0.0017029592406476828, \"k/k_worst\": 0.0009106380437703401, \"k/sum_c\": 0.40397350993377484, \"k*k_orig/k_worst\": 32.61905472785358, \"k/(k_worst-k_orig)\": 0.0019572611178848747}, {\"Method\": \"Hillside(Massey Params)\", \"Year\": \"2011\", \"k\": 137.0, \"k_orig\": 35820.0, \"sum_c\": 321.0, \"k_worst\": 66986.0, \"top_n\": 4, \"k/k_orig\": 0.003824678950307091, \"k/k_worst\": 0.0020452034753530588, \"k/sum_c\": 0.42679127725856697, \"k*k_orig/k_worst\": 73.25918848714657, \"k/(k_worst-k_orig)\": 0.0043958159532824235}, {\"Method\": \"Hillside(Massey Params)\", \"Year\": \"2011\", \"k\": 232.0, \"k_orig\": 35820.0, \"sum_c\": 546.0, \"k_worst\": 66986.0, \"top_n\": 5, \"k/k_orig\": 0.0064768285873813515, \"k/k_worst\": 0.003463410264831457, \"k/sum_c\": 0.4249084249084249, \"k*k_orig/k_worst\": 124.0593556862628, \"k/(k_worst-k_orig)\": 0.0074440094975293586}, {\"Method\": \"Hillside(Massey Params)\", \"Year\": \"2011\", \"k\": 334.0, \"k_orig\": 35820.0, \"sum_c\": 808.0, \"k_worst\": 66986.0, \"top_n\": 6, \"k/k_orig\": 0.009324399776661083, \"k/k_worst\": 0.004986116501955633, \"k/sum_c\": 0.41336633663366334, \"k*k_orig/k_worst\": 178.60269310005074, \"k/(k_worst-k_orig)\": 0.010716806776615543}, {\"Method\": \"Hillside(Massey Params)\", \"Year\": \"2011\", \"k\": 466.0, \"k_orig\": 35820.0, \"sum_c\": 1130.0, \"k_worst\": 66986.0, \"top_n\": 7, \"k/k_orig\": 0.013009491903964266, \"k/k_worst\": 0.006956677514704565, \"k/sum_c\": 0.41238938053097346, \"k*k_orig/k_worst\": 249.18818857671752, \"k/(k_worst-k_orig)\": 0.014952191490727074}, {\"Method\": \"Hillside(Massey Params)\", \"Year\": \"2011\", \"k\": 575.0, \"k_orig\": 35820.0, \"sum_c\": 1367.0, \"k_worst\": 66986.0, \"top_n\": 8, \"k/k_orig\": 0.01605248464544947, \"k/k_worst\": 0.008583883199474517, \"k/sum_c\": 0.42062911485003657, \"k*k_orig/k_worst\": 307.4746962051772, \"k/(k_worst-k_orig)\": 0.018449592504652505}, {\"Method\": \"Hillside(Massey Params)\", \"Year\": \"2011\", \"k\": 754.0, \"k_orig\": 35820.0, \"sum_c\": 1790.0, \"k_worst\": 66986.0, \"top_n\": 9, \"k/k_orig\": 0.021049692908989392, \"k/k_worst\": 0.011256083360702236, \"k/sum_c\": 0.4212290502793296, \"k*k_orig/k_worst\": 403.1929059803541, \"k/(k_worst-k_orig)\": 0.024193030866970416}, {\"Method\": \"Hillside(Massey Params)\", \"Year\": \"2011\", \"k\": 1008.0, \"k_orig\": 35820.0, \"sum_c\": 2325.0, \"k_worst\": 66986.0, \"top_n\": 10, \"k/k_orig\": 0.02814070351758794, \"k/k_worst\": 0.015047920460991848, \"k/sum_c\": 0.4335483870967742, \"k*k_orig/k_worst\": 539.016510912728, \"k/(k_worst-k_orig)\": 0.0323429378168517}, {\"Method\": \"Hillside(Massey Params)\", \"Year\": \"2011\", \"k\": 1256.0, \"k_orig\": 35820.0, \"sum_c\": 2859.0, \"k_worst\": 66986.0, \"top_n\": 11, \"k/k_orig\": 0.035064209938581795, \"k/k_worst\": 0.01875018660615651, \"k/sum_c\": 0.43931444561035327, \"k*k_orig/k_worst\": 671.6316842325263, \"k/(k_worst-k_orig)\": 0.04030032727972791}, {\"Method\": \"Hillside(Massey Params)\", \"Year\": \"2011\", \"k\": 1550.0, \"k_orig\": 35820.0, \"sum_c\": 3537.0, \"k_worst\": 66986.0, \"top_n\": 12, \"k/k_orig\": 0.04327191513121161, \"k/k_worst\": 0.02313916340727913, \"k/sum_c\": 0.4382244840260107, \"k*k_orig/k_worst\": 828.8448332487385, \"k/(k_worst-k_orig)\": 0.04973368414297632}, {\"Method\": \"Hillside(Massey Params)\", \"Year\": \"2011\", \"k\": 1766.0, \"k_orig\": 35820.0, \"sum_c\": 4031.0, \"k_worst\": 66986.0, \"top_n\": 13, \"k/k_orig\": 0.049302065884980456, \"k/k_worst\": 0.026363717791777385, \"k/sum_c\": 0.43810468866286284, \"k*k_orig/k_worst\": 944.3483713014659, \"k/(k_worst-k_orig)\": 0.056664313675158826}, {\"Method\": \"Hillside(Massey Params)\", \"Year\": \"2011\", \"k\": 2069.0, \"k_orig\": 35820.0, \"sum_c\": 4712.0, \"k_worst\": 66986.0, \"top_n\": 14, \"k/k_orig\": 0.05776102735901731, \"k/k_worst\": 0.030887051025587437, \"k/sum_c\": 0.4390916808149406, \"k*k_orig/k_worst\": 1106.374167736542, \"k/(k_worst-k_orig)\": 0.06638644676891484}, {\"Method\": \"Hillside(Massey Params)\", \"Year\": \"2011\", \"k\": 2360.0, \"k_orig\": 35820.0, \"sum_c\": 5391.0, \"k_worst\": 66986.0, \"top_n\": 15, \"k/k_orig\": 0.06588498045784479, \"k/k_worst\": 0.03523124234914758, \"k/sum_c\": 0.4377666481172324, \"k*k_orig/k_worst\": 1261.9831009464665, \"k/(k_worst-k_orig)\": 0.07572354488866072}, {\"Method\": \"Hillside(Massey Params)\", \"Year\": \"2011\", \"k\": 2702.0, \"k_orig\": 35820.0, \"sum_c\": 6244.0, \"k_worst\": 66986.0, \"top_n\": 16, \"k/k_orig\": 0.07543271915131211, \"k/k_worst\": 0.04033678679126982, \"k/sum_c\": 0.4327354260089686, \"k*k_orig/k_worst\": 1444.863702863285, \"k/(k_worst-k_orig)\": 0.08669704164794968}, {\"Method\": \"Hillside(Massey Params)\", \"Year\": \"2011\", \"k\": 3130.0, \"k_orig\": 35820.0, \"sum_c\": 7253.0, \"k_worst\": 66986.0, \"top_n\": 17, \"k/k_orig\": 0.08738135120044668, \"k/k_worst\": 0.046726181590183026, \"k/sum_c\": 0.4315455673514408, \"k*k_orig/k_worst\": 1673.7318245603558, \"k/(k_worst-k_orig)\": 0.10042995572097799}, {\"Method\": \"Hillside(Massey Params)\", \"Year\": \"2011\", \"k\": 3542.0, \"k_orig\": 35820.0, \"sum_c\": 8198.0, \"k_worst\": 66986.0, \"top_n\": 18, \"k/k_orig\": 0.09888330541596874, \"k/k_worst\": 0.05287672050876303, \"k/sum_c\": 0.4320565991705294, \"k*k_orig/k_worst\": 1894.0441286238915, \"k/(k_worst-k_orig)\": 0.11364948982865944}, {\"Method\": \"Hillside(Massey Params)\", \"Year\": \"2011\", \"k\": 4014.0, \"k_orig\": 35820.0, \"sum_c\": 9295.0, \"k_worst\": 66986.0, \"top_n\": 19, \"k/k_orig\": 0.1120603015075377, \"k/k_worst\": 0.05992296897859254, \"k/sum_c\": 0.43184507799892413, \"k*k_orig/k_worst\": 2146.4407488131847, \"k/(k_worst-k_orig)\": 0.1287941988063916}, {\"Method\": \"Hillside(Massey Params)\", \"Year\": \"2011\", \"k\": 4462.0, \"k_orig\": 35820.0, \"sum_c\": 10413.0, \"k_worst\": 66986.0, \"top_n\": 20, \"k/k_orig\": 0.12456728084868789, \"k/k_worst\": 0.06661093362792225, \"k/sum_c\": 0.42850283299721503, \"k*k_orig/k_worst\": 2386.0036425521753, \"k/(k_worst-k_orig)\": 0.14316883783610346}, {\"Method\": \"Hillside(Massey Params)\", \"Year\": \"2011\", \"k\": 4832.0, \"k_orig\": 35820.0, \"sum_c\": 11293.0, \"k_worst\": 66986.0, \"top_n\": 21, \"k/k_orig\": 0.13489670575097712, \"k/k_worst\": 0.0721344758606276, \"k/sum_c\": 0.4278756751970247, \"k*k_orig/k_worst\": 2583.8569253276805, \"k/(k_worst-k_orig)\": 0.15504074953474942}, {\"Method\": \"Hillside(Massey Params)\", \"Year\": \"2011\", \"k\": 5228.0, \"k_orig\": 35820.0, \"sum_c\": 12302.0, \"k_worst\": 66986.0, \"top_n\": 22, \"k/k_orig\": 0.14595198213288665, \"k/k_worst\": 0.0780461588988744, \"k/sum_c\": 0.4249715493415705, \"k*k_orig/k_worst\": 2795.6134117576808, \"k/(k_worst-k_orig)\": 0.167746903677084}, {\"Method\": \"Hillside(Massey Params)\", \"Year\": \"2011\", \"k\": 5802.0, \"k_orig\": 35820.0, \"sum_c\": 13697.0, \"k_worst\": 66986.0, \"top_n\": 23, \"k/k_orig\": 0.16197654941373535, \"k/k_worst\": 0.08661511360582809, \"k/sum_c\": 0.4235964079725487, \"k*k_orig/k_worst\": 3102.5533693607617, \"k/(k_worst-k_orig)\": 0.18616440993390232}, {\"Method\": \"Hillside(Massey Params)\", \"Year\": \"2011\", \"k\": 6347.0, \"k_orig\": 35820.0, \"sum_c\": 15024.0, \"k_worst\": 66986.0, \"top_n\": 24, \"k/k_orig\": 0.17719151312116135, \"k/k_worst\": 0.09475114202967784, \"k/sum_c\": 0.4224574014909478, \"k*k_orig/k_worst\": 3393.9859075030604, \"k/(k_worst-k_orig)\": 0.20365141500352948}, {\"Method\": \"Hillside(Massey Params)\", \"Year\": \"2011\", \"k\": 6962.0, \"k_orig\": 35820.0, \"sum_c\": 16399.0, \"k_worst\": 66986.0, \"top_n\": 25, \"k/k_orig\": 0.1943606923506421, \"k/k_worst\": 0.10393216492998537, \"k/sum_c\": 0.4245380815903409, \"k*k_orig/k_worst\": 3722.850147792076, \"k/(k_worst-k_orig)\": 0.22338445742154914}, {\"Method\": \"Hillside(Massey Params)\", \"Year\": \"2011\", \"k\": 7581.0, \"k_orig\": 35820.0, \"sum_c\": 17794.0, \"k_worst\": 66986.0, \"top_n\": 26, \"k/k_orig\": 0.21164154103852598, \"k/k_worst\": 0.1131729018003762, \"k/sum_c\": 0.4260424862313139, \"k*k_orig/k_worst\": 4053.8533424894754, \"k/(k_worst-k_orig)\": 0.24324584483090547}, {\"Method\": \"Hillside(Massey Params)\", \"Year\": \"2011\", \"k\": 8185.0, \"k_orig\": 35820.0, \"sum_c\": 19206.0, \"k_worst\": 66986.0, \"top_n\": 27, \"k/k_orig\": 0.2285036292573981, \"k/k_worst\": 0.12218971128295465, \"k/sum_c\": 0.42616890555034886, \"k*k_orig/k_worst\": 4376.835458155436, \"k/(k_worst-k_orig)\": 0.2626259385227491}, {\"Method\": \"Hillside(Massey Params)\", \"Year\": \"2011\", \"k\": 8731.0, \"k_orig\": 35820.0, \"sum_c\": 20459.0, \"k_worst\": 66986.0, \"top_n\": 28, \"k/k_orig\": 0.2437465103294249, \"k/k_worst\": 0.13034066819932524, \"k/sum_c\": 0.42675595092624274, \"k*k_orig/k_worst\": 4668.802734899829, \"k/(k_worst-k_orig)\": 0.2801450298402105}, {\"Method\": \"Hillside(Massey Params)\", \"Year\": \"2011\", \"k\": 9332.0, \"k_orig\": 35820.0, \"sum_c\": 21839.0, \"k_worst\": 66986.0, \"top_n\": 29, \"k/k_orig\": 0.2605248464544947, \"k/k_worst\": 0.1393126922043412, \"k/sum_c\": 0.42730894271715736, \"k*k_orig/k_worst\": 4990.180634759502, \"k/(k_worst-k_orig)\": 0.29942886478855163}, {\"Method\": \"Hillside(Colley Params)\", \"Year\": \"2012\", \"k\": 23.0, \"k_orig\": 32487.0, \"sum_c\": 49.0, \"k_worst\": 59832.0, \"top_n\": 2, \"k/k_orig\": 0.0007079754978914643, \"k/k_worst\": 0.0003844096804385613, \"k/sum_c\": 0.46938775510204084, \"k*k_orig/k_worst\": 12.488317288407542, \"k/(k_worst-k_orig)\": 0.0008411044066556957}, {\"Method\": \"Hillside(Colley Params)\", \"Year\": \"2012\", \"k\": 56.0, \"k_orig\": 32487.0, \"sum_c\": 149.0, \"k_worst\": 59832.0, \"top_n\": 3, \"k/k_orig\": 0.0017237664296487825, \"k/k_worst\": 0.0009359540045460623, \"k/sum_c\": 0.37583892617449666, \"k*k_orig/k_worst\": 30.406337745687924, \"k/(k_worst-k_orig)\": 0.0020479063814225636}, {\"Method\": \"Hillside(Colley Params)\", \"Year\": \"2012\", \"k\": 133.0, \"k_orig\": 32487.0, \"sum_c\": 331.0, \"k_worst\": 59832.0, \"top_n\": 4, \"k/k_orig\": 0.004093945270415859, \"k/k_worst\": 0.002222890760796898, \"k/sum_c\": 0.40181268882175225, \"k*k_orig/k_worst\": 72.21505214600883, \"k/(k_worst-k_orig)\": 0.004863777655878588}, {\"Method\": \"Hillside(Colley Params)\", \"Year\": \"2012\", \"k\": 230.0, \"k_orig\": 32487.0, \"sum_c\": 546.0, \"k_worst\": 59832.0, \"top_n\": 5, \"k/k_orig\": 0.007079754978914643, \"k/k_worst\": 0.003844096804385613, \"k/sum_c\": 0.42124542124542125, \"k*k_orig/k_worst\": 124.8831728840754, \"k/(k_worst-k_orig)\": 0.008411044066556957}, {\"Method\": \"Hillside(Colley Params)\", \"Year\": \"2012\", \"k\": 341.0, \"k_orig\": 32487.0, \"sum_c\": 807.0, \"k_worst\": 59832.0, \"top_n\": 6, \"k/k_orig\": 0.010496506294825623, \"k/k_worst\": 0.005699291349110844, \"k/sum_c\": 0.4225526641883519, \"k*k_orig/k_worst\": 185.15287805856397, \"k/(k_worst-k_orig)\": 0.012470287072590968}, {\"Method\": \"Hillside(Colley Params)\", \"Year\": \"2012\", \"k\": 466.0, \"k_orig\": 32487.0, \"sum_c\": 1109.0, \"k_worst\": 59832.0, \"top_n\": 7, \"k/k_orig\": 0.014344199218148798, \"k/k_worst\": 0.00778847439497259, \"k/sum_c\": 0.42019837691614065, \"k*k_orig/k_worst\": 253.02416766947454, \"k/(k_worst-k_orig)\": 0.01704150667398062}, {\"Method\": \"Hillside(Colley Params)\", \"Year\": \"2012\", \"k\": 612.0, \"k_orig\": 32487.0, \"sum_c\": 1489.0, \"k_worst\": 59832.0, \"top_n\": 8, \"k/k_orig\": 0.018838304552590265, \"k/k_worst\": 0.01022864019253911, \"k/sum_c\": 0.4110141034251175, \"k*k_orig/k_worst\": 332.29783393501805, \"k/(k_worst-k_orig)\": 0.02238069116840373}, {\"Method\": \"Hillside(Colley Params)\", \"Year\": \"2012\", \"k\": 821.0, \"k_orig\": 32487.0, \"sum_c\": 1950.0, \"k_worst\": 59832.0, \"top_n\": 9, \"k/k_orig\": 0.025271647120386615, \"k/k_worst\": 0.01372175424521995, \"k/sum_c\": 0.42102564102564105, \"k*k_orig/k_worst\": 445.7786301644605, \"k/(k_worst-k_orig)\": 0.030023770341927228}, {\"Method\": \"Hillside(Colley Params)\", \"Year\": \"2012\", \"k\": 1031.0, \"k_orig\": 32487.0, \"sum_c\": 2410.0, \"k_worst\": 59832.0, \"top_n\": 10, \"k/k_orig\": 0.03173577123156955, \"k/k_worst\": 0.017231581762267682, \"k/sum_c\": 0.42780082987551865, \"k*k_orig/k_worst\": 559.8023967107902, \"k/(k_worst-k_orig)\": 0.03770341927226184}, {\"Method\": \"Hillside(Colley Params)\", \"Year\": \"2012\", \"k\": 1232.0, \"k_orig\": 32487.0, \"sum_c\": 2876.0, \"k_worst\": 59832.0, \"top_n\": 11, \"k/k_orig\": 0.037922861452273214, \"k/k_worst\": 0.02059098810001337, \"k/sum_c\": 0.4283727399165508, \"k*k_orig/k_worst\": 668.9394304051344, \"k/(k_worst-k_orig)\": 0.0450539403912964}, {\"Method\": \"Hillside(Colley Params)\", \"Year\": \"2012\", \"k\": 1358.0, \"k_orig\": 32487.0, \"sum_c\": 3200.0, \"k_worst\": 59832.0, \"top_n\": 12, \"k/k_orig\": 0.041801335918982975, \"k/k_worst\": 0.02269688461024201, \"k/sum_c\": 0.424375, \"k*k_orig/k_worst\": 737.3536903329322, \"k/(k_worst-k_orig)\": 0.04966172974949717}, {\"Method\": \"Hillside(Colley Params)\", \"Year\": \"2012\", \"k\": 1621.0, \"k_orig\": 32487.0, \"sum_c\": 3812.0, \"k_worst\": 59832.0, \"top_n\": 13, \"k/k_orig\": 0.04989688182965494, \"k/k_worst\": 0.027092525738735124, \"k/sum_c\": 0.4252360965372508, \"k*k_orig/k_worst\": 880.154883674288, \"k/(k_worst-k_orig)\": 0.05927957579082099}, {\"Method\": \"Hillside(Colley Params)\", \"Year\": \"2012\", \"k\": 1904.0, \"k_orig\": 32487.0, \"sum_c\": 4509.0, \"k_worst\": 59832.0, \"top_n\": 14, \"k/k_orig\": 0.05860805860805861, \"k/k_worst\": 0.03182243615456612, \"k/sum_c\": 0.42226657795520073, \"k*k_orig/k_worst\": 1033.8154833533895, \"k/(k_worst-k_orig)\": 0.06962881696836716}, {\"Method\": \"Hillside(Colley Params)\", \"Year\": \"2012\", \"k\": 2186.0, \"k_orig\": 32487.0, \"sum_c\": 5223.0, \"k_worst\": 59832.0, \"top_n\": 15, \"k/k_orig\": 0.06728845384307569, \"k/k_worst\": 0.03653563310603022, \"k/sum_c\": 0.41853340991767185, \"k*k_orig/k_worst\": 1186.9331127156038, \"k/(k_worst-k_orig)\": 0.07994148838910221}, {\"Method\": \"Hillside(Colley Params)\", \"Year\": \"2012\", \"k\": 2447.0, \"k_orig\": 32487.0, \"sum_c\": 5858.0, \"k_worst\": 59832.0, \"top_n\": 16, \"k/k_orig\": 0.07532243666697448, \"k/k_worst\": 0.04089784730578955, \"k/sum_c\": 0.41771935814271083, \"k*k_orig/k_worst\": 1328.648365423185, \"k/(k_worst-k_orig)\": 0.0894861949168038}, {\"Method\": \"Hillside(Colley Params)\", \"Year\": \"2012\", \"k\": 2748.0, \"k_orig\": 32487.0, \"sum_c\": 6640.0, \"k_worst\": 59832.0, \"top_n\": 17, \"k/k_orig\": 0.08458768122633668, \"k/k_worst\": 0.045928600080224626, \"k/sum_c\": 0.413855421686747, \"k*k_orig/k_worst\": 1492.0824308062574, \"k/(k_worst-k_orig)\": 0.10049369171695008}, {\"Method\": \"Hillside(Colley Params)\", \"Year\": \"2012\", \"k\": 3008.0, \"k_orig\": 32487.0, \"sum_c\": 7231.0, \"k_worst\": 59832.0, \"top_n\": 18, \"k/k_orig\": 0.0925908825068489, \"k/k_worst\": 0.05027410081561706, \"k/sum_c\": 0.4159867238279629, \"k*k_orig/k_worst\": 1633.2547131969516, \"k/(k_worst-k_orig)\": 0.11000182848784056}, {\"Method\": \"Hillside(Colley Params)\", \"Year\": \"2012\", \"k\": 3316.0, \"k_orig\": 32487.0, \"sum_c\": 8014.0, \"k_worst\": 59832.0, \"top_n\": 19, \"k/k_orig\": 0.1020715978699172, \"k/k_worst\": 0.0554218478406204, \"k/sum_c\": 0.41377589218866984, \"k*k_orig/k_worst\": 1800.489570798235, \"k/(k_worst-k_orig)\": 0.12126531358566466}, {\"Method\": \"Hillside(Colley Params)\", \"Year\": \"2012\", \"k\": 3691.0, \"k_orig\": 32487.0, \"sum_c\": 9017.0, \"k_worst\": 59832.0, \"top_n\": 20, \"k/k_orig\": 0.11361467663988672, \"k/k_worst\": 0.06168939697820564, \"k/sum_c\": 0.40933791726738383, \"k*k_orig/k_worst\": 2004.1034396309667, \"k/(k_worst-k_orig)\": 0.1349789723898336}, {\"Method\": \"Hillside(Colley Params)\", \"Year\": \"2012\", \"k\": 4087.0, \"k_orig\": 32487.0, \"sum_c\": 10056.0, \"k_worst\": 59832.0, \"top_n\": 21, \"k/k_orig\": 0.12580416782097453, \"k/k_worst\": 0.06830792886749565, \"k/sum_c\": 0.40642402545743833, \"k*k_orig/k_worst\": 2219.1196851183313, \"k/(k_worst-k_orig)\": 0.14946059608703602}, {\"Method\": \"Hillside(Colley Params)\", \"Year\": \"2012\", \"k\": 4443.0, \"k_orig\": 32487.0, \"sum_c\": 10869.0, \"k_worst\": 59832.0, \"top_n\": 22, \"k/k_orig\": 0.13676239726659895, \"k/k_worst\": 0.07425792218210991, \"k/sum_c\": 0.4087772564173337, \"k*k_orig/k_worst\": 2412.4171179302048, \"k/(k_worst-k_orig)\": 0.16247942951179375}, {\"Method\": \"Hillside(Colley Params)\", \"Year\": \"2012\", \"k\": 4920.0, \"k_orig\": 32487.0, \"sum_c\": 12013.0, \"k_worst\": 59832.0, \"top_n\": 23, \"k/k_orig\": 0.1514451934620002, \"k/k_worst\": 0.08223024468511833, \"k/sum_c\": 0.40955631399317405, \"k*k_orig/k_worst\": 2671.4139590854393, \"k/(k_worst-k_orig)\": 0.17992320351069666}, {\"Method\": \"Hillside(Colley Params)\", \"Year\": \"2012\", \"k\": 5329.0, \"k_orig\": 32487.0, \"sum_c\": 12975.0, \"k_worst\": 59832.0, \"top_n\": 24, \"k/k_orig\": 0.1640348447071136, \"k/k_worst\": 0.08906605161117796, \"k/sum_c\": 0.4107129094412331, \"k*k_orig/k_worst\": 2893.4888186923386, \"k/(k_worst-k_orig)\": 0.19488023404644358}, {\"Method\": \"Hillside(Colley Params)\", \"Year\": \"2012\", \"k\": 5778.0, \"k_orig\": 32487.0, \"sum_c\": 14154.0, \"k_worst\": 59832.0, \"top_n\": 25, \"k/k_orig\": 0.17785575768769046, \"k/k_worst\": 0.09657039711191336, \"k/sum_c\": 0.4082238236540907, \"k*k_orig/k_worst\": 3137.282490974729, \"k/(k_worst-k_orig)\": 0.2113000548546352}, {\"Method\": \"Hillside(Colley Params)\", \"Year\": \"2012\", \"k\": 6297.0, \"k_orig\": 32487.0, \"sum_c\": 15473.0, \"k_worst\": 59832.0, \"top_n\": 26, \"k/k_orig\": 0.1938313787053283, \"k/k_worst\": 0.10524468511833132, \"k/sum_c\": 0.4069669747301751, \"k*k_orig/k_worst\": 3419.08408543923, \"k/(k_worst-k_orig)\": 0.23027975863960504}, {\"Method\": \"Hillside(Colley Params)\", \"Year\": \"2012\", \"k\": 6870.0, \"k_orig\": 32487.0, \"sum_c\": 16924.0, \"k_worst\": 59832.0, \"top_n\": 27, \"k/k_orig\": 0.21146920306584172, \"k/k_worst\": 0.11482150020056157, \"k/sum_c\": 0.4059324036870716, \"k*k_orig/k_worst\": 3730.2060770156436, \"k/(k_worst-k_orig)\": 0.2512342292923752}, {\"Method\": \"Hillside(Colley Params)\", \"Year\": \"2012\", \"k\": 7422.0, \"k_orig\": 32487.0, \"sum_c\": 18288.0, \"k_worst\": 59832.0, \"top_n\": 28, \"k/k_orig\": 0.22846061501523687, \"k/k_worst\": 0.12404733253108705, \"k/sum_c\": 0.40583989501312334, \"k*k_orig/k_worst\": 4029.9256919374247, \"k/(k_worst-k_orig)\": 0.2714207350521119}, {\"Method\": \"Hillside(Colley Params)\", \"Year\": \"2012\", \"k\": 8006.0, \"k_orig\": 32487.0, \"sum_c\": 19757.0, \"k_worst\": 59832.0, \"top_n\": 29, \"k/k_orig\": 0.24643703635300274, \"k/k_worst\": 0.13380799572135313, \"k/sum_c\": 0.40522346510097684, \"k*k_orig/k_worst\": 4347.020356999599, \"k/(k_worst-k_orig)\": 0.29277747302980434}, {\"Method\": \"Hillside(Massey Params)\", \"Year\": \"2012\", \"k\": 23.0, \"k_orig\": 32487.0, \"sum_c\": 49.0, \"k_worst\": 59832.0, \"top_n\": 2, \"k/k_orig\": 0.0007079754978914643, \"k/k_worst\": 0.0003844096804385613, \"k/sum_c\": 0.46938775510204084, \"k*k_orig/k_worst\": 12.488317288407542, \"k/(k_worst-k_orig)\": 0.0008411044066556957}, {\"Method\": \"Hillside(Massey Params)\", \"Year\": \"2012\", \"k\": 56.0, \"k_orig\": 32487.0, \"sum_c\": 149.0, \"k_worst\": 59832.0, \"top_n\": 3, \"k/k_orig\": 0.0017237664296487825, \"k/k_worst\": 0.0009359540045460623, \"k/sum_c\": 0.37583892617449666, \"k*k_orig/k_worst\": 30.406337745687924, \"k/(k_worst-k_orig)\": 0.0020479063814225636}, {\"Method\": \"Hillside(Massey Params)\", \"Year\": \"2012\", \"k\": 133.0, \"k_orig\": 32487.0, \"sum_c\": 331.0, \"k_worst\": 59832.0, \"top_n\": 4, \"k/k_orig\": 0.004093945270415859, \"k/k_worst\": 0.002222890760796898, \"k/sum_c\": 0.40181268882175225, \"k*k_orig/k_worst\": 72.21505214600883, \"k/(k_worst-k_orig)\": 0.004863777655878588}, {\"Method\": \"Hillside(Massey Params)\", \"Year\": \"2012\", \"k\": 230.0, \"k_orig\": 32487.0, \"sum_c\": 546.0, \"k_worst\": 59832.0, \"top_n\": 5, \"k/k_orig\": 0.007079754978914643, \"k/k_worst\": 0.003844096804385613, \"k/sum_c\": 0.42124542124542125, \"k*k_orig/k_worst\": 124.8831728840754, \"k/(k_worst-k_orig)\": 0.008411044066556957}, {\"Method\": \"Hillside(Massey Params)\", \"Year\": \"2012\", \"k\": 341.0, \"k_orig\": 32487.0, \"sum_c\": 807.0, \"k_worst\": 59832.0, \"top_n\": 6, \"k/k_orig\": 0.010496506294825623, \"k/k_worst\": 0.005699291349110844, \"k/sum_c\": 0.4225526641883519, \"k*k_orig/k_worst\": 185.15287805856397, \"k/(k_worst-k_orig)\": 0.012470287072590968}, {\"Method\": \"Hillside(Massey Params)\", \"Year\": \"2012\", \"k\": 466.0, \"k_orig\": 32487.0, \"sum_c\": 1109.0, \"k_worst\": 59832.0, \"top_n\": 7, \"k/k_orig\": 0.014344199218148798, \"k/k_worst\": 0.00778847439497259, \"k/sum_c\": 0.42019837691614065, \"k*k_orig/k_worst\": 253.02416766947454, \"k/(k_worst-k_orig)\": 0.01704150667398062}, {\"Method\": \"Hillside(Massey Params)\", \"Year\": \"2012\", \"k\": 612.0, \"k_orig\": 32487.0, \"sum_c\": 1489.0, \"k_worst\": 59832.0, \"top_n\": 8, \"k/k_orig\": 0.018838304552590265, \"k/k_worst\": 0.01022864019253911, \"k/sum_c\": 0.4110141034251175, \"k*k_orig/k_worst\": 332.29783393501805, \"k/(k_worst-k_orig)\": 0.02238069116840373}, {\"Method\": \"Hillside(Massey Params)\", \"Year\": \"2012\", \"k\": 821.0, \"k_orig\": 32487.0, \"sum_c\": 1950.0, \"k_worst\": 59832.0, \"top_n\": 9, \"k/k_orig\": 0.025271647120386615, \"k/k_worst\": 0.01372175424521995, \"k/sum_c\": 0.42102564102564105, \"k*k_orig/k_worst\": 445.7786301644605, \"k/(k_worst-k_orig)\": 0.030023770341927228}, {\"Method\": \"Hillside(Massey Params)\", \"Year\": \"2012\", \"k\": 1031.0, \"k_orig\": 32487.0, \"sum_c\": 2410.0, \"k_worst\": 59832.0, \"top_n\": 10, \"k/k_orig\": 0.03173577123156955, \"k/k_worst\": 0.017231581762267682, \"k/sum_c\": 0.42780082987551865, \"k*k_orig/k_worst\": 559.8023967107902, \"k/(k_worst-k_orig)\": 0.03770341927226184}, {\"Method\": \"Hillside(Massey Params)\", \"Year\": \"2012\", \"k\": 1232.0, \"k_orig\": 32487.0, \"sum_c\": 2876.0, \"k_worst\": 59832.0, \"top_n\": 11, \"k/k_orig\": 0.037922861452273214, \"k/k_worst\": 0.02059098810001337, \"k/sum_c\": 0.4283727399165508, \"k*k_orig/k_worst\": 668.9394304051344, \"k/(k_worst-k_orig)\": 0.0450539403912964}, {\"Method\": \"Hillside(Massey Params)\", \"Year\": \"2012\", \"k\": 1358.0, \"k_orig\": 32487.0, \"sum_c\": 3200.0, \"k_worst\": 59832.0, \"top_n\": 12, \"k/k_orig\": 0.041801335918982975, \"k/k_worst\": 0.02269688461024201, \"k/sum_c\": 0.424375, \"k*k_orig/k_worst\": 737.3536903329322, \"k/(k_worst-k_orig)\": 0.04966172974949717}, {\"Method\": \"Hillside(Massey Params)\", \"Year\": \"2012\", \"k\": 1621.0, \"k_orig\": 32487.0, \"sum_c\": 3812.0, \"k_worst\": 59832.0, \"top_n\": 13, \"k/k_orig\": 0.04989688182965494, \"k/k_worst\": 0.027092525738735124, \"k/sum_c\": 0.4252360965372508, \"k*k_orig/k_worst\": 880.154883674288, \"k/(k_worst-k_orig)\": 0.05927957579082099}, {\"Method\": \"Hillside(Massey Params)\", \"Year\": \"2012\", \"k\": 1904.0, \"k_orig\": 32487.0, \"sum_c\": 4509.0, \"k_worst\": 59832.0, \"top_n\": 14, \"k/k_orig\": 0.05860805860805861, \"k/k_worst\": 0.03182243615456612, \"k/sum_c\": 0.42226657795520073, \"k*k_orig/k_worst\": 1033.8154833533895, \"k/(k_worst-k_orig)\": 0.06962881696836716}, {\"Method\": \"Hillside(Massey Params)\", \"Year\": \"2012\", \"k\": 2186.0, \"k_orig\": 32487.0, \"sum_c\": 5223.0, \"k_worst\": 59832.0, \"top_n\": 15, \"k/k_orig\": 0.06728845384307569, \"k/k_worst\": 0.03653563310603022, \"k/sum_c\": 0.41853340991767185, \"k*k_orig/k_worst\": 1186.9331127156038, \"k/(k_worst-k_orig)\": 0.07994148838910221}, {\"Method\": \"Hillside(Massey Params)\", \"Year\": \"2012\", \"k\": 2447.0, \"k_orig\": 32487.0, \"sum_c\": 5858.0, \"k_worst\": 59832.0, \"top_n\": 16, \"k/k_orig\": 0.07532243666697448, \"k/k_worst\": 0.04089784730578955, \"k/sum_c\": 0.41771935814271083, \"k*k_orig/k_worst\": 1328.648365423185, \"k/(k_worst-k_orig)\": 0.0894861949168038}, {\"Method\": \"Hillside(Massey Params)\", \"Year\": \"2012\", \"k\": 2748.0, \"k_orig\": 32487.0, \"sum_c\": 6640.0, \"k_worst\": 59832.0, \"top_n\": 17, \"k/k_orig\": 0.08458768122633668, \"k/k_worst\": 0.045928600080224626, \"k/sum_c\": 0.413855421686747, \"k*k_orig/k_worst\": 1492.0824308062574, \"k/(k_worst-k_orig)\": 0.10049369171695008}, {\"Method\": \"Hillside(Massey Params)\", \"Year\": \"2012\", \"k\": 3008.0, \"k_orig\": 32487.0, \"sum_c\": 7231.0, \"k_worst\": 59832.0, \"top_n\": 18, \"k/k_orig\": 0.0925908825068489, \"k/k_worst\": 0.05027410081561706, \"k/sum_c\": 0.4159867238279629, \"k*k_orig/k_worst\": 1633.2547131969516, \"k/(k_worst-k_orig)\": 0.11000182848784056}, {\"Method\": \"Hillside(Massey Params)\", \"Year\": \"2012\", \"k\": 3316.0, \"k_orig\": 32487.0, \"sum_c\": 8014.0, \"k_worst\": 59832.0, \"top_n\": 19, \"k/k_orig\": 0.1020715978699172, \"k/k_worst\": 0.0554218478406204, \"k/sum_c\": 0.41377589218866984, \"k*k_orig/k_worst\": 1800.489570798235, \"k/(k_worst-k_orig)\": 0.12126531358566466}, {\"Method\": \"Hillside(Massey Params)\", \"Year\": \"2012\", \"k\": 3691.0, \"k_orig\": 32487.0, \"sum_c\": 9017.0, \"k_worst\": 59832.0, \"top_n\": 20, \"k/k_orig\": 0.11361467663988672, \"k/k_worst\": 0.06168939697820564, \"k/sum_c\": 0.40933791726738383, \"k*k_orig/k_worst\": 2004.1034396309667, \"k/(k_worst-k_orig)\": 0.1349789723898336}, {\"Method\": \"Hillside(Massey Params)\", \"Year\": \"2012\", \"k\": 4087.0, \"k_orig\": 32487.0, \"sum_c\": 10056.0, \"k_worst\": 59832.0, \"top_n\": 21, \"k/k_orig\": 0.12580416782097453, \"k/k_worst\": 0.06830792886749565, \"k/sum_c\": 0.40642402545743833, \"k*k_orig/k_worst\": 2219.1196851183313, \"k/(k_worst-k_orig)\": 0.14946059608703602}, {\"Method\": \"Hillside(Massey Params)\", \"Year\": \"2012\", \"k\": 4443.0, \"k_orig\": 32487.0, \"sum_c\": 10869.0, \"k_worst\": 59832.0, \"top_n\": 22, \"k/k_orig\": 0.13676239726659895, \"k/k_worst\": 0.07425792218210991, \"k/sum_c\": 0.4087772564173337, \"k*k_orig/k_worst\": 2412.4171179302048, \"k/(k_worst-k_orig)\": 0.16247942951179375}, {\"Method\": \"Hillside(Massey Params)\", \"Year\": \"2012\", \"k\": 4920.0, \"k_orig\": 32487.0, \"sum_c\": 12013.0, \"k_worst\": 59832.0, \"top_n\": 23, \"k/k_orig\": 0.1514451934620002, \"k/k_worst\": 0.08223024468511833, \"k/sum_c\": 0.40955631399317405, \"k*k_orig/k_worst\": 2671.4139590854393, \"k/(k_worst-k_orig)\": 0.17992320351069666}, {\"Method\": \"Hillside(Massey Params)\", \"Year\": \"2012\", \"k\": 5329.0, \"k_orig\": 32487.0, \"sum_c\": 12975.0, \"k_worst\": 59832.0, \"top_n\": 24, \"k/k_orig\": 0.1640348447071136, \"k/k_worst\": 0.08906605161117796, \"k/sum_c\": 0.4107129094412331, \"k*k_orig/k_worst\": 2893.4888186923386, \"k/(k_worst-k_orig)\": 0.19488023404644358}, {\"Method\": \"Hillside(Massey Params)\", \"Year\": \"2012\", \"k\": 5778.0, \"k_orig\": 32487.0, \"sum_c\": 14154.0, \"k_worst\": 59832.0, \"top_n\": 25, \"k/k_orig\": 0.17785575768769046, \"k/k_worst\": 0.09657039711191336, \"k/sum_c\": 0.4082238236540907, \"k*k_orig/k_worst\": 3137.282490974729, \"k/(k_worst-k_orig)\": 0.2113000548546352}, {\"Method\": \"Hillside(Massey Params)\", \"Year\": \"2012\", \"k\": 6297.0, \"k_orig\": 32487.0, \"sum_c\": 15473.0, \"k_worst\": 59832.0, \"top_n\": 26, \"k/k_orig\": 0.1938313787053283, \"k/k_worst\": 0.10524468511833132, \"k/sum_c\": 0.4069669747301751, \"k*k_orig/k_worst\": 3419.08408543923, \"k/(k_worst-k_orig)\": 0.23027975863960504}, {\"Method\": \"Hillside(Massey Params)\", \"Year\": \"2012\", \"k\": 6870.0, \"k_orig\": 32487.0, \"sum_c\": 16924.0, \"k_worst\": 59832.0, \"top_n\": 27, \"k/k_orig\": 0.21146920306584172, \"k/k_worst\": 0.11482150020056157, \"k/sum_c\": 0.4059324036870716, \"k*k_orig/k_worst\": 3730.2060770156436, \"k/(k_worst-k_orig)\": 0.2512342292923752}, {\"Method\": \"Hillside(Massey Params)\", \"Year\": \"2012\", \"k\": 7422.0, \"k_orig\": 32487.0, \"sum_c\": 18288.0, \"k_worst\": 59832.0, \"top_n\": 28, \"k/k_orig\": 0.22846061501523687, \"k/k_worst\": 0.12404733253108705, \"k/sum_c\": 0.40583989501312334, \"k*k_orig/k_worst\": 4029.9256919374247, \"k/(k_worst-k_orig)\": 0.2714207350521119}, {\"Method\": \"Hillside(Massey Params)\", \"Year\": \"2012\", \"k\": 8006.0, \"k_orig\": 32487.0, \"sum_c\": 19757.0, \"k_worst\": 59832.0, \"top_n\": 29, \"k/k_orig\": 0.24643703635300274, \"k/k_worst\": 0.13380799572135313, \"k/sum_c\": 0.40522346510097684, \"k*k_orig/k_worst\": 4347.020356999599, \"k/(k_worst-k_orig)\": 0.29277747302980434}, {\"Method\": \"Hillside(Colley Params)\", \"Year\": \"2013\", \"k\": 16.0, \"k_orig\": 32468.0, \"sum_c\": 40.0, \"k_worst\": 57645.0, \"top_n\": 2, \"k/k_orig\": 0.0004927929037821855, \"k/k_worst\": 0.00027756093329863823, \"k/sum_c\": 0.4, \"k*k_orig/k_worst\": 9.011848382340185, \"k/(k_worst-k_orig)\": 0.0006355006553600508}, {\"Method\": \"Hillside(Colley Params)\", \"Year\": \"2013\", \"k\": 53.0, \"k_orig\": 32468.0, \"sum_c\": 141.0, \"k_worst\": 57645.0, \"top_n\": 3, \"k/k_orig\": 0.0016323764937784895, \"k/k_worst\": 0.0009194205915517391, \"k/sum_c\": 0.375886524822695, \"k*k_orig/k_worst\": 29.851747766501866, \"k/(k_worst-k_orig)\": 0.0021050959208801685}, {\"Method\": \"Hillside(Colley Params)\", \"Year\": \"2013\", \"k\": 106.0, \"k_orig\": 32468.0, \"sum_c\": 290.0, \"k_worst\": 57645.0, \"top_n\": 4, \"k/k_orig\": 0.003264752987556979, \"k/k_worst\": 0.0018388411831034783, \"k/sum_c\": 0.36551724137931035, \"k*k_orig/k_worst\": 59.70349553300373, \"k/(k_worst-k_orig)\": 0.004210191841760337}, {\"Method\": \"Hillside(Colley Params)\", \"Year\": \"2013\", \"k\": 170.0, \"k_orig\": 32468.0, \"sum_c\": 461.0, \"k_worst\": 57645.0, \"top_n\": 5, \"k/k_orig\": 0.005235924602685721, \"k/k_worst\": 0.002949084916298031, \"k/sum_c\": 0.368763557483731, \"k*k_orig/k_worst\": 95.75088906236448, \"k/(k_worst-k_orig)\": 0.00675219446320054}, {\"Method\": \"Hillside(Colley Params)\", \"Year\": \"2013\", \"k\": 265.0, \"k_orig\": 32468.0, \"sum_c\": 689.0, \"k_worst\": 57645.0, \"top_n\": 6, \"k/k_orig\": 0.008161882468892448, \"k/k_worst\": 0.004597102957758696, \"k/sum_c\": 0.38461538461538464, \"k*k_orig/k_worst\": 149.25873883250932, \"k/(k_worst-k_orig)\": 0.010525479604400843}, {\"Method\": \"Hillside(Colley Params)\", \"Year\": \"2013\", \"k\": 403.0, \"k_orig\": 32468.0, \"sum_c\": 1007.0, \"k_worst\": 57645.0, \"top_n\": 7, \"k/k_orig\": 0.012412221264013798, \"k/k_worst\": 0.00699106600745945, \"k/sum_c\": 0.4001986097318769, \"k*k_orig/k_worst\": 226.98593113019342, \"k/(k_worst-k_orig)\": 0.01600667275688128}, {\"Method\": \"Hillside(Colley Params)\", \"Year\": \"2013\", \"k\": 556.0, \"k_orig\": 32468.0, \"sum_c\": 1321.0, \"k_worst\": 57645.0, \"top_n\": 8, \"k/k_orig\": 0.01712455340643095, \"k/k_worst\": 0.009645242432127677, \"k/sum_c\": 0.42089326267978805, \"k*k_orig/k_worst\": 313.16173128632147, \"k/(k_worst-k_orig)\": 0.022083647773761768}, {\"Method\": \"Hillside(Colley Params)\", \"Year\": \"2013\", \"k\": 751.0, \"k_orig\": 32468.0, \"sum_c\": 1760.0, \"k_worst\": 57645.0, \"top_n\": 9, \"k/k_orig\": 0.023130466921276335, \"k/k_worst\": 0.013028016306704832, \"k/sum_c\": 0.42670454545454545, \"k*k_orig/k_worst\": 422.9936334460925, \"k/(k_worst-k_orig)\": 0.029828812010962387}, {\"Method\": \"Hillside(Colley Params)\", \"Year\": \"2013\", \"k\": 959.0, \"k_orig\": 32468.0, \"sum_c\": 2223.0, \"k_worst\": 57645.0, \"top_n\": 10, \"k/k_orig\": 0.029536774670444747, \"k/k_worst\": 0.01663630843958713, \"k/sum_c\": 0.4313990103463788, \"k*k_orig/k_worst\": 540.1476624165149, \"k/(k_worst-k_orig)\": 0.03809032053064305}, {\"Method\": \"Hillside(Colley Params)\", \"Year\": \"2013\", \"k\": 1205.0, \"k_orig\": 32468.0, \"sum_c\": 2763.0, \"k_worst\": 57645.0, \"top_n\": 11, \"k/k_orig\": 0.03711346556609585, \"k/k_worst\": 0.02090380778905369, \"k/sum_c\": 0.4361201592471951, \"k*k_orig/k_worst\": 678.7048312949952, \"k/(k_worst-k_orig)\": 0.04786114310680383}, {\"Method\": \"Hillside(Colley Params)\", \"Year\": \"2013\", \"k\": 1427.0, \"k_orig\": 32468.0, \"sum_c\": 3294.0, \"k_worst\": 57645.0, \"top_n\": 12, \"k/k_orig\": 0.04395096710607367, \"k/k_worst\": 0.024754965738572297, \"k/sum_c\": 0.4332119004250152, \"k*k_orig/k_worst\": 803.7442275999653, \"k/(k_worst-k_orig)\": 0.05667871469992453}, {\"Method\": \"Hillside(Colley Params)\", \"Year\": \"2013\", \"k\": 1692.0, \"k_orig\": 32468.0, \"sum_c\": 3861.0, \"k_worst\": 57645.0, \"top_n\": 13, \"k/k_orig\": 0.05211284957496612, \"k/k_worst\": 0.02935206869633099, \"k/sum_c\": 0.4382284382284382, \"k*k_orig/k_worst\": 953.0029664324746, \"k/(k_worst-k_orig)\": 0.06720419430432538}, {\"Method\": \"Hillside(Colley Params)\", \"Year\": \"2013\", \"k\": 1939.0, \"k_orig\": 32468.0, \"sum_c\": 4428.0, \"k_worst\": 57645.0, \"top_n\": 14, \"k/k_orig\": 0.05972034002710361, \"k/k_worst\": 0.033636915604128716, \"k/sum_c\": 0.4378952122854562, \"k*k_orig/k_worst\": 1092.1233758348512, \"k/(k_worst-k_orig)\": 0.07701473567144616}, {\"Method\": \"Hillside(Colley Params)\", \"Year\": \"2013\", \"k\": 2227.0, \"k_orig\": 32468.0, \"sum_c\": 5096.0, \"k_worst\": 57645.0, \"top_n\": 15, \"k/k_orig\": 0.06859061229518294, \"k/k_worst\": 0.038633012403504204, \"k/sum_c\": 0.4370094191522763, \"k*k_orig/k_worst\": 1254.3366467169747, \"k/(k_worst-k_orig)\": 0.08845374746792707}, {\"Method\": \"Hillside(Colley Params)\", \"Year\": \"2013\", \"k\": 2524.0, \"k_orig\": 32468.0, \"sum_c\": 5807.0, \"k_worst\": 57645.0, \"top_n\": 16, \"k/k_orig\": 0.07773808057163976, \"k/k_worst\": 0.04378523722786018, \"k/sum_c\": 0.434647838815223, \"k*k_orig/k_worst\": 1421.6190823141642, \"k/(k_worst-k_orig)\": 0.10025022838304802}, {\"Method\": \"Hillside(Colley Params)\", \"Year\": \"2013\", \"k\": 2843.0, \"k_orig\": 32468.0, \"sum_c\": 6555.0, \"k_worst\": 57645.0, \"top_n\": 17, \"k/k_orig\": 0.08756313909079709, \"k/k_worst\": 0.04931910833550178, \"k/sum_c\": 0.43371472158657515, \"k*k_orig/k_worst\": 1601.2928094370718, \"k/(k_worst-k_orig)\": 0.11292052269928904}, {\"Method\": \"Hillside(Colley Params)\", \"Year\": \"2013\", \"k\": 3272.0, \"k_orig\": 32468.0, \"sum_c\": 7504.0, \"k_worst\": 57645.0, \"top_n\": 18, \"k/k_orig\": 0.10077614882345694, \"k/k_worst\": 0.05676121085957152, \"k/sum_c\": 0.43603411513859275, \"k*k_orig/k_worst\": 1842.922994188568, \"k/(k_worst-k_orig)\": 0.1299598840211304}, {\"Method\": \"Hillside(Colley Params)\", \"Year\": \"2013\", \"k\": 3675.0, \"k_orig\": 32468.0, \"sum_c\": 8436.0, \"k_worst\": 57645.0, \"top_n\": 19, \"k/k_orig\": 0.11318837008747074, \"k/k_worst\": 0.06375227686703097, \"k/sum_c\": 0.43563300142247513, \"k*k_orig/k_worst\": 2069.9089253187612, \"k/(k_worst-k_orig)\": 0.14596655677801168}, {\"Method\": \"Hillside(Colley Params)\", \"Year\": \"2013\", \"k\": 4096.0, \"k_orig\": 32468.0, \"sum_c\": 9461.0, \"k_worst\": 57645.0, \"top_n\": 20, \"k/k_orig\": 0.1261549833682395, \"k/k_worst\": 0.07105559892445139, \"k/sum_c\": 0.43293520769474686, \"k*k_orig/k_worst\": 2307.0331858790873, \"k/(k_worst-k_orig)\": 0.16268816777217301}, {\"Method\": \"Hillside(Colley Params)\", \"Year\": \"2013\", \"k\": 4525.0, \"k_orig\": 32468.0, \"sum_c\": 10484.0, \"k_worst\": 57645.0, \"top_n\": 21, \"k/k_orig\": 0.13936799310089934, \"k/k_worst\": 0.07849770144852113, \"k/sum_c\": 0.4316100724914155, \"k*k_orig/k_worst\": 2548.663370630584, \"k/(k_worst-k_orig)\": 0.17972752909401438}, {\"Method\": \"Hillside(Colley Params)\", \"Year\": \"2013\", \"k\": 5001.0, \"k_orig\": 32468.0, \"sum_c\": 11618.0, \"k_worst\": 57645.0, \"top_n\": 22, \"k/k_orig\": 0.15402858198841937, \"k/k_worst\": 0.0867551392141556, \"k/sum_c\": 0.4304527457393699, \"k*k_orig/k_worst\": 2816.765860005204, \"k/(k_worst-k_orig)\": 0.1986336735909759}, {\"Method\": \"Hillside(Colley Params)\", \"Year\": \"2013\", \"k\": 5414.0, \"k_orig\": 32468.0, \"sum_c\": 12619.0, \"k_worst\": 57645.0, \"top_n\": 23, \"k/k_orig\": 0.16674879881729704, \"k/k_worst\": 0.0939196808049267, \"k/sum_c\": 0.4290355812663444, \"k*k_orig/k_worst\": 3049.3841963743603, \"k/(k_worst-k_orig)\": 0.2150375342574572}, {\"Method\": \"Hillside(Colley Params)\", \"Year\": \"2013\", \"k\": 5976.0, \"k_orig\": 32468.0, \"sum_c\": 13905.0, \"k_worst\": 57645.0, \"top_n\": 24, \"k/k_orig\": 0.1840581495626463, \"k/k_worst\": 0.10366900858704138, \"k/sum_c\": 0.4297734627831715, \"k*k_orig/k_worst\": 3365.925370804059, \"k/(k_worst-k_orig)\": 0.23735949477697899}, {\"Method\": \"Hillside(Colley Params)\", \"Year\": \"2013\", \"k\": 6488.0, \"k_orig\": 32468.0, \"sum_c\": 15064.0, \"k_worst\": 57645.0, \"top_n\": 25, \"k/k_orig\": 0.19982752248367625, \"k/k_worst\": 0.1125509584525978, \"k/sum_c\": 0.4306956983536909, \"k*k_orig/k_worst\": 3654.3045190389453, \"k/(k_worst-k_orig)\": 0.25769551574850064}, {\"Method\": \"Hillside(Colley Params)\", \"Year\": \"2013\", \"k\": 6997.0, \"k_orig\": 32468.0, \"sum_c\": 16252.0, \"k_worst\": 57645.0, \"top_n\": 26, \"k/k_orig\": 0.21550449673524702, \"k/k_worst\": 0.12138086564316072, \"k/sum_c\": 0.4305316268766921, \"k*k_orig/k_worst\": 3940.9939457021424, \"k/(k_worst-k_orig)\": 0.2779123803471422}, {\"Method\": \"Hillside(Colley Params)\", \"Year\": \"2013\", \"k\": 7557.0, \"k_orig\": 32468.0, \"sum_c\": 17492.0, \"k_worst\": 57645.0, \"top_n\": 27, \"k/k_orig\": 0.2327522483676235, \"k/k_worst\": 0.13109549830861306, \"k/sum_c\": 0.4320260690601418, \"k*k_orig/k_worst\": 4256.408639084049, \"k/(k_worst-k_orig)\": 0.30015490328474403}, {\"Method\": \"Hillside(Colley Params)\", \"Year\": \"2013\", \"k\": 8116.0, \"k_orig\": 32468.0, \"sum_c\": 18733.0, \"k_worst\": 57645.0, \"top_n\": 28, \"k/k_orig\": 0.24996920044351362, \"k/k_worst\": 0.14079278341573423, \"k/sum_c\": 0.4332461431698073, \"k*k_orig/k_worst\": 4571.260091942059, \"k/(k_worst-k_orig)\": 0.3223577074313858}, {\"Method\": \"Hillside(Colley Params)\", \"Year\": \"2013\", \"k\": 8753.0, \"k_orig\": 32468.0, \"sum_c\": 20192.0, \"k_worst\": 57645.0, \"top_n\": 29, \"k/k_orig\": 0.2695885179253419, \"k/k_worst\": 0.15184317807268627, \"k/sum_c\": 0.43348851030110935, \"k*k_orig/k_worst\": 4930.044305663978, \"k/(k_worst-k_orig)\": 0.34765857727290783}, {\"Method\": \"Hillside(Massey Params)\", \"Year\": \"2013\", \"k\": 16.0, \"k_orig\": 32468.0, \"sum_c\": 40.0, \"k_worst\": 57645.0, \"top_n\": 2, \"k/k_orig\": 0.0004927929037821855, \"k/k_worst\": 0.00027756093329863823, \"k/sum_c\": 0.4, \"k*k_orig/k_worst\": 9.011848382340185, \"k/(k_worst-k_orig)\": 0.0006355006553600508}, {\"Method\": \"Hillside(Massey Params)\", \"Year\": \"2013\", \"k\": 53.0, \"k_orig\": 32468.0, \"sum_c\": 141.0, \"k_worst\": 57645.0, \"top_n\": 3, \"k/k_orig\": 0.0016323764937784895, \"k/k_worst\": 0.0009194205915517391, \"k/sum_c\": 0.375886524822695, \"k*k_orig/k_worst\": 29.851747766501866, \"k/(k_worst-k_orig)\": 0.0021050959208801685}, {\"Method\": \"Hillside(Massey Params)\", \"Year\": \"2013\", \"k\": 106.0, \"k_orig\": 32468.0, \"sum_c\": 290.0, \"k_worst\": 57645.0, \"top_n\": 4, \"k/k_orig\": 0.003264752987556979, \"k/k_worst\": 0.0018388411831034783, \"k/sum_c\": 0.36551724137931035, \"k*k_orig/k_worst\": 59.70349553300373, \"k/(k_worst-k_orig)\": 0.004210191841760337}, {\"Method\": \"Hillside(Massey Params)\", \"Year\": \"2013\", \"k\": 170.0, \"k_orig\": 32468.0, \"sum_c\": 461.0, \"k_worst\": 57645.0, \"top_n\": 5, \"k/k_orig\": 0.005235924602685721, \"k/k_worst\": 0.002949084916298031, \"k/sum_c\": 0.368763557483731, \"k*k_orig/k_worst\": 95.75088906236448, \"k/(k_worst-k_orig)\": 0.00675219446320054}, {\"Method\": \"Hillside(Massey Params)\", \"Year\": \"2013\", \"k\": 265.0, \"k_orig\": 32468.0, \"sum_c\": 689.0, \"k_worst\": 57645.0, \"top_n\": 6, \"k/k_orig\": 0.008161882468892448, \"k/k_worst\": 0.004597102957758696, \"k/sum_c\": 0.38461538461538464, \"k*k_orig/k_worst\": 149.25873883250932, \"k/(k_worst-k_orig)\": 0.010525479604400843}, {\"Method\": \"Hillside(Massey Params)\", \"Year\": \"2013\", \"k\": 403.0, \"k_orig\": 32468.0, \"sum_c\": 1007.0, \"k_worst\": 57645.0, \"top_n\": 7, \"k/k_orig\": 0.012412221264013798, \"k/k_worst\": 0.00699106600745945, \"k/sum_c\": 0.4001986097318769, \"k*k_orig/k_worst\": 226.98593113019342, \"k/(k_worst-k_orig)\": 0.01600667275688128}, {\"Method\": \"Hillside(Massey Params)\", \"Year\": \"2013\", \"k\": 556.0, \"k_orig\": 32468.0, \"sum_c\": 1321.0, \"k_worst\": 57645.0, \"top_n\": 8, \"k/k_orig\": 0.01712455340643095, \"k/k_worst\": 0.009645242432127677, \"k/sum_c\": 0.42089326267978805, \"k*k_orig/k_worst\": 313.16173128632147, \"k/(k_worst-k_orig)\": 0.022083647773761768}, {\"Method\": \"Hillside(Massey Params)\", \"Year\": \"2013\", \"k\": 751.0, \"k_orig\": 32468.0, \"sum_c\": 1760.0, \"k_worst\": 57645.0, \"top_n\": 9, \"k/k_orig\": 0.023130466921276335, \"k/k_worst\": 0.013028016306704832, \"k/sum_c\": 0.42670454545454545, \"k*k_orig/k_worst\": 422.9936334460925, \"k/(k_worst-k_orig)\": 0.029828812010962387}, {\"Method\": \"Hillside(Massey Params)\", \"Year\": \"2013\", \"k\": 959.0, \"k_orig\": 32468.0, \"sum_c\": 2223.0, \"k_worst\": 57645.0, \"top_n\": 10, \"k/k_orig\": 0.029536774670444747, \"k/k_worst\": 0.01663630843958713, \"k/sum_c\": 0.4313990103463788, \"k*k_orig/k_worst\": 540.1476624165149, \"k/(k_worst-k_orig)\": 0.03809032053064305}, {\"Method\": \"Hillside(Massey Params)\", \"Year\": \"2013\", \"k\": 1205.0, \"k_orig\": 32468.0, \"sum_c\": 2763.0, \"k_worst\": 57645.0, \"top_n\": 11, \"k/k_orig\": 0.03711346556609585, \"k/k_worst\": 0.02090380778905369, \"k/sum_c\": 0.4361201592471951, \"k*k_orig/k_worst\": 678.7048312949952, \"k/(k_worst-k_orig)\": 0.04786114310680383}, {\"Method\": \"Hillside(Massey Params)\", \"Year\": \"2013\", \"k\": 1427.0, \"k_orig\": 32468.0, \"sum_c\": 3294.0, \"k_worst\": 57645.0, \"top_n\": 12, \"k/k_orig\": 0.04395096710607367, \"k/k_worst\": 0.024754965738572297, \"k/sum_c\": 0.4332119004250152, \"k*k_orig/k_worst\": 803.7442275999653, \"k/(k_worst-k_orig)\": 0.05667871469992453}, {\"Method\": \"Hillside(Massey Params)\", \"Year\": \"2013\", \"k\": 1692.0, \"k_orig\": 32468.0, \"sum_c\": 3861.0, \"k_worst\": 57645.0, \"top_n\": 13, \"k/k_orig\": 0.05211284957496612, \"k/k_worst\": 0.02935206869633099, \"k/sum_c\": 0.4382284382284382, \"k*k_orig/k_worst\": 953.0029664324746, \"k/(k_worst-k_orig)\": 0.06720419430432538}, {\"Method\": \"Hillside(Massey Params)\", \"Year\": \"2013\", \"k\": 1939.0, \"k_orig\": 32468.0, \"sum_c\": 4428.0, \"k_worst\": 57645.0, \"top_n\": 14, \"k/k_orig\": 0.05972034002710361, \"k/k_worst\": 0.033636915604128716, \"k/sum_c\": 0.4378952122854562, \"k*k_orig/k_worst\": 1092.1233758348512, \"k/(k_worst-k_orig)\": 0.07701473567144616}, {\"Method\": \"Hillside(Massey Params)\", \"Year\": \"2013\", \"k\": 2227.0, \"k_orig\": 32468.0, \"sum_c\": 5096.0, \"k_worst\": 57645.0, \"top_n\": 15, \"k/k_orig\": 0.06859061229518294, \"k/k_worst\": 0.038633012403504204, \"k/sum_c\": 0.4370094191522763, \"k*k_orig/k_worst\": 1254.3366467169747, \"k/(k_worst-k_orig)\": 0.08845374746792707}, {\"Method\": \"Hillside(Massey Params)\", \"Year\": \"2013\", \"k\": 2524.0, \"k_orig\": 32468.0, \"sum_c\": 5807.0, \"k_worst\": 57645.0, \"top_n\": 16, \"k/k_orig\": 0.07773808057163976, \"k/k_worst\": 0.04378523722786018, \"k/sum_c\": 0.434647838815223, \"k*k_orig/k_worst\": 1421.6190823141642, \"k/(k_worst-k_orig)\": 0.10025022838304802}, {\"Method\": \"Hillside(Massey Params)\", \"Year\": \"2013\", \"k\": 2843.0, \"k_orig\": 32468.0, \"sum_c\": 6555.0, \"k_worst\": 57645.0, \"top_n\": 17, \"k/k_orig\": 0.08756313909079709, \"k/k_worst\": 0.04931910833550178, \"k/sum_c\": 0.43371472158657515, \"k*k_orig/k_worst\": 1601.2928094370718, \"k/(k_worst-k_orig)\": 0.11292052269928904}, {\"Method\": \"Hillside(Massey Params)\", \"Year\": \"2013\", \"k\": 3272.0, \"k_orig\": 32468.0, \"sum_c\": 7504.0, \"k_worst\": 57645.0, \"top_n\": 18, \"k/k_orig\": 0.10077614882345694, \"k/k_worst\": 0.05676121085957152, \"k/sum_c\": 0.43603411513859275, \"k*k_orig/k_worst\": 1842.922994188568, \"k/(k_worst-k_orig)\": 0.1299598840211304}, {\"Method\": \"Hillside(Massey Params)\", \"Year\": \"2013\", \"k\": 3675.0, \"k_orig\": 32468.0, \"sum_c\": 8436.0, \"k_worst\": 57645.0, \"top_n\": 19, \"k/k_orig\": 0.11318837008747074, \"k/k_worst\": 0.06375227686703097, \"k/sum_c\": 0.43563300142247513, \"k*k_orig/k_worst\": 2069.9089253187612, \"k/(k_worst-k_orig)\": 0.14596655677801168}, {\"Method\": \"Hillside(Massey Params)\", \"Year\": \"2013\", \"k\": 4096.0, \"k_orig\": 32468.0, \"sum_c\": 9461.0, \"k_worst\": 57645.0, \"top_n\": 20, \"k/k_orig\": 0.1261549833682395, \"k/k_worst\": 0.07105559892445139, \"k/sum_c\": 0.43293520769474686, \"k*k_orig/k_worst\": 2307.0331858790873, \"k/(k_worst-k_orig)\": 0.16268816777217301}, {\"Method\": \"Hillside(Massey Params)\", \"Year\": \"2013\", \"k\": 4525.0, \"k_orig\": 32468.0, \"sum_c\": 10484.0, \"k_worst\": 57645.0, \"top_n\": 21, \"k/k_orig\": 0.13936799310089934, \"k/k_worst\": 0.07849770144852113, \"k/sum_c\": 0.4316100724914155, \"k*k_orig/k_worst\": 2548.663370630584, \"k/(k_worst-k_orig)\": 0.17972752909401438}, {\"Method\": \"Hillside(Massey Params)\", \"Year\": \"2013\", \"k\": 5001.0, \"k_orig\": 32468.0, \"sum_c\": 11618.0, \"k_worst\": 57645.0, \"top_n\": 22, \"k/k_orig\": 0.15402858198841937, \"k/k_worst\": 0.0867551392141556, \"k/sum_c\": 0.4304527457393699, \"k*k_orig/k_worst\": 2816.765860005204, \"k/(k_worst-k_orig)\": 0.1986336735909759}, {\"Method\": \"Hillside(Massey Params)\", \"Year\": \"2013\", \"k\": 5414.0, \"k_orig\": 32468.0, \"sum_c\": 12619.0, \"k_worst\": 57645.0, \"top_n\": 23, \"k/k_orig\": 0.16674879881729704, \"k/k_worst\": 0.0939196808049267, \"k/sum_c\": 0.4290355812663444, \"k*k_orig/k_worst\": 3049.3841963743603, \"k/(k_worst-k_orig)\": 0.2150375342574572}, {\"Method\": \"Hillside(Massey Params)\", \"Year\": \"2013\", \"k\": 5976.0, \"k_orig\": 32468.0, \"sum_c\": 13905.0, \"k_worst\": 57645.0, \"top_n\": 24, \"k/k_orig\": 0.1840581495626463, \"k/k_worst\": 0.10366900858704138, \"k/sum_c\": 0.4297734627831715, \"k*k_orig/k_worst\": 3365.925370804059, \"k/(k_worst-k_orig)\": 0.23735949477697899}, {\"Method\": \"Hillside(Massey Params)\", \"Year\": \"2013\", \"k\": 6488.0, \"k_orig\": 32468.0, \"sum_c\": 15064.0, \"k_worst\": 57645.0, \"top_n\": 25, \"k/k_orig\": 0.19982752248367625, \"k/k_worst\": 0.1125509584525978, \"k/sum_c\": 0.4306956983536909, \"k*k_orig/k_worst\": 3654.3045190389453, \"k/(k_worst-k_orig)\": 0.25769551574850064}, {\"Method\": \"Hillside(Massey Params)\", \"Year\": \"2013\", \"k\": 6997.0, \"k_orig\": 32468.0, \"sum_c\": 16252.0, \"k_worst\": 57645.0, \"top_n\": 26, \"k/k_orig\": 0.21550449673524702, \"k/k_worst\": 0.12138086564316072, \"k/sum_c\": 0.4305316268766921, \"k*k_orig/k_worst\": 3940.9939457021424, \"k/(k_worst-k_orig)\": 0.2779123803471422}, {\"Method\": \"Hillside(Massey Params)\", \"Year\": \"2013\", \"k\": 7557.0, \"k_orig\": 32468.0, \"sum_c\": 17492.0, \"k_worst\": 57645.0, \"top_n\": 27, \"k/k_orig\": 0.2327522483676235, \"k/k_worst\": 0.13109549830861306, \"k/sum_c\": 0.4320260690601418, \"k*k_orig/k_worst\": 4256.408639084049, \"k/(k_worst-k_orig)\": 0.30015490328474403}, {\"Method\": \"Hillside(Massey Params)\", \"Year\": \"2013\", \"k\": 8116.0, \"k_orig\": 32468.0, \"sum_c\": 18733.0, \"k_worst\": 57645.0, \"top_n\": 28, \"k/k_orig\": 0.24996920044351362, \"k/k_worst\": 0.14079278341573423, \"k/sum_c\": 0.4332461431698073, \"k*k_orig/k_worst\": 4571.260091942059, \"k/(k_worst-k_orig)\": 0.3223577074313858}, {\"Method\": \"Hillside(Massey Params)\", \"Year\": \"2013\", \"k\": 8753.0, \"k_orig\": 32468.0, \"sum_c\": 20192.0, \"k_worst\": 57645.0, \"top_n\": 29, \"k/k_orig\": 0.2695885179253419, \"k/k_worst\": 0.15184317807268627, \"k/sum_c\": 0.43348851030110935, \"k*k_orig/k_worst\": 4930.044305663978, \"k/(k_worst-k_orig)\": 0.34765857727290783}, {\"Method\": \"Hillside(Colley Params)\", \"Year\": \"2014\", \"k\": 22.0, \"k_orig\": 31166.0, \"sum_c\": 51.0, \"k_worst\": 61369.0, \"top_n\": 2, \"k/k_orig\": 0.000705897452351922, \"k/k_worst\": 0.000358487184083169, \"k/sum_c\": 0.43137254901960786, \"k*k_orig/k_worst\": 11.172611579136046, \"k/(k_worst-k_orig)\": 0.0007284044631328014}, {\"Method\": \"Hillside(Colley Params)\", \"Year\": \"2014\", \"k\": 79.0, \"k_orig\": 31166.0, \"sum_c\": 172.0, \"k_worst\": 61369.0, \"top_n\": 3, \"k/k_orig\": 0.0025348135789000836, \"k/k_worst\": 0.0012872948882986523, \"k/sum_c\": 0.45930232558139533, \"k*k_orig/k_worst\": 40.1198324887158, \"k/(k_worst-k_orig)\": 0.002615634208522332}, {\"Method\": \"Hillside(Colley Params)\", \"Year\": \"2014\", \"k\": 127.0, \"k_orig\": 31166.0, \"sum_c\": 290.0, \"k_worst\": 61369.0, \"top_n\": 4, \"k/k_orig\": 0.004074953474940641, \"k/k_worst\": 0.0020694487444801123, \"k/sum_c\": 0.4379310344827586, \"k*k_orig/k_worst\": 64.49643957046717, \"k/(k_worst-k_orig)\": 0.00420488030990299}, {\"Method\": \"Hillside(Colley Params)\", \"Year\": \"2014\", \"k\": 204.0, \"k_orig\": 31166.0, \"sum_c\": 466.0, \"k_worst\": 61369.0, \"top_n\": 5, \"k/k_orig\": 0.006545594558172367, \"k/k_worst\": 0.0033241538887712036, \"k/sum_c\": 0.43776824034334766, \"k*k_orig/k_worst\": 103.60058009744334, \"k/(k_worst-k_orig)\": 0.006754295930867795}, {\"Method\": \"Hillside(Colley Params)\", \"Year\": \"2014\", \"k\": 282.0, \"k_orig\": 31166.0, \"sum_c\": 632.0, \"k_worst\": 61369.0, \"top_n\": 6, \"k/k_orig\": 0.009048321889238273, \"k/k_worst\": 0.004595153905066075, \"k/sum_c\": 0.4462025316455696, \"k*k_orig/k_worst\": 143.2125666052893, \"k/(k_worst-k_orig)\": 0.009336820845611363}, {\"Method\": \"Hillside(Colley Params)\", \"Year\": \"2014\", \"k\": 420.0, \"k_orig\": 31166.0, \"sum_c\": 934.0, \"k_worst\": 61369.0, \"top_n\": 7, \"k/k_orig\": 0.013476224090354873, \"k/k_worst\": 0.006843846241587772, \"k/sum_c\": 0.44967880085653106, \"k*k_orig/k_worst\": 213.29531196532452, \"k/(k_worst-k_orig)\": 0.013905903387080754}, {\"Method\": \"Hillside(Colley Params)\", \"Year\": \"2014\", \"k\": 612.0, \"k_orig\": 31166.0, \"sum_c\": 1343.0, \"k_worst\": 61369.0, \"top_n\": 8, \"k/k_orig\": 0.019636783674517103, \"k/k_worst\": 0.00997246166631361, \"k/sum_c\": 0.45569620253164556, \"k*k_orig/k_worst\": 310.80174029233, \"k/(k_worst-k_orig)\": 0.020262887792603382}, {\"Method\": \"Hillside(Colley Params)\", \"Year\": \"2014\", \"k\": 807.0, \"k_orig\": 31166.0, \"sum_c\": 1755.0, \"k_worst\": 61369.0, \"top_n\": 9, \"k/k_orig\": 0.025893602002181864, \"k/k_worst\": 0.013149961707050791, \"k/sum_c\": 0.4598290598290598, \"k*k_orig/k_worst\": 409.83170656194494, \"k/(k_worst-k_orig)\": 0.026719200079462307}, {\"Method\": \"Hillside(Colley Params)\", \"Year\": \"2014\", \"k\": 958.0, \"k_orig\": 31166.0, \"sum_c\": 2137.0, \"k_worst\": 61369.0, \"top_n\": 10, \"k/k_orig\": 0.030738625425142784, \"k/k_worst\": 0.015610487379621634, \"k/sum_c\": 0.44829199812821713, \"k*k_orig/k_worst\": 486.5164496732878, \"k/(k_worst-k_orig)\": 0.031718703440055625}, {\"Method\": \"Hillside(Colley Params)\", \"Year\": \"2014\", \"k\": 1170.0, \"k_orig\": 31166.0, \"sum_c\": 2629.0, \"k_worst\": 61369.0, \"top_n\": 11, \"k/k_orig\": 0.03754090996598858, \"k/k_worst\": 0.01906500024442308, \"k/sum_c\": 0.4450361354127044, \"k*k_orig/k_worst\": 594.1797976176897, \"k/(k_worst-k_orig)\": 0.038737873721153525}, {\"Method\": \"Hillside(Colley Params)\", \"Year\": \"2014\", \"k\": 1404.0, \"k_orig\": 31166.0, \"sum_c\": 3195.0, \"k_worst\": 61369.0, \"top_n\": 12, \"k/k_orig\": 0.04504909195918629, \"k/k_worst\": 0.022878000293307697, \"k/sum_c\": 0.4394366197183099, \"k*k_orig/k_worst\": 713.0157571412277, \"k/(k_worst-k_orig)\": 0.04648544846538424}, {\"Method\": \"Hillside(Colley Params)\", \"Year\": \"2014\", \"k\": 1687.0, \"k_orig\": 31166.0, \"sum_c\": 3839.0, \"k_worst\": 61369.0, \"top_n\": 13, \"k/k_orig\": 0.05412950009625874, \"k/k_worst\": 0.027489449070377554, \"k/sum_c\": 0.4394373534774681, \"k*k_orig/k_worst\": 856.7361697273868, \"k/(k_worst-k_orig)\": 0.05585537860477436}, {\"Method\": \"Hillside(Colley Params)\", \"Year\": \"2014\", \"k\": 1939.0, \"k_orig\": 31166.0, \"sum_c\": 4441.0, \"k_worst\": 61369.0, \"top_n\": 14, \"k/k_orig\": 0.06221523455047167, \"k/k_worst\": 0.031595756815330216, \"k/sum_c\": 0.43661337536590855, \"k*k_orig/k_worst\": 984.7133569065815, \"k/(k_worst-k_orig)\": 0.06419892063702282}, {\"Method\": \"Hillside(Colley Params)\", \"Year\": \"2014\", \"k\": 2238.0, \"k_orig\": 31166.0, \"sum_c\": 5147.0, \"k_worst\": 61369.0, \"top_n\": 15, \"k/k_orig\": 0.07180902265289098, \"k/k_worst\": 0.03646792354446056, \"k/sum_c\": 0.4348163979016903, \"k*k_orig/k_worst\": 1136.5593051866579, \"k/(k_worst-k_orig)\": 0.07409859947687315}, {\"Method\": \"Hillside(Colley Params)\", \"Year\": \"2014\", \"k\": 2514.0, \"k_orig\": 31166.0, \"sum_c\": 5807.0, \"k_worst\": 61369.0, \"top_n\": 16, \"k/k_orig\": 0.08066482705512418, \"k/k_worst\": 0.04096530821750395, \"k/sum_c\": 0.4329257792319614, \"k*k_orig/k_worst\": 1276.724795906728, \"k/(k_worst-k_orig)\": 0.08323676455981194}, {\"Method\": \"Hillside(Colley Params)\", \"Year\": \"2014\", \"k\": 2860.0, \"k_orig\": 31166.0, \"sum_c\": 6597.0, \"k_worst\": 61369.0, \"top_n\": 17, \"k/k_orig\": 0.09176666880574985, \"k/k_worst\": 0.04660333393081197, \"k/sum_c\": 0.4335303926026982, \"k*k_orig/k_worst\": 1452.439505287686, \"k/(k_worst-k_orig)\": 0.09469258020726418}, {\"Method\": \"Hillside(Colley Params)\", \"Year\": \"2014\", \"k\": 3258.0, \"k_orig\": 31166.0, \"sum_c\": 7531.0, \"k_worst\": 61369.0, \"top_n\": 18, \"k/k_orig\": 0.1045369954437528, \"k/k_worst\": 0.053088692988316574, \"k/sum_c\": 0.432611870933475, \"k*k_orig/k_worst\": 1654.5622056738744, \"k/(k_worst-k_orig)\": 0.10787007913121213}, {\"Method\": \"Hillside(Colley Params)\", \"Year\": \"2014\", \"k\": 3657.0, \"k_orig\": 31166.0, \"sum_c\": 8457.0, \"k_worst\": 61369.0, \"top_n\": 19, \"k/k_orig\": 0.11733940832958993, \"k/k_worst\": 0.05959034691782496, \"k/sum_c\": 0.43242284498048955, \"k*k_orig/k_worst\": 1857.1927520409326, \"k/(k_worst-k_orig)\": 0.12108068734893884}, {\"Method\": \"Hillside(Colley Params)\", \"Year\": \"2014\", \"k\": 4016.0, \"k_orig\": 31166.0, \"sum_c\": 9307.0, \"k_worst\": 61369.0, \"top_n\": 20, \"k/k_orig\": 0.12885837130205993, \"k/k_worst\": 0.06544020596718213, \"k/sum_c\": 0.4315031696572472, \"k*k_orig/k_worst\": 2039.5094591731981, \"k/(k_worst-k_orig)\": 0.132966923815515}, {\"Method\": \"Hillside(Colley Params)\", \"Year\": \"2014\", \"k\": 4498.0, \"k_orig\": 31166.0, \"sum_c\": 10418.0, \"k_worst\": 61369.0, \"top_n\": 21, \"k/k_orig\": 0.14432394275813387, \"k/k_worst\": 0.07329433427300429, \"k/sum_c\": 0.4317527356498368, \"k*k_orig/k_worst\": 2284.2912219524515, \"k/(k_worst-k_orig)\": 0.1489256034168791}, {\"Method\": \"Hillside(Colley Params)\", \"Year\": \"2014\", \"k\": 4941.0, \"k_orig\": 31166.0, \"sum_c\": 11478.0, \"k_worst\": 61369.0, \"top_n\": 22, \"k/k_orig\": 0.15853815054867484, \"k/k_worst\": 0.08051296257067901, \"k/sum_c\": 0.43047569262937796, \"k*k_orig/k_worst\": 2509.266991477782, \"k/(k_worst-k_orig)\": 0.16359302056087144}, {\"Method\": \"Hillside(Colley Params)\", \"Year\": \"2014\", \"k\": 5444.0, \"k_orig\": 31166.0, \"sum_c\": 12576.0, \"k_worst\": 61369.0, \"top_n\": 23, \"k/k_orig\": 0.17467753320926652, \"k/k_worst\": 0.08870928318858055, \"k/sum_c\": 0.43288804071246817, \"k*k_orig/k_worst\": 2764.7135198553015, \"k/(k_worst-k_orig)\": 0.18024699533158958}, {\"Method\": \"Hillside(Colley Params)\", \"Year\": \"2014\", \"k\": 6004.0, \"k_orig\": 31166.0, \"sum_c\": 13834.0, \"k_worst\": 61369.0, \"top_n\": 24, \"k/k_orig\": 0.19264583199640634, \"k/k_worst\": 0.09783441151069758, \"k/sum_c\": 0.4340031805696111, \"k*k_orig/k_worst\": 3049.107269142401, \"k/(k_worst-k_orig)\": 0.19878819984769724}, {\"Method\": \"Hillside(Colley Params)\", \"Year\": \"2014\", \"k\": 6592.0, \"k_orig\": 31166.0, \"sum_c\": 15216.0, \"k_worst\": 61369.0, \"top_n\": 25, \"k/k_orig\": 0.21151254572290315, \"k/k_worst\": 0.10741579624892046, \"k/sum_c\": 0.4332281808622503, \"k*k_orig/k_worst\": 3347.720705893855, \"k/(k_worst-k_orig)\": 0.21825646458961032}, {\"Method\": \"Hillside(Colley Params)\", \"Year\": \"2014\", \"k\": 7156.0, \"k_orig\": 31166.0, \"sum_c\": 16494.0, \"k_worst\": 61369.0, \"top_n\": 26, \"k/k_orig\": 0.2296091895013797, \"k/k_worst\": 0.11660610405905261, \"k/sum_c\": 0.4338547350551716, \"k*k_orig/k_worst\": 3634.145839104434, \"k/(k_worst-k_orig)\": 0.23693010628083302}, {\"Method\": \"Hillside(Colley Params)\", \"Year\": \"2014\", \"k\": 7647.0, \"k_orig\": 31166.0, \"sum_c\": 17670.0, \"k_worst\": 61369.0, \"top_n\": 27, \"k/k_orig\": 0.24536353718796125, \"k/k_worst\": 0.1246068862129088, \"k/sum_c\": 0.43276740237691, \"k*k_orig/k_worst\": 3883.4982157115155, \"k/(k_worst-k_orig)\": 0.253186769526206}, {\"Method\": \"Hillside(Colley Params)\", \"Year\": \"2014\", \"k\": 8161.0, \"k_orig\": 31166.0, \"sum_c\": 18893.0, \"k_worst\": 61369.0, \"top_n\": 28, \"k/k_orig\": 0.26185586857472887, \"k/k_worst\": 0.13298245042285192, \"k/sum_c\": 0.4319589265865664, \"k*k_orig/k_worst\": 4144.531049878603, \"k/(k_worst-k_orig)\": 0.27020494652849053}, {\"Method\": \"Hillside(Colley Params)\", \"Year\": \"2014\", \"k\": 8710.0, \"k_orig\": 31166.0, \"sum_c\": 20469.0, \"k_worst\": 61369.0, \"top_n\": 29, \"k/k_orig\": 0.27947121863569274, \"k/k_worst\": 0.14192833515292738, \"k/sum_c\": 0.4255215203478431, \"k*k_orig/k_worst\": 4423.3384933761345, \"k/(k_worst-k_orig)\": 0.2883819488130318}, {\"Method\": \"Hillside(Massey Params)\", \"Year\": \"2014\", \"k\": 22.0, \"k_orig\": 31166.0, \"sum_c\": 51.0, \"k_worst\": 61369.0, \"top_n\": 2, \"k/k_orig\": 0.000705897452351922, \"k/k_worst\": 0.000358487184083169, \"k/sum_c\": 0.43137254901960786, \"k*k_orig/k_worst\": 11.172611579136046, \"k/(k_worst-k_orig)\": 0.0007284044631328014}, {\"Method\": \"Hillside(Massey Params)\", \"Year\": \"2014\", \"k\": 79.0, \"k_orig\": 31166.0, \"sum_c\": 172.0, \"k_worst\": 61369.0, \"top_n\": 3, \"k/k_orig\": 0.0025348135789000836, \"k/k_worst\": 0.0012872948882986523, \"k/sum_c\": 0.45930232558139533, \"k*k_orig/k_worst\": 40.1198324887158, \"k/(k_worst-k_orig)\": 0.002615634208522332}, {\"Method\": \"Hillside(Massey Params)\", \"Year\": \"2014\", \"k\": 127.0, \"k_orig\": 31166.0, \"sum_c\": 290.0, \"k_worst\": 61369.0, \"top_n\": 4, \"k/k_orig\": 0.004074953474940641, \"k/k_worst\": 0.0020694487444801123, \"k/sum_c\": 0.4379310344827586, \"k*k_orig/k_worst\": 64.49643957046717, \"k/(k_worst-k_orig)\": 0.00420488030990299}, {\"Method\": \"Hillside(Massey Params)\", \"Year\": \"2014\", \"k\": 204.0, \"k_orig\": 31166.0, \"sum_c\": 466.0, \"k_worst\": 61369.0, \"top_n\": 5, \"k/k_orig\": 0.006545594558172367, \"k/k_worst\": 0.0033241538887712036, \"k/sum_c\": 0.43776824034334766, \"k*k_orig/k_worst\": 103.60058009744334, \"k/(k_worst-k_orig)\": 0.006754295930867795}, {\"Method\": \"Hillside(Massey Params)\", \"Year\": \"2014\", \"k\": 282.0, \"k_orig\": 31166.0, \"sum_c\": 632.0, \"k_worst\": 61369.0, \"top_n\": 6, \"k/k_orig\": 0.009048321889238273, \"k/k_worst\": 0.004595153905066075, \"k/sum_c\": 0.4462025316455696, \"k*k_orig/k_worst\": 143.2125666052893, \"k/(k_worst-k_orig)\": 0.009336820845611363}, {\"Method\": \"Hillside(Massey Params)\", \"Year\": \"2014\", \"k\": 420.0, \"k_orig\": 31166.0, \"sum_c\": 934.0, \"k_worst\": 61369.0, \"top_n\": 7, \"k/k_orig\": 0.013476224090354873, \"k/k_worst\": 0.006843846241587772, \"k/sum_c\": 0.44967880085653106, \"k*k_orig/k_worst\": 213.29531196532452, \"k/(k_worst-k_orig)\": 0.013905903387080754}, {\"Method\": \"Hillside(Massey Params)\", \"Year\": \"2014\", \"k\": 612.0, \"k_orig\": 31166.0, \"sum_c\": 1343.0, \"k_worst\": 61369.0, \"top_n\": 8, \"k/k_orig\": 0.019636783674517103, \"k/k_worst\": 0.00997246166631361, \"k/sum_c\": 0.45569620253164556, \"k*k_orig/k_worst\": 310.80174029233, \"k/(k_worst-k_orig)\": 0.020262887792603382}, {\"Method\": \"Hillside(Massey Params)\", \"Year\": \"2014\", \"k\": 807.0, \"k_orig\": 31166.0, \"sum_c\": 1755.0, \"k_worst\": 61369.0, \"top_n\": 9, \"k/k_orig\": 0.025893602002181864, \"k/k_worst\": 0.013149961707050791, \"k/sum_c\": 0.4598290598290598, \"k*k_orig/k_worst\": 409.83170656194494, \"k/(k_worst-k_orig)\": 0.026719200079462307}, {\"Method\": \"Hillside(Massey Params)\", \"Year\": \"2014\", \"k\": 958.0, \"k_orig\": 31166.0, \"sum_c\": 2137.0, \"k_worst\": 61369.0, \"top_n\": 10, \"k/k_orig\": 0.030738625425142784, \"k/k_worst\": 0.015610487379621634, \"k/sum_c\": 0.44829199812821713, \"k*k_orig/k_worst\": 486.5164496732878, \"k/(k_worst-k_orig)\": 0.031718703440055625}, {\"Method\": \"Hillside(Massey Params)\", \"Year\": \"2014\", \"k\": 1170.0, \"k_orig\": 31166.0, \"sum_c\": 2629.0, \"k_worst\": 61369.0, \"top_n\": 11, \"k/k_orig\": 0.03754090996598858, \"k/k_worst\": 0.01906500024442308, \"k/sum_c\": 0.4450361354127044, \"k*k_orig/k_worst\": 594.1797976176897, \"k/(k_worst-k_orig)\": 0.038737873721153525}, {\"Method\": \"Hillside(Massey Params)\", \"Year\": \"2014\", \"k\": 1404.0, \"k_orig\": 31166.0, \"sum_c\": 3195.0, \"k_worst\": 61369.0, \"top_n\": 12, \"k/k_orig\": 0.04504909195918629, \"k/k_worst\": 0.022878000293307697, \"k/sum_c\": 0.4394366197183099, \"k*k_orig/k_worst\": 713.0157571412277, \"k/(k_worst-k_orig)\": 0.04648544846538424}, {\"Method\": \"Hillside(Massey Params)\", \"Year\": \"2014\", \"k\": 1687.0, \"k_orig\": 31166.0, \"sum_c\": 3839.0, \"k_worst\": 61369.0, \"top_n\": 13, \"k/k_orig\": 0.05412950009625874, \"k/k_worst\": 0.027489449070377554, \"k/sum_c\": 0.4394373534774681, \"k*k_orig/k_worst\": 856.7361697273868, \"k/(k_worst-k_orig)\": 0.05585537860477436}, {\"Method\": \"Hillside(Massey Params)\", \"Year\": \"2014\", \"k\": 1939.0, \"k_orig\": 31166.0, \"sum_c\": 4441.0, \"k_worst\": 61369.0, \"top_n\": 14, \"k/k_orig\": 0.06221523455047167, \"k/k_worst\": 0.031595756815330216, \"k/sum_c\": 0.43661337536590855, \"k*k_orig/k_worst\": 984.7133569065815, \"k/(k_worst-k_orig)\": 0.06419892063702282}, {\"Method\": \"Hillside(Massey Params)\", \"Year\": \"2014\", \"k\": 2238.0, \"k_orig\": 31166.0, \"sum_c\": 5147.0, \"k_worst\": 61369.0, \"top_n\": 15, \"k/k_orig\": 0.07180902265289098, \"k/k_worst\": 0.03646792354446056, \"k/sum_c\": 0.4348163979016903, \"k*k_orig/k_worst\": 1136.5593051866579, \"k/(k_worst-k_orig)\": 0.07409859947687315}, {\"Method\": \"Hillside(Massey Params)\", \"Year\": \"2014\", \"k\": 2514.0, \"k_orig\": 31166.0, \"sum_c\": 5807.0, \"k_worst\": 61369.0, \"top_n\": 16, \"k/k_orig\": 0.08066482705512418, \"k/k_worst\": 0.04096530821750395, \"k/sum_c\": 0.4329257792319614, \"k*k_orig/k_worst\": 1276.724795906728, \"k/(k_worst-k_orig)\": 0.08323676455981194}, {\"Method\": \"Hillside(Massey Params)\", \"Year\": \"2014\", \"k\": 2860.0, \"k_orig\": 31166.0, \"sum_c\": 6597.0, \"k_worst\": 61369.0, \"top_n\": 17, \"k/k_orig\": 0.09176666880574985, \"k/k_worst\": 0.04660333393081197, \"k/sum_c\": 0.4335303926026982, \"k*k_orig/k_worst\": 1452.439505287686, \"k/(k_worst-k_orig)\": 0.09469258020726418}, {\"Method\": \"Hillside(Massey Params)\", \"Year\": \"2014\", \"k\": 3258.0, \"k_orig\": 31166.0, \"sum_c\": 7531.0, \"k_worst\": 61369.0, \"top_n\": 18, \"k/k_orig\": 0.1045369954437528, \"k/k_worst\": 0.053088692988316574, \"k/sum_c\": 0.432611870933475, \"k*k_orig/k_worst\": 1654.5622056738744, \"k/(k_worst-k_orig)\": 0.10787007913121213}, {\"Method\": \"Hillside(Massey Params)\", \"Year\": \"2014\", \"k\": 3657.0, \"k_orig\": 31166.0, \"sum_c\": 8457.0, \"k_worst\": 61369.0, \"top_n\": 19, \"k/k_orig\": 0.11733940832958993, \"k/k_worst\": 0.05959034691782496, \"k/sum_c\": 0.43242284498048955, \"k*k_orig/k_worst\": 1857.1927520409326, \"k/(k_worst-k_orig)\": 0.12108068734893884}, {\"Method\": \"Hillside(Massey Params)\", \"Year\": \"2014\", \"k\": 4016.0, \"k_orig\": 31166.0, \"sum_c\": 9307.0, \"k_worst\": 61369.0, \"top_n\": 20, \"k/k_orig\": 0.12885837130205993, \"k/k_worst\": 0.06544020596718213, \"k/sum_c\": 0.4315031696572472, \"k*k_orig/k_worst\": 2039.5094591731981, \"k/(k_worst-k_orig)\": 0.132966923815515}, {\"Method\": \"Hillside(Massey Params)\", \"Year\": \"2014\", \"k\": 4498.0, \"k_orig\": 31166.0, \"sum_c\": 10418.0, \"k_worst\": 61369.0, \"top_n\": 21, \"k/k_orig\": 0.14432394275813387, \"k/k_worst\": 0.07329433427300429, \"k/sum_c\": 0.4317527356498368, \"k*k_orig/k_worst\": 2284.2912219524515, \"k/(k_worst-k_orig)\": 0.1489256034168791}, {\"Method\": \"Hillside(Massey Params)\", \"Year\": \"2014\", \"k\": 4941.0, \"k_orig\": 31166.0, \"sum_c\": 11478.0, \"k_worst\": 61369.0, \"top_n\": 22, \"k/k_orig\": 0.15853815054867484, \"k/k_worst\": 0.08051296257067901, \"k/sum_c\": 0.43047569262937796, \"k*k_orig/k_worst\": 2509.266991477782, \"k/(k_worst-k_orig)\": 0.16359302056087144}, {\"Method\": \"Hillside(Massey Params)\", \"Year\": \"2014\", \"k\": 5444.0, \"k_orig\": 31166.0, \"sum_c\": 12576.0, \"k_worst\": 61369.0, \"top_n\": 23, \"k/k_orig\": 0.17467753320926652, \"k/k_worst\": 0.08870928318858055, \"k/sum_c\": 0.43288804071246817, \"k*k_orig/k_worst\": 2764.7135198553015, \"k/(k_worst-k_orig)\": 0.18024699533158958}, {\"Method\": \"Hillside(Massey Params)\", \"Year\": \"2014\", \"k\": 6004.0, \"k_orig\": 31166.0, \"sum_c\": 13834.0, \"k_worst\": 61369.0, \"top_n\": 24, \"k/k_orig\": 0.19264583199640634, \"k/k_worst\": 0.09783441151069758, \"k/sum_c\": 0.4340031805696111, \"k*k_orig/k_worst\": 3049.107269142401, \"k/(k_worst-k_orig)\": 0.19878819984769724}, {\"Method\": \"Hillside(Massey Params)\", \"Year\": \"2014\", \"k\": 6592.0, \"k_orig\": 31166.0, \"sum_c\": 15216.0, \"k_worst\": 61369.0, \"top_n\": 25, \"k/k_orig\": 0.21151254572290315, \"k/k_worst\": 0.10741579624892046, \"k/sum_c\": 0.4332281808622503, \"k*k_orig/k_worst\": 3347.720705893855, \"k/(k_worst-k_orig)\": 0.21825646458961032}, {\"Method\": \"Hillside(Massey Params)\", \"Year\": \"2014\", \"k\": 7156.0, \"k_orig\": 31166.0, \"sum_c\": 16494.0, \"k_worst\": 61369.0, \"top_n\": 26, \"k/k_orig\": 0.2296091895013797, \"k/k_worst\": 0.11660610405905261, \"k/sum_c\": 0.4338547350551716, \"k*k_orig/k_worst\": 3634.145839104434, \"k/(k_worst-k_orig)\": 0.23693010628083302}, {\"Method\": \"Hillside(Massey Params)\", \"Year\": \"2014\", \"k\": 7647.0, \"k_orig\": 31166.0, \"sum_c\": 17670.0, \"k_worst\": 61369.0, \"top_n\": 27, \"k/k_orig\": 0.24536353718796125, \"k/k_worst\": 0.1246068862129088, \"k/sum_c\": 0.43276740237691, \"k*k_orig/k_worst\": 3883.4982157115155, \"k/(k_worst-k_orig)\": 0.253186769526206}, {\"Method\": \"Hillside(Massey Params)\", \"Year\": \"2014\", \"k\": 8161.0, \"k_orig\": 31166.0, \"sum_c\": 18893.0, \"k_worst\": 61369.0, \"top_n\": 28, \"k/k_orig\": 0.26185586857472887, \"k/k_worst\": 0.13298245042285192, \"k/sum_c\": 0.4319589265865664, \"k*k_orig/k_worst\": 4144.531049878603, \"k/(k_worst-k_orig)\": 0.27020494652849053}, {\"Method\": \"Hillside(Massey Params)\", \"Year\": \"2014\", \"k\": 8710.0, \"k_orig\": 31166.0, \"sum_c\": 20469.0, \"k_worst\": 61369.0, \"top_n\": 29, \"k/k_orig\": 0.27947121863569274, \"k/k_worst\": 0.14192833515292738, \"k/sum_c\": 0.4255215203478431, \"k*k_orig/k_worst\": 4423.3384933761345, \"k/(k_worst-k_orig)\": 0.2883819488130318}, {\"Method\": \"Hillside(Colley Params)\", \"Year\": \"2015\", \"k\": 17.0, \"k_orig\": 28438.0, \"sum_c\": 48.0, \"k_worst\": 57410.0, \"top_n\": 2, \"k/k_orig\": 0.0005977916871791265, \"k/k_worst\": 0.0002961156592928061, \"k/sum_c\": 0.3541666666666667, \"k*k_orig/k_worst\": 8.420937118968821, \"k/(k_worst-k_orig)\": 0.0005867734364213723}, {\"Method\": \"Hillside(Colley Params)\", \"Year\": \"2015\", \"k\": 50.0, \"k_orig\": 28438.0, \"sum_c\": 133.0, \"k_worst\": 57410.0, \"top_n\": 3, \"k/k_orig\": 0.0017582108446444898, \"k/k_worst\": 0.000870928409684724, \"k/sum_c\": 0.37593984962406013, \"k*k_orig/k_worst\": 24.76746211461418, \"k/(k_worst-k_orig)\": 0.0017258042247687423}, {\"Method\": \"Hillside(Colley Params)\", \"Year\": \"2015\", \"k\": 110.0, \"k_orig\": 28438.0, \"sum_c\": 275.0, \"k_worst\": 57410.0, \"top_n\": 4, \"k/k_orig\": 0.0038680638582178776, \"k/k_worst\": 0.0019160425013063926, \"k/sum_c\": 0.4, \"k*k_orig/k_worst\": 54.488416652151194, \"k/(k_worst-k_orig)\": 0.003796769294491233}, {\"Method\": \"Hillside(Colley Params)\", \"Year\": \"2015\", \"k\": 178.0, \"k_orig\": 28438.0, \"sum_c\": 433.0, \"k_worst\": 57410.0, \"top_n\": 5, \"k/k_orig\": 0.006259230606934384, \"k/k_worst\": 0.0031005051384776173, \"k/sum_c\": 0.4110854503464203, \"k*k_orig/k_worst\": 88.17216512802648, \"k/(k_worst-k_orig)\": 0.0061438630401767225}, {\"Method\": \"Hillside(Colley Params)\", \"Year\": \"2015\", \"k\": 237.0, \"k_orig\": 28438.0, \"sum_c\": 590.0, \"k_worst\": 57410.0, \"top_n\": 6, \"k/k_orig\": 0.008333919403614881, \"k/k_worst\": 0.004128200661905591, \"k/sum_c\": 0.4016949152542373, \"k*k_orig/k_worst\": 117.39777042327121, \"k/(k_worst-k_orig)\": 0.008180312025403837}, {\"Method\": \"Hillside(Colley Params)\", \"Year\": \"2015\", \"k\": 338.0, \"k_orig\": 28438.0, \"sum_c\": 828.0, \"k_worst\": 57410.0, \"top_n\": 7, \"k/k_orig\": 0.01188550530979675, \"k/k_worst\": 0.005887476049468734, \"k/sum_c\": 0.4082125603864734, \"k*k_orig/k_worst\": 167.42804389479184, \"k/(k_worst-k_orig)\": 0.011666436559436697}, {\"Method\": \"Hillside(Colley Params)\", \"Year\": \"2015\", \"k\": 457.0, \"k_orig\": 28438.0, \"sum_c\": 1136.0, \"k_worst\": 57410.0, \"top_n\": 8, \"k/k_orig\": 0.016070047120050637, \"k/k_worst\": 0.007960285664518377, \"k/sum_c\": 0.4022887323943662, \"k*k_orig/k_worst\": 226.3746037275736, \"k/(k_worst-k_orig)\": 0.015773850614386305}, {\"Method\": \"Hillside(Colley Params)\", \"Year\": \"2015\", \"k\": 634.0, \"k_orig\": 28438.0, \"sum_c\": 1554.0, \"k_worst\": 57410.0, \"top_n\": 9, \"k/k_orig\": 0.02229411351009213, \"k/k_worst\": 0.0110433722348023, \"k/sum_c\": 0.40797940797940796, \"k*k_orig/k_worst\": 314.0514196133078, \"k/(k_worst-k_orig)\": 0.021883197570067653}, {\"Method\": \"Hillside(Colley Params)\", \"Year\": \"2015\", \"k\": 780.0, \"k_orig\": 28438.0, \"sum_c\": 1968.0, \"k_worst\": 57410.0, \"top_n\": 10, \"k/k_orig\": 0.02742808917645404, \"k/k_worst\": 0.013586483191081694, \"k/sum_c\": 0.39634146341463417, \"k*k_orig/k_worst\": 386.3724089879812, \"k/(k_worst-k_orig)\": 0.02692254590639238}, {\"Method\": \"Hillside(Colley Params)\", \"Year\": \"2015\", \"k\": 940.0, \"k_orig\": 28438.0, \"sum_c\": 2386.0, \"k_worst\": 57410.0, \"top_n\": 11, \"k/k_orig\": 0.03305436387931641, \"k/k_worst\": 0.01637345410207281, \"k/sum_c\": 0.393964794635373, \"k*k_orig/k_worst\": 465.62828775474657, \"k/(k_worst-k_orig)\": 0.032445119425652355}, {\"Method\": \"Hillside(Colley Params)\", \"Year\": \"2015\", \"k\": 1113.0, \"k_orig\": 28438.0, \"sum_c\": 2823.0, \"k_worst\": 57410.0, \"top_n\": 12, \"k/k_orig\": 0.03913777340178634, \"k/k_worst\": 0.019386866399581953, \"k/sum_c\": 0.3942614240170032, \"k*k_orig/k_worst\": 551.3237066713116, \"k/(k_worst-k_orig)\": 0.0384164020433522}, {\"Method\": \"Hillside(Colley Params)\", \"Year\": \"2015\", \"k\": 1270.0, \"k_orig\": 28438.0, \"sum_c\": 3233.0, \"k_worst\": 57410.0, \"top_n\": 13, \"k/k_orig\": 0.04465855545397004, \"k/k_worst\": 0.022121581605991987, \"k/sum_c\": 0.3928240024744819, \"k*k_orig/k_worst\": 629.0935377112002, \"k/(k_worst-k_orig)\": 0.043835427309126054}, {\"Method\": \"Hillside(Colley Params)\", \"Year\": \"2015\", \"k\": 1474.0, \"k_orig\": 28438.0, \"sum_c\": 3772.0, \"k_worst\": 57410.0, \"top_n\": 14, \"k/k_orig\": 0.05183205570011956, \"k/k_worst\": 0.025674969517505662, \"k/sum_c\": 0.39077412513255566, \"k*k_orig/k_worst\": 730.144783138826, \"k/(k_worst-k_orig)\": 0.05087670854618252}, {\"Method\": \"Hillside(Colley Params)\", \"Year\": \"2015\", \"k\": 1767.0, \"k_orig\": 28438.0, \"sum_c\": 4453.0, \"k_worst\": 57410.0, \"top_n\": 15, \"k/k_orig\": 0.06213517124973627, \"k/k_worst\": 0.030778609998258145, \"k/sum_c\": 0.3968111385582753, \"k*k_orig/k_worst\": 875.2821111304651, \"k/(k_worst-k_orig)\": 0.06098992130332735}, {\"Method\": \"Hillside(Colley Params)\", \"Year\": \"2015\", \"k\": 2007.0, \"k_orig\": 28438.0, \"sum_c\": 5064.0, \"k_worst\": 57410.0, \"top_n\": 16, \"k/k_orig\": 0.07057458330402983, \"k/k_worst\": 0.034959066364744815, \"k/sum_c\": 0.3963270142180095, \"k*k_orig/k_worst\": 994.1659292806131, \"k/(k_worst-k_orig)\": 0.06927378158221731}, {\"Method\": \"Hillside(Colley Params)\", \"Year\": \"2015\", \"k\": 2252.0, \"k_orig\": 28438.0, \"sum_c\": 5741.0, \"k_worst\": 57410.0, \"top_n\": 17, \"k/k_orig\": 0.07918981644278782, \"k/k_worst\": 0.03922661557219997, \"k/sum_c\": 0.39226615572199963, \"k*k_orig/k_worst\": 1115.5264936422227, \"k/(k_worst-k_orig)\": 0.07773022228358414}, {\"Method\": \"Hillside(Colley Params)\", \"Year\": \"2015\", \"k\": 2512.0, \"k_orig\": 28438.0, \"sum_c\": 6448.0, \"k_worst\": 57410.0, \"top_n\": 18, \"k/k_orig\": 0.08833251283493916, \"k/k_worst\": 0.04375544330256053, \"k/sum_c\": 0.38957816377171217, \"k*k_orig/k_worst\": 1244.3172966382162, \"k/(k_worst-k_orig)\": 0.08670440425238161}, {\"Method\": \"Hillside(Colley Params)\", \"Year\": \"2015\", \"k\": 2855.0, \"k_orig\": 28438.0, \"sum_c\": 7352.0, \"k_worst\": 57410.0, \"top_n\": 19, \"k/k_orig\": 0.10039383922920037, \"k/k_worst\": 0.04973001219299773, \"k/sum_c\": 0.38832970620239393, \"k*k_orig/k_worst\": 1414.2220867444696, \"k/(k_worst-k_orig)\": 0.09854342123429519}, {\"Method\": \"Hillside(Colley Params)\", \"Year\": \"2015\", \"k\": 3203.0, \"k_orig\": 28438.0, \"sum_c\": 8231.0, \"k_worst\": 57410.0, \"top_n\": 20, \"k/k_orig\": 0.11263098670792601, \"k/k_worst\": 0.055791673924403415, \"k/sum_c\": 0.3891386222816183, \"k*k_orig/k_worst\": 1586.6036230621844, \"k/(k_worst-k_orig)\": 0.11055501863868562}, {\"Method\": \"Hillside(Colley Params)\", \"Year\": \"2015\", \"k\": 3564.0, \"k_orig\": 28438.0, \"sum_c\": 9139.0, \"k_worst\": 57410.0, \"top_n\": 21, \"k/k_orig\": 0.12532526900625923, \"k/k_worst\": 0.062079777042327124, \"k/sum_c\": 0.3899770215559689, \"k*k_orig/k_worst\": 1765.4246995296987, \"k/(k_worst-k_orig)\": 0.12301532514151595}, {\"Method\": \"Hillside(Colley Params)\", \"Year\": \"2015\", \"k\": 3926.0, \"k_orig\": 28438.0, \"sum_c\": 10070.0, \"k_worst\": 57410.0, \"top_n\": 22, \"k/k_orig\": 0.13805471552148535, \"k/k_worst\": 0.06838529872844452, \"k/sum_c\": 0.38987090367428007, \"k*k_orig/k_worst\": 1944.7411252395052, \"k/(k_worst-k_orig)\": 0.13551014772884165}, {\"Method\": \"Hillside(Colley Params)\", \"Year\": \"2015\", \"k\": 4339.0, \"k_orig\": 28438.0, \"sum_c\": 11164.0, \"k_worst\": 57410.0, \"top_n\": 23, \"k/k_orig\": 0.1525775370982488, \"k/k_worst\": 0.07557916739244035, \"k/sum_c\": 0.3886599785023289, \"k*k_orig/k_worst\": 2149.3203623062186, \"k/(k_worst-k_orig)\": 0.14976529062543145}, {\"Method\": \"Hillside(Colley Params)\", \"Year\": \"2015\", \"k\": 4642.0, \"k_orig\": 28438.0, \"sum_c\": 11897.0, \"k_worst\": 57410.0, \"top_n\": 24, \"k/k_orig\": 0.16323229481679444, \"k/k_worst\": 0.08085699355512976, \"k/sum_c\": 0.3901823989240985, \"k*k_orig/k_worst\": 2299.4111827207803, \"k/(k_worst-k_orig)\": 0.16022366422753004}, {\"Method\": \"Hillside(Colley Params)\", \"Year\": \"2015\", \"k\": 5070.0, \"k_orig\": 28438.0, \"sum_c\": 12975.0, \"k_worst\": 57410.0, \"top_n\": 25, \"k/k_orig\": 0.17828257964695127, \"k/k_worst\": 0.088312140742031, \"k/sum_c\": 0.39075144508670523, \"k*k_orig/k_worst\": 2511.4206584218778, \"k/(k_worst-k_orig)\": 0.17499654839155046}, {\"Method\": \"Hillside(Colley Params)\", \"Year\": \"2015\", \"k\": 5583.0, \"k_orig\": 28438.0, \"sum_c\": 14267.0, \"k_worst\": 57410.0, \"top_n\": 26, \"k/k_orig\": 0.19632182291300374, \"k/k_worst\": 0.09724786622539627, \"k/sum_c\": 0.3913226326487699, \"k*k_orig/k_worst\": 2765.534819717819, \"k/(k_worst-k_orig)\": 0.19270329973767775}, {\"Method\": \"Hillside(Colley Params)\", \"Year\": \"2015\", \"k\": 6051.0, \"k_orig\": 28438.0, \"sum_c\": 15388.0, \"k_worst\": 57410.0, \"top_n\": 27, \"k/k_orig\": 0.21277867641887616, \"k/k_worst\": 0.10539975614004529, \"k/sum_c\": 0.3932284897322589, \"k*k_orig/k_worst\": 2997.358265110608, \"k/(k_worst-k_orig)\": 0.2088568272815132}, {\"Method\": \"Hillside(Colley Params)\", \"Year\": \"2015\", \"k\": 6408.0, \"k_orig\": 28438.0, \"sum_c\": 16308.0, \"k_worst\": 57410.0, \"top_n\": 28, \"k/k_orig\": 0.22533230184963782, \"k/k_worst\": 0.11161818498519421, \"k/sum_c\": 0.39293598233995586, \"k*k_orig/k_worst\": 3174.197944608953, \"k/(k_worst-k_orig)\": 0.221179069446362}, {\"Method\": \"Hillside(Colley Params)\", \"Year\": \"2015\", \"k\": 6813.0, \"k_orig\": 28438.0, \"sum_c\": 17338.0, \"k_worst\": 57410.0, \"top_n\": 29, \"k/k_orig\": 0.2395738096912582, \"k/k_worst\": 0.11867270510364047, \"k/sum_c\": 0.39295189756603993, \"k*k_orig/k_worst\": 3374.814387737328, \"k/(k_worst-k_orig)\": 0.23515808366698882}, {\"Method\": \"Hillside(Massey Params)\", \"Year\": \"2015\", \"k\": 17.0, \"k_orig\": 28438.0, \"sum_c\": 48.0, \"k_worst\": 57410.0, \"top_n\": 2, \"k/k_orig\": 0.0005977916871791265, \"k/k_worst\": 0.0002961156592928061, \"k/sum_c\": 0.3541666666666667, \"k*k_orig/k_worst\": 8.420937118968821, \"k/(k_worst-k_orig)\": 0.0005867734364213723}, {\"Method\": \"Hillside(Massey Params)\", \"Year\": \"2015\", \"k\": 50.0, \"k_orig\": 28438.0, \"sum_c\": 133.0, \"k_worst\": 57410.0, \"top_n\": 3, \"k/k_orig\": 0.0017582108446444898, \"k/k_worst\": 0.000870928409684724, \"k/sum_c\": 0.37593984962406013, \"k*k_orig/k_worst\": 24.76746211461418, \"k/(k_worst-k_orig)\": 0.0017258042247687423}, {\"Method\": \"Hillside(Massey Params)\", \"Year\": \"2015\", \"k\": 110.0, \"k_orig\": 28438.0, \"sum_c\": 275.0, \"k_worst\": 57410.0, \"top_n\": 4, \"k/k_orig\": 0.0038680638582178776, \"k/k_worst\": 0.0019160425013063926, \"k/sum_c\": 0.4, \"k*k_orig/k_worst\": 54.488416652151194, \"k/(k_worst-k_orig)\": 0.003796769294491233}, {\"Method\": \"Hillside(Massey Params)\", \"Year\": \"2015\", \"k\": 178.0, \"k_orig\": 28438.0, \"sum_c\": 433.0, \"k_worst\": 57410.0, \"top_n\": 5, \"k/k_orig\": 0.006259230606934384, \"k/k_worst\": 0.0031005051384776173, \"k/sum_c\": 0.4110854503464203, \"k*k_orig/k_worst\": 88.17216512802648, \"k/(k_worst-k_orig)\": 0.0061438630401767225}, {\"Method\": \"Hillside(Massey Params)\", \"Year\": \"2015\", \"k\": 237.0, \"k_orig\": 28438.0, \"sum_c\": 590.0, \"k_worst\": 57410.0, \"top_n\": 6, \"k/k_orig\": 0.008333919403614881, \"k/k_worst\": 0.004128200661905591, \"k/sum_c\": 0.4016949152542373, \"k*k_orig/k_worst\": 117.39777042327121, \"k/(k_worst-k_orig)\": 0.008180312025403837}, {\"Method\": \"Hillside(Massey Params)\", \"Year\": \"2015\", \"k\": 338.0, \"k_orig\": 28438.0, \"sum_c\": 828.0, \"k_worst\": 57410.0, \"top_n\": 7, \"k/k_orig\": 0.01188550530979675, \"k/k_worst\": 0.005887476049468734, \"k/sum_c\": 0.4082125603864734, \"k*k_orig/k_worst\": 167.42804389479184, \"k/(k_worst-k_orig)\": 0.011666436559436697}, {\"Method\": \"Hillside(Massey Params)\", \"Year\": \"2015\", \"k\": 457.0, \"k_orig\": 28438.0, \"sum_c\": 1136.0, \"k_worst\": 57410.0, \"top_n\": 8, \"k/k_orig\": 0.016070047120050637, \"k/k_worst\": 0.007960285664518377, \"k/sum_c\": 0.4022887323943662, \"k*k_orig/k_worst\": 226.3746037275736, \"k/(k_worst-k_orig)\": 0.015773850614386305}, {\"Method\": \"Hillside(Massey Params)\", \"Year\": \"2015\", \"k\": 634.0, \"k_orig\": 28438.0, \"sum_c\": 1554.0, \"k_worst\": 57410.0, \"top_n\": 9, \"k/k_orig\": 0.02229411351009213, \"k/k_worst\": 0.0110433722348023, \"k/sum_c\": 0.40797940797940796, \"k*k_orig/k_worst\": 314.0514196133078, \"k/(k_worst-k_orig)\": 0.021883197570067653}, {\"Method\": \"Hillside(Massey Params)\", \"Year\": \"2015\", \"k\": 780.0, \"k_orig\": 28438.0, \"sum_c\": 1968.0, \"k_worst\": 57410.0, \"top_n\": 10, \"k/k_orig\": 0.02742808917645404, \"k/k_worst\": 0.013586483191081694, \"k/sum_c\": 0.39634146341463417, \"k*k_orig/k_worst\": 386.3724089879812, \"k/(k_worst-k_orig)\": 0.02692254590639238}, {\"Method\": \"Hillside(Massey Params)\", \"Year\": \"2015\", \"k\": 940.0, \"k_orig\": 28438.0, \"sum_c\": 2386.0, \"k_worst\": 57410.0, \"top_n\": 11, \"k/k_orig\": 0.03305436387931641, \"k/k_worst\": 0.01637345410207281, \"k/sum_c\": 0.393964794635373, \"k*k_orig/k_worst\": 465.62828775474657, \"k/(k_worst-k_orig)\": 0.032445119425652355}, {\"Method\": \"Hillside(Massey Params)\", \"Year\": \"2015\", \"k\": 1113.0, \"k_orig\": 28438.0, \"sum_c\": 2823.0, \"k_worst\": 57410.0, \"top_n\": 12, \"k/k_orig\": 0.03913777340178634, \"k/k_worst\": 0.019386866399581953, \"k/sum_c\": 0.3942614240170032, \"k*k_orig/k_worst\": 551.3237066713116, \"k/(k_worst-k_orig)\": 0.0384164020433522}, {\"Method\": \"Hillside(Massey Params)\", \"Year\": \"2015\", \"k\": 1270.0, \"k_orig\": 28438.0, \"sum_c\": 3233.0, \"k_worst\": 57410.0, \"top_n\": 13, \"k/k_orig\": 0.04465855545397004, \"k/k_worst\": 0.022121581605991987, \"k/sum_c\": 0.3928240024744819, \"k*k_orig/k_worst\": 629.0935377112002, \"k/(k_worst-k_orig)\": 0.043835427309126054}, {\"Method\": \"Hillside(Massey Params)\", \"Year\": \"2015\", \"k\": 1474.0, \"k_orig\": 28438.0, \"sum_c\": 3772.0, \"k_worst\": 57410.0, \"top_n\": 14, \"k/k_orig\": 0.05183205570011956, \"k/k_worst\": 0.025674969517505662, \"k/sum_c\": 0.39077412513255566, \"k*k_orig/k_worst\": 730.144783138826, \"k/(k_worst-k_orig)\": 0.05087670854618252}, {\"Method\": \"Hillside(Massey Params)\", \"Year\": \"2015\", \"k\": 1767.0, \"k_orig\": 28438.0, \"sum_c\": 4453.0, \"k_worst\": 57410.0, \"top_n\": 15, \"k/k_orig\": 0.06213517124973627, \"k/k_worst\": 0.030778609998258145, \"k/sum_c\": 0.3968111385582753, \"k*k_orig/k_worst\": 875.2821111304651, \"k/(k_worst-k_orig)\": 0.06098992130332735}, {\"Method\": \"Hillside(Massey Params)\", \"Year\": \"2015\", \"k\": 2007.0, \"k_orig\": 28438.0, \"sum_c\": 5064.0, \"k_worst\": 57410.0, \"top_n\": 16, \"k/k_orig\": 0.07057458330402983, \"k/k_worst\": 0.034959066364744815, \"k/sum_c\": 0.3963270142180095, \"k*k_orig/k_worst\": 994.1659292806131, \"k/(k_worst-k_orig)\": 0.06927378158221731}, {\"Method\": \"Hillside(Massey Params)\", \"Year\": \"2015\", \"k\": 2252.0, \"k_orig\": 28438.0, \"sum_c\": 5741.0, \"k_worst\": 57410.0, \"top_n\": 17, \"k/k_orig\": 0.07918981644278782, \"k/k_worst\": 0.03922661557219997, \"k/sum_c\": 0.39226615572199963, \"k*k_orig/k_worst\": 1115.5264936422227, \"k/(k_worst-k_orig)\": 0.07773022228358414}, {\"Method\": \"Hillside(Massey Params)\", \"Year\": \"2015\", \"k\": 2512.0, \"k_orig\": 28438.0, \"sum_c\": 6448.0, \"k_worst\": 57410.0, \"top_n\": 18, \"k/k_orig\": 0.08833251283493916, \"k/k_worst\": 0.04375544330256053, \"k/sum_c\": 0.38957816377171217, \"k*k_orig/k_worst\": 1244.3172966382162, \"k/(k_worst-k_orig)\": 0.08670440425238161}, {\"Method\": \"Hillside(Massey Params)\", \"Year\": \"2015\", \"k\": 2855.0, \"k_orig\": 28438.0, \"sum_c\": 7352.0, \"k_worst\": 57410.0, \"top_n\": 19, \"k/k_orig\": 0.10039383922920037, \"k/k_worst\": 0.04973001219299773, \"k/sum_c\": 0.38832970620239393, \"k*k_orig/k_worst\": 1414.2220867444696, \"k/(k_worst-k_orig)\": 0.09854342123429519}, {\"Method\": \"Hillside(Massey Params)\", \"Year\": \"2015\", \"k\": 3203.0, \"k_orig\": 28438.0, \"sum_c\": 8231.0, \"k_worst\": 57410.0, \"top_n\": 20, \"k/k_orig\": 0.11263098670792601, \"k/k_worst\": 0.055791673924403415, \"k/sum_c\": 0.3891386222816183, \"k*k_orig/k_worst\": 1586.6036230621844, \"k/(k_worst-k_orig)\": 0.11055501863868562}, {\"Method\": \"Hillside(Massey Params)\", \"Year\": \"2015\", \"k\": 3564.0, \"k_orig\": 28438.0, \"sum_c\": 9139.0, \"k_worst\": 57410.0, \"top_n\": 21, \"k/k_orig\": 0.12532526900625923, \"k/k_worst\": 0.062079777042327124, \"k/sum_c\": 0.3899770215559689, \"k*k_orig/k_worst\": 1765.4246995296987, \"k/(k_worst-k_orig)\": 0.12301532514151595}, {\"Method\": \"Hillside(Massey Params)\", \"Year\": \"2015\", \"k\": 3926.0, \"k_orig\": 28438.0, \"sum_c\": 10070.0, \"k_worst\": 57410.0, \"top_n\": 22, \"k/k_orig\": 0.13805471552148535, \"k/k_worst\": 0.06838529872844452, \"k/sum_c\": 0.38987090367428007, \"k*k_orig/k_worst\": 1944.7411252395052, \"k/(k_worst-k_orig)\": 0.13551014772884165}, {\"Method\": \"Hillside(Massey Params)\", \"Year\": \"2015\", \"k\": 4339.0, \"k_orig\": 28438.0, \"sum_c\": 11164.0, \"k_worst\": 57410.0, \"top_n\": 23, \"k/k_orig\": 0.1525775370982488, \"k/k_worst\": 0.07557916739244035, \"k/sum_c\": 0.3886599785023289, \"k*k_orig/k_worst\": 2149.3203623062186, \"k/(k_worst-k_orig)\": 0.14976529062543145}, {\"Method\": \"Hillside(Massey Params)\", \"Year\": \"2015\", \"k\": 4642.0, \"k_orig\": 28438.0, \"sum_c\": 11897.0, \"k_worst\": 57410.0, \"top_n\": 24, \"k/k_orig\": 0.16323229481679444, \"k/k_worst\": 0.08085699355512976, \"k/sum_c\": 0.3901823989240985, \"k*k_orig/k_worst\": 2299.4111827207803, \"k/(k_worst-k_orig)\": 0.16022366422753004}, {\"Method\": \"Hillside(Massey Params)\", \"Year\": \"2015\", \"k\": 5070.0, \"k_orig\": 28438.0, \"sum_c\": 12975.0, \"k_worst\": 57410.0, \"top_n\": 25, \"k/k_orig\": 0.17828257964695127, \"k/k_worst\": 0.088312140742031, \"k/sum_c\": 0.39075144508670523, \"k*k_orig/k_worst\": 2511.4206584218778, \"k/(k_worst-k_orig)\": 0.17499654839155046}, {\"Method\": \"Hillside(Massey Params)\", \"Year\": \"2015\", \"k\": 5583.0, \"k_orig\": 28438.0, \"sum_c\": 14267.0, \"k_worst\": 57410.0, \"top_n\": 26, \"k/k_orig\": 0.19632182291300374, \"k/k_worst\": 0.09724786622539627, \"k/sum_c\": 0.3913226326487699, \"k*k_orig/k_worst\": 2765.534819717819, \"k/(k_worst-k_orig)\": 0.19270329973767775}, {\"Method\": \"Hillside(Massey Params)\", \"Year\": \"2015\", \"k\": 6051.0, \"k_orig\": 28438.0, \"sum_c\": 15388.0, \"k_worst\": 57410.0, \"top_n\": 27, \"k/k_orig\": 0.21277867641887616, \"k/k_worst\": 0.10539975614004529, \"k/sum_c\": 0.3932284897322589, \"k*k_orig/k_worst\": 2997.358265110608, \"k/(k_worst-k_orig)\": 0.2088568272815132}, {\"Method\": \"Hillside(Massey Params)\", \"Year\": \"2015\", \"k\": 6408.0, \"k_orig\": 28438.0, \"sum_c\": 16308.0, \"k_worst\": 57410.0, \"top_n\": 28, \"k/k_orig\": 0.22533230184963782, \"k/k_worst\": 0.11161818498519421, \"k/sum_c\": 0.39293598233995586, \"k*k_orig/k_worst\": 3174.197944608953, \"k/(k_worst-k_orig)\": 0.221179069446362}, {\"Method\": \"Hillside(Massey Params)\", \"Year\": \"2015\", \"k\": 6813.0, \"k_orig\": 28438.0, \"sum_c\": 17338.0, \"k_worst\": 57410.0, \"top_n\": 29, \"k/k_orig\": 0.2395738096912582, \"k/k_worst\": 0.11867270510364047, \"k/sum_c\": 0.39295189756603993, \"k*k_orig/k_worst\": 3374.814387737328, \"k/(k_worst-k_orig)\": 0.23515808366698882}, {\"Method\": \"Hillside(Colley Params)\", \"Year\": \"2016\", \"k\": 28.0, \"k_orig\": 33193.0, \"sum_c\": 61.0, \"k_worst\": 61369.0, \"top_n\": 2, \"k/k_orig\": 0.0008435513511885036, \"k/k_worst\": 0.0004562564161058515, \"k/sum_c\": 0.45901639344262296, \"k*k_orig/k_worst\": 15.144519219801529, \"k/(k_worst-k_orig)\": 0.0009937535491198182}, {\"Method\": \"Hillside(Colley Params)\", \"Year\": \"2016\", \"k\": 84.0, \"k_orig\": 33193.0, \"sum_c\": 186.0, \"k_worst\": 61369.0, \"top_n\": 3, \"k/k_orig\": 0.0025306540535655108, \"k/k_worst\": 0.0013687692483175544, \"k/sum_c\": 0.45161290322580644, \"k*k_orig/k_worst\": 45.433557659404585, \"k/(k_worst-k_orig)\": 0.002981260647359455}, {\"Method\": \"Hillside(Colley Params)\", \"Year\": \"2016\", \"k\": 153.0, \"k_orig\": 33193.0, \"sum_c\": 333.0, \"k_worst\": 61369.0, \"top_n\": 4, \"k/k_orig\": 0.004609405597565752, \"k/k_worst\": 0.0024931154165784026, \"k/sum_c\": 0.4594594594594595, \"k*k_orig/k_worst\": 82.75398002248693, \"k/(k_worst-k_orig)\": 0.00543015332197615}, {\"Method\": \"Hillside(Colley Params)\", \"Year\": \"2016\", \"k\": 244.0, \"k_orig\": 33193.0, \"sum_c\": 529.0, \"k_worst\": 61369.0, \"top_n\": 5, \"k/k_orig\": 0.007350947488928388, \"k/k_worst\": 0.0039759487689224205, \"k/sum_c\": 0.4612476370510397, \"k*k_orig/k_worst\": 131.9736674868419, \"k/(k_worst-k_orig)\": 0.008659852356615559}, {\"Method\": \"Hillside(Colley Params)\", \"Year\": \"2016\", \"k\": 361.0, \"k_orig\": 33193.0, \"sum_c\": 767.0, \"k_worst\": 61369.0, \"top_n\": 6, \"k/k_orig\": 0.010875787063537493, \"k/k_worst\": 0.005882448793364728, \"k/sum_c\": 0.4706649282920469, \"k*k_orig/k_worst\": 195.25612279815542, \"k/(k_worst-k_orig)\": 0.012812322544009085}, {\"Method\": \"Hillside(Colley Params)\", \"Year\": \"2016\", \"k\": 513.0, \"k_orig\": 33193.0, \"sum_c\": 1096.0, \"k_worst\": 61369.0, \"top_n\": 7, \"k/k_orig\": 0.015455065827132226, \"k/k_worst\": 0.008359269337939351, \"k/sum_c\": 0.46806569343065696, \"k*k_orig/k_worst\": 277.4692271342209, \"k/(k_worst-k_orig)\": 0.018206984667802385}, {\"Method\": \"Hillside(Colley Params)\", \"Year\": \"2016\", \"k\": 696.0, \"k_orig\": 33193.0, \"sum_c\": 1495.0, \"k_worst\": 61369.0, \"top_n\": 8, \"k/k_orig\": 0.020968276443828517, \"k/k_worst\": 0.011341230914631165, \"k/sum_c\": 0.46555183946488293, \"k*k_orig/k_worst\": 376.4494777493523, \"k/(k_worst-k_orig)\": 0.024701873935264053}, {\"Method\": \"Hillside(Colley Params)\", \"Year\": \"2016\", \"k\": 898.0, \"k_orig\": 33193.0, \"sum_c\": 1917.0, \"k_worst\": 61369.0, \"top_n\": 9, \"k/k_orig\": 0.02705389690597415, \"k/k_worst\": 0.014632795059394809, \"k/sum_c\": 0.4684402712571727, \"k*k_orig/k_worst\": 485.7063664064919, \"k/(k_worst-k_orig)\": 0.03187109596819988}, {\"Method\": \"Hillside(Colley Params)\", \"Year\": \"2016\", \"k\": 1131.0, \"k_orig\": 33193.0, \"sum_c\": 2472.0, \"k_worst\": 61369.0, \"top_n\": 10, \"k/k_orig\": 0.03407344922122134, \"k/k_worst\": 0.018429500236275643, \"k/sum_c\": 0.4575242718446602, \"k*k_orig/k_worst\": 611.7304013426974, \"k/(k_worst-k_orig)\": 0.04014054514480409}, {\"Method\": \"Hillside(Colley Params)\", \"Year\": \"2016\", \"k\": 1335.0, \"k_orig\": 33193.0, \"sum_c\": 2978.0, \"k_worst\": 61369.0, \"top_n\": 11, \"k/k_orig\": 0.04021932335130901, \"k/k_worst\": 0.02175365412504685, \"k/sum_c\": 0.44828744123572867, \"k*k_orig/k_worst\": 722.06904137268, \"k/(k_worst-k_orig)\": 0.047380749574105624}, {\"Method\": \"Hillside(Colley Params)\", \"Year\": \"2016\", \"k\": 1580.0, \"k_orig\": 33193.0, \"sum_c\": 3529.0, \"k_worst\": 61369.0, \"top_n\": 12, \"k/k_orig\": 0.04760039767420842, \"k/k_worst\": 0.02574589776597305, \"k/sum_c\": 0.44771890053839614, \"k*k_orig/k_worst\": 854.5835845459434, \"k/(k_worst-k_orig)\": 0.056076093128904034}, {\"Method\": \"Hillside(Colley Params)\", \"Year\": \"2016\", \"k\": 1879.0, \"k_orig\": 33193.0, \"sum_c\": 4239.0, \"k_worst\": 61369.0, \"top_n\": 13, \"k/k_orig\": 0.05660832103154279, \"k/k_worst\": 0.03061806449510339, \"k/sum_c\": 0.4432649209719273, \"k*k_orig/k_worst\": 1016.3054147859668, \"k/(k_worst-k_orig)\": 0.06668796138557638}, {\"Method\": \"Hillside(Colley Params)\", \"Year\": \"2016\", \"k\": 2142.0, \"k_orig\": 33193.0, \"sum_c\": 4828.0, \"k_worst\": 61369.0, \"top_n\": 14, \"k/k_orig\": 0.06453167836592053, \"k/k_worst\": 0.03490361583209764, \"k/sum_c\": 0.44366197183098594, \"k*k_orig/k_worst\": 1158.5557203148169, \"k/(k_worst-k_orig)\": 0.0760221465076661}, {\"Method\": \"Hillside(Colley Params)\", \"Year\": \"2016\", \"k\": 2470.0, \"k_orig\": 33193.0, \"sum_c\": 5618.0, \"k_worst\": 61369.0, \"top_n\": 15, \"k/k_orig\": 0.07441327990841443, \"k/k_worst\": 0.04024833384933761, \"k/sum_c\": 0.4396582413670345, \"k*k_orig/k_worst\": 1335.9629454610633, \"k/(k_worst-k_orig)\": 0.08766325951164111}, {\"Method\": \"Hillside(Colley Params)\", \"Year\": \"2016\", \"k\": 2750.0, \"k_orig\": 33193.0, \"sum_c\": 6329.0, \"k_worst\": 61369.0, \"top_n\": 16, \"k/k_orig\": 0.08284879342029947, \"k/k_worst\": 0.04481089801039613, \"k/sum_c\": 0.4345078211407805, \"k*k_orig/k_worst\": 1487.4081376590786, \"k/(k_worst-k_orig)\": 0.0976007950028393}, {\"Method\": \"Hillside(Colley Params)\", \"Year\": \"2016\", \"k\": 2978.0, \"k_orig\": 33193.0, \"sum_c\": 6878.0, \"k_worst\": 61369.0, \"top_n\": 17, \"k/k_orig\": 0.08971771156569155, \"k/k_worst\": 0.04852612882725806, \"k/sum_c\": 0.4329747019482408, \"k*k_orig/k_worst\": 1610.727794163177, \"k/(k_worst-k_orig)\": 0.10569278818852924}, {\"Method\": \"Hillside(Colley Params)\", \"Year\": \"2016\", \"k\": 3351.0, \"k_orig\": 33193.0, \"sum_c\": 7778.0, \"k_worst\": 61369.0, \"top_n\": 18, \"k/k_orig\": 0.10095502063688128, \"k/k_worst\": 0.054604116084668156, \"k/sum_c\": 0.43083054769863716, \"k*k_orig/k_worst\": 1812.47442519839, \"k/(k_worst-k_orig)\": 0.11893100511073254}, {\"Method\": \"Hillside(Colley Params)\", \"Year\": \"2016\", \"k\": 3749.0, \"k_orig\": 33193.0, \"sum_c\": 8708.0, \"k_worst\": 61369.0, \"top_n\": 19, \"k/k_orig\": 0.11294550055734642, \"k/k_worst\": 0.06108947514217276, \"k/sum_c\": 0.4305236564079008, \"k*k_orig/k_worst\": 2027.7429483941403, \"k/(k_worst-k_orig)\": 0.1330565019875071}, {\"Method\": \"Hillside(Colley Params)\", \"Year\": \"2016\", \"k\": 3898.0, \"k_orig\": 33193.0, \"sum_c\": 9085.0, \"k_worst\": 61369.0, \"top_n\": 20, \"k/k_orig\": 0.1174343988190281, \"k/k_worst\": 0.06351741107073604, \"k/sum_c\": 0.4290588882773803, \"k*k_orig/k_worst\": 2108.3334256709413, \"k/(k_worst-k_orig)\": 0.13834469051675186}, {\"Method\": \"Hillside(Colley Params)\", \"Year\": \"2016\", \"k\": 4351.0, \"k_orig\": 33193.0, \"sum_c\": 10237.0, \"k_worst\": 61369.0, \"top_n\": 21, \"k/k_orig\": 0.13108185460789926, \"k/k_worst\": 0.07089898808844856, \"k/sum_c\": 0.4250268633388688, \"k*k_orig/k_worst\": 2353.350111619873, \"k/(k_worst-k_orig)\": 0.1544222032935832}, {\"Method\": \"Hillside(Colley Params)\", \"Year\": \"2016\", \"k\": 4771.0, \"k_orig\": 33193.0, \"sum_c\": 11207.0, \"k_worst\": 61369.0, \"top_n\": 22, \"k/k_orig\": 0.14373512487572682, \"k/k_worst\": 0.07774283433003634, \"k/sum_c\": 0.4257160703131971, \"k*k_orig/k_worst\": 2580.517899916896, \"k/(k_worst-k_orig)\": 0.16932850653038048}, {\"Method\": \"Hillside(Colley Params)\", \"Year\": \"2016\", \"k\": 5175.0, \"k_orig\": 33193.0, \"sum_c\": 12143.0, \"k_worst\": 61369.0, \"top_n\": 23, \"k/k_orig\": 0.15590636580001807, \"k/k_worst\": 0.08432596261956363, \"k/sum_c\": 0.4261714568063905, \"k*k_orig/k_worst\": 2799.0316772311753, \"k/(k_worst-k_orig)\": 0.18366695059625213}, {\"Method\": \"Hillside(Colley Params)\", \"Year\": \"2016\", \"k\": 5686.0, \"k_orig\": 33193.0, \"sum_c\": 13340.0, \"k_worst\": 61369.0, \"top_n\": 24, \"k/k_orig\": 0.17130117795920827, \"k/k_worst\": 0.09265264221349541, \"k/sum_c\": 0.4262368815592204, \"k*k_orig/k_worst\": 3075.4191529925533, \"k/(k_worst-k_orig)\": 0.20180295286768882}, {\"Method\": \"Hillside(Colley Params)\", \"Year\": \"2016\", \"k\": 6108.0, \"k_orig\": 33193.0, \"sum_c\": 14419.0, \"k_worst\": 61369.0, \"top_n\": 25, \"k/k_orig\": 0.18401470189497784, \"k/k_worst\": 0.09952907819909075, \"k/sum_c\": 0.42360773978778, \"k*k_orig/k_worst\": 3303.6686926624193, \"k/(k_worst-k_orig)\": 0.2167802385008518}, {\"Method\": \"Hillside(Colley Params)\", \"Year\": \"2016\", \"k\": 6600.0, \"k_orig\": 33193.0, \"sum_c\": 15635.0, \"k_worst\": 61369.0, \"top_n\": 26, \"k/k_orig\": 0.1988371042087187, \"k/k_worst\": 0.1075461552249507, \"k/sum_c\": 0.4221298369043812, \"k*k_orig/k_worst\": 3569.779530381789, \"k/(k_worst-k_orig)\": 0.2342419080068143}, {\"Method\": \"Hillside(Colley Params)\", \"Year\": \"2016\", \"k\": 7072.0, \"k_orig\": 33193.0, \"sum_c\": 16752.0, \"k_worst\": 61369.0, \"top_n\": 27, \"k/k_orig\": 0.2130569698430392, \"k/k_worst\": 0.11523733481073506, \"k/sum_c\": 0.4221585482330468, \"k*k_orig/k_worst\": 3825.072854372729, \"k/(k_worst-k_orig)\": 0.2509937535491198}, {\"Method\": \"Hillside(Colley Params)\", \"Year\": \"2016\", \"k\": 7578.0, \"k_orig\": 33193.0, \"sum_c\": 17967.0, \"k_worst\": 61369.0, \"top_n\": 28, \"k/k_orig\": 0.2283011478323743, \"k/k_worst\": 0.12348254004464795, \"k/sum_c\": 0.4217732509600935, \"k*k_orig/k_worst\": 4098.755951701999, \"k/(k_worst-k_orig)\": 0.26895229982964225}, {\"Method\": \"Hillside(Colley Params)\", \"Year\": \"2016\", \"k\": 8211.0, \"k_orig\": 33193.0, \"sum_c\": 19507.0, \"k_worst\": 61369.0, \"top_n\": 29, \"k/k_orig\": 0.24737143373602868, \"k/k_worst\": 0.13379719402304094, \"k/sum_c\": 0.4209258214999744, \"k*k_orig/k_worst\": 4441.130261206798, \"k/(k_worst-k_orig)\": 0.29141822827938674}, {\"Method\": \"Hillside(Massey Params)\", \"Year\": \"2016\", \"k\": 28.0, \"k_orig\": 33193.0, \"sum_c\": 61.0, \"k_worst\": 61369.0, \"top_n\": 2, \"k/k_orig\": 0.0008435513511885036, \"k/k_worst\": 0.0004562564161058515, \"k/sum_c\": 0.45901639344262296, \"k*k_orig/k_worst\": 15.144519219801529, \"k/(k_worst-k_orig)\": 0.0009937535491198182}, {\"Method\": \"Hillside(Massey Params)\", \"Year\": \"2016\", \"k\": 84.0, \"k_orig\": 33193.0, \"sum_c\": 186.0, \"k_worst\": 61369.0, \"top_n\": 3, \"k/k_orig\": 0.0025306540535655108, \"k/k_worst\": 0.0013687692483175544, \"k/sum_c\": 0.45161290322580644, \"k*k_orig/k_worst\": 45.433557659404585, \"k/(k_worst-k_orig)\": 0.002981260647359455}, {\"Method\": \"Hillside(Massey Params)\", \"Year\": \"2016\", \"k\": 153.0, \"k_orig\": 33193.0, \"sum_c\": 333.0, \"k_worst\": 61369.0, \"top_n\": 4, \"k/k_orig\": 0.004609405597565752, \"k/k_worst\": 0.0024931154165784026, \"k/sum_c\": 0.4594594594594595, \"k*k_orig/k_worst\": 82.75398002248693, \"k/(k_worst-k_orig)\": 0.00543015332197615}, {\"Method\": \"Hillside(Massey Params)\", \"Year\": \"2016\", \"k\": 244.0, \"k_orig\": 33193.0, \"sum_c\": 529.0, \"k_worst\": 61369.0, \"top_n\": 5, \"k/k_orig\": 0.007350947488928388, \"k/k_worst\": 0.0039759487689224205, \"k/sum_c\": 0.4612476370510397, \"k*k_orig/k_worst\": 131.9736674868419, \"k/(k_worst-k_orig)\": 0.008659852356615559}, {\"Method\": \"Hillside(Massey Params)\", \"Year\": \"2016\", \"k\": 361.0, \"k_orig\": 33193.0, \"sum_c\": 767.0, \"k_worst\": 61369.0, \"top_n\": 6, \"k/k_orig\": 0.010875787063537493, \"k/k_worst\": 0.005882448793364728, \"k/sum_c\": 0.4706649282920469, \"k*k_orig/k_worst\": 195.25612279815542, \"k/(k_worst-k_orig)\": 0.012812322544009085}, {\"Method\": \"Hillside(Massey Params)\", \"Year\": \"2016\", \"k\": 513.0, \"k_orig\": 33193.0, \"sum_c\": 1096.0, \"k_worst\": 61369.0, \"top_n\": 7, \"k/k_orig\": 0.015455065827132226, \"k/k_worst\": 0.008359269337939351, \"k/sum_c\": 0.46806569343065696, \"k*k_orig/k_worst\": 277.4692271342209, \"k/(k_worst-k_orig)\": 0.018206984667802385}, {\"Method\": \"Hillside(Massey Params)\", \"Year\": \"2016\", \"k\": 696.0, \"k_orig\": 33193.0, \"sum_c\": 1495.0, \"k_worst\": 61369.0, \"top_n\": 8, \"k/k_orig\": 0.020968276443828517, \"k/k_worst\": 0.011341230914631165, \"k/sum_c\": 0.46555183946488293, \"k*k_orig/k_worst\": 376.4494777493523, \"k/(k_worst-k_orig)\": 0.024701873935264053}, {\"Method\": \"Hillside(Massey Params)\", \"Year\": \"2016\", \"k\": 898.0, \"k_orig\": 33193.0, \"sum_c\": 1917.0, \"k_worst\": 61369.0, \"top_n\": 9, \"k/k_orig\": 0.02705389690597415, \"k/k_worst\": 0.014632795059394809, \"k/sum_c\": 0.4684402712571727, \"k*k_orig/k_worst\": 485.7063664064919, \"k/(k_worst-k_orig)\": 0.03187109596819988}, {\"Method\": \"Hillside(Massey Params)\", \"Year\": \"2016\", \"k\": 1131.0, \"k_orig\": 33193.0, \"sum_c\": 2472.0, \"k_worst\": 61369.0, \"top_n\": 10, \"k/k_orig\": 0.03407344922122134, \"k/k_worst\": 0.018429500236275643, \"k/sum_c\": 0.4575242718446602, \"k*k_orig/k_worst\": 611.7304013426974, \"k/(k_worst-k_orig)\": 0.04014054514480409}, {\"Method\": \"Hillside(Massey Params)\", \"Year\": \"2016\", \"k\": 1335.0, \"k_orig\": 33193.0, \"sum_c\": 2978.0, \"k_worst\": 61369.0, \"top_n\": 11, \"k/k_orig\": 0.04021932335130901, \"k/k_worst\": 0.02175365412504685, \"k/sum_c\": 0.44828744123572867, \"k*k_orig/k_worst\": 722.06904137268, \"k/(k_worst-k_orig)\": 0.047380749574105624}, {\"Method\": \"Hillside(Massey Params)\", \"Year\": \"2016\", \"k\": 1580.0, \"k_orig\": 33193.0, \"sum_c\": 3529.0, \"k_worst\": 61369.0, \"top_n\": 12, \"k/k_orig\": 0.04760039767420842, \"k/k_worst\": 0.02574589776597305, \"k/sum_c\": 0.44771890053839614, \"k*k_orig/k_worst\": 854.5835845459434, \"k/(k_worst-k_orig)\": 0.056076093128904034}, {\"Method\": \"Hillside(Massey Params)\", \"Year\": \"2016\", \"k\": 1879.0, \"k_orig\": 33193.0, \"sum_c\": 4239.0, \"k_worst\": 61369.0, \"top_n\": 13, \"k/k_orig\": 0.05660832103154279, \"k/k_worst\": 0.03061806449510339, \"k/sum_c\": 0.4432649209719273, \"k*k_orig/k_worst\": 1016.3054147859668, \"k/(k_worst-k_orig)\": 0.06668796138557638}, {\"Method\": \"Hillside(Massey Params)\", \"Year\": \"2016\", \"k\": 2142.0, \"k_orig\": 33193.0, \"sum_c\": 4828.0, \"k_worst\": 61369.0, \"top_n\": 14, \"k/k_orig\": 0.06453167836592053, \"k/k_worst\": 0.03490361583209764, \"k/sum_c\": 0.44366197183098594, \"k*k_orig/k_worst\": 1158.5557203148169, \"k/(k_worst-k_orig)\": 0.0760221465076661}, {\"Method\": \"Hillside(Massey Params)\", \"Year\": \"2016\", \"k\": 2470.0, \"k_orig\": 33193.0, \"sum_c\": 5618.0, \"k_worst\": 61369.0, \"top_n\": 15, \"k/k_orig\": 0.07441327990841443, \"k/k_worst\": 0.04024833384933761, \"k/sum_c\": 0.4396582413670345, \"k*k_orig/k_worst\": 1335.9629454610633, \"k/(k_worst-k_orig)\": 0.08766325951164111}, {\"Method\": \"Hillside(Massey Params)\", \"Year\": \"2016\", \"k\": 2750.0, \"k_orig\": 33193.0, \"sum_c\": 6329.0, \"k_worst\": 61369.0, \"top_n\": 16, \"k/k_orig\": 0.08284879342029947, \"k/k_worst\": 0.04481089801039613, \"k/sum_c\": 0.4345078211407805, \"k*k_orig/k_worst\": 1487.4081376590786, \"k/(k_worst-k_orig)\": 0.0976007950028393}, {\"Method\": \"Hillside(Massey Params)\", \"Year\": \"2016\", \"k\": 2978.0, \"k_orig\": 33193.0, \"sum_c\": 6878.0, \"k_worst\": 61369.0, \"top_n\": 17, \"k/k_orig\": 0.08971771156569155, \"k/k_worst\": 0.04852612882725806, \"k/sum_c\": 0.4329747019482408, \"k*k_orig/k_worst\": 1610.727794163177, \"k/(k_worst-k_orig)\": 0.10569278818852924}, {\"Method\": \"Hillside(Massey Params)\", \"Year\": \"2016\", \"k\": 3351.0, \"k_orig\": 33193.0, \"sum_c\": 7778.0, \"k_worst\": 61369.0, \"top_n\": 18, \"k/k_orig\": 0.10095502063688128, \"k/k_worst\": 0.054604116084668156, \"k/sum_c\": 0.43083054769863716, \"k*k_orig/k_worst\": 1812.47442519839, \"k/(k_worst-k_orig)\": 0.11893100511073254}, {\"Method\": \"Hillside(Massey Params)\", \"Year\": \"2016\", \"k\": 3749.0, \"k_orig\": 33193.0, \"sum_c\": 8708.0, \"k_worst\": 61369.0, \"top_n\": 19, \"k/k_orig\": 0.11294550055734642, \"k/k_worst\": 0.06108947514217276, \"k/sum_c\": 0.4305236564079008, \"k*k_orig/k_worst\": 2027.7429483941403, \"k/(k_worst-k_orig)\": 0.1330565019875071}, {\"Method\": \"Hillside(Massey Params)\", \"Year\": \"2016\", \"k\": 3898.0, \"k_orig\": 33193.0, \"sum_c\": 9085.0, \"k_worst\": 61369.0, \"top_n\": 20, \"k/k_orig\": 0.1174343988190281, \"k/k_worst\": 0.06351741107073604, \"k/sum_c\": 0.4290588882773803, \"k*k_orig/k_worst\": 2108.3334256709413, \"k/(k_worst-k_orig)\": 0.13834469051675186}, {\"Method\": \"Hillside(Massey Params)\", \"Year\": \"2016\", \"k\": 4351.0, \"k_orig\": 33193.0, \"sum_c\": 10237.0, \"k_worst\": 61369.0, \"top_n\": 21, \"k/k_orig\": 0.13108185460789926, \"k/k_worst\": 0.07089898808844856, \"k/sum_c\": 0.4250268633388688, \"k*k_orig/k_worst\": 2353.350111619873, \"k/(k_worst-k_orig)\": 0.1544222032935832}, {\"Method\": \"Hillside(Massey Params)\", \"Year\": \"2016\", \"k\": 4771.0, \"k_orig\": 33193.0, \"sum_c\": 11207.0, \"k_worst\": 61369.0, \"top_n\": 22, \"k/k_orig\": 0.14373512487572682, \"k/k_worst\": 0.07774283433003634, \"k/sum_c\": 0.4257160703131971, \"k*k_orig/k_worst\": 2580.517899916896, \"k/(k_worst-k_orig)\": 0.16932850653038048}, {\"Method\": \"Hillside(Massey Params)\", \"Year\": \"2016\", \"k\": 5175.0, \"k_orig\": 33193.0, \"sum_c\": 12143.0, \"k_worst\": 61369.0, \"top_n\": 23, \"k/k_orig\": 0.15590636580001807, \"k/k_worst\": 0.08432596261956363, \"k/sum_c\": 0.4261714568063905, \"k*k_orig/k_worst\": 2799.0316772311753, \"k/(k_worst-k_orig)\": 0.18366695059625213}, {\"Method\": \"Hillside(Massey Params)\", \"Year\": \"2016\", \"k\": 5686.0, \"k_orig\": 33193.0, \"sum_c\": 13340.0, \"k_worst\": 61369.0, \"top_n\": 24, \"k/k_orig\": 0.17130117795920827, \"k/k_worst\": 0.09265264221349541, \"k/sum_c\": 0.4262368815592204, \"k*k_orig/k_worst\": 3075.4191529925533, \"k/(k_worst-k_orig)\": 0.20180295286768882}, {\"Method\": \"Hillside(Massey Params)\", \"Year\": \"2016\", \"k\": 6108.0, \"k_orig\": 33193.0, \"sum_c\": 14419.0, \"k_worst\": 61369.0, \"top_n\": 25, \"k/k_orig\": 0.18401470189497784, \"k/k_worst\": 0.09952907819909075, \"k/sum_c\": 0.42360773978778, \"k*k_orig/k_worst\": 3303.6686926624193, \"k/(k_worst-k_orig)\": 0.2167802385008518}, {\"Method\": \"Hillside(Massey Params)\", \"Year\": \"2016\", \"k\": 6600.0, \"k_orig\": 33193.0, \"sum_c\": 15635.0, \"k_worst\": 61369.0, \"top_n\": 26, \"k/k_orig\": 0.1988371042087187, \"k/k_worst\": 0.1075461552249507, \"k/sum_c\": 0.4221298369043812, \"k*k_orig/k_worst\": 3569.779530381789, \"k/(k_worst-k_orig)\": 0.2342419080068143}, {\"Method\": \"Hillside(Massey Params)\", \"Year\": \"2016\", \"k\": 7072.0, \"k_orig\": 33193.0, \"sum_c\": 16752.0, \"k_worst\": 61369.0, \"top_n\": 27, \"k/k_orig\": 0.2130569698430392, \"k/k_worst\": 0.11523733481073506, \"k/sum_c\": 0.4221585482330468, \"k*k_orig/k_worst\": 3825.072854372729, \"k/(k_worst-k_orig)\": 0.2509937535491198}, {\"Method\": \"Hillside(Massey Params)\", \"Year\": \"2016\", \"k\": 7578.0, \"k_orig\": 33193.0, \"sum_c\": 17967.0, \"k_worst\": 61369.0, \"top_n\": 28, \"k/k_orig\": 0.2283011478323743, \"k/k_worst\": 0.12348254004464795, \"k/sum_c\": 0.4217732509600935, \"k*k_orig/k_worst\": 4098.755951701999, \"k/(k_worst-k_orig)\": 0.26895229982964225}, {\"Method\": \"Hillside(Massey Params)\", \"Year\": \"2016\", \"k\": 8211.0, \"k_orig\": 33193.0, \"sum_c\": 19507.0, \"k_worst\": 61369.0, \"top_n\": 29, \"k/k_orig\": 0.24737143373602868, \"k/k_worst\": 0.13379719402304094, \"k/sum_c\": 0.4209258214999744, \"k*k_orig/k_worst\": 4441.130261206798, \"k/(k_worst-k_orig)\": 0.29141822827938674}, {\"Method\": \"Hillside(Colley Params)\", \"Year\": \"2017\", \"k\": 19.0, \"k_orig\": 28736.0, \"sum_c\": 42.0, \"k_worst\": 54460.0, \"top_n\": 2, \"k/k_orig\": 0.0006611915367483296, \"k/k_worst\": 0.000348879911861917, \"k/sum_c\": 0.4523809523809524, \"k*k_orig/k_worst\": 10.025413147264047, \"k/(k_worst-k_orig)\": 0.0007386098584979008}, {\"Method\": \"Hillside(Colley Params)\", \"Year\": \"2017\", \"k\": 45.0, \"k_orig\": 28736.0, \"sum_c\": 97.0, \"k_worst\": 54460.0, \"top_n\": 3, \"k/k_orig\": 0.00156597995545657, \"k/k_worst\": 0.0008262945280940139, \"k/sum_c\": 0.4639175257731959, \"k*k_orig/k_worst\": 23.744399559309585, \"k/(k_worst-k_orig)\": 0.0017493391385476598}, {\"Method\": \"Hillside(Colley Params)\", \"Year\": \"2017\", \"k\": 92.0, \"k_orig\": 28736.0, \"sum_c\": 208.0, \"k_worst\": 54460.0, \"top_n\": 4, \"k/k_orig\": 0.0032015590200445434, \"k/k_worst\": 0.0016893132574366508, \"k/sum_c\": 0.4423076923076923, \"k*k_orig/k_worst\": 48.5441057656996, \"k/(k_worst-k_orig)\": 0.0035764266832529934}, {\"Method\": \"Hillside(Colley Params)\", \"Year\": \"2017\", \"k\": 165.0, \"k_orig\": 28736.0, \"sum_c\": 375.0, \"k_worst\": 54460.0, \"top_n\": 5, \"k/k_orig\": 0.005741926503340758, \"k/k_worst\": 0.0030297466030113846, \"k/sum_c\": 0.44, \"k*k_orig/k_worst\": 87.06279838413515, \"k/(k_worst-k_orig)\": 0.006414243508008086}, {\"Method\": \"Hillside(Colley Params)\", \"Year\": \"2017\", \"k\": 267.0, \"k_orig\": 28736.0, \"sum_c\": 609.0, \"k_worst\": 54460.0, \"top_n\": 6, \"k/k_orig\": 0.009291481069042316, \"k/k_worst\": 0.00490268086669115, \"k/sum_c\": 0.43842364532019706, \"k*k_orig/k_worst\": 140.88343738523687, \"k/(k_worst-k_orig)\": 0.010379412222049448}, {\"Method\": \"Hillside(Colley Params)\", \"Year\": \"2017\", \"k\": 393.0, \"k_orig\": 28736.0, \"sum_c\": 880.0, \"k_worst\": 54460.0, \"top_n\": 7, \"k/k_orig\": 0.013676224944320713, \"k/k_worst\": 0.0072163055453543885, \"k/sum_c\": 0.4465909090909091, \"k*k_orig/k_worst\": 207.36775615130372, \"k/(k_worst-k_orig)\": 0.015277561809982895}, {\"Method\": \"Hillside(Colley Params)\", \"Year\": \"2017\", \"k\": 509.0, \"k_orig\": 28736.0, \"sum_c\": 1182.0, \"k_worst\": 54460.0, \"top_n\": 8, \"k/k_orig\": 0.017712973273942095, \"k/k_worst\": 0.009346309217774514, \"k/sum_c\": 0.4306260575296108, \"k*k_orig/k_worst\": 268.57554168196845, \"k/(k_worst-k_orig)\": 0.019786969367127975}, {\"Method\": \"Hillside(Colley Params)\", \"Year\": \"2017\", \"k\": 692.0, \"k_orig\": 28736.0, \"sum_c\": 1591.0, \"k_worst\": 54460.0, \"top_n\": 9, \"k/k_orig\": 0.024081291759465478, \"k/k_worst\": 0.012706573632023503, \"k/sum_c\": 0.4349465744814582, \"k*k_orig/k_worst\": 365.1360998898274, \"k/(k_worst-k_orig)\": 0.026900948530555125}, {\"Method\": \"Hillside(Colley Params)\", \"Year\": \"2017\", \"k\": 862.0, \"k_orig\": 28736.0, \"sum_c\": 1977.0, \"k_worst\": 54460.0, \"top_n\": 10, \"k/k_orig\": 0.029997216035634745, \"k/k_worst\": 0.015828130738156445, \"k/sum_c\": 0.43601416287303996, \"k*k_orig/k_worst\": 454.83716489166363, \"k/(k_worst-k_orig)\": 0.03350956305395739}, {\"Method\": \"Hillside(Colley Params)\", \"Year\": \"2017\", \"k\": 1040.0, \"k_orig\": 28736.0, \"sum_c\": 2435.0, \"k_worst\": 54460.0, \"top_n\": 11, \"k/k_orig\": 0.036191536748329624, \"k/k_worst\": 0.019096584649283876, \"k/sum_c\": 0.4271047227926078, \"k*k_orig/k_worst\": 548.7594564818215, \"k/(k_worst-k_orig)\": 0.04042917120199036}, {\"Method\": \"Hillside(Colley Params)\", \"Year\": \"2017\", \"k\": 1239.0, \"k_orig\": 28736.0, \"sum_c\": 2924.0, \"k_worst\": 54460.0, \"top_n\": 12, \"k/k_orig\": 0.04311664810690423, \"k/k_worst\": 0.02275064267352185, \"k/sum_c\": 0.423734610123119, \"k*k_orig/k_worst\": 653.762467866324, \"k/(k_worst-k_orig)\": 0.0481651376146789}, {\"Method\": \"Hillside(Colley Params)\", \"Year\": \"2017\", \"k\": 1518.0, \"k_orig\": 28736.0, \"sum_c\": 3576.0, \"k_worst\": 54460.0, \"top_n\": 13, \"k/k_orig\": 0.052825723830734965, \"k/k_worst\": 0.02787366874770474, \"k/sum_c\": 0.42449664429530204, \"k*k_orig/k_worst\": 800.9777451340433, \"k/(k_worst-k_orig)\": 0.05901104027367439}, {\"Method\": \"Hillside(Colley Params)\", \"Year\": \"2017\", \"k\": 1820.0, \"k_orig\": 28736.0, \"sum_c\": 4237.0, \"k_worst\": 54460.0, \"top_n\": 14, \"k/k_orig\": 0.06333518930957684, \"k/k_worst\": 0.033419023136246784, \"k/sum_c\": 0.4295492093462355, \"k*k_orig/k_worst\": 960.3290488431877, \"k/(k_worst-k_orig)\": 0.07075104960348313}, {\"Method\": \"Hillside(Colley Params)\", \"Year\": \"2017\", \"k\": 2164.0, \"k_orig\": 28736.0, \"sum_c\": 5044.0, \"k_worst\": 54460.0, \"top_n\": 15, \"k/k_orig\": 0.07530623608017817, \"k/k_worst\": 0.03973558575100992, \"k/sum_c\": 0.4290245836637589, \"k*k_orig/k_worst\": 1141.841792141021, \"k/(k_worst-k_orig)\": 0.08412377546260302}, {\"Method\": \"Hillside(Colley Params)\", \"Year\": \"2017\", \"k\": 2527.0, \"k_orig\": 28736.0, \"sum_c\": 5803.0, \"k_worst\": 54460.0, \"top_n\": 16, \"k/k_orig\": 0.08793847438752785, \"k/k_worst\": 0.04640102827763496, \"k/sum_c\": 0.43546441495778043, \"k*k_orig/k_worst\": 1333.3799485861182, \"k/(k_worst-k_orig)\": 0.09823511118022081}, {\"Method\": \"Hillside(Colley Params)\", \"Year\": \"2017\", \"k\": 2923.0, \"k_orig\": 28736.0, \"sum_c\": 6680.0, \"k_worst\": 54460.0, \"top_n\": 17, \"k/k_orig\": 0.10171909799554565, \"k/k_worst\": 0.053672420124862286, \"k/sum_c\": 0.4375748502994012, \"k*k_orig/k_worst\": 1542.3306647080426, \"k/(k_worst-k_orig)\": 0.11362929559944021}, {\"Method\": \"Hillside(Colley Params)\", \"Year\": \"2017\", \"k\": 3306.0, \"k_orig\": 28736.0, \"sum_c\": 7551.0, \"k_worst\": 54460.0, \"top_n\": 18, \"k/k_orig\": 0.11504732739420935, \"k/k_worst\": 0.06070510466397356, \"k/sum_c\": 0.4378228049264998, \"k*k_orig/k_worst\": 1744.4218876239443, \"k/(k_worst-k_orig)\": 0.12851811537863475}, {\"Method\": \"Hillside(Colley Params)\", \"Year\": \"2017\", \"k\": 3728.0, \"k_orig\": 28736.0, \"sum_c\": 8503.0, \"k_worst\": 54460.0, \"top_n\": 19, \"k/k_orig\": 0.1297327394209354, \"k/k_worst\": 0.06845391112743297, \"k/sum_c\": 0.4384334940609197, \"k*k_orig/k_worst\": 1967.091590157914, \"k/(k_worst-k_orig)\": 0.14492302907790391}, {\"Method\": \"Hillside(Colley Params)\", \"Year\": \"2017\", \"k\": 4161.0, \"k_orig\": 28736.0, \"sum_c\": 9522.0, \"k_worst\": 54460.0, \"top_n\": 20, \"k/k_orig\": 0.1448009465478842, \"k/k_worst\": 0.07640470069775983, \"k/sum_c\": 0.4369880277252678, \"k*k_orig/k_worst\": 2195.5654792508262, \"k/(k_worst-k_orig)\": 0.16175555901104027}, {\"Method\": \"Hillside(Colley Params)\", \"Year\": \"2017\", \"k\": 4380.0, \"k_orig\": 28736.0, \"sum_c\": 10083.0, \"k_worst\": 54460.0, \"top_n\": 21, \"k/k_orig\": 0.15242204899777284, \"k/k_worst\": 0.08042600073448403, \"k/sum_c\": 0.4343945254388575, \"k*k_orig/k_worst\": 2311.121557106133, \"k/(k_worst-k_orig)\": 0.17026900948530554}, {\"Method\": \"Hillside(Colley Params)\", \"Year\": \"2017\", \"k\": 4841.0, \"k_orig\": 28736.0, \"sum_c\": 11213.0, \"k_worst\": 54460.0, \"top_n\": 22, \"k/k_orig\": 0.16846464365256125, \"k/k_worst\": 0.08889092912229159, \"k/sum_c\": 0.43173102648711315, \"k*k_orig/k_worst\": 2554.369739258171, \"k/(k_worst-k_orig)\": 0.18819001710464936}, {\"Method\": \"Hillside(Colley Params)\", \"Year\": \"2017\", \"k\": 5214.0, \"k_orig\": 28736.0, \"sum_c\": 12228.0, \"k_worst\": 54460.0, \"top_n\": 23, \"k/k_orig\": 0.18144487750556793, \"k/k_worst\": 0.09573999265515976, \"k/sum_c\": 0.4263984298331698, \"k*k_orig/k_worst\": 2751.1844289386704, \"k/(k_worst-k_orig)\": 0.2026900948530555}, {\"Method\": \"Hillside(Colley Params)\", \"Year\": \"2017\", \"k\": 5627.0, \"k_orig\": 28736.0, \"sum_c\": 13286.0, \"k_worst\": 54460.0, \"top_n\": 24, \"k/k_orig\": 0.19581709354120266, \"k/k_worst\": 0.10332354021300037, \"k/sum_c\": 0.42352852626825227, \"k*k_orig/k_worst\": 2969.1052515607785, \"k/(k_worst-k_orig)\": 0.21874514072461515}, {\"Method\": \"Hillside(Colley Params)\", \"Year\": \"2017\", \"k\": 6191.0, \"k_orig\": 28736.0, \"sum_c\": 14595.0, \"k_worst\": 54460.0, \"top_n\": 25, \"k/k_orig\": 0.21544404231625836, \"k/k_worst\": 0.113679764965112, \"k/sum_c\": 0.42418636519355946, \"k*k_orig/k_worst\": 3266.7017260374587, \"k/(k_worst-k_orig)\": 0.24067019126107914}, {\"Method\": \"Hillside(Colley Params)\", \"Year\": \"2017\", \"k\": 6563.0, \"k_orig\": 28736.0, \"sum_c\": 15562.0, \"k_worst\": 54460.0, \"top_n\": 26, \"k/k_orig\": 0.22838947661469933, \"k/k_worst\": 0.12051046639735585, \"k/sum_c\": 0.42173242513815706, \"k*k_orig/k_worst\": 3462.988762394418, \"k/(k_worst-k_orig)\": 0.25513139480640645}, {\"Method\": \"Hillside(Colley Params)\", \"Year\": \"2017\", \"k\": 6806.0, \"k_orig\": 28736.0, \"sum_c\": 16164.0, \"k_worst\": 54460.0, \"top_n\": 27, \"k/k_orig\": 0.23684576837416482, \"k/k_worst\": 0.12497245684906354, \"k/sum_c\": 0.421059143776293, \"k*k_orig/k_worst\": 3591.20852001469, \"k/(k_worst-k_orig)\": 0.2645778261545638}, {\"Method\": \"Hillside(Colley Params)\", \"Year\": \"2017\", \"k\": 7255.0, \"k_orig\": 28736.0, \"sum_c\": 17367.0, \"k_worst\": 54460.0, \"top_n\": 28, \"k/k_orig\": 0.2524707683741648, \"k/k_worst\": 0.13321704002937937, \"k/sum_c\": 0.4177463004548857, \"k*k_orig/k_worst\": 3828.1248622842454, \"k/(k_worst-k_orig)\": 0.2820323433369616}, {\"Method\": \"Hillside(Colley Params)\", \"Year\": \"2017\", \"k\": 7826.0, \"k_orig\": 28736.0, \"sum_c\": 18790.0, \"k_worst\": 54460.0, \"top_n\": 29, \"k/k_orig\": 0.2723413140311804, \"k/k_worst\": 0.14370179948586118, \"k/sum_c\": 0.41649813730707824, \"k*k_orig/k_worst\": 4129.414910025707, \"k/(k_worst-k_orig)\": 0.30422951329497744}, {\"Method\": \"Hillside(Massey Params)\", \"Year\": \"2017\", \"k\": 19.0, \"k_orig\": 28736.0, \"sum_c\": 42.0, \"k_worst\": 54460.0, \"top_n\": 2, \"k/k_orig\": 0.0006611915367483296, \"k/k_worst\": 0.000348879911861917, \"k/sum_c\": 0.4523809523809524, \"k*k_orig/k_worst\": 10.025413147264047, \"k/(k_worst-k_orig)\": 0.0007386098584979008}, {\"Method\": \"Hillside(Massey Params)\", \"Year\": \"2017\", \"k\": 45.0, \"k_orig\": 28736.0, \"sum_c\": 97.0, \"k_worst\": 54460.0, \"top_n\": 3, \"k/k_orig\": 0.00156597995545657, \"k/k_worst\": 0.0008262945280940139, \"k/sum_c\": 0.4639175257731959, \"k*k_orig/k_worst\": 23.744399559309585, \"k/(k_worst-k_orig)\": 0.0017493391385476598}, {\"Method\": \"Hillside(Massey Params)\", \"Year\": \"2017\", \"k\": 92.0, \"k_orig\": 28736.0, \"sum_c\": 208.0, \"k_worst\": 54460.0, \"top_n\": 4, \"k/k_orig\": 0.0032015590200445434, \"k/k_worst\": 0.0016893132574366508, \"k/sum_c\": 0.4423076923076923, \"k*k_orig/k_worst\": 48.5441057656996, \"k/(k_worst-k_orig)\": 0.0035764266832529934}, {\"Method\": \"Hillside(Massey Params)\", \"Year\": \"2017\", \"k\": 165.0, \"k_orig\": 28736.0, \"sum_c\": 375.0, \"k_worst\": 54460.0, \"top_n\": 5, \"k/k_orig\": 0.005741926503340758, \"k/k_worst\": 0.0030297466030113846, \"k/sum_c\": 0.44, \"k*k_orig/k_worst\": 87.06279838413515, \"k/(k_worst-k_orig)\": 0.006414243508008086}, {\"Method\": \"Hillside(Massey Params)\", \"Year\": \"2017\", \"k\": 267.0, \"k_orig\": 28736.0, \"sum_c\": 609.0, \"k_worst\": 54460.0, \"top_n\": 6, \"k/k_orig\": 0.009291481069042316, \"k/k_worst\": 0.00490268086669115, \"k/sum_c\": 0.43842364532019706, \"k*k_orig/k_worst\": 140.88343738523687, \"k/(k_worst-k_orig)\": 0.010379412222049448}, {\"Method\": \"Hillside(Massey Params)\", \"Year\": \"2017\", \"k\": 393.0, \"k_orig\": 28736.0, \"sum_c\": 880.0, \"k_worst\": 54460.0, \"top_n\": 7, \"k/k_orig\": 0.013676224944320713, \"k/k_worst\": 0.0072163055453543885, \"k/sum_c\": 0.4465909090909091, \"k*k_orig/k_worst\": 207.36775615130372, \"k/(k_worst-k_orig)\": 0.015277561809982895}, {\"Method\": \"Hillside(Massey Params)\", \"Year\": \"2017\", \"k\": 509.0, \"k_orig\": 28736.0, \"sum_c\": 1182.0, \"k_worst\": 54460.0, \"top_n\": 8, \"k/k_orig\": 0.017712973273942095, \"k/k_worst\": 0.009346309217774514, \"k/sum_c\": 0.4306260575296108, \"k*k_orig/k_worst\": 268.57554168196845, \"k/(k_worst-k_orig)\": 0.019786969367127975}, {\"Method\": \"Hillside(Massey Params)\", \"Year\": \"2017\", \"k\": 692.0, \"k_orig\": 28736.0, \"sum_c\": 1591.0, \"k_worst\": 54460.0, \"top_n\": 9, \"k/k_orig\": 0.024081291759465478, \"k/k_worst\": 0.012706573632023503, \"k/sum_c\": 0.4349465744814582, \"k*k_orig/k_worst\": 365.1360998898274, \"k/(k_worst-k_orig)\": 0.026900948530555125}, {\"Method\": \"Hillside(Massey Params)\", \"Year\": \"2017\", \"k\": 862.0, \"k_orig\": 28736.0, \"sum_c\": 1977.0, \"k_worst\": 54460.0, \"top_n\": 10, \"k/k_orig\": 0.029997216035634745, \"k/k_worst\": 0.015828130738156445, \"k/sum_c\": 0.43601416287303996, \"k*k_orig/k_worst\": 454.83716489166363, \"k/(k_worst-k_orig)\": 0.03350956305395739}, {\"Method\": \"Hillside(Massey Params)\", \"Year\": \"2017\", \"k\": 1040.0, \"k_orig\": 28736.0, \"sum_c\": 2435.0, \"k_worst\": 54460.0, \"top_n\": 11, \"k/k_orig\": 0.036191536748329624, \"k/k_worst\": 0.019096584649283876, \"k/sum_c\": 0.4271047227926078, \"k*k_orig/k_worst\": 548.7594564818215, \"k/(k_worst-k_orig)\": 0.04042917120199036}, {\"Method\": \"Hillside(Massey Params)\", \"Year\": \"2017\", \"k\": 1239.0, \"k_orig\": 28736.0, \"sum_c\": 2924.0, \"k_worst\": 54460.0, \"top_n\": 12, \"k/k_orig\": 0.04311664810690423, \"k/k_worst\": 0.02275064267352185, \"k/sum_c\": 0.423734610123119, \"k*k_orig/k_worst\": 653.762467866324, \"k/(k_worst-k_orig)\": 0.0481651376146789}, {\"Method\": \"Hillside(Massey Params)\", \"Year\": \"2017\", \"k\": 1518.0, \"k_orig\": 28736.0, \"sum_c\": 3576.0, \"k_worst\": 54460.0, \"top_n\": 13, \"k/k_orig\": 0.052825723830734965, \"k/k_worst\": 0.02787366874770474, \"k/sum_c\": 0.42449664429530204, \"k*k_orig/k_worst\": 800.9777451340433, \"k/(k_worst-k_orig)\": 0.05901104027367439}, {\"Method\": \"Hillside(Massey Params)\", \"Year\": \"2017\", \"k\": 1820.0, \"k_orig\": 28736.0, \"sum_c\": 4237.0, \"k_worst\": 54460.0, \"top_n\": 14, \"k/k_orig\": 0.06333518930957684, \"k/k_worst\": 0.033419023136246784, \"k/sum_c\": 0.4295492093462355, \"k*k_orig/k_worst\": 960.3290488431877, \"k/(k_worst-k_orig)\": 0.07075104960348313}, {\"Method\": \"Hillside(Massey Params)\", \"Year\": \"2017\", \"k\": 2164.0, \"k_orig\": 28736.0, \"sum_c\": 5044.0, \"k_worst\": 54460.0, \"top_n\": 15, \"k/k_orig\": 0.07530623608017817, \"k/k_worst\": 0.03973558575100992, \"k/sum_c\": 0.4290245836637589, \"k*k_orig/k_worst\": 1141.841792141021, \"k/(k_worst-k_orig)\": 0.08412377546260302}, {\"Method\": \"Hillside(Massey Params)\", \"Year\": \"2017\", \"k\": 2527.0, \"k_orig\": 28736.0, \"sum_c\": 5803.0, \"k_worst\": 54460.0, \"top_n\": 16, \"k/k_orig\": 0.08793847438752785, \"k/k_worst\": 0.04640102827763496, \"k/sum_c\": 0.43546441495778043, \"k*k_orig/k_worst\": 1333.3799485861182, \"k/(k_worst-k_orig)\": 0.09823511118022081}, {\"Method\": \"Hillside(Massey Params)\", \"Year\": \"2017\", \"k\": 2923.0, \"k_orig\": 28736.0, \"sum_c\": 6680.0, \"k_worst\": 54460.0, \"top_n\": 17, \"k/k_orig\": 0.10171909799554565, \"k/k_worst\": 0.053672420124862286, \"k/sum_c\": 0.4375748502994012, \"k*k_orig/k_worst\": 1542.3306647080426, \"k/(k_worst-k_orig)\": 0.11362929559944021}, {\"Method\": \"Hillside(Massey Params)\", \"Year\": \"2017\", \"k\": 3306.0, \"k_orig\": 28736.0, \"sum_c\": 7551.0, \"k_worst\": 54460.0, \"top_n\": 18, \"k/k_orig\": 0.11504732739420935, \"k/k_worst\": 0.06070510466397356, \"k/sum_c\": 0.4378228049264998, \"k*k_orig/k_worst\": 1744.4218876239443, \"k/(k_worst-k_orig)\": 0.12851811537863475}, {\"Method\": \"Hillside(Massey Params)\", \"Year\": \"2017\", \"k\": 3728.0, \"k_orig\": 28736.0, \"sum_c\": 8503.0, \"k_worst\": 54460.0, \"top_n\": 19, \"k/k_orig\": 0.1297327394209354, \"k/k_worst\": 0.06845391112743297, \"k/sum_c\": 0.4384334940609197, \"k*k_orig/k_worst\": 1967.091590157914, \"k/(k_worst-k_orig)\": 0.14492302907790391}, {\"Method\": \"Hillside(Massey Params)\", \"Year\": \"2017\", \"k\": 4161.0, \"k_orig\": 28736.0, \"sum_c\": 9522.0, \"k_worst\": 54460.0, \"top_n\": 20, \"k/k_orig\": 0.1448009465478842, \"k/k_worst\": 0.07640470069775983, \"k/sum_c\": 0.4369880277252678, \"k*k_orig/k_worst\": 2195.5654792508262, \"k/(k_worst-k_orig)\": 0.16175555901104027}, {\"Method\": \"Hillside(Massey Params)\", \"Year\": \"2017\", \"k\": 4380.0, \"k_orig\": 28736.0, \"sum_c\": 10083.0, \"k_worst\": 54460.0, \"top_n\": 21, \"k/k_orig\": 0.15242204899777284, \"k/k_worst\": 0.08042600073448403, \"k/sum_c\": 0.4343945254388575, \"k*k_orig/k_worst\": 2311.121557106133, \"k/(k_worst-k_orig)\": 0.17026900948530554}, {\"Method\": \"Hillside(Massey Params)\", \"Year\": \"2017\", \"k\": 4841.0, \"k_orig\": 28736.0, \"sum_c\": 11213.0, \"k_worst\": 54460.0, \"top_n\": 22, \"k/k_orig\": 0.16846464365256125, \"k/k_worst\": 0.08889092912229159, \"k/sum_c\": 0.43173102648711315, \"k*k_orig/k_worst\": 2554.369739258171, \"k/(k_worst-k_orig)\": 0.18819001710464936}, {\"Method\": \"Hillside(Massey Params)\", \"Year\": \"2017\", \"k\": 5214.0, \"k_orig\": 28736.0, \"sum_c\": 12228.0, \"k_worst\": 54460.0, \"top_n\": 23, \"k/k_orig\": 0.18144487750556793, \"k/k_worst\": 0.09573999265515976, \"k/sum_c\": 0.4263984298331698, \"k*k_orig/k_worst\": 2751.1844289386704, \"k/(k_worst-k_orig)\": 0.2026900948530555}, {\"Method\": \"Hillside(Massey Params)\", \"Year\": \"2017\", \"k\": 5627.0, \"k_orig\": 28736.0, \"sum_c\": 13286.0, \"k_worst\": 54460.0, \"top_n\": 24, \"k/k_orig\": 0.19581709354120266, \"k/k_worst\": 0.10332354021300037, \"k/sum_c\": 0.42352852626825227, \"k*k_orig/k_worst\": 2969.1052515607785, \"k/(k_worst-k_orig)\": 0.21874514072461515}, {\"Method\": \"Hillside(Massey Params)\", \"Year\": \"2017\", \"k\": 6191.0, \"k_orig\": 28736.0, \"sum_c\": 14595.0, \"k_worst\": 54460.0, \"top_n\": 25, \"k/k_orig\": 0.21544404231625836, \"k/k_worst\": 0.113679764965112, \"k/sum_c\": 0.42418636519355946, \"k*k_orig/k_worst\": 3266.7017260374587, \"k/(k_worst-k_orig)\": 0.24067019126107914}, {\"Method\": \"Hillside(Massey Params)\", \"Year\": \"2017\", \"k\": 6563.0, \"k_orig\": 28736.0, \"sum_c\": 15562.0, \"k_worst\": 54460.0, \"top_n\": 26, \"k/k_orig\": 0.22838947661469933, \"k/k_worst\": 0.12051046639735585, \"k/sum_c\": 0.42173242513815706, \"k*k_orig/k_worst\": 3462.988762394418, \"k/(k_worst-k_orig)\": 0.25513139480640645}, {\"Method\": \"Hillside(Massey Params)\", \"Year\": \"2017\", \"k\": 6806.0, \"k_orig\": 28736.0, \"sum_c\": 16164.0, \"k_worst\": 54460.0, \"top_n\": 27, \"k/k_orig\": 0.23684576837416482, \"k/k_worst\": 0.12497245684906354, \"k/sum_c\": 0.421059143776293, \"k*k_orig/k_worst\": 3591.20852001469, \"k/(k_worst-k_orig)\": 0.2645778261545638}, {\"Method\": \"Hillside(Massey Params)\", \"Year\": \"2017\", \"k\": 7255.0, \"k_orig\": 28736.0, \"sum_c\": 17367.0, \"k_worst\": 54460.0, \"top_n\": 28, \"k/k_orig\": 0.2524707683741648, \"k/k_worst\": 0.13321704002937937, \"k/sum_c\": 0.4177463004548857, \"k*k_orig/k_worst\": 3828.1248622842454, \"k/(k_worst-k_orig)\": 0.2820323433369616}, {\"Method\": \"Hillside(Massey Params)\", \"Year\": \"2017\", \"k\": 7826.0, \"k_orig\": 28736.0, \"sum_c\": 18790.0, \"k_worst\": 54460.0, \"top_n\": 29, \"k/k_orig\": 0.2723413140311804, \"k/k_worst\": 0.14370179948586118, \"k/sum_c\": 0.41649813730707824, \"k*k_orig/k_worst\": 4129.414910025707, \"k/(k_worst-k_orig)\": 0.30422951329497744}, {\"Method\": \"Hillside(Colley Params)\", \"Year\": \"2018\", \"k\": 21.0, \"k_orig\": 30196.0, \"sum_c\": 54.0, \"k_worst\": 52517.0, \"top_n\": 2, \"k/k_orig\": 0.0006954563518346801, \"k/k_worst\": 0.0003998705181179428, \"k/sum_c\": 0.3888888888888889, \"k*k_orig/k_worst\": 12.074490165089399, \"k/(k_worst-k_orig)\": 0.0009408180637068232}, {\"Method\": \"Hillside(Colley Params)\", \"Year\": \"2018\", \"k\": 64.0, \"k_orig\": 30196.0, \"sum_c\": 147.0, \"k_worst\": 52517.0, \"top_n\": 3, \"k/k_orig\": 0.002119486024639025, \"k/k_worst\": 0.0012186530075975399, \"k/sum_c\": 0.43537414965986393, \"k*k_orig/k_worst\": 36.79844621741531, \"k/(k_worst-k_orig)\": 0.002867255051296985}, {\"Method\": \"Hillside(Colley Params)\", \"Year\": \"2018\", \"k\": 140.0, \"k_orig\": 30196.0, \"sum_c\": 308.0, \"k_worst\": 52517.0, \"top_n\": 4, \"k/k_orig\": 0.0046363756788978675, \"k/k_worst\": 0.0026658034541196182, \"k/sum_c\": 0.45454545454545453, \"k*k_orig/k_worst\": 80.496601100596, \"k/(k_worst-k_orig)\": 0.006272120424712154}, {\"Method\": \"Hillside(Colley Params)\", \"Year\": \"2018\", \"k\": 214.0, \"k_orig\": 30196.0, \"sum_c\": 477.0, \"k_worst\": 52517.0, \"top_n\": 5, \"k/k_orig\": 0.00708703139488674, \"k/k_worst\": 0.004074870994154274, \"k/sum_c\": 0.44863731656184486, \"k*k_orig/k_worst\": 123.04480453948246, \"k/(k_worst-k_orig)\": 0.009587384077774293}, {\"Method\": \"Hillside(Colley Params)\", \"Year\": \"2018\", \"k\": 347.0, \"k_orig\": 30196.0, \"sum_c\": 759.0, \"k_worst\": 52517.0, \"top_n\": 6, \"k/k_orig\": 0.011491588289839713, \"k/k_worst\": 0.006607384275567911, \"k/sum_c\": 0.45718050065876153, \"k*k_orig/k_worst\": 199.51657558504866, \"k/(k_worst-k_orig)\": 0.01554589848125084}, {\"Method\": \"Hillside(Colley Params)\", \"Year\": \"2018\", \"k\": 485.0, \"k_orig\": 30196.0, \"sum_c\": 1062.0, \"k_worst\": 52517.0, \"top_n\": 7, \"k/k_orig\": 0.01606173003046761, \"k/k_worst\": 0.009235104823200106, \"k/sum_c\": 0.4566854990583804, \"k*k_orig/k_worst\": 278.8632252413504, \"k/(k_worst-k_orig)\": 0.021728417185609965}, {\"Method\": \"Hillside(Colley Params)\", \"Year\": \"2018\", \"k\": 645.0, \"k_orig\": 30196.0, \"sum_c\": 1399.0, \"k_worst\": 52517.0, \"top_n\": 8, \"k/k_orig\": 0.021360445092065174, \"k/k_worst\": 0.012281737342193956, \"k/sum_c\": 0.4610436025732666, \"k*k_orig/k_worst\": 370.85934078488873, \"k/(k_worst-k_orig)\": 0.028896554813852424}, {\"Method\": \"Hillside(Colley Params)\", \"Year\": \"2018\", \"k\": 736.0, \"k_orig\": 30196.0, \"sum_c\": 1600.0, \"k_worst\": 52517.0, \"top_n\": 9, \"k/k_orig\": 0.024374089283348787, \"k/k_worst\": 0.014014509587371708, \"k/sum_c\": 0.46, \"k*k_orig/k_worst\": 423.1821315002761, \"k/(k_worst-k_orig)\": 0.03297343308991533}, {\"Method\": \"Hillside(Colley Params)\", \"Year\": \"2018\", \"k\": 971.0, \"k_orig\": 30196.0, \"sum_c\": 2101.0, \"k_worst\": 52517.0, \"top_n\": 10, \"k/k_orig\": 0.03215657703007021, \"k/k_worst\": 0.018489251099643923, \"k/sum_c\": 0.4621608757734412, \"k*k_orig/k_worst\": 558.301426204848, \"k/(k_worst-k_orig)\": 0.04350163523139644}, {\"Method\": \"Hillside(Colley Params)\", \"Year\": \"2018\", \"k\": 1183.0, \"k_orig\": 30196.0, \"sum_c\": 2554.0, \"k_worst\": 52517.0, \"top_n\": 11, \"k/k_orig\": 0.039177374486686976, \"k/k_worst\": 0.022526039187310776, \"k/sum_c\": 0.46319498825371963, \"k*k_orig/k_worst\": 680.1962793000362, \"k/(k_worst-k_orig)\": 0.0529994175888177}, {\"Method\": \"Hillside(Colley Params)\", \"Year\": \"2018\", \"k\": 1422.0, \"k_orig\": 30196.0, \"sum_c\": 3099.0, \"k_worst\": 52517.0, \"top_n\": 12, \"k/k_orig\": 0.04709233010994834, \"k/k_worst\": 0.027076946512557837, \"k/sum_c\": 0.45885769603097776, \"k*k_orig/k_worst\": 817.6154768931965, \"k/(k_worst-k_orig)\": 0.06370682317100489}, {\"Method\": \"Hillside(Colley Params)\", \"Year\": \"2018\", \"k\": 1675.0, \"k_orig\": 30196.0, \"sum_c\": 3673.0, \"k_worst\": 52517.0, \"top_n\": 13, \"k/k_orig\": 0.055470923301099484, \"k/k_worst\": 0.031894434183216865, \"k/sum_c\": 0.4560304927851892, \"k*k_orig/k_worst\": 963.0843345964164, \"k/(k_worst-k_orig)\": 0.07504144079566327}, {\"Method\": \"Hillside(Colley Params)\", \"Year\": \"2018\", \"k\": 1977.0, \"k_orig\": 30196.0, \"sum_c\": 4358.0, \"k_worst\": 52517.0, \"top_n\": 14, \"k/k_orig\": 0.06547224797986488, \"k/k_worst\": 0.03764495306281775, \"k/sum_c\": 0.4536484625975218, \"k*k_orig/k_worst\": 1136.7270026848448, \"k/(k_worst-k_orig)\": 0.08857130056897092}, {\"Method\": \"Hillside(Colley Params)\", \"Year\": \"2018\", \"k\": 2264.0, \"k_orig\": 30196.0, \"sum_c\": 4956.0, \"k_worst\": 52517.0, \"top_n\": 15, \"k/k_orig\": 0.0749768181216055, \"k/k_worst\": 0.04310985014376297, \"k/sum_c\": 0.45682001614205003, \"k*k_orig/k_worst\": 1301.7450349410667, \"k/(k_worst-k_orig)\": 0.10142914743963084}, {\"Method\": \"Hillside(Colley Params)\", \"Year\": \"2018\", \"k\": 2602.0, \"k_orig\": 30196.0, \"sum_c\": 5728.0, \"k_worst\": 52517.0, \"top_n\": 16, \"k/k_orig\": 0.08617035368923036, \"k/k_worst\": 0.04954586134013748, \"k/sum_c\": 0.45425977653631283, \"k*k_orig/k_worst\": 1496.0868290267913, \"k/(k_worst-k_orig)\": 0.11657183817929304}, {\"Method\": \"Hillside(Colley Params)\", \"Year\": \"2018\", \"k\": 3005.0, \"k_orig\": 30196.0, \"sum_c\": 6582.0, \"k_worst\": 52517.0, \"top_n\": 17, \"k/k_orig\": 0.09951649225062922, \"k/k_worst\": 0.05721956699735324, \"k/sum_c\": 0.456548161652993, \"k*k_orig/k_worst\": 1727.8020450520785, \"k/(k_worst-k_orig)\": 0.13462658483042875}, {\"Method\": \"Hillside(Colley Params)\", \"Year\": \"2018\", \"k\": 3358.0, \"k_orig\": 30196.0, \"sum_c\": 7415.0, \"k_worst\": 52517.0, \"top_n\": 18, \"k/k_orig\": 0.11120678235527884, \"k/k_worst\": 0.06394119999238342, \"k/sum_c\": 0.4528658125421443, \"k*k_orig/k_worst\": 1930.7684749700097, \"k/(k_worst-k_orig)\": 0.1504412884727387}, {\"Method\": \"Hillside(Colley Params)\", \"Year\": \"2018\", \"k\": 3769.0, \"k_orig\": 30196.0, \"sum_c\": 8325.0, \"k_worst\": 52517.0, \"top_n\": 19, \"k/k_orig\": 0.12481785666975759, \"k/k_worst\": 0.07176723727554887, \"k/sum_c\": 0.45273273273273273, \"k*k_orig/k_worst\": 2167.0834967724736, \"k/(k_worst-k_orig)\": 0.16885444200528651}, {\"Method\": \"Hillside(Colley Params)\", \"Year\": \"2018\", \"k\": 4014.0, \"k_orig\": 30196.0, \"sum_c\": 8920.0, \"k_worst\": 52517.0, \"top_n\": 20, \"k/k_orig\": 0.13293151410782886, \"k/k_worst\": 0.0764323933202582, \"k/sum_c\": 0.45, \"k*k_orig/k_worst\": 2307.9525486985167, \"k/(k_worst-k_orig)\": 0.17983065274853277}, {\"Method\": \"Hillside(Colley Params)\", \"Year\": \"2018\", \"k\": 4451.0, \"k_orig\": 30196.0, \"sum_c\": 9970.0, \"k_worst\": 52517.0, \"top_n\": 21, \"k/k_orig\": 0.1474036296198172, \"k/k_worst\": 0.08475350838776015, \"k/sum_c\": 0.4464393179538616, \"k*k_orig/k_worst\": 2559.2169392768055, \"k/(k_worst-k_orig)\": 0.19940862864567}, {\"Method\": \"Hillside(Colley Params)\", \"Year\": \"2018\", \"k\": 4920.0, \"k_orig\": 30196.0, \"sum_c\": 11053.0, \"k_worst\": 52517.0, \"top_n\": 22, \"k/k_orig\": 0.16293548814412506, \"k/k_worst\": 0.09368394995906087, \"k/sum_c\": 0.4451280195422057, \"k*k_orig/k_worst\": 2828.880552963802, \"k/(k_worst-k_orig)\": 0.2204202320684557}, {\"Method\": \"Hillside(Colley Params)\", \"Year\": \"2018\", \"k\": 5404.0, \"k_orig\": 30196.0, \"sum_c\": 12173.0, \"k_worst\": 52517.0, \"top_n\": 23, \"k/k_orig\": 0.17896410120545767, \"k/k_worst\": 0.10290001332901727, \"k/sum_c\": 0.4439332949971248, \"k*k_orig/k_worst\": 3107.1688024830055, \"k/(k_worst-k_orig)\": 0.24210384839388915}, {\"Method\": \"Hillside(Colley Params)\", \"Year\": \"2018\", \"k\": 5883.0, \"k_orig\": 30196.0, \"sum_c\": 13267.0, \"k_worst\": 52517.0, \"top_n\": 24, \"k/k_orig\": 0.19482712942111538, \"k/k_worst\": 0.1120208694327551, \"k/sum_c\": 0.4434310695711163, \"k*k_orig/k_worst\": 3382.582173391473, \"k/(k_worst-k_orig)\": 0.26356346041844003}, {\"Method\": \"Hillside(Colley Params)\", \"Year\": \"2018\", \"k\": 6368.0, \"k_orig\": 30196.0, \"sum_c\": 14454.0, \"k_worst\": 52517.0, \"top_n\": 25, \"k/k_orig\": 0.21088885945158298, \"k/k_worst\": 0.12125597425595522, \"k/sum_c\": 0.44057008440570083, \"k*k_orig/k_worst\": 3661.4453986328235, \"k/(k_worst-k_orig)\": 0.28529187760405}, {\"Method\": \"Hillside(Colley Params)\", \"Year\": \"2018\", \"k\": 6996.0, \"k_orig\": 30196.0, \"sum_c\": 15864.0, \"k_worst\": 52517.0, \"top_n\": 26, \"k/k_orig\": 0.23168631606835344, \"k/k_worst\": 0.13321400689300608, \"k/sum_c\": 0.4409984871406959, \"k*k_orig/k_worst\": 4022.5301521412116, \"k/(k_worst-k_orig)\": 0.31342681779490167}, {\"Method\": \"Hillside(Colley Params)\", \"Year\": \"2018\", \"k\": 7556.0, \"k_orig\": 30196.0, \"sum_c\": 17122.0, \"k_worst\": 52517.0, \"top_n\": 27, \"k/k_orig\": 0.2502318187839449, \"k/k_worst\": 0.14387722070948455, \"k/sum_c\": 0.4413035860296694, \"k*k_orig/k_worst\": 4344.5165565435955, \"k/(k_worst-k_orig)\": 0.33851529949375025}, {\"Method\": \"Hillside(Colley Params)\", \"Year\": \"2018\", \"k\": 8165.0, \"k_orig\": 30196.0, \"sum_c\": 18646.0, \"k_worst\": 52517.0, \"top_n\": 28, \"k/k_orig\": 0.27040005298715064, \"k/k_worst\": 0.1554734657349049, \"k/sum_c\": 0.4378955271908184, \"k*k_orig/k_worst\": 4694.676771331188, \"k/(k_worst-k_orig)\": 0.36579902334124814}, {\"Method\": \"Hillside(Colley Params)\", \"Year\": \"2018\", \"k\": 8726.0, \"k_orig\": 30196.0, \"sum_c\": 19891.0, \"k_worst\": 52517.0, \"top_n\": 29, \"k/k_orig\": 0.28897867267187705, \"k/k_worst\": 0.16615572100462708, \"k/sum_c\": 0.43869086521542405, \"k*k_orig/k_worst\": 5017.238151455719, \"k/(k_worst-k_orig)\": 0.3909323059002733}, {\"Method\": \"Hillside(Massey Params)\", \"Year\": \"2018\", \"k\": 21.0, \"k_orig\": 30196.0, \"sum_c\": 54.0, \"k_worst\": 52517.0, \"top_n\": 2, \"k/k_orig\": 0.0006954563518346801, \"k/k_worst\": 0.0003998705181179428, \"k/sum_c\": 0.3888888888888889, \"k*k_orig/k_worst\": 12.074490165089399, \"k/(k_worst-k_orig)\": 0.0009408180637068232}, {\"Method\": \"Hillside(Massey Params)\", \"Year\": \"2018\", \"k\": 64.0, \"k_orig\": 30196.0, \"sum_c\": 147.0, \"k_worst\": 52517.0, \"top_n\": 3, \"k/k_orig\": 0.002119486024639025, \"k/k_worst\": 0.0012186530075975399, \"k/sum_c\": 0.43537414965986393, \"k*k_orig/k_worst\": 36.79844621741531, \"k/(k_worst-k_orig)\": 0.002867255051296985}, {\"Method\": \"Hillside(Massey Params)\", \"Year\": \"2018\", \"k\": 140.0, \"k_orig\": 30196.0, \"sum_c\": 308.0, \"k_worst\": 52517.0, \"top_n\": 4, \"k/k_orig\": 0.0046363756788978675, \"k/k_worst\": 0.0026658034541196182, \"k/sum_c\": 0.45454545454545453, \"k*k_orig/k_worst\": 80.496601100596, \"k/(k_worst-k_orig)\": 0.006272120424712154}, {\"Method\": \"Hillside(Massey Params)\", \"Year\": \"2018\", \"k\": 214.0, \"k_orig\": 30196.0, \"sum_c\": 477.0, \"k_worst\": 52517.0, \"top_n\": 5, \"k/k_orig\": 0.00708703139488674, \"k/k_worst\": 0.004074870994154274, \"k/sum_c\": 0.44863731656184486, \"k*k_orig/k_worst\": 123.04480453948246, \"k/(k_worst-k_orig)\": 0.009587384077774293}, {\"Method\": \"Hillside(Massey Params)\", \"Year\": \"2018\", \"k\": 347.0, \"k_orig\": 30196.0, \"sum_c\": 759.0, \"k_worst\": 52517.0, \"top_n\": 6, \"k/k_orig\": 0.011491588289839713, \"k/k_worst\": 0.006607384275567911, \"k/sum_c\": 0.45718050065876153, \"k*k_orig/k_worst\": 199.51657558504866, \"k/(k_worst-k_orig)\": 0.01554589848125084}, {\"Method\": \"Hillside(Massey Params)\", \"Year\": \"2018\", \"k\": 485.0, \"k_orig\": 30196.0, \"sum_c\": 1062.0, \"k_worst\": 52517.0, \"top_n\": 7, \"k/k_orig\": 0.01606173003046761, \"k/k_worst\": 0.009235104823200106, \"k/sum_c\": 0.4566854990583804, \"k*k_orig/k_worst\": 278.8632252413504, \"k/(k_worst-k_orig)\": 0.021728417185609965}, {\"Method\": \"Hillside(Massey Params)\", \"Year\": \"2018\", \"k\": 645.0, \"k_orig\": 30196.0, \"sum_c\": 1399.0, \"k_worst\": 52517.0, \"top_n\": 8, \"k/k_orig\": 0.021360445092065174, \"k/k_worst\": 0.012281737342193956, \"k/sum_c\": 0.4610436025732666, \"k*k_orig/k_worst\": 370.85934078488873, \"k/(k_worst-k_orig)\": 0.028896554813852424}, {\"Method\": \"Hillside(Massey Params)\", \"Year\": \"2018\", \"k\": 736.0, \"k_orig\": 30196.0, \"sum_c\": 1600.0, \"k_worst\": 52517.0, \"top_n\": 9, \"k/k_orig\": 0.024374089283348787, \"k/k_worst\": 0.014014509587371708, \"k/sum_c\": 0.46, \"k*k_orig/k_worst\": 423.1821315002761, \"k/(k_worst-k_orig)\": 0.03297343308991533}, {\"Method\": \"Hillside(Massey Params)\", \"Year\": \"2018\", \"k\": 971.0, \"k_orig\": 30196.0, \"sum_c\": 2101.0, \"k_worst\": 52517.0, \"top_n\": 10, \"k/k_orig\": 0.03215657703007021, \"k/k_worst\": 0.018489251099643923, \"k/sum_c\": 0.4621608757734412, \"k*k_orig/k_worst\": 558.301426204848, \"k/(k_worst-k_orig)\": 0.04350163523139644}, {\"Method\": \"Hillside(Massey Params)\", \"Year\": \"2018\", \"k\": 1183.0, \"k_orig\": 30196.0, \"sum_c\": 2554.0, \"k_worst\": 52517.0, \"top_n\": 11, \"k/k_orig\": 0.039177374486686976, \"k/k_worst\": 0.022526039187310776, \"k/sum_c\": 0.46319498825371963, \"k*k_orig/k_worst\": 680.1962793000362, \"k/(k_worst-k_orig)\": 0.0529994175888177}, {\"Method\": \"Hillside(Massey Params)\", \"Year\": \"2018\", \"k\": 1422.0, \"k_orig\": 30196.0, \"sum_c\": 3099.0, \"k_worst\": 52517.0, \"top_n\": 12, \"k/k_orig\": 0.04709233010994834, \"k/k_worst\": 0.027076946512557837, \"k/sum_c\": 0.45885769603097776, \"k*k_orig/k_worst\": 817.6154768931965, \"k/(k_worst-k_orig)\": 0.06370682317100489}, {\"Method\": \"Hillside(Massey Params)\", \"Year\": \"2018\", \"k\": 1675.0, \"k_orig\": 30196.0, \"sum_c\": 3673.0, \"k_worst\": 52517.0, \"top_n\": 13, \"k/k_orig\": 0.055470923301099484, \"k/k_worst\": 0.031894434183216865, \"k/sum_c\": 0.4560304927851892, \"k*k_orig/k_worst\": 963.0843345964164, \"k/(k_worst-k_orig)\": 0.07504144079566327}, {\"Method\": \"Hillside(Massey Params)\", \"Year\": \"2018\", \"k\": 1977.0, \"k_orig\": 30196.0, \"sum_c\": 4358.0, \"k_worst\": 52517.0, \"top_n\": 14, \"k/k_orig\": 0.06547224797986488, \"k/k_worst\": 0.03764495306281775, \"k/sum_c\": 0.4536484625975218, \"k*k_orig/k_worst\": 1136.7270026848448, \"k/(k_worst-k_orig)\": 0.08857130056897092}, {\"Method\": \"Hillside(Massey Params)\", \"Year\": \"2018\", \"k\": 2264.0, \"k_orig\": 30196.0, \"sum_c\": 4956.0, \"k_worst\": 52517.0, \"top_n\": 15, \"k/k_orig\": 0.0749768181216055, \"k/k_worst\": 0.04310985014376297, \"k/sum_c\": 0.45682001614205003, \"k*k_orig/k_worst\": 1301.7450349410667, \"k/(k_worst-k_orig)\": 0.10142914743963084}, {\"Method\": \"Hillside(Massey Params)\", \"Year\": \"2018\", \"k\": 2602.0, \"k_orig\": 30196.0, \"sum_c\": 5728.0, \"k_worst\": 52517.0, \"top_n\": 16, \"k/k_orig\": 0.08617035368923036, \"k/k_worst\": 0.04954586134013748, \"k/sum_c\": 0.45425977653631283, \"k*k_orig/k_worst\": 1496.0868290267913, \"k/(k_worst-k_orig)\": 0.11657183817929304}, {\"Method\": \"Hillside(Massey Params)\", \"Year\": \"2018\", \"k\": 3005.0, \"k_orig\": 30196.0, \"sum_c\": 6582.0, \"k_worst\": 52517.0, \"top_n\": 17, \"k/k_orig\": 0.09951649225062922, \"k/k_worst\": 0.05721956699735324, \"k/sum_c\": 0.456548161652993, \"k*k_orig/k_worst\": 1727.8020450520785, \"k/(k_worst-k_orig)\": 0.13462658483042875}, {\"Method\": \"Hillside(Massey Params)\", \"Year\": \"2018\", \"k\": 3358.0, \"k_orig\": 30196.0, \"sum_c\": 7415.0, \"k_worst\": 52517.0, \"top_n\": 18, \"k/k_orig\": 0.11120678235527884, \"k/k_worst\": 0.06394119999238342, \"k/sum_c\": 0.4528658125421443, \"k*k_orig/k_worst\": 1930.7684749700097, \"k/(k_worst-k_orig)\": 0.1504412884727387}, {\"Method\": \"Hillside(Massey Params)\", \"Year\": \"2018\", \"k\": 3769.0, \"k_orig\": 30196.0, \"sum_c\": 8325.0, \"k_worst\": 52517.0, \"top_n\": 19, \"k/k_orig\": 0.12481785666975759, \"k/k_worst\": 0.07176723727554887, \"k/sum_c\": 0.45273273273273273, \"k*k_orig/k_worst\": 2167.0834967724736, \"k/(k_worst-k_orig)\": 0.16885444200528651}, {\"Method\": \"Hillside(Massey Params)\", \"Year\": \"2018\", \"k\": 4014.0, \"k_orig\": 30196.0, \"sum_c\": 8920.0, \"k_worst\": 52517.0, \"top_n\": 20, \"k/k_orig\": 0.13293151410782886, \"k/k_worst\": 0.0764323933202582, \"k/sum_c\": 0.45, \"k*k_orig/k_worst\": 2307.9525486985167, \"k/(k_worst-k_orig)\": 0.17983065274853277}, {\"Method\": \"Hillside(Massey Params)\", \"Year\": \"2018\", \"k\": 4451.0, \"k_orig\": 30196.0, \"sum_c\": 9970.0, \"k_worst\": 52517.0, \"top_n\": 21, \"k/k_orig\": 0.1474036296198172, \"k/k_worst\": 0.08475350838776015, \"k/sum_c\": 0.4464393179538616, \"k*k_orig/k_worst\": 2559.2169392768055, \"k/(k_worst-k_orig)\": 0.19940862864567}, {\"Method\": \"Hillside(Massey Params)\", \"Year\": \"2018\", \"k\": 4920.0, \"k_orig\": 30196.0, \"sum_c\": 11053.0, \"k_worst\": 52517.0, \"top_n\": 22, \"k/k_orig\": 0.16293548814412506, \"k/k_worst\": 0.09368394995906087, \"k/sum_c\": 0.4451280195422057, \"k*k_orig/k_worst\": 2828.880552963802, \"k/(k_worst-k_orig)\": 0.2204202320684557}, {\"Method\": \"Hillside(Massey Params)\", \"Year\": \"2018\", \"k\": 5404.0, \"k_orig\": 30196.0, \"sum_c\": 12173.0, \"k_worst\": 52517.0, \"top_n\": 23, \"k/k_orig\": 0.17896410120545767, \"k/k_worst\": 0.10290001332901727, \"k/sum_c\": 0.4439332949971248, \"k*k_orig/k_worst\": 3107.1688024830055, \"k/(k_worst-k_orig)\": 0.24210384839388915}, {\"Method\": \"Hillside(Massey Params)\", \"Year\": \"2018\", \"k\": 5883.0, \"k_orig\": 30196.0, \"sum_c\": 13267.0, \"k_worst\": 52517.0, \"top_n\": 24, \"k/k_orig\": 0.19482712942111538, \"k/k_worst\": 0.1120208694327551, \"k/sum_c\": 0.4434310695711163, \"k*k_orig/k_worst\": 3382.582173391473, \"k/(k_worst-k_orig)\": 0.26356346041844003}, {\"Method\": \"Hillside(Massey Params)\", \"Year\": \"2018\", \"k\": 6368.0, \"k_orig\": 30196.0, \"sum_c\": 14454.0, \"k_worst\": 52517.0, \"top_n\": 25, \"k/k_orig\": 0.21088885945158298, \"k/k_worst\": 0.12125597425595522, \"k/sum_c\": 0.44057008440570083, \"k*k_orig/k_worst\": 3661.4453986328235, \"k/(k_worst-k_orig)\": 0.28529187760405}, {\"Method\": \"Hillside(Massey Params)\", \"Year\": \"2018\", \"k\": 6996.0, \"k_orig\": 30196.0, \"sum_c\": 15864.0, \"k_worst\": 52517.0, \"top_n\": 26, \"k/k_orig\": 0.23168631606835344, \"k/k_worst\": 0.13321400689300608, \"k/sum_c\": 0.4409984871406959, \"k*k_orig/k_worst\": 4022.5301521412116, \"k/(k_worst-k_orig)\": 0.31342681779490167}, {\"Method\": \"Hillside(Massey Params)\", \"Year\": \"2018\", \"k\": 7556.0, \"k_orig\": 30196.0, \"sum_c\": 17122.0, \"k_worst\": 52517.0, \"top_n\": 27, \"k/k_orig\": 0.2502318187839449, \"k/k_worst\": 0.14387722070948455, \"k/sum_c\": 0.4413035860296694, \"k*k_orig/k_worst\": 4344.5165565435955, \"k/(k_worst-k_orig)\": 0.33851529949375025}, {\"Method\": \"Hillside(Massey Params)\", \"Year\": \"2018\", \"k\": 8165.0, \"k_orig\": 30196.0, \"sum_c\": 18646.0, \"k_worst\": 52517.0, \"top_n\": 28, \"k/k_orig\": 0.27040005298715064, \"k/k_worst\": 0.1554734657349049, \"k/sum_c\": 0.4378955271908184, \"k*k_orig/k_worst\": 4694.676771331188, \"k/(k_worst-k_orig)\": 0.36579902334124814}, {\"Method\": \"Hillside(Massey Params)\", \"Year\": \"2018\", \"k\": 8726.0, \"k_orig\": 30196.0, \"sum_c\": 19891.0, \"k_worst\": 52517.0, \"top_n\": 29, \"k/k_orig\": 0.28897867267187705, \"k/k_worst\": 0.16615572100462708, \"k/sum_c\": 0.43869086521542405, \"k*k_orig/k_worst\": 5017.238151455719, \"k/(k_worst-k_orig)\": 0.3909323059002733}]}}, {\"mode\": \"vega-lite\"});\n",
       "</script>"
      ],
      "text/plain": [
       "alt.FacetChart(...)"
      ]
     },
     "execution_count": 429,
     "metadata": {},
     "output_type": "execute_result"
    }
   ],
   "source": [
    "import altair as alt\n",
    "alt.Chart(graph_df).mark_line().encode(\n",
    "    x='top_n',\n",
    "    y='k',\n",
    "    color='Year'\n",
    ").facet(row='Method')"
   ]
  },
  {
   "cell_type": "code",
   "execution_count": 439,
   "metadata": {},
   "outputs": [
    {
     "data": {
      "text/html": [
       "\n",
       "<div id=\"altair-viz-75c54aa3df3d4c58a10dfee5fbe1c727\"></div>\n",
       "<script type=\"text/javascript\">\n",
       "  (function(spec, embedOpt){\n",
       "    let outputDiv = document.currentScript.previousElementSibling;\n",
       "    if (outputDiv.id !== \"altair-viz-75c54aa3df3d4c58a10dfee5fbe1c727\") {\n",
       "      outputDiv = document.getElementById(\"altair-viz-75c54aa3df3d4c58a10dfee5fbe1c727\");\n",
       "    }\n",
       "    const paths = {\n",
       "      \"vega\": \"https://cdn.jsdelivr.net/npm//vega@5?noext\",\n",
       "      \"vega-lib\": \"https://cdn.jsdelivr.net/npm//vega-lib?noext\",\n",
       "      \"vega-lite\": \"https://cdn.jsdelivr.net/npm//vega-lite@4.8.1?noext\",\n",
       "      \"vega-embed\": \"https://cdn.jsdelivr.net/npm//vega-embed@6?noext\",\n",
       "    };\n",
       "\n",
       "    function loadScript(lib) {\n",
       "      return new Promise(function(resolve, reject) {\n",
       "        var s = document.createElement('script');\n",
       "        s.src = paths[lib];\n",
       "        s.async = true;\n",
       "        s.onload = () => resolve(paths[lib]);\n",
       "        s.onerror = () => reject(`Error loading script: ${paths[lib]}`);\n",
       "        document.getElementsByTagName(\"head\")[0].appendChild(s);\n",
       "      });\n",
       "    }\n",
       "\n",
       "    function showError(err) {\n",
       "      outputDiv.innerHTML = `<div class=\"error\" style=\"color:red;\">${err}</div>`;\n",
       "      throw err;\n",
       "    }\n",
       "\n",
       "    function displayChart(vegaEmbed) {\n",
       "      vegaEmbed(outputDiv, spec, embedOpt)\n",
       "        .catch(err => showError(`Javascript Error: ${err.message}<br>This usually means there's a typo in your chart specification. See the javascript console for the full traceback.`));\n",
       "    }\n",
       "\n",
       "    if(typeof define === \"function\" && define.amd) {\n",
       "      requirejs.config({paths});\n",
       "      require([\"vega-embed\"], displayChart, err => showError(`Error loading script: ${err.message}`));\n",
       "    } else if (typeof vegaEmbed === \"function\") {\n",
       "      displayChart(vegaEmbed);\n",
       "    } else {\n",
       "      loadScript(\"vega\")\n",
       "        .then(() => loadScript(\"vega-lite\"))\n",
       "        .then(() => loadScript(\"vega-embed\"))\n",
       "        .catch(showError)\n",
       "        .then(() => displayChart(vegaEmbed));\n",
       "    }\n",
       "  })({\"config\": {\"view\": {\"continuousWidth\": 400, \"continuousHeight\": 300}}, \"data\": {\"name\": \"data-c46a44d28a17fb6a9bc91d1df7a6acf2\"}, \"facet\": {\"row\": {\"type\": \"nominal\", \"field\": \"Method\"}}, \"spec\": {\"mark\": \"line\", \"encoding\": {\"color\": {\"type\": \"nominal\", \"field\": \"Year\"}, \"x\": {\"type\": \"quantitative\", \"field\": \"top_n\"}, \"y\": {\"type\": \"quantitative\", \"field\": \"k\"}}}, \"$schema\": \"https://vega.github.io/schema/vega-lite/v4.8.1.json\", \"datasets\": {\"data-c46a44d28a17fb6a9bc91d1df7a6acf2\": [{\"Method\": \"Hillside(Colley Params)\", \"Year\": \"2002\", \"k\": 14.0, \"k_orig\": 26752.0, \"sum_c\": 44.0, \"k_worst\": 47643.0, \"top_n\": 2, \"k/k_orig\": 0.0005233253588516747, \"k/k_worst\": 0.00029385219234724934, \"k/sum_c\": 0.3181818181818182, \"k*k_orig/k_worst\": 7.861133849673614, \"k/(k_worst-k_orig)\": 0.0006701450385333397}, {\"Method\": \"Hillside(Colley Params)\", \"Year\": \"2002\", \"k\": 58.0, \"k_orig\": 26752.0, \"sum_c\": 137.0, \"k_worst\": 47643.0, \"top_n\": 3, \"k/k_orig\": 0.002168062200956938, \"k/k_worst\": 0.0012173876540100329, \"k/sum_c\": 0.4233576642335766, \"k*k_orig/k_worst\": 32.5675545200764, \"k/(k_worst-k_orig)\": 0.002776315159638122}, {\"Method\": \"Hillside(Colley Params)\", \"Year\": \"2002\", \"k\": 106.0, \"k_orig\": 26752.0, \"sum_c\": 248.0, \"k_worst\": 47643.0, \"top_n\": 4, \"k/k_orig\": 0.003962320574162679, \"k/k_worst\": 0.0022248808849148877, \"k/sum_c\": 0.4274193548387097, \"k*k_orig/k_worst\": 59.52001343324308, \"k/(k_worst-k_orig)\": 0.005073955291752429}, {\"Method\": \"Hillside(Colley Params)\", \"Year\": \"2002\", \"k\": 176.0, \"k_orig\": 26752.0, \"sum_c\": 415.0, \"k_worst\": 47643.0, \"top_n\": 5, \"k/k_orig\": 0.006578947368421052, \"k/k_worst\": 0.0036941418466511344, \"k/sum_c\": 0.42409638554216866, \"k*k_orig/k_worst\": 98.82568268161116, \"k/(k_worst-k_orig)\": 0.008424680484419128}, {\"Method\": \"Hillside(Colley Params)\", \"Year\": \"2002\", \"k\": 271.0, \"k_orig\": 26752.0, \"sum_c\": 623.0, \"k_worst\": 47643.0, \"top_n\": 6, \"k/k_orig\": 0.010130083732057416, \"k/k_worst\": 0.0056881388661503265, \"k/sum_c\": 0.434991974317817, \"k*k_orig/k_worst\": 152.16909094725352, \"k/(k_worst-k_orig)\": 0.012972093245895362}, {\"Method\": \"Hillside(Colley Params)\", \"Year\": \"2002\", \"k\": 377.0, \"k_orig\": 26752.0, \"sum_c\": 870.0, \"k_worst\": 47643.0, \"top_n\": 7, \"k/k_orig\": 0.014092404306220096, \"k/k_worst\": 0.007913019751065214, \"k/sum_c\": 0.43333333333333335, \"k*k_orig/k_worst\": 211.68910438049662, \"k/(k_worst-k_orig)\": 0.01804604853764779}, {\"Method\": \"Hillside(Colley Params)\", \"Year\": \"2002\", \"k\": 517.0, \"k_orig\": 26752.0, \"sum_c\": 1188.0, \"k_worst\": 47643.0, \"top_n\": 8, \"k/k_orig\": 0.019325657894736843, \"k/k_worst\": 0.010851541674537708, \"k/sum_c\": 0.4351851851851852, \"k*k_orig/k_worst\": 290.30044287723274, \"k/(k_worst-k_orig)\": 0.024747498922981188}, {\"Method\": \"Hillside(Colley Params)\", \"Year\": \"2002\", \"k\": 655.0, \"k_orig\": 26752.0, \"sum_c\": 1509.0, \"k_worst\": 47643.0, \"top_n\": 9, \"k/k_orig\": 0.024484150717703348, \"k/k_worst\": 0.013748084713389164, \"k/sum_c\": 0.4340622929092114, \"k*k_orig/k_worst\": 367.78876225258693, \"k/(k_worst-k_orig)\": 0.03135321430280982}, {\"Method\": \"Hillside(Colley Params)\", \"Year\": \"2002\", \"k\": 839.0, \"k_orig\": 26752.0, \"sum_c\": 1930.0, \"k_worst\": 47643.0, \"top_n\": 10, \"k/k_orig\": 0.03136214114832536, \"k/k_worst\": 0.01761014209852444, \"k/sum_c\": 0.4347150259067358, \"k*k_orig/k_worst\": 471.1065214197259, \"k/(k_worst-k_orig)\": 0.040160834809248}, {\"Method\": \"Hillside(Colley Params)\", \"Year\": \"2002\", \"k\": 1041.0, \"k_orig\": 26752.0, \"sum_c\": 2409.0, \"k_worst\": 47643.0, \"top_n\": 11, \"k/k_orig\": 0.038912978468899524, \"k/k_worst\": 0.02185000944524904, \"k/sum_c\": 0.43212951432129515, \"k*k_orig/k_worst\": 584.5314526793023, \"k/(k_worst-k_orig)\": 0.049830070365229046}, {\"Method\": \"Hillside(Colley Params)\", \"Year\": \"2002\", \"k\": 1244.0, \"k_orig\": 26752.0, \"sum_c\": 2889.0, \"k_worst\": 47643.0, \"top_n\": 12, \"k/k_orig\": 0.04650119617224881, \"k/k_worst\": 0.026110866234284155, \"k/sum_c\": 0.4305988231221876, \"k*k_orig/k_worst\": 698.5178934995697, \"k/(k_worst-k_orig)\": 0.05954717342396247}, {\"Method\": \"Hillside(Colley Params)\", \"Year\": \"2002\", \"k\": 1496.0, \"k_orig\": 26752.0, \"sum_c\": 3487.0, \"k_worst\": 47643.0, \"top_n\": 13, \"k/k_orig\": 0.05592105263157895, \"k/k_worst\": 0.03140020569653464, \"k/sum_c\": 0.42902208201892744, \"k*k_orig/k_worst\": 840.0183027936947, \"k/(k_worst-k_orig)\": 0.07160978411756258}, {\"Method\": \"Hillside(Colley Params)\", \"Year\": \"2002\", \"k\": 1767.0, \"k_orig\": 26752.0, \"sum_c\": 4082.0, \"k_worst\": 47643.0, \"top_n\": 14, \"k/k_orig\": 0.06605113636363637, \"k/k_worst\": 0.03708834456268497, \"k/sum_c\": 0.4328760411562959, \"k*k_orig/k_worst\": 992.1873937409483, \"k/(k_worst-k_orig)\": 0.08458187736345794}, {\"Method\": \"Hillside(Colley Params)\", \"Year\": \"2002\", \"k\": 2050.0, \"k_orig\": 26752.0, \"sum_c\": 4740.0, \"k_worst\": 47643.0, \"top_n\": 15, \"k/k_orig\": 0.07662978468899521, \"k/k_worst\": 0.04302835673656151, \"k/sum_c\": 0.43248945147679324, \"k*k_orig/k_worst\": 1151.0945994164936, \"k/(k_worst-k_orig)\": 0.09812838064238188}, {\"Method\": \"Hillside(Colley Params)\", \"Year\": \"2002\", \"k\": 2339.0, \"k_orig\": 26752.0, \"sum_c\": 5424.0, \"k_worst\": 47643.0, \"top_n\": 16, \"k/k_orig\": 0.08743271531100479, \"k/k_worst\": 0.04909430556430116, \"k/sum_c\": 0.4312315634218289, \"k*k_orig/k_worst\": 1313.3708624561846, \"k/(k_worst-k_orig)\": 0.11196208893782011}, {\"Method\": \"Hillside(Massey Params)\", \"Year\": \"2002\", \"k\": 14.0, \"k_orig\": 26752.0, \"sum_c\": 44.0, \"k_worst\": 47643.0, \"top_n\": 2, \"k/k_orig\": 0.0005233253588516747, \"k/k_worst\": 0.00029385219234724934, \"k/sum_c\": 0.3181818181818182, \"k*k_orig/k_worst\": 7.861133849673614, \"k/(k_worst-k_orig)\": 0.0006701450385333397}, {\"Method\": \"Hillside(Massey Params)\", \"Year\": \"2002\", \"k\": 58.0, \"k_orig\": 26752.0, \"sum_c\": 137.0, \"k_worst\": 47643.0, \"top_n\": 3, \"k/k_orig\": 0.002168062200956938, \"k/k_worst\": 0.0012173876540100329, \"k/sum_c\": 0.4233576642335766, \"k*k_orig/k_worst\": 32.5675545200764, \"k/(k_worst-k_orig)\": 0.002776315159638122}, {\"Method\": \"Hillside(Massey Params)\", \"Year\": \"2002\", \"k\": 106.0, \"k_orig\": 26752.0, \"sum_c\": 248.0, \"k_worst\": 47643.0, \"top_n\": 4, \"k/k_orig\": 0.003962320574162679, \"k/k_worst\": 0.0022248808849148877, \"k/sum_c\": 0.4274193548387097, \"k*k_orig/k_worst\": 59.52001343324308, \"k/(k_worst-k_orig)\": 0.005073955291752429}, {\"Method\": \"Hillside(Massey Params)\", \"Year\": \"2002\", \"k\": 176.0, \"k_orig\": 26752.0, \"sum_c\": 415.0, \"k_worst\": 47643.0, \"top_n\": 5, \"k/k_orig\": 0.006578947368421052, \"k/k_worst\": 0.0036941418466511344, \"k/sum_c\": 0.42409638554216866, \"k*k_orig/k_worst\": 98.82568268161116, \"k/(k_worst-k_orig)\": 0.008424680484419128}, {\"Method\": \"Hillside(Massey Params)\", \"Year\": \"2002\", \"k\": 271.0, \"k_orig\": 26752.0, \"sum_c\": 623.0, \"k_worst\": 47643.0, \"top_n\": 6, \"k/k_orig\": 0.010130083732057416, \"k/k_worst\": 0.0056881388661503265, \"k/sum_c\": 0.434991974317817, \"k*k_orig/k_worst\": 152.16909094725352, \"k/(k_worst-k_orig)\": 0.012972093245895362}, {\"Method\": \"Hillside(Massey Params)\", \"Year\": \"2002\", \"k\": 377.0, \"k_orig\": 26752.0, \"sum_c\": 870.0, \"k_worst\": 47643.0, \"top_n\": 7, \"k/k_orig\": 0.014092404306220096, \"k/k_worst\": 0.007913019751065214, \"k/sum_c\": 0.43333333333333335, \"k*k_orig/k_worst\": 211.68910438049662, \"k/(k_worst-k_orig)\": 0.01804604853764779}, {\"Method\": \"Hillside(Massey Params)\", \"Year\": \"2002\", \"k\": 517.0, \"k_orig\": 26752.0, \"sum_c\": 1188.0, \"k_worst\": 47643.0, \"top_n\": 8, \"k/k_orig\": 0.019325657894736843, \"k/k_worst\": 0.010851541674537708, \"k/sum_c\": 0.4351851851851852, \"k*k_orig/k_worst\": 290.30044287723274, \"k/(k_worst-k_orig)\": 0.024747498922981188}, {\"Method\": \"Hillside(Massey Params)\", \"Year\": \"2002\", \"k\": 655.0, \"k_orig\": 26752.0, \"sum_c\": 1509.0, \"k_worst\": 47643.0, \"top_n\": 9, \"k/k_orig\": 0.024484150717703348, \"k/k_worst\": 0.013748084713389164, \"k/sum_c\": 0.4340622929092114, \"k*k_orig/k_worst\": 367.78876225258693, \"k/(k_worst-k_orig)\": 0.03135321430280982}, {\"Method\": \"Hillside(Massey Params)\", \"Year\": \"2002\", \"k\": 839.0, \"k_orig\": 26752.0, \"sum_c\": 1930.0, \"k_worst\": 47643.0, \"top_n\": 10, \"k/k_orig\": 0.03136214114832536, \"k/k_worst\": 0.01761014209852444, \"k/sum_c\": 0.4347150259067358, \"k*k_orig/k_worst\": 471.1065214197259, \"k/(k_worst-k_orig)\": 0.040160834809248}, {\"Method\": \"Hillside(Massey Params)\", \"Year\": \"2002\", \"k\": 1041.0, \"k_orig\": 26752.0, \"sum_c\": 2409.0, \"k_worst\": 47643.0, \"top_n\": 11, \"k/k_orig\": 0.038912978468899524, \"k/k_worst\": 0.02185000944524904, \"k/sum_c\": 0.43212951432129515, \"k*k_orig/k_worst\": 584.5314526793023, \"k/(k_worst-k_orig)\": 0.049830070365229046}, {\"Method\": \"Hillside(Massey Params)\", \"Year\": \"2002\", \"k\": 1244.0, \"k_orig\": 26752.0, \"sum_c\": 2889.0, \"k_worst\": 47643.0, \"top_n\": 12, \"k/k_orig\": 0.04650119617224881, \"k/k_worst\": 0.026110866234284155, \"k/sum_c\": 0.4305988231221876, \"k*k_orig/k_worst\": 698.5178934995697, \"k/(k_worst-k_orig)\": 0.05954717342396247}, {\"Method\": \"Hillside(Massey Params)\", \"Year\": \"2002\", \"k\": 1496.0, \"k_orig\": 26752.0, \"sum_c\": 3487.0, \"k_worst\": 47643.0, \"top_n\": 13, \"k/k_orig\": 0.05592105263157895, \"k/k_worst\": 0.03140020569653464, \"k/sum_c\": 0.42902208201892744, \"k*k_orig/k_worst\": 840.0183027936947, \"k/(k_worst-k_orig)\": 0.07160978411756258}, {\"Method\": \"Hillside(Massey Params)\", \"Year\": \"2002\", \"k\": 1767.0, \"k_orig\": 26752.0, \"sum_c\": 4082.0, \"k_worst\": 47643.0, \"top_n\": 14, \"k/k_orig\": 0.06605113636363637, \"k/k_worst\": 0.03708834456268497, \"k/sum_c\": 0.4328760411562959, \"k*k_orig/k_worst\": 992.1873937409483, \"k/(k_worst-k_orig)\": 0.08458187736345794}, {\"Method\": \"Hillside(Massey Params)\", \"Year\": \"2002\", \"k\": 2050.0, \"k_orig\": 26752.0, \"sum_c\": 4740.0, \"k_worst\": 47643.0, \"top_n\": 15, \"k/k_orig\": 0.07662978468899521, \"k/k_worst\": 0.04302835673656151, \"k/sum_c\": 0.43248945147679324, \"k*k_orig/k_worst\": 1151.0945994164936, \"k/(k_worst-k_orig)\": 0.09812838064238188}, {\"Method\": \"Hillside(Massey Params)\", \"Year\": \"2002\", \"k\": 2339.0, \"k_orig\": 26752.0, \"sum_c\": 5424.0, \"k_worst\": 47643.0, \"top_n\": 16, \"k/k_orig\": 0.08743271531100479, \"k/k_worst\": 0.04909430556430116, \"k/sum_c\": 0.4312315634218289, \"k*k_orig/k_worst\": 1313.3708624561846, \"k/(k_worst-k_orig)\": 0.11196208893782011}, {\"Method\": \"Hillside(Colley Params)\", \"Year\": \"2003\", \"k\": 9.0, \"k_orig\": 22805.0, \"sum_c\": 23.0, \"k_worst\": 40791.0, \"top_n\": 2, \"k/k_orig\": 0.000394650295987722, \"k/k_worst\": 0.0002206369051996764, \"k/sum_c\": 0.391304347826087, \"k*k_orig/k_worst\": 5.031624623078621, \"k/(k_worst-k_orig)\": 0.0005003891915934615}, {\"Method\": \"Hillside(Colley Params)\", \"Year\": \"2003\", \"k\": 31.0, \"k_orig\": 22805.0, \"sum_c\": 72.0, \"k_worst\": 40791.0, \"top_n\": 3, \"k/k_orig\": 0.0013593510195132647, \"k/k_worst\": 0.0007599715623544409, \"k/sum_c\": 0.4305555555555556, \"k*k_orig/k_worst\": 17.331151479493027, \"k/(k_worst-k_orig)\": 0.0017235627710441455}, {\"Method\": \"Hillside(Colley Params)\", \"Year\": \"2003\", \"k\": 90.0, \"k_orig\": 22805.0, \"sum_c\": 200.0, \"k_worst\": 40791.0, \"top_n\": 4, \"k/k_orig\": 0.0039465029598772195, \"k/k_worst\": 0.002206369051996764, \"k/sum_c\": 0.45, \"k*k_orig/k_worst\": 50.316246230786206, \"k/(k_worst-k_orig)\": 0.005003891915934616}, {\"Method\": \"Hillside(Colley Params)\", \"Year\": \"2003\", \"k\": 150.0, \"k_orig\": 22805.0, \"sum_c\": 346.0, \"k_worst\": 40791.0, \"top_n\": 5, \"k/k_orig\": 0.0065775049331287, \"k/k_worst\": 0.00367728175332794, \"k/sum_c\": 0.43352601156069365, \"k*k_orig/k_worst\": 83.86041038464367, \"k/(k_worst-k_orig)\": 0.008339819859891026}, {\"Method\": \"Hillside(Colley Params)\", \"Year\": \"2003\", \"k\": 244.0, \"k_orig\": 22805.0, \"sum_c\": 539.0, \"k_worst\": 40791.0, \"top_n\": 6, \"k/k_orig\": 0.01069940802455602, \"k/k_worst\": 0.005981711652080115, \"k/sum_c\": 0.45269016697588127, \"k*k_orig/k_worst\": 136.41293422568705, \"k/(k_worst-k_orig)\": 0.013566106972089403}, {\"Method\": \"Hillside(Colley Params)\", \"Year\": \"2003\", \"k\": 344.0, \"k_orig\": 22805.0, \"sum_c\": 784.0, \"k_worst\": 40791.0, \"top_n\": 7, \"k/k_orig\": 0.015084411313308486, \"k/k_worst\": 0.008433232820965409, \"k/sum_c\": 0.4387755102040816, \"k*k_orig/k_worst\": 192.31987448211615, \"k/(k_worst-k_orig)\": 0.01912598687868342}, {\"Method\": \"Hillside(Colley Params)\", \"Year\": \"2003\", \"k\": 423.0, \"k_orig\": 22805.0, \"sum_c\": 989.0, \"k_worst\": 40791.0, \"top_n\": 8, \"k/k_orig\": 0.018548563911422934, \"k/k_worst\": 0.010369934544384792, \"k/sum_c\": 0.4277047522750253, \"k*k_orig/k_worst\": 236.48635728469515, \"k/(k_worst-k_orig)\": 0.023518292004892694}, {\"Method\": \"Hillside(Colley Params)\", \"Year\": \"2003\", \"k\": 572.0, \"k_orig\": 22805.0, \"sum_c\": 1311.0, \"k_worst\": 40791.0, \"top_n\": 9, \"k/k_orig\": 0.025082218811664107, \"k/k_worst\": 0.014022701086023878, \"k/sum_c\": 0.43630816170861936, \"k*k_orig/k_worst\": 319.78769826677456, \"k/(k_worst-k_orig)\": 0.03180251306571778}, {\"Method\": \"Hillside(Colley Params)\", \"Year\": \"2003\", \"k\": 724.0, \"k_orig\": 22805.0, \"sum_c\": 1682.0, \"k_worst\": 40791.0, \"top_n\": 10, \"k/k_orig\": 0.03174742381056786, \"k/k_worst\": 0.017749013262729523, \"k/sum_c\": 0.4304399524375743, \"k*k_orig/k_worst\": 404.7662474565468, \"k/(k_worst-k_orig)\": 0.040253530523740685}, {\"Method\": \"Hillside(Colley Params)\", \"Year\": \"2003\", \"k\": 904.0, \"k_orig\": 22805.0, \"sum_c\": 2081.0, \"k_worst\": 40791.0, \"top_n\": 11, \"k/k_orig\": 0.0396404297303223, \"k/k_worst\": 0.02216175136672305, \"k/sum_c\": 0.4344065353195579, \"k*k_orig/k_worst\": 505.3987399181192, \"k/(k_worst-k_orig)\": 0.05026131435560992}, {\"Method\": \"Hillside(Colley Params)\", \"Year\": \"2003\", \"k\": 1098.0, \"k_orig\": 22805.0, \"sum_c\": 2546.0, \"k_worst\": 40791.0, \"top_n\": 12, \"k/k_orig\": 0.048147336110502086, \"k/k_worst\": 0.02691770243436052, \"k/sum_c\": 0.4312647289866457, \"k*k_orig/k_worst\": 613.8582040155917, \"k/(k_worst-k_orig)\": 0.061047481374402315}, {\"Method\": \"Hillside(Colley Params)\", \"Year\": \"2003\", \"k\": 1313.0, \"k_orig\": 22805.0, \"sum_c\": 3055.0, \"k_worst\": 40791.0, \"top_n\": 13, \"k/k_orig\": 0.057575093181319884, \"k/k_worst\": 0.0321884729474639, \"k/sum_c\": 0.4297872340425532, \"k*k_orig/k_worst\": 734.0581255669142, \"k/(k_worst-k_orig)\": 0.07300122317357945}, {\"Method\": \"Hillside(Colley Params)\", \"Year\": \"2003\", \"k\": 1561.0, \"k_orig\": 22805.0, \"sum_c\": 3618.0, \"k_worst\": 40791.0, \"top_n\": 14, \"k/k_orig\": 0.068449901337426, \"k/k_worst\": 0.03826824544629943, \"k/sum_c\": 0.4314538419016031, \"k*k_orig/k_worst\": 872.7073374028585, \"k/(k_worst-k_orig)\": 0.08678972534193262}, {\"Method\": \"Hillside(Colley Params)\", \"Year\": \"2003\", \"k\": 1825.0, \"k_orig\": 22805.0, \"sum_c\": 4184.0, \"k_worst\": 40791.0, \"top_n\": 15, \"k/k_orig\": 0.08002631001973251, \"k/k_worst\": 0.044740261332156604, \"k/sum_c\": 0.43618546845124284, \"k*k_orig/k_worst\": 1020.3016596798313, \"k/(k_worst-k_orig)\": 0.10146780829534081}, {\"Method\": \"Hillside(Colley Params)\", \"Year\": \"2003\", \"k\": 2129.0, \"k_orig\": 22805.0, \"sum_c\": 4829.0, \"k_worst\": 40791.0, \"top_n\": 16, \"k/k_orig\": 0.09335672001754002, \"k/k_worst\": 0.052192885685567895, \"k/sum_c\": 0.4408780285773452, \"k*k_orig/k_worst\": 1190.2587580593759, \"k/(k_worst-k_orig)\": 0.11836984321138663}, {\"Method\": \"Hillside(Massey Params)\", \"Year\": \"2003\", \"k\": 9.0, \"k_orig\": 22805.0, \"sum_c\": 23.0, \"k_worst\": 40791.0, \"top_n\": 2, \"k/k_orig\": 0.000394650295987722, \"k/k_worst\": 0.0002206369051996764, \"k/sum_c\": 0.391304347826087, \"k*k_orig/k_worst\": 5.031624623078621, \"k/(k_worst-k_orig)\": 0.0005003891915934615}, {\"Method\": \"Hillside(Massey Params)\", \"Year\": \"2003\", \"k\": 31.0, \"k_orig\": 22805.0, \"sum_c\": 72.0, \"k_worst\": 40791.0, \"top_n\": 3, \"k/k_orig\": 0.0013593510195132647, \"k/k_worst\": 0.0007599715623544409, \"k/sum_c\": 0.4305555555555556, \"k*k_orig/k_worst\": 17.331151479493027, \"k/(k_worst-k_orig)\": 0.0017235627710441455}, {\"Method\": \"Hillside(Massey Params)\", \"Year\": \"2003\", \"k\": 90.0, \"k_orig\": 22805.0, \"sum_c\": 200.0, \"k_worst\": 40791.0, \"top_n\": 4, \"k/k_orig\": 0.0039465029598772195, \"k/k_worst\": 0.002206369051996764, \"k/sum_c\": 0.45, \"k*k_orig/k_worst\": 50.316246230786206, \"k/(k_worst-k_orig)\": 0.005003891915934616}, {\"Method\": \"Hillside(Massey Params)\", \"Year\": \"2003\", \"k\": 150.0, \"k_orig\": 22805.0, \"sum_c\": 346.0, \"k_worst\": 40791.0, \"top_n\": 5, \"k/k_orig\": 0.0065775049331287, \"k/k_worst\": 0.00367728175332794, \"k/sum_c\": 0.43352601156069365, \"k*k_orig/k_worst\": 83.86041038464367, \"k/(k_worst-k_orig)\": 0.008339819859891026}, {\"Method\": \"Hillside(Massey Params)\", \"Year\": \"2003\", \"k\": 244.0, \"k_orig\": 22805.0, \"sum_c\": 539.0, \"k_worst\": 40791.0, \"top_n\": 6, \"k/k_orig\": 0.01069940802455602, \"k/k_worst\": 0.005981711652080115, \"k/sum_c\": 0.45269016697588127, \"k*k_orig/k_worst\": 136.41293422568705, \"k/(k_worst-k_orig)\": 0.013566106972089403}, {\"Method\": \"Hillside(Massey Params)\", \"Year\": \"2003\", \"k\": 344.0, \"k_orig\": 22805.0, \"sum_c\": 784.0, \"k_worst\": 40791.0, \"top_n\": 7, \"k/k_orig\": 0.015084411313308486, \"k/k_worst\": 0.008433232820965409, \"k/sum_c\": 0.4387755102040816, \"k*k_orig/k_worst\": 192.31987448211615, \"k/(k_worst-k_orig)\": 0.01912598687868342}, {\"Method\": \"Hillside(Massey Params)\", \"Year\": \"2003\", \"k\": 423.0, \"k_orig\": 22805.0, \"sum_c\": 989.0, \"k_worst\": 40791.0, \"top_n\": 8, \"k/k_orig\": 0.018548563911422934, \"k/k_worst\": 0.010369934544384792, \"k/sum_c\": 0.4277047522750253, \"k*k_orig/k_worst\": 236.48635728469515, \"k/(k_worst-k_orig)\": 0.023518292004892694}, {\"Method\": \"Hillside(Massey Params)\", \"Year\": \"2003\", \"k\": 572.0, \"k_orig\": 22805.0, \"sum_c\": 1311.0, \"k_worst\": 40791.0, \"top_n\": 9, \"k/k_orig\": 0.025082218811664107, \"k/k_worst\": 0.014022701086023878, \"k/sum_c\": 0.43630816170861936, \"k*k_orig/k_worst\": 319.78769826677456, \"k/(k_worst-k_orig)\": 0.03180251306571778}, {\"Method\": \"Hillside(Massey Params)\", \"Year\": \"2003\", \"k\": 724.0, \"k_orig\": 22805.0, \"sum_c\": 1682.0, \"k_worst\": 40791.0, \"top_n\": 10, \"k/k_orig\": 0.03174742381056786, \"k/k_worst\": 0.017749013262729523, \"k/sum_c\": 0.4304399524375743, \"k*k_orig/k_worst\": 404.7662474565468, \"k/(k_worst-k_orig)\": 0.040253530523740685}, {\"Method\": \"Hillside(Massey Params)\", \"Year\": \"2003\", \"k\": 904.0, \"k_orig\": 22805.0, \"sum_c\": 2081.0, \"k_worst\": 40791.0, \"top_n\": 11, \"k/k_orig\": 0.0396404297303223, \"k/k_worst\": 0.02216175136672305, \"k/sum_c\": 0.4344065353195579, \"k*k_orig/k_worst\": 505.3987399181192, \"k/(k_worst-k_orig)\": 0.05026131435560992}, {\"Method\": \"Hillside(Massey Params)\", \"Year\": \"2003\", \"k\": 1098.0, \"k_orig\": 22805.0, \"sum_c\": 2546.0, \"k_worst\": 40791.0, \"top_n\": 12, \"k/k_orig\": 0.048147336110502086, \"k/k_worst\": 0.02691770243436052, \"k/sum_c\": 0.4312647289866457, \"k*k_orig/k_worst\": 613.8582040155917, \"k/(k_worst-k_orig)\": 0.061047481374402315}, {\"Method\": \"Hillside(Massey Params)\", \"Year\": \"2003\", \"k\": 1313.0, \"k_orig\": 22805.0, \"sum_c\": 3055.0, \"k_worst\": 40791.0, \"top_n\": 13, \"k/k_orig\": 0.057575093181319884, \"k/k_worst\": 0.0321884729474639, \"k/sum_c\": 0.4297872340425532, \"k*k_orig/k_worst\": 734.0581255669142, \"k/(k_worst-k_orig)\": 0.07300122317357945}, {\"Method\": \"Hillside(Massey Params)\", \"Year\": \"2003\", \"k\": 1561.0, \"k_orig\": 22805.0, \"sum_c\": 3618.0, \"k_worst\": 40791.0, \"top_n\": 14, \"k/k_orig\": 0.068449901337426, \"k/k_worst\": 0.03826824544629943, \"k/sum_c\": 0.4314538419016031, \"k*k_orig/k_worst\": 872.7073374028585, \"k/(k_worst-k_orig)\": 0.08678972534193262}, {\"Method\": \"Hillside(Massey Params)\", \"Year\": \"2003\", \"k\": 1825.0, \"k_orig\": 22805.0, \"sum_c\": 4184.0, \"k_worst\": 40791.0, \"top_n\": 15, \"k/k_orig\": 0.08002631001973251, \"k/k_worst\": 0.044740261332156604, \"k/sum_c\": 0.43618546845124284, \"k*k_orig/k_worst\": 1020.3016596798313, \"k/(k_worst-k_orig)\": 0.10146780829534081}, {\"Method\": \"Hillside(Massey Params)\", \"Year\": \"2003\", \"k\": 2129.0, \"k_orig\": 22805.0, \"sum_c\": 4829.0, \"k_worst\": 40791.0, \"top_n\": 16, \"k/k_orig\": 0.09335672001754002, \"k/k_worst\": 0.052192885685567895, \"k/sum_c\": 0.4408780285773452, \"k*k_orig/k_worst\": 1190.2587580593759, \"k/(k_worst-k_orig)\": 0.11836984321138663}, {\"Method\": \"Hillside(Colley Params)\", \"Year\": \"2004\", \"k\": 15.0, \"k_orig\": 21683.0, \"sum_c\": 38.0, \"k_worst\": 44307.0, \"top_n\": 2, \"k/k_orig\": 0.0006917861919476087, \"k/k_worst\": 0.0003385469564628614, \"k/sum_c\": 0.39473684210526316, \"k*k_orig/k_worst\": 7.3407136569842235, \"k/(k_worst-k_orig)\": 0.000663012729844413}, {\"Method\": \"Hillside(Colley Params)\", \"Year\": \"2004\", \"k\": 49.0, \"k_orig\": 21683.0, \"sum_c\": 112.0, \"k_worst\": 44307.0, \"top_n\": 3, \"k/k_orig\": 0.0022598348936955217, \"k/k_worst\": 0.0011059200577786805, \"k/sum_c\": 0.4375, \"k*k_orig/k_worst\": 23.97966461281513, \"k/(k_worst-k_orig)\": 0.002165841584158416}, {\"Method\": \"Hillside(Colley Params)\", \"Year\": \"2004\", \"k\": 83.0, \"k_orig\": 21683.0, \"sum_c\": 190.0, \"k_worst\": 44307.0, \"top_n\": 4, \"k/k_orig\": 0.003827883595443435, \"k/k_worst\": 0.0018732931590944998, \"k/sum_c\": 0.4368421052631579, \"k*k_orig/k_worst\": 40.618615568646035, \"k/(k_worst-k_orig)\": 0.0036686704384724187}, {\"Method\": \"Hillside(Colley Params)\", \"Year\": \"2004\", \"k\": 135.0, \"k_orig\": 21683.0, \"sum_c\": 308.0, \"k_worst\": 44307.0, \"top_n\": 5, \"k/k_orig\": 0.006226075727528479, \"k/k_worst\": 0.0030469226081657527, \"k/sum_c\": 0.4383116883116883, \"k*k_orig/k_worst\": 66.06642291285802, \"k/(k_worst-k_orig)\": 0.005967114568599717}, {\"Method\": \"Hillside(Colley Params)\", \"Year\": \"2004\", \"k\": 186.0, \"k_orig\": 21683.0, \"sum_c\": 418.0, \"k_worst\": 44307.0, \"top_n\": 6, \"k/k_orig\": 0.008578148780150348, \"k/k_worst\": 0.004197982260139481, \"k/sum_c\": 0.4449760765550239, \"k*k_orig/k_worst\": 91.02484934660437, \"k/(k_worst-k_orig)\": 0.00822135785007072}, {\"Method\": \"Hillside(Colley Params)\", \"Year\": \"2004\", \"k\": 295.0, \"k_orig\": 21683.0, \"sum_c\": 680.0, \"k_worst\": 44307.0, \"top_n\": 7, \"k/k_orig\": 0.013605128441636305, \"k/k_worst\": 0.0066580901437696075, \"k/sum_c\": 0.4338235294117647, \"k*k_orig/k_worst\": 144.3673685873564, \"k/(k_worst-k_orig)\": 0.013039250353606788}, {\"Method\": \"Hillside(Colley Params)\", \"Year\": \"2004\", \"k\": 404.0, \"k_orig\": 21683.0, \"sum_c\": 942.0, \"k_worst\": 44307.0, \"top_n\": 8, \"k/k_orig\": 0.018632108103122262, \"k/k_worst\": 0.009118198027399734, \"k/sum_c\": 0.4288747346072187, \"k*k_orig/k_worst\": 197.70988782810844, \"k/(k_worst-k_orig)\": 0.017857142857142856}, {\"Method\": \"Hillside(Colley Params)\", \"Year\": \"2004\", \"k\": 540.0, \"k_orig\": 21683.0, \"sum_c\": 1254.0, \"k_worst\": 44307.0, \"top_n\": 9, \"k/k_orig\": 0.024904302910113914, \"k/k_worst\": 0.01218769043266301, \"k/sum_c\": 0.430622009569378, \"k*k_orig/k_worst\": 264.26569165143206, \"k/(k_worst-k_orig)\": 0.023868458274398867}, {\"Method\": \"Hillside(Colley Params)\", \"Year\": \"2004\", \"k\": 699.0, \"k_orig\": 21683.0, \"sum_c\": 1610.0, \"k_worst\": 44307.0, \"top_n\": 10, \"k/k_orig\": 0.03223723654475857, \"k/k_worst\": 0.015776288171169342, \"k/sum_c\": 0.4341614906832298, \"k*k_orig/k_worst\": 342.07725641546483, \"k/(k_worst-k_orig)\": 0.030896393210749648}, {\"Method\": \"Hillside(Colley Params)\", \"Year\": \"2004\", \"k\": 864.0, \"k_orig\": 21683.0, \"sum_c\": 1993.0, \"k_worst\": 44307.0, \"top_n\": 11, \"k/k_orig\": 0.03984688465618226, \"k/k_worst\": 0.019500304692260818, \"k/sum_c\": 0.43351731058705467, \"k*k_orig/k_worst\": 422.8251066422913, \"k/(k_worst-k_orig)\": 0.03818953323903819}, {\"Method\": \"Hillside(Colley Params)\", \"Year\": \"2004\", \"k\": 1069.0, \"k_orig\": 21683.0, \"sum_c\": 2423.0, \"k_worst\": 44307.0, \"top_n\": 12, \"k/k_orig\": 0.04930129594613292, \"k/k_worst\": 0.024127113097253256, \"k/sum_c\": 0.4411886091621956, \"k*k_orig/k_worst\": 523.1481932877423, \"k/(k_worst-k_orig)\": 0.0472507072135785}, {\"Method\": \"Hillside(Colley Params)\", \"Year\": \"2004\", \"k\": 1272.0, \"k_orig\": 21683.0, \"sum_c\": 2911.0, \"k_worst\": 44307.0, \"top_n\": 13, \"k/k_orig\": 0.05866346907715722, \"k/k_worst\": 0.028708781908050648, \"k/sum_c\": 0.43696324287186533, \"k*k_orig/k_worst\": 622.4925181122621, \"k/(k_worst-k_orig)\": 0.05622347949080622}, {\"Method\": \"Hillside(Colley Params)\", \"Year\": \"2004\", \"k\": 1453.0, \"k_orig\": 21683.0, \"sum_c\": 3375.0, \"k_worst\": 44307.0, \"top_n\": 14, \"k/k_orig\": 0.0670110224599917, \"k/k_worst\": 0.032793915182702506, \"k/sum_c\": 0.4305185185185185, \"k*k_orig/k_worst\": 711.0704629065385, \"k/(k_worst-k_orig)\": 0.06422383309759547}, {\"Method\": \"Hillside(Colley Params)\", \"Year\": \"2004\", \"k\": 1649.0, \"k_orig\": 21683.0, \"sum_c\": 3888.0, \"k_worst\": 44307.0, \"top_n\": 15, \"k/k_orig\": 0.07605036203477379, \"k/k_worst\": 0.03721759541381723, \"k/sum_c\": 0.42412551440329216, \"k*k_orig/k_worst\": 806.989121357799, \"k/(k_worst-k_orig)\": 0.07288719943422914}, {\"Method\": \"Hillside(Colley Params)\", \"Year\": \"2004\", \"k\": 1858.0, \"k_orig\": 21683.0, \"sum_c\": 4396.0, \"k_worst\": 44307.0, \"top_n\": 16, \"k/k_orig\": 0.08568924964257714, \"k/k_worst\": 0.04193468300719976, \"k/sum_c\": 0.4226569608735214, \"k*k_orig/k_worst\": 909.2697316451125, \"k/(k_worst-k_orig)\": 0.08212517680339462}, {\"Method\": \"Hillside(Massey Params)\", \"Year\": \"2004\", \"k\": 15.0, \"k_orig\": 21683.0, \"sum_c\": 38.0, \"k_worst\": 44307.0, \"top_n\": 2, \"k/k_orig\": 0.0006917861919476087, \"k/k_worst\": 0.0003385469564628614, \"k/sum_c\": 0.39473684210526316, \"k*k_orig/k_worst\": 7.3407136569842235, \"k/(k_worst-k_orig)\": 0.000663012729844413}, {\"Method\": \"Hillside(Massey Params)\", \"Year\": \"2004\", \"k\": 49.0, \"k_orig\": 21683.0, \"sum_c\": 112.0, \"k_worst\": 44307.0, \"top_n\": 3, \"k/k_orig\": 0.0022598348936955217, \"k/k_worst\": 0.0011059200577786805, \"k/sum_c\": 0.4375, \"k*k_orig/k_worst\": 23.97966461281513, \"k/(k_worst-k_orig)\": 0.002165841584158416}, {\"Method\": \"Hillside(Massey Params)\", \"Year\": \"2004\", \"k\": 83.0, \"k_orig\": 21683.0, \"sum_c\": 190.0, \"k_worst\": 44307.0, \"top_n\": 4, \"k/k_orig\": 0.003827883595443435, \"k/k_worst\": 0.0018732931590944998, \"k/sum_c\": 0.4368421052631579, \"k*k_orig/k_worst\": 40.618615568646035, \"k/(k_worst-k_orig)\": 0.0036686704384724187}, {\"Method\": \"Hillside(Massey Params)\", \"Year\": \"2004\", \"k\": 135.0, \"k_orig\": 21683.0, \"sum_c\": 308.0, \"k_worst\": 44307.0, \"top_n\": 5, \"k/k_orig\": 0.006226075727528479, \"k/k_worst\": 0.0030469226081657527, \"k/sum_c\": 0.4383116883116883, \"k*k_orig/k_worst\": 66.06642291285802, \"k/(k_worst-k_orig)\": 0.005967114568599717}, {\"Method\": \"Hillside(Massey Params)\", \"Year\": \"2004\", \"k\": 186.0, \"k_orig\": 21683.0, \"sum_c\": 418.0, \"k_worst\": 44307.0, \"top_n\": 6, \"k/k_orig\": 0.008578148780150348, \"k/k_worst\": 0.004197982260139481, \"k/sum_c\": 0.4449760765550239, \"k*k_orig/k_worst\": 91.02484934660437, \"k/(k_worst-k_orig)\": 0.00822135785007072}, {\"Method\": \"Hillside(Massey Params)\", \"Year\": \"2004\", \"k\": 295.0, \"k_orig\": 21683.0, \"sum_c\": 680.0, \"k_worst\": 44307.0, \"top_n\": 7, \"k/k_orig\": 0.013605128441636305, \"k/k_worst\": 0.0066580901437696075, \"k/sum_c\": 0.4338235294117647, \"k*k_orig/k_worst\": 144.3673685873564, \"k/(k_worst-k_orig)\": 0.013039250353606788}, {\"Method\": \"Hillside(Massey Params)\", \"Year\": \"2004\", \"k\": 404.0, \"k_orig\": 21683.0, \"sum_c\": 942.0, \"k_worst\": 44307.0, \"top_n\": 8, \"k/k_orig\": 0.018632108103122262, \"k/k_worst\": 0.009118198027399734, \"k/sum_c\": 0.4288747346072187, \"k*k_orig/k_worst\": 197.70988782810844, \"k/(k_worst-k_orig)\": 0.017857142857142856}, {\"Method\": \"Hillside(Massey Params)\", \"Year\": \"2004\", \"k\": 540.0, \"k_orig\": 21683.0, \"sum_c\": 1254.0, \"k_worst\": 44307.0, \"top_n\": 9, \"k/k_orig\": 0.024904302910113914, \"k/k_worst\": 0.01218769043266301, \"k/sum_c\": 0.430622009569378, \"k*k_orig/k_worst\": 264.26569165143206, \"k/(k_worst-k_orig)\": 0.023868458274398867}, {\"Method\": \"Hillside(Massey Params)\", \"Year\": \"2004\", \"k\": 699.0, \"k_orig\": 21683.0, \"sum_c\": 1610.0, \"k_worst\": 44307.0, \"top_n\": 10, \"k/k_orig\": 0.03223723654475857, \"k/k_worst\": 0.015776288171169342, \"k/sum_c\": 0.4341614906832298, \"k*k_orig/k_worst\": 342.07725641546483, \"k/(k_worst-k_orig)\": 0.030896393210749648}, {\"Method\": \"Hillside(Massey Params)\", \"Year\": \"2004\", \"k\": 864.0, \"k_orig\": 21683.0, \"sum_c\": 1993.0, \"k_worst\": 44307.0, \"top_n\": 11, \"k/k_orig\": 0.03984688465618226, \"k/k_worst\": 0.019500304692260818, \"k/sum_c\": 0.43351731058705467, \"k*k_orig/k_worst\": 422.8251066422913, \"k/(k_worst-k_orig)\": 0.03818953323903819}, {\"Method\": \"Hillside(Massey Params)\", \"Year\": \"2004\", \"k\": 1069.0, \"k_orig\": 21683.0, \"sum_c\": 2423.0, \"k_worst\": 44307.0, \"top_n\": 12, \"k/k_orig\": 0.04930129594613292, \"k/k_worst\": 0.024127113097253256, \"k/sum_c\": 0.4411886091621956, \"k*k_orig/k_worst\": 523.1481932877423, \"k/(k_worst-k_orig)\": 0.0472507072135785}, {\"Method\": \"Hillside(Massey Params)\", \"Year\": \"2004\", \"k\": 1272.0, \"k_orig\": 21683.0, \"sum_c\": 2911.0, \"k_worst\": 44307.0, \"top_n\": 13, \"k/k_orig\": 0.05866346907715722, \"k/k_worst\": 0.028708781908050648, \"k/sum_c\": 0.43696324287186533, \"k*k_orig/k_worst\": 622.4925181122621, \"k/(k_worst-k_orig)\": 0.05622347949080622}, {\"Method\": \"Hillside(Massey Params)\", \"Year\": \"2004\", \"k\": 1453.0, \"k_orig\": 21683.0, \"sum_c\": 3375.0, \"k_worst\": 44307.0, \"top_n\": 14, \"k/k_orig\": 0.0670110224599917, \"k/k_worst\": 0.032793915182702506, \"k/sum_c\": 0.4305185185185185, \"k*k_orig/k_worst\": 711.0704629065385, \"k/(k_worst-k_orig)\": 0.06422383309759547}, {\"Method\": \"Hillside(Massey Params)\", \"Year\": \"2004\", \"k\": 1649.0, \"k_orig\": 21683.0, \"sum_c\": 3888.0, \"k_worst\": 44307.0, \"top_n\": 15, \"k/k_orig\": 0.07605036203477379, \"k/k_worst\": 0.03721759541381723, \"k/sum_c\": 0.42412551440329216, \"k*k_orig/k_worst\": 806.989121357799, \"k/(k_worst-k_orig)\": 0.07288719943422914}, {\"Method\": \"Hillside(Massey Params)\", \"Year\": \"2004\", \"k\": 1858.0, \"k_orig\": 21683.0, \"sum_c\": 4396.0, \"k_worst\": 44307.0, \"top_n\": 16, \"k/k_orig\": 0.08568924964257714, \"k/k_worst\": 0.04193468300719976, \"k/sum_c\": 0.4226569608735214, \"k*k_orig/k_worst\": 909.2697316451125, \"k/(k_worst-k_orig)\": 0.08212517680339462}, {\"Method\": \"Hillside(Colley Params)\", \"Year\": \"2005\", \"k\": 15.0, \"k_orig\": 21787.0, \"sum_c\": 43.0, \"k_worst\": 44651.0, \"top_n\": 2, \"k/k_orig\": 0.0006884839583237711, \"k/k_worst\": 0.00033593872477660075, \"k/sum_c\": 0.3488372093023256, \"k*k_orig/k_worst\": 7.319096996707801, \"k/(k_worst-k_orig)\": 0.0006560531840447865}, {\"Method\": \"Hillside(Colley Params)\", \"Year\": \"2005\", \"k\": 47.0, \"k_orig\": 21787.0, \"sum_c\": 123.0, \"k_worst\": 44651.0, \"top_n\": 3, \"k/k_orig\": 0.002157249736081149, \"k/k_worst\": 0.0010526080043000157, \"k/sum_c\": 0.3821138211382114, \"k*k_orig/k_worst\": 22.93317058968444, \"k/(k_worst-k_orig)\": 0.002055633310006998}, {\"Method\": \"Hillside(Colley Params)\", \"Year\": \"2005\", \"k\": 107.0, \"k_orig\": 21787.0, \"sum_c\": 254.0, \"k_worst\": 44651.0, \"top_n\": 4, \"k/k_orig\": 0.004911185569376234, \"k/k_worst\": 0.0023963629034064187, \"k/sum_c\": 0.421259842519685, \"k*k_orig/k_worst\": 52.20955857651564, \"k/(k_worst-k_orig)\": 0.004679846046186144}, {\"Method\": \"Hillside(Colley Params)\", \"Year\": \"2005\", \"k\": 180.0, \"k_orig\": 21787.0, \"sum_c\": 411.0, \"k_worst\": 44651.0, \"top_n\": 5, \"k/k_orig\": 0.008261807499885252, \"k/k_worst\": 0.004031264697319209, \"k/sum_c\": 0.43795620437956206, \"k*k_orig/k_worst\": 87.8291639604936, \"k/(k_worst-k_orig)\": 0.007872638208537439}, {\"Method\": \"Hillside(Colley Params)\", \"Year\": \"2005\", \"k\": 266.0, \"k_orig\": 21787.0, \"sum_c\": 609.0, \"k_worst\": 44651.0, \"top_n\": 6, \"k/k_orig\": 0.012209115527608207, \"k/k_worst\": 0.005957313386038387, \"k/sum_c\": 0.4367816091954023, \"k*k_orig/k_worst\": 129.79198674161833, \"k/(k_worst-k_orig)\": 0.011634009797060882}, {\"Method\": \"Hillside(Colley Params)\", \"Year\": \"2005\", \"k\": 371.0, \"k_orig\": 21787.0, \"sum_c\": 864.0, \"k_worst\": 44651.0, \"top_n\": 7, \"k/k_orig\": 0.017028503235874605, \"k/k_worst\": 0.008308884459474591, \"k/sum_c\": 0.42939814814814814, \"k*k_orig/k_worst\": 181.02566571857292, \"k/(k_worst-k_orig)\": 0.01622638208537439}, {\"Method\": \"Hillside(Colley Params)\", \"Year\": \"2005\", \"k\": 507.0, \"k_orig\": 21787.0, \"sum_c\": 1183.0, \"k_worst\": 44651.0, \"top_n\": 8, \"k/k_orig\": 0.023270757791343463, \"k/k_worst\": 0.011354728897449106, \"k/sum_c\": 0.42857142857142855, \"k*k_orig/k_worst\": 247.38547848872366, \"k/(k_worst-k_orig)\": 0.022174597620713787}, {\"Method\": \"Hillside(Colley Params)\", \"Year\": \"2005\", \"k\": 643.0, \"k_orig\": 21787.0, \"sum_c\": 1542.0, \"k_worst\": 44651.0, \"top_n\": 9, \"k/k_orig\": 0.02951301234681232, \"k/k_worst\": 0.01440057333542362, \"k/sum_c\": 0.4169909208819715, \"k*k_orig/k_worst\": 313.7452912588744, \"k/(k_worst-k_orig)\": 0.028122813156053184}, {\"Method\": \"Hillside(Colley Params)\", \"Year\": \"2005\", \"k\": 778.0, \"k_orig\": 21787.0, \"sum_c\": 1874.0, \"k_worst\": 44651.0, \"top_n\": 10, \"k/k_orig\": 0.03570936797172626, \"k/k_worst\": 0.017424021858413026, \"k/sum_c\": 0.4151547491995731, \"k*k_orig/k_worst\": 379.61716422924457, \"k/(k_worst-k_orig)\": 0.03402729181245626}, {\"Method\": \"Hillside(Colley Params)\", \"Year\": \"2005\", \"k\": 942.0, \"k_orig\": 21787.0, \"sum_c\": 2317.0, \"k_worst\": 44651.0, \"top_n\": 11, \"k/k_orig\": 0.04323679258273282, \"k/k_worst\": 0.021096951915970528, \"k/sum_c\": 0.40656020716443675, \"k*k_orig/k_worst\": 459.6392913932499, \"k/(k_worst-k_orig)\": 0.0412001399580126}, {\"Method\": \"Hillside(Colley Params)\", \"Year\": \"2005\", \"k\": 1114.0, \"k_orig\": 21787.0, \"sum_c\": 2762.0, \"k_worst\": 44651.0, \"top_n\": 12, \"k/k_orig\": 0.05113140863817873, \"k/k_worst\": 0.02494904929340888, \"k/sum_c\": 0.40333091962346124, \"k*k_orig/k_worst\": 543.5649369554993, \"k/(k_worst-k_orig)\": 0.04872288313505948}, {\"Method\": \"Hillside(Colley Params)\", \"Year\": \"2005\", \"k\": 1299.0, \"k_orig\": 21787.0, \"sum_c\": 3240.0, \"k_worst\": 44651.0, \"top_n\": 13, \"k/k_orig\": 0.05962271079083857, \"k/k_worst\": 0.029092293565653626, \"k/sum_c\": 0.4009259259259259, \"k*k_orig/k_worst\": 633.8337999148955, \"k/(k_worst-k_orig)\": 0.056814205738278514}, {\"Method\": \"Hillside(Colley Params)\", \"Year\": \"2005\", \"k\": 1499.0, \"k_orig\": 21787.0, \"sum_c\": 3730.0, \"k_worst\": 44651.0, \"top_n\": 14, \"k/k_orig\": 0.06880249690182219, \"k/k_worst\": 0.033571476562674965, \"k/sum_c\": 0.40187667560321716, \"k*k_orig/k_worst\": 731.4217598709995, \"k/(k_worst-k_orig)\": 0.06556158152554234}, {\"Method\": \"Hillside(Colley Params)\", \"Year\": \"2005\", \"k\": 1700.0, \"k_orig\": 21787.0, \"sum_c\": 4242.0, \"k_worst\": 44651.0, \"top_n\": 15, \"k/k_orig\": 0.07802818194336072, \"k/k_worst\": 0.03807305547468142, \"k/sum_c\": 0.40075436115040075, \"k*k_orig/k_worst\": 829.497659626884, \"k/(k_worst-k_orig)\": 0.07435269419174248}, {\"Method\": \"Hillside(Colley Params)\", \"Year\": \"2005\", \"k\": 1917.0, \"k_orig\": 21787.0, \"sum_c\": 4788.0, \"k_worst\": 44651.0, \"top_n\": 16, \"k/k_orig\": 0.08798824987377794, \"k/k_worst\": 0.04293296902644957, \"k/sum_c\": 0.40037593984962405, \"k*k_orig/k_worst\": 935.3805961792569, \"k/(k_worst-k_orig)\": 0.08384359692092372}, {\"Method\": \"Hillside(Massey Params)\", \"Year\": \"2005\", \"k\": 15.0, \"k_orig\": 21787.0, \"sum_c\": 43.0, \"k_worst\": 44651.0, \"top_n\": 2, \"k/k_orig\": 0.0006884839583237711, \"k/k_worst\": 0.00033593872477660075, \"k/sum_c\": 0.3488372093023256, \"k*k_orig/k_worst\": 7.319096996707801, \"k/(k_worst-k_orig)\": 0.0006560531840447865}, {\"Method\": \"Hillside(Massey Params)\", \"Year\": \"2005\", \"k\": 47.0, \"k_orig\": 21787.0, \"sum_c\": 123.0, \"k_worst\": 44651.0, \"top_n\": 3, \"k/k_orig\": 0.002157249736081149, \"k/k_worst\": 0.0010526080043000157, \"k/sum_c\": 0.3821138211382114, \"k*k_orig/k_worst\": 22.93317058968444, \"k/(k_worst-k_orig)\": 0.002055633310006998}, {\"Method\": \"Hillside(Massey Params)\", \"Year\": \"2005\", \"k\": 107.0, \"k_orig\": 21787.0, \"sum_c\": 254.0, \"k_worst\": 44651.0, \"top_n\": 4, \"k/k_orig\": 0.004911185569376234, \"k/k_worst\": 0.0023963629034064187, \"k/sum_c\": 0.421259842519685, \"k*k_orig/k_worst\": 52.20955857651564, \"k/(k_worst-k_orig)\": 0.004679846046186144}, {\"Method\": \"Hillside(Massey Params)\", \"Year\": \"2005\", \"k\": 180.0, \"k_orig\": 21787.0, \"sum_c\": 411.0, \"k_worst\": 44651.0, \"top_n\": 5, \"k/k_orig\": 0.008261807499885252, \"k/k_worst\": 0.004031264697319209, \"k/sum_c\": 0.43795620437956206, \"k*k_orig/k_worst\": 87.8291639604936, \"k/(k_worst-k_orig)\": 0.007872638208537439}, {\"Method\": \"Hillside(Massey Params)\", \"Year\": \"2005\", \"k\": 266.0, \"k_orig\": 21787.0, \"sum_c\": 609.0, \"k_worst\": 44651.0, \"top_n\": 6, \"k/k_orig\": 0.012209115527608207, \"k/k_worst\": 0.005957313386038387, \"k/sum_c\": 0.4367816091954023, \"k*k_orig/k_worst\": 129.79198674161833, \"k/(k_worst-k_orig)\": 0.011634009797060882}, {\"Method\": \"Hillside(Massey Params)\", \"Year\": \"2005\", \"k\": 371.0, \"k_orig\": 21787.0, \"sum_c\": 864.0, \"k_worst\": 44651.0, \"top_n\": 7, \"k/k_orig\": 0.017028503235874605, \"k/k_worst\": 0.008308884459474591, \"k/sum_c\": 0.42939814814814814, \"k*k_orig/k_worst\": 181.02566571857292, \"k/(k_worst-k_orig)\": 0.01622638208537439}, {\"Method\": \"Hillside(Massey Params)\", \"Year\": \"2005\", \"k\": 507.0, \"k_orig\": 21787.0, \"sum_c\": 1183.0, \"k_worst\": 44651.0, \"top_n\": 8, \"k/k_orig\": 0.023270757791343463, \"k/k_worst\": 0.011354728897449106, \"k/sum_c\": 0.42857142857142855, \"k*k_orig/k_worst\": 247.38547848872366, \"k/(k_worst-k_orig)\": 0.022174597620713787}, {\"Method\": \"Hillside(Massey Params)\", \"Year\": \"2005\", \"k\": 643.0, \"k_orig\": 21787.0, \"sum_c\": 1542.0, \"k_worst\": 44651.0, \"top_n\": 9, \"k/k_orig\": 0.02951301234681232, \"k/k_worst\": 0.01440057333542362, \"k/sum_c\": 0.4169909208819715, \"k*k_orig/k_worst\": 313.7452912588744, \"k/(k_worst-k_orig)\": 0.028122813156053184}, {\"Method\": \"Hillside(Massey Params)\", \"Year\": \"2005\", \"k\": 778.0, \"k_orig\": 21787.0, \"sum_c\": 1874.0, \"k_worst\": 44651.0, \"top_n\": 10, \"k/k_orig\": 0.03570936797172626, \"k/k_worst\": 0.017424021858413026, \"k/sum_c\": 0.4151547491995731, \"k*k_orig/k_worst\": 379.61716422924457, \"k/(k_worst-k_orig)\": 0.03402729181245626}, {\"Method\": \"Hillside(Massey Params)\", \"Year\": \"2005\", \"k\": 942.0, \"k_orig\": 21787.0, \"sum_c\": 2317.0, \"k_worst\": 44651.0, \"top_n\": 11, \"k/k_orig\": 0.04323679258273282, \"k/k_worst\": 0.021096951915970528, \"k/sum_c\": 0.40656020716443675, \"k*k_orig/k_worst\": 459.6392913932499, \"k/(k_worst-k_orig)\": 0.0412001399580126}, {\"Method\": \"Hillside(Massey Params)\", \"Year\": \"2005\", \"k\": 1114.0, \"k_orig\": 21787.0, \"sum_c\": 2762.0, \"k_worst\": 44651.0, \"top_n\": 12, \"k/k_orig\": 0.05113140863817873, \"k/k_worst\": 0.02494904929340888, \"k/sum_c\": 0.40333091962346124, \"k*k_orig/k_worst\": 543.5649369554993, \"k/(k_worst-k_orig)\": 0.04872288313505948}, {\"Method\": \"Hillside(Massey Params)\", \"Year\": \"2005\", \"k\": 1299.0, \"k_orig\": 21787.0, \"sum_c\": 3240.0, \"k_worst\": 44651.0, \"top_n\": 13, \"k/k_orig\": 0.05962271079083857, \"k/k_worst\": 0.029092293565653626, \"k/sum_c\": 0.4009259259259259, \"k*k_orig/k_worst\": 633.8337999148955, \"k/(k_worst-k_orig)\": 0.056814205738278514}, {\"Method\": \"Hillside(Massey Params)\", \"Year\": \"2005\", \"k\": 1499.0, \"k_orig\": 21787.0, \"sum_c\": 3730.0, \"k_worst\": 44651.0, \"top_n\": 14, \"k/k_orig\": 0.06880249690182219, \"k/k_worst\": 0.033571476562674965, \"k/sum_c\": 0.40187667560321716, \"k*k_orig/k_worst\": 731.4217598709995, \"k/(k_worst-k_orig)\": 0.06556158152554234}, {\"Method\": \"Hillside(Massey Params)\", \"Year\": \"2005\", \"k\": 1700.0, \"k_orig\": 21787.0, \"sum_c\": 4242.0, \"k_worst\": 44651.0, \"top_n\": 15, \"k/k_orig\": 0.07802818194336072, \"k/k_worst\": 0.03807305547468142, \"k/sum_c\": 0.40075436115040075, \"k*k_orig/k_worst\": 829.497659626884, \"k/(k_worst-k_orig)\": 0.07435269419174248}, {\"Method\": \"Hillside(Massey Params)\", \"Year\": \"2005\", \"k\": 1917.0, \"k_orig\": 21787.0, \"sum_c\": 4788.0, \"k_worst\": 44651.0, \"top_n\": 16, \"k/k_orig\": 0.08798824987377794, \"k/k_worst\": 0.04293296902644957, \"k/sum_c\": 0.40037593984962405, \"k*k_orig/k_worst\": 935.3805961792569, \"k/(k_worst-k_orig)\": 0.08384359692092372}, {\"Method\": \"Hillside(Colley Params)\", \"Year\": \"2006\", \"k\": 22.0, \"k_orig\": 25949.0, \"sum_c\": 46.0, \"k_worst\": 47986.0, \"top_n\": 2, \"k/k_orig\": 0.000847816871555744, \"k/k_worst\": 0.00045846705289042636, \"k/sum_c\": 0.4782608695652174, \"k*k_orig/k_worst\": 11.896761555453674, \"k/(k_worst-k_orig)\": 0.000998321005581522}, {\"Method\": \"Hillside(Colley Params)\", \"Year\": \"2006\", \"k\": 60.0, \"k_orig\": 25949.0, \"sum_c\": 142.0, \"k_worst\": 47986.0, \"top_n\": 3, \"k/k_orig\": 0.0023122278315156654, \"k/k_worst\": 0.0012503646897011628, \"k/sum_c\": 0.4225352112676056, \"k*k_orig/k_worst\": 32.44571333305547, \"k/(k_worst-k_orig)\": 0.002722693651585969}, {\"Method\": \"Hillside(Colley Params)\", \"Year\": \"2006\", \"k\": 122.0, \"k_orig\": 25949.0, \"sum_c\": 287.0, \"k_worst\": 47986.0, \"top_n\": 4, \"k/k_orig\": 0.004701529924081853, \"k/k_worst\": 0.0025424082023923645, \"k/sum_c\": 0.4250871080139373, \"k*k_orig/k_worst\": 65.97295044387947, \"k/(k_worst-k_orig)\": 0.005536143758224804}, {\"Method\": \"Hillside(Colley Params)\", \"Year\": \"2006\", \"k\": 174.0, \"k_orig\": 25949.0, \"sum_c\": 429.0, \"k_worst\": 47986.0, \"top_n\": 5, \"k/k_orig\": 0.0067054607113954294, \"k/k_worst\": 0.003626057600133372, \"k/sum_c\": 0.40559440559440557, \"k*k_orig/k_worst\": 94.09256866586088, \"k/(k_worst-k_orig)\": 0.00789581158959931}, {\"Method\": \"Hillside(Colley Params)\", \"Year\": \"2006\", \"k\": 266.0, \"k_orig\": 25949.0, \"sum_c\": 659.0, \"k_worst\": 47986.0, \"top_n\": 6, \"k/k_orig\": 0.01025087671971945, \"k/k_worst\": 0.005543283457675155, \"k/sum_c\": 0.40364188163884673, \"k*k_orig/k_worst\": 143.84266244321262, \"k/(k_worst-k_orig)\": 0.01207060852203113}, {\"Method\": \"Hillside(Colley Params)\", \"Year\": \"2006\", \"k\": 390.0, \"k_orig\": 25949.0, \"sum_c\": 936.0, \"k_worst\": 47986.0, \"top_n\": 7, \"k/k_orig\": 0.015029480904851825, \"k/k_worst\": 0.00812737048305756, \"k/sum_c\": 0.4166666666666667, \"k*k_orig/k_worst\": 210.8971366648606, \"k/(k_worst-k_orig)\": 0.017697508735308797}, {\"Method\": \"Hillside(Colley Params)\", \"Year\": \"2006\", \"k\": 559.0, \"k_orig\": 25949.0, \"sum_c\": 1324.0, \"k_worst\": 47986.0, \"top_n\": 8, \"k/k_orig\": 0.02154225596362095, \"k/k_worst\": 0.011649231025715833, \"k/sum_c\": 0.42220543806646527, \"k*k_orig/k_worst\": 302.2858958863002, \"k/(k_worst-k_orig)\": 0.025366429187275944}, {\"Method\": \"Hillside(Colley Params)\", \"Year\": \"2006\", \"k\": 711.0, \"k_orig\": 25949.0, \"sum_c\": 1694.0, \"k_worst\": 47986.0, \"top_n\": 9, \"k/k_orig\": 0.027399899803460633, \"k/k_worst\": 0.01481682157295878, \"k/sum_c\": 0.4197166469893743, \"k*k_orig/k_worst\": 384.4817029967074, \"k/(k_worst-k_orig)\": 0.03226391977129373}, {\"Method\": \"Hillside(Colley Params)\", \"Year\": \"2006\", \"k\": 894.0, \"k_orig\": 25949.0, \"sum_c\": 2156.0, \"k_worst\": 47986.0, \"top_n\": 10, \"k/k_orig\": 0.03445219468958342, \"k/k_worst\": 0.018630433876547326, \"k/sum_c\": 0.41465677179962895, \"k*k_orig/k_worst\": 483.4411286625266, \"k/(k_worst-k_orig)\": 0.04056813540863094}, {\"Method\": \"Hillside(Colley Params)\", \"Year\": \"2006\", \"k\": 1083.0, \"k_orig\": 25949.0, \"sum_c\": 2606.0, \"k_worst\": 47986.0, \"top_n\": 11, \"k/k_orig\": 0.04173571235885776, \"k/k_worst\": 0.02256908264910599, \"k/sum_c\": 0.4155794320798158, \"k*k_orig/k_worst\": 585.6451256616513, \"k/(k_worst-k_orig)\": 0.049144620411126744}, {\"Method\": \"Hillside(Colley Params)\", \"Year\": \"2006\", \"k\": 1288.0, \"k_orig\": 25949.0, \"sum_c\": 3098.0, \"k_worst\": 47986.0, \"top_n\": 12, \"k/k_orig\": 0.04963582411653628, \"k/k_worst\": 0.02684116200558496, \"k/sum_c\": 0.4157520981278244, \"k*k_orig/k_worst\": 696.5013128829241, \"k/(k_worst-k_orig)\": 0.05844715705404547}, {\"Method\": \"Hillside(Colley Params)\", \"Year\": \"2006\", \"k\": 1521.0, \"k_orig\": 25949.0, \"sum_c\": 3675.0, \"k_worst\": 47986.0, \"top_n\": 13, \"k/k_orig\": 0.058614975528922114, \"k/k_worst\": 0.03169674488392448, \"k/sum_c\": 0.4138775510204082, \"k*k_orig/k_worst\": 822.4988329929563, \"k/(k_worst-k_orig)\": 0.06902028406770432}, {\"Method\": \"Hillside(Colley Params)\", \"Year\": \"2006\", \"k\": 1675.0, \"k_orig\": 25949.0, \"sum_c\": 4087.0, \"k_worst\": 47986.0, \"top_n\": 14, \"k/k_orig\": 0.06454969362981232, \"k/k_worst\": 0.034906014254157465, \"k/sum_c\": 0.4098360655737705, \"k*k_orig/k_worst\": 905.776163881132, \"k/(k_worst-k_orig)\": 0.07600853110677497}, {\"Method\": \"Hillside(Colley Params)\", \"Year\": \"2006\", \"k\": 1924.0, \"k_orig\": 25949.0, \"sum_c\": 4681.0, \"k_worst\": 47986.0, \"top_n\": 15, \"k/k_orig\": 0.07414543913060234, \"k/k_worst\": 0.040095027716417285, \"k/sum_c\": 0.41102328562273016, \"k*k_orig/k_worst\": 1040.4258742133122, \"k/(k_worst-k_orig)\": 0.08730770976085674}, {\"Method\": \"Hillside(Colley Params)\", \"Year\": \"2006\", \"k\": 2206.0, \"k_orig\": 25949.0, \"sum_c\": 5409.0, \"k_worst\": 47986.0, \"top_n\": 16, \"k/k_orig\": 0.08501290993872596, \"k/k_worst\": 0.04597174175801275, \"k/sum_c\": 0.4078387872065077, \"k*k_orig/k_worst\": 1192.920726878673, \"k/(k_worst-k_orig)\": 0.1001043699233108}, {\"Method\": \"Hillside(Massey Params)\", \"Year\": \"2006\", \"k\": 22.0, \"k_orig\": 25949.0, \"sum_c\": 46.0, \"k_worst\": 47986.0, \"top_n\": 2, \"k/k_orig\": 0.000847816871555744, \"k/k_worst\": 0.00045846705289042636, \"k/sum_c\": 0.4782608695652174, \"k*k_orig/k_worst\": 11.896761555453674, \"k/(k_worst-k_orig)\": 0.000998321005581522}, {\"Method\": \"Hillside(Massey Params)\", \"Year\": \"2006\", \"k\": 60.0, \"k_orig\": 25949.0, \"sum_c\": 142.0, \"k_worst\": 47986.0, \"top_n\": 3, \"k/k_orig\": 0.0023122278315156654, \"k/k_worst\": 0.0012503646897011628, \"k/sum_c\": 0.4225352112676056, \"k*k_orig/k_worst\": 32.44571333305547, \"k/(k_worst-k_orig)\": 0.002722693651585969}, {\"Method\": \"Hillside(Massey Params)\", \"Year\": \"2006\", \"k\": 122.0, \"k_orig\": 25949.0, \"sum_c\": 287.0, \"k_worst\": 47986.0, \"top_n\": 4, \"k/k_orig\": 0.004701529924081853, \"k/k_worst\": 0.0025424082023923645, \"k/sum_c\": 0.4250871080139373, \"k*k_orig/k_worst\": 65.97295044387947, \"k/(k_worst-k_orig)\": 0.005536143758224804}, {\"Method\": \"Hillside(Massey Params)\", \"Year\": \"2006\", \"k\": 174.0, \"k_orig\": 25949.0, \"sum_c\": 429.0, \"k_worst\": 47986.0, \"top_n\": 5, \"k/k_orig\": 0.0067054607113954294, \"k/k_worst\": 0.003626057600133372, \"k/sum_c\": 0.40559440559440557, \"k*k_orig/k_worst\": 94.09256866586088, \"k/(k_worst-k_orig)\": 0.00789581158959931}, {\"Method\": \"Hillside(Massey Params)\", \"Year\": \"2006\", \"k\": 266.0, \"k_orig\": 25949.0, \"sum_c\": 659.0, \"k_worst\": 47986.0, \"top_n\": 6, \"k/k_orig\": 0.01025087671971945, \"k/k_worst\": 0.005543283457675155, \"k/sum_c\": 0.40364188163884673, \"k*k_orig/k_worst\": 143.84266244321262, \"k/(k_worst-k_orig)\": 0.01207060852203113}, {\"Method\": \"Hillside(Massey Params)\", \"Year\": \"2006\", \"k\": 390.0, \"k_orig\": 25949.0, \"sum_c\": 936.0, \"k_worst\": 47986.0, \"top_n\": 7, \"k/k_orig\": 0.015029480904851825, \"k/k_worst\": 0.00812737048305756, \"k/sum_c\": 0.4166666666666667, \"k*k_orig/k_worst\": 210.8971366648606, \"k/(k_worst-k_orig)\": 0.017697508735308797}, {\"Method\": \"Hillside(Massey Params)\", \"Year\": \"2006\", \"k\": 559.0, \"k_orig\": 25949.0, \"sum_c\": 1324.0, \"k_worst\": 47986.0, \"top_n\": 8, \"k/k_orig\": 0.02154225596362095, \"k/k_worst\": 0.011649231025715833, \"k/sum_c\": 0.42220543806646527, \"k*k_orig/k_worst\": 302.2858958863002, \"k/(k_worst-k_orig)\": 0.025366429187275944}, {\"Method\": \"Hillside(Massey Params)\", \"Year\": \"2006\", \"k\": 711.0, \"k_orig\": 25949.0, \"sum_c\": 1694.0, \"k_worst\": 47986.0, \"top_n\": 9, \"k/k_orig\": 0.027399899803460633, \"k/k_worst\": 0.01481682157295878, \"k/sum_c\": 0.4197166469893743, \"k*k_orig/k_worst\": 384.4817029967074, \"k/(k_worst-k_orig)\": 0.03226391977129373}, {\"Method\": \"Hillside(Massey Params)\", \"Year\": \"2006\", \"k\": 894.0, \"k_orig\": 25949.0, \"sum_c\": 2156.0, \"k_worst\": 47986.0, \"top_n\": 10, \"k/k_orig\": 0.03445219468958342, \"k/k_worst\": 0.018630433876547326, \"k/sum_c\": 0.41465677179962895, \"k*k_orig/k_worst\": 483.4411286625266, \"k/(k_worst-k_orig)\": 0.04056813540863094}, {\"Method\": \"Hillside(Massey Params)\", \"Year\": \"2006\", \"k\": 1083.0, \"k_orig\": 25949.0, \"sum_c\": 2606.0, \"k_worst\": 47986.0, \"top_n\": 11, \"k/k_orig\": 0.04173571235885776, \"k/k_worst\": 0.02256908264910599, \"k/sum_c\": 0.4155794320798158, \"k*k_orig/k_worst\": 585.6451256616513, \"k/(k_worst-k_orig)\": 0.049144620411126744}, {\"Method\": \"Hillside(Massey Params)\", \"Year\": \"2006\", \"k\": 1288.0, \"k_orig\": 25949.0, \"sum_c\": 3098.0, \"k_worst\": 47986.0, \"top_n\": 12, \"k/k_orig\": 0.04963582411653628, \"k/k_worst\": 0.02684116200558496, \"k/sum_c\": 0.4157520981278244, \"k*k_orig/k_worst\": 696.5013128829241, \"k/(k_worst-k_orig)\": 0.05844715705404547}, {\"Method\": \"Hillside(Massey Params)\", \"Year\": \"2006\", \"k\": 1521.0, \"k_orig\": 25949.0, \"sum_c\": 3675.0, \"k_worst\": 47986.0, \"top_n\": 13, \"k/k_orig\": 0.058614975528922114, \"k/k_worst\": 0.03169674488392448, \"k/sum_c\": 0.4138775510204082, \"k*k_orig/k_worst\": 822.4988329929563, \"k/(k_worst-k_orig)\": 0.06902028406770432}, {\"Method\": \"Hillside(Massey Params)\", \"Year\": \"2006\", \"k\": 1675.0, \"k_orig\": 25949.0, \"sum_c\": 4087.0, \"k_worst\": 47986.0, \"top_n\": 14, \"k/k_orig\": 0.06454969362981232, \"k/k_worst\": 0.034906014254157465, \"k/sum_c\": 0.4098360655737705, \"k*k_orig/k_worst\": 905.776163881132, \"k/(k_worst-k_orig)\": 0.07600853110677497}, {\"Method\": \"Hillside(Massey Params)\", \"Year\": \"2006\", \"k\": 1924.0, \"k_orig\": 25949.0, \"sum_c\": 4681.0, \"k_worst\": 47986.0, \"top_n\": 15, \"k/k_orig\": 0.07414543913060234, \"k/k_worst\": 0.040095027716417285, \"k/sum_c\": 0.41102328562273016, \"k*k_orig/k_worst\": 1040.4258742133122, \"k/(k_worst-k_orig)\": 0.08730770976085674}, {\"Method\": \"Hillside(Massey Params)\", \"Year\": \"2006\", \"k\": 2206.0, \"k_orig\": 25949.0, \"sum_c\": 5409.0, \"k_worst\": 47986.0, \"top_n\": 16, \"k/k_orig\": 0.08501290993872596, \"k/k_worst\": 0.04597174175801275, \"k/sum_c\": 0.4078387872065077, \"k*k_orig/k_worst\": 1192.920726878673, \"k/(k_worst-k_orig)\": 0.1001043699233108}, {\"Method\": \"Hillside(Colley Params)\", \"Year\": \"2007\", \"k\": 25.0, \"k_orig\": 30045.0, \"sum_c\": 56.0, \"k_worst\": 55306.0, \"top_n\": 2, \"k/k_orig\": 0.0008320852055250458, \"k/k_worst\": 0.0004520305211007847, \"k/sum_c\": 0.44642857142857145, \"k*k_orig/k_worst\": 13.581257006473077, \"k/(k_worst-k_orig)\": 0.0009896678674636793}, {\"Method\": \"Hillside(Colley Params)\", \"Year\": \"2007\", \"k\": 79.0, \"k_orig\": 30045.0, \"sum_c\": 169.0, \"k_worst\": 55306.0, \"top_n\": 3, \"k/k_orig\": 0.0026293892494591445, \"k/k_worst\": 0.0014284164466784796, \"k/sum_c\": 0.46745562130177515, \"k*k_orig/k_worst\": 42.916772140454924, \"k/(k_worst-k_orig)\": 0.0031273504611852264}, {\"Method\": \"Hillside(Colley Params)\", \"Year\": \"2007\", \"k\": 142.0, \"k_orig\": 30045.0, \"sum_c\": 311.0, \"k_worst\": 55306.0, \"top_n\": 4, \"k/k_orig\": 0.00472624396738226, \"k/k_worst\": 0.002567533359852457, \"k/sum_c\": 0.4565916398713826, \"k*k_orig/k_worst\": 77.14153979676708, \"k/(k_worst-k_orig)\": 0.005621313487193698}, {\"Method\": \"Hillside(Colley Params)\", \"Year\": \"2007\", \"k\": 240.0, \"k_orig\": 30045.0, \"sum_c\": 521.0, \"k_worst\": 55306.0, \"top_n\": 5, \"k/k_orig\": 0.00798801797304044, \"k/k_worst\": 0.004339493002567534, \"k/sum_c\": 0.46065259117082535, \"k*k_orig/k_worst\": 130.38006726214155, \"k/(k_worst-k_orig)\": 0.00950081152765132}, {\"Method\": \"Hillside(Colley Params)\", \"Year\": \"2007\", \"k\": 356.0, \"k_orig\": 30045.0, \"sum_c\": 785.0, \"k_worst\": 55306.0, \"top_n\": 6, \"k/k_orig\": 0.011848893326676652, \"k/k_worst\": 0.006436914620475175, \"k/sum_c\": 0.4535031847133758, \"k*k_orig/k_worst\": 193.39709977217663, \"k/(k_worst-k_orig)\": 0.014092870432682791}, {\"Method\": \"Hillside(Colley Params)\", \"Year\": \"2007\", \"k\": 476.0, \"k_orig\": 30045.0, \"sum_c\": 1074.0, \"k_worst\": 55306.0, \"top_n\": 7, \"k/k_orig\": 0.01584290231319687, \"k/k_worst\": 0.008606661121758941, \"k/sum_c\": 0.44320297951582865, \"k*k_orig/k_worst\": 258.5871334032474, \"k/(k_worst-k_orig)\": 0.01884327619650845}, {\"Method\": \"Hillside(Colley Params)\", \"Year\": \"2007\", \"k\": 583.0, \"k_orig\": 30045.0, \"sum_c\": 1311.0, \"k_worst\": 55306.0, \"top_n\": 8, \"k/k_orig\": 0.019404226992844067, \"k/k_worst\": 0.0105413517520703, \"k/sum_c\": 0.444698703279939, \"k*k_orig/k_worst\": 316.7149133909522, \"k/(k_worst-k_orig)\": 0.023079054669253}, {\"Method\": \"Hillside(Colley Params)\", \"Year\": \"2007\", \"k\": 679.0, \"k_orig\": 30045.0, \"sum_c\": 1524.0, \"k_worst\": 55306.0, \"top_n\": 9, \"k/k_orig\": 0.022599434182060243, \"k/k_worst\": 0.012277148953097313, \"k/sum_c\": 0.44553805774278216, \"k*k_orig/k_worst\": 368.8669402958088, \"k/(k_worst-k_orig)\": 0.026879379280313528}, {\"Method\": \"Hillside(Colley Params)\", \"Year\": \"2007\", \"k\": 829.0, \"k_orig\": 30045.0, \"sum_c\": 1857.0, \"k_worst\": 55306.0, \"top_n\": 10, \"k/k_orig\": 0.02759194541521052, \"k/k_worst\": 0.014989332079702022, \"k/sum_c\": 0.4464189553042542, \"k*k_orig/k_worst\": 450.35448233464723, \"k/(k_worst-k_orig)\": 0.0328173864850956}, {\"Method\": \"Hillside(Colley Params)\", \"Year\": \"2007\", \"k\": 1035.0, \"k_orig\": 30045.0, \"sum_c\": 2340.0, \"k_worst\": 55306.0, \"top_n\": 11, \"k/k_orig\": 0.034448327508736894, \"k/k_worst\": 0.018714063573572488, \"k/sum_c\": 0.4423076923076923, \"k*k_orig/k_worst\": 562.2640400679854, \"k/(k_worst-k_orig)\": 0.04097224971299632}, {\"Method\": \"Hillside(Colley Params)\", \"Year\": \"2007\", \"k\": 1248.0, \"k_orig\": 30045.0, \"sum_c\": 2863.0, \"k_worst\": 55306.0, \"top_n\": 12, \"k/k_orig\": 0.04153769345981029, \"k/k_worst\": 0.022565363613351173, \"k/sum_c\": 0.43590639189661196, \"k*k_orig/k_worst\": 677.976349763136, \"k/(k_worst-k_orig)\": 0.04940421994378687}, {\"Method\": \"Hillside(Colley Params)\", \"Year\": \"2007\", \"k\": 1460.0, \"k_orig\": 30045.0, \"sum_c\": 3330.0, \"k_worst\": 55306.0, \"top_n\": 13, \"k/k_orig\": 0.048593776002662674, \"k/k_worst\": 0.02639858243228583, \"k/sum_c\": 0.43843843843843844, \"k*k_orig/k_worst\": 793.1454091780276, \"k/(k_worst-k_orig)\": 0.057796603459878866}, {\"Method\": \"Hillside(Colley Params)\", \"Year\": \"2007\", \"k\": 1720.0, \"k_orig\": 30045.0, \"sum_c\": 3961.0, \"k_worst\": 55306.0, \"top_n\": 14, \"k/k_orig\": 0.05724746214012315, \"k/k_worst\": 0.03109969985173399, \"k/sum_c\": 0.4342337793486493, \"k*k_orig/k_worst\": 934.3904820453477, \"k/(k_worst-k_orig)\": 0.06808914928150113}, {\"Method\": \"Hillside(Colley Params)\", \"Year\": \"2007\", \"k\": 2029.0, \"k_orig\": 30045.0, \"sum_c\": 4675.0, \"k_worst\": 55306.0, \"top_n\": 15, \"k/k_orig\": 0.06753203528041271, \"k/k_worst\": 0.03668679709253969, \"k/sum_c\": 0.4340106951871658, \"k*k_orig/k_worst\": 1102.254818645355, \"k/(k_worst-k_orig)\": 0.08032144412335221}, {\"Method\": \"Hillside(Colley Params)\", \"Year\": \"2007\", \"k\": 2319.0, \"k_orig\": 30045.0, \"sum_c\": 5373.0, \"k_worst\": 55306.0, \"top_n\": 16, \"k/k_orig\": 0.07718422366450324, \"k/k_worst\": 0.041930351137308794, \"k/sum_c\": 0.4316024567280849, \"k*k_orig/k_worst\": 1259.7973999204426, \"k/(k_worst-k_orig)\": 0.09180159138593089}, {\"Method\": \"Hillside(Massey Params)\", \"Year\": \"2007\", \"k\": 25.0, \"k_orig\": 30045.0, \"sum_c\": 56.0, \"k_worst\": 55306.0, \"top_n\": 2, \"k/k_orig\": 0.0008320852055250458, \"k/k_worst\": 0.0004520305211007847, \"k/sum_c\": 0.44642857142857145, \"k*k_orig/k_worst\": 13.581257006473077, \"k/(k_worst-k_orig)\": 0.0009896678674636793}, {\"Method\": \"Hillside(Massey Params)\", \"Year\": \"2007\", \"k\": 79.0, \"k_orig\": 30045.0, \"sum_c\": 169.0, \"k_worst\": 55306.0, \"top_n\": 3, \"k/k_orig\": 0.0026293892494591445, \"k/k_worst\": 0.0014284164466784796, \"k/sum_c\": 0.46745562130177515, \"k*k_orig/k_worst\": 42.916772140454924, \"k/(k_worst-k_orig)\": 0.0031273504611852264}, {\"Method\": \"Hillside(Massey Params)\", \"Year\": \"2007\", \"k\": 142.0, \"k_orig\": 30045.0, \"sum_c\": 311.0, \"k_worst\": 55306.0, \"top_n\": 4, \"k/k_orig\": 0.00472624396738226, \"k/k_worst\": 0.002567533359852457, \"k/sum_c\": 0.4565916398713826, \"k*k_orig/k_worst\": 77.14153979676708, \"k/(k_worst-k_orig)\": 0.005621313487193698}, {\"Method\": \"Hillside(Massey Params)\", \"Year\": \"2007\", \"k\": 240.0, \"k_orig\": 30045.0, \"sum_c\": 521.0, \"k_worst\": 55306.0, \"top_n\": 5, \"k/k_orig\": 0.00798801797304044, \"k/k_worst\": 0.004339493002567534, \"k/sum_c\": 0.46065259117082535, \"k*k_orig/k_worst\": 130.38006726214155, \"k/(k_worst-k_orig)\": 0.00950081152765132}, {\"Method\": \"Hillside(Massey Params)\", \"Year\": \"2007\", \"k\": 356.0, \"k_orig\": 30045.0, \"sum_c\": 785.0, \"k_worst\": 55306.0, \"top_n\": 6, \"k/k_orig\": 0.011848893326676652, \"k/k_worst\": 0.006436914620475175, \"k/sum_c\": 0.4535031847133758, \"k*k_orig/k_worst\": 193.39709977217663, \"k/(k_worst-k_orig)\": 0.014092870432682791}, {\"Method\": \"Hillside(Massey Params)\", \"Year\": \"2007\", \"k\": 476.0, \"k_orig\": 30045.0, \"sum_c\": 1074.0, \"k_worst\": 55306.0, \"top_n\": 7, \"k/k_orig\": 0.01584290231319687, \"k/k_worst\": 0.008606661121758941, \"k/sum_c\": 0.44320297951582865, \"k*k_orig/k_worst\": 258.5871334032474, \"k/(k_worst-k_orig)\": 0.01884327619650845}, {\"Method\": \"Hillside(Massey Params)\", \"Year\": \"2007\", \"k\": 583.0, \"k_orig\": 30045.0, \"sum_c\": 1311.0, \"k_worst\": 55306.0, \"top_n\": 8, \"k/k_orig\": 0.019404226992844067, \"k/k_worst\": 0.0105413517520703, \"k/sum_c\": 0.444698703279939, \"k*k_orig/k_worst\": 316.7149133909522, \"k/(k_worst-k_orig)\": 0.023079054669253}, {\"Method\": \"Hillside(Massey Params)\", \"Year\": \"2007\", \"k\": 679.0, \"k_orig\": 30045.0, \"sum_c\": 1524.0, \"k_worst\": 55306.0, \"top_n\": 9, \"k/k_orig\": 0.022599434182060243, \"k/k_worst\": 0.012277148953097313, \"k/sum_c\": 0.44553805774278216, \"k*k_orig/k_worst\": 368.8669402958088, \"k/(k_worst-k_orig)\": 0.026879379280313528}, {\"Method\": \"Hillside(Massey Params)\", \"Year\": \"2007\", \"k\": 829.0, \"k_orig\": 30045.0, \"sum_c\": 1857.0, \"k_worst\": 55306.0, \"top_n\": 10, \"k/k_orig\": 0.02759194541521052, \"k/k_worst\": 0.014989332079702022, \"k/sum_c\": 0.4464189553042542, \"k*k_orig/k_worst\": 450.35448233464723, \"k/(k_worst-k_orig)\": 0.0328173864850956}, {\"Method\": \"Hillside(Massey Params)\", \"Year\": \"2007\", \"k\": 1035.0, \"k_orig\": 30045.0, \"sum_c\": 2340.0, \"k_worst\": 55306.0, \"top_n\": 11, \"k/k_orig\": 0.034448327508736894, \"k/k_worst\": 0.018714063573572488, \"k/sum_c\": 0.4423076923076923, \"k*k_orig/k_worst\": 562.2640400679854, \"k/(k_worst-k_orig)\": 0.04097224971299632}, {\"Method\": \"Hillside(Massey Params)\", \"Year\": \"2007\", \"k\": 1248.0, \"k_orig\": 30045.0, \"sum_c\": 2863.0, \"k_worst\": 55306.0, \"top_n\": 12, \"k/k_orig\": 0.04153769345981029, \"k/k_worst\": 0.022565363613351173, \"k/sum_c\": 0.43590639189661196, \"k*k_orig/k_worst\": 677.976349763136, \"k/(k_worst-k_orig)\": 0.04940421994378687}, {\"Method\": \"Hillside(Massey Params)\", \"Year\": \"2007\", \"k\": 1460.0, \"k_orig\": 30045.0, \"sum_c\": 3330.0, \"k_worst\": 55306.0, \"top_n\": 13, \"k/k_orig\": 0.048593776002662674, \"k/k_worst\": 0.02639858243228583, \"k/sum_c\": 0.43843843843843844, \"k*k_orig/k_worst\": 793.1454091780276, \"k/(k_worst-k_orig)\": 0.057796603459878866}, {\"Method\": \"Hillside(Massey Params)\", \"Year\": \"2007\", \"k\": 1720.0, \"k_orig\": 30045.0, \"sum_c\": 3961.0, \"k_worst\": 55306.0, \"top_n\": 14, \"k/k_orig\": 0.05724746214012315, \"k/k_worst\": 0.03109969985173399, \"k/sum_c\": 0.4342337793486493, \"k*k_orig/k_worst\": 934.3904820453477, \"k/(k_worst-k_orig)\": 0.06808914928150113}, {\"Method\": \"Hillside(Massey Params)\", \"Year\": \"2007\", \"k\": 2029.0, \"k_orig\": 30045.0, \"sum_c\": 4675.0, \"k_worst\": 55306.0, \"top_n\": 15, \"k/k_orig\": 0.06753203528041271, \"k/k_worst\": 0.03668679709253969, \"k/sum_c\": 0.4340106951871658, \"k*k_orig/k_worst\": 1102.254818645355, \"k/(k_worst-k_orig)\": 0.08032144412335221}, {\"Method\": \"Hillside(Massey Params)\", \"Year\": \"2007\", \"k\": 2319.0, \"k_orig\": 30045.0, \"sum_c\": 5373.0, \"k_worst\": 55306.0, \"top_n\": 16, \"k/k_orig\": 0.07718422366450324, \"k/k_worst\": 0.041930351137308794, \"k/sum_c\": 0.4316024567280849, \"k*k_orig/k_worst\": 1259.7973999204426, \"k/(k_worst-k_orig)\": 0.09180159138593089}, {\"Method\": \"Hillside(Colley Params)\", \"Year\": \"2008\", \"k\": 16.0, \"k_orig\": 25609.0, \"sum_c\": 44.0, \"k_worst\": 48271.0, \"top_n\": 2, \"k/k_orig\": 0.0006247803506579718, \"k/k_worst\": 0.00033146195438254854, \"k/sum_c\": 0.36363636363636365, \"k*k_orig/k_worst\": 8.488409189782685, \"k/(k_worst-k_orig)\": 0.0007060277115876799}, {\"Method\": \"Hillside(Colley Params)\", \"Year\": \"2008\", \"k\": 54.0, \"k_orig\": 25609.0, \"sum_c\": 129.0, \"k_worst\": 48271.0, \"top_n\": 3, \"k/k_orig\": 0.002108633683470655, \"k/k_worst\": 0.0011186840960411013, \"k/sum_c\": 0.4186046511627907, \"k*k_orig/k_worst\": 28.648381015516563, \"k/(k_worst-k_orig)\": 0.0023828435266084196}, {\"Method\": \"Hillside(Colley Params)\", \"Year\": \"2008\", \"k\": 101.0, \"k_orig\": 25609.0, \"sum_c\": 255.0, \"k_worst\": 48271.0, \"top_n\": 4, \"k/k_orig\": 0.003943925963528447, \"k/k_worst\": 0.0020923535870398377, \"k/sum_c\": 0.396078431372549, \"k*k_orig/k_worst\": 53.5830830105032, \"k/(k_worst-k_orig)\": 0.0044567999293972285}, {\"Method\": \"Hillside(Colley Params)\", \"Year\": \"2008\", \"k\": 153.0, \"k_orig\": 25609.0, \"sum_c\": 392.0, \"k_worst\": 48271.0, \"top_n\": 5, \"k/k_orig\": 0.005974462103166855, \"k/k_worst\": 0.00316960493878312, \"k/sum_c\": 0.3903061224489796, \"k*k_orig/k_worst\": 81.17041287729693, \"k/(k_worst-k_orig)\": 0.006751389992057188}, {\"Method\": \"Hillside(Colley Params)\", \"Year\": \"2008\", \"k\": 251.0, \"k_orig\": 25609.0, \"sum_c\": 620.0, \"k_worst\": 48271.0, \"top_n\": 6, \"k/k_orig\": 0.009801241750946934, \"k/k_worst\": 0.00519980940937623, \"k/sum_c\": 0.40483870967741936, \"k*k_orig/k_worst\": 133.16191916471587, \"k/(k_worst-k_orig)\": 0.011075809725531727}, {\"Method\": \"Hillside(Colley Params)\", \"Year\": \"2008\", \"k\": 339.0, \"k_orig\": 25609.0, \"sum_c\": 852.0, \"k_worst\": 48271.0, \"top_n\": 7, \"k/k_orig\": 0.013237533679565778, \"k/k_worst\": 0.007022850158480247, \"k/sum_c\": 0.397887323943662, \"k*k_orig/k_worst\": 179.84816970852066, \"k/(k_worst-k_orig)\": 0.014958962139263966}, {\"Method\": \"Hillside(Colley Params)\", \"Year\": \"2008\", \"k\": 447.0, \"k_orig\": 25609.0, \"sum_c\": 1090.0, \"k_worst\": 48271.0, \"top_n\": 8, \"k/k_orig\": 0.01745480104650709, \"k/k_worst\": 0.00926021835056245, \"k/sum_c\": 0.41009174311926605, \"k*k_orig/k_worst\": 237.14493173955378, \"k/(k_worst-k_orig)\": 0.019724649192480806}, {\"Method\": \"Hillside(Colley Params)\", \"Year\": \"2008\", \"k\": 603.0, \"k_orig\": 25609.0, \"sum_c\": 1446.0, \"k_worst\": 48271.0, \"top_n\": 9, \"k/k_orig\": 0.023546409465422313, \"k/k_worst\": 0.012491972405792298, \"k/sum_c\": 0.4170124481327801, \"k*k_orig/k_worst\": 319.90692133993497, \"k/(k_worst-k_orig)\": 0.02660841938046068}, {\"Method\": \"Hillside(Colley Params)\", \"Year\": \"2008\", \"k\": 711.0, \"k_orig\": 25609.0, \"sum_c\": 1695.0, \"k_worst\": 48271.0, \"top_n\": 10, \"k/k_orig\": 0.027763676832363623, \"k/k_worst\": 0.0147293405978745, \"k/sum_c\": 0.4194690265486726, \"k*k_orig/k_worst\": 377.20368337096806, \"k/(k_worst-k_orig)\": 0.03137410643367752}, {\"Method\": \"Hillside(Colley Params)\", \"Year\": \"2008\", \"k\": 906.0, \"k_orig\": 25609.0, \"sum_c\": 2156.0, \"k_worst\": 48271.0, \"top_n\": 11, \"k/k_orig\": 0.03537818735600765, \"k/k_worst\": 0.01876903316691181, \"k/sum_c\": 0.4202226345083488, \"k*k_orig/k_worst\": 480.65617037144455, \"k/(k_worst-k_orig)\": 0.03997881916865237}, {\"Method\": \"Hillside(Colley Params)\", \"Year\": \"2008\", \"k\": 1103.0, \"k_orig\": 25609.0, \"sum_c\": 2626.0, \"k_worst\": 48271.0, \"top_n\": 12, \"k/k_orig\": 0.04307079542348393, \"k/k_worst\": 0.02285015848024694, \"k/sum_c\": 0.42003046458492005, \"k*k_orig/k_worst\": 585.1697085206439, \"k/(k_worst-k_orig)\": 0.04867178536757568}, {\"Method\": \"Hillside(Colley Params)\", \"Year\": \"2008\", \"k\": 1334.0, \"k_orig\": 25609.0, \"sum_c\": 3195.0, \"k_worst\": 48271.0, \"top_n\": 13, \"k/k_orig\": 0.0520910617361084, \"k/k_worst\": 0.027635640446644984, \"k/sum_c\": 0.41752738654147104, \"k*k_orig/k_worst\": 707.7211161981314, \"k/(k_worst-k_orig)\": 0.0588650604536228}, {\"Method\": \"Hillside(Colley Params)\", \"Year\": \"2008\", \"k\": 1528.0, \"k_orig\": 25609.0, \"sum_c\": 3646.0, \"k_worst\": 48271.0, \"top_n\": 14, \"k/k_orig\": 0.059666523487836305, \"k/k_worst\": 0.03165461664353338, \"k/sum_c\": 0.4190894130554032, \"k*k_orig/k_worst\": 810.6430776242464, \"k/(k_worst-k_orig)\": 0.06742564645662343}, {\"Method\": \"Hillside(Colley Params)\", \"Year\": \"2008\", \"k\": 1765.0, \"k_orig\": 25609.0, \"sum_c\": 4221.0, \"k_worst\": 48271.0, \"top_n\": 15, \"k/k_orig\": 0.06892108243195752, \"k/k_worst\": 0.036564396842824885, \"k/sum_c\": 0.4181473584458659, \"k*k_orig/k_worst\": 936.3776387479024, \"k/(k_worst-k_orig)\": 0.07788368193451593}, {\"Method\": \"Hillside(Colley Params)\", \"Year\": \"2008\", \"k\": 2024.0, \"k_orig\": 25609.0, \"sum_c\": 4881.0, \"k_worst\": 48271.0, \"top_n\": 16, \"k/k_orig\": 0.07903471435823343, \"k/k_worst\": 0.04192993722939239, \"k/sum_c\": 0.4146691251792665, \"k*k_orig/k_worst\": 1073.7837625075097, \"k/(k_worst-k_orig)\": 0.0893125055158415}, {\"Method\": \"Hillside(Massey Params)\", \"Year\": \"2008\", \"k\": 16.0, \"k_orig\": 25609.0, \"sum_c\": 44.0, \"k_worst\": 48271.0, \"top_n\": 2, \"k/k_orig\": 0.0006247803506579718, \"k/k_worst\": 0.00033146195438254854, \"k/sum_c\": 0.36363636363636365, \"k*k_orig/k_worst\": 8.488409189782685, \"k/(k_worst-k_orig)\": 0.0007060277115876799}, {\"Method\": \"Hillside(Massey Params)\", \"Year\": \"2008\", \"k\": 54.0, \"k_orig\": 25609.0, \"sum_c\": 129.0, \"k_worst\": 48271.0, \"top_n\": 3, \"k/k_orig\": 0.002108633683470655, \"k/k_worst\": 0.0011186840960411013, \"k/sum_c\": 0.4186046511627907, \"k*k_orig/k_worst\": 28.648381015516563, \"k/(k_worst-k_orig)\": 0.0023828435266084196}, {\"Method\": \"Hillside(Massey Params)\", \"Year\": \"2008\", \"k\": 101.0, \"k_orig\": 25609.0, \"sum_c\": 255.0, \"k_worst\": 48271.0, \"top_n\": 4, \"k/k_orig\": 0.003943925963528447, \"k/k_worst\": 0.0020923535870398377, \"k/sum_c\": 0.396078431372549, \"k*k_orig/k_worst\": 53.5830830105032, \"k/(k_worst-k_orig)\": 0.0044567999293972285}, {\"Method\": \"Hillside(Massey Params)\", \"Year\": \"2008\", \"k\": 153.0, \"k_orig\": 25609.0, \"sum_c\": 392.0, \"k_worst\": 48271.0, \"top_n\": 5, \"k/k_orig\": 0.005974462103166855, \"k/k_worst\": 0.00316960493878312, \"k/sum_c\": 0.3903061224489796, \"k*k_orig/k_worst\": 81.17041287729693, \"k/(k_worst-k_orig)\": 0.006751389992057188}, {\"Method\": \"Hillside(Massey Params)\", \"Year\": \"2008\", \"k\": 251.0, \"k_orig\": 25609.0, \"sum_c\": 620.0, \"k_worst\": 48271.0, \"top_n\": 6, \"k/k_orig\": 0.009801241750946934, \"k/k_worst\": 0.00519980940937623, \"k/sum_c\": 0.40483870967741936, \"k*k_orig/k_worst\": 133.16191916471587, \"k/(k_worst-k_orig)\": 0.011075809725531727}, {\"Method\": \"Hillside(Massey Params)\", \"Year\": \"2008\", \"k\": 339.0, \"k_orig\": 25609.0, \"sum_c\": 852.0, \"k_worst\": 48271.0, \"top_n\": 7, \"k/k_orig\": 0.013237533679565778, \"k/k_worst\": 0.007022850158480247, \"k/sum_c\": 0.397887323943662, \"k*k_orig/k_worst\": 179.84816970852066, \"k/(k_worst-k_orig)\": 0.014958962139263966}, {\"Method\": \"Hillside(Massey Params)\", \"Year\": \"2008\", \"k\": 447.0, \"k_orig\": 25609.0, \"sum_c\": 1090.0, \"k_worst\": 48271.0, \"top_n\": 8, \"k/k_orig\": 0.01745480104650709, \"k/k_worst\": 0.00926021835056245, \"k/sum_c\": 0.41009174311926605, \"k*k_orig/k_worst\": 237.14493173955378, \"k/(k_worst-k_orig)\": 0.019724649192480806}, {\"Method\": \"Hillside(Massey Params)\", \"Year\": \"2008\", \"k\": 603.0, \"k_orig\": 25609.0, \"sum_c\": 1446.0, \"k_worst\": 48271.0, \"top_n\": 9, \"k/k_orig\": 0.023546409465422313, \"k/k_worst\": 0.012491972405792298, \"k/sum_c\": 0.4170124481327801, \"k*k_orig/k_worst\": 319.90692133993497, \"k/(k_worst-k_orig)\": 0.02660841938046068}, {\"Method\": \"Hillside(Massey Params)\", \"Year\": \"2008\", \"k\": 711.0, \"k_orig\": 25609.0, \"sum_c\": 1695.0, \"k_worst\": 48271.0, \"top_n\": 10, \"k/k_orig\": 0.027763676832363623, \"k/k_worst\": 0.0147293405978745, \"k/sum_c\": 0.4194690265486726, \"k*k_orig/k_worst\": 377.20368337096806, \"k/(k_worst-k_orig)\": 0.03137410643367752}, {\"Method\": \"Hillside(Massey Params)\", \"Year\": \"2008\", \"k\": 906.0, \"k_orig\": 25609.0, \"sum_c\": 2156.0, \"k_worst\": 48271.0, \"top_n\": 11, \"k/k_orig\": 0.03537818735600765, \"k/k_worst\": 0.01876903316691181, \"k/sum_c\": 0.4202226345083488, \"k*k_orig/k_worst\": 480.65617037144455, \"k/(k_worst-k_orig)\": 0.03997881916865237}, {\"Method\": \"Hillside(Massey Params)\", \"Year\": \"2008\", \"k\": 1103.0, \"k_orig\": 25609.0, \"sum_c\": 2626.0, \"k_worst\": 48271.0, \"top_n\": 12, \"k/k_orig\": 0.04307079542348393, \"k/k_worst\": 0.02285015848024694, \"k/sum_c\": 0.42003046458492005, \"k*k_orig/k_worst\": 585.1697085206439, \"k/(k_worst-k_orig)\": 0.04867178536757568}, {\"Method\": \"Hillside(Massey Params)\", \"Year\": \"2008\", \"k\": 1334.0, \"k_orig\": 25609.0, \"sum_c\": 3195.0, \"k_worst\": 48271.0, \"top_n\": 13, \"k/k_orig\": 0.0520910617361084, \"k/k_worst\": 0.027635640446644984, \"k/sum_c\": 0.41752738654147104, \"k*k_orig/k_worst\": 707.7211161981314, \"k/(k_worst-k_orig)\": 0.0588650604536228}, {\"Method\": \"Hillside(Massey Params)\", \"Year\": \"2008\", \"k\": 1528.0, \"k_orig\": 25609.0, \"sum_c\": 3646.0, \"k_worst\": 48271.0, \"top_n\": 14, \"k/k_orig\": 0.059666523487836305, \"k/k_worst\": 0.03165461664353338, \"k/sum_c\": 0.4190894130554032, \"k*k_orig/k_worst\": 810.6430776242464, \"k/(k_worst-k_orig)\": 0.06742564645662343}, {\"Method\": \"Hillside(Massey Params)\", \"Year\": \"2008\", \"k\": 1765.0, \"k_orig\": 25609.0, \"sum_c\": 4221.0, \"k_worst\": 48271.0, \"top_n\": 15, \"k/k_orig\": 0.06892108243195752, \"k/k_worst\": 0.036564396842824885, \"k/sum_c\": 0.4181473584458659, \"k*k_orig/k_worst\": 936.3776387479024, \"k/(k_worst-k_orig)\": 0.07788368193451593}, {\"Method\": \"Hillside(Massey Params)\", \"Year\": \"2008\", \"k\": 2024.0, \"k_orig\": 25609.0, \"sum_c\": 4881.0, \"k_worst\": 48271.0, \"top_n\": 16, \"k/k_orig\": 0.07903471435823343, \"k/k_worst\": 0.04192993722939239, \"k/sum_c\": 0.4146691251792665, \"k*k_orig/k_worst\": 1073.7837625075097, \"k/(k_worst-k_orig)\": 0.0893125055158415}, {\"Method\": \"Hillside(Colley Params)\", \"Year\": \"2009\", \"k\": 22.0, \"k_orig\": 26927.0, \"sum_c\": 47.0, \"k_worst\": 50040.0, \"top_n\": 2, \"k/k_orig\": 0.000817023805102685, \"k/k_worst\": 0.00043964828137490005, \"k/sum_c\": 0.46808510638297873, \"k*k_orig/k_worst\": 11.838409272581934, \"k/(k_worst-k_orig)\": 0.0009518452818760005}, {\"Method\": \"Hillside(Colley Params)\", \"Year\": \"2009\", \"k\": 73.0, \"k_orig\": 26927.0, \"sum_c\": 153.0, \"k_worst\": 50040.0, \"top_n\": 3, \"k/k_orig\": 0.0027110335351134547, \"k/k_worst\": 0.0014588329336530776, \"k/sum_c\": 0.477124183006536, \"k*k_orig/k_worst\": 39.28199440447642, \"k/(k_worst-k_orig)\": 0.0031583957080430925}, {\"Method\": \"Hillside(Colley Params)\", \"Year\": \"2009\", \"k\": 132.0, \"k_orig\": 26927.0, \"sum_c\": 290.0, \"k_worst\": 50040.0, \"top_n\": 4, \"k/k_orig\": 0.004902142830616111, \"k/k_worst\": 0.0026378896882494006, \"k/sum_c\": 0.45517241379310347, \"k*k_orig/k_worst\": 71.0304556354916, \"k/(k_worst-k_orig)\": 0.005711071691256003}, {\"Method\": \"Hillside(Colley Params)\", \"Year\": \"2009\", \"k\": 218.0, \"k_orig\": 26927.0, \"sum_c\": 486.0, \"k_worst\": 50040.0, \"top_n\": 5, \"k/k_orig\": 0.00809596315965388, \"k/k_worst\": 0.004356514788169464, \"k/sum_c\": 0.448559670781893, \"k*k_orig/k_worst\": 117.30787370103917, \"k/(k_worst-k_orig)\": 0.00943192142949855}, {\"Method\": \"Hillside(Colley Params)\", \"Year\": \"2009\", \"k\": 327.0, \"k_orig\": 26927.0, \"sum_c\": 754.0, \"k_worst\": 50040.0, \"top_n\": 6, \"k/k_orig\": 0.012143944739480819, \"k/k_worst\": 0.006534772182254196, \"k/sum_c\": 0.4336870026525199, \"k*k_orig/k_worst\": 175.96181055155876, \"k/(k_worst-k_orig)\": 0.014147882144247826}, {\"Method\": \"Hillside(Colley Params)\", \"Year\": \"2009\", \"k\": 444.0, \"k_orig\": 26927.0, \"sum_c\": 1032.0, \"k_worst\": 50040.0, \"top_n\": 7, \"k/k_orig\": 0.016489025884799644, \"k/k_worst\": 0.008872901678657074, \"k/sum_c\": 0.43023255813953487, \"k*k_orig/k_worst\": 238.92062350119903, \"k/(k_worst-k_orig)\": 0.01920996841604292}, {\"Method\": \"Hillside(Colley Params)\", \"Year\": \"2009\", \"k\": 570.0, \"k_orig\": 26927.0, \"sum_c\": 1330.0, \"k_worst\": 50040.0, \"top_n\": 8, \"k/k_orig\": 0.02116834404129684, \"k/k_worst\": 0.011390887290167866, \"k/sum_c\": 0.42857142857142855, \"k*k_orig/k_worst\": 306.7224220623501, \"k/(k_worst-k_orig)\": 0.02466144593951456}, {\"Method\": \"Hillside(Colley Params)\", \"Year\": \"2009\", \"k\": 729.0, \"k_orig\": 26927.0, \"sum_c\": 1721.0, \"k_worst\": 50040.0, \"top_n\": 9, \"k/k_orig\": 0.027073197905448064, \"k/k_worst\": 0.014568345323741008, \"k/sum_c\": 0.4235909355026148, \"k*k_orig/k_worst\": 392.2818345323741, \"k/(k_worst-k_orig)\": 0.0315406913858002}, {\"Method\": \"Hillside(Colley Params)\", \"Year\": \"2009\", \"k\": 862.0, \"k_orig\": 26927.0, \"sum_c\": 2054.0, \"k_worst\": 50040.0, \"top_n\": 10, \"k/k_orig\": 0.03201247818175066, \"k/k_worst\": 0.017226219024780175, \"k/sum_c\": 0.4196689386562804, \"k*k_orig/k_worst\": 463.8503996802558, \"k/(k_worst-k_orig)\": 0.03729502877168693}, {\"Method\": \"Hillside(Colley Params)\", \"Year\": \"2009\", \"k\": 1089.0, \"k_orig\": 26927.0, \"sum_c\": 2597.0, \"k_worst\": 50040.0, \"top_n\": 11, \"k/k_orig\": 0.04044267835258291, \"k/k_worst\": 0.021762589928057553, \"k/sum_c\": 0.41932999614940314, \"k*k_orig/k_worst\": 586.0012589928058, \"k/(k_worst-k_orig)\": 0.047116341452862025}, {\"Method\": \"Hillside(Colley Params)\", \"Year\": \"2009\", \"k\": 1355.0, \"k_orig\": 26927.0, \"sum_c\": 3164.0, \"k_worst\": 50040.0, \"top_n\": 12, \"k/k_orig\": 0.0503212389051881, \"k/k_worst\": 0.027078337330135892, \"k/sum_c\": 0.4282553729456384, \"k*k_orig/k_worst\": 729.1383892885691, \"k/(k_worst-k_orig)\": 0.058625016224635486}, {\"Method\": \"Hillside(Colley Params)\", \"Year\": \"2009\", \"k\": 1592.0, \"k_orig\": 26927.0, \"sum_c\": 3725.0, \"k_worst\": 50040.0, \"top_n\": 13, \"k/k_orig\": 0.05912281353288521, \"k/k_worst\": 0.03181454836131095, \"k/sum_c\": 0.4273825503355705, \"k*k_orig/k_worst\": 856.67034372502, \"k/(k_worst-k_orig)\": 0.06887898585211785}, {\"Method\": \"Hillside(Colley Params)\", \"Year\": \"2009\", \"k\": 1887.0, \"k_orig\": 26927.0, \"sum_c\": 4391.0, \"k_worst\": 50040.0, \"top_n\": 14, \"k/k_orig\": 0.07007836001039848, \"k/k_worst\": 0.03770983213429257, \"k/sum_c\": 0.4297426554315646, \"k*k_orig/k_worst\": 1015.412649880096, \"k/(k_worst-k_orig)\": 0.08164236576818241}, {\"Method\": \"Hillside(Colley Params)\", \"Year\": \"2009\", \"k\": 2130.0, \"k_orig\": 26927.0, \"sum_c\": 4932.0, \"k_worst\": 50040.0, \"top_n\": 15, \"k/k_orig\": 0.0791027593122145, \"k/k_worst\": 0.042565947242206234, \"k/sum_c\": 0.4318734793187348, \"k*k_orig/k_worst\": 1146.1732613908873, \"k/(k_worst-k_orig)\": 0.09215592956344915}, {\"Method\": \"Hillside(Colley Params)\", \"Year\": \"2009\", \"k\": 2430.0, \"k_orig\": 26927.0, \"sum_c\": 5631.0, \"k_worst\": 50040.0, \"top_n\": 16, \"k/k_orig\": 0.0902439930181602, \"k/k_worst\": 0.048561151079136694, \"k/sum_c\": 0.43153969099627065, \"k*k_orig/k_worst\": 1307.6061151079136, \"k/(k_worst-k_orig)\": 0.10513563795266732}, {\"Method\": \"Hillside(Massey Params)\", \"Year\": \"2009\", \"k\": 22.0, \"k_orig\": 26927.0, \"sum_c\": 47.0, \"k_worst\": 50040.0, \"top_n\": 2, \"k/k_orig\": 0.000817023805102685, \"k/k_worst\": 0.00043964828137490005, \"k/sum_c\": 0.46808510638297873, \"k*k_orig/k_worst\": 11.838409272581934, \"k/(k_worst-k_orig)\": 0.0009518452818760005}, {\"Method\": \"Hillside(Massey Params)\", \"Year\": \"2009\", \"k\": 73.0, \"k_orig\": 26927.0, \"sum_c\": 153.0, \"k_worst\": 50040.0, \"top_n\": 3, \"k/k_orig\": 0.0027110335351134547, \"k/k_worst\": 0.0014588329336530776, \"k/sum_c\": 0.477124183006536, \"k*k_orig/k_worst\": 39.28199440447642, \"k/(k_worst-k_orig)\": 0.0031583957080430925}, {\"Method\": \"Hillside(Massey Params)\", \"Year\": \"2009\", \"k\": 132.0, \"k_orig\": 26927.0, \"sum_c\": 290.0, \"k_worst\": 50040.0, \"top_n\": 4, \"k/k_orig\": 0.004902142830616111, \"k/k_worst\": 0.0026378896882494006, \"k/sum_c\": 0.45517241379310347, \"k*k_orig/k_worst\": 71.0304556354916, \"k/(k_worst-k_orig)\": 0.005711071691256003}, {\"Method\": \"Hillside(Massey Params)\", \"Year\": \"2009\", \"k\": 218.0, \"k_orig\": 26927.0, \"sum_c\": 486.0, \"k_worst\": 50040.0, \"top_n\": 5, \"k/k_orig\": 0.00809596315965388, \"k/k_worst\": 0.004356514788169464, \"k/sum_c\": 0.448559670781893, \"k*k_orig/k_worst\": 117.30787370103917, \"k/(k_worst-k_orig)\": 0.00943192142949855}, {\"Method\": \"Hillside(Massey Params)\", \"Year\": \"2009\", \"k\": 327.0, \"k_orig\": 26927.0, \"sum_c\": 754.0, \"k_worst\": 50040.0, \"top_n\": 6, \"k/k_orig\": 0.012143944739480819, \"k/k_worst\": 0.006534772182254196, \"k/sum_c\": 0.4336870026525199, \"k*k_orig/k_worst\": 175.96181055155876, \"k/(k_worst-k_orig)\": 0.014147882144247826}, {\"Method\": \"Hillside(Massey Params)\", \"Year\": \"2009\", \"k\": 444.0, \"k_orig\": 26927.0, \"sum_c\": 1032.0, \"k_worst\": 50040.0, \"top_n\": 7, \"k/k_orig\": 0.016489025884799644, \"k/k_worst\": 0.008872901678657074, \"k/sum_c\": 0.43023255813953487, \"k*k_orig/k_worst\": 238.92062350119903, \"k/(k_worst-k_orig)\": 0.01920996841604292}, {\"Method\": \"Hillside(Massey Params)\", \"Year\": \"2009\", \"k\": 570.0, \"k_orig\": 26927.0, \"sum_c\": 1330.0, \"k_worst\": 50040.0, \"top_n\": 8, \"k/k_orig\": 0.02116834404129684, \"k/k_worst\": 0.011390887290167866, \"k/sum_c\": 0.42857142857142855, \"k*k_orig/k_worst\": 306.7224220623501, \"k/(k_worst-k_orig)\": 0.02466144593951456}, {\"Method\": \"Hillside(Massey Params)\", \"Year\": \"2009\", \"k\": 729.0, \"k_orig\": 26927.0, \"sum_c\": 1721.0, \"k_worst\": 50040.0, \"top_n\": 9, \"k/k_orig\": 0.027073197905448064, \"k/k_worst\": 0.014568345323741008, \"k/sum_c\": 0.4235909355026148, \"k*k_orig/k_worst\": 392.2818345323741, \"k/(k_worst-k_orig)\": 0.0315406913858002}, {\"Method\": \"Hillside(Massey Params)\", \"Year\": \"2009\", \"k\": 862.0, \"k_orig\": 26927.0, \"sum_c\": 2054.0, \"k_worst\": 50040.0, \"top_n\": 10, \"k/k_orig\": 0.03201247818175066, \"k/k_worst\": 0.017226219024780175, \"k/sum_c\": 0.4196689386562804, \"k*k_orig/k_worst\": 463.8503996802558, \"k/(k_worst-k_orig)\": 0.03729502877168693}, {\"Method\": \"Hillside(Massey Params)\", \"Year\": \"2009\", \"k\": 1089.0, \"k_orig\": 26927.0, \"sum_c\": 2597.0, \"k_worst\": 50040.0, \"top_n\": 11, \"k/k_orig\": 0.04044267835258291, \"k/k_worst\": 0.021762589928057553, \"k/sum_c\": 0.41932999614940314, \"k*k_orig/k_worst\": 586.0012589928058, \"k/(k_worst-k_orig)\": 0.047116341452862025}, {\"Method\": \"Hillside(Massey Params)\", \"Year\": \"2009\", \"k\": 1355.0, \"k_orig\": 26927.0, \"sum_c\": 3164.0, \"k_worst\": 50040.0, \"top_n\": 12, \"k/k_orig\": 0.0503212389051881, \"k/k_worst\": 0.027078337330135892, \"k/sum_c\": 0.4282553729456384, \"k*k_orig/k_worst\": 729.1383892885691, \"k/(k_worst-k_orig)\": 0.058625016224635486}, {\"Method\": \"Hillside(Massey Params)\", \"Year\": \"2009\", \"k\": 1592.0, \"k_orig\": 26927.0, \"sum_c\": 3725.0, \"k_worst\": 50040.0, \"top_n\": 13, \"k/k_orig\": 0.05912281353288521, \"k/k_worst\": 0.03181454836131095, \"k/sum_c\": 0.4273825503355705, \"k*k_orig/k_worst\": 856.67034372502, \"k/(k_worst-k_orig)\": 0.06887898585211785}, {\"Method\": \"Hillside(Massey Params)\", \"Year\": \"2009\", \"k\": 1887.0, \"k_orig\": 26927.0, \"sum_c\": 4391.0, \"k_worst\": 50040.0, \"top_n\": 14, \"k/k_orig\": 0.07007836001039848, \"k/k_worst\": 0.03770983213429257, \"k/sum_c\": 0.4297426554315646, \"k*k_orig/k_worst\": 1015.412649880096, \"k/(k_worst-k_orig)\": 0.08164236576818241}, {\"Method\": \"Hillside(Massey Params)\", \"Year\": \"2009\", \"k\": 2130.0, \"k_orig\": 26927.0, \"sum_c\": 4932.0, \"k_worst\": 50040.0, \"top_n\": 15, \"k/k_orig\": 0.0791027593122145, \"k/k_worst\": 0.042565947242206234, \"k/sum_c\": 0.4318734793187348, \"k*k_orig/k_worst\": 1146.1732613908873, \"k/(k_worst-k_orig)\": 0.09215592956344915}, {\"Method\": \"Hillside(Massey Params)\", \"Year\": \"2009\", \"k\": 2430.0, \"k_orig\": 26927.0, \"sum_c\": 5631.0, \"k_worst\": 50040.0, \"top_n\": 16, \"k/k_orig\": 0.0902439930181602, \"k/k_worst\": 0.048561151079136694, \"k/sum_c\": 0.43153969099627065, \"k*k_orig/k_worst\": 1307.6061151079136, \"k/(k_worst-k_orig)\": 0.10513563795266732}, {\"Method\": \"Hillside(Colley Params)\", \"Year\": \"2010\", \"k\": 24.0, \"k_orig\": 26704.0, \"sum_c\": 50.0, \"k_worst\": 50107.0, \"top_n\": 2, \"k/k_orig\": 0.0008987417615338526, \"k/k_worst\": 0.0004789749935138803, \"k/sum_c\": 0.48, \"k*k_orig/k_worst\": 12.790548226794659, \"k/(k_worst-k_orig)\": 0.001025509550057685}, {\"Method\": \"Hillside(Colley Params)\", \"Year\": \"2010\", \"k\": 68.0, \"k_orig\": 26704.0, \"sum_c\": 147.0, \"k_worst\": 50107.0, \"top_n\": 3, \"k/k_orig\": 0.0025464349910125825, \"k/k_worst\": 0.0013570958149559942, \"k/sum_c\": 0.46258503401360546, \"k*k_orig/k_worst\": 36.23988664258487, \"k/(k_worst-k_orig)\": 0.0029056103918301073}, {\"Method\": \"Hillside(Colley Params)\", \"Year\": \"2010\", \"k\": 138.0, \"k_orig\": 26704.0, \"sum_c\": 304.0, \"k_worst\": 50107.0, \"top_n\": 4, \"k/k_orig\": 0.005167765128819652, \"k/k_worst\": 0.0027541062127048118, \"k/sum_c\": 0.45394736842105265, \"k*k_orig/k_worst\": 73.54565230406929, \"k/(k_worst-k_orig)\": 0.005896679912831688}, {\"Method\": \"Hillside(Colley Params)\", \"Year\": \"2010\", \"k\": 228.0, \"k_orig\": 26704.0, \"sum_c\": 498.0, \"k_worst\": 50107.0, \"top_n\": 5, \"k/k_orig\": 0.0085380467345716, \"k/k_worst\": 0.004550262438381863, \"k/sum_c\": 0.4578313253012048, \"k*k_orig/k_worst\": 121.51020815454926, \"k/(k_worst-k_orig)\": 0.009742340725548007}, {\"Method\": \"Hillside(Colley Params)\", \"Year\": \"2010\", \"k\": 298.0, \"k_orig\": 26704.0, \"sum_c\": 658.0, \"k_worst\": 50107.0, \"top_n\": 6, \"k/k_orig\": 0.01115937687237867, \"k/k_worst\": 0.00594727283613068, \"k/sum_c\": 0.45288753799392095, \"k*k_orig/k_worst\": 158.81597381603368, \"k/(k_worst-k_orig)\": 0.012733410246549587}, {\"Method\": \"Hillside(Colley Params)\", \"Year\": \"2010\", \"k\": 425.0, \"k_orig\": 26704.0, \"sum_c\": 957.0, \"k_worst\": 50107.0, \"top_n\": 7, \"k/k_orig\": 0.01591521869382864, \"k/k_worst\": 0.008481848843474964, \"k/sum_c\": 0.4440961337513062, \"k*k_orig/k_worst\": 226.49929151615544, \"k/(k_worst-k_orig)\": 0.01816006494893817}, {\"Method\": \"Hillside(Colley Params)\", \"Year\": \"2010\", \"k\": 563.0, \"k_orig\": 26704.0, \"sum_c\": 1261.0, \"k_worst\": 50107.0, \"top_n\": 8, \"k/k_orig\": 0.021082983822648293, \"k/k_worst\": 0.011235955056179775, \"k/sum_c\": 0.4464710547184774, \"k*k_orig/k_worst\": 300.0449438202247, \"k/(k_worst-k_orig)\": 0.02405674486176986}, {\"Method\": \"Hillside(Colley Params)\", \"Year\": \"2010\", \"k\": 651.0, \"k_orig\": 26704.0, \"sum_c\": 1457.0, \"k_worst\": 50107.0, \"top_n\": 9, \"k/k_orig\": 0.024378370281605753, \"k/k_worst\": 0.012992196699064004, \"k/sum_c\": 0.44680851063829785, \"k*k_orig/k_worst\": 346.94362065180513, \"k/(k_worst-k_orig)\": 0.027816946545314702}, {\"Method\": \"Hillside(Colley Params)\", \"Year\": \"2010\", \"k\": 823.0, \"k_orig\": 26704.0, \"sum_c\": 1854.0, \"k_worst\": 50107.0, \"top_n\": 10, \"k/k_orig\": 0.030819352905931695, \"k/k_worst\": 0.01642485081924681, \"k/sum_c\": 0.44390507011866237, \"k*k_orig/k_worst\": 438.60921627716687, \"k/(k_worst-k_orig)\": 0.03516643165406144}, {\"Method\": \"Hillside(Colley Params)\", \"Year\": \"2010\", \"k\": 1024.0, \"k_orig\": 26704.0, \"sum_c\": 2296.0, \"k_worst\": 50107.0, \"top_n\": 11, \"k/k_orig\": 0.03834631515877771, \"k/k_worst\": 0.02043626638992556, \"k/sum_c\": 0.445993031358885, \"k*k_orig/k_worst\": 545.7300576765722, \"k/(k_worst-k_orig)\": 0.043755074135794554}, {\"Method\": \"Hillside(Colley Params)\", \"Year\": \"2010\", \"k\": 1249.0, \"k_orig\": 26704.0, \"sum_c\": 2825.0, \"k_worst\": 50107.0, \"top_n\": 12, \"k/k_orig\": 0.04677201917315758, \"k/k_worst\": 0.024926656954118186, \"k/sum_c\": 0.44212389380530975, \"k*k_orig/k_worst\": 665.6414473027721, \"k/(k_worst-k_orig)\": 0.053369226167585354}, {\"Method\": \"Hillside(Colley Params)\", \"Year\": \"2010\", \"k\": 1557.0, \"k_orig\": 26704.0, \"sum_c\": 3531.0, \"k_worst\": 50107.0, \"top_n\": 13, \"k/k_orig\": 0.05830587177950869, \"k/k_worst\": 0.031073502704212986, \"k/sum_c\": 0.4409515717926933, \"k*k_orig/k_worst\": 829.7868162133035, \"k/(k_worst-k_orig)\": 0.0665299320599923}, {\"Method\": \"Hillside(Colley Params)\", \"Year\": \"2010\", \"k\": 1793.0, \"k_orig\": 26704.0, \"sum_c\": 4140.0, \"k_worst\": 50107.0, \"top_n\": 14, \"k/k_orig\": 0.06714349910125823, \"k/k_worst\": 0.03578342347376614, \"k/sum_c\": 0.4330917874396135, \"k*k_orig/k_worst\": 955.560540443451, \"k/(k_worst-k_orig)\": 0.07661410930222622}, {\"Method\": \"Hillside(Colley Params)\", \"Year\": \"2010\", \"k\": 2058.0, \"k_orig\": 26704.0, \"sum_c\": 4781.0, \"k_worst\": 50107.0, \"top_n\": 15, \"k/k_orig\": 0.07706710605152786, \"k/k_worst\": 0.04107210569381523, \"k/sum_c\": 0.43045387994143486, \"k*k_orig/k_worst\": 1096.789510447642, \"k/(k_worst-k_orig)\": 0.08793744391744648}, {\"Method\": \"Hillside(Colley Params)\", \"Year\": \"2010\", \"k\": 2344.0, \"k_orig\": 26704.0, \"sum_c\": 5490.0, \"k_worst\": 50107.0, \"top_n\": 16, \"k/k_orig\": 0.08777711204313961, \"k/k_worst\": 0.046779891033188976, \"k/sum_c\": 0.4269581056466302, \"k*k_orig/k_worst\": 1249.2102101502785, \"k/(k_worst-k_orig)\": 0.10015809938896722}, {\"Method\": \"Hillside(Massey Params)\", \"Year\": \"2010\", \"k\": 24.0, \"k_orig\": 26704.0, \"sum_c\": 50.0, \"k_worst\": 50107.0, \"top_n\": 2, \"k/k_orig\": 0.0008987417615338526, \"k/k_worst\": 0.0004789749935138803, \"k/sum_c\": 0.48, \"k*k_orig/k_worst\": 12.790548226794659, \"k/(k_worst-k_orig)\": 0.001025509550057685}, {\"Method\": \"Hillside(Massey Params)\", \"Year\": \"2010\", \"k\": 68.0, \"k_orig\": 26704.0, \"sum_c\": 147.0, \"k_worst\": 50107.0, \"top_n\": 3, \"k/k_orig\": 0.0025464349910125825, \"k/k_worst\": 0.0013570958149559942, \"k/sum_c\": 0.46258503401360546, \"k*k_orig/k_worst\": 36.23988664258487, \"k/(k_worst-k_orig)\": 0.0029056103918301073}, {\"Method\": \"Hillside(Massey Params)\", \"Year\": \"2010\", \"k\": 138.0, \"k_orig\": 26704.0, \"sum_c\": 304.0, \"k_worst\": 50107.0, \"top_n\": 4, \"k/k_orig\": 0.005167765128819652, \"k/k_worst\": 0.0027541062127048118, \"k/sum_c\": 0.45394736842105265, \"k*k_orig/k_worst\": 73.54565230406929, \"k/(k_worst-k_orig)\": 0.005896679912831688}, {\"Method\": \"Hillside(Massey Params)\", \"Year\": \"2010\", \"k\": 228.0, \"k_orig\": 26704.0, \"sum_c\": 498.0, \"k_worst\": 50107.0, \"top_n\": 5, \"k/k_orig\": 0.0085380467345716, \"k/k_worst\": 0.004550262438381863, \"k/sum_c\": 0.4578313253012048, \"k*k_orig/k_worst\": 121.51020815454926, \"k/(k_worst-k_orig)\": 0.009742340725548007}, {\"Method\": \"Hillside(Massey Params)\", \"Year\": \"2010\", \"k\": 298.0, \"k_orig\": 26704.0, \"sum_c\": 658.0, \"k_worst\": 50107.0, \"top_n\": 6, \"k/k_orig\": 0.01115937687237867, \"k/k_worst\": 0.00594727283613068, \"k/sum_c\": 0.45288753799392095, \"k*k_orig/k_worst\": 158.81597381603368, \"k/(k_worst-k_orig)\": 0.012733410246549587}, {\"Method\": \"Hillside(Massey Params)\", \"Year\": \"2010\", \"k\": 425.0, \"k_orig\": 26704.0, \"sum_c\": 957.0, \"k_worst\": 50107.0, \"top_n\": 7, \"k/k_orig\": 0.01591521869382864, \"k/k_worst\": 0.008481848843474964, \"k/sum_c\": 0.4440961337513062, \"k*k_orig/k_worst\": 226.49929151615544, \"k/(k_worst-k_orig)\": 0.01816006494893817}, {\"Method\": \"Hillside(Massey Params)\", \"Year\": \"2010\", \"k\": 563.0, \"k_orig\": 26704.0, \"sum_c\": 1261.0, \"k_worst\": 50107.0, \"top_n\": 8, \"k/k_orig\": 0.021082983822648293, \"k/k_worst\": 0.011235955056179775, \"k/sum_c\": 0.4464710547184774, \"k*k_orig/k_worst\": 300.0449438202247, \"k/(k_worst-k_orig)\": 0.02405674486176986}, {\"Method\": \"Hillside(Massey Params)\", \"Year\": \"2010\", \"k\": 651.0, \"k_orig\": 26704.0, \"sum_c\": 1457.0, \"k_worst\": 50107.0, \"top_n\": 9, \"k/k_orig\": 0.024378370281605753, \"k/k_worst\": 0.012992196699064004, \"k/sum_c\": 0.44680851063829785, \"k*k_orig/k_worst\": 346.94362065180513, \"k/(k_worst-k_orig)\": 0.027816946545314702}, {\"Method\": \"Hillside(Massey Params)\", \"Year\": \"2010\", \"k\": 823.0, \"k_orig\": 26704.0, \"sum_c\": 1854.0, \"k_worst\": 50107.0, \"top_n\": 10, \"k/k_orig\": 0.030819352905931695, \"k/k_worst\": 0.01642485081924681, \"k/sum_c\": 0.44390507011866237, \"k*k_orig/k_worst\": 438.60921627716687, \"k/(k_worst-k_orig)\": 0.03516643165406144}, {\"Method\": \"Hillside(Massey Params)\", \"Year\": \"2010\", \"k\": 1024.0, \"k_orig\": 26704.0, \"sum_c\": 2296.0, \"k_worst\": 50107.0, \"top_n\": 11, \"k/k_orig\": 0.03834631515877771, \"k/k_worst\": 0.02043626638992556, \"k/sum_c\": 0.445993031358885, \"k*k_orig/k_worst\": 545.7300576765722, \"k/(k_worst-k_orig)\": 0.043755074135794554}, {\"Method\": \"Hillside(Massey Params)\", \"Year\": \"2010\", \"k\": 1249.0, \"k_orig\": 26704.0, \"sum_c\": 2825.0, \"k_worst\": 50107.0, \"top_n\": 12, \"k/k_orig\": 0.04677201917315758, \"k/k_worst\": 0.024926656954118186, \"k/sum_c\": 0.44212389380530975, \"k*k_orig/k_worst\": 665.6414473027721, \"k/(k_worst-k_orig)\": 0.053369226167585354}, {\"Method\": \"Hillside(Massey Params)\", \"Year\": \"2010\", \"k\": 1557.0, \"k_orig\": 26704.0, \"sum_c\": 3531.0, \"k_worst\": 50107.0, \"top_n\": 13, \"k/k_orig\": 0.05830587177950869, \"k/k_worst\": 0.031073502704212986, \"k/sum_c\": 0.4409515717926933, \"k*k_orig/k_worst\": 829.7868162133035, \"k/(k_worst-k_orig)\": 0.0665299320599923}, {\"Method\": \"Hillside(Massey Params)\", \"Year\": \"2010\", \"k\": 1793.0, \"k_orig\": 26704.0, \"sum_c\": 4140.0, \"k_worst\": 50107.0, \"top_n\": 14, \"k/k_orig\": 0.06714349910125823, \"k/k_worst\": 0.03578342347376614, \"k/sum_c\": 0.4330917874396135, \"k*k_orig/k_worst\": 955.560540443451, \"k/(k_worst-k_orig)\": 0.07661410930222622}, {\"Method\": \"Hillside(Massey Params)\", \"Year\": \"2010\", \"k\": 2058.0, \"k_orig\": 26704.0, \"sum_c\": 4781.0, \"k_worst\": 50107.0, \"top_n\": 15, \"k/k_orig\": 0.07706710605152786, \"k/k_worst\": 0.04107210569381523, \"k/sum_c\": 0.43045387994143486, \"k*k_orig/k_worst\": 1096.789510447642, \"k/(k_worst-k_orig)\": 0.08793744391744648}, {\"Method\": \"Hillside(Massey Params)\", \"Year\": \"2010\", \"k\": 2344.0, \"k_orig\": 26704.0, \"sum_c\": 5490.0, \"k_worst\": 50107.0, \"top_n\": 16, \"k/k_orig\": 0.08777711204313961, \"k/k_worst\": 0.046779891033188976, \"k/sum_c\": 0.4269581056466302, \"k*k_orig/k_worst\": 1249.2102101502785, \"k/(k_worst-k_orig)\": 0.10015809938896722}, {\"Method\": \"Hillside(Colley Params)\", \"Year\": \"2011\", \"k\": 16.0, \"k_orig\": 35820.0, \"sum_c\": 41.0, \"k_worst\": 66986.0, \"top_n\": 2, \"k/k_orig\": 0.00044667783361250696, \"k/k_worst\": 0.00023885588033320396, \"k/sum_c\": 0.3902439024390244, \"k*k_orig/k_worst\": 8.555817633535366, \"k/(k_worst-k_orig)\": 0.0005133799653468524}, {\"Method\": \"Hillside(Colley Params)\", \"Year\": \"2011\", \"k\": 61.0, \"k_orig\": 35820.0, \"sum_c\": 151.0, \"k_worst\": 66986.0, \"top_n\": 3, \"k/k_orig\": 0.0017029592406476828, \"k/k_worst\": 0.0009106380437703401, \"k/sum_c\": 0.40397350993377484, \"k*k_orig/k_worst\": 32.61905472785358, \"k/(k_worst-k_orig)\": 0.0019572611178848747}, {\"Method\": \"Hillside(Colley Params)\", \"Year\": \"2011\", \"k\": 137.0, \"k_orig\": 35820.0, \"sum_c\": 321.0, \"k_worst\": 66986.0, \"top_n\": 4, \"k/k_orig\": 0.003824678950307091, \"k/k_worst\": 0.0020452034753530588, \"k/sum_c\": 0.42679127725856697, \"k*k_orig/k_worst\": 73.25918848714657, \"k/(k_worst-k_orig)\": 0.0043958159532824235}, {\"Method\": \"Hillside(Colley Params)\", \"Year\": \"2011\", \"k\": 232.0, \"k_orig\": 35820.0, \"sum_c\": 546.0, \"k_worst\": 66986.0, \"top_n\": 5, \"k/k_orig\": 0.0064768285873813515, \"k/k_worst\": 0.003463410264831457, \"k/sum_c\": 0.4249084249084249, \"k*k_orig/k_worst\": 124.0593556862628, \"k/(k_worst-k_orig)\": 0.0074440094975293586}, {\"Method\": \"Hillside(Colley Params)\", \"Year\": \"2011\", \"k\": 334.0, \"k_orig\": 35820.0, \"sum_c\": 808.0, \"k_worst\": 66986.0, \"top_n\": 6, \"k/k_orig\": 0.009324399776661083, \"k/k_worst\": 0.004986116501955633, \"k/sum_c\": 0.41336633663366334, \"k*k_orig/k_worst\": 178.60269310005074, \"k/(k_worst-k_orig)\": 0.010716806776615543}, {\"Method\": \"Hillside(Colley Params)\", \"Year\": \"2011\", \"k\": 466.0, \"k_orig\": 35820.0, \"sum_c\": 1130.0, \"k_worst\": 66986.0, \"top_n\": 7, \"k/k_orig\": 0.013009491903964266, \"k/k_worst\": 0.006956677514704565, \"k/sum_c\": 0.41238938053097346, \"k*k_orig/k_worst\": 249.18818857671752, \"k/(k_worst-k_orig)\": 0.014952191490727074}, {\"Method\": \"Hillside(Colley Params)\", \"Year\": \"2011\", \"k\": 575.0, \"k_orig\": 35820.0, \"sum_c\": 1367.0, \"k_worst\": 66986.0, \"top_n\": 8, \"k/k_orig\": 0.01605248464544947, \"k/k_worst\": 0.008583883199474517, \"k/sum_c\": 0.42062911485003657, \"k*k_orig/k_worst\": 307.4746962051772, \"k/(k_worst-k_orig)\": 0.018449592504652505}, {\"Method\": \"Hillside(Colley Params)\", \"Year\": \"2011\", \"k\": 754.0, \"k_orig\": 35820.0, \"sum_c\": 1790.0, \"k_worst\": 66986.0, \"top_n\": 9, \"k/k_orig\": 0.021049692908989392, \"k/k_worst\": 0.011256083360702236, \"k/sum_c\": 0.4212290502793296, \"k*k_orig/k_worst\": 403.1929059803541, \"k/(k_worst-k_orig)\": 0.024193030866970416}, {\"Method\": \"Hillside(Colley Params)\", \"Year\": \"2011\", \"k\": 1008.0, \"k_orig\": 35820.0, \"sum_c\": 2325.0, \"k_worst\": 66986.0, \"top_n\": 10, \"k/k_orig\": 0.02814070351758794, \"k/k_worst\": 0.015047920460991848, \"k/sum_c\": 0.4335483870967742, \"k*k_orig/k_worst\": 539.016510912728, \"k/(k_worst-k_orig)\": 0.0323429378168517}, {\"Method\": \"Hillside(Colley Params)\", \"Year\": \"2011\", \"k\": 1256.0, \"k_orig\": 35820.0, \"sum_c\": 2859.0, \"k_worst\": 66986.0, \"top_n\": 11, \"k/k_orig\": 0.035064209938581795, \"k/k_worst\": 0.01875018660615651, \"k/sum_c\": 0.43931444561035327, \"k*k_orig/k_worst\": 671.6316842325263, \"k/(k_worst-k_orig)\": 0.04030032727972791}, {\"Method\": \"Hillside(Colley Params)\", \"Year\": \"2011\", \"k\": 1550.0, \"k_orig\": 35820.0, \"sum_c\": 3537.0, \"k_worst\": 66986.0, \"top_n\": 12, \"k/k_orig\": 0.04327191513121161, \"k/k_worst\": 0.02313916340727913, \"k/sum_c\": 0.4382244840260107, \"k*k_orig/k_worst\": 828.8448332487385, \"k/(k_worst-k_orig)\": 0.04973368414297632}, {\"Method\": \"Hillside(Colley Params)\", \"Year\": \"2011\", \"k\": 1766.0, \"k_orig\": 35820.0, \"sum_c\": 4031.0, \"k_worst\": 66986.0, \"top_n\": 13, \"k/k_orig\": 0.049302065884980456, \"k/k_worst\": 0.026363717791777385, \"k/sum_c\": 0.43810468866286284, \"k*k_orig/k_worst\": 944.3483713014659, \"k/(k_worst-k_orig)\": 0.056664313675158826}, {\"Method\": \"Hillside(Colley Params)\", \"Year\": \"2011\", \"k\": 2069.0, \"k_orig\": 35820.0, \"sum_c\": 4712.0, \"k_worst\": 66986.0, \"top_n\": 14, \"k/k_orig\": 0.05776102735901731, \"k/k_worst\": 0.030887051025587437, \"k/sum_c\": 0.4390916808149406, \"k*k_orig/k_worst\": 1106.374167736542, \"k/(k_worst-k_orig)\": 0.06638644676891484}, {\"Method\": \"Hillside(Colley Params)\", \"Year\": \"2011\", \"k\": 2360.0, \"k_orig\": 35820.0, \"sum_c\": 5391.0, \"k_worst\": 66986.0, \"top_n\": 15, \"k/k_orig\": 0.06588498045784479, \"k/k_worst\": 0.03523124234914758, \"k/sum_c\": 0.4377666481172324, \"k*k_orig/k_worst\": 1261.9831009464665, \"k/(k_worst-k_orig)\": 0.07572354488866072}, {\"Method\": \"Hillside(Colley Params)\", \"Year\": \"2011\", \"k\": 2702.0, \"k_orig\": 35820.0, \"sum_c\": 6244.0, \"k_worst\": 66986.0, \"top_n\": 16, \"k/k_orig\": 0.07543271915131211, \"k/k_worst\": 0.04033678679126982, \"k/sum_c\": 0.4327354260089686, \"k*k_orig/k_worst\": 1444.863702863285, \"k/(k_worst-k_orig)\": 0.08669704164794968}, {\"Method\": \"Hillside(Massey Params)\", \"Year\": \"2011\", \"k\": 16.0, \"k_orig\": 35820.0, \"sum_c\": 41.0, \"k_worst\": 66986.0, \"top_n\": 2, \"k/k_orig\": 0.00044667783361250696, \"k/k_worst\": 0.00023885588033320396, \"k/sum_c\": 0.3902439024390244, \"k*k_orig/k_worst\": 8.555817633535366, \"k/(k_worst-k_orig)\": 0.0005133799653468524}, {\"Method\": \"Hillside(Massey Params)\", \"Year\": \"2011\", \"k\": 61.0, \"k_orig\": 35820.0, \"sum_c\": 151.0, \"k_worst\": 66986.0, \"top_n\": 3, \"k/k_orig\": 0.0017029592406476828, \"k/k_worst\": 0.0009106380437703401, \"k/sum_c\": 0.40397350993377484, \"k*k_orig/k_worst\": 32.61905472785358, \"k/(k_worst-k_orig)\": 0.0019572611178848747}, {\"Method\": \"Hillside(Massey Params)\", \"Year\": \"2011\", \"k\": 137.0, \"k_orig\": 35820.0, \"sum_c\": 321.0, \"k_worst\": 66986.0, \"top_n\": 4, \"k/k_orig\": 0.003824678950307091, \"k/k_worst\": 0.0020452034753530588, \"k/sum_c\": 0.42679127725856697, \"k*k_orig/k_worst\": 73.25918848714657, \"k/(k_worst-k_orig)\": 0.0043958159532824235}, {\"Method\": \"Hillside(Massey Params)\", \"Year\": \"2011\", \"k\": 232.0, \"k_orig\": 35820.0, \"sum_c\": 546.0, \"k_worst\": 66986.0, \"top_n\": 5, \"k/k_orig\": 0.0064768285873813515, \"k/k_worst\": 0.003463410264831457, \"k/sum_c\": 0.4249084249084249, \"k*k_orig/k_worst\": 124.0593556862628, \"k/(k_worst-k_orig)\": 0.0074440094975293586}, {\"Method\": \"Hillside(Massey Params)\", \"Year\": \"2011\", \"k\": 334.0, \"k_orig\": 35820.0, \"sum_c\": 808.0, \"k_worst\": 66986.0, \"top_n\": 6, \"k/k_orig\": 0.009324399776661083, \"k/k_worst\": 0.004986116501955633, \"k/sum_c\": 0.41336633663366334, \"k*k_orig/k_worst\": 178.60269310005074, \"k/(k_worst-k_orig)\": 0.010716806776615543}, {\"Method\": \"Hillside(Massey Params)\", \"Year\": \"2011\", \"k\": 466.0, \"k_orig\": 35820.0, \"sum_c\": 1130.0, \"k_worst\": 66986.0, \"top_n\": 7, \"k/k_orig\": 0.013009491903964266, \"k/k_worst\": 0.006956677514704565, \"k/sum_c\": 0.41238938053097346, \"k*k_orig/k_worst\": 249.18818857671752, \"k/(k_worst-k_orig)\": 0.014952191490727074}, {\"Method\": \"Hillside(Massey Params)\", \"Year\": \"2011\", \"k\": 575.0, \"k_orig\": 35820.0, \"sum_c\": 1367.0, \"k_worst\": 66986.0, \"top_n\": 8, \"k/k_orig\": 0.01605248464544947, \"k/k_worst\": 0.008583883199474517, \"k/sum_c\": 0.42062911485003657, \"k*k_orig/k_worst\": 307.4746962051772, \"k/(k_worst-k_orig)\": 0.018449592504652505}, {\"Method\": \"Hillside(Massey Params)\", \"Year\": \"2011\", \"k\": 754.0, \"k_orig\": 35820.0, \"sum_c\": 1790.0, \"k_worst\": 66986.0, \"top_n\": 9, \"k/k_orig\": 0.021049692908989392, \"k/k_worst\": 0.011256083360702236, \"k/sum_c\": 0.4212290502793296, \"k*k_orig/k_worst\": 403.1929059803541, \"k/(k_worst-k_orig)\": 0.024193030866970416}, {\"Method\": \"Hillside(Massey Params)\", \"Year\": \"2011\", \"k\": 1008.0, \"k_orig\": 35820.0, \"sum_c\": 2325.0, \"k_worst\": 66986.0, \"top_n\": 10, \"k/k_orig\": 0.02814070351758794, \"k/k_worst\": 0.015047920460991848, \"k/sum_c\": 0.4335483870967742, \"k*k_orig/k_worst\": 539.016510912728, \"k/(k_worst-k_orig)\": 0.0323429378168517}, {\"Method\": \"Hillside(Massey Params)\", \"Year\": \"2011\", \"k\": 1256.0, \"k_orig\": 35820.0, \"sum_c\": 2859.0, \"k_worst\": 66986.0, \"top_n\": 11, \"k/k_orig\": 0.035064209938581795, \"k/k_worst\": 0.01875018660615651, \"k/sum_c\": 0.43931444561035327, \"k*k_orig/k_worst\": 671.6316842325263, \"k/(k_worst-k_orig)\": 0.04030032727972791}, {\"Method\": \"Hillside(Massey Params)\", \"Year\": \"2011\", \"k\": 1550.0, \"k_orig\": 35820.0, \"sum_c\": 3537.0, \"k_worst\": 66986.0, \"top_n\": 12, \"k/k_orig\": 0.04327191513121161, \"k/k_worst\": 0.02313916340727913, \"k/sum_c\": 0.4382244840260107, \"k*k_orig/k_worst\": 828.8448332487385, \"k/(k_worst-k_orig)\": 0.04973368414297632}, {\"Method\": \"Hillside(Massey Params)\", \"Year\": \"2011\", \"k\": 1766.0, \"k_orig\": 35820.0, \"sum_c\": 4031.0, \"k_worst\": 66986.0, \"top_n\": 13, \"k/k_orig\": 0.049302065884980456, \"k/k_worst\": 0.026363717791777385, \"k/sum_c\": 0.43810468866286284, \"k*k_orig/k_worst\": 944.3483713014659, \"k/(k_worst-k_orig)\": 0.056664313675158826}, {\"Method\": \"Hillside(Massey Params)\", \"Year\": \"2011\", \"k\": 2069.0, \"k_orig\": 35820.0, \"sum_c\": 4712.0, \"k_worst\": 66986.0, \"top_n\": 14, \"k/k_orig\": 0.05776102735901731, \"k/k_worst\": 0.030887051025587437, \"k/sum_c\": 0.4390916808149406, \"k*k_orig/k_worst\": 1106.374167736542, \"k/(k_worst-k_orig)\": 0.06638644676891484}, {\"Method\": \"Hillside(Massey Params)\", \"Year\": \"2011\", \"k\": 2360.0, \"k_orig\": 35820.0, \"sum_c\": 5391.0, \"k_worst\": 66986.0, \"top_n\": 15, \"k/k_orig\": 0.06588498045784479, \"k/k_worst\": 0.03523124234914758, \"k/sum_c\": 0.4377666481172324, \"k*k_orig/k_worst\": 1261.9831009464665, \"k/(k_worst-k_orig)\": 0.07572354488866072}, {\"Method\": \"Hillside(Massey Params)\", \"Year\": \"2011\", \"k\": 2702.0, \"k_orig\": 35820.0, \"sum_c\": 6244.0, \"k_worst\": 66986.0, \"top_n\": 16, \"k/k_orig\": 0.07543271915131211, \"k/k_worst\": 0.04033678679126982, \"k/sum_c\": 0.4327354260089686, \"k*k_orig/k_worst\": 1444.863702863285, \"k/(k_worst-k_orig)\": 0.08669704164794968}, {\"Method\": \"Hillside(Colley Params)\", \"Year\": \"2012\", \"k\": 23.0, \"k_orig\": 32487.0, \"sum_c\": 49.0, \"k_worst\": 59832.0, \"top_n\": 2, \"k/k_orig\": 0.0007079754978914643, \"k/k_worst\": 0.0003844096804385613, \"k/sum_c\": 0.46938775510204084, \"k*k_orig/k_worst\": 12.488317288407542, \"k/(k_worst-k_orig)\": 0.0008411044066556957}, {\"Method\": \"Hillside(Colley Params)\", \"Year\": \"2012\", \"k\": 56.0, \"k_orig\": 32487.0, \"sum_c\": 149.0, \"k_worst\": 59832.0, \"top_n\": 3, \"k/k_orig\": 0.0017237664296487825, \"k/k_worst\": 0.0009359540045460623, \"k/sum_c\": 0.37583892617449666, \"k*k_orig/k_worst\": 30.406337745687924, \"k/(k_worst-k_orig)\": 0.0020479063814225636}, {\"Method\": \"Hillside(Colley Params)\", \"Year\": \"2012\", \"k\": 133.0, \"k_orig\": 32487.0, \"sum_c\": 331.0, \"k_worst\": 59832.0, \"top_n\": 4, \"k/k_orig\": 0.004093945270415859, \"k/k_worst\": 0.002222890760796898, \"k/sum_c\": 0.40181268882175225, \"k*k_orig/k_worst\": 72.21505214600883, \"k/(k_worst-k_orig)\": 0.004863777655878588}, {\"Method\": \"Hillside(Colley Params)\", \"Year\": \"2012\", \"k\": 230.0, \"k_orig\": 32487.0, \"sum_c\": 546.0, \"k_worst\": 59832.0, \"top_n\": 5, \"k/k_orig\": 0.007079754978914643, \"k/k_worst\": 0.003844096804385613, \"k/sum_c\": 0.42124542124542125, \"k*k_orig/k_worst\": 124.8831728840754, \"k/(k_worst-k_orig)\": 0.008411044066556957}, {\"Method\": \"Hillside(Colley Params)\", \"Year\": \"2012\", \"k\": 341.0, \"k_orig\": 32487.0, \"sum_c\": 807.0, \"k_worst\": 59832.0, \"top_n\": 6, \"k/k_orig\": 0.010496506294825623, \"k/k_worst\": 0.005699291349110844, \"k/sum_c\": 0.4225526641883519, \"k*k_orig/k_worst\": 185.15287805856397, \"k/(k_worst-k_orig)\": 0.012470287072590968}, {\"Method\": \"Hillside(Colley Params)\", \"Year\": \"2012\", \"k\": 466.0, \"k_orig\": 32487.0, \"sum_c\": 1109.0, \"k_worst\": 59832.0, \"top_n\": 7, \"k/k_orig\": 0.014344199218148798, \"k/k_worst\": 0.00778847439497259, \"k/sum_c\": 0.42019837691614065, \"k*k_orig/k_worst\": 253.02416766947454, \"k/(k_worst-k_orig)\": 0.01704150667398062}, {\"Method\": \"Hillside(Colley Params)\", \"Year\": \"2012\", \"k\": 612.0, \"k_orig\": 32487.0, \"sum_c\": 1489.0, \"k_worst\": 59832.0, \"top_n\": 8, \"k/k_orig\": 0.018838304552590265, \"k/k_worst\": 0.01022864019253911, \"k/sum_c\": 0.4110141034251175, \"k*k_orig/k_worst\": 332.29783393501805, \"k/(k_worst-k_orig)\": 0.02238069116840373}, {\"Method\": \"Hillside(Colley Params)\", \"Year\": \"2012\", \"k\": 821.0, \"k_orig\": 32487.0, \"sum_c\": 1950.0, \"k_worst\": 59832.0, \"top_n\": 9, \"k/k_orig\": 0.025271647120386615, \"k/k_worst\": 0.01372175424521995, \"k/sum_c\": 0.42102564102564105, \"k*k_orig/k_worst\": 445.7786301644605, \"k/(k_worst-k_orig)\": 0.030023770341927228}, {\"Method\": \"Hillside(Colley Params)\", \"Year\": \"2012\", \"k\": 1031.0, \"k_orig\": 32487.0, \"sum_c\": 2410.0, \"k_worst\": 59832.0, \"top_n\": 10, \"k/k_orig\": 0.03173577123156955, \"k/k_worst\": 0.017231581762267682, \"k/sum_c\": 0.42780082987551865, \"k*k_orig/k_worst\": 559.8023967107902, \"k/(k_worst-k_orig)\": 0.03770341927226184}, {\"Method\": \"Hillside(Colley Params)\", \"Year\": \"2012\", \"k\": 1232.0, \"k_orig\": 32487.0, \"sum_c\": 2876.0, \"k_worst\": 59832.0, \"top_n\": 11, \"k/k_orig\": 0.037922861452273214, \"k/k_worst\": 0.02059098810001337, \"k/sum_c\": 0.4283727399165508, \"k*k_orig/k_worst\": 668.9394304051344, \"k/(k_worst-k_orig)\": 0.0450539403912964}, {\"Method\": \"Hillside(Colley Params)\", \"Year\": \"2012\", \"k\": 1358.0, \"k_orig\": 32487.0, \"sum_c\": 3200.0, \"k_worst\": 59832.0, \"top_n\": 12, \"k/k_orig\": 0.041801335918982975, \"k/k_worst\": 0.02269688461024201, \"k/sum_c\": 0.424375, \"k*k_orig/k_worst\": 737.3536903329322, \"k/(k_worst-k_orig)\": 0.04966172974949717}, {\"Method\": \"Hillside(Colley Params)\", \"Year\": \"2012\", \"k\": 1621.0, \"k_orig\": 32487.0, \"sum_c\": 3812.0, \"k_worst\": 59832.0, \"top_n\": 13, \"k/k_orig\": 0.04989688182965494, \"k/k_worst\": 0.027092525738735124, \"k/sum_c\": 0.4252360965372508, \"k*k_orig/k_worst\": 880.154883674288, \"k/(k_worst-k_orig)\": 0.05927957579082099}, {\"Method\": \"Hillside(Colley Params)\", \"Year\": \"2012\", \"k\": 1904.0, \"k_orig\": 32487.0, \"sum_c\": 4509.0, \"k_worst\": 59832.0, \"top_n\": 14, \"k/k_orig\": 0.05860805860805861, \"k/k_worst\": 0.03182243615456612, \"k/sum_c\": 0.42226657795520073, \"k*k_orig/k_worst\": 1033.8154833533895, \"k/(k_worst-k_orig)\": 0.06962881696836716}, {\"Method\": \"Hillside(Colley Params)\", \"Year\": \"2012\", \"k\": 2186.0, \"k_orig\": 32487.0, \"sum_c\": 5223.0, \"k_worst\": 59832.0, \"top_n\": 15, \"k/k_orig\": 0.06728845384307569, \"k/k_worst\": 0.03653563310603022, \"k/sum_c\": 0.41853340991767185, \"k*k_orig/k_worst\": 1186.9331127156038, \"k/(k_worst-k_orig)\": 0.07994148838910221}, {\"Method\": \"Hillside(Colley Params)\", \"Year\": \"2012\", \"k\": 2447.0, \"k_orig\": 32487.0, \"sum_c\": 5858.0, \"k_worst\": 59832.0, \"top_n\": 16, \"k/k_orig\": 0.07532243666697448, \"k/k_worst\": 0.04089784730578955, \"k/sum_c\": 0.41771935814271083, \"k*k_orig/k_worst\": 1328.648365423185, \"k/(k_worst-k_orig)\": 0.0894861949168038}, {\"Method\": \"Hillside(Massey Params)\", \"Year\": \"2012\", \"k\": 23.0, \"k_orig\": 32487.0, \"sum_c\": 49.0, \"k_worst\": 59832.0, \"top_n\": 2, \"k/k_orig\": 0.0007079754978914643, \"k/k_worst\": 0.0003844096804385613, \"k/sum_c\": 0.46938775510204084, \"k*k_orig/k_worst\": 12.488317288407542, \"k/(k_worst-k_orig)\": 0.0008411044066556957}, {\"Method\": \"Hillside(Massey Params)\", \"Year\": \"2012\", \"k\": 56.0, \"k_orig\": 32487.0, \"sum_c\": 149.0, \"k_worst\": 59832.0, \"top_n\": 3, \"k/k_orig\": 0.0017237664296487825, \"k/k_worst\": 0.0009359540045460623, \"k/sum_c\": 0.37583892617449666, \"k*k_orig/k_worst\": 30.406337745687924, \"k/(k_worst-k_orig)\": 0.0020479063814225636}, {\"Method\": \"Hillside(Massey Params)\", \"Year\": \"2012\", \"k\": 133.0, \"k_orig\": 32487.0, \"sum_c\": 331.0, \"k_worst\": 59832.0, \"top_n\": 4, \"k/k_orig\": 0.004093945270415859, \"k/k_worst\": 0.002222890760796898, \"k/sum_c\": 0.40181268882175225, \"k*k_orig/k_worst\": 72.21505214600883, \"k/(k_worst-k_orig)\": 0.004863777655878588}, {\"Method\": \"Hillside(Massey Params)\", \"Year\": \"2012\", \"k\": 230.0, \"k_orig\": 32487.0, \"sum_c\": 546.0, \"k_worst\": 59832.0, \"top_n\": 5, \"k/k_orig\": 0.007079754978914643, \"k/k_worst\": 0.003844096804385613, \"k/sum_c\": 0.42124542124542125, \"k*k_orig/k_worst\": 124.8831728840754, \"k/(k_worst-k_orig)\": 0.008411044066556957}, {\"Method\": \"Hillside(Massey Params)\", \"Year\": \"2012\", \"k\": 341.0, \"k_orig\": 32487.0, \"sum_c\": 807.0, \"k_worst\": 59832.0, \"top_n\": 6, \"k/k_orig\": 0.010496506294825623, \"k/k_worst\": 0.005699291349110844, \"k/sum_c\": 0.4225526641883519, \"k*k_orig/k_worst\": 185.15287805856397, \"k/(k_worst-k_orig)\": 0.012470287072590968}, {\"Method\": \"Hillside(Massey Params)\", \"Year\": \"2012\", \"k\": 466.0, \"k_orig\": 32487.0, \"sum_c\": 1109.0, \"k_worst\": 59832.0, \"top_n\": 7, \"k/k_orig\": 0.014344199218148798, \"k/k_worst\": 0.00778847439497259, \"k/sum_c\": 0.42019837691614065, \"k*k_orig/k_worst\": 253.02416766947454, \"k/(k_worst-k_orig)\": 0.01704150667398062}, {\"Method\": \"Hillside(Massey Params)\", \"Year\": \"2012\", \"k\": 612.0, \"k_orig\": 32487.0, \"sum_c\": 1489.0, \"k_worst\": 59832.0, \"top_n\": 8, \"k/k_orig\": 0.018838304552590265, \"k/k_worst\": 0.01022864019253911, \"k/sum_c\": 0.4110141034251175, \"k*k_orig/k_worst\": 332.29783393501805, \"k/(k_worst-k_orig)\": 0.02238069116840373}, {\"Method\": \"Hillside(Massey Params)\", \"Year\": \"2012\", \"k\": 821.0, \"k_orig\": 32487.0, \"sum_c\": 1950.0, \"k_worst\": 59832.0, \"top_n\": 9, \"k/k_orig\": 0.025271647120386615, \"k/k_worst\": 0.01372175424521995, \"k/sum_c\": 0.42102564102564105, \"k*k_orig/k_worst\": 445.7786301644605, \"k/(k_worst-k_orig)\": 0.030023770341927228}, {\"Method\": \"Hillside(Massey Params)\", \"Year\": \"2012\", \"k\": 1031.0, \"k_orig\": 32487.0, \"sum_c\": 2410.0, \"k_worst\": 59832.0, \"top_n\": 10, \"k/k_orig\": 0.03173577123156955, \"k/k_worst\": 0.017231581762267682, \"k/sum_c\": 0.42780082987551865, \"k*k_orig/k_worst\": 559.8023967107902, \"k/(k_worst-k_orig)\": 0.03770341927226184}, {\"Method\": \"Hillside(Massey Params)\", \"Year\": \"2012\", \"k\": 1232.0, \"k_orig\": 32487.0, \"sum_c\": 2876.0, \"k_worst\": 59832.0, \"top_n\": 11, \"k/k_orig\": 0.037922861452273214, \"k/k_worst\": 0.02059098810001337, \"k/sum_c\": 0.4283727399165508, \"k*k_orig/k_worst\": 668.9394304051344, \"k/(k_worst-k_orig)\": 0.0450539403912964}, {\"Method\": \"Hillside(Massey Params)\", \"Year\": \"2012\", \"k\": 1358.0, \"k_orig\": 32487.0, \"sum_c\": 3200.0, \"k_worst\": 59832.0, \"top_n\": 12, \"k/k_orig\": 0.041801335918982975, \"k/k_worst\": 0.02269688461024201, \"k/sum_c\": 0.424375, \"k*k_orig/k_worst\": 737.3536903329322, \"k/(k_worst-k_orig)\": 0.04966172974949717}, {\"Method\": \"Hillside(Massey Params)\", \"Year\": \"2012\", \"k\": 1621.0, \"k_orig\": 32487.0, \"sum_c\": 3812.0, \"k_worst\": 59832.0, \"top_n\": 13, \"k/k_orig\": 0.04989688182965494, \"k/k_worst\": 0.027092525738735124, \"k/sum_c\": 0.4252360965372508, \"k*k_orig/k_worst\": 880.154883674288, \"k/(k_worst-k_orig)\": 0.05927957579082099}, {\"Method\": \"Hillside(Massey Params)\", \"Year\": \"2012\", \"k\": 1904.0, \"k_orig\": 32487.0, \"sum_c\": 4509.0, \"k_worst\": 59832.0, \"top_n\": 14, \"k/k_orig\": 0.05860805860805861, \"k/k_worst\": 0.03182243615456612, \"k/sum_c\": 0.42226657795520073, \"k*k_orig/k_worst\": 1033.8154833533895, \"k/(k_worst-k_orig)\": 0.06962881696836716}, {\"Method\": \"Hillside(Massey Params)\", \"Year\": \"2012\", \"k\": 2186.0, \"k_orig\": 32487.0, \"sum_c\": 5223.0, \"k_worst\": 59832.0, \"top_n\": 15, \"k/k_orig\": 0.06728845384307569, \"k/k_worst\": 0.03653563310603022, \"k/sum_c\": 0.41853340991767185, \"k*k_orig/k_worst\": 1186.9331127156038, \"k/(k_worst-k_orig)\": 0.07994148838910221}, {\"Method\": \"Hillside(Massey Params)\", \"Year\": \"2012\", \"k\": 2447.0, \"k_orig\": 32487.0, \"sum_c\": 5858.0, \"k_worst\": 59832.0, \"top_n\": 16, \"k/k_orig\": 0.07532243666697448, \"k/k_worst\": 0.04089784730578955, \"k/sum_c\": 0.41771935814271083, \"k*k_orig/k_worst\": 1328.648365423185, \"k/(k_worst-k_orig)\": 0.0894861949168038}, {\"Method\": \"Hillside(Colley Params)\", \"Year\": \"2013\", \"k\": 16.0, \"k_orig\": 32468.0, \"sum_c\": 40.0, \"k_worst\": 57645.0, \"top_n\": 2, \"k/k_orig\": 0.0004927929037821855, \"k/k_worst\": 0.00027756093329863823, \"k/sum_c\": 0.4, \"k*k_orig/k_worst\": 9.011848382340185, \"k/(k_worst-k_orig)\": 0.0006355006553600508}, {\"Method\": \"Hillside(Colley Params)\", \"Year\": \"2013\", \"k\": 53.0, \"k_orig\": 32468.0, \"sum_c\": 141.0, \"k_worst\": 57645.0, \"top_n\": 3, \"k/k_orig\": 0.0016323764937784895, \"k/k_worst\": 0.0009194205915517391, \"k/sum_c\": 0.375886524822695, \"k*k_orig/k_worst\": 29.851747766501866, \"k/(k_worst-k_orig)\": 0.0021050959208801685}, {\"Method\": \"Hillside(Colley Params)\", \"Year\": \"2013\", \"k\": 106.0, \"k_orig\": 32468.0, \"sum_c\": 290.0, \"k_worst\": 57645.0, \"top_n\": 4, \"k/k_orig\": 0.003264752987556979, \"k/k_worst\": 0.0018388411831034783, \"k/sum_c\": 0.36551724137931035, \"k*k_orig/k_worst\": 59.70349553300373, \"k/(k_worst-k_orig)\": 0.004210191841760337}, {\"Method\": \"Hillside(Colley Params)\", \"Year\": \"2013\", \"k\": 170.0, \"k_orig\": 32468.0, \"sum_c\": 461.0, \"k_worst\": 57645.0, \"top_n\": 5, \"k/k_orig\": 0.005235924602685721, \"k/k_worst\": 0.002949084916298031, \"k/sum_c\": 0.368763557483731, \"k*k_orig/k_worst\": 95.75088906236448, \"k/(k_worst-k_orig)\": 0.00675219446320054}, {\"Method\": \"Hillside(Colley Params)\", \"Year\": \"2013\", \"k\": 265.0, \"k_orig\": 32468.0, \"sum_c\": 689.0, \"k_worst\": 57645.0, \"top_n\": 6, \"k/k_orig\": 0.008161882468892448, \"k/k_worst\": 0.004597102957758696, \"k/sum_c\": 0.38461538461538464, \"k*k_orig/k_worst\": 149.25873883250932, \"k/(k_worst-k_orig)\": 0.010525479604400843}, {\"Method\": \"Hillside(Colley Params)\", \"Year\": \"2013\", \"k\": 403.0, \"k_orig\": 32468.0, \"sum_c\": 1007.0, \"k_worst\": 57645.0, \"top_n\": 7, \"k/k_orig\": 0.012412221264013798, \"k/k_worst\": 0.00699106600745945, \"k/sum_c\": 0.4001986097318769, \"k*k_orig/k_worst\": 226.98593113019342, \"k/(k_worst-k_orig)\": 0.01600667275688128}, {\"Method\": \"Hillside(Colley Params)\", \"Year\": \"2013\", \"k\": 556.0, \"k_orig\": 32468.0, \"sum_c\": 1321.0, \"k_worst\": 57645.0, \"top_n\": 8, \"k/k_orig\": 0.01712455340643095, \"k/k_worst\": 0.009645242432127677, \"k/sum_c\": 0.42089326267978805, \"k*k_orig/k_worst\": 313.16173128632147, \"k/(k_worst-k_orig)\": 0.022083647773761768}, {\"Method\": \"Hillside(Colley Params)\", \"Year\": \"2013\", \"k\": 751.0, \"k_orig\": 32468.0, \"sum_c\": 1760.0, \"k_worst\": 57645.0, \"top_n\": 9, \"k/k_orig\": 0.023130466921276335, \"k/k_worst\": 0.013028016306704832, \"k/sum_c\": 0.42670454545454545, \"k*k_orig/k_worst\": 422.9936334460925, \"k/(k_worst-k_orig)\": 0.029828812010962387}, {\"Method\": \"Hillside(Colley Params)\", \"Year\": \"2013\", \"k\": 959.0, \"k_orig\": 32468.0, \"sum_c\": 2223.0, \"k_worst\": 57645.0, \"top_n\": 10, \"k/k_orig\": 0.029536774670444747, \"k/k_worst\": 0.01663630843958713, \"k/sum_c\": 0.4313990103463788, \"k*k_orig/k_worst\": 540.1476624165149, \"k/(k_worst-k_orig)\": 0.03809032053064305}, {\"Method\": \"Hillside(Colley Params)\", \"Year\": \"2013\", \"k\": 1205.0, \"k_orig\": 32468.0, \"sum_c\": 2763.0, \"k_worst\": 57645.0, \"top_n\": 11, \"k/k_orig\": 0.03711346556609585, \"k/k_worst\": 0.02090380778905369, \"k/sum_c\": 0.4361201592471951, \"k*k_orig/k_worst\": 678.7048312949952, \"k/(k_worst-k_orig)\": 0.04786114310680383}, {\"Method\": \"Hillside(Colley Params)\", \"Year\": \"2013\", \"k\": 1427.0, \"k_orig\": 32468.0, \"sum_c\": 3294.0, \"k_worst\": 57645.0, \"top_n\": 12, \"k/k_orig\": 0.04395096710607367, \"k/k_worst\": 0.024754965738572297, \"k/sum_c\": 0.4332119004250152, \"k*k_orig/k_worst\": 803.7442275999653, \"k/(k_worst-k_orig)\": 0.05667871469992453}, {\"Method\": \"Hillside(Colley Params)\", \"Year\": \"2013\", \"k\": 1692.0, \"k_orig\": 32468.0, \"sum_c\": 3861.0, \"k_worst\": 57645.0, \"top_n\": 13, \"k/k_orig\": 0.05211284957496612, \"k/k_worst\": 0.02935206869633099, \"k/sum_c\": 0.4382284382284382, \"k*k_orig/k_worst\": 953.0029664324746, \"k/(k_worst-k_orig)\": 0.06720419430432538}, {\"Method\": \"Hillside(Colley Params)\", \"Year\": \"2013\", \"k\": 1939.0, \"k_orig\": 32468.0, \"sum_c\": 4428.0, \"k_worst\": 57645.0, \"top_n\": 14, \"k/k_orig\": 0.05972034002710361, \"k/k_worst\": 0.033636915604128716, \"k/sum_c\": 0.4378952122854562, \"k*k_orig/k_worst\": 1092.1233758348512, \"k/(k_worst-k_orig)\": 0.07701473567144616}, {\"Method\": \"Hillside(Colley Params)\", \"Year\": \"2013\", \"k\": 2227.0, \"k_orig\": 32468.0, \"sum_c\": 5096.0, \"k_worst\": 57645.0, \"top_n\": 15, \"k/k_orig\": 0.06859061229518294, \"k/k_worst\": 0.038633012403504204, \"k/sum_c\": 0.4370094191522763, \"k*k_orig/k_worst\": 1254.3366467169747, \"k/(k_worst-k_orig)\": 0.08845374746792707}, {\"Method\": \"Hillside(Colley Params)\", \"Year\": \"2013\", \"k\": 2524.0, \"k_orig\": 32468.0, \"sum_c\": 5807.0, \"k_worst\": 57645.0, \"top_n\": 16, \"k/k_orig\": 0.07773808057163976, \"k/k_worst\": 0.04378523722786018, \"k/sum_c\": 0.434647838815223, \"k*k_orig/k_worst\": 1421.6190823141642, \"k/(k_worst-k_orig)\": 0.10025022838304802}, {\"Method\": \"Hillside(Massey Params)\", \"Year\": \"2013\", \"k\": 16.0, \"k_orig\": 32468.0, \"sum_c\": 40.0, \"k_worst\": 57645.0, \"top_n\": 2, \"k/k_orig\": 0.0004927929037821855, \"k/k_worst\": 0.00027756093329863823, \"k/sum_c\": 0.4, \"k*k_orig/k_worst\": 9.011848382340185, \"k/(k_worst-k_orig)\": 0.0006355006553600508}, {\"Method\": \"Hillside(Massey Params)\", \"Year\": \"2013\", \"k\": 53.0, \"k_orig\": 32468.0, \"sum_c\": 141.0, \"k_worst\": 57645.0, \"top_n\": 3, \"k/k_orig\": 0.0016323764937784895, \"k/k_worst\": 0.0009194205915517391, \"k/sum_c\": 0.375886524822695, \"k*k_orig/k_worst\": 29.851747766501866, \"k/(k_worst-k_orig)\": 0.0021050959208801685}, {\"Method\": \"Hillside(Massey Params)\", \"Year\": \"2013\", \"k\": 106.0, \"k_orig\": 32468.0, \"sum_c\": 290.0, \"k_worst\": 57645.0, \"top_n\": 4, \"k/k_orig\": 0.003264752987556979, \"k/k_worst\": 0.0018388411831034783, \"k/sum_c\": 0.36551724137931035, \"k*k_orig/k_worst\": 59.70349553300373, \"k/(k_worst-k_orig)\": 0.004210191841760337}, {\"Method\": \"Hillside(Massey Params)\", \"Year\": \"2013\", \"k\": 170.0, \"k_orig\": 32468.0, \"sum_c\": 461.0, \"k_worst\": 57645.0, \"top_n\": 5, \"k/k_orig\": 0.005235924602685721, \"k/k_worst\": 0.002949084916298031, \"k/sum_c\": 0.368763557483731, \"k*k_orig/k_worst\": 95.75088906236448, \"k/(k_worst-k_orig)\": 0.00675219446320054}, {\"Method\": \"Hillside(Massey Params)\", \"Year\": \"2013\", \"k\": 265.0, \"k_orig\": 32468.0, \"sum_c\": 689.0, \"k_worst\": 57645.0, \"top_n\": 6, \"k/k_orig\": 0.008161882468892448, \"k/k_worst\": 0.004597102957758696, \"k/sum_c\": 0.38461538461538464, \"k*k_orig/k_worst\": 149.25873883250932, \"k/(k_worst-k_orig)\": 0.010525479604400843}, {\"Method\": \"Hillside(Massey Params)\", \"Year\": \"2013\", \"k\": 403.0, \"k_orig\": 32468.0, \"sum_c\": 1007.0, \"k_worst\": 57645.0, \"top_n\": 7, \"k/k_orig\": 0.012412221264013798, \"k/k_worst\": 0.00699106600745945, \"k/sum_c\": 0.4001986097318769, \"k*k_orig/k_worst\": 226.98593113019342, \"k/(k_worst-k_orig)\": 0.01600667275688128}, {\"Method\": \"Hillside(Massey Params)\", \"Year\": \"2013\", \"k\": 556.0, \"k_orig\": 32468.0, \"sum_c\": 1321.0, \"k_worst\": 57645.0, \"top_n\": 8, \"k/k_orig\": 0.01712455340643095, \"k/k_worst\": 0.009645242432127677, \"k/sum_c\": 0.42089326267978805, \"k*k_orig/k_worst\": 313.16173128632147, \"k/(k_worst-k_orig)\": 0.022083647773761768}, {\"Method\": \"Hillside(Massey Params)\", \"Year\": \"2013\", \"k\": 751.0, \"k_orig\": 32468.0, \"sum_c\": 1760.0, \"k_worst\": 57645.0, \"top_n\": 9, \"k/k_orig\": 0.023130466921276335, \"k/k_worst\": 0.013028016306704832, \"k/sum_c\": 0.42670454545454545, \"k*k_orig/k_worst\": 422.9936334460925, \"k/(k_worst-k_orig)\": 0.029828812010962387}, {\"Method\": \"Hillside(Massey Params)\", \"Year\": \"2013\", \"k\": 959.0, \"k_orig\": 32468.0, \"sum_c\": 2223.0, \"k_worst\": 57645.0, \"top_n\": 10, \"k/k_orig\": 0.029536774670444747, \"k/k_worst\": 0.01663630843958713, \"k/sum_c\": 0.4313990103463788, \"k*k_orig/k_worst\": 540.1476624165149, \"k/(k_worst-k_orig)\": 0.03809032053064305}, {\"Method\": \"Hillside(Massey Params)\", \"Year\": \"2013\", \"k\": 1205.0, \"k_orig\": 32468.0, \"sum_c\": 2763.0, \"k_worst\": 57645.0, \"top_n\": 11, \"k/k_orig\": 0.03711346556609585, \"k/k_worst\": 0.02090380778905369, \"k/sum_c\": 0.4361201592471951, \"k*k_orig/k_worst\": 678.7048312949952, \"k/(k_worst-k_orig)\": 0.04786114310680383}, {\"Method\": \"Hillside(Massey Params)\", \"Year\": \"2013\", \"k\": 1427.0, \"k_orig\": 32468.0, \"sum_c\": 3294.0, \"k_worst\": 57645.0, \"top_n\": 12, \"k/k_orig\": 0.04395096710607367, \"k/k_worst\": 0.024754965738572297, \"k/sum_c\": 0.4332119004250152, \"k*k_orig/k_worst\": 803.7442275999653, \"k/(k_worst-k_orig)\": 0.05667871469992453}, {\"Method\": \"Hillside(Massey Params)\", \"Year\": \"2013\", \"k\": 1692.0, \"k_orig\": 32468.0, \"sum_c\": 3861.0, \"k_worst\": 57645.0, \"top_n\": 13, \"k/k_orig\": 0.05211284957496612, \"k/k_worst\": 0.02935206869633099, \"k/sum_c\": 0.4382284382284382, \"k*k_orig/k_worst\": 953.0029664324746, \"k/(k_worst-k_orig)\": 0.06720419430432538}, {\"Method\": \"Hillside(Massey Params)\", \"Year\": \"2013\", \"k\": 1939.0, \"k_orig\": 32468.0, \"sum_c\": 4428.0, \"k_worst\": 57645.0, \"top_n\": 14, \"k/k_orig\": 0.05972034002710361, \"k/k_worst\": 0.033636915604128716, \"k/sum_c\": 0.4378952122854562, \"k*k_orig/k_worst\": 1092.1233758348512, \"k/(k_worst-k_orig)\": 0.07701473567144616}, {\"Method\": \"Hillside(Massey Params)\", \"Year\": \"2013\", \"k\": 2227.0, \"k_orig\": 32468.0, \"sum_c\": 5096.0, \"k_worst\": 57645.0, \"top_n\": 15, \"k/k_orig\": 0.06859061229518294, \"k/k_worst\": 0.038633012403504204, \"k/sum_c\": 0.4370094191522763, \"k*k_orig/k_worst\": 1254.3366467169747, \"k/(k_worst-k_orig)\": 0.08845374746792707}, {\"Method\": \"Hillside(Massey Params)\", \"Year\": \"2013\", \"k\": 2524.0, \"k_orig\": 32468.0, \"sum_c\": 5807.0, \"k_worst\": 57645.0, \"top_n\": 16, \"k/k_orig\": 0.07773808057163976, \"k/k_worst\": 0.04378523722786018, \"k/sum_c\": 0.434647838815223, \"k*k_orig/k_worst\": 1421.6190823141642, \"k/(k_worst-k_orig)\": 0.10025022838304802}, {\"Method\": \"Hillside(Colley Params)\", \"Year\": \"2014\", \"k\": 22.0, \"k_orig\": 31166.0, \"sum_c\": 51.0, \"k_worst\": 61369.0, \"top_n\": 2, \"k/k_orig\": 0.000705897452351922, \"k/k_worst\": 0.000358487184083169, \"k/sum_c\": 0.43137254901960786, \"k*k_orig/k_worst\": 11.172611579136046, \"k/(k_worst-k_orig)\": 0.0007284044631328014}, {\"Method\": \"Hillside(Colley Params)\", \"Year\": \"2014\", \"k\": 79.0, \"k_orig\": 31166.0, \"sum_c\": 172.0, \"k_worst\": 61369.0, \"top_n\": 3, \"k/k_orig\": 0.0025348135789000836, \"k/k_worst\": 0.0012872948882986523, \"k/sum_c\": 0.45930232558139533, \"k*k_orig/k_worst\": 40.1198324887158, \"k/(k_worst-k_orig)\": 0.002615634208522332}, {\"Method\": \"Hillside(Colley Params)\", \"Year\": \"2014\", \"k\": 127.0, \"k_orig\": 31166.0, \"sum_c\": 290.0, \"k_worst\": 61369.0, \"top_n\": 4, \"k/k_orig\": 0.004074953474940641, \"k/k_worst\": 0.0020694487444801123, \"k/sum_c\": 0.4379310344827586, \"k*k_orig/k_worst\": 64.49643957046717, \"k/(k_worst-k_orig)\": 0.00420488030990299}, {\"Method\": \"Hillside(Colley Params)\", \"Year\": \"2014\", \"k\": 204.0, \"k_orig\": 31166.0, \"sum_c\": 466.0, \"k_worst\": 61369.0, \"top_n\": 5, \"k/k_orig\": 0.006545594558172367, \"k/k_worst\": 0.0033241538887712036, \"k/sum_c\": 0.43776824034334766, \"k*k_orig/k_worst\": 103.60058009744334, \"k/(k_worst-k_orig)\": 0.006754295930867795}, {\"Method\": \"Hillside(Colley Params)\", \"Year\": \"2014\", \"k\": 282.0, \"k_orig\": 31166.0, \"sum_c\": 632.0, \"k_worst\": 61369.0, \"top_n\": 6, \"k/k_orig\": 0.009048321889238273, \"k/k_worst\": 0.004595153905066075, \"k/sum_c\": 0.4462025316455696, \"k*k_orig/k_worst\": 143.2125666052893, \"k/(k_worst-k_orig)\": 0.009336820845611363}, {\"Method\": \"Hillside(Colley Params)\", \"Year\": \"2014\", \"k\": 420.0, \"k_orig\": 31166.0, \"sum_c\": 934.0, \"k_worst\": 61369.0, \"top_n\": 7, \"k/k_orig\": 0.013476224090354873, \"k/k_worst\": 0.006843846241587772, \"k/sum_c\": 0.44967880085653106, \"k*k_orig/k_worst\": 213.29531196532452, \"k/(k_worst-k_orig)\": 0.013905903387080754}, {\"Method\": \"Hillside(Colley Params)\", \"Year\": \"2014\", \"k\": 612.0, \"k_orig\": 31166.0, \"sum_c\": 1343.0, \"k_worst\": 61369.0, \"top_n\": 8, \"k/k_orig\": 0.019636783674517103, \"k/k_worst\": 0.00997246166631361, \"k/sum_c\": 0.45569620253164556, \"k*k_orig/k_worst\": 310.80174029233, \"k/(k_worst-k_orig)\": 0.020262887792603382}, {\"Method\": \"Hillside(Colley Params)\", \"Year\": \"2014\", \"k\": 807.0, \"k_orig\": 31166.0, \"sum_c\": 1755.0, \"k_worst\": 61369.0, \"top_n\": 9, \"k/k_orig\": 0.025893602002181864, \"k/k_worst\": 0.013149961707050791, \"k/sum_c\": 0.4598290598290598, \"k*k_orig/k_worst\": 409.83170656194494, \"k/(k_worst-k_orig)\": 0.026719200079462307}, {\"Method\": \"Hillside(Colley Params)\", \"Year\": \"2014\", \"k\": 958.0, \"k_orig\": 31166.0, \"sum_c\": 2137.0, \"k_worst\": 61369.0, \"top_n\": 10, \"k/k_orig\": 0.030738625425142784, \"k/k_worst\": 0.015610487379621634, \"k/sum_c\": 0.44829199812821713, \"k*k_orig/k_worst\": 486.5164496732878, \"k/(k_worst-k_orig)\": 0.031718703440055625}, {\"Method\": \"Hillside(Colley Params)\", \"Year\": \"2014\", \"k\": 1170.0, \"k_orig\": 31166.0, \"sum_c\": 2629.0, \"k_worst\": 61369.0, \"top_n\": 11, \"k/k_orig\": 0.03754090996598858, \"k/k_worst\": 0.01906500024442308, \"k/sum_c\": 0.4450361354127044, \"k*k_orig/k_worst\": 594.1797976176897, \"k/(k_worst-k_orig)\": 0.038737873721153525}, {\"Method\": \"Hillside(Colley Params)\", \"Year\": \"2014\", \"k\": 1404.0, \"k_orig\": 31166.0, \"sum_c\": 3195.0, \"k_worst\": 61369.0, \"top_n\": 12, \"k/k_orig\": 0.04504909195918629, \"k/k_worst\": 0.022878000293307697, \"k/sum_c\": 0.4394366197183099, \"k*k_orig/k_worst\": 713.0157571412277, \"k/(k_worst-k_orig)\": 0.04648544846538424}, {\"Method\": \"Hillside(Colley Params)\", \"Year\": \"2014\", \"k\": 1687.0, \"k_orig\": 31166.0, \"sum_c\": 3839.0, \"k_worst\": 61369.0, \"top_n\": 13, \"k/k_orig\": 0.05412950009625874, \"k/k_worst\": 0.027489449070377554, \"k/sum_c\": 0.4394373534774681, \"k*k_orig/k_worst\": 856.7361697273868, \"k/(k_worst-k_orig)\": 0.05585537860477436}, {\"Method\": \"Hillside(Colley Params)\", \"Year\": \"2014\", \"k\": 1939.0, \"k_orig\": 31166.0, \"sum_c\": 4441.0, \"k_worst\": 61369.0, \"top_n\": 14, \"k/k_orig\": 0.06221523455047167, \"k/k_worst\": 0.031595756815330216, \"k/sum_c\": 0.43661337536590855, \"k*k_orig/k_worst\": 984.7133569065815, \"k/(k_worst-k_orig)\": 0.06419892063702282}, {\"Method\": \"Hillside(Colley Params)\", \"Year\": \"2014\", \"k\": 2238.0, \"k_orig\": 31166.0, \"sum_c\": 5147.0, \"k_worst\": 61369.0, \"top_n\": 15, \"k/k_orig\": 0.07180902265289098, \"k/k_worst\": 0.03646792354446056, \"k/sum_c\": 0.4348163979016903, \"k*k_orig/k_worst\": 1136.5593051866579, \"k/(k_worst-k_orig)\": 0.07409859947687315}, {\"Method\": \"Hillside(Colley Params)\", \"Year\": \"2014\", \"k\": 2514.0, \"k_orig\": 31166.0, \"sum_c\": 5807.0, \"k_worst\": 61369.0, \"top_n\": 16, \"k/k_orig\": 0.08066482705512418, \"k/k_worst\": 0.04096530821750395, \"k/sum_c\": 0.4329257792319614, \"k*k_orig/k_worst\": 1276.724795906728, \"k/(k_worst-k_orig)\": 0.08323676455981194}, {\"Method\": \"Hillside(Massey Params)\", \"Year\": \"2014\", \"k\": 22.0, \"k_orig\": 31166.0, \"sum_c\": 51.0, \"k_worst\": 61369.0, \"top_n\": 2, \"k/k_orig\": 0.000705897452351922, \"k/k_worst\": 0.000358487184083169, \"k/sum_c\": 0.43137254901960786, \"k*k_orig/k_worst\": 11.172611579136046, \"k/(k_worst-k_orig)\": 0.0007284044631328014}, {\"Method\": \"Hillside(Massey Params)\", \"Year\": \"2014\", \"k\": 79.0, \"k_orig\": 31166.0, \"sum_c\": 172.0, \"k_worst\": 61369.0, \"top_n\": 3, \"k/k_orig\": 0.0025348135789000836, \"k/k_worst\": 0.0012872948882986523, \"k/sum_c\": 0.45930232558139533, \"k*k_orig/k_worst\": 40.1198324887158, \"k/(k_worst-k_orig)\": 0.002615634208522332}, {\"Method\": \"Hillside(Massey Params)\", \"Year\": \"2014\", \"k\": 127.0, \"k_orig\": 31166.0, \"sum_c\": 290.0, \"k_worst\": 61369.0, \"top_n\": 4, \"k/k_orig\": 0.004074953474940641, \"k/k_worst\": 0.0020694487444801123, \"k/sum_c\": 0.4379310344827586, \"k*k_orig/k_worst\": 64.49643957046717, \"k/(k_worst-k_orig)\": 0.00420488030990299}, {\"Method\": \"Hillside(Massey Params)\", \"Year\": \"2014\", \"k\": 204.0, \"k_orig\": 31166.0, \"sum_c\": 466.0, \"k_worst\": 61369.0, \"top_n\": 5, \"k/k_orig\": 0.006545594558172367, \"k/k_worst\": 0.0033241538887712036, \"k/sum_c\": 0.43776824034334766, \"k*k_orig/k_worst\": 103.60058009744334, \"k/(k_worst-k_orig)\": 0.006754295930867795}, {\"Method\": \"Hillside(Massey Params)\", \"Year\": \"2014\", \"k\": 282.0, \"k_orig\": 31166.0, \"sum_c\": 632.0, \"k_worst\": 61369.0, \"top_n\": 6, \"k/k_orig\": 0.009048321889238273, \"k/k_worst\": 0.004595153905066075, \"k/sum_c\": 0.4462025316455696, \"k*k_orig/k_worst\": 143.2125666052893, \"k/(k_worst-k_orig)\": 0.009336820845611363}, {\"Method\": \"Hillside(Massey Params)\", \"Year\": \"2014\", \"k\": 420.0, \"k_orig\": 31166.0, \"sum_c\": 934.0, \"k_worst\": 61369.0, \"top_n\": 7, \"k/k_orig\": 0.013476224090354873, \"k/k_worst\": 0.006843846241587772, \"k/sum_c\": 0.44967880085653106, \"k*k_orig/k_worst\": 213.29531196532452, \"k/(k_worst-k_orig)\": 0.013905903387080754}, {\"Method\": \"Hillside(Massey Params)\", \"Year\": \"2014\", \"k\": 612.0, \"k_orig\": 31166.0, \"sum_c\": 1343.0, \"k_worst\": 61369.0, \"top_n\": 8, \"k/k_orig\": 0.019636783674517103, \"k/k_worst\": 0.00997246166631361, \"k/sum_c\": 0.45569620253164556, \"k*k_orig/k_worst\": 310.80174029233, \"k/(k_worst-k_orig)\": 0.020262887792603382}, {\"Method\": \"Hillside(Massey Params)\", \"Year\": \"2014\", \"k\": 807.0, \"k_orig\": 31166.0, \"sum_c\": 1755.0, \"k_worst\": 61369.0, \"top_n\": 9, \"k/k_orig\": 0.025893602002181864, \"k/k_worst\": 0.013149961707050791, \"k/sum_c\": 0.4598290598290598, \"k*k_orig/k_worst\": 409.83170656194494, \"k/(k_worst-k_orig)\": 0.026719200079462307}, {\"Method\": \"Hillside(Massey Params)\", \"Year\": \"2014\", \"k\": 958.0, \"k_orig\": 31166.0, \"sum_c\": 2137.0, \"k_worst\": 61369.0, \"top_n\": 10, \"k/k_orig\": 0.030738625425142784, \"k/k_worst\": 0.015610487379621634, \"k/sum_c\": 0.44829199812821713, \"k*k_orig/k_worst\": 486.5164496732878, \"k/(k_worst-k_orig)\": 0.031718703440055625}, {\"Method\": \"Hillside(Massey Params)\", \"Year\": \"2014\", \"k\": 1170.0, \"k_orig\": 31166.0, \"sum_c\": 2629.0, \"k_worst\": 61369.0, \"top_n\": 11, \"k/k_orig\": 0.03754090996598858, \"k/k_worst\": 0.01906500024442308, \"k/sum_c\": 0.4450361354127044, \"k*k_orig/k_worst\": 594.1797976176897, \"k/(k_worst-k_orig)\": 0.038737873721153525}, {\"Method\": \"Hillside(Massey Params)\", \"Year\": \"2014\", \"k\": 1404.0, \"k_orig\": 31166.0, \"sum_c\": 3195.0, \"k_worst\": 61369.0, \"top_n\": 12, \"k/k_orig\": 0.04504909195918629, \"k/k_worst\": 0.022878000293307697, \"k/sum_c\": 0.4394366197183099, \"k*k_orig/k_worst\": 713.0157571412277, \"k/(k_worst-k_orig)\": 0.04648544846538424}, {\"Method\": \"Hillside(Massey Params)\", \"Year\": \"2014\", \"k\": 1687.0, \"k_orig\": 31166.0, \"sum_c\": 3839.0, \"k_worst\": 61369.0, \"top_n\": 13, \"k/k_orig\": 0.05412950009625874, \"k/k_worst\": 0.027489449070377554, \"k/sum_c\": 0.4394373534774681, \"k*k_orig/k_worst\": 856.7361697273868, \"k/(k_worst-k_orig)\": 0.05585537860477436}, {\"Method\": \"Hillside(Massey Params)\", \"Year\": \"2014\", \"k\": 1939.0, \"k_orig\": 31166.0, \"sum_c\": 4441.0, \"k_worst\": 61369.0, \"top_n\": 14, \"k/k_orig\": 0.06221523455047167, \"k/k_worst\": 0.031595756815330216, \"k/sum_c\": 0.43661337536590855, \"k*k_orig/k_worst\": 984.7133569065815, \"k/(k_worst-k_orig)\": 0.06419892063702282}, {\"Method\": \"Hillside(Massey Params)\", \"Year\": \"2014\", \"k\": 2238.0, \"k_orig\": 31166.0, \"sum_c\": 5147.0, \"k_worst\": 61369.0, \"top_n\": 15, \"k/k_orig\": 0.07180902265289098, \"k/k_worst\": 0.03646792354446056, \"k/sum_c\": 0.4348163979016903, \"k*k_orig/k_worst\": 1136.5593051866579, \"k/(k_worst-k_orig)\": 0.07409859947687315}, {\"Method\": \"Hillside(Massey Params)\", \"Year\": \"2014\", \"k\": 2514.0, \"k_orig\": 31166.0, \"sum_c\": 5807.0, \"k_worst\": 61369.0, \"top_n\": 16, \"k/k_orig\": 0.08066482705512418, \"k/k_worst\": 0.04096530821750395, \"k/sum_c\": 0.4329257792319614, \"k*k_orig/k_worst\": 1276.724795906728, \"k/(k_worst-k_orig)\": 0.08323676455981194}, {\"Method\": \"Hillside(Colley Params)\", \"Year\": \"2015\", \"k\": 17.0, \"k_orig\": 28438.0, \"sum_c\": 48.0, \"k_worst\": 57410.0, \"top_n\": 2, \"k/k_orig\": 0.0005977916871791265, \"k/k_worst\": 0.0002961156592928061, \"k/sum_c\": 0.3541666666666667, \"k*k_orig/k_worst\": 8.420937118968821, \"k/(k_worst-k_orig)\": 0.0005867734364213723}, {\"Method\": \"Hillside(Colley Params)\", \"Year\": \"2015\", \"k\": 50.0, \"k_orig\": 28438.0, \"sum_c\": 133.0, \"k_worst\": 57410.0, \"top_n\": 3, \"k/k_orig\": 0.0017582108446444898, \"k/k_worst\": 0.000870928409684724, \"k/sum_c\": 0.37593984962406013, \"k*k_orig/k_worst\": 24.76746211461418, \"k/(k_worst-k_orig)\": 0.0017258042247687423}, {\"Method\": \"Hillside(Colley Params)\", \"Year\": \"2015\", \"k\": 110.0, \"k_orig\": 28438.0, \"sum_c\": 275.0, \"k_worst\": 57410.0, \"top_n\": 4, \"k/k_orig\": 0.0038680638582178776, \"k/k_worst\": 0.0019160425013063926, \"k/sum_c\": 0.4, \"k*k_orig/k_worst\": 54.488416652151194, \"k/(k_worst-k_orig)\": 0.003796769294491233}, {\"Method\": \"Hillside(Colley Params)\", \"Year\": \"2015\", \"k\": 178.0, \"k_orig\": 28438.0, \"sum_c\": 433.0, \"k_worst\": 57410.0, \"top_n\": 5, \"k/k_orig\": 0.006259230606934384, \"k/k_worst\": 0.0031005051384776173, \"k/sum_c\": 0.4110854503464203, \"k*k_orig/k_worst\": 88.17216512802648, \"k/(k_worst-k_orig)\": 0.0061438630401767225}, {\"Method\": \"Hillside(Colley Params)\", \"Year\": \"2015\", \"k\": 237.0, \"k_orig\": 28438.0, \"sum_c\": 590.0, \"k_worst\": 57410.0, \"top_n\": 6, \"k/k_orig\": 0.008333919403614881, \"k/k_worst\": 0.004128200661905591, \"k/sum_c\": 0.4016949152542373, \"k*k_orig/k_worst\": 117.39777042327121, \"k/(k_worst-k_orig)\": 0.008180312025403837}, {\"Method\": \"Hillside(Colley Params)\", \"Year\": \"2015\", \"k\": 338.0, \"k_orig\": 28438.0, \"sum_c\": 828.0, \"k_worst\": 57410.0, \"top_n\": 7, \"k/k_orig\": 0.01188550530979675, \"k/k_worst\": 0.005887476049468734, \"k/sum_c\": 0.4082125603864734, \"k*k_orig/k_worst\": 167.42804389479184, \"k/(k_worst-k_orig)\": 0.011666436559436697}, {\"Method\": \"Hillside(Colley Params)\", \"Year\": \"2015\", \"k\": 457.0, \"k_orig\": 28438.0, \"sum_c\": 1136.0, \"k_worst\": 57410.0, \"top_n\": 8, \"k/k_orig\": 0.016070047120050637, \"k/k_worst\": 0.007960285664518377, \"k/sum_c\": 0.4022887323943662, \"k*k_orig/k_worst\": 226.3746037275736, \"k/(k_worst-k_orig)\": 0.015773850614386305}, {\"Method\": \"Hillside(Colley Params)\", \"Year\": \"2015\", \"k\": 634.0, \"k_orig\": 28438.0, \"sum_c\": 1554.0, \"k_worst\": 57410.0, \"top_n\": 9, \"k/k_orig\": 0.02229411351009213, \"k/k_worst\": 0.0110433722348023, \"k/sum_c\": 0.40797940797940796, \"k*k_orig/k_worst\": 314.0514196133078, \"k/(k_worst-k_orig)\": 0.021883197570067653}, {\"Method\": \"Hillside(Colley Params)\", \"Year\": \"2015\", \"k\": 780.0, \"k_orig\": 28438.0, \"sum_c\": 1968.0, \"k_worst\": 57410.0, \"top_n\": 10, \"k/k_orig\": 0.02742808917645404, \"k/k_worst\": 0.013586483191081694, \"k/sum_c\": 0.39634146341463417, \"k*k_orig/k_worst\": 386.3724089879812, \"k/(k_worst-k_orig)\": 0.02692254590639238}, {\"Method\": \"Hillside(Colley Params)\", \"Year\": \"2015\", \"k\": 940.0, \"k_orig\": 28438.0, \"sum_c\": 2386.0, \"k_worst\": 57410.0, \"top_n\": 11, \"k/k_orig\": 0.03305436387931641, \"k/k_worst\": 0.01637345410207281, \"k/sum_c\": 0.393964794635373, \"k*k_orig/k_worst\": 465.62828775474657, \"k/(k_worst-k_orig)\": 0.032445119425652355}, {\"Method\": \"Hillside(Colley Params)\", \"Year\": \"2015\", \"k\": 1113.0, \"k_orig\": 28438.0, \"sum_c\": 2823.0, \"k_worst\": 57410.0, \"top_n\": 12, \"k/k_orig\": 0.03913777340178634, \"k/k_worst\": 0.019386866399581953, \"k/sum_c\": 0.3942614240170032, \"k*k_orig/k_worst\": 551.3237066713116, \"k/(k_worst-k_orig)\": 0.0384164020433522}, {\"Method\": \"Hillside(Colley Params)\", \"Year\": \"2015\", \"k\": 1270.0, \"k_orig\": 28438.0, \"sum_c\": 3233.0, \"k_worst\": 57410.0, \"top_n\": 13, \"k/k_orig\": 0.04465855545397004, \"k/k_worst\": 0.022121581605991987, \"k/sum_c\": 0.3928240024744819, \"k*k_orig/k_worst\": 629.0935377112002, \"k/(k_worst-k_orig)\": 0.043835427309126054}, {\"Method\": \"Hillside(Colley Params)\", \"Year\": \"2015\", \"k\": 1474.0, \"k_orig\": 28438.0, \"sum_c\": 3772.0, \"k_worst\": 57410.0, \"top_n\": 14, \"k/k_orig\": 0.05183205570011956, \"k/k_worst\": 0.025674969517505662, \"k/sum_c\": 0.39077412513255566, \"k*k_orig/k_worst\": 730.144783138826, \"k/(k_worst-k_orig)\": 0.05087670854618252}, {\"Method\": \"Hillside(Colley Params)\", \"Year\": \"2015\", \"k\": 1767.0, \"k_orig\": 28438.0, \"sum_c\": 4453.0, \"k_worst\": 57410.0, \"top_n\": 15, \"k/k_orig\": 0.06213517124973627, \"k/k_worst\": 0.030778609998258145, \"k/sum_c\": 0.3968111385582753, \"k*k_orig/k_worst\": 875.2821111304651, \"k/(k_worst-k_orig)\": 0.06098992130332735}, {\"Method\": \"Hillside(Colley Params)\", \"Year\": \"2015\", \"k\": 2007.0, \"k_orig\": 28438.0, \"sum_c\": 5064.0, \"k_worst\": 57410.0, \"top_n\": 16, \"k/k_orig\": 0.07057458330402983, \"k/k_worst\": 0.034959066364744815, \"k/sum_c\": 0.3963270142180095, \"k*k_orig/k_worst\": 994.1659292806131, \"k/(k_worst-k_orig)\": 0.06927378158221731}, {\"Method\": \"Hillside(Massey Params)\", \"Year\": \"2015\", \"k\": 17.0, \"k_orig\": 28438.0, \"sum_c\": 48.0, \"k_worst\": 57410.0, \"top_n\": 2, \"k/k_orig\": 0.0005977916871791265, \"k/k_worst\": 0.0002961156592928061, \"k/sum_c\": 0.3541666666666667, \"k*k_orig/k_worst\": 8.420937118968821, \"k/(k_worst-k_orig)\": 0.0005867734364213723}, {\"Method\": \"Hillside(Massey Params)\", \"Year\": \"2015\", \"k\": 50.0, \"k_orig\": 28438.0, \"sum_c\": 133.0, \"k_worst\": 57410.0, \"top_n\": 3, \"k/k_orig\": 0.0017582108446444898, \"k/k_worst\": 0.000870928409684724, \"k/sum_c\": 0.37593984962406013, \"k*k_orig/k_worst\": 24.76746211461418, \"k/(k_worst-k_orig)\": 0.0017258042247687423}, {\"Method\": \"Hillside(Massey Params)\", \"Year\": \"2015\", \"k\": 110.0, \"k_orig\": 28438.0, \"sum_c\": 275.0, \"k_worst\": 57410.0, \"top_n\": 4, \"k/k_orig\": 0.0038680638582178776, \"k/k_worst\": 0.0019160425013063926, \"k/sum_c\": 0.4, \"k*k_orig/k_worst\": 54.488416652151194, \"k/(k_worst-k_orig)\": 0.003796769294491233}, {\"Method\": \"Hillside(Massey Params)\", \"Year\": \"2015\", \"k\": 178.0, \"k_orig\": 28438.0, \"sum_c\": 433.0, \"k_worst\": 57410.0, \"top_n\": 5, \"k/k_orig\": 0.006259230606934384, \"k/k_worst\": 0.0031005051384776173, \"k/sum_c\": 0.4110854503464203, \"k*k_orig/k_worst\": 88.17216512802648, \"k/(k_worst-k_orig)\": 0.0061438630401767225}, {\"Method\": \"Hillside(Massey Params)\", \"Year\": \"2015\", \"k\": 237.0, \"k_orig\": 28438.0, \"sum_c\": 590.0, \"k_worst\": 57410.0, \"top_n\": 6, \"k/k_orig\": 0.008333919403614881, \"k/k_worst\": 0.004128200661905591, \"k/sum_c\": 0.4016949152542373, \"k*k_orig/k_worst\": 117.39777042327121, \"k/(k_worst-k_orig)\": 0.008180312025403837}, {\"Method\": \"Hillside(Massey Params)\", \"Year\": \"2015\", \"k\": 338.0, \"k_orig\": 28438.0, \"sum_c\": 828.0, \"k_worst\": 57410.0, \"top_n\": 7, \"k/k_orig\": 0.01188550530979675, \"k/k_worst\": 0.005887476049468734, \"k/sum_c\": 0.4082125603864734, \"k*k_orig/k_worst\": 167.42804389479184, \"k/(k_worst-k_orig)\": 0.011666436559436697}, {\"Method\": \"Hillside(Massey Params)\", \"Year\": \"2015\", \"k\": 457.0, \"k_orig\": 28438.0, \"sum_c\": 1136.0, \"k_worst\": 57410.0, \"top_n\": 8, \"k/k_orig\": 0.016070047120050637, \"k/k_worst\": 0.007960285664518377, \"k/sum_c\": 0.4022887323943662, \"k*k_orig/k_worst\": 226.3746037275736, \"k/(k_worst-k_orig)\": 0.015773850614386305}, {\"Method\": \"Hillside(Massey Params)\", \"Year\": \"2015\", \"k\": 634.0, \"k_orig\": 28438.0, \"sum_c\": 1554.0, \"k_worst\": 57410.0, \"top_n\": 9, \"k/k_orig\": 0.02229411351009213, \"k/k_worst\": 0.0110433722348023, \"k/sum_c\": 0.40797940797940796, \"k*k_orig/k_worst\": 314.0514196133078, \"k/(k_worst-k_orig)\": 0.021883197570067653}, {\"Method\": \"Hillside(Massey Params)\", \"Year\": \"2015\", \"k\": 780.0, \"k_orig\": 28438.0, \"sum_c\": 1968.0, \"k_worst\": 57410.0, \"top_n\": 10, \"k/k_orig\": 0.02742808917645404, \"k/k_worst\": 0.013586483191081694, \"k/sum_c\": 0.39634146341463417, \"k*k_orig/k_worst\": 386.3724089879812, \"k/(k_worst-k_orig)\": 0.02692254590639238}, {\"Method\": \"Hillside(Massey Params)\", \"Year\": \"2015\", \"k\": 940.0, \"k_orig\": 28438.0, \"sum_c\": 2386.0, \"k_worst\": 57410.0, \"top_n\": 11, \"k/k_orig\": 0.03305436387931641, \"k/k_worst\": 0.01637345410207281, \"k/sum_c\": 0.393964794635373, \"k*k_orig/k_worst\": 465.62828775474657, \"k/(k_worst-k_orig)\": 0.032445119425652355}, {\"Method\": \"Hillside(Massey Params)\", \"Year\": \"2015\", \"k\": 1113.0, \"k_orig\": 28438.0, \"sum_c\": 2823.0, \"k_worst\": 57410.0, \"top_n\": 12, \"k/k_orig\": 0.03913777340178634, \"k/k_worst\": 0.019386866399581953, \"k/sum_c\": 0.3942614240170032, \"k*k_orig/k_worst\": 551.3237066713116, \"k/(k_worst-k_orig)\": 0.0384164020433522}, {\"Method\": \"Hillside(Massey Params)\", \"Year\": \"2015\", \"k\": 1270.0, \"k_orig\": 28438.0, \"sum_c\": 3233.0, \"k_worst\": 57410.0, \"top_n\": 13, \"k/k_orig\": 0.04465855545397004, \"k/k_worst\": 0.022121581605991987, \"k/sum_c\": 0.3928240024744819, \"k*k_orig/k_worst\": 629.0935377112002, \"k/(k_worst-k_orig)\": 0.043835427309126054}, {\"Method\": \"Hillside(Massey Params)\", \"Year\": \"2015\", \"k\": 1474.0, \"k_orig\": 28438.0, \"sum_c\": 3772.0, \"k_worst\": 57410.0, \"top_n\": 14, \"k/k_orig\": 0.05183205570011956, \"k/k_worst\": 0.025674969517505662, \"k/sum_c\": 0.39077412513255566, \"k*k_orig/k_worst\": 730.144783138826, \"k/(k_worst-k_orig)\": 0.05087670854618252}, {\"Method\": \"Hillside(Massey Params)\", \"Year\": \"2015\", \"k\": 1767.0, \"k_orig\": 28438.0, \"sum_c\": 4453.0, \"k_worst\": 57410.0, \"top_n\": 15, \"k/k_orig\": 0.06213517124973627, \"k/k_worst\": 0.030778609998258145, \"k/sum_c\": 0.3968111385582753, \"k*k_orig/k_worst\": 875.2821111304651, \"k/(k_worst-k_orig)\": 0.06098992130332735}, {\"Method\": \"Hillside(Massey Params)\", \"Year\": \"2015\", \"k\": 2007.0, \"k_orig\": 28438.0, \"sum_c\": 5064.0, \"k_worst\": 57410.0, \"top_n\": 16, \"k/k_orig\": 0.07057458330402983, \"k/k_worst\": 0.034959066364744815, \"k/sum_c\": 0.3963270142180095, \"k*k_orig/k_worst\": 994.1659292806131, \"k/(k_worst-k_orig)\": 0.06927378158221731}, {\"Method\": \"Hillside(Colley Params)\", \"Year\": \"2016\", \"k\": 28.0, \"k_orig\": 33193.0, \"sum_c\": 61.0, \"k_worst\": 61369.0, \"top_n\": 2, \"k/k_orig\": 0.0008435513511885036, \"k/k_worst\": 0.0004562564161058515, \"k/sum_c\": 0.45901639344262296, \"k*k_orig/k_worst\": 15.144519219801529, \"k/(k_worst-k_orig)\": 0.0009937535491198182}, {\"Method\": \"Hillside(Colley Params)\", \"Year\": \"2016\", \"k\": 84.0, \"k_orig\": 33193.0, \"sum_c\": 186.0, \"k_worst\": 61369.0, \"top_n\": 3, \"k/k_orig\": 0.0025306540535655108, \"k/k_worst\": 0.0013687692483175544, \"k/sum_c\": 0.45161290322580644, \"k*k_orig/k_worst\": 45.433557659404585, \"k/(k_worst-k_orig)\": 0.002981260647359455}, {\"Method\": \"Hillside(Colley Params)\", \"Year\": \"2016\", \"k\": 153.0, \"k_orig\": 33193.0, \"sum_c\": 333.0, \"k_worst\": 61369.0, \"top_n\": 4, \"k/k_orig\": 0.004609405597565752, \"k/k_worst\": 0.0024931154165784026, \"k/sum_c\": 0.4594594594594595, \"k*k_orig/k_worst\": 82.75398002248693, \"k/(k_worst-k_orig)\": 0.00543015332197615}, {\"Method\": \"Hillside(Colley Params)\", \"Year\": \"2016\", \"k\": 244.0, \"k_orig\": 33193.0, \"sum_c\": 529.0, \"k_worst\": 61369.0, \"top_n\": 5, \"k/k_orig\": 0.007350947488928388, \"k/k_worst\": 0.0039759487689224205, \"k/sum_c\": 0.4612476370510397, \"k*k_orig/k_worst\": 131.9736674868419, \"k/(k_worst-k_orig)\": 0.008659852356615559}, {\"Method\": \"Hillside(Colley Params)\", \"Year\": \"2016\", \"k\": 361.0, \"k_orig\": 33193.0, \"sum_c\": 767.0, \"k_worst\": 61369.0, \"top_n\": 6, \"k/k_orig\": 0.010875787063537493, \"k/k_worst\": 0.005882448793364728, \"k/sum_c\": 0.4706649282920469, \"k*k_orig/k_worst\": 195.25612279815542, \"k/(k_worst-k_orig)\": 0.012812322544009085}, {\"Method\": \"Hillside(Colley Params)\", \"Year\": \"2016\", \"k\": 513.0, \"k_orig\": 33193.0, \"sum_c\": 1096.0, \"k_worst\": 61369.0, \"top_n\": 7, \"k/k_orig\": 0.015455065827132226, \"k/k_worst\": 0.008359269337939351, \"k/sum_c\": 0.46806569343065696, \"k*k_orig/k_worst\": 277.4692271342209, \"k/(k_worst-k_orig)\": 0.018206984667802385}, {\"Method\": \"Hillside(Colley Params)\", \"Year\": \"2016\", \"k\": 696.0, \"k_orig\": 33193.0, \"sum_c\": 1495.0, \"k_worst\": 61369.0, \"top_n\": 8, \"k/k_orig\": 0.020968276443828517, \"k/k_worst\": 0.011341230914631165, \"k/sum_c\": 0.46555183946488293, \"k*k_orig/k_worst\": 376.4494777493523, \"k/(k_worst-k_orig)\": 0.024701873935264053}, {\"Method\": \"Hillside(Colley Params)\", \"Year\": \"2016\", \"k\": 898.0, \"k_orig\": 33193.0, \"sum_c\": 1917.0, \"k_worst\": 61369.0, \"top_n\": 9, \"k/k_orig\": 0.02705389690597415, \"k/k_worst\": 0.014632795059394809, \"k/sum_c\": 0.4684402712571727, \"k*k_orig/k_worst\": 485.7063664064919, \"k/(k_worst-k_orig)\": 0.03187109596819988}, {\"Method\": \"Hillside(Colley Params)\", \"Year\": \"2016\", \"k\": 1131.0, \"k_orig\": 33193.0, \"sum_c\": 2472.0, \"k_worst\": 61369.0, \"top_n\": 10, \"k/k_orig\": 0.03407344922122134, \"k/k_worst\": 0.018429500236275643, \"k/sum_c\": 0.4575242718446602, \"k*k_orig/k_worst\": 611.7304013426974, \"k/(k_worst-k_orig)\": 0.04014054514480409}, {\"Method\": \"Hillside(Colley Params)\", \"Year\": \"2016\", \"k\": 1335.0, \"k_orig\": 33193.0, \"sum_c\": 2978.0, \"k_worst\": 61369.0, \"top_n\": 11, \"k/k_orig\": 0.04021932335130901, \"k/k_worst\": 0.02175365412504685, \"k/sum_c\": 0.44828744123572867, \"k*k_orig/k_worst\": 722.06904137268, \"k/(k_worst-k_orig)\": 0.047380749574105624}, {\"Method\": \"Hillside(Colley Params)\", \"Year\": \"2016\", \"k\": 1580.0, \"k_orig\": 33193.0, \"sum_c\": 3529.0, \"k_worst\": 61369.0, \"top_n\": 12, \"k/k_orig\": 0.04760039767420842, \"k/k_worst\": 0.02574589776597305, \"k/sum_c\": 0.44771890053839614, \"k*k_orig/k_worst\": 854.5835845459434, \"k/(k_worst-k_orig)\": 0.056076093128904034}, {\"Method\": \"Hillside(Colley Params)\", \"Year\": \"2016\", \"k\": 1879.0, \"k_orig\": 33193.0, \"sum_c\": 4239.0, \"k_worst\": 61369.0, \"top_n\": 13, \"k/k_orig\": 0.05660832103154279, \"k/k_worst\": 0.03061806449510339, \"k/sum_c\": 0.4432649209719273, \"k*k_orig/k_worst\": 1016.3054147859668, \"k/(k_worst-k_orig)\": 0.06668796138557638}, {\"Method\": \"Hillside(Colley Params)\", \"Year\": \"2016\", \"k\": 2142.0, \"k_orig\": 33193.0, \"sum_c\": 4828.0, \"k_worst\": 61369.0, \"top_n\": 14, \"k/k_orig\": 0.06453167836592053, \"k/k_worst\": 0.03490361583209764, \"k/sum_c\": 0.44366197183098594, \"k*k_orig/k_worst\": 1158.5557203148169, \"k/(k_worst-k_orig)\": 0.0760221465076661}, {\"Method\": \"Hillside(Colley Params)\", \"Year\": \"2016\", \"k\": 2470.0, \"k_orig\": 33193.0, \"sum_c\": 5618.0, \"k_worst\": 61369.0, \"top_n\": 15, \"k/k_orig\": 0.07441327990841443, \"k/k_worst\": 0.04024833384933761, \"k/sum_c\": 0.4396582413670345, \"k*k_orig/k_worst\": 1335.9629454610633, \"k/(k_worst-k_orig)\": 0.08766325951164111}, {\"Method\": \"Hillside(Colley Params)\", \"Year\": \"2016\", \"k\": 2750.0, \"k_orig\": 33193.0, \"sum_c\": 6329.0, \"k_worst\": 61369.0, \"top_n\": 16, \"k/k_orig\": 0.08284879342029947, \"k/k_worst\": 0.04481089801039613, \"k/sum_c\": 0.4345078211407805, \"k*k_orig/k_worst\": 1487.4081376590786, \"k/(k_worst-k_orig)\": 0.0976007950028393}, {\"Method\": \"Hillside(Massey Params)\", \"Year\": \"2016\", \"k\": 28.0, \"k_orig\": 33193.0, \"sum_c\": 61.0, \"k_worst\": 61369.0, \"top_n\": 2, \"k/k_orig\": 0.0008435513511885036, \"k/k_worst\": 0.0004562564161058515, \"k/sum_c\": 0.45901639344262296, \"k*k_orig/k_worst\": 15.144519219801529, \"k/(k_worst-k_orig)\": 0.0009937535491198182}, {\"Method\": \"Hillside(Massey Params)\", \"Year\": \"2016\", \"k\": 84.0, \"k_orig\": 33193.0, \"sum_c\": 186.0, \"k_worst\": 61369.0, \"top_n\": 3, \"k/k_orig\": 0.0025306540535655108, \"k/k_worst\": 0.0013687692483175544, \"k/sum_c\": 0.45161290322580644, \"k*k_orig/k_worst\": 45.433557659404585, \"k/(k_worst-k_orig)\": 0.002981260647359455}, {\"Method\": \"Hillside(Massey Params)\", \"Year\": \"2016\", \"k\": 153.0, \"k_orig\": 33193.0, \"sum_c\": 333.0, \"k_worst\": 61369.0, \"top_n\": 4, \"k/k_orig\": 0.004609405597565752, \"k/k_worst\": 0.0024931154165784026, \"k/sum_c\": 0.4594594594594595, \"k*k_orig/k_worst\": 82.75398002248693, \"k/(k_worst-k_orig)\": 0.00543015332197615}, {\"Method\": \"Hillside(Massey Params)\", \"Year\": \"2016\", \"k\": 244.0, \"k_orig\": 33193.0, \"sum_c\": 529.0, \"k_worst\": 61369.0, \"top_n\": 5, \"k/k_orig\": 0.007350947488928388, \"k/k_worst\": 0.0039759487689224205, \"k/sum_c\": 0.4612476370510397, \"k*k_orig/k_worst\": 131.9736674868419, \"k/(k_worst-k_orig)\": 0.008659852356615559}, {\"Method\": \"Hillside(Massey Params)\", \"Year\": \"2016\", \"k\": 361.0, \"k_orig\": 33193.0, \"sum_c\": 767.0, \"k_worst\": 61369.0, \"top_n\": 6, \"k/k_orig\": 0.010875787063537493, \"k/k_worst\": 0.005882448793364728, \"k/sum_c\": 0.4706649282920469, \"k*k_orig/k_worst\": 195.25612279815542, \"k/(k_worst-k_orig)\": 0.012812322544009085}, {\"Method\": \"Hillside(Massey Params)\", \"Year\": \"2016\", \"k\": 513.0, \"k_orig\": 33193.0, \"sum_c\": 1096.0, \"k_worst\": 61369.0, \"top_n\": 7, \"k/k_orig\": 0.015455065827132226, \"k/k_worst\": 0.008359269337939351, \"k/sum_c\": 0.46806569343065696, \"k*k_orig/k_worst\": 277.4692271342209, \"k/(k_worst-k_orig)\": 0.018206984667802385}, {\"Method\": \"Hillside(Massey Params)\", \"Year\": \"2016\", \"k\": 696.0, \"k_orig\": 33193.0, \"sum_c\": 1495.0, \"k_worst\": 61369.0, \"top_n\": 8, \"k/k_orig\": 0.020968276443828517, \"k/k_worst\": 0.011341230914631165, \"k/sum_c\": 0.46555183946488293, \"k*k_orig/k_worst\": 376.4494777493523, \"k/(k_worst-k_orig)\": 0.024701873935264053}, {\"Method\": \"Hillside(Massey Params)\", \"Year\": \"2016\", \"k\": 898.0, \"k_orig\": 33193.0, \"sum_c\": 1917.0, \"k_worst\": 61369.0, \"top_n\": 9, \"k/k_orig\": 0.02705389690597415, \"k/k_worst\": 0.014632795059394809, \"k/sum_c\": 0.4684402712571727, \"k*k_orig/k_worst\": 485.7063664064919, \"k/(k_worst-k_orig)\": 0.03187109596819988}, {\"Method\": \"Hillside(Massey Params)\", \"Year\": \"2016\", \"k\": 1131.0, \"k_orig\": 33193.0, \"sum_c\": 2472.0, \"k_worst\": 61369.0, \"top_n\": 10, \"k/k_orig\": 0.03407344922122134, \"k/k_worst\": 0.018429500236275643, \"k/sum_c\": 0.4575242718446602, \"k*k_orig/k_worst\": 611.7304013426974, \"k/(k_worst-k_orig)\": 0.04014054514480409}, {\"Method\": \"Hillside(Massey Params)\", \"Year\": \"2016\", \"k\": 1335.0, \"k_orig\": 33193.0, \"sum_c\": 2978.0, \"k_worst\": 61369.0, \"top_n\": 11, \"k/k_orig\": 0.04021932335130901, \"k/k_worst\": 0.02175365412504685, \"k/sum_c\": 0.44828744123572867, \"k*k_orig/k_worst\": 722.06904137268, \"k/(k_worst-k_orig)\": 0.047380749574105624}, {\"Method\": \"Hillside(Massey Params)\", \"Year\": \"2016\", \"k\": 1580.0, \"k_orig\": 33193.0, \"sum_c\": 3529.0, \"k_worst\": 61369.0, \"top_n\": 12, \"k/k_orig\": 0.04760039767420842, \"k/k_worst\": 0.02574589776597305, \"k/sum_c\": 0.44771890053839614, \"k*k_orig/k_worst\": 854.5835845459434, \"k/(k_worst-k_orig)\": 0.056076093128904034}, {\"Method\": \"Hillside(Massey Params)\", \"Year\": \"2016\", \"k\": 1879.0, \"k_orig\": 33193.0, \"sum_c\": 4239.0, \"k_worst\": 61369.0, \"top_n\": 13, \"k/k_orig\": 0.05660832103154279, \"k/k_worst\": 0.03061806449510339, \"k/sum_c\": 0.4432649209719273, \"k*k_orig/k_worst\": 1016.3054147859668, \"k/(k_worst-k_orig)\": 0.06668796138557638}, {\"Method\": \"Hillside(Massey Params)\", \"Year\": \"2016\", \"k\": 2142.0, \"k_orig\": 33193.0, \"sum_c\": 4828.0, \"k_worst\": 61369.0, \"top_n\": 14, \"k/k_orig\": 0.06453167836592053, \"k/k_worst\": 0.03490361583209764, \"k/sum_c\": 0.44366197183098594, \"k*k_orig/k_worst\": 1158.5557203148169, \"k/(k_worst-k_orig)\": 0.0760221465076661}, {\"Method\": \"Hillside(Massey Params)\", \"Year\": \"2016\", \"k\": 2470.0, \"k_orig\": 33193.0, \"sum_c\": 5618.0, \"k_worst\": 61369.0, \"top_n\": 15, \"k/k_orig\": 0.07441327990841443, \"k/k_worst\": 0.04024833384933761, \"k/sum_c\": 0.4396582413670345, \"k*k_orig/k_worst\": 1335.9629454610633, \"k/(k_worst-k_orig)\": 0.08766325951164111}, {\"Method\": \"Hillside(Massey Params)\", \"Year\": \"2016\", \"k\": 2750.0, \"k_orig\": 33193.0, \"sum_c\": 6329.0, \"k_worst\": 61369.0, \"top_n\": 16, \"k/k_orig\": 0.08284879342029947, \"k/k_worst\": 0.04481089801039613, \"k/sum_c\": 0.4345078211407805, \"k*k_orig/k_worst\": 1487.4081376590786, \"k/(k_worst-k_orig)\": 0.0976007950028393}, {\"Method\": \"Hillside(Colley Params)\", \"Year\": \"2017\", \"k\": 19.0, \"k_orig\": 28736.0, \"sum_c\": 42.0, \"k_worst\": 54460.0, \"top_n\": 2, \"k/k_orig\": 0.0006611915367483296, \"k/k_worst\": 0.000348879911861917, \"k/sum_c\": 0.4523809523809524, \"k*k_orig/k_worst\": 10.025413147264047, \"k/(k_worst-k_orig)\": 0.0007386098584979008}, {\"Method\": \"Hillside(Colley Params)\", \"Year\": \"2017\", \"k\": 45.0, \"k_orig\": 28736.0, \"sum_c\": 97.0, \"k_worst\": 54460.0, \"top_n\": 3, \"k/k_orig\": 0.00156597995545657, \"k/k_worst\": 0.0008262945280940139, \"k/sum_c\": 0.4639175257731959, \"k*k_orig/k_worst\": 23.744399559309585, \"k/(k_worst-k_orig)\": 0.0017493391385476598}, {\"Method\": \"Hillside(Colley Params)\", \"Year\": \"2017\", \"k\": 92.0, \"k_orig\": 28736.0, \"sum_c\": 208.0, \"k_worst\": 54460.0, \"top_n\": 4, \"k/k_orig\": 0.0032015590200445434, \"k/k_worst\": 0.0016893132574366508, \"k/sum_c\": 0.4423076923076923, \"k*k_orig/k_worst\": 48.5441057656996, \"k/(k_worst-k_orig)\": 0.0035764266832529934}, {\"Method\": \"Hillside(Colley Params)\", \"Year\": \"2017\", \"k\": 165.0, \"k_orig\": 28736.0, \"sum_c\": 375.0, \"k_worst\": 54460.0, \"top_n\": 5, \"k/k_orig\": 0.005741926503340758, \"k/k_worst\": 0.0030297466030113846, \"k/sum_c\": 0.44, \"k*k_orig/k_worst\": 87.06279838413515, \"k/(k_worst-k_orig)\": 0.006414243508008086}, {\"Method\": \"Hillside(Colley Params)\", \"Year\": \"2017\", \"k\": 267.0, \"k_orig\": 28736.0, \"sum_c\": 609.0, \"k_worst\": 54460.0, \"top_n\": 6, \"k/k_orig\": 0.009291481069042316, \"k/k_worst\": 0.00490268086669115, \"k/sum_c\": 0.43842364532019706, \"k*k_orig/k_worst\": 140.88343738523687, \"k/(k_worst-k_orig)\": 0.010379412222049448}, {\"Method\": \"Hillside(Colley Params)\", \"Year\": \"2017\", \"k\": 393.0, \"k_orig\": 28736.0, \"sum_c\": 880.0, \"k_worst\": 54460.0, \"top_n\": 7, \"k/k_orig\": 0.013676224944320713, \"k/k_worst\": 0.0072163055453543885, \"k/sum_c\": 0.4465909090909091, \"k*k_orig/k_worst\": 207.36775615130372, \"k/(k_worst-k_orig)\": 0.015277561809982895}, {\"Method\": \"Hillside(Colley Params)\", \"Year\": \"2017\", \"k\": 509.0, \"k_orig\": 28736.0, \"sum_c\": 1182.0, \"k_worst\": 54460.0, \"top_n\": 8, \"k/k_orig\": 0.017712973273942095, \"k/k_worst\": 0.009346309217774514, \"k/sum_c\": 0.4306260575296108, \"k*k_orig/k_worst\": 268.57554168196845, \"k/(k_worst-k_orig)\": 0.019786969367127975}, {\"Method\": \"Hillside(Colley Params)\", \"Year\": \"2017\", \"k\": 692.0, \"k_orig\": 28736.0, \"sum_c\": 1591.0, \"k_worst\": 54460.0, \"top_n\": 9, \"k/k_orig\": 0.024081291759465478, \"k/k_worst\": 0.012706573632023503, \"k/sum_c\": 0.4349465744814582, \"k*k_orig/k_worst\": 365.1360998898274, \"k/(k_worst-k_orig)\": 0.026900948530555125}, {\"Method\": \"Hillside(Colley Params)\", \"Year\": \"2017\", \"k\": 862.0, \"k_orig\": 28736.0, \"sum_c\": 1977.0, \"k_worst\": 54460.0, \"top_n\": 10, \"k/k_orig\": 0.029997216035634745, \"k/k_worst\": 0.015828130738156445, \"k/sum_c\": 0.43601416287303996, \"k*k_orig/k_worst\": 454.83716489166363, \"k/(k_worst-k_orig)\": 0.03350956305395739}, {\"Method\": \"Hillside(Colley Params)\", \"Year\": \"2017\", \"k\": 1040.0, \"k_orig\": 28736.0, \"sum_c\": 2435.0, \"k_worst\": 54460.0, \"top_n\": 11, \"k/k_orig\": 0.036191536748329624, \"k/k_worst\": 0.019096584649283876, \"k/sum_c\": 0.4271047227926078, \"k*k_orig/k_worst\": 548.7594564818215, \"k/(k_worst-k_orig)\": 0.04042917120199036}, {\"Method\": \"Hillside(Colley Params)\", \"Year\": \"2017\", \"k\": 1239.0, \"k_orig\": 28736.0, \"sum_c\": 2924.0, \"k_worst\": 54460.0, \"top_n\": 12, \"k/k_orig\": 0.04311664810690423, \"k/k_worst\": 0.02275064267352185, \"k/sum_c\": 0.423734610123119, \"k*k_orig/k_worst\": 653.762467866324, \"k/(k_worst-k_orig)\": 0.0481651376146789}, {\"Method\": \"Hillside(Colley Params)\", \"Year\": \"2017\", \"k\": 1518.0, \"k_orig\": 28736.0, \"sum_c\": 3576.0, \"k_worst\": 54460.0, \"top_n\": 13, \"k/k_orig\": 0.052825723830734965, \"k/k_worst\": 0.02787366874770474, \"k/sum_c\": 0.42449664429530204, \"k*k_orig/k_worst\": 800.9777451340433, \"k/(k_worst-k_orig)\": 0.05901104027367439}, {\"Method\": \"Hillside(Colley Params)\", \"Year\": \"2017\", \"k\": 1820.0, \"k_orig\": 28736.0, \"sum_c\": 4237.0, \"k_worst\": 54460.0, \"top_n\": 14, \"k/k_orig\": 0.06333518930957684, \"k/k_worst\": 0.033419023136246784, \"k/sum_c\": 0.4295492093462355, \"k*k_orig/k_worst\": 960.3290488431877, \"k/(k_worst-k_orig)\": 0.07075104960348313}, {\"Method\": \"Hillside(Colley Params)\", \"Year\": \"2017\", \"k\": 2164.0, \"k_orig\": 28736.0, \"sum_c\": 5044.0, \"k_worst\": 54460.0, \"top_n\": 15, \"k/k_orig\": 0.07530623608017817, \"k/k_worst\": 0.03973558575100992, \"k/sum_c\": 0.4290245836637589, \"k*k_orig/k_worst\": 1141.841792141021, \"k/(k_worst-k_orig)\": 0.08412377546260302}, {\"Method\": \"Hillside(Colley Params)\", \"Year\": \"2017\", \"k\": 2527.0, \"k_orig\": 28736.0, \"sum_c\": 5803.0, \"k_worst\": 54460.0, \"top_n\": 16, \"k/k_orig\": 0.08793847438752785, \"k/k_worst\": 0.04640102827763496, \"k/sum_c\": 0.43546441495778043, \"k*k_orig/k_worst\": 1333.3799485861182, \"k/(k_worst-k_orig)\": 0.09823511118022081}, {\"Method\": \"Hillside(Massey Params)\", \"Year\": \"2017\", \"k\": 19.0, \"k_orig\": 28736.0, \"sum_c\": 42.0, \"k_worst\": 54460.0, \"top_n\": 2, \"k/k_orig\": 0.0006611915367483296, \"k/k_worst\": 0.000348879911861917, \"k/sum_c\": 0.4523809523809524, \"k*k_orig/k_worst\": 10.025413147264047, \"k/(k_worst-k_orig)\": 0.0007386098584979008}, {\"Method\": \"Hillside(Massey Params)\", \"Year\": \"2017\", \"k\": 45.0, \"k_orig\": 28736.0, \"sum_c\": 97.0, \"k_worst\": 54460.0, \"top_n\": 3, \"k/k_orig\": 0.00156597995545657, \"k/k_worst\": 0.0008262945280940139, \"k/sum_c\": 0.4639175257731959, \"k*k_orig/k_worst\": 23.744399559309585, \"k/(k_worst-k_orig)\": 0.0017493391385476598}, {\"Method\": \"Hillside(Massey Params)\", \"Year\": \"2017\", \"k\": 92.0, \"k_orig\": 28736.0, \"sum_c\": 208.0, \"k_worst\": 54460.0, \"top_n\": 4, \"k/k_orig\": 0.0032015590200445434, \"k/k_worst\": 0.0016893132574366508, \"k/sum_c\": 0.4423076923076923, \"k*k_orig/k_worst\": 48.5441057656996, \"k/(k_worst-k_orig)\": 0.0035764266832529934}, {\"Method\": \"Hillside(Massey Params)\", \"Year\": \"2017\", \"k\": 165.0, \"k_orig\": 28736.0, \"sum_c\": 375.0, \"k_worst\": 54460.0, \"top_n\": 5, \"k/k_orig\": 0.005741926503340758, \"k/k_worst\": 0.0030297466030113846, \"k/sum_c\": 0.44, \"k*k_orig/k_worst\": 87.06279838413515, \"k/(k_worst-k_orig)\": 0.006414243508008086}, {\"Method\": \"Hillside(Massey Params)\", \"Year\": \"2017\", \"k\": 267.0, \"k_orig\": 28736.0, \"sum_c\": 609.0, \"k_worst\": 54460.0, \"top_n\": 6, \"k/k_orig\": 0.009291481069042316, \"k/k_worst\": 0.00490268086669115, \"k/sum_c\": 0.43842364532019706, \"k*k_orig/k_worst\": 140.88343738523687, \"k/(k_worst-k_orig)\": 0.010379412222049448}, {\"Method\": \"Hillside(Massey Params)\", \"Year\": \"2017\", \"k\": 393.0, \"k_orig\": 28736.0, \"sum_c\": 880.0, \"k_worst\": 54460.0, \"top_n\": 7, \"k/k_orig\": 0.013676224944320713, \"k/k_worst\": 0.0072163055453543885, \"k/sum_c\": 0.4465909090909091, \"k*k_orig/k_worst\": 207.36775615130372, \"k/(k_worst-k_orig)\": 0.015277561809982895}, {\"Method\": \"Hillside(Massey Params)\", \"Year\": \"2017\", \"k\": 509.0, \"k_orig\": 28736.0, \"sum_c\": 1182.0, \"k_worst\": 54460.0, \"top_n\": 8, \"k/k_orig\": 0.017712973273942095, \"k/k_worst\": 0.009346309217774514, \"k/sum_c\": 0.4306260575296108, \"k*k_orig/k_worst\": 268.57554168196845, \"k/(k_worst-k_orig)\": 0.019786969367127975}, {\"Method\": \"Hillside(Massey Params)\", \"Year\": \"2017\", \"k\": 692.0, \"k_orig\": 28736.0, \"sum_c\": 1591.0, \"k_worst\": 54460.0, \"top_n\": 9, \"k/k_orig\": 0.024081291759465478, \"k/k_worst\": 0.012706573632023503, \"k/sum_c\": 0.4349465744814582, \"k*k_orig/k_worst\": 365.1360998898274, \"k/(k_worst-k_orig)\": 0.026900948530555125}, {\"Method\": \"Hillside(Massey Params)\", \"Year\": \"2017\", \"k\": 862.0, \"k_orig\": 28736.0, \"sum_c\": 1977.0, \"k_worst\": 54460.0, \"top_n\": 10, \"k/k_orig\": 0.029997216035634745, \"k/k_worst\": 0.015828130738156445, \"k/sum_c\": 0.43601416287303996, \"k*k_orig/k_worst\": 454.83716489166363, \"k/(k_worst-k_orig)\": 0.03350956305395739}, {\"Method\": \"Hillside(Massey Params)\", \"Year\": \"2017\", \"k\": 1040.0, \"k_orig\": 28736.0, \"sum_c\": 2435.0, \"k_worst\": 54460.0, \"top_n\": 11, \"k/k_orig\": 0.036191536748329624, \"k/k_worst\": 0.019096584649283876, \"k/sum_c\": 0.4271047227926078, \"k*k_orig/k_worst\": 548.7594564818215, \"k/(k_worst-k_orig)\": 0.04042917120199036}, {\"Method\": \"Hillside(Massey Params)\", \"Year\": \"2017\", \"k\": 1239.0, \"k_orig\": 28736.0, \"sum_c\": 2924.0, \"k_worst\": 54460.0, \"top_n\": 12, \"k/k_orig\": 0.04311664810690423, \"k/k_worst\": 0.02275064267352185, \"k/sum_c\": 0.423734610123119, \"k*k_orig/k_worst\": 653.762467866324, \"k/(k_worst-k_orig)\": 0.0481651376146789}, {\"Method\": \"Hillside(Massey Params)\", \"Year\": \"2017\", \"k\": 1518.0, \"k_orig\": 28736.0, \"sum_c\": 3576.0, \"k_worst\": 54460.0, \"top_n\": 13, \"k/k_orig\": 0.052825723830734965, \"k/k_worst\": 0.02787366874770474, \"k/sum_c\": 0.42449664429530204, \"k*k_orig/k_worst\": 800.9777451340433, \"k/(k_worst-k_orig)\": 0.05901104027367439}, {\"Method\": \"Hillside(Massey Params)\", \"Year\": \"2017\", \"k\": 1820.0, \"k_orig\": 28736.0, \"sum_c\": 4237.0, \"k_worst\": 54460.0, \"top_n\": 14, \"k/k_orig\": 0.06333518930957684, \"k/k_worst\": 0.033419023136246784, \"k/sum_c\": 0.4295492093462355, \"k*k_orig/k_worst\": 960.3290488431877, \"k/(k_worst-k_orig)\": 0.07075104960348313}, {\"Method\": \"Hillside(Massey Params)\", \"Year\": \"2017\", \"k\": 2164.0, \"k_orig\": 28736.0, \"sum_c\": 5044.0, \"k_worst\": 54460.0, \"top_n\": 15, \"k/k_orig\": 0.07530623608017817, \"k/k_worst\": 0.03973558575100992, \"k/sum_c\": 0.4290245836637589, \"k*k_orig/k_worst\": 1141.841792141021, \"k/(k_worst-k_orig)\": 0.08412377546260302}, {\"Method\": \"Hillside(Massey Params)\", \"Year\": \"2017\", \"k\": 2527.0, \"k_orig\": 28736.0, \"sum_c\": 5803.0, \"k_worst\": 54460.0, \"top_n\": 16, \"k/k_orig\": 0.08793847438752785, \"k/k_worst\": 0.04640102827763496, \"k/sum_c\": 0.43546441495778043, \"k*k_orig/k_worst\": 1333.3799485861182, \"k/(k_worst-k_orig)\": 0.09823511118022081}, {\"Method\": \"Hillside(Colley Params)\", \"Year\": \"2018\", \"k\": 21.0, \"k_orig\": 30196.0, \"sum_c\": 54.0, \"k_worst\": 52517.0, \"top_n\": 2, \"k/k_orig\": 0.0006954563518346801, \"k/k_worst\": 0.0003998705181179428, \"k/sum_c\": 0.3888888888888889, \"k*k_orig/k_worst\": 12.074490165089399, \"k/(k_worst-k_orig)\": 0.0009408180637068232}, {\"Method\": \"Hillside(Colley Params)\", \"Year\": \"2018\", \"k\": 64.0, \"k_orig\": 30196.0, \"sum_c\": 147.0, \"k_worst\": 52517.0, \"top_n\": 3, \"k/k_orig\": 0.002119486024639025, \"k/k_worst\": 0.0012186530075975399, \"k/sum_c\": 0.43537414965986393, \"k*k_orig/k_worst\": 36.79844621741531, \"k/(k_worst-k_orig)\": 0.002867255051296985}, {\"Method\": \"Hillside(Colley Params)\", \"Year\": \"2018\", \"k\": 140.0, \"k_orig\": 30196.0, \"sum_c\": 308.0, \"k_worst\": 52517.0, \"top_n\": 4, \"k/k_orig\": 0.0046363756788978675, \"k/k_worst\": 0.0026658034541196182, \"k/sum_c\": 0.45454545454545453, \"k*k_orig/k_worst\": 80.496601100596, \"k/(k_worst-k_orig)\": 0.006272120424712154}, {\"Method\": \"Hillside(Colley Params)\", \"Year\": \"2018\", \"k\": 214.0, \"k_orig\": 30196.0, \"sum_c\": 477.0, \"k_worst\": 52517.0, \"top_n\": 5, \"k/k_orig\": 0.00708703139488674, \"k/k_worst\": 0.004074870994154274, \"k/sum_c\": 0.44863731656184486, \"k*k_orig/k_worst\": 123.04480453948246, \"k/(k_worst-k_orig)\": 0.009587384077774293}, {\"Method\": \"Hillside(Colley Params)\", \"Year\": \"2018\", \"k\": 347.0, \"k_orig\": 30196.0, \"sum_c\": 759.0, \"k_worst\": 52517.0, \"top_n\": 6, \"k/k_orig\": 0.011491588289839713, \"k/k_worst\": 0.006607384275567911, \"k/sum_c\": 0.45718050065876153, \"k*k_orig/k_worst\": 199.51657558504866, \"k/(k_worst-k_orig)\": 0.01554589848125084}, {\"Method\": \"Hillside(Colley Params)\", \"Year\": \"2018\", \"k\": 485.0, \"k_orig\": 30196.0, \"sum_c\": 1062.0, \"k_worst\": 52517.0, \"top_n\": 7, \"k/k_orig\": 0.01606173003046761, \"k/k_worst\": 0.009235104823200106, \"k/sum_c\": 0.4566854990583804, \"k*k_orig/k_worst\": 278.8632252413504, \"k/(k_worst-k_orig)\": 0.021728417185609965}, {\"Method\": \"Hillside(Colley Params)\", \"Year\": \"2018\", \"k\": 645.0, \"k_orig\": 30196.0, \"sum_c\": 1399.0, \"k_worst\": 52517.0, \"top_n\": 8, \"k/k_orig\": 0.021360445092065174, \"k/k_worst\": 0.012281737342193956, \"k/sum_c\": 0.4610436025732666, \"k*k_orig/k_worst\": 370.85934078488873, \"k/(k_worst-k_orig)\": 0.028896554813852424}, {\"Method\": \"Hillside(Colley Params)\", \"Year\": \"2018\", \"k\": 736.0, \"k_orig\": 30196.0, \"sum_c\": 1600.0, \"k_worst\": 52517.0, \"top_n\": 9, \"k/k_orig\": 0.024374089283348787, \"k/k_worst\": 0.014014509587371708, \"k/sum_c\": 0.46, \"k*k_orig/k_worst\": 423.1821315002761, \"k/(k_worst-k_orig)\": 0.03297343308991533}, {\"Method\": \"Hillside(Colley Params)\", \"Year\": \"2018\", \"k\": 971.0, \"k_orig\": 30196.0, \"sum_c\": 2101.0, \"k_worst\": 52517.0, \"top_n\": 10, \"k/k_orig\": 0.03215657703007021, \"k/k_worst\": 0.018489251099643923, \"k/sum_c\": 0.4621608757734412, \"k*k_orig/k_worst\": 558.301426204848, \"k/(k_worst-k_orig)\": 0.04350163523139644}, {\"Method\": \"Hillside(Colley Params)\", \"Year\": \"2018\", \"k\": 1183.0, \"k_orig\": 30196.0, \"sum_c\": 2554.0, \"k_worst\": 52517.0, \"top_n\": 11, \"k/k_orig\": 0.039177374486686976, \"k/k_worst\": 0.022526039187310776, \"k/sum_c\": 0.46319498825371963, \"k*k_orig/k_worst\": 680.1962793000362, \"k/(k_worst-k_orig)\": 0.0529994175888177}, {\"Method\": \"Hillside(Colley Params)\", \"Year\": \"2018\", \"k\": 1422.0, \"k_orig\": 30196.0, \"sum_c\": 3099.0, \"k_worst\": 52517.0, \"top_n\": 12, \"k/k_orig\": 0.04709233010994834, \"k/k_worst\": 0.027076946512557837, \"k/sum_c\": 0.45885769603097776, \"k*k_orig/k_worst\": 817.6154768931965, \"k/(k_worst-k_orig)\": 0.06370682317100489}, {\"Method\": \"Hillside(Colley Params)\", \"Year\": \"2018\", \"k\": 1675.0, \"k_orig\": 30196.0, \"sum_c\": 3673.0, \"k_worst\": 52517.0, \"top_n\": 13, \"k/k_orig\": 0.055470923301099484, \"k/k_worst\": 0.031894434183216865, \"k/sum_c\": 0.4560304927851892, \"k*k_orig/k_worst\": 963.0843345964164, \"k/(k_worst-k_orig)\": 0.07504144079566327}, {\"Method\": \"Hillside(Colley Params)\", \"Year\": \"2018\", \"k\": 1977.0, \"k_orig\": 30196.0, \"sum_c\": 4358.0, \"k_worst\": 52517.0, \"top_n\": 14, \"k/k_orig\": 0.06547224797986488, \"k/k_worst\": 0.03764495306281775, \"k/sum_c\": 0.4536484625975218, \"k*k_orig/k_worst\": 1136.7270026848448, \"k/(k_worst-k_orig)\": 0.08857130056897092}, {\"Method\": \"Hillside(Colley Params)\", \"Year\": \"2018\", \"k\": 2264.0, \"k_orig\": 30196.0, \"sum_c\": 4956.0, \"k_worst\": 52517.0, \"top_n\": 15, \"k/k_orig\": 0.0749768181216055, \"k/k_worst\": 0.04310985014376297, \"k/sum_c\": 0.45682001614205003, \"k*k_orig/k_worst\": 1301.7450349410667, \"k/(k_worst-k_orig)\": 0.10142914743963084}, {\"Method\": \"Hillside(Colley Params)\", \"Year\": \"2018\", \"k\": 2602.0, \"k_orig\": 30196.0, \"sum_c\": 5728.0, \"k_worst\": 52517.0, \"top_n\": 16, \"k/k_orig\": 0.08617035368923036, \"k/k_worst\": 0.04954586134013748, \"k/sum_c\": 0.45425977653631283, \"k*k_orig/k_worst\": 1496.0868290267913, \"k/(k_worst-k_orig)\": 0.11657183817929304}, {\"Method\": \"Hillside(Massey Params)\", \"Year\": \"2018\", \"k\": 21.0, \"k_orig\": 30196.0, \"sum_c\": 54.0, \"k_worst\": 52517.0, \"top_n\": 2, \"k/k_orig\": 0.0006954563518346801, \"k/k_worst\": 0.0003998705181179428, \"k/sum_c\": 0.3888888888888889, \"k*k_orig/k_worst\": 12.074490165089399, \"k/(k_worst-k_orig)\": 0.0009408180637068232}, {\"Method\": \"Hillside(Massey Params)\", \"Year\": \"2018\", \"k\": 64.0, \"k_orig\": 30196.0, \"sum_c\": 147.0, \"k_worst\": 52517.0, \"top_n\": 3, \"k/k_orig\": 0.002119486024639025, \"k/k_worst\": 0.0012186530075975399, \"k/sum_c\": 0.43537414965986393, \"k*k_orig/k_worst\": 36.79844621741531, \"k/(k_worst-k_orig)\": 0.002867255051296985}, {\"Method\": \"Hillside(Massey Params)\", \"Year\": \"2018\", \"k\": 140.0, \"k_orig\": 30196.0, \"sum_c\": 308.0, \"k_worst\": 52517.0, \"top_n\": 4, \"k/k_orig\": 0.0046363756788978675, \"k/k_worst\": 0.0026658034541196182, \"k/sum_c\": 0.45454545454545453, \"k*k_orig/k_worst\": 80.496601100596, \"k/(k_worst-k_orig)\": 0.006272120424712154}, {\"Method\": \"Hillside(Massey Params)\", \"Year\": \"2018\", \"k\": 214.0, \"k_orig\": 30196.0, \"sum_c\": 477.0, \"k_worst\": 52517.0, \"top_n\": 5, \"k/k_orig\": 0.00708703139488674, \"k/k_worst\": 0.004074870994154274, \"k/sum_c\": 0.44863731656184486, \"k*k_orig/k_worst\": 123.04480453948246, \"k/(k_worst-k_orig)\": 0.009587384077774293}, {\"Method\": \"Hillside(Massey Params)\", \"Year\": \"2018\", \"k\": 347.0, \"k_orig\": 30196.0, \"sum_c\": 759.0, \"k_worst\": 52517.0, \"top_n\": 6, \"k/k_orig\": 0.011491588289839713, \"k/k_worst\": 0.006607384275567911, \"k/sum_c\": 0.45718050065876153, \"k*k_orig/k_worst\": 199.51657558504866, \"k/(k_worst-k_orig)\": 0.01554589848125084}, {\"Method\": \"Hillside(Massey Params)\", \"Year\": \"2018\", \"k\": 485.0, \"k_orig\": 30196.0, \"sum_c\": 1062.0, \"k_worst\": 52517.0, \"top_n\": 7, \"k/k_orig\": 0.01606173003046761, \"k/k_worst\": 0.009235104823200106, \"k/sum_c\": 0.4566854990583804, \"k*k_orig/k_worst\": 278.8632252413504, \"k/(k_worst-k_orig)\": 0.021728417185609965}, {\"Method\": \"Hillside(Massey Params)\", \"Year\": \"2018\", \"k\": 645.0, \"k_orig\": 30196.0, \"sum_c\": 1399.0, \"k_worst\": 52517.0, \"top_n\": 8, \"k/k_orig\": 0.021360445092065174, \"k/k_worst\": 0.012281737342193956, \"k/sum_c\": 0.4610436025732666, \"k*k_orig/k_worst\": 370.85934078488873, \"k/(k_worst-k_orig)\": 0.028896554813852424}, {\"Method\": \"Hillside(Massey Params)\", \"Year\": \"2018\", \"k\": 736.0, \"k_orig\": 30196.0, \"sum_c\": 1600.0, \"k_worst\": 52517.0, \"top_n\": 9, \"k/k_orig\": 0.024374089283348787, \"k/k_worst\": 0.014014509587371708, \"k/sum_c\": 0.46, \"k*k_orig/k_worst\": 423.1821315002761, \"k/(k_worst-k_orig)\": 0.03297343308991533}, {\"Method\": \"Hillside(Massey Params)\", \"Year\": \"2018\", \"k\": 971.0, \"k_orig\": 30196.0, \"sum_c\": 2101.0, \"k_worst\": 52517.0, \"top_n\": 10, \"k/k_orig\": 0.03215657703007021, \"k/k_worst\": 0.018489251099643923, \"k/sum_c\": 0.4621608757734412, \"k*k_orig/k_worst\": 558.301426204848, \"k/(k_worst-k_orig)\": 0.04350163523139644}, {\"Method\": \"Hillside(Massey Params)\", \"Year\": \"2018\", \"k\": 1183.0, \"k_orig\": 30196.0, \"sum_c\": 2554.0, \"k_worst\": 52517.0, \"top_n\": 11, \"k/k_orig\": 0.039177374486686976, \"k/k_worst\": 0.022526039187310776, \"k/sum_c\": 0.46319498825371963, \"k*k_orig/k_worst\": 680.1962793000362, \"k/(k_worst-k_orig)\": 0.0529994175888177}, {\"Method\": \"Hillside(Massey Params)\", \"Year\": \"2018\", \"k\": 1422.0, \"k_orig\": 30196.0, \"sum_c\": 3099.0, \"k_worst\": 52517.0, \"top_n\": 12, \"k/k_orig\": 0.04709233010994834, \"k/k_worst\": 0.027076946512557837, \"k/sum_c\": 0.45885769603097776, \"k*k_orig/k_worst\": 817.6154768931965, \"k/(k_worst-k_orig)\": 0.06370682317100489}, {\"Method\": \"Hillside(Massey Params)\", \"Year\": \"2018\", \"k\": 1675.0, \"k_orig\": 30196.0, \"sum_c\": 3673.0, \"k_worst\": 52517.0, \"top_n\": 13, \"k/k_orig\": 0.055470923301099484, \"k/k_worst\": 0.031894434183216865, \"k/sum_c\": 0.4560304927851892, \"k*k_orig/k_worst\": 963.0843345964164, \"k/(k_worst-k_orig)\": 0.07504144079566327}, {\"Method\": \"Hillside(Massey Params)\", \"Year\": \"2018\", \"k\": 1977.0, \"k_orig\": 30196.0, \"sum_c\": 4358.0, \"k_worst\": 52517.0, \"top_n\": 14, \"k/k_orig\": 0.06547224797986488, \"k/k_worst\": 0.03764495306281775, \"k/sum_c\": 0.4536484625975218, \"k*k_orig/k_worst\": 1136.7270026848448, \"k/(k_worst-k_orig)\": 0.08857130056897092}, {\"Method\": \"Hillside(Massey Params)\", \"Year\": \"2018\", \"k\": 2264.0, \"k_orig\": 30196.0, \"sum_c\": 4956.0, \"k_worst\": 52517.0, \"top_n\": 15, \"k/k_orig\": 0.0749768181216055, \"k/k_worst\": 0.04310985014376297, \"k/sum_c\": 0.45682001614205003, \"k*k_orig/k_worst\": 1301.7450349410667, \"k/(k_worst-k_orig)\": 0.10142914743963084}, {\"Method\": \"Hillside(Massey Params)\", \"Year\": \"2018\", \"k\": 2602.0, \"k_orig\": 30196.0, \"sum_c\": 5728.0, \"k_worst\": 52517.0, \"top_n\": 16, \"k/k_orig\": 0.08617035368923036, \"k/k_worst\": 0.04954586134013748, \"k/sum_c\": 0.45425977653631283, \"k*k_orig/k_worst\": 1496.0868290267913, \"k/(k_worst-k_orig)\": 0.11657183817929304}]}}, {\"mode\": \"vega-lite\"});\n",
       "</script>"
      ],
      "text/plain": [
       "alt.FacetChart(...)"
      ]
     },
     "execution_count": 439,
     "metadata": {},
     "output_type": "execute_result"
    }
   ],
   "source": [
    "max_top_n = 16\n",
    "min_top_n = 2\n",
    "mask = (graph_df.top_n <= max_top_n) & (graph_df.top_n >= min_top_n)\n",
    "alt.Chart(graph_df.loc[mask]).mark_line().encode(\n",
    "    x='top_n',\n",
    "    y='k',\n",
    "    color='Year'\n",
    ").facet(row='Method')"
   ]
  },
  {
   "cell_type": "code",
   "execution_count": 440,
   "metadata": {},
   "outputs": [
    {
     "data": {
      "text/html": [
       "<div>\n",
       "<style scoped>\n",
       "    .dataframe tbody tr th:only-of-type {\n",
       "        vertical-align: middle;\n",
       "    }\n",
       "\n",
       "    .dataframe tbody tr th {\n",
       "        vertical-align: top;\n",
       "    }\n",
       "\n",
       "    .dataframe thead th {\n",
       "        text-align: right;\n",
       "    }\n",
       "</style>\n",
       "<table border=\"1\" class=\"dataframe\">\n",
       "  <thead>\n",
       "    <tr style=\"text-align: right;\">\n",
       "      <th></th>\n",
       "      <th>Method</th>\n",
       "      <th>Year</th>\n",
       "      <th>Slope over [2,16]</th>\n",
       "    </tr>\n",
       "  </thead>\n",
       "  <tbody>\n",
       "    <tr>\n",
       "      <th>0</th>\n",
       "      <td>Hillside(Colley Params)</td>\n",
       "      <td>2002</td>\n",
       "      <td>0.395388</td>\n",
       "    </tr>\n",
       "    <tr>\n",
       "      <th>1</th>\n",
       "      <td>Hillside(Colley Params)</td>\n",
       "      <td>2003</td>\n",
       "      <td>0.426499</td>\n",
       "    </tr>\n",
       "    <tr>\n",
       "      <th>2</th>\n",
       "      <td>Hillside(Colley Params)</td>\n",
       "      <td>2004</td>\n",
       "      <td>0.428957</td>\n",
       "    </tr>\n",
       "    <tr>\n",
       "      <th>3</th>\n",
       "      <td>Hillside(Colley Params)</td>\n",
       "      <td>2005</td>\n",
       "      <td>0.406536</td>\n",
       "    </tr>\n",
       "    <tr>\n",
       "      <th>4</th>\n",
       "      <td>Hillside(Colley Params)</td>\n",
       "      <td>2006</td>\n",
       "      <td>0.437414</td>\n",
       "    </tr>\n",
       "    <tr>\n",
       "      <th>5</th>\n",
       "      <td>Hillside(Colley Params)</td>\n",
       "      <td>2007</td>\n",
       "      <td>0.463334</td>\n",
       "    </tr>\n",
       "    <tr>\n",
       "      <th>6</th>\n",
       "      <td>Hillside(Colley Params)</td>\n",
       "      <td>2008</td>\n",
       "      <td>0.386713</td>\n",
       "    </tr>\n",
       "    <tr>\n",
       "      <th>7</th>\n",
       "      <td>Hillside(Colley Params)</td>\n",
       "      <td>2009</td>\n",
       "      <td>0.462125</td>\n",
       "    </tr>\n",
       "    <tr>\n",
       "      <th>8</th>\n",
       "      <td>Hillside(Colley Params)</td>\n",
       "      <td>2010</td>\n",
       "      <td>0.471859</td>\n",
       "    </tr>\n",
       "    <tr>\n",
       "      <th>9</th>\n",
       "      <td>Hillside(Colley Params)</td>\n",
       "      <td>2011</td>\n",
       "      <td>0.400527</td>\n",
       "    </tr>\n",
       "    <tr>\n",
       "      <th>10</th>\n",
       "      <td>Hillside(Colley Params)</td>\n",
       "      <td>2012</td>\n",
       "      <td>0.418842</td>\n",
       "    </tr>\n",
       "    <tr>\n",
       "      <th>11</th>\n",
       "      <td>Hillside(Colley Params)</td>\n",
       "      <td>2013</td>\n",
       "      <td>0.365259</td>\n",
       "    </tr>\n",
       "    <tr>\n",
       "      <th>12</th>\n",
       "      <td>Hillside(Colley Params)</td>\n",
       "      <td>2014</td>\n",
       "      <td>0.449181</td>\n",
       "    </tr>\n",
       "    <tr>\n",
       "      <th>13</th>\n",
       "      <td>Hillside(Colley Params)</td>\n",
       "      <td>2015</td>\n",
       "      <td>0.386988</td>\n",
       "    </tr>\n",
       "    <tr>\n",
       "      <th>14</th>\n",
       "      <td>Hillside(Colley Params)</td>\n",
       "      <td>2016</td>\n",
       "      <td>0.470992</td>\n",
       "    </tr>\n",
       "    <tr>\n",
       "      <th>15</th>\n",
       "      <td>Hillside(Colley Params)</td>\n",
       "      <td>2017</td>\n",
       "      <td>0.454047</td>\n",
       "    </tr>\n",
       "    <tr>\n",
       "      <th>16</th>\n",
       "      <td>Hillside(Colley Params)</td>\n",
       "      <td>2018</td>\n",
       "      <td>0.430888</td>\n",
       "    </tr>\n",
       "    <tr>\n",
       "      <th>17</th>\n",
       "      <td>Hillside(Massey Params)</td>\n",
       "      <td>2002</td>\n",
       "      <td>0.395388</td>\n",
       "    </tr>\n",
       "    <tr>\n",
       "      <th>18</th>\n",
       "      <td>Hillside(Massey Params)</td>\n",
       "      <td>2003</td>\n",
       "      <td>0.426499</td>\n",
       "    </tr>\n",
       "    <tr>\n",
       "      <th>19</th>\n",
       "      <td>Hillside(Massey Params)</td>\n",
       "      <td>2004</td>\n",
       "      <td>0.428957</td>\n",
       "    </tr>\n",
       "    <tr>\n",
       "      <th>20</th>\n",
       "      <td>Hillside(Massey Params)</td>\n",
       "      <td>2005</td>\n",
       "      <td>0.406536</td>\n",
       "    </tr>\n",
       "    <tr>\n",
       "      <th>21</th>\n",
       "      <td>Hillside(Massey Params)</td>\n",
       "      <td>2006</td>\n",
       "      <td>0.437414</td>\n",
       "    </tr>\n",
       "    <tr>\n",
       "      <th>22</th>\n",
       "      <td>Hillside(Massey Params)</td>\n",
       "      <td>2007</td>\n",
       "      <td>0.463334</td>\n",
       "    </tr>\n",
       "    <tr>\n",
       "      <th>23</th>\n",
       "      <td>Hillside(Massey Params)</td>\n",
       "      <td>2008</td>\n",
       "      <td>0.386713</td>\n",
       "    </tr>\n",
       "    <tr>\n",
       "      <th>24</th>\n",
       "      <td>Hillside(Massey Params)</td>\n",
       "      <td>2009</td>\n",
       "      <td>0.462125</td>\n",
       "    </tr>\n",
       "    <tr>\n",
       "      <th>25</th>\n",
       "      <td>Hillside(Massey Params)</td>\n",
       "      <td>2010</td>\n",
       "      <td>0.471859</td>\n",
       "    </tr>\n",
       "    <tr>\n",
       "      <th>26</th>\n",
       "      <td>Hillside(Massey Params)</td>\n",
       "      <td>2011</td>\n",
       "      <td>0.400527</td>\n",
       "    </tr>\n",
       "    <tr>\n",
       "      <th>27</th>\n",
       "      <td>Hillside(Massey Params)</td>\n",
       "      <td>2012</td>\n",
       "      <td>0.418842</td>\n",
       "    </tr>\n",
       "    <tr>\n",
       "      <th>28</th>\n",
       "      <td>Hillside(Massey Params)</td>\n",
       "      <td>2013</td>\n",
       "      <td>0.365259</td>\n",
       "    </tr>\n",
       "    <tr>\n",
       "      <th>29</th>\n",
       "      <td>Hillside(Massey Params)</td>\n",
       "      <td>2014</td>\n",
       "      <td>0.449181</td>\n",
       "    </tr>\n",
       "    <tr>\n",
       "      <th>30</th>\n",
       "      <td>Hillside(Massey Params)</td>\n",
       "      <td>2015</td>\n",
       "      <td>0.386988</td>\n",
       "    </tr>\n",
       "    <tr>\n",
       "      <th>31</th>\n",
       "      <td>Hillside(Massey Params)</td>\n",
       "      <td>2016</td>\n",
       "      <td>0.470992</td>\n",
       "    </tr>\n",
       "    <tr>\n",
       "      <th>32</th>\n",
       "      <td>Hillside(Massey Params)</td>\n",
       "      <td>2017</td>\n",
       "      <td>0.454047</td>\n",
       "    </tr>\n",
       "    <tr>\n",
       "      <th>33</th>\n",
       "      <td>Hillside(Massey Params)</td>\n",
       "      <td>2018</td>\n",
       "      <td>0.430888</td>\n",
       "    </tr>\n",
       "  </tbody>\n",
       "</table>\n",
       "</div>"
      ],
      "text/plain": [
       "                     Method  Year  Slope over [2,16]\n",
       "0   Hillside(Colley Params)  2002           0.395388\n",
       "1   Hillside(Colley Params)  2003           0.426499\n",
       "2   Hillside(Colley Params)  2004           0.428957\n",
       "3   Hillside(Colley Params)  2005           0.406536\n",
       "4   Hillside(Colley Params)  2006           0.437414\n",
       "5   Hillside(Colley Params)  2007           0.463334\n",
       "6   Hillside(Colley Params)  2008           0.386713\n",
       "7   Hillside(Colley Params)  2009           0.462125\n",
       "8   Hillside(Colley Params)  2010           0.471859\n",
       "9   Hillside(Colley Params)  2011           0.400527\n",
       "10  Hillside(Colley Params)  2012           0.418842\n",
       "11  Hillside(Colley Params)  2013           0.365259\n",
       "12  Hillside(Colley Params)  2014           0.449181\n",
       "13  Hillside(Colley Params)  2015           0.386988\n",
       "14  Hillside(Colley Params)  2016           0.470992\n",
       "15  Hillside(Colley Params)  2017           0.454047\n",
       "16  Hillside(Colley Params)  2018           0.430888\n",
       "17  Hillside(Massey Params)  2002           0.395388\n",
       "18  Hillside(Massey Params)  2003           0.426499\n",
       "19  Hillside(Massey Params)  2004           0.428957\n",
       "20  Hillside(Massey Params)  2005           0.406536\n",
       "21  Hillside(Massey Params)  2006           0.437414\n",
       "22  Hillside(Massey Params)  2007           0.463334\n",
       "23  Hillside(Massey Params)  2008           0.386713\n",
       "24  Hillside(Massey Params)  2009           0.462125\n",
       "25  Hillside(Massey Params)  2010           0.471859\n",
       "26  Hillside(Massey Params)  2011           0.400527\n",
       "27  Hillside(Massey Params)  2012           0.418842\n",
       "28  Hillside(Massey Params)  2013           0.365259\n",
       "29  Hillside(Massey Params)  2014           0.449181\n",
       "30  Hillside(Massey Params)  2015           0.386988\n",
       "31  Hillside(Massey Params)  2016           0.470992\n",
       "32  Hillside(Massey Params)  2017           0.454047\n",
       "33  Hillside(Massey Params)  2018           0.430888"
      ]
     },
     "execution_count": 440,
     "metadata": {},
     "output_type": "execute_result"
    }
   ],
   "source": [
    "slopes = pd.DataFrame(graph_df.loc[mask].groupby(['Method','Year']).apply(lambda df: np.polyfit(df['top_n'].astype(int), df['k/sum_c'].astype(float),deg=1)[1]))\n",
    "slopes.columns = [f\"Slope over [{min_top_n},{max_top_n}]\"]\n",
    "slopes = slopes.reset_index()\n",
    "slopes"
   ]
  },
  {
   "cell_type": "code",
   "execution_count": 441,
   "metadata": {},
   "outputs": [
    {
     "data": {
      "text/plain": [
       "Method\n",
       "Colley    (0.19885859786135188, 0.5355233719707768)\n",
       "Massey    (0.03270017044354959, 0.9196415472088503)\n",
       "dtype: object"
      ]
     },
     "execution_count": 441,
     "metadata": {},
     "output_type": "execute_result"
    }
   ],
   "source": [
    "import scipy\n",
    "slopes_new = slopes.set_index('Year').drop(years_train).copy().reset_index()\n",
    "slopes_new['Method']=slopes_new['Method'].map({\"Hillside(Massey Params)\":\"Massey\",\"Hillside(Colley Params)\":\"Colley\"})\n",
    "slopes_new.set_index(['Year','Method'],inplace=True)\n",
    "slopes_new\n",
    "for_corr = slopes_new.join(predictability.set_index(['Year','Method'])).reset_index()\n",
    "for_corr.groupby('Method').apply(lambda df: scipy.stats.pearsonr(df[f\"Slope over [{min_top_n},{max_top_n}]\"],df['Score']))"
   ]
  },
  {
   "cell_type": "code",
   "execution_count": 433,
   "metadata": {},
   "outputs": [],
   "source": [
    "check_vars = ['k','k/k_orig','k/k_worst','k/sum_c','k/(k_worst-k_orig)']\n",
    "top_ns = [4,8,16,25]"
   ]
  },
  {
   "cell_type": "code",
   "execution_count": 434,
   "metadata": {},
   "outputs": [
    {
     "data": {
      "text/markdown": [
       "## var = k"
      ],
      "text/plain": [
       "<IPython.core.display.Markdown object>"
      ]
     },
     "metadata": {},
     "output_type": "display_data"
    },
    {
     "data": {
      "text/markdown": [
       "### top_n = 4"
      ],
      "text/plain": [
       "<IPython.core.display.Markdown object>"
      ]
     },
     "metadata": {},
     "output_type": "display_data"
    },
    {
     "data": {
      "text/markdown": [
       "#### pearsonr"
      ],
      "text/plain": [
       "<IPython.core.display.Markdown object>"
      ]
     },
     "metadata": {},
     "output_type": "display_data"
    },
    {
     "data": {
      "text/plain": [
       "Method\n",
       "Colley    (0.3191777881918366, 0.311899515922242)\n",
       "Massey    (0.2867218365088855, 0.366236531424159)\n",
       "dtype: object"
      ]
     },
     "metadata": {},
     "output_type": "display_data"
    },
    {
     "data": {
      "text/markdown": [
       "#### kendalltau"
      ],
      "text/plain": [
       "<IPython.core.display.Markdown object>"
      ]
     },
     "metadata": {},
     "output_type": "display_data"
    },
    {
     "data": {
      "text/plain": [
       "Method\n",
       "Colley    (0.2727272727272727, 0.24957952123750735)\n",
       "Massey    (0.39393939393939387, 0.0863171145983646)\n",
       "dtype: object"
      ]
     },
     "metadata": {},
     "output_type": "display_data"
    },
    {
     "data": {
      "text/markdown": [
       "### top_n = 8"
      ],
      "text/plain": [
       "<IPython.core.display.Markdown object>"
      ]
     },
     "metadata": {},
     "output_type": "display_data"
    },
    {
     "data": {
      "text/markdown": [
       "#### pearsonr"
      ],
      "text/plain": [
       "<IPython.core.display.Markdown object>"
      ]
     },
     "metadata": {},
     "output_type": "display_data"
    },
    {
     "data": {
      "text/plain": [
       "Method\n",
       "Colley     (0.23020459216259487, 0.4716489696270623)\n",
       "Massey    (-0.09005753223727708, 0.7807532369805809)\n",
       "dtype: object"
      ]
     },
     "metadata": {},
     "output_type": "display_data"
    },
    {
     "data": {
      "text/markdown": [
       "#### kendalltau"
      ],
      "text/plain": [
       "<IPython.core.display.Markdown object>"
      ]
     },
     "metadata": {},
     "output_type": "display_data"
    },
    {
     "data": {
      "text/plain": [
       "Method\n",
       "Colley    (0.015267620413811482, 0.9452010837327357)\n",
       "Massey     (0.04580286124143444, 0.8366323297132776)\n",
       "dtype: object"
      ]
     },
     "metadata": {},
     "output_type": "display_data"
    },
    {
     "data": {
      "text/markdown": [
       "### top_n = 16"
      ],
      "text/plain": [
       "<IPython.core.display.Markdown object>"
      ]
     },
     "metadata": {},
     "output_type": "display_data"
    },
    {
     "data": {
      "text/markdown": [
       "#### pearsonr"
      ],
      "text/plain": [
       "<IPython.core.display.Markdown object>"
      ]
     },
     "metadata": {},
     "output_type": "display_data"
    },
    {
     "data": {
      "text/plain": [
       "Method\n",
       "Colley    (0.011937266971383392, 0.9706287128868298)\n",
       "Massey    (-0.5151117333758413, 0.08655705636387187)\n",
       "dtype: object"
      ]
     },
     "metadata": {},
     "output_type": "display_data"
    },
    {
     "data": {
      "text/markdown": [
       "#### kendalltau"
      ],
      "text/plain": [
       "<IPython.core.display.Markdown object>"
      ]
     },
     "metadata": {},
     "output_type": "display_data"
    },
    {
     "data": {
      "text/plain": [
       "Method\n",
       "Colley     (-0.0909090909090909, 0.7373055246579552)\n",
       "Massey    (-0.39393939393939387, 0.0863171145983646)\n",
       "dtype: object"
      ]
     },
     "metadata": {},
     "output_type": "display_data"
    },
    {
     "data": {
      "text/markdown": [
       "### top_n = 25"
      ],
      "text/plain": [
       "<IPython.core.display.Markdown object>"
      ]
     },
     "metadata": {},
     "output_type": "display_data"
    },
    {
     "data": {
      "text/markdown": [
       "#### pearsonr"
      ],
      "text/plain": [
       "<IPython.core.display.Markdown object>"
      ]
     },
     "metadata": {},
     "output_type": "display_data"
    },
    {
     "data": {
      "text/plain": [
       "Method\n",
       "Colley     (0.06587467634752311, 0.8388208655718932)\n",
       "Massey    (-0.5486009094343924, 0.06474467896927412)\n",
       "dtype: object"
      ]
     },
     "metadata": {},
     "output_type": "display_data"
    },
    {
     "data": {
      "text/markdown": [
       "#### kendalltau"
      ],
      "text/plain": [
       "<IPython.core.display.Markdown object>"
      ]
     },
     "metadata": {},
     "output_type": "display_data"
    },
    {
     "data": {
      "text/plain": [
       "Method\n",
       "Colley     (0.07633810206905742, 0.7310931976144447)\n",
       "Massey    (-0.3511552695176641, 0.11390323413538203)\n",
       "dtype: object"
      ]
     },
     "metadata": {},
     "output_type": "display_data"
    },
    {
     "data": {
      "text/markdown": [
       "## var = k/k_orig"
      ],
      "text/plain": [
       "<IPython.core.display.Markdown object>"
      ]
     },
     "metadata": {},
     "output_type": "display_data"
    },
    {
     "data": {
      "text/markdown": [
       "### top_n = 4"
      ],
      "text/plain": [
       "<IPython.core.display.Markdown object>"
      ]
     },
     "metadata": {},
     "output_type": "display_data"
    },
    {
     "data": {
      "text/markdown": [
       "#### pearsonr"
      ],
      "text/plain": [
       "<IPython.core.display.Markdown object>"
      ]
     },
     "metadata": {},
     "output_type": "display_data"
    },
    {
     "data": {
      "text/plain": [
       "Method\n",
       "Colley    (0.34202064041181235, 0.27651913798675437)\n",
       "Massey      (0.4836783304546249, 0.1111225836257224)\n",
       "dtype: object"
      ]
     },
     "metadata": {},
     "output_type": "display_data"
    },
    {
     "data": {
      "text/markdown": [
       "#### kendalltau"
      ],
      "text/plain": [
       "<IPython.core.display.Markdown object>"
      ]
     },
     "metadata": {},
     "output_type": "display_data"
    },
    {
     "data": {
      "text/plain": [
       "Method\n",
       "Colley    (0.3333333333333333, 0.15259045898802842)\n",
       "Massey    (0.39393939393939387, 0.0863171145983646)\n",
       "dtype: object"
      ]
     },
     "metadata": {},
     "output_type": "display_data"
    },
    {
     "data": {
      "text/markdown": [
       "### top_n = 8"
      ],
      "text/plain": [
       "<IPython.core.display.Markdown object>"
      ]
     },
     "metadata": {},
     "output_type": "display_data"
    },
    {
     "data": {
      "text/markdown": [
       "#### pearsonr"
      ],
      "text/plain": [
       "<IPython.core.display.Markdown object>"
      ]
     },
     "metadata": {},
     "output_type": "display_data"
    },
    {
     "data": {
      "text/plain": [
       "Method\n",
       "Colley    (0.27436154694633524, 0.38815019285709723)\n",
       "Massey       (0.1507085777630092, 0.640120382019459)\n",
       "dtype: object"
      ]
     },
     "metadata": {},
     "output_type": "display_data"
    },
    {
     "data": {
      "text/markdown": [
       "#### kendalltau"
      ],
      "text/plain": [
       "<IPython.core.display.Markdown object>"
      ]
     },
     "metadata": {},
     "output_type": "display_data"
    },
    {
     "data": {
      "text/plain": [
       "Method\n",
       "Colley    (0.1212121212121212, 0.6383612539081289)\n",
       "Massey    (0.0606060606060606, 0.8405883696421891)\n",
       "dtype: object"
      ]
     },
     "metadata": {},
     "output_type": "display_data"
    },
    {
     "data": {
      "text/markdown": [
       "### top_n = 16"
      ],
      "text/plain": [
       "<IPython.core.display.Markdown object>"
      ]
     },
     "metadata": {},
     "output_type": "display_data"
    },
    {
     "data": {
      "text/markdown": [
       "#### pearsonr"
      ],
      "text/plain": [
       "<IPython.core.display.Markdown object>"
      ]
     },
     "metadata": {},
     "output_type": "display_data"
    },
    {
     "data": {
      "text/plain": [
       "Method\n",
       "Colley    (0.016636022259846575, 0.959074892540342)\n",
       "Massey    (-0.25828316156175785, 0.417629646489386)\n",
       "dtype: object"
      ]
     },
     "metadata": {},
     "output_type": "display_data"
    },
    {
     "data": {
      "text/markdown": [
       "#### kendalltau"
      ],
      "text/plain": [
       "<IPython.core.display.Markdown object>"
      ]
     },
     "metadata": {},
     "output_type": "display_data"
    },
    {
     "data": {
      "text/plain": [
       "Method\n",
       "Colley    (0.0606060606060606, 0.8405883696421891)\n",
       "Massey    (-0.1818181818181818, 0.459023957331249)\n",
       "dtype: object"
      ]
     },
     "metadata": {},
     "output_type": "display_data"
    },
    {
     "data": {
      "text/markdown": [
       "### top_n = 25"
      ],
      "text/plain": [
       "<IPython.core.display.Markdown object>"
      ]
     },
     "metadata": {},
     "output_type": "display_data"
    },
    {
     "data": {
      "text/markdown": [
       "#### pearsonr"
      ],
      "text/plain": [
       "<IPython.core.display.Markdown object>"
      ]
     },
     "metadata": {},
     "output_type": "display_data"
    },
    {
     "data": {
      "text/plain": [
       "Method\n",
       "Colley     (0.09482250998817125, 0.7694227110058466)\n",
       "Massey    (-0.16247452880130597, 0.6139034405303923)\n",
       "dtype: object"
      ]
     },
     "metadata": {},
     "output_type": "display_data"
    },
    {
     "data": {
      "text/markdown": [
       "#### kendalltau"
      ],
      "text/plain": [
       "<IPython.core.display.Markdown object>"
      ]
     },
     "metadata": {},
     "output_type": "display_data"
    },
    {
     "data": {
      "text/plain": [
       "Method\n",
       "Colley      (0.1818181818181818, 0.459023957331249)\n",
       "Massey    (-0.0606060606060606, 0.8405883696421891)\n",
       "dtype: object"
      ]
     },
     "metadata": {},
     "output_type": "display_data"
    },
    {
     "data": {
      "text/markdown": [
       "## var = k/k_worst"
      ],
      "text/plain": [
       "<IPython.core.display.Markdown object>"
      ]
     },
     "metadata": {},
     "output_type": "display_data"
    },
    {
     "data": {
      "text/markdown": [
       "### top_n = 4"
      ],
      "text/plain": [
       "<IPython.core.display.Markdown object>"
      ]
     },
     "metadata": {},
     "output_type": "display_data"
    },
    {
     "data": {
      "text/markdown": [
       "#### pearsonr"
      ],
      "text/plain": [
       "<IPython.core.display.Markdown object>"
      ]
     },
     "metadata": {},
     "output_type": "display_data"
    },
    {
     "data": {
      "text/plain": [
       "Method\n",
       "Colley     (0.3770979987277154, 0.22690408995915465)\n",
       "Massey    (0.44217748150171493, 0.15006127963507665)\n",
       "dtype: object"
      ]
     },
     "metadata": {},
     "output_type": "display_data"
    },
    {
     "data": {
      "text/markdown": [
       "#### kendalltau"
      ],
      "text/plain": [
       "<IPython.core.display.Markdown object>"
      ]
     },
     "metadata": {},
     "output_type": "display_data"
    },
    {
     "data": {
      "text/plain": [
       "Method\n",
       "Colley    (0.2727272727272727, 0.24957952123750735)\n",
       "Massey    (0.39393939393939387, 0.0863171145983646)\n",
       "dtype: object"
      ]
     },
     "metadata": {},
     "output_type": "display_data"
    },
    {
     "data": {
      "text/markdown": [
       "### top_n = 8"
      ],
      "text/plain": [
       "<IPython.core.display.Markdown object>"
      ]
     },
     "metadata": {},
     "output_type": "display_data"
    },
    {
     "data": {
      "text/markdown": [
       "#### pearsonr"
      ],
      "text/plain": [
       "<IPython.core.display.Markdown object>"
      ]
     },
     "metadata": {},
     "output_type": "display_data"
    },
    {
     "data": {
      "text/plain": [
       "Method\n",
       "Colley    (0.31151022776196885, 0.3243103696970954)\n",
       "Massey    (0.12069092714586467, 0.7086805752674555)\n",
       "dtype: object"
      ]
     },
     "metadata": {},
     "output_type": "display_data"
    },
    {
     "data": {
      "text/markdown": [
       "#### kendalltau"
      ],
      "text/plain": [
       "<IPython.core.display.Markdown object>"
      ]
     },
     "metadata": {},
     "output_type": "display_data"
    },
    {
     "data": {
      "text/plain": [
       "Method\n",
       "Colley     (0.1818181818181818, 0.459023957331249)\n",
       "Massey    (0.1212121212121212, 0.6383612539081289)\n",
       "dtype: object"
      ]
     },
     "metadata": {},
     "output_type": "display_data"
    },
    {
     "data": {
      "text/markdown": [
       "### top_n = 16"
      ],
      "text/plain": [
       "<IPython.core.display.Markdown object>"
      ]
     },
     "metadata": {},
     "output_type": "display_data"
    },
    {
     "data": {
      "text/markdown": [
       "#### pearsonr"
      ],
      "text/plain": [
       "<IPython.core.display.Markdown object>"
      ]
     },
     "metadata": {},
     "output_type": "display_data"
    },
    {
     "data": {
      "text/plain": [
       "Method\n",
       "Colley     (0.12758704036193896, 0.6927320895491825)\n",
       "Massey    (-0.21907008462897531, 0.4939234839313335)\n",
       "dtype: object"
      ]
     },
     "metadata": {},
     "output_type": "display_data"
    },
    {
     "data": {
      "text/markdown": [
       "#### kendalltau"
      ],
      "text/plain": [
       "<IPython.core.display.Markdown object>"
      ]
     },
     "metadata": {},
     "output_type": "display_data"
    },
    {
     "data": {
      "text/plain": [
       "Method\n",
       "Colley      (0.1818181818181818, 0.459023957331249)\n",
       "Massey    (-0.1212121212121212, 0.6383612539081289)\n",
       "dtype: object"
      ]
     },
     "metadata": {},
     "output_type": "display_data"
    },
    {
     "data": {
      "text/markdown": [
       "### top_n = 25"
      ],
      "text/plain": [
       "<IPython.core.display.Markdown object>"
      ]
     },
     "metadata": {},
     "output_type": "display_data"
    },
    {
     "data": {
      "text/markdown": [
       "#### pearsonr"
      ],
      "text/plain": [
       "<IPython.core.display.Markdown object>"
      ]
     },
     "metadata": {},
     "output_type": "display_data"
    },
    {
     "data": {
      "text/plain": [
       "Method\n",
       "Colley     (0.20446986179478888, 0.5238274994136501)\n",
       "Massey    (-0.15220977226128976, 0.6367535425657391)\n",
       "dtype: object"
      ]
     },
     "metadata": {},
     "output_type": "display_data"
    },
    {
     "data": {
      "text/markdown": [
       "#### kendalltau"
      ],
      "text/plain": [
       "<IPython.core.display.Markdown object>"
      ]
     },
     "metadata": {},
     "output_type": "display_data"
    },
    {
     "data": {
      "text/plain": [
       "Method\n",
       "Colley     (0.0909090909090909, 0.7373055246579552)\n",
       "Massey    (-0.0909090909090909, 0.7373055246579552)\n",
       "dtype: object"
      ]
     },
     "metadata": {},
     "output_type": "display_data"
    },
    {
     "data": {
      "text/markdown": [
       "## var = k/sum_c"
      ],
      "text/plain": [
       "<IPython.core.display.Markdown object>"
      ]
     },
     "metadata": {},
     "output_type": "display_data"
    },
    {
     "data": {
      "text/markdown": [
       "### top_n = 4"
      ],
      "text/plain": [
       "<IPython.core.display.Markdown object>"
      ]
     },
     "metadata": {},
     "output_type": "display_data"
    },
    {
     "data": {
      "text/markdown": [
       "#### pearsonr"
      ],
      "text/plain": [
       "<IPython.core.display.Markdown object>"
      ]
     },
     "metadata": {},
     "output_type": "display_data"
    },
    {
     "data": {
      "text/plain": [
       "Method\n",
       "Colley    (0.11912838513135712, 0.7123094580640662)\n",
       "Massey    (0.08001084741090371, 0.8047693347994472)\n",
       "dtype: object"
      ]
     },
     "metadata": {},
     "output_type": "display_data"
    },
    {
     "data": {
      "text/markdown": [
       "#### kendalltau"
      ],
      "text/plain": [
       "<IPython.core.display.Markdown object>"
      ]
     },
     "metadata": {},
     "output_type": "display_data"
    },
    {
     "data": {
      "text/plain": [
       "Method\n",
       "Colley    (0.2424242424242424, 0.3108100139957779)\n",
       "Massey    (0.1212121212121212, 0.6383612539081289)\n",
       "dtype: object"
      ]
     },
     "metadata": {},
     "output_type": "display_data"
    },
    {
     "data": {
      "text/markdown": [
       "### top_n = 8"
      ],
      "text/plain": [
       "<IPython.core.display.Markdown object>"
      ]
     },
     "metadata": {},
     "output_type": "display_data"
    },
    {
     "data": {
      "text/markdown": [
       "#### pearsonr"
      ],
      "text/plain": [
       "<IPython.core.display.Markdown object>"
      ]
     },
     "metadata": {},
     "output_type": "display_data"
    },
    {
     "data": {
      "text/plain": [
       "Method\n",
       "Colley     (0.3789993972599416, 0.22437911238954186)\n",
       "Massey    (-0.00818693055869242, 0.9798542760090568)\n",
       "dtype: object"
      ]
     },
     "metadata": {},
     "output_type": "display_data"
    },
    {
     "data": {
      "text/markdown": [
       "#### kendalltau"
      ],
      "text/plain": [
       "<IPython.core.display.Markdown object>"
      ]
     },
     "metadata": {},
     "output_type": "display_data"
    },
    {
     "data": {
      "text/plain": [
       "Method\n",
       "Colley     (0.2424242424242424, 0.3108100139957779)\n",
       "Massey    (-0.0606060606060606, 0.8405883696421891)\n",
       "dtype: object"
      ]
     },
     "metadata": {},
     "output_type": "display_data"
    },
    {
     "data": {
      "text/markdown": [
       "### top_n = 16"
      ],
      "text/plain": [
       "<IPython.core.display.Markdown object>"
      ]
     },
     "metadata": {},
     "output_type": "display_data"
    },
    {
     "data": {
      "text/markdown": [
       "#### pearsonr"
      ],
      "text/plain": [
       "<IPython.core.display.Markdown object>"
      ]
     },
     "metadata": {},
     "output_type": "display_data"
    },
    {
     "data": {
      "text/plain": [
       "Method\n",
       "Colley      (0.15034697609231873, 0.6409323074762807)\n",
       "Massey    (-0.37457971365206016, 0.23027434416566944)\n",
       "dtype: object"
      ]
     },
     "metadata": {},
     "output_type": "display_data"
    },
    {
     "data": {
      "text/markdown": [
       "#### kendalltau"
      ],
      "text/plain": [
       "<IPython.core.display.Markdown object>"
      ]
     },
     "metadata": {},
     "output_type": "display_data"
    },
    {
     "data": {
      "text/plain": [
       "Method\n",
       "Colley      (0.0303030303030303, 0.9465592891547753)\n",
       "Massey    (-0.4545454545454545, 0.04473689858238469)\n",
       "dtype: object"
      ]
     },
     "metadata": {},
     "output_type": "display_data"
    },
    {
     "data": {
      "text/markdown": [
       "### top_n = 25"
      ],
      "text/plain": [
       "<IPython.core.display.Markdown object>"
      ]
     },
     "metadata": {},
     "output_type": "display_data"
    },
    {
     "data": {
      "text/markdown": [
       "#### pearsonr"
      ],
      "text/plain": [
       "<IPython.core.display.Markdown object>"
      ]
     },
     "metadata": {},
     "output_type": "display_data"
    },
    {
     "data": {
      "text/plain": [
       "Method\n",
       "Colley    (0.31503243878737786, 0.31857615657398497)\n",
       "Massey      (-0.2495900026353346, 0.434015784875194)\n",
       "dtype: object"
      ]
     },
     "metadata": {},
     "output_type": "display_data"
    },
    {
     "data": {
      "text/markdown": [
       "#### kendalltau"
      ],
      "text/plain": [
       "<IPython.core.display.Markdown object>"
      ]
     },
     "metadata": {},
     "output_type": "display_data"
    },
    {
     "data": {
      "text/plain": [
       "Method\n",
       "Colley     (0.2121212121212121, 0.38070480349126185)\n",
       "Massey    (-0.2121212121212121, 0.38070480349126185)\n",
       "dtype: object"
      ]
     },
     "metadata": {},
     "output_type": "display_data"
    },
    {
     "data": {
      "text/markdown": [
       "## var = k/(k_worst-k_orig)"
      ],
      "text/plain": [
       "<IPython.core.display.Markdown object>"
      ]
     },
     "metadata": {},
     "output_type": "display_data"
    },
    {
     "data": {
      "text/markdown": [
       "### top_n = 4"
      ],
      "text/plain": [
       "<IPython.core.display.Markdown object>"
      ]
     },
     "metadata": {},
     "output_type": "display_data"
    },
    {
     "data": {
      "text/markdown": [
       "#### pearsonr"
      ],
      "text/plain": [
       "<IPython.core.display.Markdown object>"
      ]
     },
     "metadata": {},
     "output_type": "display_data"
    },
    {
     "data": {
      "text/plain": [
       "Method\n",
       "Colley    (0.38384623538342416, 0.21801934440924317)\n",
       "Massey     (0.3785062785262101, 0.22503232631566708)\n",
       "dtype: object"
      ]
     },
     "metadata": {},
     "output_type": "display_data"
    },
    {
     "data": {
      "text/markdown": [
       "#### kendalltau"
      ],
      "text/plain": [
       "<IPython.core.display.Markdown object>"
      ]
     },
     "metadata": {},
     "output_type": "display_data"
    },
    {
     "data": {
      "text/plain": [
       "Method\n",
       "Colley    (0.2727272727272727, 0.24957952123750735)\n",
       "Massey    (0.3333333333333333, 0.15259045898802842)\n",
       "dtype: object"
      ]
     },
     "metadata": {},
     "output_type": "display_data"
    },
    {
     "data": {
      "text/markdown": [
       "### top_n = 8"
      ],
      "text/plain": [
       "<IPython.core.display.Markdown object>"
      ]
     },
     "metadata": {},
     "output_type": "display_data"
    },
    {
     "data": {
      "text/markdown": [
       "#### pearsonr"
      ],
      "text/plain": [
       "<IPython.core.display.Markdown object>"
      ]
     },
     "metadata": {},
     "output_type": "display_data"
    },
    {
     "data": {
      "text/plain": [
       "Method\n",
       "Colley    (0.31347616693103286, 0.3211028695444383)\n",
       "Massey      (0.08642703466987324, 0.78941258267018)\n",
       "dtype: object"
      ]
     },
     "metadata": {},
     "output_type": "display_data"
    },
    {
     "data": {
      "text/markdown": [
       "#### kendalltau"
      ],
      "text/plain": [
       "<IPython.core.display.Markdown object>"
      ]
     },
     "metadata": {},
     "output_type": "display_data"
    },
    {
     "data": {
      "text/plain": [
       "Method\n",
       "Colley    (0.2424242424242424, 0.3108100139957779)\n",
       "Massey    (0.1212121212121212, 0.6383612539081289)\n",
       "dtype: object"
      ]
     },
     "metadata": {},
     "output_type": "display_data"
    },
    {
     "data": {
      "text/markdown": [
       "### top_n = 16"
      ],
      "text/plain": [
       "<IPython.core.display.Markdown object>"
      ]
     },
     "metadata": {},
     "output_type": "display_data"
    },
    {
     "data": {
      "text/markdown": [
       "#### pearsonr"
      ],
      "text/plain": [
       "<IPython.core.display.Markdown object>"
      ]
     },
     "metadata": {},
     "output_type": "display_data"
    },
    {
     "data": {
      "text/plain": [
       "Method\n",
       "Colley    (0.1832629213021031, 0.5685965436897606)\n",
       "Massey    (-0.1768766555685284, 0.582371207818975)\n",
       "dtype: object"
      ]
     },
     "metadata": {},
     "output_type": "display_data"
    },
    {
     "data": {
      "text/markdown": [
       "#### kendalltau"
      ],
      "text/plain": [
       "<IPython.core.display.Markdown object>"
      ]
     },
     "metadata": {},
     "output_type": "display_data"
    },
    {
     "data": {
      "text/plain": [
       "Method\n",
       "Colley     (0.1212121212121212, 0.6383612539081289)\n",
       "Massey    (-0.1212121212121212, 0.6383612539081289)\n",
       "dtype: object"
      ]
     },
     "metadata": {},
     "output_type": "display_data"
    },
    {
     "data": {
      "text/markdown": [
       "### top_n = 25"
      ],
      "text/plain": [
       "<IPython.core.display.Markdown object>"
      ]
     },
     "metadata": {},
     "output_type": "display_data"
    },
    {
     "data": {
      "text/markdown": [
       "#### pearsonr"
      ],
      "text/plain": [
       "<IPython.core.display.Markdown object>"
      ]
     },
     "metadata": {},
     "output_type": "display_data"
    },
    {
     "data": {
      "text/plain": [
       "Method\n",
       "Colley    (0.2515046250592857, 0.4303803130822559)\n",
       "Massey     (-0.13131703839741, 0.6841528393427341)\n",
       "dtype: object"
      ]
     },
     "metadata": {},
     "output_type": "display_data"
    },
    {
     "data": {
      "text/markdown": [
       "#### kendalltau"
      ],
      "text/plain": [
       "<IPython.core.display.Markdown object>"
      ]
     },
     "metadata": {},
     "output_type": "display_data"
    },
    {
     "data": {
      "text/plain": [
       "Method\n",
       "Colley    (0.2727272727272727, 0.24957952123750735)\n",
       "Massey    (-0.0909090909090909, 0.7373055246579552)\n",
       "dtype: object"
      ]
     },
     "metadata": {},
     "output_type": "display_data"
    }
   ],
   "source": [
    "import scipy\n",
    "display_keys = list(itertools.product(check_vars,top_ns))\n",
    "for var in check_vars:\n",
    "    display(Markdown(f\"## var = {var}\"))\n",
    "    for top_n in top_ns:\n",
    "        display(Markdown(f\"### top_n = {top_n}\"))\n",
    "        data_new = graph_df[['Year','Method',var]].loc[graph_df.top_n == top_n].set_index('Year').drop(years_train).reset_index().copy()\n",
    "        data_new['Method']=data_new['Method'].map({\"Hillside(Massey Params)\":\"Massey\",\"Hillside(Colley Params)\":\"Colley\"})\n",
    "        data_new.set_index(['Year','Method'],inplace=True)\n",
    "        data_new\n",
    "        for_corr = data_new.join(predictability.set_index(['Year','Method'])).reset_index()\n",
    "        display(Markdown('#### pearsonr'))\n",
    "        display(for_corr.groupby('Method').apply(lambda df: scipy.stats.pearsonr(df[var],df['Score'])))\n",
    "        display(Markdown('#### kendalltau'))\n",
    "        display(for_corr.groupby('Method').apply(lambda df: scipy.stats.kendalltau(df[var],df['Score'])))"
   ]
  },
  {
   "cell_type": "code",
   "execution_count": 374,
   "metadata": {},
   "outputs": [
    {
     "data": {
      "text/plain": [
       "Method\n",
       "Colley    (0.39283136542554026, 0.11880879476404413)\n",
       "Massey      (0.444729450471552, 0.07366579611903842)\n",
       "dtype: object"
      ]
     },
     "execution_count": 374,
     "metadata": {},
     "output_type": "execute_result"
    }
   ],
   "source": [
    "import scipy\n",
    "data_new = graph_df[['Year','Method',var]].loc[graph_df.top_n == 4].copy()\n",
    "data_new['Method']=data_new['Method'].map({\"Hillside(Massey Params)\":\"Massey\",\"Hillside(Colley Params)\":\"Colley\"})\n",
    "data_new.set_index(['Year','Method'],inplace=True)\n",
    "data_new\n",
    "for_corr = data_new.join(predictability.set_index(['Year','Method'])).reset_index()\n",
    "for_corr.groupby('Method').apply(lambda df: scipy.stats.pearsonr(df[var],df['Score']))"
   ]
  },
  {
   "cell_type": "code",
   "execution_count": 375,
   "metadata": {},
   "outputs": [
    {
     "data": {
      "text/plain": [
       "Method\n",
       "Colley    (0.2983891279352271, 0.24469909211815857)\n",
       "Massey     (0.23592178410165124, 0.361979098202793)\n",
       "dtype: object"
      ]
     },
     "execution_count": 375,
     "metadata": {},
     "output_type": "execute_result"
    }
   ],
   "source": [
    "import scipy\n",
    "data_new = graph_df[['Year','Method',var]].loc[graph_df.top_n == 8].copy()\n",
    "data_new['Method']=data_new['Method'].map({\"Hillside(Massey Params)\":\"Massey\",\"Hillside(Colley Params)\":\"Colley\"})\n",
    "data_new.set_index(['Year','Method'],inplace=True)\n",
    "data_new\n",
    "for_corr = data_new.join(predictability.set_index(['Year','Method'])).reset_index()\n",
    "for_corr.groupby('Method').apply(lambda df: scipy.stats.pearsonr(df[var],df['Score']))"
   ]
  },
  {
   "cell_type": "code",
   "execution_count": 376,
   "metadata": {},
   "outputs": [
    {
     "data": {
      "text/plain": [
       "Method\n",
       "Colley     (-0.0972196396596853, 0.7104917966217039)\n",
       "Massey    (-0.26154539274017646, 0.3105673534545875)\n",
       "dtype: object"
      ]
     },
     "execution_count": 376,
     "metadata": {},
     "output_type": "execute_result"
    }
   ],
   "source": [
    "import scipy\n",
    "data_new = graph_df[['Year','Method',var]].loc[graph_df.top_n == 29].copy()\n",
    "data_new['Method']=data_new['Method'].map({\"Hillside(Massey Params)\":\"Massey\",\"Hillside(Colley Params)\":\"Colley\"})\n",
    "data_new.set_index(['Year','Method'],inplace=True)\n",
    "data_new\n",
    "for_corr = data_new.join(predictability.set_index(['Year','Method'])).reset_index()\n",
    "for_corr.groupby('Method').apply(lambda df: scipy.stats.pearsonr(df[var],df['Score']))"
   ]
  },
  {
   "cell_type": "code",
   "execution_count": 22,
   "metadata": {},
   "outputs": [
    {
     "name": "stderr",
     "output_type": "stream",
     "text": [
      "\n",
      "\n",
      "\n",
      "\n",
      "\n",
      "\n",
      "\n",
      "\n",
      "  0%|          | 0/102 [00:00<?, ?it/s]\u001b[A\u001b[A\u001b[A\u001b[A\u001b[A\u001b[A\u001b[A\u001b[A\n",
      "\n",
      "\n",
      "\n",
      "\n",
      "\n",
      "\n",
      "\n",
      "  1%|          | 1/102 [01:00<1:41:40, 60.40s/it]\u001b[A\u001b[A\u001b[A\u001b[A\u001b[A\u001b[A\u001b[A\u001b[A\n",
      "\n",
      "\n",
      "\n",
      "\n",
      "\n",
      "\n",
      "\n",
      "  2%|▏         | 2/102 [01:53<1:37:01, 58.21s/it]\u001b[A\u001b[A\u001b[A\u001b[A\u001b[A\u001b[A\u001b[A\u001b[A\n",
      "\n",
      "\n",
      "\n",
      "\n",
      "\n",
      "\n",
      "\n",
      "  3%|▎         | 3/102 [02:50<1:35:23, 57.82s/it]\u001b[A\u001b[A\u001b[A\u001b[A\u001b[A\u001b[A\u001b[A\u001b[A\n",
      "\n",
      "\n",
      "\n",
      "\n",
      "\n",
      "\n",
      "\n",
      "  4%|▍         | 4/102 [03:51<1:36:00, 58.78s/it]\u001b[A\u001b[A\u001b[A\u001b[A\u001b[A\u001b[A\u001b[A\u001b[A\n",
      "\n",
      "\n",
      "\n",
      "\n",
      "\n",
      "\n",
      "\n",
      "  5%|▍         | 5/102 [04:49<1:34:54, 58.70s/it]\u001b[A\u001b[A\u001b[A\u001b[A\u001b[A\u001b[A\u001b[A\u001b[A\n",
      "\n",
      "\n",
      "\n",
      "\n",
      "\n",
      "\n",
      "\n",
      "  6%|▌         | 6/102 [05:53<1:36:09, 60.10s/it]\u001b[A\u001b[A\u001b[A\u001b[A\u001b[A\u001b[A\u001b[A\u001b[A\n",
      "\n",
      "\n",
      "\n",
      "\n",
      "\n",
      "\n",
      "\n",
      "  7%|▋         | 7/102 [06:51<1:34:14, 59.52s/it]\u001b[A\u001b[A\u001b[A\u001b[A\u001b[A\u001b[A\u001b[A\u001b[A\n",
      "\n",
      "\n",
      "\n",
      "\n",
      "\n",
      "\n",
      "\n",
      "  8%|▊         | 8/102 [07:51<1:33:32, 59.71s/it]\u001b[A\u001b[A\u001b[A\u001b[A\u001b[A\u001b[A\u001b[A\u001b[A\n",
      "\n",
      "\n",
      "\n",
      "\n",
      "\n",
      "\n",
      "\n",
      "  9%|▉         | 9/102 [08:57<1:35:34, 61.66s/it]\u001b[A\u001b[A\u001b[A\u001b[A\u001b[A\u001b[A\u001b[A\u001b[A\n",
      "\n",
      "\n",
      "\n",
      "\n",
      "\n",
      "\n",
      "\n",
      " 10%|▉         | 10/102 [10:07<1:38:07, 63.99s/it]\u001b[A\u001b[A\u001b[A\u001b[A\u001b[A\u001b[A\u001b[A\u001b[A\n",
      "\n",
      "\n",
      "\n",
      "\n",
      "\n",
      "\n",
      "\n",
      " 11%|█         | 11/102 [11:13<1:37:55, 64.57s/it]\u001b[A\u001b[A\u001b[A\u001b[A\u001b[A\u001b[A\u001b[A\u001b[A\n",
      "\n",
      "\n",
      "\n",
      "\n",
      "\n",
      "\n",
      "\n",
      " 12%|█▏        | 12/102 [12:21<1:38:18, 65.54s/it]\u001b[A\u001b[A\u001b[A\u001b[A\u001b[A\u001b[A\u001b[A\u001b[A\n",
      "\n",
      "\n",
      "\n",
      "\n",
      "\n",
      "\n",
      "\n",
      " 13%|█▎        | 13/102 [13:29<1:38:23, 66.33s/it]\u001b[A\u001b[A\u001b[A\u001b[A\u001b[A\u001b[A\u001b[A\u001b[A\n",
      "\n",
      "\n",
      "\n",
      "\n",
      "\n",
      "\n",
      "\n",
      " 14%|█▎        | 14/102 [14:40<1:39:26, 67.80s/it]\u001b[A\u001b[A\u001b[A\u001b[A\u001b[A\u001b[A\u001b[A\u001b[A\n",
      "\n",
      "\n",
      "\n",
      "\n",
      "\n",
      "\n",
      "\n",
      " 15%|█▍        | 15/102 [15:53<1:40:35, 69.37s/it]\u001b[A\u001b[A\u001b[A\u001b[A\u001b[A\u001b[A\u001b[A\u001b[A\n",
      "\n",
      "\n",
      "\n",
      "\n",
      "\n",
      "\n",
      "\n",
      " 16%|█▌        | 16/102 [16:50<1:34:04, 65.63s/it]\u001b[A\u001b[A\u001b[A\u001b[A\u001b[A\u001b[A\u001b[A\u001b[A\n",
      "\n",
      "\n",
      "\n",
      "\n",
      "\n",
      "\n",
      "\n",
      " 17%|█▋        | 17/102 [17:52<1:31:29, 64.58s/it]\u001b[A\u001b[A\u001b[A\u001b[A\u001b[A\u001b[A\u001b[A\u001b[A\n",
      "\n",
      "\n",
      "\n",
      "\n",
      "\n",
      "\n",
      "\n",
      " 18%|█▊        | 18/102 [18:32<1:20:12, 57.29s/it]\u001b[A\u001b[A\u001b[A\u001b[A\u001b[A\u001b[A\u001b[A\u001b[A\n",
      "\n",
      "\n",
      "\n",
      "\n",
      "\n",
      "\n",
      "\n",
      " 19%|█▊        | 19/102 [19:07<1:09:52, 50.52s/it]\u001b[A\u001b[A\u001b[A\u001b[A\u001b[A\u001b[A\u001b[A\u001b[A\n",
      "\n",
      "\n",
      "\n",
      "\n",
      "\n",
      "\n",
      "\n",
      " 20%|█▉        | 20/102 [19:46<1:04:28, 47.18s/it]\u001b[A\u001b[A\u001b[A\u001b[A\u001b[A\u001b[A\u001b[A\u001b[A\n",
      "\n",
      "\n",
      "\n",
      "\n",
      "\n",
      "\n",
      "\n",
      " 21%|██        | 21/102 [20:27<1:00:55, 45.13s/it]\u001b[A\u001b[A\u001b[A\u001b[A\u001b[A\u001b[A\u001b[A\u001b[A\n",
      "\n",
      "\n",
      "\n",
      "\n",
      "\n",
      "\n",
      "\n",
      " 22%|██▏       | 22/102 [21:11<59:42, 44.79s/it]  \u001b[A\u001b[A\u001b[A\u001b[A\u001b[A\u001b[A\u001b[A\u001b[A\n",
      "\n",
      "\n",
      "\n",
      "\n",
      "\n",
      "\n",
      "\n",
      " 23%|██▎       | 23/102 [21:53<58:08, 44.16s/it]\u001b[A\u001b[A\u001b[A\u001b[A\u001b[A\u001b[A\u001b[A\u001b[A\n",
      "\n",
      "\n",
      "\n",
      "\n",
      "\n",
      "\n",
      "\n",
      " 24%|██▎       | 24/102 [22:31<54:49, 42.17s/it]\u001b[A\u001b[A\u001b[A\u001b[A\u001b[A\u001b[A\u001b[A\u001b[A\n",
      "\n",
      "\n",
      "\n",
      "\n",
      "\n",
      "\n",
      "\n",
      " 25%|██▍       | 25/102 [23:04<50:42, 39.51s/it]\u001b[A\u001b[A\u001b[A\u001b[A\u001b[A\u001b[A\u001b[A\u001b[A\n",
      "\n",
      "\n",
      "\n",
      "\n",
      "\n",
      "\n",
      "\n",
      " 25%|██▌       | 26/102 [23:48<51:35, 40.73s/it]\u001b[A\u001b[A\u001b[A\u001b[A\u001b[A\u001b[A\u001b[A\u001b[A\n",
      "\n",
      "\n",
      "\n",
      "\n",
      "\n",
      "\n",
      "\n",
      " 26%|██▋       | 27/102 [24:37<54:01, 43.22s/it]\u001b[A\u001b[A\u001b[A\u001b[A\u001b[A\u001b[A\u001b[A\u001b[A\n",
      "\n",
      "\n",
      "\n",
      "\n",
      "\n",
      "\n",
      "\n",
      " 27%|██▋       | 28/102 [25:21<53:42, 43.55s/it]\u001b[A\u001b[A\u001b[A\u001b[A\u001b[A\u001b[A\u001b[A\u001b[A\n",
      "\n",
      "\n",
      "\n",
      "\n",
      "\n",
      "\n",
      "\n",
      " 28%|██▊       | 29/102 [26:09<54:37, 44.90s/it]\u001b[A\u001b[A\u001b[A\u001b[A\u001b[A\u001b[A\u001b[A\u001b[A\n",
      "\n",
      "\n",
      "\n",
      "\n",
      "\n",
      "\n",
      "\n",
      " 29%|██▉       | 30/102 [26:57<54:58, 45.81s/it]\u001b[A\u001b[A\u001b[A\u001b[A\u001b[A\u001b[A\u001b[A\u001b[A\n",
      "\n",
      "\n",
      "\n",
      "\n",
      "\n",
      "\n",
      "\n",
      " 30%|███       | 31/102 [27:46<55:14, 46.68s/it]\u001b[A\u001b[A\u001b[A\u001b[A\u001b[A\u001b[A\u001b[A\u001b[A\n",
      "\n",
      "\n",
      "\n",
      "\n",
      "\n",
      "\n",
      "\n",
      " 31%|███▏      | 32/102 [28:34<54:49, 46.99s/it]\u001b[A\u001b[A\u001b[A\u001b[A\u001b[A\u001b[A\u001b[A\u001b[A\n",
      "\n",
      "\n",
      "\n",
      "\n",
      "\n",
      "\n",
      "\n",
      " 32%|███▏      | 33/102 [29:08<49:39, 43.18s/it]\u001b[A\u001b[A\u001b[A\u001b[A\u001b[A\u001b[A\u001b[A\u001b[A\n",
      "\n",
      "\n",
      "\n",
      "\n",
      "\n",
      "\n",
      "\n",
      " 33%|███▎      | 34/102 [29:48<48:02, 42.39s/it]\u001b[A\u001b[A\u001b[A\u001b[A\u001b[A\u001b[A\u001b[A\u001b[A"
     ]
    },
    {
     "ename": "TypeError",
     "evalue": "can only concatenate list (not \"NoneType\") to list",
     "output_type": "error",
     "traceback": [
      "\u001b[0;31m---------------------------------------------------------------------------\u001b[0m",
      "\u001b[0;31mTypeError\u001b[0m                                 Traceback (most recent call last)",
      "\u001b[0;32m<ipython-input-22-30d54a8f580b>\u001b[0m in \u001b[0;36m<module>\u001b[0;34m\u001b[0m\n\u001b[1;32m     23\u001b[0m         \u001b[0mteam_range\u001b[0m \u001b[0;34m=\u001b[0m \u001b[0mall_teams\u001b[0m\u001b[0;34m[\u001b[0m\u001b[0myear\u001b[0m\u001b[0;34m]\u001b[0m\u001b[0;34m\u001b[0m\u001b[0;34m\u001b[0m\u001b[0m\n\u001b[1;32m     24\u001b[0m \u001b[0;34m\u001b[0m\u001b[0m\n\u001b[0;32m---> 25\u001b[0;31m     \u001b[0mcolumns\u001b[0m \u001b[0;34m=\u001b[0m \u001b[0;34m[\u001b[0m\u001b[0;34m\"frac\"\u001b[0m\u001b[0;34m,\u001b[0m\u001b[0;34m\"direct_thres\"\u001b[0m\u001b[0;34m,\u001b[0m\u001b[0;34m\"spread_thres\"\u001b[0m\u001b[0;34m,\u001b[0m\u001b[0;34m\"weight_indirect\"\u001b[0m\u001b[0;34m]\u001b[0m\u001b[0;34m+\u001b[0m\u001b[0mteam_range\u001b[0m\u001b[0;34m\u001b[0m\u001b[0;34m\u001b[0m\u001b[0m\n\u001b[0m\u001b[1;32m     26\u001b[0m     \u001b[0mmassey_rankings\u001b[0m\u001b[0;34m[\u001b[0m\u001b[0;34m(\u001b[0m\u001b[0mdomain_range\u001b[0m\u001b[0;34m,\u001b[0m\u001b[0myear\u001b[0m\u001b[0;34m)\u001b[0m\u001b[0;34m]\u001b[0m \u001b[0;34m=\u001b[0m \u001b[0mpd\u001b[0m\u001b[0;34m.\u001b[0m\u001b[0mDataFrame\u001b[0m\u001b[0;34m(\u001b[0m\u001b[0mcolumns\u001b[0m\u001b[0;34m=\u001b[0m\u001b[0mcolumns\u001b[0m\u001b[0;34m)\u001b[0m\u001b[0;34m\u001b[0m\u001b[0;34m\u001b[0m\u001b[0m\n\u001b[1;32m     27\u001b[0m     \u001b[0mcolley_rankings\u001b[0m\u001b[0;34m[\u001b[0m\u001b[0;34m(\u001b[0m\u001b[0mdomain_range\u001b[0m\u001b[0;34m,\u001b[0m\u001b[0myear\u001b[0m\u001b[0;34m)\u001b[0m\u001b[0;34m]\u001b[0m \u001b[0;34m=\u001b[0m \u001b[0mpd\u001b[0m\u001b[0;34m.\u001b[0m\u001b[0mDataFrame\u001b[0m\u001b[0;34m(\u001b[0m\u001b[0mcolumns\u001b[0m\u001b[0;34m=\u001b[0m\u001b[0mcolumns\u001b[0m\u001b[0;34m)\u001b[0m\u001b[0;34m\u001b[0m\u001b[0;34m\u001b[0m\u001b[0m\n",
      "\u001b[0;31mTypeError\u001b[0m: can only concatenate list (not \"NoneType\") to list"
     ]
    }
   ],
   "source": [
    "massey_rankings = {}\n",
    "colley_rankings = {}\n",
    "hillside_details = {}\n",
    "massey_rs = {}\n",
    "colley_rs = {}\n",
    "\n",
    "outer_keys = list(itertools.product(domains_ranges,years))\n",
    "for domain_range,year in tqdm(outer_keys):\n",
    "    # set the team_domain\n",
    "    team_domain = None\n",
    "    if domain_range[0] == 'madness':\n",
    "        team_domain = madness_teams[year]\n",
    "    elif domain_range[0] == 'all':\n",
    "        team_domain = all_teams[year]\n",
    "\n",
    "    # set the team_range\n",
    "    team_range = None\n",
    "    if domain_range[1] == 'madness':\n",
    "        team_range = madness_teams[year]\n",
    "    elif domain_range[1] == 'all':\n",
    "        team_range = all_teams[year]\n",
    "    elif \"top\" in domain_range:\n",
    "        team_range = all_teams[year]\n",
    "\n",
    "    columns = [\"frac\",\"direct_thres\",\"spread_thres\",\"weight_indirect\"]+team_range\n",
    "    massey_rankings[(domain_range,year)] = pd.DataFrame(columns=columns)\n",
    "    colley_rankings[(domain_range,year)] = pd.DataFrame(columns=columns)\n",
    "    massey_rs[(domain_range,year)] = pd.DataFrame(columns=columns)\n",
    "    colley_rs[(domain_range,year)] = pd.DataFrame(columns=columns)\n",
    "    hillside_columns = [\"frac\",\"direct_thres\",\"spread_thres\",\"weight_indirect\",\"details\"]\n",
    "    hillside_details[(domain_range,year)] = pd.DataFrame(columns=hillside_columns)\n",
    "\n",
    "    game_df = pd.DataFrame({\"team1_name\":games[year]['team1_name'],\n",
    "                            \"team1_score\":games[year]['points1'],\n",
    "                            \"team1_H_A_N\": games[year]['H_A_N1'],\n",
    "                            \"team2_name\":games[year]['team2_name'],\n",
    "                            \"team2_score\":games[year]['points2'],\n",
    "                            \"team2_H_A_N\": games[year]['H_A_N1'],\n",
    "                            \"date\": games[year]['date']\n",
    "                           }).sort_values(by='date').drop('date',axis=1)\n",
    "    mask = game_df.team1_name.isin(team_domain) & game_df.team2_name.isin(team_domain)\n",
    "    game_df = game_df.loc[mask]\n",
    "\n",
    "    keys = list(itertools.product(fracs,direct_thress,spread_thress,weight_indirects))\n",
    "\n",
    "    def compute(frac,direct_thres,spread_thres,weight_indirect):\n",
    "        upper = int(len(game_df)*frac)\n",
    "        game_df_sample = game_df.iloc[:upper,:]\n",
    "\n",
    "        map_func = lambda linked: pyrankability.construct.colley_matrices(linked,direct_thres=direct_thres,spread_thres=spread_thres,weight_indirect=weight_indirect)\n",
    "        colley_matrix,colley_b = pyrankability.construct.map_vectorized(game_df_sample,map_func)\n",
    "        colley_matrix = colley_matrix.reindex(index=team_range,columns=team_range)\n",
    "        colley_b = colley_b.reindex(team_range)\n",
    "        mask = colley_b.isna()\n",
    "        colley_b = colley_b.loc[~mask]\n",
    "        colley_matrix = colley_matrix.loc[~mask,~mask]\n",
    "        inxs = list(np.where(mask)[0])\n",
    "        ranking1,r1 = pyrankability.construct.ranking_from_matrices(colley_matrix.fillna(0),colley_b,inxs)\n",
    "\n",
    "        map_func = lambda linked: pyrankability.construct.massey_matrices(linked,direct_thres=direct_thres,spread_thres=spread_thres,weight_indirect=weight_indirect)\n",
    "        massey_matrix,massey_b = pyrankability.construct.map_vectorized(game_df_sample,map_func)\n",
    "        massey_matrix = massey_matrix.reindex(index=team_range,columns=team_range)\n",
    "        massey_b = massey_b.reindex(team_range)\n",
    "        mask = massey_b.isna()\n",
    "        massey_b = massey_b.loc[~mask]\n",
    "        massey_matrix = massey_matrix.loc[~mask,~mask]    \n",
    "        inxs = list(np.where(mask)[0])    \n",
    "        ranking2,r2 = pyrankability.construct.ranking_from_matrices(massey_matrix.fillna(0),massey_b,inxs)\n",
    "        ranking_values1 = [frac,direct_thres,spread_thres,weight_indirect]+list(ranking1)\n",
    "        ranking_values2 = [frac,direct_thres,spread_thres,weight_indirect]+list(ranking2)\n",
    "        r_values1 = [frac,direct_thres,spread_thres,weight_indirect]+list(r1)\n",
    "        r_values2 = [frac,direct_thres,spread_thres,weight_indirect]+list(r2)\n",
    "        \n",
    "        map_func = lambda linked: pyrankability.construct.support_map_vectorized_direct_indirect_weighted(linked,direct_thres=direct_thres,spread_thres=spread_thres,weight_indirect=weight_indirect)\n",
    "        D = pyrankability.construct.V_count_vectorized(game_df_sample,map_func).reindex(index=team_range,columns=team_range)\n",
    "        k,details = pyrankability.rank.solve(D,method='hillside',lazy=False,cont=True)\n",
    "        x = pd.DataFrame(details['x'],columns=D.columns,index=D.index)\n",
    "        c = pd.DataFrame(pyrankability.construct.C_count(D),columns=D.columns,index=D.index)\n",
    "        P = details['P']\n",
    "        simple_details = {'k':k,'x':x,'c':c,'P':P}\n",
    "        hillside_ret = pd.Series([frac,direct_thres,spread_thres,weight_indirect,simple_details],index=hillside_columns)\n",
    "        return pd.Series(ranking_values1,index=columns),pd.Series(ranking_values2,index=columns),pd.Series(r_values1,index=columns),pd.Series(r_values2,index=columns),hillside_ret\n",
    "\n",
    "    #frac,direct_thres,spread_thres,weight_indirect = keys[0]\n",
    "    #compute(frac,direct_thres,spread_thres,weight_indirect)\n",
    "    results = Parallel(n_jobs=-1)(delayed(compute)(frac,direct_thres,spread_thres,weight_indirect) for frac,direct_thres,spread_thres,weight_indirect in keys)\n",
    "\n",
    "    c = 0\n",
    "    for i,key in enumerate(keys):\n",
    "        frac,direct_thres,spread_thres,weight_indirect = key\n",
    "        massey,colley,massey_r,colley_r,hillside_ret = results[i]\n",
    "        massey.name = c\n",
    "        colley.name = c\n",
    "        colley_r.name=c\n",
    "        massey_r.name=c\n",
    "        hillside_ret.name=c\n",
    "        massey_rankings[(domain_range,year)] = massey_rankings[(domain_range,year)].append(massey)\n",
    "        colley_rankings[(domain_range,year)] = colley_rankings[(domain_range,year)].append(colley)\n",
    "        hillside_details[(domain_range,year)] = hillside_details[(domain_range,year)].append(hillside_ret)\n",
    "        massey_rs[(domain_range,year)] = massey_rs[(domain_range,year)].append(massey_r)\n",
    "        colley_rs[(domain_range,year)] = colley_rs[(domain_range,year)].append(colley_r)\n",
    "        c+=1"
   ]
  },
  {
   "cell_type": "code",
   "execution_count": null,
   "metadata": {},
   "outputs": [],
   "source": [
    "joblib.dump({\"colley_rankings\":colley_rankings,\"massey_rankings\":massey_rankings,\"massey_rs\":massey_rs,\"colley_rs\":colley_rs},\"checkpoint1.joblib.z\");"
   ]
  },
  {
   "cell_type": "code",
   "execution_count": null,
   "metadata": {},
   "outputs": [],
   "source": []
  }
 ],
 "metadata": {
  "kernelspec": {
   "display_name": "Python 3",
   "language": "python",
   "name": "python3"
  },
  "language_info": {
   "codemirror_mode": {
    "name": "ipython",
    "version": 3
   },
   "file_extension": ".py",
   "mimetype": "text/x-python",
   "name": "python",
   "nbconvert_exporter": "python",
   "pygments_lexer": "ipython3",
   "version": "3.6.9"
  }
 },
 "nbformat": 4,
 "nbformat_minor": 4
}
